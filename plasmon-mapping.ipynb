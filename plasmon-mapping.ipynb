{
 "cells": [
  {
   "cell_type": "markdown",
   "metadata": {
    "ExecuteTime": {
     "end_time": "2018-06-04T07:24:10.994380Z",
     "start_time": "2018-06-04T07:24:06.480159Z"
    }
   },
   "source": [
    "# Header"
   ]
  },
  {
   "cell_type": "code",
   "execution_count": 1,
   "metadata": {
    "ExecuteTime": {
     "end_time": "2018-10-29T10:10:48.810106Z",
     "start_time": "2018-10-29T10:10:48.803468Z"
    }
   },
   "outputs": [
    {
     "name": "stderr",
     "output_type": "stream",
     "text": [
      "/home/max/Apps/anaconda3/envs/Hyperspy/lib/python3.6/site-packages/matplotlib/__init__.py:846: MatplotlibDeprecationWarning: \n",
      "The text.latex.unicode rcparam was deprecated in Matplotlib 2.2 and will be removed in 3.1.\n",
      "  \"2.2\", name=key, obj_type=\"rcparam\", addendum=addendum)\n",
      "/home/max/Apps/anaconda3/envs/Hyperspy/lib/python3.6/site-packages/dask/config.py:168: YAMLLoadWarning: calling yaml.load() without Loader=... is deprecated, as the default Loader is unsafe. Please read https://msg.pyyaml.org/load for full details.\n",
      "  data = yaml.load(f.read()) or {}\n"
     ]
    },
    {
     "data": {
      "application/vnd.jupyter.widget-view+json": {
       "model_id": "371a1d74260643cfb2c85fd2387cff8f",
       "version_major": 2,
       "version_minor": 0
      },
      "text/plain": [
       "VBox(children=(Tab(children=(VBox(children=(HBox(children=(Label(value='Expand structures in DictionaryTreeBro…"
      ]
     },
     "metadata": {},
     "output_type": "display_data"
    }
   ],
   "source": [
    "#Loading Hyperspy Utilities and additional libraries\n",
    "%matplotlib qt5\n",
    "import numpy as np\n",
    "import hyperspy\n",
    "import hyperspy.api as hs\n",
    "import matplotlib.pyplot as plt\n",
    "import matplotlib.patches as mpatches\n",
    "import matplotlib as mpl\n",
    "import matplotlib.image as mpimg\n",
    "from tqdm import tqdm, trange, tnrange, tqdm_notebook\n",
    "import cv2\n",
    "import sys\n",
    "import os\n",
    "from sympy import Symbol\n",
    "from joblib import Parallel, delayed\n",
    "import multiprocessing\n",
    "hs.preferences.gui(toolkit='ipywidgets')\n",
    "\n",
    "#Loading libraries for watershed-analysis\n",
    "import mendeleev as mend\n",
    "import sympy\n",
    "import scipy\n",
    "from scipy.signal import argrelextrema\n",
    "from scipy import ndimage as ndi\n",
    "from scipy.optimize import curve_fit\n",
    "from skimage.filters import rank\n",
    "from skimage.morphology import (\n",
    "    watershed, disk, diamond, binary_erosion, binary_dilation)\n",
    "from skimage.util import img_as_ubyte"
   ]
  },
  {
   "cell_type": "markdown",
   "metadata": {},
   "source": [
    "# Mapping automation _Plasmon-characteristics_ "
   ]
  },
  {
   "cell_type": "markdown",
   "metadata": {},
   "source": [
    "## Class _Plasmon feature Mapping_"
   ]
  },
  {
   "cell_type": "code",
   "execution_count": 4,
   "metadata": {
    "ExecuteTime": {
     "end_time": "2018-12-05T11:24:20.015097Z",
     "start_time": "2018-12-05T11:24:19.905730Z"
    }
   },
   "outputs": [],
   "source": [
    "# Class shall be used to map shear-transformation-zones for an image to visualize \n",
    "# shear-bands by considering energy-shifts of the plasmon-peaks aligned with the ZLP\n",
    "class Plasmon_mapper(object): \n",
    "\n",
    "    # Initialize the class for STZ-mapping \n",
    "    def __init__(self, \n",
    "                 filename      = '', \n",
    "                 file          = None,\n",
    "                 is_stack      = False, \n",
    "                 is_lazy       = False, \n",
    "                 binning       = True, \n",
    "                 includes_fits = False,\n",
    "                 deconv        = False\n",
    "                ):\n",
    "        \"\"\"\n",
    "        Plasmon_mapper: \n",
    "                    With careful analysis of an EELS-image the change of the spatial electron density\n",
    "                    and additional thickness analysis, the MSER algorithm generates segments of the \n",
    "                    sheared regions and evaluates orientation of sheared regions, as the strain\n",
    "                    impacts on the Plasmon resonance energy.\n",
    "                    Different outputs are possible to analyze the parameter shifts of the plasmon \n",
    "                    signature in the specimen.\n",
    "                    \n",
    "                    The minimum size of the spectrum image/list supported by this class is: \n",
    "                    (1-dim: 10 | 2-dim: 10*10=100) \n",
    "        ----------------------------------------------------------------------------------------------\n",
    "        Initialization parameters:\n",
    "                    filename: STRING      - specify filename and directory to load the EELS-image generated \n",
    "                                            (e.g. in GATAN)\n",
    "                    file: Hyperspy-Signal - only use this when not using filename. Previously initia-\n",
    "                                            lized Hyperspy Signals object. Read more on the Signals \n",
    "                                            objects http://hyperspy.org/hyperspy-doc/\n",
    "                    is_stack: BOOLEAN     - loading multiple files by a wildcard \"*\"\n",
    "                    \n",
    "                    is_lazy: BOOLEAN      - to analyze big data (e.g. .dm4 - files) can be a problematic\n",
    "                                            thing to due high memory requirements, therefore instead of\n",
    "                                            using a numpy nd.array one can fall back to dask.dask_array\n",
    "                                            resulting in an object which consists of multiple numpy arrays.\n",
    "                                            This makes it possible to only work on parts of the datafile\n",
    "                                            and therefore requiring only a small part of the memory require-\n",
    "                                            ments.\n",
    "                    binning: BOOLEAN      - operate on binned datasets. Due to caution set to FALSE as \n",
    "                                            default! Preferably, the datasets should only be binned using\n",
    "                                            hyperspy to verify correct results.\n",
    "        \"\"\"\n",
    "        self.Filename          = ''\n",
    "        self.File              = None\n",
    "        \n",
    "        self.File_deconv       = None\n",
    "        self.attr_deconv       = deconv\n",
    "        \n",
    "        self.Darkfield         = None\n",
    "        \n",
    "        self.Fit_Model         = None\n",
    "        self.models_dict       = { '0' : 'VolumePlasmonDrude_leastsq_ls',\n",
    "                                   '1' : 'VolumePlasmonDrude_mpfit_ls',\n",
    "                                   '2' : 'VolumePlasmonDrude_NelderMead_ml',\n",
    "                                   '3' : 'Lorentzian_leastsq_ls',\n",
    "                                   '4' : 'Lorentzian_mpfit_ls',\n",
    "                                   '5' : 'Lorentzian_NelderMead_ml',\n",
    "                                   '6' : 'Gaussian_leastsq_ls',\n",
    "                                   '7' : 'Gaussian_mpfit_ls',\n",
    "                                   '8' : 'Gaussian_NelderMead_ml',\n",
    "                                   '9' : 'Voigt_leastsq_ls',\n",
    "                                   '10' : 'Voigt_mpfit_ls',\n",
    "                                   '11' : 'Voigt_NelderMead_ml'\n",
    "                                 }\n",
    "        \n",
    "        self.Chisq             = None\n",
    "        self.red_Chisq         = None\n",
    "        \n",
    "        self.rchisq_mean       = None\n",
    "        self.rchisq_std        = None\n",
    "        \n",
    "        self.eels_axis         = None\n",
    "        self.function_set      = None\n",
    "        self.model_name        = None\n",
    "        \n",
    "        self.ZLP_Emax          = None\n",
    "        self.ZLP_FWHM          = None\n",
    "        self.ZLP_Int           = None\n",
    "        \n",
    "        self.FPP_Emax          = None\n",
    "        self.FPP_FWHM          = None\n",
    "        self.FPP_Int           = None\n",
    "        self.SPP_Emax          = None\n",
    "        self.SPP_FWHM          = None\n",
    "        self.SPP_Int           = None\n",
    "        \n",
    "        self.Ep_q0             = None\n",
    "        \n",
    "        self.param_dict        = {}\n",
    "        self.param_dict_deconv = {}\n",
    "        \n",
    "        self.line_scans        = {}\n",
    "\n",
    "        self.Elements          = None\n",
    "        self.Concentrations    = None\n",
    "        self.thickness_map     = None\n",
    "        \n",
    "        self.dir_list          = ['Parameter Maps', \n",
    "                                  'Thickness Evaluation', \n",
    "                                  'Density Analysis', \n",
    "                                  'Plasmon characteristics'\n",
    "                                 ]\n",
    "        \n",
    "        self.roi               = None\n",
    "        self.roi_Ep            = None\n",
    "        self.line              = None\n",
    "        \n",
    "        self.elastic_threshold = None # arithmetic mean of the elastic threshold over the navigation space\n",
    "        self.elastic_intensity = None\n",
    "        \n",
    "        self.load_data(filename, \n",
    "                       file, \n",
    "                       is_stack, \n",
    "                       is_lazy, \n",
    "                       binning\n",
    "                      )\n",
    "        \n",
    "    \n",
    "    def print_file_information(self):\n",
    "        \"\"\"\n",
    "        Printing standard metadata of file for beam and detector information as well as dataset information\n",
    "        and the currently stored models of the file\n",
    "        \"\"\"\n",
    "        print(self.File.metadata)\n",
    "        \n",
    "        print(self.File.axes_manager)\n",
    "        \n",
    "        print(self.File.models)\n",
    "        \n",
    "        \n",
    "    def yes_or_no(self, question):\n",
    "        \"\"\"\n",
    "        Function for yes-no user input. Returns BOOLEAN value (y = True | n = False)\n",
    "        \"\"\"\n",
    "        reply = str(input(question+' (y/n): ')).lower().strip()\n",
    "        \n",
    "        if (reply == ''):\n",
    "            return self.yes_or_no(\"Pleas Enter\")\n",
    "        \n",
    "        elif (reply[0] == 'y'):\n",
    "            return True\n",
    "        \n",
    "        elif (reply[0] == 'n'):\n",
    "            return False\n",
    "        \n",
    "        else:\n",
    "            return self.yes_or_no(\"Please Enter\")\n",
    "        \n",
    "    \n",
    "    def detector_parameter_gui(self):\n",
    "        \"\"\"\n",
    "        Comments missing\n",
    "        \"\"\"\n",
    "        self.File.set_microscope_parameters()\n",
    "    \n",
    "    \n",
    "    def model_gui(self, model):\n",
    "        \"\"\"\n",
    "        Function to call the model attribute gui and await parameter adjustments until user is finished\n",
    "        \"\"\"\n",
    "        model.gui()\n",
    "        while True:\n",
    "            finished = self.yes_or_no('When finished type (y) :')\n",
    "            if (finished == True):\n",
    "                break\n",
    "        \n",
    "    \n",
    "    def split(self, txt, seps):\n",
    "        \"\"\"\n",
    "        Splitting a string by specified seperators seps taking a tuple as input.\n",
    "        \"\"\"\n",
    "        default_sep = seps[0]\n",
    "\n",
    "        # we skip seps[0] because that's the default seperator\n",
    "        for sep in seps[1:]:\n",
    "            txt = txt.replace(sep, default_sep)\n",
    "        return [i.strip() for i in txt.split(default_sep)]\n",
    "\n",
    "        \n",
    "    # Routine to load the data\n",
    "    def load_data(self, \n",
    "                  filename, \n",
    "                  file, \n",
    "                  is_stack, \n",
    "                  is_lazy,\n",
    "                  binning\n",
    "                 ):\n",
    "        \"\"\"\n",
    "        load_data: This routine specifies the alignment of the space dimensions and\n",
    "                   the zero-loss alignment as well as poissonian noise estimation and\n",
    "                   optional model loading. Also it will consider a deconvolution by\n",
    "                   the fourier log method (fully automated - still needs testing).\n",
    "        ----------------------------------------------------------------------------------------------\n",
    "        Initialization parameters:\n",
    "                    filename: STRING - specify filename and directory to load the EELS-image generated \n",
    "                                       (e.g. in GATAN)\n",
    "                    file: Hyperspy-Signal - only use this when not using filename. Previously initia-\n",
    "                                            lized Hyperspy Signals object. Read more on the Signals \n",
    "                                            objects http://hyperspy.org/hyperspy-doc/\n",
    "                    is_stack: BOOLEAN - loading multiple files by a wildcard \"*\"\n",
    "                    \n",
    "                    is_lazy: BOOLEAN - to analyze big data (e.g. .dm4 - files) can be a problematic\n",
    "                                       thing to due high memory requirements, therefore instead of\n",
    "                                       using a numpy nd.array one can fall back to dask.dask_array\n",
    "                                       resulting in an object which consists of multiple numpy arrays.\n",
    "                                       This makes it possible to only work on parts of the datafile\n",
    "                                       and therefore requiring only a small part of the memory require-\n",
    "                                       ments.\n",
    "                                       \n",
    "                    binning: BOOLEAN - should always be set to TRUE for EELS analysis\n",
    "                                       as recommended by hyperspy's documentation.\n",
    "                                       \n",
    "                    deconv: BOOLEAN - specifies usage of the fourier log deconvolution\n",
    "                                      to estimate the single scattered spectrum, isolating\n",
    "                                      the plasmon peak without additional convolution.\n",
    "                                      This can lead to better results, depending on the \n",
    "                                      quality of the SI and robustness of the fourier log\n",
    "                                      method (worse results also possible).\n",
    "        \"\"\"\n",
    "        if (filename  != ''):\n",
    "            self.File  = hs.load(filename, stack = is_stack, lazy = is_lazy)\n",
    "\n",
    "        elif (file    != None):\n",
    "            self.File  = file\n",
    "\n",
    "        self.Filename          = self.File.metadata.General.title\n",
    "        \n",
    "        axes                   = self.File.axes_manager.as_dictionary()\n",
    "        for i in range(len(axes)):\n",
    "            axis = axes['axis-' + str(i)]\n",
    "            if (axis['units'] == 'eV'):\n",
    "                self.eels_axis = self.File.axes_manager[i]\n",
    "\n",
    "        including_fits = self.yes_or_no('Does the file include stored models from previous fitting?'\n",
    "                                       )\n",
    "        if (including_fits   == True):\n",
    "            self.load_model()\n",
    "        \n",
    "        elif (including_fits == False):\n",
    "            channels_before                     = self.File.axes_manager.signal_size\n",
    "            self.File.data[self.File.data <= 0] = 1\n",
    "            \n",
    "            print('Setting up proper navigation space...')\n",
    "            self.align_dataset()\n",
    "            \n",
    "            print('Aligning Zero-Loss Peak...')\n",
    "            self.File.align_zero_loss_peak(subpixel = True)\n",
    "            \n",
    "            print('Aligning datastructure successful. Estimate poissonian noise...')\n",
    "            self.File.estimate_poissonian_noise_variance()\n",
    "            \n",
    "            if (self.attr_deconv == True):\n",
    "                print('Calculating deconvoluted spectrum...')\n",
    "                self.zlp_deconvolution()\n",
    "            \n",
    "            channels_after   = self.File.axes_manager.signal_size\n",
    "            cropped_channels = channels_before - channels_after\n",
    "            print('Loading process completed. Energy channels cropped by ZLP-Alignment: ' + \n",
    "                  str(cropped_channels) + '[' + str(cropped_channels/channels_before*100) + '%]' +\n",
    "                  '\\n' + 'Channels before: ' + str(channels_before) + '\\n' +\n",
    "                  'Channels after: ' + str(channels_after)\n",
    "                 )\n",
    "\n",
    "        \n",
    "        self.elastic_threshold = np.mean(\n",
    "            self.File.estimate_elastic_scattering_threshold().data\n",
    "        )\n",
    "        self.elastic_intensity = np.mean(\n",
    "            self.File.estimate_elastic_scattering_intensity(self.elastic_threshold).data\n",
    "        )\n",
    "        self.File.metadata.Signal.binned = binning\n",
    "        \n",
    "        print('Please check microscope and detector parameters,\\n' + \n",
    "              'as the metadata from gatan might be incorrectly loaded\\n' +\n",
    "              'Hyperspy.'\n",
    "             )\n",
    "        \n",
    "        darkfield = self.yes_or_no('Do you want to load the corresponding darkfield image?\\n' +\n",
    "                                   '(Warning: The dimensions have to match exactly for some functions!)'\n",
    "                                  )\n",
    "        if (darkfield == True):\n",
    "            filename = str(input('Enter filename (has to be in the same folder as the SI): '))\n",
    "            self.Darkfield = hs.load(filename)\n",
    "        \n",
    "        self.detector_parameter_gui()\n",
    "        \n",
    "    \n",
    "    def align_dataset(self):\n",
    "        \"\"\"\n",
    "        align_dataset: By dimension the dataset will be devided into different objects as follows:\n",
    "                           EELS: 1D array specifying Counts/Intensity along the energy loss axis\n",
    "                                 given by offset and gain as defined in the metadata\n",
    "                           EELS-stack: 2D array specifying Counts/Intensity as above (see Object EELS)\n",
    "                                       and 1 navigation axis\n",
    "                           EELS-image: 3D array specifying Counts/Intensity as above (see Object EELS)\n",
    "                                       and 2 navigation axis - therefore the name... :)\n",
    "        ----------------------------------------------------------------------------------------------\n",
    "        Initialization parameters:\n",
    "                    None, all parameters should have been included in the metadata by GATAN or by\n",
    "                    defining the meta information in hyperspy yourself.\n",
    "        \"\"\"\n",
    "        self.File = self.File.as_signal1D(spectral_axis=self.eels_axis)\n",
    "        \n",
    "        self.File.set_signal_type(\"EELS\")\n",
    "        self.File.axes_manager.signal_axes[0].name = 'Energy loss'\n",
    "        \n",
    "        for axis in self.File.axes_manager.navigation_axes:\n",
    "            axis.offset = 0\n",
    "            axis.scale  = abs(axis.scale)\n",
    "\n",
    "    \n",
    "    def zlp_deconvolution(self):\n",
    "        \"\"\"\n",
    "        Uses Fourier-Log method for deconvolution and elastic scattering threshold to estimate ZLP.\n",
    "        \"\"\"\n",
    "        zlp              = self.File.isig[:self.elastic_threshold]\n",
    "        self.File_deconv = self.File.fourier_log_deconvolution(zlp)\n",
    "        \n",
    "    \n",
    "    def init_func(self):\n",
    "        \"\"\"\n",
    "        Initialize distribution type for ZLP, FPP, SPP. Three types are currently supported:\n",
    "        func: {'VolumePlasmonDrude', 'Lorentzian', 'Gaussian', 'Voigt'}\n",
    "        \"\"\"\n",
    "        param_init = self.init_model_params()\n",
    "        \n",
    "        zlp_pos    = param_init[0]\n",
    "        zlp_fwhm   = param_init[1]\n",
    "        zlp_int    = param_init[2]\n",
    "        fpp_pos    = param_init[3]\n",
    "        fpp_fwhm   = param_init[4]\n",
    "        fpp_int    = param_init[5]\n",
    "        spp_pos    = param_init[6]\n",
    "        spp_fwhm   = param_init[7]\n",
    "        spp_int    = param_init[8]\n",
    "        \n",
    "        try:\n",
    "            if (self.function_set == 'VolumePlasmonDrude'):\n",
    "\n",
    "                func_1 = hs.model.components1D.Voigt()\n",
    "                func_1.area.value                = zlp_int\n",
    "                func_1.centre.value              = zlp_pos\n",
    "                func_1.FWHM.value                = zlp_fwhm / 2\n",
    "                func_1.gamma.value               = zlp_fwhm / 2\n",
    "                func_1.name = 'Zero_Loss_Peak'\n",
    "                \n",
    "                func_2 = hs.model.components1D.VolumePlasmonDrude(intensity      = fpp_int,\n",
    "                                                                  plasmon_energy = fpp_pos,\n",
    "                                                                  fwhm           = fpp_fwhm\n",
    "                                                                 )\n",
    "                func_2.name = 'First_Plasmon_Peak'\n",
    "\n",
    "                func_3 = hs.model.components1D.VolumePlasmonDrude(intensity      = spp_int,\n",
    "                                                                  plasmon_energy = spp_pos,\n",
    "                                                                  fwhm           = spp_fwhm\n",
    "                                                                 )\n",
    "                func_3.name = 'Second_Plasmon_Peak'\n",
    "                \n",
    "            elif (self.function_set == 'Lorentzian'):\n",
    "\n",
    "                func_1 = hs.model.components1D.Voigt()\n",
    "                func_1.area.value                = zlp_int\n",
    "                func_1.centre.value              = zlp_pos\n",
    "                func_1.FWHM.value                = zlp_fwhm / 2\n",
    "                func_1.gamma.value               = zlp_fwhm / 2\n",
    "                func_1.name = 'Zero_Loss_Peak'\n",
    "                \n",
    "                func_2 = hs.model.components1D.Lorentzian(A      = fpp_int, \n",
    "                                                          centre = fpp_pos,\n",
    "                                                          gamma  = fpp_fwhm / 2\n",
    "                                                         )\n",
    "                func_2.name = 'First_Plasmon_Peak'\n",
    "\n",
    "                func_3 = hs.model.components1D.Lorentzian(A      = spp_int, \n",
    "                                                          centre = spp_pos,\n",
    "                                                          gamma  = spp_fwhm / 2\n",
    "                                                         )\n",
    "                func_3.name = 'Second_Plasmon_Peak'\n",
    "                \n",
    "            elif (self.function_set == 'Gaussian'):\n",
    "\n",
    "                func_1 = hs.model.components1D.Voigt()\n",
    "                func_1.area.value                = zlp_int\n",
    "                func_1.centre.value              = zlp_pos\n",
    "                func_1.FWHM.value                = zlp_fwhm / 2\n",
    "                func_1.gamma.value               = zlp_fwhm / 2\n",
    "                func_1.name = 'Zero_Loss_Peak'\n",
    "\n",
    "                func_2 = hs.model.components1D.Gaussian(A      = fpp_int,\n",
    "                                                        centre = fpp_pos,\n",
    "                                                        sigma  = fpp_fwhm / (2 * np.sqrt( np.log(2) ))\n",
    "                                                       )\n",
    "                func_2.name = 'First_Plasmon_Peak'\n",
    "\n",
    "                func_3 = hs.model.components1D.Gaussian(A      = spp_int,\n",
    "                                                        centre = spp_pos,\n",
    "                                                        sigma  = spp_fwhm / (2 * np.sqrt( np.log(2) ))\n",
    "                                                       )\n",
    "                func_3.name = 'Second_Plasmon_Peak'\n",
    "\n",
    "            elif (self.function_set == 'Voigt'):\n",
    "\n",
    "                func_1 = hs.model.components1D.Voigt()\n",
    "                func_1.area.value                = zlp_int\n",
    "                func_1.centre.value              = zlp_pos\n",
    "                func_1.FWHM.value                = zlp_fwhm / 2\n",
    "                func_1.gamma.value               = zlp_fwhm / 2\n",
    "                func_1.name = 'Zero_Loss_Peak'\n",
    "                \n",
    "                func_2 = hs.model.components1D.Voigt()\n",
    "                func_2.area.value   = fpp_int\n",
    "                func_2.centre.value = fpp_pos\n",
    "                func_2.FWHM.value   = fpp_fwhm / 2\n",
    "                func_2.gamma.value  = fpp_fwhm / 2\n",
    "                func_2.name = 'First_Plasmon_Peak'\n",
    "                \n",
    "                func_3 = hs.model.components1D.Voigt()\n",
    "                func_2.area.value   = spp_int\n",
    "                func_2.centre.value = spp_pos\n",
    "                func_2.FWHM.value   = spp_fwhm / 2\n",
    "                func_2.gamma.value  = spp_fwhm / 2\n",
    "                func_3.name = 'Second_Plasmon_Peak'\n",
    "            \n",
    "            return func_1, func_2, func_3\n",
    "            \n",
    "        except:\n",
    "            print('No distributions initialized. Please try again. For more information, see docstring.')\n",
    "        \n",
    "\n",
    "    \n",
    "    # Function to fit EELS-Spectra with three gaussian\n",
    "    # Another option is to use code in 2nd cell to use extra class\n",
    "    def eels_fit_routine(self, \n",
    "                         function_set='VolumePlasmonDrude', \n",
    "                         fitter='leastsq', \n",
    "                         method='ls', \n",
    "                         samfire=False, \n",
    "                         multithreading=False, \n",
    "                         workers=4\n",
    "                        ):         \n",
    "        \"\"\"\n",
    "        Routine to initialize fit routine. Storing the calculated model in the loaded file.\n",
    "        \n",
    "        Initialize distribution model for ZLP, FPP, SPP. Three types are currently supported:\n",
    "        function_Set: {'VolumePlasmonDrude', 'Lorentzian', 'Gaussian', 'Voigt'}\n",
    "        \"\"\"\n",
    "        # Initialize serial fitting routine\n",
    "        self.function_set = function_set\n",
    "        self.model_name = function_set + str('_') + fitter + str('_') + method\n",
    "        \n",
    "        if (samfire == False):\n",
    "\n",
    "            self.Fit_Model = self.fit_eels(fitter, \n",
    "                                           method\n",
    "                                          )\n",
    "\n",
    "        # Initialize SAMFire (parallel) fitting routine\n",
    "        else:\n",
    "\n",
    "            self.Fit_Model = self.fit_eels_SAMF(fitter, \n",
    "                                                method, \n",
    "                                                multithreading, \n",
    "                                                workers\n",
    "                                               )\n",
    "        \n",
    "        print('Model will be stored in file...')\n",
    "        self.Fit_Model.store(name = self.model_name)\n",
    "        \n",
    "        print('Stored models in file:')\n",
    "        if (self.attr_deconv == False):\n",
    "            print(self.File.models)\n",
    "\n",
    "        elif (self.attr_deconv == True):\n",
    "            print(self.File_deconv.models)\n",
    "            \n",
    "        self.generate_param_maps(method)\n",
    "    \n",
    "    \n",
    "    def init_model_params(self):\n",
    "        \"\"\"\n",
    "        Comments missing\n",
    "        \"\"\"        \n",
    "        print('Estimate function parameters...')\n",
    "        \n",
    "        mean            = self.File.mean()\n",
    "\n",
    "        # estimate peak parameters for the zero loss peak\n",
    "        elastic         = mean.isig[:a.elastic_threshold]\n",
    "\n",
    "        # as ohaver implementation only looks for peaks in the positive energy \n",
    "        # range, the axis will be shifted forward for this calculation.\n",
    "        # the shift will be considered for the peak position afterwards,\n",
    "        # as it behaves linear.\n",
    "        offset          = elastic.axes_manager.signal_axes[0].offset\n",
    "        elastic.axes_manager.signal_axes[0].offset -= offset\n",
    "\n",
    "        axis_elastic    = elastic.axes_manager.signal_axes[0]\n",
    "        amp_zlp         = np.max(elastic, axis=axis_elastic).data[0]\n",
    "        param_elastic   = elastic.find_peaks1D_ohaver(amp_thresh = 0.1*amp_zlp,\n",
    "                                                      maxpeakn   = 1\n",
    "                                                     )\n",
    "        \n",
    "        if (len(param_elastic) == 1):\n",
    "            zlp_pos     = param_elastic[0][0][0] + offset\n",
    "            zlp_fwhm    = param_elastic[0][0][2]\n",
    "            \n",
    "            zlp_int     = self.elastic_intensity\n",
    "\n",
    "        else:\n",
    "            zlp_pos     = 0. # in eV\n",
    "            zlp_fwhm    = 1. # in eV\n",
    "            zlp_int     = self.elastic_intensity\n",
    "\n",
    "        # estimate peak parameters for the first and most likely second plasmon peak\n",
    "        inelastic       = mean.isig[self.elastic_threshold:]\n",
    "\n",
    "        axis_inelastic  = inelastic.axes_manager.signal_axes[0]\n",
    "        amp_pp          = np.max(inelastic, axis=axis_inelastic).data[0]\n",
    "\n",
    "        param_inelastic = inelastic.find_peaks1D_ohaver(amp_thresh = 0.1*amp_pp,\n",
    "                                                        maxpeakn   = 2\n",
    "                                                       )\n",
    "\n",
    "        if (len(param_inelastic) >= 1):\n",
    "            fpp_pos     = param_inelastic[0][0][0]\n",
    "            fpp_fwhm    = param_inelastic[0][0][2]\n",
    "            \n",
    "            if (self.function_set == 'VolumePlasmonDrude'):\n",
    "                # currently intensity set to amplitude as integral of the drude model\n",
    "                # is not corresponding to the area - might be not working correctly\n",
    "                # improvement would be needed\n",
    "                fpp_int = amp_pp\n",
    "                \n",
    "            else:\n",
    "                # estimation by gaussian integration from -fwhm to fwhm is erf(log(4)^(1/2))\n",
    "                # as all other functions use area under function \n",
    "                FPP_signal  = inelastic.isig[fpp_pos - fpp_fwhm : fpp_pos + fpp_fwhm] \n",
    "                fpp_axis    = FPP_signal.axes_manager.signal_axes[0]\n",
    "                fpp_int     = (1 / scipy.special.erf( np.sqrt( np.log(4) ) ) * \n",
    "                               FPP_signal.integrate1D(fpp_axis).data[0]\n",
    "                              )\n",
    "\n",
    "        else:\n",
    "            print('Could not estimate initial parameters. Results could diverge!' +\n",
    "                  'It is highly recommended to adjust the parameters manually.'\n",
    "                 )\n",
    "            fpp_pos     = 15. # in eV\n",
    "            fpp_fwhm    = 2.  # in eV\n",
    "            \n",
    "            if (self.function_set == 'VolumePlasmonDrude'):\n",
    "                # currently intensity set to amplitude as integral of the drude model\n",
    "                # is not corresponding to the area - might be not working correctly\n",
    "                # improvement would be needed\n",
    "                fpp_int = amp_pp\n",
    "                \n",
    "            else:\n",
    "                # estimation by gaussian integration from -fwhm to fwhm is erf(log(4)^(1/2))\n",
    "                # as all other functions use area under function \n",
    "                FPP_signal  = inelastic.isig[fpp_pos - fpp_fwhm : fpp_pos + fpp_fwhm] \n",
    "                fpp_axis    = FPP_signal.axes_manager.signal_axes[0]\n",
    "                fpp_int     = (1 / scipy.special.erf( np.sqrt( np.log(4) ) ) * \n",
    "                               FPP_signal.integrate1D(fpp_axis).data[0]\n",
    "                          )\n",
    "\n",
    "        if (len(param_inelastic) == 2):\n",
    "            spp_pos     = param_inelastic[0][1][0]\n",
    "            spp_fwhm    = param_inelastic[0][1][2]\n",
    "            \n",
    "            if (self.function_set == 'VolumePlasmonDrude'):\n",
    "                # currently intensity set to amplitude as integral of the drude model\n",
    "                # is not corresponding to the area - might be not working correctly\n",
    "                # improvement would be needed\n",
    "                spp_int = amp_pp * 0.3\n",
    "                \n",
    "            else:\n",
    "                # estimation by gaussian integration from -fwhm to fwhm is erf(log(4)^(1/2))\n",
    "                # as all other functions use area under function \n",
    "                SPP_signal  = inelastic.isig[spp_pos - spp_fwhm : spp_pos + spp_fwhm] \n",
    "                spp_axis    = SPP_signal.axes_manager.signal_axes[0]\n",
    "                spp_int     = (1 / scipy.special.erf( np.sqrt( np.log(4) ) ) * \n",
    "                               SPP_signal.integrate1D(spp_axis).data[0]\n",
    "                              )\n",
    "\n",
    "        else:\n",
    "            spp_pos     = 2 * fpp_pos\n",
    "            spp_fwhm    = 2 * fpp_fwhm\n",
    "            \n",
    "            if (self.function_set == 'VolumePlasmonDrude'):\n",
    "                # currently intensity set to amplitude as integral of the drude model\n",
    "                # is not corresponding to the area - might be not working correctly\n",
    "                # improvement would be needed\n",
    "                spp_int = amp_pp * 0.3\n",
    "                \n",
    "            else:\n",
    "                #  estimation by gaussian integration from -fwhm to fwhm is erf(log(4)^(1/2))\n",
    "                SPP_signal  = inelastic.isig[spp_pos - spp_fwhm : spp_pos + spp_fwhm] \n",
    "                spp_axis    = SPP_signal.axes_manager.signal_axes[0]\n",
    "                spp_int     = (1 / scipy.special.erf( np.sqrt( np.log(4) ) ) * \n",
    "                               SPP_signal.integrate1D(spp_axis).data[0]\n",
    "                              )\n",
    "\n",
    "        if (fpp_int > zlp_int or spp_int > zlp_int):\n",
    "            print('Attention: The intensity of one of the Plasmon peaks is\\n' + \n",
    "                  '           higher than the Zero-loss intensity!\\n' + \n",
    "                  '           The model should be monitored carefully.\\n' +\n",
    "                  '           It is recommended to gather a new spectrum of\\n' +\n",
    "                  '           a sample with smaller thickness to minimize\\n' +\n",
    "                  '           the inelastically scattered part of the spectrum!'\n",
    "                 )\n",
    "        \n",
    "        return zlp_pos, zlp_fwhm, zlp_int, fpp_pos, fpp_fwhm, fpp_int, spp_pos, spp_fwhm, spp_int\n",
    "        \n",
    "        \n",
    "    def init_model(self, \n",
    "                   mean = False\n",
    "                  ):\n",
    "        \"\"\"\n",
    "        Comments missing\n",
    "        \"\"\"\n",
    "        offset = self.File.axes_manager['Energy loss'].offset\n",
    "        scale  = self.File.axes_manager['Energy loss'].scale\n",
    "        size   = self.File.axes_manager['Energy loss'].size\n",
    "        \n",
    "        e_max  = float(int(scale * size + offset))\n",
    "        \n",
    "        if (mean == True):\n",
    "            model               = self.File.mean().create_model(\n",
    "                auto_background = False\n",
    "            )\n",
    "        \n",
    "        elif (mean == False):\n",
    "            model               = self.File.create_model(\n",
    "                auto_background = False\n",
    "            )\n",
    "\n",
    "        func1, func2, func3 = self.init_func()\n",
    "        params              = self.init_model_params()\n",
    "        \n",
    "        model.set_signal_range(-self.elastic_threshold, \n",
    "                               e_max\n",
    "                              )\n",
    "        model.extend([func1, func2, func3])\n",
    "\n",
    "        self.set_model_params(model, \n",
    "                              params = params, \n",
    "                              func   = 'Zero_Loss_Peak'\n",
    "                             )\n",
    "        self.set_model_params(model, \n",
    "                              params = params, \n",
    "                              func   = 'First_Plasmon_Peak'\n",
    "                             )\n",
    "        self.set_model_params(model, \n",
    "                              params = params, \n",
    "                              func   = 'Second_Plasmon_Peak'\n",
    "                             )\n",
    "        \n",
    "        self.set_second_plasmonenergy(model)\n",
    "                \n",
    "        return model, params\n",
    "    \n",
    "    \n",
    "    def set_second_plasmonenergy(self, model):\n",
    "        \"\"\"\n",
    "        Comments missing\n",
    "        \"\"\"\n",
    "        if (self.function_set != 'VolumePlasmonDrude'):\n",
    "            model.components.Second_Plasmon_Peak.centre.twin_function_expr         = '2*x'\n",
    "            model.components.Second_Plasmon_Peak.centre.inverse_twin_function_expr = 'x/2'\n",
    "            model.components.Second_Plasmon_Peak.centre.twin                       = model.components.First_Plasmon_Peak.centre\n",
    "\n",
    "        else:\n",
    "            model.components.Second_Plasmon_Peak.plasmon_energy.twin_function_expr          = '2*x'\n",
    "            model.components.Second_Plasmon_Peak.plasmon_energy.inverse_twin_function_expr  = 'x/2'\n",
    "            model.components.Second_Plasmon_Peak.plasmon_energy.twin                        = model.components.First_Plasmon_Peak.plasmon_energy\n",
    "    \n",
    "    \n",
    "    def fit_zlp_only(self, \n",
    "                     model, \n",
    "                     fitter, \n",
    "                     method,\n",
    "                     bounded\n",
    "                    ):\n",
    "        \"\"\"\n",
    "        Comments missing\n",
    "        \"\"\"\n",
    "        mean, params = self.init_model(mean = True)\n",
    "        \n",
    "        self.set_model_params(model, \n",
    "                              params = params, \n",
    "                              func   = 'Zero_Loss_Peak'\n",
    "                             )\n",
    "        \n",
    "        self.set_bounds(mean, \n",
    "                        bounded\n",
    "                       )\n",
    "        \n",
    "        mean.components.Zero_Loss_Peak.active      = True\n",
    "        mean.components.First_Plasmon_Peak.active  = False\n",
    "        mean.components.Second_Plasmon_Peak.active = False\n",
    "\n",
    "        zlp_pos             = params[0]\n",
    "        zlp_fwhm            = params[1]\n",
    "        \n",
    "        mean.set_signal_range(zlp_pos - zlp_fwhm, \n",
    "                              zlp_pos + zlp_fwhm\n",
    "                             )\n",
    "        \n",
    "        mean.fit(fitter  = fitter, \n",
    "                 method  = method,\n",
    "                 bounded = bounded\n",
    "                )\n",
    "        \n",
    "        self.set_model_params(model, \n",
    "                              mean = mean, \n",
    "                              func = 'Zero_Loss_Peak'\n",
    "                             )\n",
    "        \n",
    "        \n",
    "    def fit_pp_only(self,\n",
    "                    upper_bound,\n",
    "                    model, \n",
    "                    fitter, \n",
    "                    method,\n",
    "                    bounded\n",
    "                   ):\n",
    "        \"\"\"\n",
    "        Comments missing\n",
    "        \"\"\"\n",
    "        mean, params = self.init_model(mean = True)\n",
    "        \n",
    "        self.set_model_params(model, \n",
    "                              params = params, \n",
    "                              func   = 'First_Plasmon_Peak'\n",
    "                             )\n",
    "        \n",
    "        self.set_model_params(model, \n",
    "                              params = params, \n",
    "                              func   = 'Second_Plasmon_Peak'\n",
    "                             )\n",
    "        \n",
    "        self.set_bounds(mean, \n",
    "                        bounded\n",
    "                       )\n",
    "        \n",
    "        mean.components.Zero_Loss_Peak.active      = False\n",
    "        mean.components.First_Plasmon_Peak.active  = True\n",
    "        mean.components.Second_Plasmon_Peak.active = True\n",
    "\n",
    "        self.set_second_plasmonenergy(mean)\n",
    "        \n",
    "        # used for the signal range to exclude additional influence\n",
    "        fpp_pos  = params[3]\n",
    "        fpp_fwhm = params[4]\n",
    "        spp_pos  = params[6]\n",
    "        spp_fwhm = params[7]\n",
    "        \n",
    "        mean.set_signal_range(fpp_pos - fpp_fwhm, \n",
    "                              spp_pos + spp_fwhm\n",
    "                             )\n",
    "\n",
    "        mean.fit(fitter=fitter, \n",
    "                 method=method,\n",
    "                 bounded=bounded\n",
    "                )\n",
    "        \n",
    "        self.set_model_params(model, \n",
    "                              mean = mean, \n",
    "                              func = 'First_Plasmon_Peak'\n",
    "                             )\n",
    "        \n",
    "        self.set_model_params(model, \n",
    "                              mean = mean, \n",
    "                              func = 'Second_Plasmon_Peak'\n",
    "                             )\n",
    "        \n",
    "        return self.get_plasmonenergy(mean)\n",
    "        \n",
    "    \n",
    "    def fit_fpp_only(self, \n",
    "                     upper_bound,\n",
    "                     model, \n",
    "                     fitter, \n",
    "                     method,\n",
    "                     bounded\n",
    "                    ):\n",
    "        \"\"\"\n",
    "        Comments missing\n",
    "        \"\"\"\n",
    "        mean, params = self.init_model(mean = True)\n",
    "        \n",
    "        self.set_bounds(mean, \n",
    "                        bounded\n",
    "                       )\n",
    "        \n",
    "        mean.components.Zero_Loss_Peak.active      = False\n",
    "        mean.components.First_Plasmon_Peak.active  = True\n",
    "        mean.components.Second_Plasmon_Peak.active = False\n",
    "\n",
    "        mean.set_signal_range(self.elastic_threshold, #see above\n",
    "                              upper_bound #eV\n",
    "                             )\n",
    "        \n",
    "        mean.fit(fitter=fitter, \n",
    "                 method=method,\n",
    "                 bounded=bounded\n",
    "                )\n",
    "        \n",
    "        plasmonenergy = self.get_plasmonenergy(mean)\n",
    "        \n",
    "        mean.set_signal_range(self.elastic_threshold, #see above\n",
    "                              2.5 * plasmonenergy \n",
    "                              #using better estimate of plasmon energy range to increase accuracy \n",
    "                             )\n",
    "\n",
    "        mean.fit(fitter  = fitter, \n",
    "                 method  = method,\n",
    "                 bounded = bounded\n",
    "                )\n",
    "        \n",
    "        self.set_model_params(model, \n",
    "                              mean = mean, \n",
    "                              func = 'First_Plasmon_Peak'\n",
    "                             )\n",
    "        \n",
    "        return self.get_plasmonenergy(mean)\n",
    "        \n",
    "    \n",
    "    def get_plasmonenergy(self,\n",
    "                          mean\n",
    "                         ):\n",
    "        \"\"\"\n",
    "        Comments missing\n",
    "        \"\"\"\n",
    "        if (self.function_set == 'VolumePlasmonDrude'):\n",
    "            plasmonenergy = mean.components.First_Plasmon_Peak.plasmon_energy.value\n",
    "        \n",
    "        else:\n",
    "            plasmonenergy = mean.components.First_Plasmon_Peak.centre.value\n",
    "            \n",
    "        return plasmonenergy\n",
    "    \n",
    "    \n",
    "    def set_bounds(self, \n",
    "                   model, \n",
    "                   bounded\n",
    "                  ):\n",
    "        \"\"\"\n",
    "        Comments missing\n",
    "        \"\"\"\n",
    "        if (self.function_set == 'Voigt'):\n",
    "            \n",
    "            if (bounded):\n",
    "                model.components.Zero_Loss_Peak.area.bmin   = (self.elastic_intensity \n",
    "                                                               - self.elastic_intensity / 2\n",
    "                                                              )\n",
    "                model.components.Zero_Loss_Peak.area.bmax   = (self.elastic_intensity \n",
    "                                                               + self.elastic_intensity / 2\n",
    "                                                              )\n",
    "                model.components.Zero_Loss_Peak.centre.bmin = -self.elastic_threshold\n",
    "                model.components.Zero_Loss_Peak.centre.bmax = self.elastic_threshold\n",
    "                model.components.Zero_Loss_Peak.FWHM.bmin   = 0.\n",
    "                model.components.Zero_Loss_Peak.FWHM.bmax   = 2 * self.elastic_threshold\n",
    "                model.components.Zero_Loss_Peak.gamma.bmin  = 0.\n",
    "                model.components.Zero_Loss_Peak.gamma.bmax  = 2 * self.elastic_threshold\n",
    "\n",
    "\n",
    "                model.components.First_Plasmon_Peak.area.bmin   = 0.\n",
    "                model.components.First_Plasmon_Peak.area.bmax   = (self.elastic_intensity \n",
    "                                                                   + self.elastic_intensity / 2\n",
    "                                                                  )\n",
    "                model.components.First_Plasmon_Peak.centre.bmin = self.elastic_threshold\n",
    "                model.components.First_Plasmon_Peak.centre.bmax = 50.\n",
    "                model.components.First_Plasmon_Peak.FWHM.bmin   = 0.\n",
    "                model.components.First_Plasmon_Peak.FWHM.bmax   = 50.\n",
    "                model.components.First_Plasmon_Peak.gamma.bmin  = 0.\n",
    "                model.components.First_Plasmon_Peak.gamma.bmax  = 50.\n",
    "\n",
    "\n",
    "                model.components.Second_Plasmon_Peak.area.bmin   = 0.\n",
    "                model.components.Second_Plasmon_Peak.area.bmax   = (self.elastic_intensity \n",
    "                                                                    + self.elastic_intensity / 2\n",
    "                                                                   )\n",
    "                model.components.Second_Plasmon_Peak.centre.bmin = self.elastic_threshold\n",
    "                model.components.Second_Plasmon_Peak.centre.bmax = 100.\n",
    "                model.components.Second_Plasmon_Peak.FWHM.bmin   = 0.\n",
    "                model.components.Second_Plasmon_Peak.FWHM.bmax   = 100.\n",
    "                model.components.Second_Plasmon_Peak.gamma.bmin  = 0.\n",
    "                model.components.Second_Plasmon_Peak.gamma.bmax  = 100.\n",
    "                \n",
    "            \n",
    "            else:\n",
    "                model.components.Zero_Loss_Peak.area.ext_force_positive        = True\n",
    "                model.components.Zero_Loss_Peak.centre.ext_force_positive      = False\n",
    "                model.components.Zero_Loss_Peak.FWHM.ext_force_positive        = True\n",
    "                model.components.Zero_Loss_Peak.gamma.ext_force_positive       = True\n",
    "                model.components.First_Plasmon_Peak.area.ext_force_positive    = True\n",
    "                model.components.First_Plasmon_Peak.centre.ext_force_positive  = True\n",
    "                model.components.First_Plasmon_Peak.FWHM.ext_force_positive    = True\n",
    "                model.components.First_Plasmon_Peak.gamma.ext_force_positive   = True\n",
    "                model.components.Second_Plasmon_Peak.area.ext_force_positive   = True\n",
    "                model.components.Second_Plasmon_Peak.centre.ext_force_positive = True\n",
    "                model.components.Second_Plasmon_Peak.FWHM.ext_force_positive   = True\n",
    "                model.components.Second_Plasmon_Peak.gamma.ext_force_positive  = True\n",
    "        \n",
    "        \n",
    "        elif (self.function_set == 'Lorentzian'):\n",
    "            \n",
    "            if (bounded):\n",
    "                model.components.Zero_Loss_Peak.area.bmin   = (self.elastic_intensity \n",
    "                                                               - self.elastic_intensity / 2\n",
    "                                                              )\n",
    "                model.components.Zero_Loss_Peak.area.bmax   = (self.elastic_intensity \n",
    "                                                               + self.elastic_intensity / 2\n",
    "                                                              )\n",
    "                model.components.Zero_Loss_Peak.centre.bmin = -self.elastic_threshold\n",
    "                model.components.Zero_Loss_Peak.centre.bmax = self.elastic_threshold\n",
    "                model.components.Zero_Loss_Peak.FWHM.bmin   = 0.\n",
    "                model.components.Zero_Loss_Peak.FWHM.bmax   = 2 * self.elastic_threshold\n",
    "                model.components.Zero_Loss_Peak.gamma.bmin  = 0.\n",
    "                model.components.Zero_Loss_Peak.gamma.bmax  = 2 * self.elastic_threshold\n",
    "\n",
    "\n",
    "                model.components.First_Plasmon_Peak.A.bmin      = 0.\n",
    "                model.components.First_Plasmon_Peak.A.bmax      = (self.elastic_intensity \n",
    "                                                                   + self.elastic_intensity / 2\n",
    "                                                                  )\n",
    "                model.components.First_Plasmon_Peak.centre.bmin = self.elastic_threshold\n",
    "                model.components.First_Plasmon_Peak.centre.bmax = 50.\n",
    "                model.components.First_Plasmon_Peak.gamma.bmin  = 0.\n",
    "                model.components.First_Plasmon_Peak.gamma.bmax  = 50.\n",
    "\n",
    "\n",
    "                model.components.Second_Plasmon_Peak.A.bmin      = 0.\n",
    "                model.components.Second_Plasmon_Peak.A.bmax      = (self.elastic_intensity \n",
    "                                                                    + self.elastic_intensity / 2\n",
    "                                                                   )\n",
    "                model.components.Second_Plasmon_Peak.centre.bmin = self.elastic_threshold\n",
    "                model.components.Second_Plasmon_Peak.centre.bmax = 100.\n",
    "                model.components.Second_Plasmon_Peak.gamma.bmin  = 0.\n",
    "                model.components.Second_Plasmon_Peak.gamma.bmax  = 100.\n",
    "\n",
    "            \n",
    "            else:\n",
    "                model.components.Zero_Loss_Peak.area.ext_force_positive        = True\n",
    "                model.components.Zero_Loss_Peak.centre.ext_force_positive      = False\n",
    "                model.components.Zero_Loss_Peak.FWHM.ext_force_positive        = True\n",
    "                model.components.Zero_Loss_Peak.gamma.ext_force_positive       = True\n",
    "                model.components.First_Plasmon_Peak.A.ext_force_positive       = True\n",
    "                model.components.First_Plasmon_Peak.centre.ext_force_positive  = True\n",
    "                model.components.First_Plasmon_Peak.gamma.ext_force_positive   = True\n",
    "                model.components.Second_Plasmon_Peak.A.ext_force_positive      = True\n",
    "                model.components.Second_Plasmon_Peak.centre.ext_force_positive = True\n",
    "                model.components.Second_Plasmon_Peak.gamma.ext_force_positive  = True\n",
    "                \n",
    "                \n",
    "        elif (self.function_set == 'Gaussian'):\n",
    "            \n",
    "            if (bounded):\n",
    "                model.components.Zero_Loss_Peak.area.bmin   = (self.elastic_intensity \n",
    "                                                               - self.elastic_intensity / 2\n",
    "                                                              )\n",
    "                model.components.Zero_Loss_Peak.area.bmax   = (self.elastic_intensity \n",
    "                                                               + self.elastic_intensity / 2\n",
    "                                                              )\n",
    "                model.components.Zero_Loss_Peak.centre.bmin = -self.elastic_threshold\n",
    "                model.components.Zero_Loss_Peak.centre.bmax = self.elastic_threshold\n",
    "                model.components.Zero_Loss_Peak.FWHM.bmin   = 0.\n",
    "                model.components.Zero_Loss_Peak.FWHM.bmax   = 2 * self.elastic_threshold\n",
    "                model.components.Zero_Loss_Peak.gamma.bmin  = 0.\n",
    "                model.components.Zero_Loss_Peak.gamma.bmax  = 2 * self.elastic_threshold\n",
    "\n",
    "\n",
    "                model.components.First_Plasmon_Peak.A.bmin      = 0.\n",
    "                model.components.First_Plasmon_Peak.A.bmax      = (self.elastic_intensity \n",
    "                                                                   + self.elastic_intensity / 2\n",
    "                                                                  )\n",
    "                model.components.First_Plasmon_Peak.centre.bmin = self.elastic_threshold\n",
    "                model.components.First_Plasmon_Peak.centre.bmax = 50.\n",
    "                model.components.First_Plasmon_Peak.sigma.bmin  = 0.\n",
    "                model.components.First_Plasmon_Peak.sigma.bmax  = 50.\n",
    "\n",
    "\n",
    "                model.components.Second_Plasmon_Peak.A.bmin      = 0.\n",
    "                model.components.Second_Plasmon_Peak.A.bmax      = (self.elastic_intensity \n",
    "                                                                    + self.elastic_intensity / 2\n",
    "                                                                   )\n",
    "                model.components.Second_Plasmon_Peak.centre.bmin = self.elastic_threshold\n",
    "                model.components.Second_Plasmon_Peak.centre.bmax = 100.\n",
    "                model.components.Second_Plasmon_Peak.sigma.bmin  = 0.\n",
    "                model.components.Second_Plasmon_Peak.sigma.bmax  = 100.\n",
    "            \n",
    "\n",
    "            else:\n",
    "                model.components.Zero_Loss_Peak.area.ext_force_positive        = True\n",
    "                model.components.Zero_Loss_Peak.centre.ext_force_positive      = False\n",
    "                model.components.Zero_Loss_Peak.FWHM.ext_force_positive        = True\n",
    "                model.components.Zero_Loss_Peak.gamma.ext_force_positive       = True\n",
    "                model.components.First_Plasmon_Peak.A.ext_force_positive       = True\n",
    "                model.components.First_Plasmon_Peak.centre.ext_force_positive  = True\n",
    "                model.components.First_Plasmon_Peak.sigma.ext_force_positive   = True\n",
    "                model.components.Second_Plasmon_Peak.A.ext_force_positive      = True\n",
    "                model.components.Second_Plasmon_Peak.centre.ext_force_positive = True\n",
    "                model.components.Second_Plasmon_Peak.sigma.ext_force_positive  = True\n",
    "                \n",
    "            \n",
    "        elif (self.function_set == 'VolumePlasmonDrude'):\n",
    "            \n",
    "            if (bounded):\n",
    "                model.components.Zero_Loss_Peak.area.bmin   = (self.elastic_intensity \n",
    "                                                               - self.elastic_intensity / 2\n",
    "                                                              )\n",
    "                model.components.Zero_Loss_Peak.area.bmax   = (self.elastic_intensity \n",
    "                                                               + self.elastic_intensity / 2\n",
    "                                                              )\n",
    "                model.components.Zero_Loss_Peak.centre.bmin = -self.elastic_threshold\n",
    "                model.components.Zero_Loss_Peak.centre.bmax = self.elastic_threshold\n",
    "                model.components.Zero_Loss_Peak.FWHM.bmin   = 0.\n",
    "                model.components.Zero_Loss_Peak.FWHM.bmax   = 2 * self.elastic_threshold\n",
    "                model.components.Zero_Loss_Peak.gamma.bmin  = 0.\n",
    "                model.components.Zero_Loss_Peak.gamma.bmax  = 2 * self.elastic_threshold\n",
    "\n",
    "\n",
    "                model.components.First_Plasmon_Peak.intensity.bmin      = 0.\n",
    "                model.components.First_Plasmon_Peak.intensity.bmax      = (self.elastic_intensity \n",
    "                                                                           + self.elastic_intensity / 2\n",
    "                                                                          )\n",
    "                model.components.First_Plasmon_Peak.plasmon_energy.bmin = self.elastic_threshold\n",
    "                model.components.First_Plasmon_Peak.plasmon_energy.bmax = 50.\n",
    "                model.components.First_Plasmon_Peak.fwhm.bmin  = 0.\n",
    "                model.components.First_Plasmon_Peak.fwhm.bmax  = 50.\n",
    "\n",
    "\n",
    "                model.components.Second_Plasmon_Peak.intensity.bmin      = 0.\n",
    "                model.components.Second_Plasmon_Peak.intensity.bmax      = (self.elastic_intensity \n",
    "                                                                            + self.elastic_intensity / 2\n",
    "                                                                           )\n",
    "                model.components.Second_Plasmon_Peak.plasmon_energy.bmin = self.elastic_threshold\n",
    "                model.components.Second_Plasmon_Peak.plasmon_energy.bmax = 100.\n",
    "                model.components.Second_Plasmon_Peak.fwhm.bmin  = 0.\n",
    "                model.components.Second_Plasmon_Peak.fwhm.bmax  = 100.\n",
    "\n",
    "\n",
    "            else:\n",
    "                model.components.Zero_Loss_Peak.area.ext_force_positive                = True\n",
    "                model.components.Zero_Loss_Peak.centre.ext_force_positive              = False\n",
    "                model.components.Zero_Loss_Peak.FWHM.ext_force_positive                = True\n",
    "                model.components.Zero_Loss_Peak.gamma.ext_force_positive               = True\n",
    "                model.components.First_Plasmon_Peak.intensity.ext_force_positive       = True\n",
    "                model.components.First_Plasmon_Peak.plasmon_energy.ext_force_positive  = True\n",
    "                model.components.First_Plasmon_Peak.fwhm.ext_force_positive            = True\n",
    "                model.components.Second_Plasmon_Peak.intensity.ext_force_positive      = True\n",
    "                model.components.Second_Plasmon_Peak.plasmon_energy.ext_force_positive = True\n",
    "                model.components.Second_Plasmon_Peak.fwhm.ext_force_positive           = True\n",
    "                \n",
    "    \n",
    "    def set_by_params(self,\n",
    "                      model,\n",
    "                      params,\n",
    "                      func\n",
    "                     ):\n",
    "        \"\"\"\n",
    "        Comments missing\n",
    "        \"\"\"\n",
    "        func_dict = {'Zero_Loss_Peak'      : params[0:3],\n",
    "                     'First_Plasmon_Peak'  : params[3:6],\n",
    "                     'Second_Plasmon_Peak' : params[6:9]\n",
    "                    }\n",
    "\n",
    "        if (self.function_set == 'Voigt' or func == 'Zero_Loss_Peak'):\n",
    "            model.set_parameters_value('area',\n",
    "                                       func_dict[func][2],\n",
    "                                       component_list = [func]\n",
    "                                      )\n",
    "\n",
    "            model.set_parameters_value('gamma',\n",
    "                                       func_dict[func][1] / 2,\n",
    "                                       component_list = [func]\n",
    "                                      )\n",
    "\n",
    "            model.set_parameters_value('FWHM',\n",
    "                                       func_dict[func][1] / 2,\n",
    "                                       component_list = [func]\n",
    "                                      )\n",
    "\n",
    "            if (func != 'Second_Plasmon_Peak'):\n",
    "                model.set_parameters_value('centre',\n",
    "                                           func_dict[func][0],\n",
    "                                           component_list = [func]\n",
    "                                          )\n",
    "\n",
    "        if (self.function_set == 'Lorentzian' and func != 'Zero_Loss_Peak'):\n",
    "            model.set_parameters_value('A',\n",
    "                                       func_dict[func][2],\n",
    "                                       component_list = [func]\n",
    "                                      )\n",
    "\n",
    "            model.set_parameters_value('gamma',\n",
    "                                       func_dict[func][1] / 2,\n",
    "                                       component_list = [func]\n",
    "                                      )\n",
    "\n",
    "            if (func != 'Second_Plasmon_Peak'):\n",
    "                model.set_parameters_value('centre',\n",
    "                                           func_dict[func][0],\n",
    "                                           component_list = [func]\n",
    "                                          )\n",
    "\n",
    "        if (self.function_set == 'Gaussian' and func != 'Zero_Loss_Peak'):\n",
    "            model.set_parameters_value('A',\n",
    "                                       func_dict[func][2],\n",
    "                                       component_list = [func]\n",
    "                                      )\n",
    "\n",
    "            model.set_parameters_value('sigma',\n",
    "                                       func_dict[func][1] / (2 * np.sqrt( np.log(2) )),\n",
    "                                       component_list = [func]\n",
    "                                      )\n",
    "\n",
    "            if (func != 'Second_Plasmon_Peak'):\n",
    "                model.set_parameters_value('centre',\n",
    "                                           func_dict[func][0],\n",
    "                                           component_list = [func]\n",
    "                                          )\n",
    "\n",
    "        if (self.function_set == 'VolumePlasmonDrude' and func != 'Zero_Loss_Peak'):\n",
    "            print(func_dict[func][2])\n",
    "            model.set_parameters_value('intensity',\n",
    "                                       func_dict[func][2],\n",
    "                                       component_list = [func]\n",
    "                                      )\n",
    "\n",
    "            model.set_parameters_value('fwhm',\n",
    "                                       func_dict[func][1],\n",
    "                                       component_list = [func]\n",
    "                                      )\n",
    "\n",
    "            if (func != 'Second_Plasmon_Peak'):\n",
    "                model.set_parameters_value('plasmon_energy',\n",
    "                                           func_dict[func][0],\n",
    "                                           component_list = [func]\n",
    "                                          )\n",
    "    \n",
    "    \n",
    "    def set_by_mean(self,\n",
    "                    model,\n",
    "                    mean,\n",
    "                    func\n",
    "                   ):\n",
    "        \"\"\"\n",
    "        Comments missing\n",
    "        \"\"\"\n",
    "        func_dict = {'Zero_Loss_Peak'      : mean.components.Zero_Loss_Peak,\n",
    "                     'First_Plasmon_Peak'  : mean.components.First_Plasmon_Peak,\n",
    "                     'Second_Plasmon_Peak' : mean.components.Second_Plasmon_Peak\n",
    "                    }\n",
    "        \n",
    "        if (self.function_set == 'Voigt' or func == 'Zero_Loss_Peak'):\n",
    "            model.set_parameters_value('area',\n",
    "                                       func_dict[func].area.value,\n",
    "                                       component_list = [func]\n",
    "                                      )\n",
    "\n",
    "            model.set_parameters_value('gamma',\n",
    "                                       func_dict[func].gamma.value,\n",
    "                                       component_list = [func]\n",
    "                                      )\n",
    "\n",
    "            model.set_parameters_value('FWHM',\n",
    "                                       func_dict[func].FWHM.value,\n",
    "                                       component_list = [func]\n",
    "                                      )\n",
    "\n",
    "            if (func != 'Second_Plasmon_Peak'):\n",
    "                model.set_parameters_value('centre',\n",
    "                                           func_dict[func].centre.value,\n",
    "                                           component_list = [func]\n",
    "                                          )\n",
    "\n",
    "        if (self.function_set == 'Lorentzian' and func != 'Zero_Loss_Peak'):\n",
    "            model.set_parameters_value('A',\n",
    "                                       func_dict[func].A.value,\n",
    "                                       component_list = [func]\n",
    "                                      )\n",
    "\n",
    "            model.set_parameters_value('gamma',\n",
    "                                       func_dict[func].gamma.value,\n",
    "                                       component_list = [func]\n",
    "                                      )\n",
    "\n",
    "            if (func != 'Second_Plasmon_Peak'):\n",
    "                model.set_parameters_value('centre',\n",
    "                                           func_dict[func].centre.value,\n",
    "                                           component_list = [func]\n",
    "                                          )\n",
    "\n",
    "        if (self.function_set == 'Gaussian' and func != 'Zero_Loss_Peak'):\n",
    "            model.set_parameters_value('A',\n",
    "                                       func_dict[func].A.value,\n",
    "                                       component_list = [func]\n",
    "                                      )\n",
    "\n",
    "            model.set_parameters_value('sigma',\n",
    "                                       func_dict[func].sigma.value,\n",
    "                                       component_list = [func]\n",
    "                                      )\n",
    "\n",
    "            if (func != 'Second_Plasmon_Peak'):\n",
    "                model.set_parameters_value('centre',\n",
    "                                           func_dict[func].centre.value,\n",
    "                                           component_list = [func]\n",
    "                                          )\n",
    "\n",
    "        if (self.function_set == 'VolumePlasmonDrude' and func != 'Zero_Loss_Peak'):\n",
    "            model.set_parameters_value('intensity',\n",
    "                                       func_dict[func].intensity.value,\n",
    "                                       component_list = [func]\n",
    "                                      )\n",
    "\n",
    "            model.set_parameters_value('fwhm',\n",
    "                                       func_dict[func].fwhm.value,\n",
    "                                       component_list = [func]\n",
    "                                      )\n",
    "\n",
    "            if (func != 'Second_Plasmon_Peak'):\n",
    "                model.set_parameters_value('plasmon_energy',\n",
    "                                           func_dict[func].plasmon_energy.value,\n",
    "                                           component_list = [func]\n",
    "                                          )\n",
    "    \n",
    "            \n",
    "    def set_model_params(self, \n",
    "                         model, \n",
    "                         mean   = None,\n",
    "                         params = None,\n",
    "                         func='Zero_Loss_Peak'\n",
    "                        ):\n",
    "        \"\"\"\n",
    "        Comments missing\n",
    "        \"\"\"\n",
    "        if (params != None):\n",
    "            self.set_by_params(model, params, func)\n",
    "            \n",
    "        elif (mean != None):\n",
    "            self.set_by_mean(model, mean, func)\n",
    "    \n",
    "    \n",
    "    def fit_eels(self, \n",
    "                 fitter, \n",
    "                 method\n",
    "                ):\n",
    "        \"\"\"\n",
    "        Comments missing\n",
    "        \"\"\"\n",
    "        model, params = self.init_model()\n",
    "        \n",
    "        if (method == 'ls'):\n",
    "            bounded = True\n",
    "        \n",
    "        else:\n",
    "            bounded = False\n",
    "            \n",
    "        self.set_bounds(model, \n",
    "                        bounded\n",
    "                       )\n",
    "        \n",
    "        offset = self.File.axes_manager['Energy loss'].offset\n",
    "        scale  = self.File.axes_manager['Energy loss'].scale\n",
    "        size   = self.File.axes_manager['Energy loss'].size\n",
    "        \n",
    "        e_max  = float(int(scale * size + offset))\n",
    "        \n",
    "        upper_bound = e_max\n",
    "        \n",
    "        if (self.attr_deconv == False):\n",
    "            self.set_second_plasmonenergy(model)\n",
    "            \n",
    "            self.fit_zlp_only(model, \n",
    "                              fitter, \n",
    "                              method,\n",
    "                              bounded\n",
    "                             )\n",
    "            \n",
    "            plasmonenergy = self.fit_pp_only(upper_bound,\n",
    "                                             model, \n",
    "                                             fitter, \n",
    "                                             method,\n",
    "                                             bounded\n",
    "                                            )\n",
    "\n",
    "            model.components.Zero_Loss_Peak.active      = True\n",
    "            model.components.First_Plasmon_Peak.active  = True\n",
    "            model.components.Second_Plasmon_Peak.active = True\n",
    "            \n",
    "            model.set_signal_range(-self.elastic_threshold, \n",
    "                                   2.5 * plasmonenergy\n",
    "                                  )\n",
    "            \n",
    "            print('Correcting poissonian noise for the gain factor of\\n' +\n",
    "                  'the EELS - detector by generating statistics on the\\n:' +\n",
    "                  'reduced Chi-squared.'\n",
    "                 )\n",
    "            \n",
    "            mean_rchisq = self.poisson_noise_gain_correction(model,\n",
    "                                                             fitter,\n",
    "                                                             method,\n",
    "                                                             bounded\n",
    "                                                            )\n",
    "            \n",
    "            model.multifit(fitter  = fitter, \n",
    "                           method  = method,\n",
    "                           bounded = bounded\n",
    "                          )\n",
    "        \n",
    "        elif (self.attr_deconv == True):\n",
    "            model.components.Zero_Loss_Peak.active      = False\n",
    "            model.components.First_Plasmon_Peak.active  = True\n",
    "            model.components.Second_Plasmon_Peak.active = False\n",
    "            \n",
    "            plasmonenergy = self.fit_fpp_only(upper_bound,\n",
    "                                              model, \n",
    "                                              fitter, \n",
    "                                              method\n",
    "                                             )\n",
    "            \n",
    "            model.set_signal_range(self.elastic_threshold, \n",
    "                                   1.5 * plasmonenergy\n",
    "                                  )\n",
    "            \n",
    "            print('Correcting poissonian noise for the gain factor of\\n' +\n",
    "                  'the EELS - detector by generating statistics on the\\n:' +\n",
    "                  'reduced Chi-squared.'\n",
    "                 )\n",
    "            \n",
    "            mean_rchisq = self.poisson_noise_gain_correction(model,\n",
    "                                                             fitter,\n",
    "                                                             method,\n",
    "                                                             bounded\n",
    "                                                            )\n",
    "            \n",
    "            model.multifit(fitter  = fitter, \n",
    "                           method  = method,\n",
    "                           bounded = bounded\n",
    "                          )\n",
    "        \n",
    "        self.Chisq       = model.chisq\n",
    "        self.red_Chisq   = model.red_chisq\n",
    "        self.rchisq_mean = np.mean(self.red_Chisq.data[np.invert(np.isnan(self.red_Chisq.data))])\n",
    "        self.rchisq_std  = np.std(self.red_Chisq.data[np.invert(np.isnan(self.red_Chisq.data))])\n",
    "\n",
    "        print('Adj. fit goodness (reduced Chi squared): ', self.rchisq_mean)\n",
    "        print('Standard deviation of adj. fit goodness: ', self.rchisq_std)\n",
    "        \n",
    "        return model\n",
    "    \n",
    "    \n",
    "    def fit_eels_SAMF(self, \n",
    "                      fitter, \n",
    "                      method, \n",
    "                      multithreading, \n",
    "                      workers\n",
    "                     ):\n",
    "        \"\"\"\n",
    "        Comments missing\n",
    "        \"\"\"\n",
    "        print('Reinitialising poissonian noise estimation...')\n",
    "        self.File.estimate_poissonian_noise_variance()\n",
    "        \n",
    "        model, params = self.init_model()\n",
    "        \n",
    "        if (method == 'ls'):\n",
    "            bounded = True\n",
    "        \n",
    "        else:\n",
    "            bounded = False\n",
    "        \n",
    "        self.set_bounds(model, bounded)\n",
    "        \n",
    "        offset = self.File.axes_manager['Energy loss'].offset\n",
    "        scale  = self.File.axes_manager['Energy loss'].scale\n",
    "        size   = self.File.axes_manager['Energy loss'].size\n",
    "        \n",
    "        e_max  = float(int(scale * size + offset))\n",
    "        \n",
    "        upper_bound = e_max\n",
    "        \n",
    "        if (self.attr_deconv == False):\n",
    "            self.set_second_plasmonenergy(model)\n",
    "            \n",
    "            self.fit_zlp_only(model, \n",
    "                              fitter, \n",
    "                              method,\n",
    "                              bounded\n",
    "                             )\n",
    "            \n",
    "            self.fit_pp_only(upper_bound,\n",
    "                             model, \n",
    "                             fitter, \n",
    "                             method,\n",
    "                             bounded\n",
    "                            )\n",
    "            \n",
    "            if (self.function_set == 'VolumePlasmonDrude'):\n",
    "                plasmonenergy = np.mean(\n",
    "                    model.components.First_Plasmon_Peak.plasmon_energy.as_signal(field='values').data\n",
    "                )\n",
    "                \n",
    "            \n",
    "            else:\n",
    "                plasmonenergy = np.mean(\n",
    "                    model.components.First_Plasmon_Peak.centre.as_signal(field='values').data\n",
    "                )\n",
    "            \n",
    "            model.components.Zero_Loss_Peak.active      = True\n",
    "            model.components.First_Plasmon_Peak.active  = True\n",
    "            model.components.Second_Plasmon_Peak.active = True\n",
    "            \n",
    "            model.set_signal_range(-self.elastic_threshold, \n",
    "                                   2.5 * plasmonenergy\n",
    "                                  )\n",
    "            \n",
    "            gui = self.yes_or_no('Do you want to adjust the starting parameters?')\n",
    "            if (gui == True):\n",
    "                self.model_gui(model)\n",
    "            \n",
    "            print('Correcting poissonian noise for the gain factor of\\n' +\n",
    "                  'the EELS - detector by generating statistics on the\\n:' +\n",
    "                  'reduced Chi-squared.'\n",
    "                 )\n",
    "            \n",
    "            mean_rchisq = self.poisson_noise_gain_correction(model,\n",
    "                                                             fitter,\n",
    "                                                             method,\n",
    "                                                             bounded\n",
    "                                                            )\n",
    "            \n",
    "            print('Generating_seeds for SAMFire...')\n",
    "            \n",
    "            self.generate_seeds(model,\n",
    "                                fitter,\n",
    "                                method,\n",
    "                                bounded\n",
    "                               )\n",
    "            \n",
    "            samf = model.create_samfire(workers=workers, \n",
    "                                        ipyparallel=multithreading, \n",
    "                                        setup=True\n",
    "                                       )\n",
    "\n",
    "            samf.metadata.goodness_test.tolerance = mean_rchisq * 1.5\n",
    "            samf.remove(1)\n",
    "            samf.refresh_database()\n",
    "\n",
    "            samf.start(fitter=fitter, \n",
    "                       method=method,\n",
    "                       bounded=bounded\n",
    "                      )\n",
    "\n",
    "            plt.close()\n",
    "            \n",
    "        \n",
    "        elif (self.attr_deconv == True):\n",
    "            model.components.Zero_Loss_Peak.active      = False\n",
    "            model.components.First_Plasmon_Peak.active  = True\n",
    "            model.components.Second_Plasmon_Peak.active = False\n",
    "            \n",
    "            plasmonenergy = self.fit_fpp_only(upper_bound,\n",
    "                                              model, \n",
    "                                              fitter,\n",
    "                                              method,\n",
    "                                              bounded\n",
    "                                             )\n",
    "            \n",
    "            model.set_signal_range(self.elastic_threshold, \n",
    "                                   1.5 * plasmonenergy\n",
    "                                  )\n",
    "            \n",
    "            print('Correcting poissonian noise for the gain factor of\\n' +\n",
    "                  'the EELS - detector by generating statistics on the\\n' +\n",
    "                  'reduced Chi-squared.'\n",
    "                 )\n",
    "            \n",
    "            mean_rchisq = self.poisson_noise_gain_correction(model,\n",
    "                                                             fitter,\n",
    "                                                             method,\n",
    "                                                             bounded\n",
    "                                                            )\n",
    "            \n",
    "            print('Generating_seeds for SAMFire...')\n",
    "            \n",
    "            self.generate_seeds(model,\n",
    "                                fitter,\n",
    "                                method,\n",
    "                                bounded\n",
    "                               )\n",
    "            \n",
    "            samf = model.create_samfire(workers=workers, \n",
    "                                        ipyparallel=multithreading, \n",
    "                                        setup=True\n",
    "                                       )\n",
    "\n",
    "            samf.metadata.goodness_test.tolerance = mean_rchisq * 1.5\n",
    "            samf.remove(1)\n",
    "            samf.refresh_database()\n",
    "\n",
    "            samf.start(fitter=fitter, \n",
    "                       method=method,\n",
    "                       bounded=bounded\n",
    "                      )\n",
    "        \n",
    "        try:\n",
    "            self.Chisq       = model.chisq\n",
    "            self.red_Chisq   = model.red_chisq\n",
    "            self.rchisq_mean = np.mean(self.red_Chisq.data[np.invert(np.isnan(self.red_Chisq.data))])\n",
    "            self.rchisq_std  = np.std(self.red_Chisq.data[np.invert(np.isnan(self.red_Chisq.data))])\n",
    "\n",
    "            print('Adj. fit goodness (reduced Chi squared): ', self.rchisq_mean)\n",
    "            print('Standard deviation of adj. fit goodness: ', self.rchisq_std)\n",
    "        except:\n",
    "            print('did not work')\n",
    "        return model\n",
    "    \n",
    "    \n",
    "    def generate_seeds(self,\n",
    "                       model,\n",
    "                       fitter,\n",
    "                       method,\n",
    "                       bounded\n",
    "                      ):\n",
    "        \"\"\"\n",
    "        Calling serial fit routine for a #number of pixels to gather statistics\n",
    "        on the reduced chi squared.\n",
    "        (#number = steps|steps^2, dependence of navigation dimension) \n",
    "        \n",
    "        The pixel selection is homogenously distributed over the navigation space,\n",
    "        to estimate local deviations of the mean parameter solutions.\n",
    "        This way, SAMFire will have optimally close solutions for the parameter\n",
    "        space to estimate neighbouring pixels and propagate fast.\n",
    "        \n",
    "        It is a requirement for SAMFire.\n",
    "        For multifit routine: functionality is only needed for gain correction!\n",
    "        \"\"\"\n",
    "        steps = 10\n",
    "        \n",
    "        if (model.axes_manager.navigation_dimension == 1):\n",
    "            \n",
    "            for i in range(steps):\n",
    "                step_x = int(self.File.axes_manager.navigation_shape[0]/steps)\n",
    "\n",
    "                model.axes_manager.indices = (int(step_x/2+i*step_x),)\n",
    "\n",
    "                model.fit(fitter=fitter, \n",
    "                          method=method,\n",
    "                          bounded=bounded\n",
    "                         )\n",
    "\n",
    "\n",
    "        elif (model.axes_manager.navigation_dimension == 2):\n",
    "\n",
    "            for i in range(steps):\n",
    "                for j in range(steps):\n",
    "                    step_x = int(self.File.axes_manager.navigation_shape[0]/steps)\n",
    "                    step_y = int(self.File.axes_manager.navigation_shape[1]/steps)\n",
    "\n",
    "                    model.axes_manager.indices = (int(step_x/2 + i*step_x), \n",
    "                                                  int(step_y/2 + j*step_y))\n",
    "\n",
    "                    model.fit(fitter=fitter, \n",
    "                              method=method,\n",
    "                              bounded=bounded\n",
    "                             )\n",
    "                        \n",
    "        \n",
    "    def poisson_noise_gain_correction(self,\n",
    "                                      model,\n",
    "                                      fitter,\n",
    "                                      method,\n",
    "                                      bounded\n",
    "                                     ):\n",
    "        \"\"\"\n",
    "        Adjusting the poissonian noise by considering the influence of the \n",
    "        gain factor, as it is a multiplier attached to the poissonian noise.\n",
    "        \n",
    "        This will use the reduced chi squared to estimate the gain factor by\n",
    "        assuming a optimal model, setting the mean chi squared to 1.\n",
    "        \n",
    "        Therefore all information on the fit goodness of the model is adjusted.\n",
    "        \"\"\"\n",
    "        self.generate_seeds(model,\n",
    "                            fitter,\n",
    "                            method,\n",
    "                            bounded\n",
    "                           )\n",
    "\n",
    "        red_chisq = model.red_chisq.data\n",
    "        mean_rchisq = np.mean(red_chisq[np.invert(np.isnan(red_chisq))])\n",
    "        \n",
    "        print('Including gain factor of detector in poissonian noise. Rescaling...')\n",
    "        self.File.estimate_poissonian_noise_variance(gain_factor=mean_rchisq)\n",
    "        return mean_rchisq\n",
    "    \n",
    "    \n",
    "    def save_models_to_file(self, \n",
    "                            filename\n",
    "                           ):\n",
    "        \"\"\"\n",
    "        Comments missing\n",
    "        \"\"\"\n",
    "        self.File.save(filename)\n",
    "\n",
    "    \n",
    "    def load_model(self):\n",
    "        \"\"\"\n",
    "        Comments missing\n",
    "        \"\"\"\n",
    "        print('Modelinformation of loaded file: \\n' + str(self.File.models))\n",
    "        available = np.full((12), True, dtype=bool)\n",
    "        print('Available models: \\n')\n",
    "        \n",
    "        #Check existing models\n",
    "        for i in range(len(available)):\n",
    "            try:\n",
    "                self.model_name = self.models_dict[str(i)]\n",
    "                self.restore_model()\n",
    "            except:\n",
    "                available[i] = False\n",
    "            \n",
    "            if (available[i] == True):\n",
    "                print('For ' + self.models_dict[str(i)] + \n",
    "                      ' type: \"' + str(i) + \n",
    "                      '\" or the full model name.\\n'\n",
    "                     )\n",
    "        \n",
    "        if (available[available].size == 0):\n",
    "            print('No model is available. Exiting.')\n",
    "            return None\n",
    "        \n",
    "        print('\\nIf you want to exit the model loading process,' + \n",
    "              'please type: (\"exit\"/\"cancel\")'\n",
    "             )\n",
    "        mkey = input(\"Which model should be loaded? \")\n",
    "\n",
    "        if (mkey == 'exit' or mkey == 'cancel'):\n",
    "            print('Loading process is interrupted by user input.')\n",
    "            return None\n",
    "        \n",
    "        elif (mkey in self.models_dict and available[int(mkey)] == True):\n",
    "            print('Loading parameter maps for: ' + \n",
    "                  str(self.models_dict[mkey])\n",
    "                 )\n",
    "            self.model_name = self.models_dict[mkey]\n",
    "\n",
    "            self.restore_model()\n",
    "            self.function_set = self.split(self.models_dict[mkey], ('_'))[0]\n",
    "            self.Chisq        = self.Fit_Model.chisq\n",
    "            self.red_Chisq    = self.Fit_Model.red_chisq\n",
    "\n",
    "        else:\n",
    "            try:\n",
    "                print('Loading parameter maps for: ' + str(mkey))\n",
    "                self.model_name   = mkey\n",
    "\n",
    "                self.restore_model()\n",
    "                self.function_set = self.split(self.models_dict[mname], ('_'))[0]\n",
    "                self.Chisq        = self.Fit_Model.chisq\n",
    "                self.red_Chisq    = self.Fit_Model.red_chisq\n",
    "            \n",
    "            except:\n",
    "                print('Your input did not match with any existing model of the loaded file, please try again.')\n",
    "                self.load_model()\n",
    "        \n",
    "        method = self.split(self.models_dict[mkey], ('_'))[-1]\n",
    "        self.generate_param_maps(method)\n",
    "\n",
    "    \n",
    "    def restore_model(self):\n",
    "        \"\"\"\n",
    "        Comments missing\n",
    "        \"\"\"\n",
    "        self.Fit_Model  = self.File.models.restore(self.model_name)\n",
    "            \n",
    "    \n",
    "    def voigt_fwhm_gauss_propagation(self,\n",
    "                                     func\n",
    "                                    ):\n",
    "        # fwhm - gaussian error propagation for voigt\n",
    "        func_dict = {'Zero_Loss_Peak'      : self.Fit_Model.components.Zero_Loss_Peak,\n",
    "                     'First_Plasmon_Peak'  : self.Fit_Model.components.First_Plasmon_Peak,\n",
    "                     'Second_Plasmon_Peak' : self.Fit_Model.components.Second_Plasmon_Peak\n",
    "                    }\n",
    "\n",
    "        gamma_zlp = func_dict[func].gamma.as_signal(\n",
    "            field = 'values'\n",
    "        )\n",
    "\n",
    "        L_fwhm    = np.add(gamma_zlp, \n",
    "                           gamma_zlp\n",
    "                          )\n",
    "\n",
    "        G_fwhm    = func_dict[func].FWHM.as_signal(\n",
    "            field = 'values'\n",
    "        )\n",
    "\n",
    "        gamma_zlp = func_dict[func].gamma.as_signal(\n",
    "            field = 'std'\n",
    "        )\n",
    "\n",
    "        L_fwhm_std = np.add(gamma_zlp, \n",
    "                            gamma_zlp\n",
    "                           )\n",
    "\n",
    "        G_fwhm_std = func_dict[func].FWHM.as_signal(\n",
    "            field = 'std'\n",
    "        )\n",
    "\n",
    "        dfwhm_dl = (L_fwhm * 0.2166 / ( L_fwhm**2 * 0.2166 + \n",
    "                                       G_fwhm**2 )**(1/2) + \n",
    "                    0.5346\n",
    "                   )\n",
    "\n",
    "        dfwhm_dg = (G_fwhm / ( L_fwhm ** 2 * 0.2166 + \n",
    "                              G_fwhm ** 2 )**(1/2)          \n",
    "                   )\n",
    "\n",
    "        error = np.sqrt((G_fwhm_std * dfwhm_dg) ** 2 + \n",
    "                        (L_fwhm_std * dfwhm_dl) ** 2 \n",
    "                       )\n",
    "\n",
    "        return error\n",
    "    \n",
    "    \n",
    "    def Ep_q0_gauss_propagation(self):\n",
    "        emax  = self.FPP_Emax \n",
    "        fwhm  = self.FPP_FWHM\n",
    "        \n",
    "        Ep_q0 = ( emax ** 2 - (fwhm / 2) ** 2 ) ** 0.5\n",
    "        \n",
    "        dEp_demax = emax * 2 / ( emax ** 2 * 4 + \n",
    "                                fwhm ** 2 \n",
    "                               ) ** (1/2)\n",
    "        dEp_dfwhm = fwhm * (1/2) / ( emax ** 2 * 4 + \n",
    "                                  fwhm ** 2 \n",
    "                                 ) ** (1/2)\n",
    "        \n",
    "        emax_std = self.FPP_Emax.metadata.Signal.Noise_properties.variance ** (1/2)\n",
    "        fwhm_std = self.FPP_FWHM.metadata.Signal.Noise_properties.variance ** (1/2)\n",
    "        \n",
    "        Ep_q0_std = ( ( dEp_demax * emax_std ) ** 2 + ( dEp_dfwhm * fwhm_std ) ** 2 ) ** (1/2)\n",
    "        \n",
    "        return Ep_q0_std\n",
    "        \n",
    "    \n",
    "    def param_maps_drude(self):\n",
    "        self.FPP_FWHM   = self.Fit_Model.components.First_Plasmon_Peak.fwhm.as_signal(\n",
    "            field = 'values'\n",
    "        )\n",
    "        \n",
    "        self.FPP_Emax   = self.Fit_Model.components.First_Plasmon_Peak.plasmon_energy.as_signal(\n",
    "            field = 'values'\n",
    "        )\n",
    "        \n",
    "        self.FPP_Int    = self.Fit_Model.components.First_Plasmon_Peak.intensity.as_signal(\n",
    "            field = 'values'\n",
    "        )\n",
    "\n",
    "        if (self.attr_deconv == False):\n",
    "            gamma_zlp = self.Fit_Model.components.Zero_Loss_Peak.gamma.as_signal(\n",
    "                field = 'values'\n",
    "            )\n",
    "            \n",
    "            ZLP_L_fwhm      = np.add(gamma_zlp, \n",
    "                                     gamma_zlp\n",
    "                                    )\n",
    "            \n",
    "            ZLP_G_fwhm      = self.Fit_Model.components.Zero_Loss_Peak.FWHM.as_signal(\n",
    "                field = 'values'\n",
    "            )\n",
    "            \n",
    "            self.ZLP_FWHM   = (ZLP_L_fwhm*0.5346 + \n",
    "                               np.sqrt(ZLP_G_fwhm**2 + ZLP_L_fwhm**2*0.2166)\n",
    "                              )\n",
    "            \n",
    "            self.ZLP_Emax   = self.Fit_Model.components.Zero_Loss_Peak.centre.as_signal(\n",
    "                field = 'values'\n",
    "            )\n",
    "            \n",
    "            self.ZLP_Int    = self.Fit_Model.components.Zero_Loss_Peak.area.as_signal(\n",
    "                field = 'values'\n",
    "            )\n",
    "            \n",
    "\n",
    "            self.SPP_FWHM   = self.Fit_Model.components.Second_Plasmon_Peak.fwhm.as_signal(\n",
    "                field = 'values'\n",
    "            )\n",
    "            \n",
    "            self.SPP_Emax   = self.Fit_Model.components.Second_Plasmon_Peak.plasmon_energy.as_signal(\n",
    "                field = 'values'\n",
    "            )\n",
    "            \n",
    "            self.SPP_Int    = self.Fit_Model.components.Second_Plasmon_Peak.intensity.as_signal(\n",
    "                field = 'values'\n",
    "            )\n",
    "\n",
    "        self.Ep_q0      = ( self.FPP_Emax**2 - (self.FPP_FWHM / 2)**2 )**0.5\n",
    "        \n",
    "    \n",
    "    def std_maps_drude(self):\n",
    "        self.FPP_FWHM.metadata.Signal.set_item(\n",
    "            \"Noise_properties.variance\", \n",
    "            self.Fit_Model.components.First_Plasmon_Peak.fwhm.as_signal(\n",
    "                field = 'std'\n",
    "            ) ** 2\n",
    "        )\n",
    "        \n",
    "        self.FPP_Emax.metadata.Signal.set_item(\n",
    "            \"Noise_properties.variance\", \n",
    "            self.Fit_Model.components.First_Plasmon_Peak.plasmon_energy.as_signal(\n",
    "                field = 'std'\n",
    "            ) ** 2\n",
    "        )\n",
    "        \n",
    "        self.FPP_Int.metadata.Signal.set_item(\n",
    "            \"Noise_properties.variance\", \n",
    "            self.Fit_Model.components.First_Plasmon_Peak.intensity.as_signal(\n",
    "                field = 'std'\n",
    "            ) ** 2\n",
    "        )\n",
    "\n",
    "        if (self.attr_deconv == False):\n",
    "            error = self.voigt_fwhm_gauss_propagation('Zero_Loss_Peak')\n",
    "            \n",
    "            self.ZLP_FWHM.metadata.Signal.set_item(\n",
    "                \"Noise_properties.variance\", \n",
    "                error ** 2\n",
    "            )\n",
    "            \n",
    "            self.ZLP_Emax.metadata.Signal.set_item(\n",
    "                \"Noise_properties.variance\", \n",
    "                self.Fit_Model.components.Zero_Loss_Peak.centre.as_signal(\n",
    "                    field = 'std'\n",
    "                ) ** 2\n",
    "            )\n",
    "            \n",
    "            self.ZLP_Int.metadata.Signal.set_item(\n",
    "                \"Noise_properties.variance\", \n",
    "                self.Fit_Model.components.Zero_Loss_Peak.area.as_signal(\n",
    "                    field = 'std'\n",
    "                ) ** 2\n",
    "            )\n",
    "\n",
    "            self.SPP_FWHM.metadata.Signal.set_item(\n",
    "                \"Noise_properties.variance\", \n",
    "                self.Fit_Model.components.Second_Plasmon_Peak.fwhm.as_signal(\n",
    "                    field = 'std'\n",
    "                ) ** 2\n",
    "            )\n",
    "            \n",
    "            self.SPP_Emax.metadata.Signal.set_item(\n",
    "                \"Noise_properties.variance\", \n",
    "                self.Fit_Model.components.Second_Plasmon_Peak.plasmon_energy.as_signal(\n",
    "                    field = 'std'\n",
    "                ) ** 2\n",
    "            )\n",
    "            \n",
    "            self.SPP_Int.metadata.Signal.set_item(\n",
    "                \"Noise_properties.variance\", \n",
    "                self.Fit_Model.components.Second_Plasmon_Peak.intensity.as_signal(\n",
    "                    field = 'std'\n",
    "                ) ** 2\n",
    "            )\n",
    "        \n",
    "\n",
    "        Ep_q0_std = self.Ep_q0_gauss_propagation()\n",
    "        \n",
    "        self.Ep_q0.metadata.Signal.set_item(\n",
    "            \"Noise_properties.variance\", \n",
    "            Ep_q0_std ** 2\n",
    "        )\n",
    "        \n",
    "    \n",
    "    def param_maps_lorentzian(self):\n",
    "        gamma_fpp = self.Fit_Model.components.First_Plasmon_Peak.gamma.as_signal(\n",
    "            field = 'values'\n",
    "        )\n",
    "        \n",
    "        self.FPP_FWHM   = np.add(gamma_fpp, gamma_fpp)\n",
    "        \n",
    "        self.FPP_Emax   = self.Fit_Model.components.First_Plasmon_Peak.centre.as_signal(\n",
    "            field = 'values'\n",
    "        )\n",
    "        \n",
    "        self.FPP_Int    = self.Fit_Model.components.First_Plasmon_Peak.A.as_signal(\n",
    "            field = 'values'\n",
    "        )\n",
    "\n",
    "        if (self.attr_deconv == False):\n",
    "            gamma_zlp = self.Fit_Model.components.Zero_Loss_Peak.gamma.as_signal(\n",
    "                field = 'values'\n",
    "            )\n",
    "            \n",
    "            ZLP_L_fwhm      = np.add(gamma_zlp, \n",
    "                                     gamma_zlp\n",
    "                                    )\n",
    "            \n",
    "            ZLP_G_fwhm      = self.Fit_Model.components.Zero_Loss_Peak.FWHM.as_signal(\n",
    "                field = 'values'\n",
    "            )\n",
    "            \n",
    "            self.ZLP_FWHM   = (ZLP_L_fwhm*0.5346 + \n",
    "                               np.sqrt(ZLP_G_fwhm**2 + \n",
    "                                       ZLP_L_fwhm**2*0.2166\n",
    "                                      )\n",
    "                              )\n",
    "            \n",
    "            self.ZLP_Emax   = self.Fit_Model.components.Zero_Loss_Peak.centre.as_signal(\n",
    "                field = 'values'\n",
    "            )\n",
    "            \n",
    "            self.ZLP_Int    = self.Fit_Model.components.Zero_Loss_Peak.area.as_signal(\n",
    "                field = 'values'\n",
    "            )\n",
    "            \n",
    "\n",
    "            gamma_spp = self.Fit_Model.components.Second_Plasmon_Peak.gamma.as_signal(\n",
    "                field = 'values'\n",
    "            )\n",
    "            \n",
    "            self.SPP_FWHM   = np.add(gamma_spp, \n",
    "                                     gamma_spp\n",
    "                                    )\n",
    "            \n",
    "            self.SPP_Emax   = self.Fit_Model.components.Second_Plasmon_Peak.centre.as_signal(\n",
    "                field = 'values'\n",
    "            )\n",
    "            \n",
    "            self.SPP_Int    = self.Fit_Model.components.Second_Plasmon_Peak.A.as_signal(\n",
    "                field = 'values'\n",
    "            )\n",
    "        \n",
    "\n",
    "        self.Ep_q0      = ( self.FPP_Emax**2 - (self.FPP_FWHM / 2)**2 )**0.5\n",
    "    \n",
    "    \n",
    "    def std_maps_lorentzian(self):\n",
    "        self.FPP_FWHM.metadata.Signal.set_item(\n",
    "            \"Noise_properties.variance\", \n",
    "            self.Fit_Model.components.First_Plasmon_Peak.gamma.as_signal(\n",
    "                field = 'std'\n",
    "            ) ** 2\n",
    "        )\n",
    "        \n",
    "        self.FPP_Emax.metadata.Signal.set_item(\n",
    "            \"Noise_properties.variance\", \n",
    "            self.Fit_Model.components.First_Plasmon_Peak.centre.as_signal(\n",
    "                field = 'std'\n",
    "            ) ** 2\n",
    "        )\n",
    "        \n",
    "        self.FPP_Int.metadata.Signal.set_item(\n",
    "            \"Noise_properties.variance\", \n",
    "            self.Fit_Model.components.First_Plasmon_Peak.A.as_signal(\n",
    "                field = 'std'\n",
    "            ) ** 2\n",
    "        )\n",
    "\n",
    "        if (self.attr_deconv == False):\n",
    "            error = self.voigt_fwhm_gauss_propagation('Zero_Loss_Peak')\n",
    "            \n",
    "            self.ZLP_FWHM.metadata.Signal.set_item(\n",
    "                \"Noise_properties.variance\", \n",
    "                error ** 2\n",
    "            )\n",
    "            \n",
    "            self.ZLP_Emax.metadata.Signal.set_item(\n",
    "                \"Noise_properties.variance\", \n",
    "                self.Fit_Model.components.Zero_Loss_Peak.centre.as_signal(\n",
    "                    field = 'std'\n",
    "                ) ** 2\n",
    "            )\n",
    "            \n",
    "            self.ZLP_Int.metadata.Signal.set_item(\n",
    "                \"Noise_properties.variance\", \n",
    "                self.Fit_Model.components.Zero_Loss_Peak.area.as_signal(\n",
    "                    field = 'std'\n",
    "                ) ** 2\n",
    "            )\n",
    "            \n",
    "            \n",
    "            self.SPP_FWHM.metadata.Signal.set_item(\n",
    "                \"Noise_properties.variance\", \n",
    "                self.Fit_Model.components.Second_Plasmon_Peak.gamma.as_signal(\n",
    "                    field = 'std'\n",
    "                ) ** 2\n",
    "            )\n",
    "            \n",
    "            self.SPP_Emax.metadata.Signal.set_item(\n",
    "                \"Noise_properties.variance\", \n",
    "                self.Fit_Model.components.Second_Plasmon_Peak.centre.as_signal(\n",
    "                    field = 'std'\n",
    "                ) ** 2\n",
    "            )\n",
    "            \n",
    "            self.SPP_Int.metadata.Signal.set_item(\n",
    "                \"Noise_properties.variance\", \n",
    "                self.Fit_Model.components.Second_Plasmon_Peak.A.as_signal(\n",
    "                    field = 'std'\n",
    "                ) ** 2\n",
    "            )\n",
    "        \n",
    "\n",
    "        Ep_q0_std = self.Ep_q0_gauss_propagation()\n",
    "        \n",
    "        self.Ep_q0.metadata.Signal.set_item(\n",
    "            \"Noise_properties.variance\", \n",
    "            Ep_q0_std ** 2\n",
    "        )\n",
    "        \n",
    "    \n",
    "    def param_maps_gaussian(self):\n",
    "        self.FPP_FWHM   = self.Fit_Model.components.First_Plasmon_Peak.sigma.as_signal(\n",
    "                field = 'values'\n",
    "        )*2*np.sqrt(np.log(2))\n",
    "        \n",
    "        self.FPP_Emax   = self.Fit_Model.components.First_Plasmon_Peak.centre.as_signal(\n",
    "            field = 'values'\n",
    "        )\n",
    "        \n",
    "        self.FPP_Int    = self.Fit_Model.components.First_Plasmon_Peak.A.as_signal(\n",
    "            field = 'values'\n",
    "        )\n",
    "\n",
    "        if (self.attr_deconv == False):\n",
    "            gamma_zlp = self.Fit_Model.components.Zero_Loss_Peak.gamma.as_signal(\n",
    "                field = 'values'\n",
    "            )\n",
    "            \n",
    "            ZLP_L_fwhm      = np.add(gamma_zlp, \n",
    "                                     gamma_zlp\n",
    "                                    )\n",
    "            \n",
    "            ZLP_G_fwhm      = self.Fit_Model.components.Zero_Loss_Peak.FWHM.as_signal(\n",
    "                field = 'values'\n",
    "            )\n",
    "            \n",
    "            self.ZLP_FWHM   = (ZLP_L_fwhm*0.5346 + \n",
    "                               np.sqrt(ZLP_G_fwhm**2 + ZLP_L_fwhm**2*0.2166)\n",
    "                              )\n",
    "            \n",
    "            self.ZLP_Emax   = self.Fit_Model.components.Zero_Loss_Peak.centre.as_signal(\n",
    "                field = 'values'\n",
    "            )\n",
    "            \n",
    "            self.ZLP_Int    = self.Fit_Model.components.Zero_Loss_Peak.area.as_signal(\n",
    "                field = 'values'\n",
    "            )\n",
    "\n",
    "            \n",
    "            self.SPP_FWHM   = self.Fit_Model.components.Second_Plasmon_Peak.sigma.as_signal(\n",
    "                field = 'values'\n",
    "            )*2*np.sqrt(np.log(2))\n",
    "            \n",
    "            self.SPP_Emax   = self.Fit_Model.components.Second_Plasmon_Peak.centre.as_signal(\n",
    "                field = 'values'\n",
    "            )\n",
    "            \n",
    "            self.SPP_Int    = self.Fit_Model.components.Second_Plasmon_Peak.A.as_signal(\n",
    "                field = 'values'\n",
    "            )\n",
    "        \n",
    "\n",
    "        self.Ep_q0      = ( self.FPP_Emax**2 - (self.FPP_FWHM / 2)**2 )**0.5\n",
    "        \n",
    "    \n",
    "    def std_maps_gaussian(self):\n",
    "        self.FPP_FWHM.metadata.Signal.set_item(\n",
    "            \"Noise_properties.variance\", \n",
    "            sigma_fpp_std = self.Fit_Model.components.First_Plasmon_Peak.sigma.as_signal(\n",
    "                field = 'std'\n",
    "            ) ** 2\n",
    "        )\n",
    "        \n",
    "        self.FPP_Emax.metadata.Signal.set_item(\n",
    "            \"Noise_properties.variance\", \n",
    "            self.Fit_Model.components.First_Plasmon_Peak.centre.as_signal(\n",
    "                field = 'std'\n",
    "            ) ** 2\n",
    "        )\n",
    "        \n",
    "        self.FPP_Int.metadata.Signal.set_item(\n",
    "            \"Noise_properties.variance\", \n",
    "            self.Fit_Model.components.First_Plasmon_Peak.A.as_signal(\n",
    "                field = 'std'\n",
    "            ) ** 2\n",
    "        )\n",
    "\n",
    "        if (self.attr_deconv == False):\n",
    "            error = self.voigt_fwhm_gauss_propagation('Zero_Loss_Peak')\n",
    "            \n",
    "            self.ZLP_FWHM.metadata.Signal.set_item(\n",
    "                \"Noise_properties.variance\", \n",
    "                error ** 2\n",
    "            )\n",
    "            \n",
    "            self.ZLP_Emax.metadata.Signal.set_item(\n",
    "                \"Noise_properties.variance\", \n",
    "                self.Fit_Model.components.Zero_Loss_Peak.centre.as_signal(\n",
    "                    field = 'std'\n",
    "                ) ** 2\n",
    "            )\n",
    "            \n",
    "            self.ZLP_Int.metadata.Signal.set_item(\n",
    "                \"Noise_properties.variance\", \n",
    "                self.Fit_Model.components.Zero_Loss_Peak.area.as_signal(\n",
    "                    field = 'std'\n",
    "                ) ** 2\n",
    "            )\n",
    "\n",
    "            \n",
    "            self.SPP_FWHM.metadata.Signal.set_item(\n",
    "                \"Noise_properties.variance\", \n",
    "                self.Fit_Model.components.Second_Plasmon_Peak.gamma.as_signal(\n",
    "                    field = 'std'\n",
    "                ) ** 2\n",
    "            )\n",
    "            \n",
    "            self.SPP_Emax.metadata.Signal.set_item(\n",
    "                \"Noise_properties.variance\", \n",
    "                self.Fit_Model.components.Second_Plasmon_Peak.centre.as_signal(\n",
    "                    field = 'std'\n",
    "                ) ** 2\n",
    "            )\n",
    "            \n",
    "            self.SPP_Int.metadata.Signal.set_item(\n",
    "                \"Noise_properties.variance\", \n",
    "                self.Fit_Model.components.Second_Plasmon_Peak.A.as_signal(\n",
    "                    field = 'std'\n",
    "                ) ** 2\n",
    "            )\n",
    "\n",
    "        Ep_q0_std = self.Ep_q0_gauss_propagation()\n",
    "        \n",
    "        self.Ep_q0.metadata.Signal.set_item(\n",
    "            \"Noise_properties.variance\", \n",
    "            Ep_q0_std ** 2\n",
    "        )\n",
    "    \n",
    "    \n",
    "    def param_maps_voigt(self):\n",
    "        gamma_fpp = self.Fit_Model.components.First_Plasmon_Peak.gamma.as_signal(\n",
    "                    field = 'values'\n",
    "        )\n",
    "        FPP_L_fwhm      = np.add(gamma_fpp, \n",
    "                                 gamma_fpp\n",
    "                                )\n",
    "        FPP_G_fwhm      = self.Fit_Model.components.First_Plasmon_Peak.FWHM.as_signal(\n",
    "            field = 'values'\n",
    "        )\n",
    "        self.FPP_FWHM   = (FPP_L_fwhm*0.5346 + \n",
    "                           np.sqrt(FPP_G_fwhm**2 + \n",
    "                                   FPP_L_fwhm**2*0.2166\n",
    "                                  )\n",
    "                          )\n",
    "        self.FPP_Emax   = self.Fit_Model.components.First_Plasmon_Peak.centre.as_signal(\n",
    "            field = 'values'\n",
    "        )\n",
    "        self.FPP_Int    = self.Fit_Model.components.First_Plasmon_Peak.area.as_signal(\n",
    "            field = 'values'\n",
    "        )\n",
    "\n",
    "        if (self.attr_deconv == False):\n",
    "            gamma_zlp = self.Fit_Model.components.Zero_Loss_Peak.gamma.as_signal(\n",
    "                field = 'values'\n",
    "            )\n",
    "            ZLP_L_fwhm      = np.add(gamma_zlp, \n",
    "                                     gamma_zlp\n",
    "                                    )\n",
    "            ZLP_G_fwhm      = self.Fit_Model.components.Zero_Loss_Peak.FWHM.as_signal(\n",
    "                field = 'values'\n",
    "            )\n",
    "            self.ZLP_FWHM   = (ZLP_L_fwhm*0.5346 + \n",
    "                               np.sqrt(ZLP_G_fwhm**2 + \n",
    "                                       ZLP_L_fwhm**2*0.2166\n",
    "                                      )\n",
    "                              )\n",
    "            self.ZLP_Emax   = self.Fit_Model.components.Zero_Loss_Peak.centre.as_signal(\n",
    "                field = 'values'\n",
    "            )\n",
    "            self.ZLP_Int    = self.Fit_Model.components.Zero_Loss_Peak.area.as_signal(\n",
    "                field = 'values'\n",
    "            )\n",
    "\n",
    "            gamma_spp = self.Fit_Model.components.Second_Plasmon_Peak.gamma.as_signal(\n",
    "                field = 'values'\n",
    "            )\n",
    "            SPP_L_fwhm      = np.add(gamma_spp, \n",
    "                                     gamma_spp\n",
    "                                    )\n",
    "            SPP_G_fwhm      = self.Fit_Model.components.Second_Plasmon_Peak.FWHM.as_signal(\n",
    "                field = 'values'\n",
    "            )\n",
    "            self.SPP_FWHM   = (SPP_L_fwhm*0.5346 + \n",
    "                               np.sqrt(SPP_G_fwhm**2 + \n",
    "                                       SPP_L_fwhm**2*0.2166\n",
    "                                      )\n",
    "                              )\n",
    "            self.SPP_Emax   = self.Fit_Model.components.Second_Plasmon_Peak.centre.as_signal(\n",
    "                field = 'values'\n",
    "            )\n",
    "            self.SPP_Int    = self.Fit_Model.components.Second_Plasmon_Peak.area.as_signal(\n",
    "                field = 'values'\n",
    "            )\n",
    "\n",
    "        self.Ep_q0      = ( self.FPP_Emax**2 - (self.FPP_FWHM / 2)**2 )**0.5\n",
    "        \n",
    "    \n",
    "    def std_maps_voigt(self):\n",
    "        error = self.voigt_fwhm_gauss_propagation('First_Plasmon_Peak')\n",
    "        \n",
    "        self.FPP_FWHM.metadata.Signal.set_item(\n",
    "            \"Noise_properties.variance\", \n",
    "            error ** 2\n",
    "        )\n",
    "        \n",
    "        self.FPP_Emax.metadata.Signal.set_item(\n",
    "            \"Noise_properties.variance\", \n",
    "            self.Fit_Model.components.First_Plasmon_Peak.centre.as_signal(\n",
    "                field = 'std'\n",
    "            ) ** 2\n",
    "        )\n",
    "        \n",
    "        self.FPP_Int.metadata.Signal.set_item(\n",
    "            \"Noise_properties.variance\", \n",
    "            self.Fit_Model.components.First_Plasmon_Peak.area.as_signal(\n",
    "                field = 'std'\n",
    "            ) ** 2\n",
    "        )\n",
    "\n",
    "        if (self.attr_deconv == False):\n",
    "            error = self.voigt_fwhm_gauss_propagation('Zero_Loss_Peak')\n",
    "            \n",
    "            self.ZLP_FWHM.metadata.Signal.set_item(\n",
    "                \"Noise_properties.variance\", \n",
    "                error ** 2\n",
    "            )\n",
    "            \n",
    "            self.ZLP_Emax.metadata.Signal.set_item(\n",
    "                \"Noise_properties.variance\", \n",
    "                self.Fit_Model.components.Zero_Loss_Peak.centre.as_signal(\n",
    "                    field = 'std'\n",
    "                ) ** 2\n",
    "            )\n",
    "            \n",
    "            self.ZLP_Int.metadata.Signal.set_item(\n",
    "                \"Noise_properties.variance\", \n",
    "                self.Fit_Model.components.Zero_Loss_Peak.area.as_signal(\n",
    "                    field = 'std'\n",
    "                ) ** 2\n",
    "            )\n",
    "\n",
    "            \n",
    "            error = self.voigt_fwhm_gauss_propagation('Second_Plasmon_Peak')\n",
    "            \n",
    "            self.ZLP_FWHM.metadata.Signal.set_item(\n",
    "                \"Noise_properties.variance\", \n",
    "                error ** 2\n",
    "            )\n",
    "            \n",
    "            self.SPP_Emax.metadata.Signal.set_item(\n",
    "                \"Noise_properties.variance\", \n",
    "                self.Fit_Model.components.Second_Plasmon_Peak.centre.as_signal(\n",
    "                    field = 'std'\n",
    "                ) ** 2\n",
    "            )\n",
    "            \n",
    "            self.SPP_Int.metadata.Signal.set_item(\n",
    "                \"Noise_properties.variance\", \n",
    "                self.Fit_Model.components.Second_Plasmon_Peak.area.as_signal(\n",
    "                    field = 'std'\n",
    "                ) ** 2\n",
    "            )\n",
    "\n",
    "        Ep_q0_std = self.Ep_q0_gauss_propagation()\n",
    "        \n",
    "        self.Ep_q0.metadata.Signal.set_item(\n",
    "            \"Noise_properties.variance\", \n",
    "            Ep_q0_std ** 2\n",
    "        )\n",
    "\n",
    "\n",
    "    def generate_param_maps(self, \n",
    "                            method\n",
    "                           ):\n",
    "        \"\"\"\n",
    "        Generating parameter maps to estimate the plasmonic peakshift,\n",
    "        which is calculated by [Egerton] as follows:  \n",
    "                        \n",
    "            $E_p (q=0) = \\sqrt{ (E_max)^2 + (\\frac{\\hbar \\Gamma}{2}) }$\n",
    "        \n",
    "        \n",
    "         Standard deviation estimation of parameters by fitting is only\n",
    "         supported by wheighted least square method.\n",
    "         It uses gaussian error propagation for some functional dependencies.\n",
    "         E.g.: The uncertainty for $E_p (q=0)$ is calculated by gaussian\n",
    "                error propagation (the standard deviations of the variables\n",
    "                                   are propagated)\n",
    "        \"\"\"\n",
    "        if (self.function_set == 'VolumePlasmonDrude'):\n",
    "            self.param_maps_drude()\n",
    "            \n",
    "            if (method == 'ls'):\n",
    "                self.std_maps_drude()\n",
    "            \n",
    "        elif (self.function_set == 'Lorentzian'):\n",
    "            self.param_maps_lorentzian()\n",
    "            if (method == 'ls'):\n",
    "                self.std_maps_lorentzian()\n",
    "        \n",
    "        elif (self.function_set == 'Gaussian'):\n",
    "            self.param_maps_gaussian()\n",
    "            if (method == 'ls'):\n",
    "                self.std_maps_gaussian()\n",
    "            \n",
    "        elif (self.function_set == 'Voigt'):\n",
    "            self.param_maps_voigt()\n",
    "            if (method == 'ls'):\n",
    "                self.std_maps_voigt()\n",
    "        \n",
    "        else:\n",
    "            print('No valid function set specified. Please look into docstring for further information.')\n",
    "        \n",
    "        \n",
    "        if (self.attr_deconv == False):\n",
    "            self.param_dict        = { '$E_{max}$ - Plasmon Peak'              : self.FPP_Emax,\n",
    "                                       '$\\Gamma$ - Plasmon Peak'               : self.FPP_FWHM,\n",
    "                                       'Intensity - Plasmon Peak'              : self.FPP_Int,\n",
    "\n",
    "                                       '$E_{max}$ - Zero Loss Peak'            : self.ZLP_Emax,\n",
    "                                       '$\\Gamma$ - Zero Loss Peak'             : self.ZLP_FWHM,\n",
    "                                       'Intensity - Zero Loss Peak'            : self.ZLP_Int,\n",
    "\n",
    "                                       '$E_{max}$ - Second Order Plasmon Peak' : self.SPP_Emax,\n",
    "                                       '$\\Gamma$ - Second Order Plasmon Peak'  : self.SPP_FWHM,\n",
    "                                       'Intensity - Second Order Plasmon Peak' : self.SPP_Int,\n",
    "\n",
    "                                       '$E_p(q=0)$ - Plasmon Energy'           : self.Ep_q0,\n",
    "                                       '$I_{PP}/I_{ZLP}$ - Intensity Ratio'    : self.FPP_Int / self.ZLP_Int\n",
    "                                     }\n",
    "            for title in self.param_dict:\n",
    "                self.param_dict[title].metadata.General.title = title\n",
    "            \n",
    "        else:\n",
    "            self.param_dict_deconv = { '$E_{max}$ - Plasmon Peak'              : self.FPP_Emax,\n",
    "                                       '$\\Gamma$ - Plasmon Peak'               : self.FPP_FWHM,\n",
    "                                       'Intensity - Plasmon Peak'              : self.FPP_Int,\n",
    "\n",
    "                                       '$E_p(q=0)$ - Plasmon Energy'           : self.Ep_q0\n",
    "                                     }\n",
    "            for title in self.param_dict_deconv:\n",
    "                self.param_dict_deconv[title].metadata.General.title = title\n",
    "    \n",
    "    \n",
    "    def plot_file(self, \n",
    "                  darkfield = False,\n",
    "                  slider    = False\n",
    "                 ):\n",
    "        \"\"\"\n",
    "        Comments missing\n",
    "        \"\"\"\n",
    "        if (self.Darkfield != None and darkfield == True):\n",
    "            self.File.plot(navigator = self.Darkfield)\n",
    "            \n",
    "        elif (slider == True):\n",
    "            self.File.plot(navigator = 'slider')\n",
    "        \n",
    "        else:\n",
    "            self.File.plot()\n",
    "        \n",
    "    \n",
    "    def plot_histogramm(self):\n",
    "        \"\"\"\n",
    "        Comments missing\n",
    "        \"\"\"\n",
    "        a.File.get_histogram().plot()\n",
    "            \n",
    "    \n",
    "    def plot_model(self,\n",
    "                   navigator       = True,\n",
    "                   show_components = False\n",
    "                  ):\n",
    "        \"\"\"\n",
    "        Comments missing\n",
    "        \"\"\"\n",
    "        self.Fit_Model.plot(navigator       = navigator,\n",
    "                            plot_components = show_components\n",
    "                           )\n",
    "        \n",
    "\n",
    "    def plot_parameter_maps(self,\n",
    "                            first_plasmon_only = True,\n",
    "                            cmap               = 'hot'\n",
    "                           ):\n",
    "        \"\"\"\n",
    "        Visualize all parameter maps that were previously generated.\n",
    "        \"\"\"\n",
    "        if (self.attr_deconv == False and first_plasmon_only == False):\n",
    "            for title in self.param_dict:\n",
    "                mean = self.param_dict[title].mean(axis=(0,1)).data[0]\n",
    "                std  = self.param_dict[title].std(axis=(0,1)).data[0]\n",
    "\n",
    "                self.param_dict[title].plot(vmin = mean - 2 * std, \n",
    "                                            vmax = mean + 2 * std, \n",
    "                                            cmap = cmap,\n",
    "                                            axes_ticks=True\n",
    "                                            #, scalebar_color='black'\n",
    "                                           )\n",
    "                \n",
    "        else:\n",
    "            for title in self.param_dict_deconv:\n",
    "                mean = self.param_dict_deconv[title].mean(axis=(0,1)).data[0]\n",
    "                std  = self.param_dict_deconv[title].std(axis=(0,1)).data[0]\n",
    "\n",
    "                self.param_dict_deconv[title].plot(vmin = mean - 2 * std, \n",
    "                                                   vmax = mean + 2 * std,\n",
    "                                                   cmap = cmap,\n",
    "                                                   axes_ticks=True\n",
    "                                                   #, scalebar_color='black'\n",
    "                                                  )\n",
    "    \n",
    "    \n",
    "    def print_stats(self):\n",
    "        \"\"\"\n",
    "        Printing standard file information.\n",
    "        \"\"\"\n",
    "        print('Statistics of loaded spectrum image:')\n",
    "        self.File.print_summary_statistics()\n",
    "        print('Statistics of deconvolved spectrum image:')\n",
    "        self.File_deconv.print_summary_statistics()\n",
    "    \n",
    "    \n",
    "    def print_param_stats(self):\n",
    "        \"\"\"\n",
    "        Printing standard parameter information\n",
    "        \"\"\"\n",
    "        if (self.attr_deconv == False):\n",
    "            for title in self.param_dict:\n",
    "                print(title)\n",
    "                self.param_dict[title].print_summary_statistics()\n",
    "            \n",
    "        else:\n",
    "            for title in self.param_dict_deconv:\n",
    "                print(title)\n",
    "                self.param_dict_deconv[title].print_summary_statistics()\n",
    "    \n",
    "    \n",
    "    def create_dirs(self):\n",
    "        \"\"\"\n",
    "        Creating directories and sub-directories for evaluation storage.\n",
    "        \"\"\"\n",
    "        for directory in self.dir_list:\n",
    "            if not os.path.exists(os.getcwd() + os.sep + directory):\n",
    "                os.makedirs(os.getcwd() + os.sep + directory)\n",
    "    \n",
    "    \n",
    "    def save_parameter_maps(self,\n",
    "                            dpi=300, \n",
    "                            fileformat='png'\n",
    "                           ):\n",
    "        \"\"\"\n",
    "        Saving function to save all generated parameter maps that were previously generated.\n",
    "        \"\"\"\n",
    "        self.create_dirs()\n",
    "        \n",
    "        dir_fname = {'$E_{max}$ - Plasmon Peak [eV]'         : 'FPP_Emax',\n",
    "                     '$\\Gamma$ - Plasmon Peak [eV]'          : 'FPP_FWHM',\n",
    "                     'Intensity - Plasmon Peak'              : 'FPP_Int' ,\n",
    "            \n",
    "                     '$E_{max}$ - Zero Loss Peak [eV]'       : 'ZLP_Emax',\n",
    "                     '$\\Gamma$ - Zero Loss Peak [eV]'        : 'ZLP_FWHM',\n",
    "                     'Intensity - Zero Loss Peak'            : 'ZLP_Int' ,\n",
    "                     \n",
    "                     '$E_{max}$ - Second Plasmon Peak [eV]'  : 'SPP_Emax',\n",
    "                     '$\\Gamma$ -  Second Plasmon Peak [eV]'  : 'SPP_FWHM',\n",
    "                     'Intensity - Second Plasmon Peak'       : 'SPP_Int' ,\n",
    "                     \n",
    "                     '$E_p(q=0)$ - Plasmon Energy [eV]'      : 'Ep_q0'\n",
    "                    }\n",
    "        \n",
    "        if (self.attr_deconv == False):\n",
    "            for title in self.param_dict:\n",
    "                fname = os.getcwd() + os.sep + self.dir_list[0] + os.sep + dir_fname[title]\n",
    "                self.param_dict[title].metadata.General.title = title\n",
    "                self.param_dict[title].plot(scalebar_color='black')\n",
    "                plt.savefig(fname, dpi=dpi, extension=fileformat)\n",
    "                plt.close()\n",
    "                \n",
    "        else:\n",
    "            for title in self.param_dict_deconv:\n",
    "                fname = os.getcwd() + os.sep + self.dir_list[0] + os.sep + dir_fname[title]\n",
    "                self.param_dict_deconv[title].metadata.General.title = title\n",
    "                self.param_dict_deconv[title].plot(scalebar_color='black')\n",
    "                plt.savefig(fname, dpi=dpi, extension=fileformat)\n",
    "                plt.close()\n",
    "\n",
    "        fname = os.getcwd() + os.sep + 'Model_Chisq'\n",
    "        self.Chisq.metadata.General.title = 'Goodness of Fit: $\\Chi ^2$'\n",
    "        self.Chisq.plot(scalebar_color='black')\n",
    "        plt.savefig(fname, dpi=dpi, extension=fileformat)\n",
    "        plt.close()\n",
    "        \n",
    "        fname = os.getcwd() + os.sep + self.dir_list[0] + os.sep + 'Model_red_Chisq'\n",
    "        self.red_Chisq.metadata.General.title = 'Goodness of Fit: $\\Chi_{\\nu} ^2$'\n",
    "        self.red_Chisq.plot(scalebar_color='black')\n",
    "        plt.savefig(fname, dpi=dpi, extension=fileformat)\n",
    "        plt.close()\n",
    "        \n",
    "        fname = os.getcwd() + os.sep + self.dir_list[1] + os.sep + 'Foil_thickness'\n",
    "        self.thickness_map.plot(scalebar_color='black')\n",
    "        plt.savefig(fname, dpi=dpi, extension=fileformat)\n",
    "        plt.close()\n",
    "        \n",
    "    \n",
    "    def line_roi(self, \n",
    "                 param_map,\n",
    "                 interactive=False,\n",
    "                 width=0\n",
    "                ):\n",
    "        \"\"\"\n",
    "        Comments missing\n",
    "        \"\"\"\n",
    "        if (self.line == None):\n",
    "            x1 = 0 \n",
    "            y1 = 0 \n",
    "            x2 = 15 \n",
    "            y2 = 15\n",
    "            \n",
    "            self.line = hs.roi.Line2DROI(x1 * param_map.axes_manager[0].scale + \n",
    "                                         param_map.axes_manager[0].offset,\n",
    "                                         y1 * param_map.axes_manager[1].scale + \n",
    "                                         param_map.axes_manager[1].offset,\n",
    "                                         x2 * param_map.axes_manager[0].scale + \n",
    "                                         param_map.axes_manager[0].offset,\n",
    "                                         y2 * param_map.axes_manager[1].scale + \n",
    "                                         param_map.axes_manager[1].offset,\n",
    "                                         linewidth = width * param_map.axes_manager[0].scale\n",
    "                                        )\n",
    "        \n",
    "        interactive = self.yes_or_no('Do you want to use the interactive gui?' + '\\n' +\n",
    "                                     'Adjusting position is possible using the interactive gui.'\n",
    "                                    )\n",
    "        \n",
    "        if (interactive == True):\n",
    "            param_map.plot(scalebar_color='black')\n",
    "            return self.line.interactive(param_map)\n",
    "            \n",
    "        else:\n",
    "            return self.line(param_map)\n",
    "\n",
    "            \n",
    "    def line_std(self, \n",
    "                 param_map\n",
    "                ):\n",
    "        \"\"\"\n",
    "        Comments missing\n",
    "        \"\"\"\n",
    "        if (self.line == None):\n",
    "            print('No line is defined. No calculation of standard deviation is possible.')\n",
    "            return\n",
    "        \n",
    "        angle = self.line.angle()\n",
    "        width = self.line.linewidth\n",
    "        \n",
    "        line_std = self.line_scan.deepcopy()\n",
    "        \n",
    "        for i in range(len(self.line_scan.data)):\n",
    "            print('next:')\n",
    "            coord_x = self.line.x1 + i * param_map.axes_manager[0].scale * np.cos(angle)\n",
    "            coord_y = self.line.y1 + i * param_map.axes_manager[0].scale * np.sin(angle)\n",
    "            print(coord_x, coord_y)\n",
    "            x1_std = coord_x + width/2 * np.sin(angle)\n",
    "            y1_std = coord_y + width/2 * np.cos(angle)\n",
    "            x2_std = coord_x - width/2 * np.sin(angle)\n",
    "            y2_std = coord_y - width/2 * np.cos(angle)\n",
    "            \n",
    "            tmp_line = hs.roi.Line2DROI(x1_std,\n",
    "                                        y1_std,\n",
    "                                        x2_std,\n",
    "                                        y2_std,\n",
    "                                        linewidth = self.line_scan.axes_manager[0].scale\n",
    "                                       )\n",
    "            print(tmp_line)\n",
    "            std_coords  = tmp_line(param_map).std(axis=0).data[0]\n",
    "            print(std_coords)\n",
    "            line_std.data[i] = std_coords\n",
    "        \n",
    "        return line_std\n",
    "            \n",
    "    \n",
    "    def rect_roi(self, \n",
    "                 param_map,\n",
    "                 interactive=False,\n",
    "                ):\n",
    "        \"\"\"\n",
    "        Comments missing\n",
    "        \"\"\"\n",
    "        if (self.roi == None):\n",
    "            left   = 0 \n",
    "            top    = 0 \n",
    "            right  = 15 \n",
    "            bottom = 15\n",
    "            \n",
    "            self.roi = hs.roi.RectangularROI(param_map.axes_manager.signal_axes[0].offset +\n",
    "                                             left   * param_map.axes_manager.signal_axes[0].scale,\n",
    "                                             param_map.axes_manager.signal_axes[1].offset +\n",
    "                                             top    * param_map.axes_manager.signal_axes[1].scale,\n",
    "                                             param_map.axes_manager.signal_axes[0].offset +\n",
    "                                             right  * param_map.axes_manager.signal_axes[0].scale,\n",
    "                                             param_map.axes_manager.signal_axes[1].offset +\n",
    "                                             bottom * param_map.axes_manager.signal_axes[1].scale\n",
    "                                            )\n",
    "        \n",
    "        interactive = self.yes_or_no('Do you want to use the interactive gui?' + '\\n' +\n",
    "                                     'Adjusting position is possible using the interactive gui.'\n",
    "                                    )\n",
    "        if (interactive == True):\n",
    "            param_map.plot(scalebar_color='black')\n",
    "            return self.roi.interactive(param_map)\n",
    "            \n",
    "        else:\n",
    "            return self.roi(param_map)\n",
    "            \n",
    "            \n",
    "    def generate_linescan(self,\n",
    "                          param_map,\n",
    "                          interactive = False,\n",
    "                          roi         = False,\n",
    "                          width       = 5\n",
    "                         ):\n",
    "        \"\"\"\n",
    "        Comments missing\n",
    "        \"\"\"        \n",
    "        line_scan = self.line_roi(param_map, \n",
    "                                  interactive = interactive, \n",
    "                                  width       = width\n",
    "                                 )\n",
    "        \n",
    "        line_std  = self.line_std(param_map)\n",
    "        line_scan.metadata.Signal.set_item(\"Noise_properties.variance\", \n",
    "                                           line_std\n",
    "                                          )\n",
    "        line_scan.metadata.General.title = (param_map.metadata.General.title + \n",
    "                                            str(' - line scan')\n",
    "                                           )\n",
    "        \n",
    "        self.linescans[param_map.metadata.General.title] = line_scan\n",
    "        \n",
    "    \n",
    "    # Calculate thickness by log ratio of ZLP-Area to Total Area of EELS-data\n",
    "    def calc_thickness(self, elements, concentrations):\n",
    "        \"\"\"\n",
    "        Estimation of the sample thickness by the Log-Ratio method\n",
    "                \n",
    "            LATEX Formula:\n",
    "                t = \\lambda \\ln{ \\frac{I_t}{I_0} }\n",
    "                \n",
    "                with:\n",
    "                         I_t = total intensity\n",
    "                    and  I_0 = elastically scattered intensity\n",
    "        \n",
    "        For more information see:\n",
    "            EELS Log-Ratio Technique for Specimen-Thickness\n",
    "            Measurement in the TEM                    \n",
    "        \n",
    "            MALIS, S.C. CHENG, AND R.F. EGERTON\n",
    "            JOURNAL OF ELECTRON MICROSCOPY TECHNIQUE 8:193-200 11988)\n",
    "        \n",
    "        Mean Free Path (\\lambda) estimation is automated for a given elemental \n",
    "        composition.\n",
    "        \n",
    "        IMPORTANT:\n",
    "            MFP-Automation takes metadata of file as input. Please verify that \n",
    "            values for beam energy and collection angle specified in .dm3/.dm4 \n",
    "            files are correct before using this function.\n",
    "        \n",
    "        Currently supported elements: \n",
    "        (\n",
    "         Ag, Al, Au, Be, Ca, Ce, Cu, Dy, Er, Eu, Fe, Gd, Ho, La, Lu, Mg, Nb, \n",
    "         Nd, Ni, P, Pd, Pm, Pr, Sm, Sn, Tb, Ti, Y, Yb, Zn, Zr\n",
    "        )\n",
    "        \"\"\"\n",
    "        t_lambda           = self.File.estimate_thickness(threshold=self.elastic_threshold).T\n",
    "        mfp                = self.estimate_MFP(elements, concentrations)\n",
    "        self.thickness_map = t_lambda * mfp\n",
    "        \n",
    "        self.thickness_map.metadata.General.title = r'thickness map $t = \\lambda \\cdot \\ln{\\frac{I_t}{I_0}}$' \n",
    "    \n",
    "    \n",
    "    def estimate_MFP(self, elements, concentrations):#, elements, concentration):\n",
    "        \"\"\"\n",
    "        Estimation of the Mean Free Path for a given elemental composition.\n",
    "        \n",
    "        IMPORTANT:\n",
    "            MFP-Automation takes metadata of file as input. Please verify that \n",
    "            values for beam energy and collection angle specified in .dm3/.dm4 \n",
    "            files are correct before using this function.\n",
    "            Default values (if not specified in metadata):\n",
    "                E0   = 300 keV\n",
    "                beta =  10 mrad\n",
    "        \n",
    "        Currently supported elements: \n",
    "        (\n",
    "         Ag, Al, Au, Be, Ca, Ce, Cu, Dy, Er, Eu, Fe, Gd, Ho, La, Lu, Mg, Nb, \n",
    "         Nd, Ni, P, Pd, Pm, Pr, Sm, Sn, Tb, Ti, Y, Yb, Zn, Zr\n",
    "        )\n",
    "        \"\"\"\n",
    "        \n",
    "        element_dict = {'Ag' : mend.Ag,\n",
    "                        'Al' : mend.Au,\n",
    "                        'Au' : mend.Au,\n",
    "                        'Be' : mend.Be,\n",
    "                        'Ca' : mend.Ca,\n",
    "                        'Ce' : mend.Ce,\n",
    "                        'Cu' : mend.Cu,\n",
    "                        'Dy' : mend.Dy,\n",
    "                        'Er' : mend.Er,\n",
    "                        'Eu' : mend.Eu,\n",
    "                        'Fe' : mend.Fe,\n",
    "                        'Gd' : mend.Gd,\n",
    "                        'Ho' : mend.Ho,\n",
    "                        'La' : mend.La,\n",
    "                        'Lu' : mend.Lu,\n",
    "                        'Mg' : mend.Mg,\n",
    "                        'Nb' : mend.Nb,\n",
    "                        'Nd' : mend.Nd,\n",
    "                        'Ni' : mend.Ni,\n",
    "                        'P'  : mend.P,\n",
    "                        'Pd' : mend.Pd,\n",
    "                        'Pm' : mend.Pm,\n",
    "                        'Pr' : mend.Pr,\n",
    "                        'Pt' : mend.Pt,\n",
    "                        'Sm' : mend.Sm,\n",
    "                        'Sn' : mend.Sn,\n",
    "                        'Tb' : mend.Tb,\n",
    "                        'Ti' : mend.Ti,\n",
    "                        'Tm' : mend.Tm,\n",
    "                        'Y'  : mend.Y,\n",
    "                        'Yb' : mend.Yb,\n",
    "                        'Zn' : mend.Zn,\n",
    "                        'Zr' : mend.Zr\n",
    "                       }\n",
    "        \n",
    "        const              = 0.3 # Malis EELS paper - konstante r nach eq.(4)\n",
    "        number_of_elements = len(elements)\n",
    "        fi_Zi_numerator    = 0\n",
    "        fi_Zi_denominator  = 0\n",
    "\n",
    "        for i in range(number_of_elements):\n",
    "            \n",
    "            Z                  = element_dict[elements[i]].atomic_number\n",
    "            fi_Zi_numerator   += concentrations[i] * Z**(1+const)\n",
    "        \n",
    "        \n",
    "        for i in range(number_of_elements):\n",
    "            \n",
    "            Z                  = element_dict[elements[i]].atomic_number\n",
    "            fi_Zi_denominator += concentrations[i] * Z**(const)\n",
    "\n",
    "        Z_eff = fi_Zi_numerator/fi_Zi_denominator\n",
    "\n",
    "        m    = 0.36 # Malis EELS paper - exponent m nach eq.(8)\n",
    "        E_m  = 7.6*Z_eff**m # eq.(8): 7.6 eV\n",
    "        \n",
    "        E_0  = self.File.metadata.Acquisition_instrument.TEM.beam_energy\n",
    "        beta = self.File.metadata.Acquisition_instrument.TEM.Detector.EELS.collection_angle\n",
    "\n",
    "        F = (1 + E_0/1022)/(1 + E_0/511)**2 # Malis EELS paper - E_0 in keV nach eq.(6) \n",
    "\n",
    "        mean_free_path = 106 * F * E_0 / (E_m * np.log(2 * beta * E_0 / E_m))\n",
    "        \n",
    "        return mean_free_path\n",
    "    \n",
    "    \n",
    "    # Calculate the parametershifts between the gausfits of neighbouring pixels\n",
    "    def generate_linescans(self,\n",
    "                           parameter_shifts = False,\n",
    "                          ):\n",
    "        \"\"\"\n",
    "        Comments missing\n",
    "        \"\"\"\n",
    "        return\n",
    "        \n",
    "        \n",
    "        \n",
    "    def estimate_parametershift(self,\n",
    "                                linescan,\n",
    "                                maxpeakn = 1\n",
    "                               ):\n",
    "        \"\"\"\n",
    "        Calculate a parametershift by line scan analysis using a gaussian estimation\n",
    "        for signifcant shifts and a linear estimation for thickness dependence.\n",
    "        \"\"\"\n",
    "        #estimate thickness dependence of parameter shifts\n",
    "        def func_lin(x, a, b):\n",
    "            return a * x + b\n",
    "\n",
    "        #estimate parameter shifts due to shear band influence\n",
    "        def func_gaus(x, x0, height, sigma):\n",
    "            return height * np.exp(- 1/(2 * sigma^2) * (x - x0)**2)\n",
    "\n",
    "        #combined function to describe parameter shift \n",
    "        def func_all(x, a, b, x0, height, sigma):\n",
    "            return a * x + b + height * np.exp(- 1/(2 * sigma^2) * (x - x0)**2)\n",
    "\n",
    "        size                 = linescan.axes_manager.signal_axes[0].size\n",
    "        scale                = linescan.axes_manager.signal_axes[0].scale\n",
    "        offset               = linescan.axes_manager.signal_axes[0].offset\n",
    "        max_pos              = offset + size * scale\n",
    "        \n",
    "        linescan_pos         = np.linspace(offset, max_pos, size)\n",
    "        \n",
    "        popt_lin, pcov_lin   = curve_fit(func_lin, linescan_pos, linescan.data)\n",
    "        \n",
    "        # generate the substracted array for peak finding.\n",
    "        # look for peaks via ohaver, which only supports\n",
    "        # finding positive peaks. Therefore check if peaks\n",
    "        # were found and also check for the inverse.\n",
    "        linear_substraction  = func_lin(linescan_pos, *popt_lin)\n",
    "        substracted          = hs.signals.Signal1D(linescan.data - linear_substract)\n",
    "        substracted_inv      = hs.signals.Signal1D(linear_substract - linescan.data)\n",
    "        \n",
    "        # set the signal axis for both signals \n",
    "        substracted.axes_manager.signal_axes[0]     = linescan.axes_manager.signal_axes[0]\n",
    "        substracted_inv.axes_manager.signal_axes[0] = linescan.axes_manager.signal_axes[0]\n",
    "        \n",
    "        peaks_positive       = substracted.find_peaks1D_ohaver(maxpeakn = maxpeakn)\n",
    "        peaks_negative       = substracted_inv.find_peaks1D_ohaver(maxpeakn = maxpeakn)\n",
    "        print(peaks_positive, peaks_negative)\n",
    "        \n",
    "        popt_gaus, pcov_gaus = curve_fit(func_gaus, \n",
    "                                         linescan_pos, \n",
    "                                         linescan.data - linear_substract, \n",
    "                                         p0=peaks\n",
    "                                        )\n",
    "\n",
    "        popt_all, pcov_all   = curve_fit(func_all, \n",
    "                                         linescan_pos, \n",
    "                                         linescan.data,\n",
    "                                         p0 = np.append(popt_lin, popt_gaus)\n",
    "                                        )\n",
    "\n",
    "        plt.xlabel('position [nm]')\n",
    "        plt.ylabel('Plasmon energy [eV]')\n",
    "        plt.title(r'SB1 - Al Y Fe')\n",
    "        plt.plot(roi1_pos, \n",
    "                 func_all(roi1_pos, *popt_all), \n",
    "                 'r-', \n",
    "                 label='fit: a=%5.3f, b=%5.3f, A=%5.3f, B=%5.3f, x0=%5.3f' % tuple(popt_all)\n",
    "                )\n",
    "        plt.plot(roi1_pos, \n",
    "                 roi_1_centre.data\n",
    "                )\n",
    "        plt.legend()\n",
    "\n",
    "\n",
    "        #mean_M = np.mean(func_lin(roi1_pos, *popt_all[:2]))\n",
    "        #strain_energy[0,1] = func_all(popt_all[4], *popt_all)\n",
    "        #shift_energy[0] = (func_all(popt_all[4], *popt_all) - mean_M) / mean_M\n",
    "        #print('delta Ep: ' + str(shift_energy[0]) )"
   ]
  },
  {
   "cell_type": "code",
   "execution_count": 16,
   "metadata": {},
   "outputs": [
    {
     "ename": "NameError",
     "evalue": "name 'roi_area' is not defined",
     "output_type": "error",
     "traceback": [
      "\u001b[0;31m--------------------------------------------------------------------------\u001b[0m",
      "\u001b[0;31mNameError\u001b[0m                                Traceback (most recent call last)",
      "\u001b[0;32m<ipython-input-16-f89756c338a9>\u001b[0m in \u001b[0;36m<module>\u001b[0;34m\u001b[0m\n\u001b[1;32m      1\u001b[0m \u001b[0;32mimport\u001b[0m \u001b[0mcv2\u001b[0m\u001b[0;34m\u001b[0m\u001b[0;34m\u001b[0m\u001b[0m\n\u001b[1;32m      2\u001b[0m \u001b[0;34m\u001b[0m\u001b[0m\n\u001b[0;32m----> 3\u001b[0;31m \u001b[0mimg\u001b[0m\u001b[0;34m=\u001b[0m\u001b[0mroi_area\u001b[0m\u001b[0;34m.\u001b[0m\u001b[0mdata\u001b[0m\u001b[0;34m\u001b[0m\u001b[0;34m\u001b[0m\u001b[0m\n\u001b[0m\u001b[1;32m      4\u001b[0m \u001b[0;31m#img=cv2.imread('Figure_intensity_parameter_of_First_Plasmon_Peak_component_Signal.png')\u001b[0m\u001b[0;34m\u001b[0m\u001b[0;34m\u001b[0m\u001b[0;34m\u001b[0m\u001b[0m\n\u001b[1;32m      5\u001b[0m \u001b[0;34m\u001b[0m\u001b[0m\n",
      "\u001b[0;31mNameError\u001b[0m: name 'roi_area' is not defined"
     ]
    }
   ],
   "source": [
    "import cv2\n",
    "\n",
    "img=roi_area.data\n",
    "#img=cv2.imread('Figure_intensity_parameter_of_First_Plasmon_Peak_component_Signal.png') \n",
    "\n",
    "img=255*(1-(img-np.min(img))/(np.max(img)-np.min(img)))\n",
    "#img=255*(img-np.min(img))/(np.max(img)-np.min(img))\n",
    "\n",
    "img_gauss = cv2.GaussianBlur(img, (5,5), cv2.BORDER_DEFAULT)\n",
    "img_gauss=img_gauss.astype('uint8')\n",
    "vis = img_gauss.copy()\n",
    "mser = cv2.MSER_create()\n",
    "coordinates, bboxes = mser.detectRegions(img_gauss)\n",
    "\n",
    "hulls = [cv2.convexHull(p.reshape(-1, 1, 2)) for p in regions]\n",
    "cv2.polylines(img_gauss, hulls, 1, (0, 0, 255), 2)\n",
    "\n",
    "FD = cv2.Feature2D('MSER')\n",
    "kpoints = mser.detect(img_gauss)\n",
    "\n",
    "mask = np.zeros((img.shape[0], img.shape[1], 1), dtype=np.uint8)\n",
    "\n",
    "for contour in hulls:\n",
    "\n",
    "    cv2.drawContours(mask, [contour], -1, (255, 255, 255), -1)\n",
    "    \n",
    "sb_only = cv2.bitwise_and(img_gauss, img_gauss, mask=mask)\n",
    "\n",
    "\n",
    "coords = []\n",
    "for coord in coordinates:\n",
    "    bbox = cv2.boundingRect(coord)\n",
    "    x,y,w,h = bbox\n",
    "    if w< 10 or h < 10 or w/h > 5 or h/w > 5:\n",
    "        continue\n",
    "    coords.append(coord)"
   ]
  },
  {
   "cell_type": "code",
   "execution_count": 13,
   "metadata": {},
   "outputs": [
    {
     "ename": "NameError",
     "evalue": "name 'img_gauss' is not defined",
     "output_type": "error",
     "traceback": [
      "\u001b[0;31m--------------------------------------------------------------------------\u001b[0m",
      "\u001b[0;31mNameError\u001b[0m                                Traceback (most recent call last)",
      "\u001b[0;32m<ipython-input-13-e72bc27d342b>\u001b[0m in \u001b[0;36m<module>\u001b[0;34m\u001b[0m\n\u001b[1;32m     36\u001b[0m \u001b[0;31m## Fill with random colors\u001b[0m\u001b[0;34m\u001b[0m\u001b[0;34m\u001b[0m\u001b[0;34m\u001b[0m\u001b[0m\n\u001b[1;32m     37\u001b[0m \u001b[0mnp\u001b[0m\u001b[0;34m.\u001b[0m\u001b[0mrandom\u001b[0m\u001b[0;34m.\u001b[0m\u001b[0mseed\u001b[0m\u001b[0;34m(\u001b[0m\u001b[0;36m0\u001b[0m\u001b[0;34m)\u001b[0m\u001b[0;34m\u001b[0m\u001b[0;34m\u001b[0m\u001b[0m\n\u001b[0;32m---> 38\u001b[0;31m \u001b[0mcanvas1\u001b[0m \u001b[0;34m=\u001b[0m \u001b[0mimg_gauss\u001b[0m\u001b[0;34m.\u001b[0m\u001b[0mcopy\u001b[0m\u001b[0;34m(\u001b[0m\u001b[0;34m)\u001b[0m\u001b[0;34m\u001b[0m\u001b[0;34m\u001b[0m\u001b[0m\n\u001b[0m\u001b[1;32m     39\u001b[0m \u001b[0mcanvas2\u001b[0m \u001b[0;34m=\u001b[0m \u001b[0mcv2\u001b[0m\u001b[0;34m.\u001b[0m\u001b[0mcvtColor\u001b[0m\u001b[0;34m(\u001b[0m\u001b[0mimg_gauss\u001b[0m\u001b[0;34m,\u001b[0m \u001b[0mcv2\u001b[0m\u001b[0;34m.\u001b[0m\u001b[0mCOLOR_GRAY2BGR\u001b[0m\u001b[0;34m)\u001b[0m\u001b[0;34m\u001b[0m\u001b[0;34m\u001b[0m\u001b[0m\n\u001b[1;32m     40\u001b[0m \u001b[0mcanvas3\u001b[0m \u001b[0;34m=\u001b[0m \u001b[0mnp\u001b[0m\u001b[0;34m.\u001b[0m\u001b[0mzeros_like\u001b[0m\u001b[0;34m(\u001b[0m\u001b[0mcanvas2\u001b[0m\u001b[0;34m)\u001b[0m\u001b[0;34m\u001b[0m\u001b[0;34m\u001b[0m\u001b[0m\n",
      "\u001b[0;31mNameError\u001b[0m: name 'img_gauss' is not defined"
     ]
    }
   ],
   "source": [
    "\n",
    "\"\"\"\n",
    "colors = [[43, 43, 200], \n",
    "          [43, 75, 200], \n",
    "          [43, 106, 200], \n",
    "          [43, 137, 200], \n",
    "          [43, 169, 200], \n",
    "          [43, 200, 195], \n",
    "          [43, 200, 163], \n",
    "          [43, 200, 132], \n",
    "          [43, 200, 101], \n",
    "          [43, 200, 69], \n",
    "          [54, 200, 43], \n",
    "          [85, 200, 43], \n",
    "          [116, 200, 43], \n",
    "          [148, 200, 43], \n",
    "          [179, 200, 43], \n",
    "          [200, 184, 43], \n",
    "          [200, 153, 43], \n",
    "          [200, 122, 43], \n",
    "          [200, 90, 43], \n",
    "          [200, 59, 43], \n",
    "          [200, 43, 64], \n",
    "          [200, 43, 95], \n",
    "          [200, 43, 127], \n",
    "          [200, 43, 158], \n",
    "          [200, 43, 190], \n",
    "          [174, 43, 200], \n",
    "          [142, 43, 200], \n",
    "          [111, 43, 200], \n",
    "          [80, 43, 200], \n",
    "          [43, 43, 200]\n",
    "         ]\n",
    "\"\"\"\n",
    "\n",
    "## Fill with random colors\n",
    "np.random.seed(0)\n",
    "canvas1 = img_gauss.copy()\n",
    "canvas2 = cv2.cvtColor(img_gauss, cv2.COLOR_GRAY2BGR)\n",
    "canvas3 = np.zeros_like(canvas2)\n",
    "\n",
    "for cnt in coords:\n",
    "    xx = cnt[:,0]\n",
    "    yy = cnt[:,1]\n",
    "    color = colors[np.random.choice(len(colors))]\n",
    "    #canvas1[yy, xx] = color\n",
    "    canvas2[yy, xx] = color\n",
    "    canvas3[yy, xx] = color\n",
    "\n",
    "plt.imshow(canvas3)"
   ]
  },
  {
   "cell_type": "code",
   "execution_count": 145,
   "metadata": {},
   "outputs": [
    {
     "name": "stdout",
     "output_type": "stream",
     "text": [
      "Coordinates: 45.000000, 20.000000\n",
      "Coordinates: 45.000000, 20.000000\n",
      "Coordinates: 45.000000, 20.000000\n",
      "Coordinates: 45.000000, 20.000000\n",
      "Coordinates: 45.000000, 20.000000\n",
      "Coordinates: 45.000000, 20.000000\n",
      "Coordinates: 46.000000, 20.000000\n",
      "Coordinates: 47.000000, 20.000000\n",
      "Coordinates: 46.000000, 20.000000\n",
      "Coordinates: 46.000000, 20.000000\n",
      "Coordinates: 38.000000, 19.000000\n",
      "Coordinates: 40.000000, 24.000000\n",
      "Coordinates: 60.000000, 44.000000\n",
      "Coordinates: 40.000000, 44.000000\n",
      "Coordinates: 42.000000, 20.000000\n",
      "Coordinates: 42.000000, 20.000000\n",
      "Coordinates: 42.000000, 20.000000\n",
      "Coordinates: 42.000000, 20.000000\n",
      "Coordinates: 42.000000, 20.000000\n",
      "Coordinates: 41.000000, 20.000000\n",
      "Coordinates: 40.000000, 24.000000\n"
     ]
    }
   ],
   "source": [
    "for i in range(len(kpoints)):\n",
    "    print('Coordinates: %f, %f' %(int(kpoints[i].pt[0]), int(kpoints[i].pt[1])))"
   ]
  },
  {
   "cell_type": "code",
   "execution_count": 146,
   "metadata": {},
   "outputs": [],
   "source": [
    "#plt.imshow(vis)\n",
    "cv2.imshow('img', vis)\n",
    "\n",
    "#cv2.waitKey(0)\n",
    "\n",
    "#cv2.destroyAllWindows()"
   ]
  },
  {
   "cell_type": "code",
   "execution_count": 43,
   "metadata": {},
   "outputs": [
    {
     "data": {
      "text/plain": [
       "[array([[  3,   3],\n",
       "        [  4,   5],\n",
       "        [  5,   5],\n",
       "        ...,\n",
       "        [130,  23],\n",
       "        [155,  15],\n",
       "        [111,  17]], dtype=int32), array([[  3,   3],\n",
       "        [  4,   5],\n",
       "        [  5,   5],\n",
       "        ...,\n",
       "        [131,  17],\n",
       "        [141,  22],\n",
       "        [112,  23]], dtype=int32), array([[  3,   3],\n",
       "        [  4,   5],\n",
       "        [  5,   5],\n",
       "        ...,\n",
       "        [102,  19],\n",
       "        [117,  17],\n",
       "        [140,  22]], dtype=int32), array([[  3,   3],\n",
       "        [  4,   5],\n",
       "        [  5,   5],\n",
       "        ...,\n",
       "        [ 94,  24],\n",
       "        [134,  17],\n",
       "        [133,  23]], dtype=int32), array([[  3,   3],\n",
       "        [  4,   5],\n",
       "        [  5,   5],\n",
       "        ...,\n",
       "        [136,  22],\n",
       "        [122,  22],\n",
       "        [ 96,  20]], dtype=int32), array([[  3,   3],\n",
       "        [  4,   5],\n",
       "        [  5,   5],\n",
       "        ...,\n",
       "        [127,  18],\n",
       "        [112,  22],\n",
       "        [115,  21]], dtype=int32), array([[  3,   3],\n",
       "        [  4,   5],\n",
       "        [  5,   5],\n",
       "        ...,\n",
       "        [114,  21],\n",
       "        [100,  23],\n",
       "        [ 92,  21]], dtype=int32), array([[  3,   3],\n",
       "        [  4,   5],\n",
       "        [  5,   5],\n",
       "        ...,\n",
       "        [121,  20],\n",
       "        [123,  20],\n",
       "        [122,  19]], dtype=int32), array([[ 1,  1],\n",
       "        [ 2,  1],\n",
       "        [ 2,  2],\n",
       "        ...,\n",
       "        [60, 21],\n",
       "        [38, 21],\n",
       "        [52, 21]], dtype=int32), array([[ 1,  1],\n",
       "        [ 2,  1],\n",
       "        [ 2,  2],\n",
       "        ...,\n",
       "        [ 6, 23],\n",
       "        [33, 21],\n",
       "        [18, 28]], dtype=int32), array([[ 1,  1],\n",
       "        [ 2,  1],\n",
       "        [ 2,  2],\n",
       "        ...,\n",
       "        [ 5, 27],\n",
       "        [ 5, 28],\n",
       "        [ 4, 28]], dtype=int32)]"
      ]
     },
     "execution_count": 43,
     "metadata": {},
     "output_type": "execute_result"
    }
   ],
   "source": [
    "regions[]"
   ]
  },
  {
   "cell_type": "markdown",
   "metadata": {
    "ExecuteTime": {
     "end_time": "2018-06-04T07:24:37.479443Z",
     "start_time": "2018-06-04T07:24:37.472020Z"
    }
   },
   "source": [
    "# Testing _STZ-Mapping_ Routine"
   ]
  },
  {
   "cell_type": "code",
   "execution_count": 30,
   "metadata": {},
   "outputs": [
    {
     "name": "stdout",
     "output_type": "stream",
     "text": [
      "Reinitialising poissonian noise estimation...\n",
      "Estimate function parameters...\n"
     ]
    },
    {
     "data": {
      "application/vnd.jupyter.widget-view+json": {
       "model_id": "37d221585fc0452ea41abe67a81ecf55",
       "version_major": 2,
       "version_minor": 0
      },
      "text/plain": [
       "HBox(children=(IntProgress(value=0, max=1), HTML(value='')))"
      ]
     },
     "metadata": {},
     "output_type": "display_data"
    },
    {
     "data": {
      "application/vnd.jupyter.widget-view+json": {
       "model_id": "9b96004f3f8c4dce8b8721086250621e",
       "version_major": 2,
       "version_minor": 0
      },
      "text/plain": [
       "HBox(children=(IntProgress(value=0, max=1), HTML(value='')))"
      ]
     },
     "metadata": {},
     "output_type": "display_data"
    },
    {
     "name": "stdout",
     "output_type": "stream",
     "text": [
      "params [array([(14.90902532, 112.05876665, 3.03228091),\n",
      "       (29.9662939 ,  51.84620311, 6.0579164 )],\n",
      "      dtype=[('position', '<f8'), ('height', '<f8'), ('width', '<f8')])]\n",
      "fpp_fwhm 3.0322809136931803\n",
      "fpp_int 52339.63976985681\n",
      "spp_int 15701.891930957043\n",
      "Estimate function parameters...\n"
     ]
    },
    {
     "data": {
      "application/vnd.jupyter.widget-view+json": {
       "model_id": "58ffffff1b0549f78d55d8a04227969d",
       "version_major": 2,
       "version_minor": 0
      },
      "text/plain": [
       "HBox(children=(IntProgress(value=0, max=1), HTML(value='')))"
      ]
     },
     "metadata": {},
     "output_type": "display_data"
    },
    {
     "data": {
      "application/vnd.jupyter.widget-view+json": {
       "model_id": "e012dab67e414aab97435ba2f4e2e9b0",
       "version_major": 2,
       "version_minor": 0
      },
      "text/plain": [
       "HBox(children=(IntProgress(value=0, max=1), HTML(value='')))"
      ]
     },
     "metadata": {},
     "output_type": "display_data"
    },
    {
     "name": "stdout",
     "output_type": "stream",
     "text": [
      "params [array([(14.90902532, 112.05876665, 3.03228091),\n",
      "       (29.9662939 ,  51.84620311, 6.0579164 )],\n",
      "      dtype=[('position', '<f8'), ('height', '<f8'), ('width', '<f8')])]\n",
      "fpp_fwhm 3.0322809136931803\n",
      "fpp_int 52339.63976985681\n",
      "spp_int 15701.891930957043\n",
      "52339.63976985681\n",
      "15701.891930957043\n",
      "Estimate function parameters...\n"
     ]
    },
    {
     "data": {
      "application/vnd.jupyter.widget-view+json": {
       "model_id": "743a457ae97442389ca47014f1ad10d9",
       "version_major": 2,
       "version_minor": 0
      },
      "text/plain": [
       "HBox(children=(IntProgress(value=0, max=1), HTML(value='')))"
      ]
     },
     "metadata": {},
     "output_type": "display_data"
    },
    {
     "data": {
      "application/vnd.jupyter.widget-view+json": {
       "model_id": "a2db488879bd42799a5476b1308a1b02",
       "version_major": 2,
       "version_minor": 0
      },
      "text/plain": [
       "HBox(children=(IntProgress(value=0, max=1), HTML(value='')))"
      ]
     },
     "metadata": {},
     "output_type": "display_data"
    },
    {
     "name": "stdout",
     "output_type": "stream",
     "text": [
      "params [array([(14.90902532, 112.05876665, 3.03228091),\n",
      "       (29.9662939 ,  51.84620311, 6.0579164 )],\n",
      "      dtype=[('position', '<f8'), ('height', '<f8'), ('width', '<f8')])]\n",
      "fpp_fwhm 3.0322809136931803\n",
      "fpp_int 52339.63976985681\n",
      "spp_int 15701.891930957043\n",
      "Estimate function parameters...\n"
     ]
    },
    {
     "data": {
      "application/vnd.jupyter.widget-view+json": {
       "model_id": "7e803cdb84754659a3481bd4d843d6f1",
       "version_major": 2,
       "version_minor": 0
      },
      "text/plain": [
       "HBox(children=(IntProgress(value=0, max=1), HTML(value='')))"
      ]
     },
     "metadata": {},
     "output_type": "display_data"
    },
    {
     "data": {
      "application/vnd.jupyter.widget-view+json": {
       "model_id": "953b522f74154a8198d78b1615b3a1e0",
       "version_major": 2,
       "version_minor": 0
      },
      "text/plain": [
       "HBox(children=(IntProgress(value=0, max=1), HTML(value='')))"
      ]
     },
     "metadata": {},
     "output_type": "display_data"
    },
    {
     "name": "stdout",
     "output_type": "stream",
     "text": [
      "params [array([(14.90902532, 112.05876665, 3.03228091),\n",
      "       (29.9662939 ,  51.84620311, 6.0579164 )],\n",
      "      dtype=[('position', '<f8'), ('height', '<f8'), ('width', '<f8')])]\n",
      "fpp_fwhm 3.0322809136931803\n",
      "fpp_int 52339.63976985681\n",
      "spp_int 15701.891930957043\n",
      "52339.63976985681\n",
      "15701.891930957043\n",
      "Estimate function parameters...\n"
     ]
    },
    {
     "data": {
      "application/vnd.jupyter.widget-view+json": {
       "model_id": "9d9e7bd5fc124189925798f86a96710f",
       "version_major": 2,
       "version_minor": 0
      },
      "text/plain": [
       "HBox(children=(IntProgress(value=0, max=1), HTML(value='')))"
      ]
     },
     "metadata": {},
     "output_type": "display_data"
    },
    {
     "data": {
      "application/vnd.jupyter.widget-view+json": {
       "model_id": "ecfe3ad65d2d4d6da405aa4db5a94872",
       "version_major": 2,
       "version_minor": 0
      },
      "text/plain": [
       "HBox(children=(IntProgress(value=0, max=1), HTML(value='')))"
      ]
     },
     "metadata": {},
     "output_type": "display_data"
    },
    {
     "name": "stdout",
     "output_type": "stream",
     "text": [
      "params [array([(14.90902532, 112.05876665, 3.03228091),\n",
      "       (29.9662939 ,  51.84620311, 6.0579164 )],\n",
      "      dtype=[('position', '<f8'), ('height', '<f8'), ('width', '<f8')])]\n",
      "fpp_fwhm 3.0322809136931803\n",
      "fpp_int 52339.63976985681\n",
      "spp_int 15701.891930957043\n",
      "Estimate function parameters...\n"
     ]
    },
    {
     "data": {
      "application/vnd.jupyter.widget-view+json": {
       "model_id": "ca0faf2f329645a68c8402ee617b0b5b",
       "version_major": 2,
       "version_minor": 0
      },
      "text/plain": [
       "HBox(children=(IntProgress(value=0, max=1), HTML(value='')))"
      ]
     },
     "metadata": {},
     "output_type": "display_data"
    },
    {
     "data": {
      "application/vnd.jupyter.widget-view+json": {
       "model_id": "6e61798c2f5f435cbc7cc17046d029b0",
       "version_major": 2,
       "version_minor": 0
      },
      "text/plain": [
       "HBox(children=(IntProgress(value=0, max=1), HTML(value='')))"
      ]
     },
     "metadata": {},
     "output_type": "display_data"
    },
    {
     "name": "stdout",
     "output_type": "stream",
     "text": [
      "params [array([(14.90902532, 112.05876665, 3.03228091),\n",
      "       (29.9662939 ,  51.84620311, 6.0579164 )],\n",
      "      dtype=[('position', '<f8'), ('height', '<f8'), ('width', '<f8')])]\n",
      "fpp_fwhm 3.0322809136931803\n",
      "fpp_int 52339.63976985681\n",
      "spp_int 15701.891930957043\n",
      "52339.63976985681\n",
      "15701.891930957043\n",
      "52339.63976985681\n",
      "15701.891930957043\n",
      "Components\tParameter\tValue\n",
      "Zero_Loss_Peak\n",
      "\t\tFWHM\t0.71102\n",
      "\t\tarea\t8.6817e+06\n",
      "\t\tcentre\t-0.0673084\n",
      "\t\tgamma\t0.242764\n",
      "First_Plasmon_Peak\n",
      "\t\tfwhm\t2.71884\n",
      "\t\tintensity\t175884\n",
      "\t\tplasmon_energy\t15.0938\n",
      "Second_Plasmon_Peak\n",
      "\t\tfwhm\t10.7918\n",
      "\t\tintensity\t50085.1\n",
      "Do you want to adjust the starting parameters? (y/n): n\n",
      "Correcting poissonian noise for the gain factor of\n",
      "the EELS - detector...\n",
      "Including gain factor of detector in poissonian noise. Rescaling...\n",
      "Generating_seeds for SAMFire...\n"
     ]
    },
    {
     "data": {
      "application/vnd.jupyter.widget-view+json": {
       "model_id": "0adaa48031ff4bd9aa3e8ff92e8e8a4d",
       "version_major": 2,
       "version_minor": 0
      },
      "text/plain": [
       "HBox(children=(IntProgress(value=0, max=300), HTML(value='')))"
      ]
     },
     "metadata": {},
     "output_type": "display_data"
    },
    {
     "name": "stdout",
     "output_type": "stream",
     "text": [
      "Adj. fit goodness (reduced Chi squared):  0.9976874165368038\n",
      "Standard deviation of adj. fit goodness:  0.03589496200840594\n",
      "Model will be stored in file...\n",
      "Stored models in file:\n",
      "{'VolumePlasmonDrude_leastsq_ls': <EELSModel, title: AlYFe SB3>, 'VolumePlasmonDrude_Nelder-Mead_ml': <EELSModel, title: AlYFe SB3>}\n"
     ]
    }
   ],
   "source": [
    "a.eels_fit_routine(function_set='VolumePlasmonDrude', fitter='Nelder-Mead', method='ml', samfire=True)"
   ]
  },
  {
   "cell_type": "code",
   "execution_count": 31,
   "metadata": {},
   "outputs": [
    {
     "name": "stdout",
     "output_type": "stream",
     "text": [
      "0.9976874165368038\n",
      "0.03589496200840594\n"
     ]
    }
   ],
   "source": [
    "a.Fit_Model.plot(plot_components=True)\n",
    "a.Fit_Model.red_chisq.plot()\n",
    "print(np.mean(a.Fit_Model.red_chisq.data))\n",
    "print(np.std(a.Fit_Model.red_chisq.data))\n",
    "#a.plot_parameter_maps(False)"
   ]
  },
  {
   "cell_type": "code",
   "execution_count": 27,
   "metadata": {
    "ExecuteTime": {
     "end_time": "2018-10-29T10:11:06.179276Z",
     "start_time": "2018-10-29T10:10:53.967330Z"
    },
    "scrolled": true
   },
   "outputs": [
    {
     "name": "stdout",
     "output_type": "stream",
     "text": [
      "Does the file include stored models from previous fitting? (y/n): n\n",
      "Setting up proper navigation space...\n",
      "Aligning Zero-Loss Peak...\n",
      "\n",
      "Initial ZLP position statistics\n",
      "-------------------------------\n",
      "Summary statistics\n",
      "------------------\n",
      "mean:\t-0.22\n",
      "std:\t0.0496\n",
      "\n",
      "min:\t-0.35\n",
      "Q1:\t-0.25\n",
      "median:\t-0.2\n",
      "Q3:\t-0.2\n",
      "max:\t-0.1\n"
     ]
    },
    {
     "data": {
      "application/vnd.jupyter.widget-view+json": {
       "model_id": "0ae610ec1a604fc38219f3162895eaaf",
       "version_major": 2,
       "version_minor": 0
      },
      "text/plain": [
       "HBox(children=(IntProgress(value=0, max=400), HTML(value='')))"
      ]
     },
     "metadata": {},
     "output_type": "display_data"
    },
    {
     "data": {
      "application/vnd.jupyter.widget-view+json": {
       "model_id": "acfbbdae06d34387b187b1d150d2464b",
       "version_major": 2,
       "version_minor": 0
      },
      "text/plain": [
       "HBox(children=(IntProgress(value=0, max=400), HTML(value='')))"
      ]
     },
     "metadata": {},
     "output_type": "display_data"
    },
    {
     "data": {
      "application/vnd.jupyter.widget-view+json": {
       "model_id": "d50b5030663f4dfea6710713cc90a814",
       "version_major": 2,
       "version_minor": 0
      },
      "text/plain": [
       "HBox(children=(IntProgress(value=0, max=400), HTML(value='')))"
      ]
     },
     "metadata": {},
     "output_type": "display_data"
    },
    {
     "name": "stdout",
     "output_type": "stream",
     "text": [
      "Aligning datastructure successful. Estimate poissonian noise...\n",
      "Loading process completed. Energy channels cropped by ZLP-Alignment: 8[0.390625%]\n",
      "Channels before: 2048\n",
      "Channels after: 2040\n",
      "Please check microscope and detector parameters,\n",
      "as the metadata from gatan might be incorrectly loaded\n",
      "Hyperspy.\n",
      "Do you want to load the corresponding darkfield image?\n",
      "(Warning: The dimensions have to match exactly for some functions!) (y/n): n\n"
     ]
    },
    {
     "data": {
      "application/vnd.jupyter.widget-view+json": {
       "model_id": "796fa08ef446457cbb09d8e6c7dff03e",
       "version_major": 2,
       "version_minor": 0
      },
      "text/plain": [
       "VBox(children=(VBox(children=(HBox(children=(Label(value='Beam energy (keV)', layout=Layout(width='auto')), Fl…"
      ]
     },
     "metadata": {},
     "output_type": "display_data"
    }
   ],
   "source": [
    "a=None\n",
    "a=Plasmon_mapper(file=hs.load('../Master/EELS AlYFe 3 - 20190426/EELS Spectrum Image.dm3').inav[:20,:20], is_lazy=True)\n",
    "a.File.metadata.General.title = 'AlYFe SB3'\n",
    "#a = STZ_mapper(filename = '18_01_26_Spectrum_image_14Plasmon_FWHM.dm3', use_roi=False)\n",
    "\n",
    "#m = a.eels_fit_routine()\n",
    "#m.plot()\n",
    "#m = im[0].create_model()\n",
    "#m.print_current_values(only_free=False)\n",
    "#print(m.red_chisq.data)\n",
    "#print(m.components)\n",
    "#m.components.Zero_Loss_Peak.function(x=-0.270658)"
   ]
  },
  {
   "cell_type": "code",
   "execution_count": 4,
   "metadata": {},
   "outputs": [],
   "source": [
    "a.plot_file()"
   ]
  },
  {
   "cell_type": "code",
   "execution_count": 12,
   "metadata": {},
   "outputs": [],
   "source": [
    "a.calc_thickness(['Cu','Zr'], [0.64,0.36])"
   ]
  },
  {
   "cell_type": "code",
   "execution_count": 13,
   "metadata": {},
   "outputs": [],
   "source": [
    "a.thickness_map.plot()"
   ]
  },
  {
   "cell_type": "code",
   "execution_count": 17,
   "metadata": {},
   "outputs": [
    {
     "name": "stdout",
     "output_type": "stream",
     "text": [
      "Do you want to use the interactive gui?\n",
      "Adjusting position is possible using the interactive gui. (y/n): y\n"
     ]
    },
    {
     "ename": "NameError",
     "evalue": "name 'area' is not defined",
     "output_type": "error",
     "traceback": [
      "\u001b[0;31m--------------------------------------------------------------------------\u001b[0m",
      "\u001b[0;31mNameError\u001b[0m                                Traceback (most recent call last)",
      "\u001b[0;32m<ipython-input-17-8e502ce023cc>\u001b[0m in \u001b[0;36m<module>\u001b[0;34m\u001b[0m\n\u001b[0;32m----> 1\u001b[0;31m \u001b[0ma\u001b[0m\u001b[0;34m.\u001b[0m\u001b[0mrect_roi\u001b[0m\u001b[0;34m(\u001b[0m\u001b[0ma\u001b[0m\u001b[0;34m.\u001b[0m\u001b[0mFPP_Emax\u001b[0m\u001b[0;34m,\u001b[0m \u001b[0;36m100\u001b[0m\u001b[0;34m,\u001b[0m \u001b[0;36m100\u001b[0m\u001b[0;34m,\u001b[0m \u001b[0;36m150\u001b[0m\u001b[0;34m,\u001b[0m \u001b[0;36m150\u001b[0m\u001b[0;34m)\u001b[0m\u001b[0;34m\u001b[0m\u001b[0;34m\u001b[0m\u001b[0m\n\u001b[0m",
      "\u001b[0;32m<ipython-input-3-a35413cbefda>\u001b[0m in \u001b[0;36mrect_roi\u001b[0;34m(self, param_map, left, top, right, bottom)\u001b[0m\n\u001b[1;32m   1293\u001b[0m         \u001b[0;32mif\u001b[0m \u001b[0;34m(\u001b[0m\u001b[0minteractive\u001b[0m \u001b[0;34m==\u001b[0m \u001b[0;32mTrue\u001b[0m\u001b[0;34m)\u001b[0m\u001b[0;34m:\u001b[0m\u001b[0;34m\u001b[0m\u001b[0;34m\u001b[0m\u001b[0m\n\u001b[1;32m   1294\u001b[0m             \u001b[0mparam_map\u001b[0m\u001b[0;34m.\u001b[0m\u001b[0mplot\u001b[0m\u001b[0;34m(\u001b[0m\u001b[0;34m)\u001b[0m\u001b[0;34m\u001b[0m\u001b[0;34m\u001b[0m\u001b[0m\n\u001b[0;32m-> 1295\u001b[0;31m             \u001b[0mself\u001b[0m\u001b[0;34m.\u001b[0m\u001b[0mROI\u001b[0m \u001b[0;34m=\u001b[0m \u001b[0mroi\u001b[0m\u001b[0;34m.\u001b[0m\u001b[0minteractive\u001b[0m\u001b[0;34m(\u001b[0m\u001b[0marea\u001b[0m\u001b[0;34m)\u001b[0m\u001b[0;34m\u001b[0m\u001b[0;34m\u001b[0m\u001b[0m\n\u001b[0m\u001b[1;32m   1296\u001b[0m \u001b[0;34m\u001b[0m\u001b[0m\n\u001b[1;32m   1297\u001b[0m         \u001b[0;32melse\u001b[0m\u001b[0;34m:\u001b[0m\u001b[0;34m\u001b[0m\u001b[0;34m\u001b[0m\u001b[0m\n",
      "\u001b[0;31mNameError\u001b[0m: name 'area' is not defined"
     ]
    }
   ],
   "source": [
    "a.rect_roi(a.FPP_Emax, 100, 100, 150, 150)"
   ]
  },
  {
   "cell_type": "code",
   "execution_count": 5,
   "metadata": {},
   "outputs": [
    {
     "name": "stdout",
     "output_type": "stream",
     "text": [
      "Does the file include stored models from previous fitting? (y/n): y\n",
      "Modelinformation of loaded file: \n",
      "├── Gaussian_NelderMead_ml\n",
      "│   ├── components\n",
      "│   │   ├── First_Plasmon_Peak\n",
      "│   │   ├── Second_Plasmon_Peak\n",
      "│   │   └── Zero_Loss_Peak\n",
      "│   ├── date = 2019-07-11 10:03:23\n",
      "│   └── dimensions = (20, 20|2040)\n",
      "├── Gaussian_leastsq_ls\n",
      "│   ├── components\n",
      "│   │   ├── First_Plasmon_Peak\n",
      "│   │   ├── Second_Plasmon_Peak\n",
      "│   │   └── Zero_Loss_Peak\n",
      "│   ├── date = 2019-07-11 10:09:51\n",
      "│   └── dimensions = (20, 20|2040)\n",
      "├── Gaussian_mpfit_ls\n",
      "│   ├── components\n",
      "│   │   ├── First_Plasmon_Peak\n",
      "│   │   ├── Second_Plasmon_Peak\n",
      "│   │   └── Zero_Loss_Peak\n",
      "│   ├── date = 2019-07-11 08:52:58\n",
      "│   └── dimensions = (20, 20|2040)\n",
      "├── Lorentzian_NelderMead_ml\n",
      "│   ├── components\n",
      "│   │   ├── First_Plasmon_Peak\n",
      "│   │   ├── Second_Plasmon_Peak\n",
      "│   │   └── Zero_Loss_Peak\n",
      "│   ├── date = 2019-07-11 10:08:34\n",
      "│   └── dimensions = (20, 20|2040)\n",
      "├── Lorentzian_leastsq_ls\n",
      "│   ├── components\n",
      "│   │   ├── First_Plasmon_Peak\n",
      "│   │   ├── Second_Plasmon_Peak\n",
      "│   │   └── Zero_Loss_Peak\n",
      "│   ├── date = 2019-07-11 09:26:22\n",
      "│   └── dimensions = (20, 20|2040)\n",
      "├── Lorentzian_mpfit_ls\n",
      "│   ├── components\n",
      "│   │   ├── First_Plasmon_Peak\n",
      "│   │   ├── Second_Plasmon_Peak\n",
      "│   │   └── Zero_Loss_Peak\n",
      "│   ├── date = 2019-07-11 08:54:51\n",
      "│   └── dimensions = (20, 20|2040)\n",
      "├── Voigt_NelderMead_ml\n",
      "│   ├── components\n",
      "│   │   ├── First_Plasmon_Peak\n",
      "│   │   ├── Second_Plasmon_Peak\n",
      "│   │   └── Zero_Loss_Peak\n",
      "│   ├── date = 2019-07-11 09:49:15\n",
      "│   └── dimensions = (20, 20|2040)\n",
      "├── Voigt_leastsq_ls\n",
      "│   ├── components\n",
      "│   │   ├── First_Plasmon_Peak\n",
      "│   │   ├── Second_Plasmon_Peak\n",
      "│   │   └── Zero_Loss_Peak\n",
      "│   ├── date = 2019-07-11 09:29:35\n",
      "│   └── dimensions = (20, 20|2040)\n",
      "├── Voigt_mpfit_ls\n",
      "│   ├── components\n",
      "│   │   ├── First_Plasmon_Peak\n",
      "│   │   ├── Second_Plasmon_Peak\n",
      "│   │   └── Zero_Loss_Peak\n",
      "│   ├── date = 2019-07-11 10:28:54\n",
      "│   └── dimensions = (20, 20|2040)\n",
      "├── VolumePlasmonDrude_NelderMead_ml\n",
      "│   ├── components\n",
      "│   │   ├── First_Plasmon_Peak\n",
      "│   │   ├── Second_Plasmon_Peak\n",
      "│   │   └── Zero_Loss_Peak\n",
      "│   ├── date = 2019-07-11 19:27:05\n",
      "│   └── dimensions = (20, 20|2040)\n",
      "├── VolumePlasmonDrude_leastsq_ls\n",
      "│   ├── components\n",
      "│   │   ├── First_Plasmon_Peak\n",
      "│   │   ├── Second_Plasmon_Peak\n",
      "│   │   └── Zero_Loss_Peak\n",
      "│   ├── date = 2019-07-11 19:24:09\n",
      "│   └── dimensions = (20, 20|2040)\n",
      "└── VolumePlasmonDrude_mpfit_ls\n",
      "    ├── components\n",
      "    │   ├── First_Plasmon_Peak\n",
      "    │   ├── Second_Plasmon_Peak\n",
      "    │   └── Zero_Loss_Peak\n",
      "    ├── date = 2019-07-11 19:28:34\n",
      "    └── dimensions = (20, 20|2040)\n",
      "\n",
      "Available models: \n",
      "\n",
      "For VolumePlasmonDrude_leastsq_ls type: \"0\" or the full model name.\n",
      "\n",
      "For VolumePlasmonDrude_mpfit_ls type: \"1\" or the full model name.\n",
      "\n",
      "For VolumePlasmonDrude_NelderMead_ml type: \"2\" or the full model name.\n",
      "\n",
      "For Lorentzian_leastsq_ls type: \"3\" or the full model name.\n",
      "\n",
      "For Lorentzian_mpfit_ls type: \"4\" or the full model name.\n",
      "\n",
      "For Lorentzian_NelderMead_ml type: \"5\" or the full model name.\n",
      "\n",
      "For Gaussian_leastsq_ls type: \"6\" or the full model name.\n",
      "\n",
      "For Gaussian_mpfit_ls type: \"7\" or the full model name.\n",
      "\n",
      "For Gaussian_NelderMead_ml type: \"8\" or the full model name.\n",
      "\n",
      "For Voigt_leastsq_ls type: \"9\" or the full model name.\n",
      "\n",
      "For Voigt_mpfit_ls type: \"10\" or the full model name.\n",
      "\n",
      "For Voigt_NelderMead_ml type: \"11\" or the full model name.\n",
      "\n",
      "\n",
      "If you want to exit the model loading process,please type: (\"exit\"/\"cancel\")\n",
      "Which model should be loaded? 10\n",
      "Loading parameter maps for: Voigt_mpfit_ls\n",
      "Please check microscope and detector parameters,\n",
      "as the metadata from gatan might be incorrectly loaded\n",
      "Hyperspy.\n",
      "Do you want to load the corresponding darkfield image?\n",
      "(Warning: The dimensions have to match exactly for some functions!) (y/n): n\n"
     ]
    },
    {
     "data": {
      "application/vnd.jupyter.widget-view+json": {
       "model_id": "cbb766bd9b1d431881c575491a94ad44",
       "version_major": 2,
       "version_minor": 0
      },
      "text/plain": [
       "VBox(children=(VBox(children=(HBox(children=(Label(value='Beam energy (keV)', layout=Layout(width='auto')), Fl…"
      ]
     },
     "metadata": {},
     "output_type": "display_data"
    }
   ],
   "source": [
    "a=None\n",
    "a=Plasmon_mapper(file=hs.load('AlYFe-SB3_cropped_all_models.hspy'))"
   ]
  },
  {
   "cell_type": "code",
   "execution_count": 47,
   "metadata": {},
   "outputs": [
    {
     "name": "stdout",
     "output_type": "stream",
     "text": [
      "Modelinformation of loaded file: \n",
      "├── Gaussian_NelderMead_ml\n",
      "│   ├── components\n",
      "│   │   ├── First_Plasmon_Peak\n",
      "│   │   ├── Second_Plasmon_Peak\n",
      "│   │   └── Zero_Loss_Peak\n",
      "│   ├── date = 2019-07-11 10:03:23\n",
      "│   └── dimensions = (20, 20|2040)\n",
      "├── Gaussian_leastsq_ls\n",
      "│   ├── components\n",
      "│   │   ├── First_Plasmon_Peak\n",
      "│   │   ├── Second_Plasmon_Peak\n",
      "│   │   └── Zero_Loss_Peak\n",
      "│   ├── date = 2019-07-11 10:09:51\n",
      "│   └── dimensions = (20, 20|2040)\n",
      "├── Gaussian_mpfit_ls\n",
      "│   ├── components\n",
      "│   │   ├── First_Plasmon_Peak\n",
      "│   │   ├── Second_Plasmon_Peak\n",
      "│   │   └── Zero_Loss_Peak\n",
      "│   ├── date = 2019-07-11 08:52:58\n",
      "│   └── dimensions = (20, 20|2040)\n",
      "├── Lorentzian_NelderMead_ml\n",
      "│   ├── components\n",
      "│   │   ├── First_Plasmon_Peak\n",
      "│   │   ├── Second_Plasmon_Peak\n",
      "│   │   └── Zero_Loss_Peak\n",
      "│   ├── date = 2019-07-11 10:08:34\n",
      "│   └── dimensions = (20, 20|2040)\n",
      "├── Lorentzian_leastsq_ls\n",
      "│   ├── components\n",
      "│   │   ├── First_Plasmon_Peak\n",
      "│   │   ├── Second_Plasmon_Peak\n",
      "│   │   └── Zero_Loss_Peak\n",
      "│   ├── date = 2019-07-11 09:26:22\n",
      "│   └── dimensions = (20, 20|2040)\n",
      "├── Lorentzian_mpfit_ls\n",
      "│   ├── components\n",
      "│   │   ├── First_Plasmon_Peak\n",
      "│   │   ├── Second_Plasmon_Peak\n",
      "│   │   └── Zero_Loss_Peak\n",
      "│   ├── date = 2019-07-11 08:54:51\n",
      "│   └── dimensions = (20, 20|2040)\n",
      "├── Voigt_NelderMead_ml\n",
      "│   ├── components\n",
      "│   │   ├── First_Plasmon_Peak\n",
      "│   │   ├── Second_Plasmon_Peak\n",
      "│   │   └── Zero_Loss_Peak\n",
      "│   ├── date = 2019-07-11 09:49:15\n",
      "│   └── dimensions = (20, 20|2040)\n",
      "├── Voigt_leastsq_ls\n",
      "│   ├── components\n",
      "│   │   ├── First_Plasmon_Peak\n",
      "│   │   ├── Second_Plasmon_Peak\n",
      "│   │   └── Zero_Loss_Peak\n",
      "│   ├── date = 2019-07-11 09:29:35\n",
      "│   └── dimensions = (20, 20|2040)\n",
      "├── Voigt_mpfit_ls\n",
      "│   ├── components\n",
      "│   │   ├── First_Plasmon_Peak\n",
      "│   │   ├── Second_Plasmon_Peak\n",
      "│   │   └── Zero_Loss_Peak\n",
      "│   ├── date = 2019-07-11 10:28:54\n",
      "│   └── dimensions = (20, 20|2040)\n",
      "├── VolumePlasmonDrude_NelderMead_ml\n",
      "│   ├── components\n",
      "│   │   ├── First_Plasmon_Peak\n",
      "│   │   ├── Second_Plasmon_Peak\n",
      "│   │   └── Zero_Loss_Peak\n",
      "│   ├── date = 2019-07-11 19:27:05\n",
      "│   └── dimensions = (20, 20|2040)\n",
      "├── VolumePlasmonDrude_leastsq_ls\n",
      "│   ├── components\n",
      "│   │   ├── First_Plasmon_Peak\n",
      "│   │   ├── Second_Plasmon_Peak\n",
      "│   │   └── Zero_Loss_Peak\n",
      "│   ├── date = 2019-07-11 19:24:09\n",
      "│   └── dimensions = (20, 20|2040)\n",
      "└── VolumePlasmonDrude_mpfit_ls\n",
      "    ├── components\n",
      "    │   ├── First_Plasmon_Peak\n",
      "    │   ├── Second_Plasmon_Peak\n",
      "    │   └── Zero_Loss_Peak\n",
      "    ├── date = 2019-07-11 19:28:34\n",
      "    └── dimensions = (20, 20|2040)\n",
      "\n",
      "Available models: \n",
      "\n",
      "For VolumePlasmonDrude_leastsq_ls type: \"0\" or the full model name.\n",
      "\n",
      "For VolumePlasmonDrude_mpfit_ls type: \"1\" or the full model name.\n",
      "\n",
      "For VolumePlasmonDrude_NelderMead_ml type: \"2\" or the full model name.\n",
      "\n",
      "For Lorentzian_leastsq_ls type: \"3\" or the full model name.\n",
      "\n",
      "For Lorentzian_mpfit_ls type: \"4\" or the full model name.\n",
      "\n",
      "For Lorentzian_NelderMead_ml type: \"5\" or the full model name.\n",
      "\n",
      "For Gaussian_leastsq_ls type: \"6\" or the full model name.\n",
      "\n",
      "For Gaussian_mpfit_ls type: \"7\" or the full model name.\n",
      "\n",
      "For Gaussian_NelderMead_ml type: \"8\" or the full model name.\n",
      "\n",
      "For Voigt_leastsq_ls type: \"9\" or the full model name.\n",
      "\n",
      "For Voigt_mpfit_ls type: \"10\" or the full model name.\n",
      "\n",
      "For Voigt_NelderMead_ml type: \"11\" or the full model name.\n",
      "\n",
      "\n",
      "If you want to exit the model loading process,please type: (\"exit\"/\"cancel\")\n",
      "Which model should be loaded? 10\n",
      "Loading parameter maps for: Voigt_mpfit_ls\n"
     ]
    },
    {
     "ename": "AttributeError",
     "evalue": "'Voigt' object has no attribute 'A'",
     "output_type": "error",
     "traceback": [
      "\u001b[0;31m--------------------------------------------------------------------------\u001b[0m",
      "\u001b[0;31mAttributeError\u001b[0m                           Traceback (most recent call last)",
      "\u001b[0;32m<ipython-input-47-e203260e7405>\u001b[0m in \u001b[0;36m<module>\u001b[0;34m\u001b[0m\n\u001b[0;32m----> 1\u001b[0;31m \u001b[0ma\u001b[0m\u001b[0;34m.\u001b[0m\u001b[0mload_model\u001b[0m\u001b[0;34m(\u001b[0m\u001b[0;34m)\u001b[0m\u001b[0;34m\u001b[0m\u001b[0;34m\u001b[0m\u001b[0m\n\u001b[0m",
      "\u001b[0;32m<ipython-input-32-f78f42338837>\u001b[0m in \u001b[0;36mload_model\u001b[0;34m(self)\u001b[0m\n\u001b[1;32m   1670\u001b[0m \u001b[0;34m\u001b[0m\u001b[0m\n\u001b[1;32m   1671\u001b[0m         \u001b[0mmethod\u001b[0m \u001b[0;34m=\u001b[0m \u001b[0mself\u001b[0m\u001b[0;34m.\u001b[0m\u001b[0msplit\u001b[0m\u001b[0;34m(\u001b[0m\u001b[0mself\u001b[0m\u001b[0;34m.\u001b[0m\u001b[0mmodels_dict\u001b[0m\u001b[0;34m[\u001b[0m\u001b[0mmkey\u001b[0m\u001b[0;34m]\u001b[0m\u001b[0;34m,\u001b[0m \u001b[0;34m(\u001b[0m\u001b[0;34m'_'\u001b[0m\u001b[0;34m)\u001b[0m\u001b[0;34m)\u001b[0m\u001b[0;34m[\u001b[0m\u001b[0;34m-\u001b[0m\u001b[0;36m1\u001b[0m\u001b[0;34m]\u001b[0m\u001b[0;34m\u001b[0m\u001b[0;34m\u001b[0m\u001b[0m\n\u001b[0;32m-> 1672\u001b[0;31m         \u001b[0mself\u001b[0m\u001b[0;34m.\u001b[0m\u001b[0mgenerate_param_maps\u001b[0m\u001b[0;34m(\u001b[0m\u001b[0mmethod\u001b[0m\u001b[0;34m)\u001b[0m\u001b[0;34m\u001b[0m\u001b[0;34m\u001b[0m\u001b[0m\n\u001b[0m\u001b[1;32m   1673\u001b[0m \u001b[0;34m\u001b[0m\u001b[0m\n\u001b[1;32m   1674\u001b[0m \u001b[0;34m\u001b[0m\u001b[0m\n",
      "\u001b[0;32m<ipython-input-32-f78f42338837>\u001b[0m in \u001b[0;36mgenerate_param_maps\u001b[0;34m(self, method)\u001b[0m\n\u001b[1;32m   2323\u001b[0m             \u001b[0mself\u001b[0m\u001b[0;34m.\u001b[0m\u001b[0mparam_maps_voigt\u001b[0m\u001b[0;34m(\u001b[0m\u001b[0;34m)\u001b[0m\u001b[0;34m\u001b[0m\u001b[0;34m\u001b[0m\u001b[0m\n\u001b[1;32m   2324\u001b[0m             \u001b[0;32mif\u001b[0m \u001b[0;34m(\u001b[0m\u001b[0mmethod\u001b[0m \u001b[0;34m==\u001b[0m \u001b[0;34m'ls'\u001b[0m\u001b[0;34m)\u001b[0m\u001b[0;34m:\u001b[0m\u001b[0;34m\u001b[0m\u001b[0;34m\u001b[0m\u001b[0m\n\u001b[0;32m-> 2325\u001b[0;31m                 \u001b[0mself\u001b[0m\u001b[0;34m.\u001b[0m\u001b[0mstd_maps_voigt\u001b[0m\u001b[0;34m(\u001b[0m\u001b[0;34m)\u001b[0m\u001b[0;34m\u001b[0m\u001b[0;34m\u001b[0m\u001b[0m\n\u001b[0m\u001b[1;32m   2326\u001b[0m \u001b[0;34m\u001b[0m\u001b[0m\n\u001b[1;32m   2327\u001b[0m         \u001b[0;32melse\u001b[0m\u001b[0;34m:\u001b[0m\u001b[0;34m\u001b[0m\u001b[0;34m\u001b[0m\u001b[0m\n",
      "\u001b[0;32m<ipython-input-32-f78f42338837>\u001b[0m in \u001b[0;36mstd_maps_voigt\u001b[0;34m(self)\u001b[0m\n\u001b[1;32m   2274\u001b[0m             self.SPP_Int.metadata.Signal.set_item(\n\u001b[1;32m   2275\u001b[0m                 \u001b[0;34m\"Noise_properties.variance\"\u001b[0m\u001b[0;34m,\u001b[0m\u001b[0;34m\u001b[0m\u001b[0;34m\u001b[0m\u001b[0m\n\u001b[0;32m-> 2276\u001b[0;31m                 self.Fit_Model.components.Second_Plasmon_Peak.A.as_signal(\n\u001b[0m\u001b[1;32m   2277\u001b[0m                     \u001b[0mfield\u001b[0m \u001b[0;34m=\u001b[0m \u001b[0;34m'std'\u001b[0m\u001b[0;34m\u001b[0m\u001b[0;34m\u001b[0m\u001b[0m\n\u001b[1;32m   2278\u001b[0m                 ) ** 2\n",
      "\u001b[0;31mAttributeError\u001b[0m: 'Voigt' object has no attribute 'A'"
     ]
    }
   ],
   "source": [
    "a.load_model()"
   ]
  },
  {
   "cell_type": "code",
   "execution_count": 6,
   "metadata": {},
   "outputs": [
    {
     "name": "stdout",
     "output_type": "stream",
     "text": [
      "0.9792480064330104\n",
      "0.04423923945906048\n"
     ]
    }
   ],
   "source": [
    "a.Fit_Model.plot(plot_components=True)\n",
    "a.Fit_Model.red_chisq.plot()\n",
    "print(np.mean(a.Fit_Model.red_chisq.data))\n",
    "print(np.std(a.Fit_Model.red_chisq.data))\n",
    "#a.plot_parameter_maps(False)"
   ]
  },
  {
   "cell_type": "code",
   "execution_count": 92,
   "metadata": {},
   "outputs": [
    {
     "name": "stdout",
     "output_type": "stream",
     "text": [
      "Reinitialising poissonian noise estimation...\n",
      "Estimate function parameters...\n"
     ]
    },
    {
     "data": {
      "application/vnd.jupyter.widget-view+json": {
       "model_id": "de0af1d5b1a646aa80b11d041849133e",
       "version_major": 2,
       "version_minor": 0
      },
      "text/plain": [
       "HBox(children=(IntProgress(value=0, max=1), HTML(value='')))"
      ]
     },
     "metadata": {},
     "output_type": "display_data"
    },
    {
     "data": {
      "application/vnd.jupyter.widget-view+json": {
       "model_id": "885e88cff29b4c989d0dc049b730a27e",
       "version_major": 2,
       "version_minor": 0
      },
      "text/plain": [
       "HBox(children=(IntProgress(value=0, max=1), HTML(value='')))"
      ]
     },
     "metadata": {},
     "output_type": "display_data"
    },
    {
     "name": "stdout",
     "output_type": "stream",
     "text": [
      "Estimate function parameters...\n"
     ]
    },
    {
     "data": {
      "application/vnd.jupyter.widget-view+json": {
       "model_id": "e7a70c15d6d64212a88971460f68a087",
       "version_major": 2,
       "version_minor": 0
      },
      "text/plain": [
       "HBox(children=(IntProgress(value=0, max=1), HTML(value='')))"
      ]
     },
     "metadata": {},
     "output_type": "display_data"
    },
    {
     "data": {
      "application/vnd.jupyter.widget-view+json": {
       "model_id": "81b0f664bf8346ab8bb669bebf816e11",
       "version_major": 2,
       "version_minor": 0
      },
      "text/plain": [
       "HBox(children=(IntProgress(value=0, max=1), HTML(value='')))"
      ]
     },
     "metadata": {},
     "output_type": "display_data"
    },
    {
     "name": "stdout",
     "output_type": "stream",
     "text": [
      "Model will be stored in file...\n"
     ]
    },
    {
     "ename": "AttributeError",
     "evalue": "'NoneType' object has no attribute 'store'",
     "output_type": "error",
     "traceback": [
      "\u001b[0;31m--------------------------------------------------------------------------\u001b[0m",
      "\u001b[0;31mAttributeError\u001b[0m                           Traceback (most recent call last)",
      "\u001b[0;32m<ipython-input-92-924a002c0300>\u001b[0m in \u001b[0;36m<module>\u001b[0;34m\u001b[0m\n\u001b[0;32m----> 1\u001b[0;31m \u001b[0ma\u001b[0m\u001b[0;34m.\u001b[0m\u001b[0meels_fit_routine\u001b[0m\u001b[0;34m(\u001b[0m\u001b[0mfunction_set\u001b[0m\u001b[0;34m=\u001b[0m\u001b[0;34m'Lorentzian'\u001b[0m\u001b[0;34m,\u001b[0m \u001b[0mfitter\u001b[0m\u001b[0;34m=\u001b[0m\u001b[0;34m'mpfit'\u001b[0m\u001b[0;34m,\u001b[0m \u001b[0mmethod\u001b[0m\u001b[0;34m=\u001b[0m\u001b[0;34m'ls'\u001b[0m\u001b[0;34m,\u001b[0m \u001b[0msamfire\u001b[0m\u001b[0;34m=\u001b[0m\u001b[0;32mTrue\u001b[0m\u001b[0;34m)\u001b[0m\u001b[0;34m\u001b[0m\u001b[0;34m\u001b[0m\u001b[0m\n\u001b[0m",
      "\u001b[0;32m<ipython-input-89-944c8fa6c732>\u001b[0m in \u001b[0;36meels_fit_routine\u001b[0;34m(self, function_set, fitter, method, samfire, multithreading, workers)\u001b[0m\n\u001b[1;32m    470\u001b[0m         \u001b[0mprint\u001b[0m\u001b[0;34m(\u001b[0m\u001b[0;34m'Model will be stored in file...'\u001b[0m\u001b[0;34m)\u001b[0m\u001b[0;34m\u001b[0m\u001b[0;34m\u001b[0m\u001b[0m\n\u001b[1;32m    471\u001b[0m         \u001b[0mself\u001b[0m\u001b[0;34m.\u001b[0m\u001b[0mModels_all\u001b[0m\u001b[0;34m[\u001b[0m\u001b[0mself\u001b[0m\u001b[0;34m.\u001b[0m\u001b[0mmodel_name\u001b[0m\u001b[0;34m]\u001b[0m \u001b[0;34m=\u001b[0m \u001b[0mself\u001b[0m\u001b[0;34m.\u001b[0m\u001b[0mFit_Model\u001b[0m\u001b[0;34m\u001b[0m\u001b[0;34m\u001b[0m\u001b[0m\n\u001b[0;32m--> 472\u001b[0;31m         \u001b[0mself\u001b[0m\u001b[0;34m.\u001b[0m\u001b[0mFit_Model\u001b[0m\u001b[0;34m.\u001b[0m\u001b[0mstore\u001b[0m\u001b[0;34m(\u001b[0m\u001b[0mname\u001b[0m \u001b[0;34m=\u001b[0m \u001b[0mself\u001b[0m\u001b[0;34m.\u001b[0m\u001b[0mmodel_name\u001b[0m\u001b[0;34m)\u001b[0m\u001b[0;34m\u001b[0m\u001b[0;34m\u001b[0m\u001b[0m\n\u001b[0m\u001b[1;32m    473\u001b[0m \u001b[0;34m\u001b[0m\u001b[0m\n\u001b[1;32m    474\u001b[0m         \u001b[0mprint\u001b[0m\u001b[0;34m(\u001b[0m\u001b[0;34m'Stored models in file:'\u001b[0m\u001b[0;34m)\u001b[0m\u001b[0;34m\u001b[0m\u001b[0;34m\u001b[0m\u001b[0m\n",
      "\u001b[0;31mAttributeError\u001b[0m: 'NoneType' object has no attribute 'store'"
     ]
    }
   ],
   "source": [
    "a.eels_fit_routine(function_set='Lorentzian', fitter='mpfit', method='ls', samfire=True)"
   ]
  },
  {
   "cell_type": "code",
   "execution_count": 33,
   "metadata": {},
   "outputs": [
    {
     "name": "stdout",
     "output_type": "stream",
     "text": [
      "Reinitialising poissonian noise estimation...\n",
      "Estimate function parameters...\n"
     ]
    },
    {
     "data": {
      "application/vnd.jupyter.widget-view+json": {
       "model_id": "d2c00554ba2e466fb95c7f5438552534",
       "version_major": 2,
       "version_minor": 0
      },
      "text/plain": [
       "HBox(children=(IntProgress(value=0, max=1), HTML(value='')))"
      ]
     },
     "metadata": {},
     "output_type": "display_data"
    },
    {
     "data": {
      "application/vnd.jupyter.widget-view+json": {
       "model_id": "2d5540a5175c4555ba2326349d78d306",
       "version_major": 2,
       "version_minor": 0
      },
      "text/plain": [
       "HBox(children=(IntProgress(value=0, max=1), HTML(value='')))"
      ]
     },
     "metadata": {},
     "output_type": "display_data"
    },
    {
     "name": "stdout",
     "output_type": "stream",
     "text": [
      "Estimate function parameters...\n"
     ]
    },
    {
     "data": {
      "application/vnd.jupyter.widget-view+json": {
       "model_id": "1de44bad3523457fb4fb5828cd50e37a",
       "version_major": 2,
       "version_minor": 0
      },
      "text/plain": [
       "HBox(children=(IntProgress(value=0, max=1), HTML(value='')))"
      ]
     },
     "metadata": {},
     "output_type": "display_data"
    },
    {
     "data": {
      "application/vnd.jupyter.widget-view+json": {
       "model_id": "4a6a1efa043b4908a429b06afe1a1cb4",
       "version_major": 2,
       "version_minor": 0
      },
      "text/plain": [
       "HBox(children=(IntProgress(value=0, max=1), HTML(value='')))"
      ]
     },
     "metadata": {},
     "output_type": "display_data"
    },
    {
     "name": "stdout",
     "output_type": "stream",
     "text": [
      "Estimate function parameters...\n"
     ]
    },
    {
     "data": {
      "application/vnd.jupyter.widget-view+json": {
       "model_id": "f0ab18955c3246c7b4974663cdb316bc",
       "version_major": 2,
       "version_minor": 0
      },
      "text/plain": [
       "HBox(children=(IntProgress(value=0, max=1), HTML(value='')))"
      ]
     },
     "metadata": {},
     "output_type": "display_data"
    },
    {
     "data": {
      "application/vnd.jupyter.widget-view+json": {
       "model_id": "056b4d6caa9f4fa5a32fbee46c91e980",
       "version_major": 2,
       "version_minor": 0
      },
      "text/plain": [
       "HBox(children=(IntProgress(value=0, max=1), HTML(value='')))"
      ]
     },
     "metadata": {},
     "output_type": "display_data"
    },
    {
     "name": "stdout",
     "output_type": "stream",
     "text": [
      "Estimate function parameters...\n"
     ]
    },
    {
     "data": {
      "application/vnd.jupyter.widget-view+json": {
       "model_id": "1bdeb9da394f45e69dded0f18a9dae1e",
       "version_major": 2,
       "version_minor": 0
      },
      "text/plain": [
       "HBox(children=(IntProgress(value=0, max=1), HTML(value='')))"
      ]
     },
     "metadata": {},
     "output_type": "display_data"
    },
    {
     "data": {
      "application/vnd.jupyter.widget-view+json": {
       "model_id": "48a22ffd07b8482e85711b1de583f7c9",
       "version_major": 2,
       "version_minor": 0
      },
      "text/plain": [
       "HBox(children=(IntProgress(value=0, max=1), HTML(value='')))"
      ]
     },
     "metadata": {},
     "output_type": "display_data"
    },
    {
     "name": "stderr",
     "output_type": "stream",
     "text": [
      "/home/max/Apps/anaconda3/envs/Hyperspy/lib/python3.6/site-packages/hyperspy/_components/voigt.py:60: RuntimeWarning: divide by zero encountered in true_divide\n",
      "  z = (np.asarray(x) - center + 1j * gamma) / (sigma * math.sqrt(2))\n",
      "/home/max/Apps/anaconda3/envs/Hyperspy/lib/python3.6/site-packages/hyperspy/_components/voigt.py:61: RuntimeWarning: invalid value encountered in true_divide\n",
      "  V = wofz(z) / (math.sqrt(2 * np.pi) * sigma)\n"
     ]
    },
    {
     "name": "stdout",
     "output_type": "stream",
     "text": [
      "Estimate function parameters...\n"
     ]
    },
    {
     "data": {
      "application/vnd.jupyter.widget-view+json": {
       "model_id": "97345f3cf8b143f19d6735129543887e",
       "version_major": 2,
       "version_minor": 0
      },
      "text/plain": [
       "HBox(children=(IntProgress(value=0, max=1), HTML(value='')))"
      ]
     },
     "metadata": {},
     "output_type": "display_data"
    },
    {
     "data": {
      "application/vnd.jupyter.widget-view+json": {
       "model_id": "82a6206b62fa4ec1911d9c49ceffb976",
       "version_major": 2,
       "version_minor": 0
      },
      "text/plain": [
       "HBox(children=(IntProgress(value=0, max=1), HTML(value='')))"
      ]
     },
     "metadata": {},
     "output_type": "display_data"
    },
    {
     "name": "stdout",
     "output_type": "stream",
     "text": [
      "Estimate function parameters...\n"
     ]
    },
    {
     "data": {
      "application/vnd.jupyter.widget-view+json": {
       "model_id": "8b77e1fda9104319a1890499e36509c4",
       "version_major": 2,
       "version_minor": 0
      },
      "text/plain": [
       "HBox(children=(IntProgress(value=0, max=1), HTML(value='')))"
      ]
     },
     "metadata": {},
     "output_type": "display_data"
    },
    {
     "data": {
      "application/vnd.jupyter.widget-view+json": {
       "model_id": "23a0fcf9a47042be9b2d62a8dddcfc69",
       "version_major": 2,
       "version_minor": 0
      },
      "text/plain": [
       "HBox(children=(IntProgress(value=0, max=1), HTML(value='')))"
      ]
     },
     "metadata": {},
     "output_type": "display_data"
    },
    {
     "name": "stdout",
     "output_type": "stream",
     "text": [
      "Do you want to adjust the starting parameters? (y/n): n\n",
      "Generating seeds...\n"
     ]
    },
    {
     "data": {
      "application/vnd.jupyter.widget-view+json": {
       "model_id": "665f902f68c349a5a4210fc1996f0a6f",
       "version_major": 2,
       "version_minor": 0
      },
      "text/plain": [
       "HBox(children=(IntProgress(value=0, max=10), HTML(value='')))"
      ]
     },
     "metadata": {},
     "output_type": "display_data"
    },
    {
     "data": {
      "application/vnd.jupyter.widget-view+json": {
       "model_id": "f49e85ac70bc4ecea983f7016cc524a2",
       "version_major": 2,
       "version_minor": 0
      },
      "text/plain": [
       "HBox(children=(IntProgress(value=0, max=10), HTML(value='')))"
      ]
     },
     "metadata": {},
     "output_type": "display_data"
    },
    {
     "data": {
      "application/vnd.jupyter.widget-view+json": {
       "model_id": "5af12894be8f4146930053fd43a1471f",
       "version_major": 2,
       "version_minor": 0
      },
      "text/plain": [
       "HBox(children=(IntProgress(value=0, max=10), HTML(value='')))"
      ]
     },
     "metadata": {},
     "output_type": "display_data"
    },
    {
     "data": {
      "application/vnd.jupyter.widget-view+json": {
       "model_id": "86af11a7f58f42e0857371ac10bfa1c0",
       "version_major": 2,
       "version_minor": 0
      },
      "text/plain": [
       "HBox(children=(IntProgress(value=0, max=10), HTML(value='')))"
      ]
     },
     "metadata": {},
     "output_type": "display_data"
    },
    {
     "data": {
      "application/vnd.jupyter.widget-view+json": {
       "model_id": "b8bb27b7f4954276a30230847086c738",
       "version_major": 2,
       "version_minor": 0
      },
      "text/plain": [
       "HBox(children=(IntProgress(value=0, max=10), HTML(value='')))"
      ]
     },
     "metadata": {},
     "output_type": "display_data"
    },
    {
     "data": {
      "application/vnd.jupyter.widget-view+json": {
       "model_id": "6b156ae63c6949dabad8a09fcee57a5a",
       "version_major": 2,
       "version_minor": 0
      },
      "text/plain": [
       "HBox(children=(IntProgress(value=0, max=10), HTML(value='')))"
      ]
     },
     "metadata": {},
     "output_type": "display_data"
    },
    {
     "data": {
      "application/vnd.jupyter.widget-view+json": {
       "model_id": "32e54dc77b5d4ee890380c46e240a675",
       "version_major": 2,
       "version_minor": 0
      },
      "text/plain": [
       "HBox(children=(IntProgress(value=0, max=10), HTML(value='')))"
      ]
     },
     "metadata": {},
     "output_type": "display_data"
    },
    {
     "data": {
      "application/vnd.jupyter.widget-view+json": {
       "model_id": "a1534fe5bcc340e09542c7b7d5cbc1b8",
       "version_major": 2,
       "version_minor": 0
      },
      "text/plain": [
       "HBox(children=(IntProgress(value=0, max=10), HTML(value='')))"
      ]
     },
     "metadata": {},
     "output_type": "display_data"
    },
    {
     "data": {
      "application/vnd.jupyter.widget-view+json": {
       "model_id": "77b5d7bca8234fd98e26bd7fec66cc36",
       "version_major": 2,
       "version_minor": 0
      },
      "text/plain": [
       "HBox(children=(IntProgress(value=0, max=10), HTML(value='')))"
      ]
     },
     "metadata": {},
     "output_type": "display_data"
    },
    {
     "data": {
      "application/vnd.jupyter.widget-view+json": {
       "model_id": "5d66779a927b4a4cafee49a834ddeacd",
       "version_major": 2,
       "version_minor": 0
      },
      "text/plain": [
       "HBox(children=(IntProgress(value=0, max=10), HTML(value='')))"
      ]
     },
     "metadata": {},
     "output_type": "display_data"
    },
    {
     "data": {
      "application/vnd.jupyter.widget-view+json": {
       "model_id": "e08b00dce90349fb8736b40950145082",
       "version_major": 2,
       "version_minor": 0
      },
      "text/plain": [
       "HBox(children=(IntProgress(value=0, max=10), HTML(value='')))"
      ]
     },
     "metadata": {},
     "output_type": "display_data"
    },
    {
     "name": "stdout",
     "output_type": "stream",
     "text": [
      "Including gain factor of detector in poissonian noise. Rescaling...\n",
      "Generating seeds...\n"
     ]
    },
    {
     "data": {
      "application/vnd.jupyter.widget-view+json": {
       "model_id": "2b87f99472ab474cb0b99f706bee131b",
       "version_major": 2,
       "version_minor": 0
      },
      "text/plain": [
       "HBox(children=(IntProgress(value=0, max=10), HTML(value='')))"
      ]
     },
     "metadata": {},
     "output_type": "display_data"
    },
    {
     "data": {
      "application/vnd.jupyter.widget-view+json": {
       "model_id": "a56f14dd9da84d38bb7c3f9159633fac",
       "version_major": 2,
       "version_minor": 0
      },
      "text/plain": [
       "HBox(children=(IntProgress(value=0, max=10), HTML(value='')))"
      ]
     },
     "metadata": {},
     "output_type": "display_data"
    },
    {
     "data": {
      "application/vnd.jupyter.widget-view+json": {
       "model_id": "ef39e4aca8ce46ecaf5511f44bdecd5f",
       "version_major": 2,
       "version_minor": 0
      },
      "text/plain": [
       "HBox(children=(IntProgress(value=0, max=10), HTML(value='')))"
      ]
     },
     "metadata": {},
     "output_type": "display_data"
    },
    {
     "data": {
      "application/vnd.jupyter.widget-view+json": {
       "model_id": "d0c4926d82e347afab51e50187afd647",
       "version_major": 2,
       "version_minor": 0
      },
      "text/plain": [
       "HBox(children=(IntProgress(value=0, max=10), HTML(value='')))"
      ]
     },
     "metadata": {},
     "output_type": "display_data"
    },
    {
     "data": {
      "application/vnd.jupyter.widget-view+json": {
       "model_id": "f1421ef471244e2f86511140a6394420",
       "version_major": 2,
       "version_minor": 0
      },
      "text/plain": [
       "HBox(children=(IntProgress(value=0, max=10), HTML(value='')))"
      ]
     },
     "metadata": {},
     "output_type": "display_data"
    },
    {
     "data": {
      "application/vnd.jupyter.widget-view+json": {
       "model_id": "2714db16c3f142d594233678728cfb15",
       "version_major": 2,
       "version_minor": 0
      },
      "text/plain": [
       "HBox(children=(IntProgress(value=0, max=10), HTML(value='')))"
      ]
     },
     "metadata": {},
     "output_type": "display_data"
    },
    {
     "data": {
      "application/vnd.jupyter.widget-view+json": {
       "model_id": "73eaf5b124c2425eabac185dbc006fd9",
       "version_major": 2,
       "version_minor": 0
      },
      "text/plain": [
       "HBox(children=(IntProgress(value=0, max=10), HTML(value='')))"
      ]
     },
     "metadata": {},
     "output_type": "display_data"
    },
    {
     "data": {
      "application/vnd.jupyter.widget-view+json": {
       "model_id": "844db1b63dc64ab184a1e548ea05a8ce",
       "version_major": 2,
       "version_minor": 0
      },
      "text/plain": [
       "HBox(children=(IntProgress(value=0, max=10), HTML(value='')))"
      ]
     },
     "metadata": {},
     "output_type": "display_data"
    },
    {
     "data": {
      "application/vnd.jupyter.widget-view+json": {
       "model_id": "14899b5b613f479e80e5b69e08c244c2",
       "version_major": 2,
       "version_minor": 0
      },
      "text/plain": [
       "HBox(children=(IntProgress(value=0, max=10), HTML(value='')))"
      ]
     },
     "metadata": {},
     "output_type": "display_data"
    },
    {
     "data": {
      "application/vnd.jupyter.widget-view+json": {
       "model_id": "503df45bbd3d4b19ba7d8eaf3b4752b1",
       "version_major": 2,
       "version_minor": 0
      },
      "text/plain": [
       "HBox(children=(IntProgress(value=0, max=10), HTML(value='')))"
      ]
     },
     "metadata": {},
     "output_type": "display_data"
    },
    {
     "data": {
      "application/vnd.jupyter.widget-view+json": {
       "model_id": "9beb2e0d0a394d459dd7d85022373fa9",
       "version_major": 2,
       "version_minor": 0
      },
      "text/plain": [
       "HBox(children=(IntProgress(value=0, max=10), HTML(value='')))"
      ]
     },
     "metadata": {},
     "output_type": "display_data"
    },
    {
     "name": "stdout",
     "output_type": "stream",
     "text": [
      "[[       nan        nan        nan        nan        nan        nan\n",
      "         nan        nan        nan        nan        nan        nan\n",
      "         nan        nan        nan        nan        nan        nan\n",
      "         nan        nan]\n",
      " [       nan 1.0051496         nan 0.99181156        nan 0.99756515\n",
      "         nan 1.0332889         nan 1.00745364        nan 0.99160393\n",
      "         nan 1.00806421        nan 1.03623511        nan 1.04992222\n",
      "         nan 1.016366  ]\n",
      " [       nan        nan        nan        nan        nan        nan\n",
      "         nan        nan        nan        nan        nan        nan\n",
      "         nan        nan        nan        nan        nan        nan\n",
      "         nan        nan]\n",
      " [       nan 1.00907479        nan 0.97000498        nan 0.99739093\n",
      "         nan 0.96765862        nan 0.99187144        nan 1.03139337\n",
      "         nan 1.01691235        nan 1.00679021        nan 1.01091673\n",
      "         nan 1.01209577]\n",
      " [       nan        nan        nan        nan        nan        nan\n",
      "         nan        nan        nan        nan        nan        nan\n",
      "         nan        nan        nan        nan        nan        nan\n",
      "         nan        nan]\n",
      " [       nan 0.96624109        nan 0.97977218        nan 0.97918863\n",
      "         nan 1.01784973        nan 0.97863387        nan 1.01447319\n",
      "         nan 1.0089651         nan 0.9665244         nan 0.99983127\n",
      "         nan 0.99719002]\n",
      " [       nan        nan        nan        nan        nan        nan\n",
      "         nan        nan        nan        nan        nan        nan\n",
      "         nan        nan        nan        nan        nan        nan\n",
      "         nan        nan]\n",
      " [       nan 0.99027363        nan 0.99666879        nan 0.99282774\n",
      "         nan 0.98192289        nan 0.99690352        nan 1.0038102\n",
      "         nan 1.02115701        nan 1.03103271        nan 1.01001668\n",
      "         nan 1.0274971 ]\n",
      " [       nan        nan        nan        nan        nan        nan\n",
      "         nan        nan        nan        nan        nan        nan\n",
      "         nan        nan        nan        nan        nan        nan\n",
      "         nan        nan]\n",
      " [       nan 0.99829862        nan 0.96677462        nan 0.99666651\n",
      "         nan 1.00941337        nan 0.99183789        nan 1.01151576\n",
      "         nan 0.96918908        nan 1.00553225        nan 0.98039916\n",
      "         nan 1.02792685]\n",
      " [       nan        nan        nan        nan        nan        nan\n",
      "         nan        nan        nan        nan        nan        nan\n",
      "         nan        nan        nan        nan        nan        nan\n",
      "         nan        nan]\n",
      " [       nan 0.97054086        nan 0.98795904        nan 0.95254407\n",
      "         nan 0.98009925        nan 0.98489341        nan 0.99954583\n",
      "         nan 1.02298281        nan 0.99545757        nan 1.00057654\n",
      "         nan 1.03148392]\n",
      " [       nan        nan        nan        nan        nan        nan\n",
      "         nan        nan        nan        nan        nan        nan\n",
      "         nan        nan        nan        nan        nan        nan\n",
      "         nan        nan]\n",
      " [       nan 0.98086404        nan 0.97874174        nan 1.02009112\n",
      "         nan 0.99701436        nan 1.02356006        nan 0.98100041\n",
      "         nan 1.0162604         nan 1.00404505        nan 1.02503711\n",
      "         nan 1.02897082]\n",
      " [       nan        nan        nan        nan        nan        nan\n",
      "         nan        nan        nan        nan        nan        nan\n",
      "         nan        nan        nan        nan        nan        nan\n",
      "         nan        nan]\n",
      " [       nan 0.9677649         nan 0.96908525        nan 0.98676247\n",
      "         nan 1.00713547        nan 1.0321069         nan 0.97548045\n",
      "         nan 1.01963689        nan 1.02549326        nan 1.00551258\n",
      "         nan 0.96656669]\n",
      " [       nan        nan        nan        nan        nan        nan\n",
      "         nan        nan        nan        nan        nan        nan\n",
      "         nan        nan        nan        nan        nan        nan\n",
      "         nan        nan]\n",
      " [       nan 0.97093643        nan 0.99945225        nan 0.98527712\n",
      "         nan 0.97593392        nan 0.97982657        nan 1.00405153\n",
      "         nan 1.00114369        nan 1.01404857        nan 1.02325943\n",
      "         nan 1.01208063]\n",
      " [       nan        nan        nan        nan        nan        nan\n",
      "         nan        nan        nan        nan        nan        nan\n",
      "         nan        nan        nan        nan        nan        nan\n",
      "         nan        nan]\n",
      " [       nan 1.00181147        nan 0.99364191        nan 0.98520085\n",
      "         nan 0.99835057        nan 0.99434658        nan 1.01211572\n",
      "         nan 1.00663834        nan 1.00602854        nan 1.01095508\n",
      "         nan 1.0177842 ]]\n",
      "0.999999999991883\n"
     ]
    },
    {
     "data": {
      "application/vnd.jupyter.widget-view+json": {
       "model_id": "13ea21c0e9e24072980f1736b5e8dffa",
       "version_major": 2,
       "version_minor": 0
      },
      "text/plain": [
       "HBox(children=(IntProgress(value=0, max=300), HTML(value='')))"
      ]
     },
     "metadata": {},
     "output_type": "display_data"
    },
    {
     "name": "stdout",
     "output_type": "stream",
     "text": [
      "Model will be stored in file...\n",
      "Stored models in file:\n",
      "└── Gaussian_mpfit_ls\n",
      "    ├── components\n",
      "    │   ├── First_Plasmon_Peak\n",
      "    │   ├── Second_Plasmon_Peak\n",
      "    │   └── Zero_Loss_Peak\n",
      "    ├── date = 2019-07-11 08:52:58\n",
      "    └── dimensions = (20, 20|2040)\n",
      "\n"
     ]
    }
   ],
   "source": [
    "a.eels_fit_routine(function_set='Gaussian', fitter='mpfit', method='ls', samfire=True)"
   ]
  },
  {
   "cell_type": "code",
   "execution_count": 68,
   "metadata": {},
   "outputs": [
    {
     "name": "stdout",
     "output_type": "stream",
     "text": [
      "Reinitialising poissonian noise estimation...\n",
      "Estimate function parameters...\n"
     ]
    },
    {
     "data": {
      "application/vnd.jupyter.widget-view+json": {
       "model_id": "4e23f9f40b0b40d1933e71db55075807",
       "version_major": 2,
       "version_minor": 0
      },
      "text/plain": [
       "HBox(children=(IntProgress(value=0, max=1), HTML(value='')))"
      ]
     },
     "metadata": {},
     "output_type": "display_data"
    },
    {
     "data": {
      "application/vnd.jupyter.widget-view+json": {
       "model_id": "84c54329840a4cc6a79f07d18602961a",
       "version_major": 2,
       "version_minor": 0
      },
      "text/plain": [
       "HBox(children=(IntProgress(value=0, max=1), HTML(value='')))"
      ]
     },
     "metadata": {},
     "output_type": "display_data"
    },
    {
     "name": "stdout",
     "output_type": "stream",
     "text": [
      "Estimate function parameters...\n"
     ]
    },
    {
     "data": {
      "application/vnd.jupyter.widget-view+json": {
       "model_id": "121c723571ee4ecdac999d17e9bba086",
       "version_major": 2,
       "version_minor": 0
      },
      "text/plain": [
       "HBox(children=(IntProgress(value=0, max=1), HTML(value='')))"
      ]
     },
     "metadata": {},
     "output_type": "display_data"
    },
    {
     "data": {
      "application/vnd.jupyter.widget-view+json": {
       "model_id": "d54d4b9fdefa4a8c8efe0c8e70e29895",
       "version_major": 2,
       "version_minor": 0
      },
      "text/plain": [
       "HBox(children=(IntProgress(value=0, max=1), HTML(value='')))"
      ]
     },
     "metadata": {},
     "output_type": "display_data"
    },
    {
     "name": "stdout",
     "output_type": "stream",
     "text": [
      "Estimate function parameters...\n"
     ]
    },
    {
     "data": {
      "application/vnd.jupyter.widget-view+json": {
       "model_id": "5125057f0ac44806a1d44feac04743e1",
       "version_major": 2,
       "version_minor": 0
      },
      "text/plain": [
       "HBox(children=(IntProgress(value=0, max=1), HTML(value='')))"
      ]
     },
     "metadata": {},
     "output_type": "display_data"
    },
    {
     "data": {
      "application/vnd.jupyter.widget-view+json": {
       "model_id": "92ca0739a6ec4dd2a2f7b0501975403a",
       "version_major": 2,
       "version_minor": 0
      },
      "text/plain": [
       "HBox(children=(IntProgress(value=0, max=1), HTML(value='')))"
      ]
     },
     "metadata": {},
     "output_type": "display_data"
    },
    {
     "name": "stdout",
     "output_type": "stream",
     "text": [
      "Estimate function parameters...\n"
     ]
    },
    {
     "data": {
      "application/vnd.jupyter.widget-view+json": {
       "model_id": "5027ef0619924a08bd7afa40bd5777ed",
       "version_major": 2,
       "version_minor": 0
      },
      "text/plain": [
       "HBox(children=(IntProgress(value=0, max=1), HTML(value='')))"
      ]
     },
     "metadata": {},
     "output_type": "display_data"
    },
    {
     "data": {
      "application/vnd.jupyter.widget-view+json": {
       "model_id": "75730241efe841bb9d8109441e687a1e",
       "version_major": 2,
       "version_minor": 0
      },
      "text/plain": [
       "HBox(children=(IntProgress(value=0, max=1), HTML(value='')))"
      ]
     },
     "metadata": {},
     "output_type": "display_data"
    },
    {
     "name": "stdout",
     "output_type": "stream",
     "text": [
      "Estimate function parameters...\n"
     ]
    },
    {
     "data": {
      "application/vnd.jupyter.widget-view+json": {
       "model_id": "f2ea6aeb250048ada035eea41c54dd89",
       "version_major": 2,
       "version_minor": 0
      },
      "text/plain": [
       "HBox(children=(IntProgress(value=0, max=1), HTML(value='')))"
      ]
     },
     "metadata": {},
     "output_type": "display_data"
    },
    {
     "data": {
      "application/vnd.jupyter.widget-view+json": {
       "model_id": "4936416ffd934952b5b820af562e6821",
       "version_major": 2,
       "version_minor": 0
      },
      "text/plain": [
       "HBox(children=(IntProgress(value=0, max=1), HTML(value='')))"
      ]
     },
     "metadata": {},
     "output_type": "display_data"
    },
    {
     "name": "stdout",
     "output_type": "stream",
     "text": [
      "Estimate function parameters...\n"
     ]
    },
    {
     "data": {
      "application/vnd.jupyter.widget-view+json": {
       "model_id": "a00fb8d1f55b4b14a479c0d36cbb1024",
       "version_major": 2,
       "version_minor": 0
      },
      "text/plain": [
       "HBox(children=(IntProgress(value=0, max=1), HTML(value='')))"
      ]
     },
     "metadata": {},
     "output_type": "display_data"
    },
    {
     "data": {
      "application/vnd.jupyter.widget-view+json": {
       "model_id": "a8cc91e2532c4f10b3c5ef6de68f3e97",
       "version_major": 2,
       "version_minor": 0
      },
      "text/plain": [
       "HBox(children=(IntProgress(value=0, max=1), HTML(value='')))"
      ]
     },
     "metadata": {},
     "output_type": "display_data"
    },
    {
     "name": "stdout",
     "output_type": "stream",
     "text": [
      "Do you want to adjust the starting parameters? (y/n): n\n",
      "Generating seeds...\n"
     ]
    },
    {
     "data": {
      "application/vnd.jupyter.widget-view+json": {
       "model_id": "102cfffbb80f4a28b2ac95bed7922073",
       "version_major": 2,
       "version_minor": 0
      },
      "text/plain": [
       "HBox(children=(IntProgress(value=0, max=10), HTML(value='')))"
      ]
     },
     "metadata": {},
     "output_type": "display_data"
    },
    {
     "data": {
      "application/vnd.jupyter.widget-view+json": {
       "model_id": "0d238fcac58a43cab4a7d676c51e63bd",
       "version_major": 2,
       "version_minor": 0
      },
      "text/plain": [
       "HBox(children=(IntProgress(value=0, max=10), HTML(value='')))"
      ]
     },
     "metadata": {},
     "output_type": "display_data"
    },
    {
     "data": {
      "application/vnd.jupyter.widget-view+json": {
       "model_id": "fd5fba3e07fc42d2bdc693f9badcc2e8",
       "version_major": 2,
       "version_minor": 0
      },
      "text/plain": [
       "HBox(children=(IntProgress(value=0, max=10), HTML(value='')))"
      ]
     },
     "metadata": {},
     "output_type": "display_data"
    },
    {
     "data": {
      "application/vnd.jupyter.widget-view+json": {
       "model_id": "96191f20f0194e10882f3feee270918b",
       "version_major": 2,
       "version_minor": 0
      },
      "text/plain": [
       "HBox(children=(IntProgress(value=0, max=10), HTML(value='')))"
      ]
     },
     "metadata": {},
     "output_type": "display_data"
    },
    {
     "data": {
      "application/vnd.jupyter.widget-view+json": {
       "model_id": "4bd9ee891cdf49aca624146ff59feadf",
       "version_major": 2,
       "version_minor": 0
      },
      "text/plain": [
       "HBox(children=(IntProgress(value=0, max=10), HTML(value='')))"
      ]
     },
     "metadata": {},
     "output_type": "display_data"
    },
    {
     "data": {
      "application/vnd.jupyter.widget-view+json": {
       "model_id": "1ebb128adbb944c99cd27150d0437d00",
       "version_major": 2,
       "version_minor": 0
      },
      "text/plain": [
       "HBox(children=(IntProgress(value=0, max=10), HTML(value='')))"
      ]
     },
     "metadata": {},
     "output_type": "display_data"
    },
    {
     "data": {
      "application/vnd.jupyter.widget-view+json": {
       "model_id": "4f80ef86fb0342f9a557f53f0a72335e",
       "version_major": 2,
       "version_minor": 0
      },
      "text/plain": [
       "HBox(children=(IntProgress(value=0, max=10), HTML(value='')))"
      ]
     },
     "metadata": {},
     "output_type": "display_data"
    },
    {
     "data": {
      "application/vnd.jupyter.widget-view+json": {
       "model_id": "58a6c2e9d07a4028bbe5337e63f8f971",
       "version_major": 2,
       "version_minor": 0
      },
      "text/plain": [
       "HBox(children=(IntProgress(value=0, max=10), HTML(value='')))"
      ]
     },
     "metadata": {},
     "output_type": "display_data"
    },
    {
     "data": {
      "application/vnd.jupyter.widget-view+json": {
       "model_id": "94dff50788494381b474fea849109f02",
       "version_major": 2,
       "version_minor": 0
      },
      "text/plain": [
       "HBox(children=(IntProgress(value=0, max=10), HTML(value='')))"
      ]
     },
     "metadata": {},
     "output_type": "display_data"
    },
    {
     "data": {
      "application/vnd.jupyter.widget-view+json": {
       "model_id": "928d7190a2d646b2a2af91d36eec86ee",
       "version_major": 2,
       "version_minor": 0
      },
      "text/plain": [
       "HBox(children=(IntProgress(value=0, max=10), HTML(value='')))"
      ]
     },
     "metadata": {},
     "output_type": "display_data"
    },
    {
     "data": {
      "application/vnd.jupyter.widget-view+json": {
       "model_id": "b2d8bcc0c7b94aa49061e6b5ce74327a",
       "version_major": 2,
       "version_minor": 0
      },
      "text/plain": [
       "HBox(children=(IntProgress(value=0, max=10), HTML(value='')))"
      ]
     },
     "metadata": {},
     "output_type": "display_data"
    },
    {
     "name": "stdout",
     "output_type": "stream",
     "text": [
      "Including gain factor of detector in poissonian noise. Rescaling...\n",
      "Generating seeds...\n"
     ]
    },
    {
     "data": {
      "application/vnd.jupyter.widget-view+json": {
       "model_id": "e38b0837cf8344f9b8146ecc45ba1b2f",
       "version_major": 2,
       "version_minor": 0
      },
      "text/plain": [
       "HBox(children=(IntProgress(value=0, max=10), HTML(value='')))"
      ]
     },
     "metadata": {},
     "output_type": "display_data"
    },
    {
     "data": {
      "application/vnd.jupyter.widget-view+json": {
       "model_id": "11e8a53638b74c4f8b9ddcc955496e56",
       "version_major": 2,
       "version_minor": 0
      },
      "text/plain": [
       "HBox(children=(IntProgress(value=0, max=10), HTML(value='')))"
      ]
     },
     "metadata": {},
     "output_type": "display_data"
    },
    {
     "data": {
      "application/vnd.jupyter.widget-view+json": {
       "model_id": "32afd2f558fa4733b5c7267bf37dc0d4",
       "version_major": 2,
       "version_minor": 0
      },
      "text/plain": [
       "HBox(children=(IntProgress(value=0, max=10), HTML(value='')))"
      ]
     },
     "metadata": {},
     "output_type": "display_data"
    },
    {
     "data": {
      "application/vnd.jupyter.widget-view+json": {
       "model_id": "20a9183a02084e4687503074617d7c59",
       "version_major": 2,
       "version_minor": 0
      },
      "text/plain": [
       "HBox(children=(IntProgress(value=0, max=10), HTML(value='')))"
      ]
     },
     "metadata": {},
     "output_type": "display_data"
    },
    {
     "data": {
      "application/vnd.jupyter.widget-view+json": {
       "model_id": "cf826ceb0da34d08b0bd957b6bed16cc",
       "version_major": 2,
       "version_minor": 0
      },
      "text/plain": [
       "HBox(children=(IntProgress(value=0, max=10), HTML(value='')))"
      ]
     },
     "metadata": {},
     "output_type": "display_data"
    },
    {
     "data": {
      "application/vnd.jupyter.widget-view+json": {
       "model_id": "87626243a4f7429990cf9cc7ccca7b72",
       "version_major": 2,
       "version_minor": 0
      },
      "text/plain": [
       "HBox(children=(IntProgress(value=0, max=10), HTML(value='')))"
      ]
     },
     "metadata": {},
     "output_type": "display_data"
    },
    {
     "data": {
      "application/vnd.jupyter.widget-view+json": {
       "model_id": "16b3d461e1dc49389964035ec863dcdc",
       "version_major": 2,
       "version_minor": 0
      },
      "text/plain": [
       "HBox(children=(IntProgress(value=0, max=10), HTML(value='')))"
      ]
     },
     "metadata": {},
     "output_type": "display_data"
    },
    {
     "data": {
      "application/vnd.jupyter.widget-view+json": {
       "model_id": "86ce4a4cdd7342aebf8c08f5af95e2be",
       "version_major": 2,
       "version_minor": 0
      },
      "text/plain": [
       "HBox(children=(IntProgress(value=0, max=10), HTML(value='')))"
      ]
     },
     "metadata": {},
     "output_type": "display_data"
    },
    {
     "data": {
      "application/vnd.jupyter.widget-view+json": {
       "model_id": "56058700ea1a4f67b4e45e40134af3f7",
       "version_major": 2,
       "version_minor": 0
      },
      "text/plain": [
       "HBox(children=(IntProgress(value=0, max=10), HTML(value='')))"
      ]
     },
     "metadata": {},
     "output_type": "display_data"
    },
    {
     "data": {
      "application/vnd.jupyter.widget-view+json": {
       "model_id": "91b7c4130f3f4f3c8cb70b9a866a2105",
       "version_major": 2,
       "version_minor": 0
      },
      "text/plain": [
       "HBox(children=(IntProgress(value=0, max=10), HTML(value='')))"
      ]
     },
     "metadata": {},
     "output_type": "display_data"
    },
    {
     "data": {
      "application/vnd.jupyter.widget-view+json": {
       "model_id": "7b8957fcf81c485dbfdb4dc316fd6277",
       "version_major": 2,
       "version_minor": 0
      },
      "text/plain": [
       "HBox(children=(IntProgress(value=0, max=10), HTML(value='')))"
      ]
     },
     "metadata": {},
     "output_type": "display_data"
    },
    {
     "name": "stdout",
     "output_type": "stream",
     "text": [
      "[[       nan        nan        nan        nan        nan        nan\n",
      "         nan        nan        nan        nan        nan        nan\n",
      "         nan        nan        nan        nan        nan        nan\n",
      "         nan        nan]\n",
      " [       nan 0.98232701        nan 0.96684066        nan 0.97865599\n",
      "         nan 1.04208872        nan 0.97934911        nan 0.99553165\n",
      "         nan 1.01389262        nan 1.04234853        nan 1.06118743\n",
      "         nan 1.04657585]\n",
      " [       nan        nan        nan        nan        nan        nan\n",
      "         nan        nan        nan        nan        nan        nan\n",
      "         nan        nan        nan        nan        nan        nan\n",
      "         nan        nan]\n",
      " [       nan 0.96920321        nan 0.94496232        nan 0.96935147\n",
      "         nan 0.95199671        nan 0.98990854        nan 1.04843162\n",
      "         nan 1.01409099        nan 0.99968435        nan 1.0277257\n",
      "         nan 1.02675032]\n",
      " [       nan        nan        nan        nan        nan        nan\n",
      "         nan        nan        nan        nan        nan        nan\n",
      "         nan        nan        nan        nan        nan        nan\n",
      "         nan        nan]\n",
      " [       nan 0.92549041        nan 0.9370655         nan 0.9464638\n",
      "         nan 1.01547306        nan 0.95029914        nan 1.01055058\n",
      "         nan 1.00927265        nan 0.9451436         nan 0.99781126\n",
      "         nan 1.00575688]\n",
      " [       nan        nan        nan        nan        nan        nan\n",
      "         nan        nan        nan        nan        nan        nan\n",
      "         nan        nan        nan        nan        nan        nan\n",
      "         nan        nan]\n",
      " [       nan 0.94241665        nan 0.96062641        nan 0.97201118\n",
      "         nan 0.95204049        nan 1.01345122        nan 0.98892767\n",
      "         nan 1.01417052        nan 1.04036157        nan 1.02489714\n",
      "         nan 1.04693128]\n",
      " [       nan        nan        nan        nan        nan        nan\n",
      "         nan        nan        nan        nan        nan        nan\n",
      "         nan        nan        nan        nan        nan        nan\n",
      "         nan        nan]\n",
      " [       nan 0.96258757        nan 0.9332772         nan 0.9620549\n",
      "         nan 0.98179951        nan 0.97686178        nan 0.98719206\n",
      "         nan 0.95441847        nan 0.99358049        nan 0.97791043\n",
      "         nan 1.02968098]\n",
      " [       nan        nan        nan        nan        nan        nan\n",
      "         nan        nan        nan        nan        nan        nan\n",
      "         nan        nan        nan        nan        nan        nan\n",
      "         nan        nan]\n",
      " [       nan 0.90968169        nan 1.15794482        nan 0.92042941\n",
      "         nan 0.94197316        nan 0.95505201        nan 1.39734473\n",
      "         nan 1.02150388        nan 0.97971047        nan 0.9922383\n",
      "         nan 1.03761536]\n",
      " [       nan        nan        nan        nan        nan        nan\n",
      "         nan        nan        nan        nan        nan        nan\n",
      "         nan        nan        nan        nan        nan        nan\n",
      "         nan        nan]\n",
      " [       nan 0.90976131        nan 0.94086388        nan 0.99718737\n",
      "         nan 0.95616565        nan 0.99531054        nan 0.96944944\n",
      "         nan 0.98974874        nan 0.98389833        nan 1.02621426\n",
      "         nan 1.03941117]\n",
      " [       nan        nan        nan        nan        nan        nan\n",
      "         nan        nan        nan        nan        nan        nan\n",
      "         nan        nan        nan        nan        nan        nan\n",
      "         nan        nan]\n",
      " [       nan 0.90281668        nan 0.91363202        nan 0.95383249\n",
      "         nan 0.97639189        nan 1.0080534         nan 0.94433546\n",
      "         nan 0.99422978        nan 1.00631685        nan 0.98490627\n",
      "         nan 0.97344376]\n",
      " [       nan        nan        nan        nan        nan        nan\n",
      "         nan        nan        nan        nan        nan        nan\n",
      "         nan        nan        nan        nan        nan        nan\n",
      "         nan        nan]\n",
      " [       nan 0.92090115        nan 0.94605175        nan 0.94319891\n",
      "         nan 0.94594059        nan 0.93125115        nan 0.9752256\n",
      "         nan 0.96100974        nan 1.01212816        nan 1.01198802\n",
      "         nan 1.01285724]\n",
      " [       nan        nan        nan        nan        nan        nan\n",
      "         nan        nan        nan        nan        nan        nan\n",
      "         nan        nan        nan        nan        nan        nan\n",
      "         nan        nan]\n",
      " [       nan 0.93295543        nan 0.94121745        nan 0.93971877\n",
      "         nan 0.95690797        nan 0.94505627        nan 0.96755643\n",
      "         nan 0.97334757        nan 0.98174672        nan 1.0060715\n",
      "         nan 1.00395893]]\n",
      "0.9859797968966214\n"
     ]
    },
    {
     "data": {
      "application/vnd.jupyter.widget-view+json": {
       "model_id": "9bb988ce456842db99433a2c39736061",
       "version_major": 2,
       "version_minor": 0
      },
      "text/plain": [
       "HBox(children=(IntProgress(value=0, max=300), HTML(value='')))"
      ]
     },
     "metadata": {},
     "output_type": "display_data"
    },
    {
     "name": "stdout",
     "output_type": "stream",
     "text": [
      "Model will be stored in file...\n",
      "Stored models in file:\n",
      "├── Gaussian_NelderMead_ml\n",
      "│   ├── components\n",
      "│   │   ├── First_Plasmon_Peak\n",
      "│   │   ├── Second_Plasmon_Peak\n",
      "│   │   └── Zero_Loss_Peak\n",
      "│   ├── date = 2019-07-11 10:03:23\n",
      "│   └── dimensions = (20, 20|2040)\n",
      "├── Gaussian_leastsq_ls\n",
      "│   ├── components\n",
      "│   │   ├── First_Plasmon_Peak\n",
      "│   │   ├── Second_Plasmon_Peak\n",
      "│   │   └── Zero_Loss_Peak\n",
      "│   ├── date = 2019-07-11 10:09:51\n",
      "│   └── dimensions = (20, 20|2040)\n",
      "├── Gaussian_mpfit_ls\n",
      "│   ├── components\n",
      "│   │   ├── First_Plasmon_Peak\n",
      "│   │   ├── Second_Plasmon_Peak\n",
      "│   │   └── Zero_Loss_Peak\n",
      "│   ├── date = 2019-07-11 08:52:58\n",
      "│   └── dimensions = (20, 20|2040)\n",
      "├── Lorentzian_NelderMead_ml\n",
      "│   ├── components\n",
      "│   │   ├── First_Plasmon_Peak\n",
      "│   │   ├── Second_Plasmon_Peak\n",
      "│   │   └── Zero_Loss_Peak\n",
      "│   ├── date = 2019-07-11 10:08:34\n",
      "│   └── dimensions = (20, 20|2040)\n",
      "├── Lorentzian_leastsq_ls\n",
      "│   ├── components\n",
      "│   │   ├── First_Plasmon_Peak\n",
      "│   │   ├── Second_Plasmon_Peak\n",
      "│   │   └── Zero_Loss_Peak\n",
      "│   ├── date = 2019-07-11 09:26:22\n",
      "│   └── dimensions = (20, 20|2040)\n",
      "├── Lorentzian_mpfit_ls\n",
      "│   ├── components\n",
      "│   │   ├── First_Plasmon_Peak\n",
      "│   │   ├── Second_Plasmon_Peak\n",
      "│   │   └── Zero_Loss_Peak\n",
      "│   ├── date = 2019-07-11 08:54:51\n",
      "│   └── dimensions = (20, 20|2040)\n",
      "├── Voigt_NelderMead_ml\n",
      "│   ├── components\n",
      "│   │   ├── First_Plasmon_Peak\n",
      "│   │   ├── Second_Plasmon_Peak\n",
      "│   │   └── Zero_Loss_Peak\n",
      "│   ├── date = 2019-07-11 09:49:15\n",
      "│   └── dimensions = (20, 20|2040)\n",
      "├── Voigt_leastsq_ls\n",
      "│   ├── components\n",
      "│   │   ├── First_Plasmon_Peak\n",
      "│   │   ├── Second_Plasmon_Peak\n",
      "│   │   └── Zero_Loss_Peak\n",
      "│   ├── date = 2019-07-11 09:29:35\n",
      "│   └── dimensions = (20, 20|2040)\n",
      "├── Voigt_mpfit_ls\n",
      "│   ├── components\n",
      "│   │   ├── First_Plasmon_Peak\n",
      "│   │   ├── Second_Plasmon_Peak\n",
      "│   │   └── Zero_Loss_Peak\n",
      "│   ├── date = 2019-07-11 10:28:54\n",
      "│   └── dimensions = (20, 20|2040)\n",
      "├── VolumePlasmonDrude_NelderMead_ml\n",
      "│   ├── components\n",
      "│   │   ├── First_Plasmon_Peak\n",
      "│   │   ├── Second_Plasmon_Peak\n",
      "│   │   └── Zero_Loss_Peak\n",
      "│   ├── date = 2019-07-11 09:44:22\n",
      "│   └── dimensions = (20, 20|2040)\n",
      "├── VolumePlasmonDrude_leastsq_ls\n",
      "│   ├── components\n",
      "│   │   ├── First_Plasmon_Peak\n",
      "│   │   ├── Second_Plasmon_Peak\n",
      "│   │   └── Zero_Loss_Peak\n",
      "│   ├── date = 2019-07-11 09:27:41\n",
      "│   └── dimensions = (20, 20|2040)\n",
      "└── VolumePlasmonDrude_mpfit_ls\n",
      "    ├── components\n",
      "    │   ├── First_Plasmon_Peak\n",
      "    │   ├── Second_Plasmon_Peak\n",
      "    │   └── Zero_Loss_Peak\n",
      "    ├── date = 2019-07-11 10:11:15\n",
      "    └── dimensions = (20, 20|2040)\n",
      "\n"
     ]
    }
   ],
   "source": [
    "a.eels_fit_routine(function_set='Voigt', fitter='mpfit', method='ls', samfire=True)"
   ]
  },
  {
   "cell_type": "code",
   "execution_count": 38,
   "metadata": {},
   "outputs": [
    {
     "name": "stdout",
     "output_type": "stream",
     "text": [
      "Reinitialising poissonian noise estimation...\n",
      "Estimate function parameters...\n"
     ]
    },
    {
     "data": {
      "application/vnd.jupyter.widget-view+json": {
       "model_id": "8f8f31013b214b28a6c645943e21b211",
       "version_major": 2,
       "version_minor": 0
      },
      "text/plain": [
       "HBox(children=(IntProgress(value=0, max=1), HTML(value='')))"
      ]
     },
     "metadata": {},
     "output_type": "display_data"
    },
    {
     "data": {
      "application/vnd.jupyter.widget-view+json": {
       "model_id": "8a59494df4954ffdaf64ee88a730eb61",
       "version_major": 2,
       "version_minor": 0
      },
      "text/plain": [
       "HBox(children=(IntProgress(value=0, max=1), HTML(value='')))"
      ]
     },
     "metadata": {},
     "output_type": "display_data"
    },
    {
     "name": "stdout",
     "output_type": "stream",
     "text": [
      "Estimate function parameters...\n"
     ]
    },
    {
     "data": {
      "application/vnd.jupyter.widget-view+json": {
       "model_id": "203f1b36b7e94ddcb03a7ee6097ac36e",
       "version_major": 2,
       "version_minor": 0
      },
      "text/plain": [
       "HBox(children=(IntProgress(value=0, max=1), HTML(value='')))"
      ]
     },
     "metadata": {},
     "output_type": "display_data"
    },
    {
     "data": {
      "application/vnd.jupyter.widget-view+json": {
       "model_id": "650ee22a77924e3b90d072a5176f93ad",
       "version_major": 2,
       "version_minor": 0
      },
      "text/plain": [
       "HBox(children=(IntProgress(value=0, max=1), HTML(value='')))"
      ]
     },
     "metadata": {},
     "output_type": "display_data"
    },
    {
     "name": "stdout",
     "output_type": "stream",
     "text": [
      "52339.63976985681\n",
      "15701.891930957043\n",
      "Estimate function parameters...\n"
     ]
    },
    {
     "data": {
      "application/vnd.jupyter.widget-view+json": {
       "model_id": "7706adc851654f81948ce34f3ec13371",
       "version_major": 2,
       "version_minor": 0
      },
      "text/plain": [
       "HBox(children=(IntProgress(value=0, max=1), HTML(value='')))"
      ]
     },
     "metadata": {},
     "output_type": "display_data"
    },
    {
     "data": {
      "application/vnd.jupyter.widget-view+json": {
       "model_id": "c6f2aad2cd3e4a76b74758b35508ccf9",
       "version_major": 2,
       "version_minor": 0
      },
      "text/plain": [
       "HBox(children=(IntProgress(value=0, max=1), HTML(value='')))"
      ]
     },
     "metadata": {},
     "output_type": "display_data"
    },
    {
     "name": "stdout",
     "output_type": "stream",
     "text": [
      "Estimate function parameters...\n"
     ]
    },
    {
     "data": {
      "application/vnd.jupyter.widget-view+json": {
       "model_id": "40bf15923772403391218e4e59b631ad",
       "version_major": 2,
       "version_minor": 0
      },
      "text/plain": [
       "HBox(children=(IntProgress(value=0, max=1), HTML(value='')))"
      ]
     },
     "metadata": {},
     "output_type": "display_data"
    },
    {
     "data": {
      "application/vnd.jupyter.widget-view+json": {
       "model_id": "fd43ea36ce7745758c932b9f71ed768e",
       "version_major": 2,
       "version_minor": 0
      },
      "text/plain": [
       "HBox(children=(IntProgress(value=0, max=1), HTML(value='')))"
      ]
     },
     "metadata": {},
     "output_type": "display_data"
    },
    {
     "name": "stdout",
     "output_type": "stream",
     "text": [
      "52339.63976985681\n",
      "15701.891930957043\n",
      "Estimate function parameters...\n"
     ]
    },
    {
     "name": "stderr",
     "output_type": "stream",
     "text": [
      "/home/max/Apps/anaconda3/envs/Hyperspy/lib/python3.6/site-packages/hyperspy/_components/voigt.py:60: RuntimeWarning: divide by zero encountered in true_divide\n",
      "  z = (np.asarray(x) - center + 1j * gamma) / (sigma * math.sqrt(2))\n",
      "/home/max/Apps/anaconda3/envs/Hyperspy/lib/python3.6/site-packages/hyperspy/_components/voigt.py:61: RuntimeWarning: invalid value encountered in true_divide\n",
      "  V = wofz(z) / (math.sqrt(2 * np.pi) * sigma)\n"
     ]
    },
    {
     "data": {
      "application/vnd.jupyter.widget-view+json": {
       "model_id": "38c32e3c18a7407ea242f8a80bc7af76",
       "version_major": 2,
       "version_minor": 0
      },
      "text/plain": [
       "HBox(children=(IntProgress(value=0, max=1), HTML(value='')))"
      ]
     },
     "metadata": {},
     "output_type": "display_data"
    },
    {
     "data": {
      "application/vnd.jupyter.widget-view+json": {
       "model_id": "7aebbde31af74447af672c2712b43e41",
       "version_major": 2,
       "version_minor": 0
      },
      "text/plain": [
       "HBox(children=(IntProgress(value=0, max=1), HTML(value='')))"
      ]
     },
     "metadata": {},
     "output_type": "display_data"
    },
    {
     "name": "stdout",
     "output_type": "stream",
     "text": [
      "Estimate function parameters...\n"
     ]
    },
    {
     "data": {
      "application/vnd.jupyter.widget-view+json": {
       "model_id": "f8495e23c4fc44d98f4c3df5d4cfcf88",
       "version_major": 2,
       "version_minor": 0
      },
      "text/plain": [
       "HBox(children=(IntProgress(value=0, max=1), HTML(value='')))"
      ]
     },
     "metadata": {},
     "output_type": "display_data"
    },
    {
     "data": {
      "application/vnd.jupyter.widget-view+json": {
       "model_id": "0a4e2d9699454d2096da123e504486cb",
       "version_major": 2,
       "version_minor": 0
      },
      "text/plain": [
       "HBox(children=(IntProgress(value=0, max=1), HTML(value='')))"
      ]
     },
     "metadata": {},
     "output_type": "display_data"
    },
    {
     "name": "stdout",
     "output_type": "stream",
     "text": [
      "52339.63976985681\n",
      "15701.891930957043\n",
      "52339.63976985681\n",
      "15701.891930957043\n",
      "Do you want to adjust the starting parameters? (y/n): n\n",
      "Correcting poissonian noise for the gain factor of\n",
      "the EELS - detector by generating statistics on the\n",
      ":reduced Chi-squared.\n",
      "Including gain factor of detector in poissonian noise. Rescaling...\n",
      "Generating_seeds for SAMFire...\n"
     ]
    },
    {
     "data": {
      "application/vnd.jupyter.widget-view+json": {
       "model_id": "93251cdb5783478689463443f30aaba2",
       "version_major": 2,
       "version_minor": 0
      },
      "text/plain": [
       "HBox(children=(IntProgress(value=0, max=300), HTML(value='')))"
      ]
     },
     "metadata": {},
     "output_type": "display_data"
    },
    {
     "name": "stdout",
     "output_type": "stream",
     "text": [
      "Adj. fit goodness (reduced Chi squared):  0.9975623356990309\n",
      "Standard deviation of adj. fit goodness:  0.03475654845041352\n",
      "Model will be stored in file...\n",
      "Stored models in file:\n",
      "{'VolumePlasmonDrude_leastsq_ls': <EELSModel, title: AlYFe SB3>, 'VolumePlasmonDrude_Nelder-Mead_ml': <EELSModel, title: AlYFe SB3>, 'VolumePlasmonDrude_mpfit_ls': <EELSModel, title: AlYFe SB3>}\n"
     ]
    }
   ],
   "source": [
    "a.eels_fit_routine(function_set='VolumePlasmonDrude', fitter='mpfit', method='ls', samfire=True)"
   ]
  },
  {
   "cell_type": "code",
   "execution_count": 51,
   "metadata": {},
   "outputs": [
    {
     "name": "stdout",
     "output_type": "stream",
     "text": [
      "0.9977571673681785\n",
      "0.03858396764401258\n"
     ]
    }
   ],
   "source": [
    "a.Fit_Model.plot(plot_components=True)\n",
    "a.Fit_Model.red_chisq.plot()\n",
    "print(np.mean(a.Fit_Model.red_chisq.data))\n",
    "print(np.std(a.Fit_Model.red_chisq.data))\n",
    "#a.plot_parameter_maps(False)"
   ]
  },
  {
   "cell_type": "code",
   "execution_count": 57,
   "metadata": {},
   "outputs": [
    {
     "name": "stdout",
     "output_type": "stream",
     "text": [
      "Reinitialising poissonian noise estimation...\n",
      "Estimate function parameters...\n"
     ]
    },
    {
     "data": {
      "application/vnd.jupyter.widget-view+json": {
       "model_id": "3c09a65a30ee4d1b8e5cfc4893102506",
       "version_major": 2,
       "version_minor": 0
      },
      "text/plain": [
       "HBox(children=(IntProgress(value=0, max=1), HTML(value='')))"
      ]
     },
     "metadata": {},
     "output_type": "display_data"
    },
    {
     "data": {
      "application/vnd.jupyter.widget-view+json": {
       "model_id": "704bfbfb32a84518b7270456289a5edb",
       "version_major": 2,
       "version_minor": 0
      },
      "text/plain": [
       "HBox(children=(IntProgress(value=0, max=1), HTML(value='')))"
      ]
     },
     "metadata": {},
     "output_type": "display_data"
    },
    {
     "name": "stdout",
     "output_type": "stream",
     "text": [
      "Estimate function parameters...\n"
     ]
    },
    {
     "data": {
      "application/vnd.jupyter.widget-view+json": {
       "model_id": "078286f1a6904d098c188b2e5b6fb231",
       "version_major": 2,
       "version_minor": 0
      },
      "text/plain": [
       "HBox(children=(IntProgress(value=0, max=1), HTML(value='')))"
      ]
     },
     "metadata": {},
     "output_type": "display_data"
    },
    {
     "data": {
      "application/vnd.jupyter.widget-view+json": {
       "model_id": "5b945f3223bc4cbf8f00344b2d55e71a",
       "version_major": 2,
       "version_minor": 0
      },
      "text/plain": [
       "HBox(children=(IntProgress(value=0, max=1), HTML(value='')))"
      ]
     },
     "metadata": {},
     "output_type": "display_data"
    },
    {
     "name": "stdout",
     "output_type": "stream",
     "text": [
      "Estimate function parameters...\n"
     ]
    },
    {
     "data": {
      "application/vnd.jupyter.widget-view+json": {
       "model_id": "33127560d7c348c2b0867b6deefbd1fd",
       "version_major": 2,
       "version_minor": 0
      },
      "text/plain": [
       "HBox(children=(IntProgress(value=0, max=1), HTML(value='')))"
      ]
     },
     "metadata": {},
     "output_type": "display_data"
    },
    {
     "data": {
      "application/vnd.jupyter.widget-view+json": {
       "model_id": "e30f6cf4749f455981b5975a121fe773",
       "version_major": 2,
       "version_minor": 0
      },
      "text/plain": [
       "HBox(children=(IntProgress(value=0, max=1), HTML(value='')))"
      ]
     },
     "metadata": {},
     "output_type": "display_data"
    },
    {
     "name": "stdout",
     "output_type": "stream",
     "text": [
      "Estimate function parameters...\n"
     ]
    },
    {
     "data": {
      "application/vnd.jupyter.widget-view+json": {
       "model_id": "6350fb5257754f1e968a238040f4a1ff",
       "version_major": 2,
       "version_minor": 0
      },
      "text/plain": [
       "HBox(children=(IntProgress(value=0, max=1), HTML(value='')))"
      ]
     },
     "metadata": {},
     "output_type": "display_data"
    },
    {
     "data": {
      "application/vnd.jupyter.widget-view+json": {
       "model_id": "83ad599d500a447da89b230fa8241a19",
       "version_major": 2,
       "version_minor": 0
      },
      "text/plain": [
       "HBox(children=(IntProgress(value=0, max=1), HTML(value='')))"
      ]
     },
     "metadata": {},
     "output_type": "display_data"
    },
    {
     "name": "stdout",
     "output_type": "stream",
     "text": [
      "Estimate function parameters...\n"
     ]
    },
    {
     "data": {
      "application/vnd.jupyter.widget-view+json": {
       "model_id": "796d4f9584854d6d98874fbb4b8de128",
       "version_major": 2,
       "version_minor": 0
      },
      "text/plain": [
       "HBox(children=(IntProgress(value=0, max=1), HTML(value='')))"
      ]
     },
     "metadata": {},
     "output_type": "display_data"
    },
    {
     "data": {
      "application/vnd.jupyter.widget-view+json": {
       "model_id": "52b26007f919461ab322ce046d47564a",
       "version_major": 2,
       "version_minor": 0
      },
      "text/plain": [
       "HBox(children=(IntProgress(value=0, max=1), HTML(value='')))"
      ]
     },
     "metadata": {},
     "output_type": "display_data"
    },
    {
     "name": "stdout",
     "output_type": "stream",
     "text": [
      "Estimate function parameters...\n"
     ]
    },
    {
     "data": {
      "application/vnd.jupyter.widget-view+json": {
       "model_id": "5f6b2b431d694cadb97f4c93b7cdde3e",
       "version_major": 2,
       "version_minor": 0
      },
      "text/plain": [
       "HBox(children=(IntProgress(value=0, max=1), HTML(value='')))"
      ]
     },
     "metadata": {},
     "output_type": "display_data"
    },
    {
     "data": {
      "application/vnd.jupyter.widget-view+json": {
       "model_id": "f410e00803874eb4ab366ea255065bc9",
       "version_major": 2,
       "version_minor": 0
      },
      "text/plain": [
       "HBox(children=(IntProgress(value=0, max=1), HTML(value='')))"
      ]
     },
     "metadata": {},
     "output_type": "display_data"
    },
    {
     "name": "stdout",
     "output_type": "stream",
     "text": [
      "Do you want to adjust the starting parameters? (y/n): n\n",
      "Generating seeds...\n"
     ]
    },
    {
     "data": {
      "application/vnd.jupyter.widget-view+json": {
       "model_id": "6a978c50bf1e41b493412bcff6709fba",
       "version_major": 2,
       "version_minor": 0
      },
      "text/plain": [
       "HBox(children=(IntProgress(value=0, max=10), HTML(value='')))"
      ]
     },
     "metadata": {},
     "output_type": "display_data"
    },
    {
     "data": {
      "application/vnd.jupyter.widget-view+json": {
       "model_id": "5c46c629fe114329922a58c8b1c4b168",
       "version_major": 2,
       "version_minor": 0
      },
      "text/plain": [
       "HBox(children=(IntProgress(value=0, max=10), HTML(value='')))"
      ]
     },
     "metadata": {},
     "output_type": "display_data"
    },
    {
     "data": {
      "application/vnd.jupyter.widget-view+json": {
       "model_id": "44a98918851b48b890c7cabacdf352ba",
       "version_major": 2,
       "version_minor": 0
      },
      "text/plain": [
       "HBox(children=(IntProgress(value=0, max=10), HTML(value='')))"
      ]
     },
     "metadata": {},
     "output_type": "display_data"
    },
    {
     "data": {
      "application/vnd.jupyter.widget-view+json": {
       "model_id": "a2171aa8167840448c063783772760b0",
       "version_major": 2,
       "version_minor": 0
      },
      "text/plain": [
       "HBox(children=(IntProgress(value=0, max=10), HTML(value='')))"
      ]
     },
     "metadata": {},
     "output_type": "display_data"
    },
    {
     "data": {
      "application/vnd.jupyter.widget-view+json": {
       "model_id": "994ea6975fbf4a0593abd037fedd1a78",
       "version_major": 2,
       "version_minor": 0
      },
      "text/plain": [
       "HBox(children=(IntProgress(value=0, max=10), HTML(value='')))"
      ]
     },
     "metadata": {},
     "output_type": "display_data"
    },
    {
     "data": {
      "application/vnd.jupyter.widget-view+json": {
       "model_id": "13e0d883a3e74dff91b71eb5003cd4b7",
       "version_major": 2,
       "version_minor": 0
      },
      "text/plain": [
       "HBox(children=(IntProgress(value=0, max=10), HTML(value='')))"
      ]
     },
     "metadata": {},
     "output_type": "display_data"
    },
    {
     "data": {
      "application/vnd.jupyter.widget-view+json": {
       "model_id": "d86bc0245bc64b6d949cbc8d74e22b7d",
       "version_major": 2,
       "version_minor": 0
      },
      "text/plain": [
       "HBox(children=(IntProgress(value=0, max=10), HTML(value='')))"
      ]
     },
     "metadata": {},
     "output_type": "display_data"
    },
    {
     "data": {
      "application/vnd.jupyter.widget-view+json": {
       "model_id": "2dd05bae98a4403aa01c1dc2d6658386",
       "version_major": 2,
       "version_minor": 0
      },
      "text/plain": [
       "HBox(children=(IntProgress(value=0, max=10), HTML(value='')))"
      ]
     },
     "metadata": {},
     "output_type": "display_data"
    },
    {
     "data": {
      "application/vnd.jupyter.widget-view+json": {
       "model_id": "9df79f984e4745879f556dc2d21a5698",
       "version_major": 2,
       "version_minor": 0
      },
      "text/plain": [
       "HBox(children=(IntProgress(value=0, max=10), HTML(value='')))"
      ]
     },
     "metadata": {},
     "output_type": "display_data"
    },
    {
     "data": {
      "application/vnd.jupyter.widget-view+json": {
       "model_id": "25a237a052e54f4eab4048cbfaa52875",
       "version_major": 2,
       "version_minor": 0
      },
      "text/plain": [
       "HBox(children=(IntProgress(value=0, max=10), HTML(value='')))"
      ]
     },
     "metadata": {},
     "output_type": "display_data"
    },
    {
     "data": {
      "application/vnd.jupyter.widget-view+json": {
       "model_id": "3f5c43d112ff44fd8c4516cdb3a1bccf",
       "version_major": 2,
       "version_minor": 0
      },
      "text/plain": [
       "HBox(children=(IntProgress(value=0, max=10), HTML(value='')))"
      ]
     },
     "metadata": {},
     "output_type": "display_data"
    },
    {
     "name": "stdout",
     "output_type": "stream",
     "text": [
      "Including gain factor of detector in poissonian noise. Rescaling...\n",
      "Generating seeds...\n"
     ]
    },
    {
     "data": {
      "application/vnd.jupyter.widget-view+json": {
       "model_id": "946f6aca91d3497eb735d677f0020287",
       "version_major": 2,
       "version_minor": 0
      },
      "text/plain": [
       "HBox(children=(IntProgress(value=0, max=10), HTML(value='')))"
      ]
     },
     "metadata": {},
     "output_type": "display_data"
    },
    {
     "data": {
      "application/vnd.jupyter.widget-view+json": {
       "model_id": "93152da7472448e99682cf620870d90c",
       "version_major": 2,
       "version_minor": 0
      },
      "text/plain": [
       "HBox(children=(IntProgress(value=0, max=10), HTML(value='')))"
      ]
     },
     "metadata": {},
     "output_type": "display_data"
    },
    {
     "data": {
      "application/vnd.jupyter.widget-view+json": {
       "model_id": "a07f0dcbef47486fb92f0fb097a340b1",
       "version_major": 2,
       "version_minor": 0
      },
      "text/plain": [
       "HBox(children=(IntProgress(value=0, max=10), HTML(value='')))"
      ]
     },
     "metadata": {},
     "output_type": "display_data"
    },
    {
     "data": {
      "application/vnd.jupyter.widget-view+json": {
       "model_id": "b746bf43ce914c39a53ea7bb912b4867",
       "version_major": 2,
       "version_minor": 0
      },
      "text/plain": [
       "HBox(children=(IntProgress(value=0, max=10), HTML(value='')))"
      ]
     },
     "metadata": {},
     "output_type": "display_data"
    },
    {
     "data": {
      "application/vnd.jupyter.widget-view+json": {
       "model_id": "eaa6be1de5c04ddb9ec7f830f0bff4a6",
       "version_major": 2,
       "version_minor": 0
      },
      "text/plain": [
       "HBox(children=(IntProgress(value=0, max=10), HTML(value='')))"
      ]
     },
     "metadata": {},
     "output_type": "display_data"
    },
    {
     "data": {
      "application/vnd.jupyter.widget-view+json": {
       "model_id": "7bb591dbc2134bc2b1ad983da0c5c2e5",
       "version_major": 2,
       "version_minor": 0
      },
      "text/plain": [
       "HBox(children=(IntProgress(value=0, max=10), HTML(value='')))"
      ]
     },
     "metadata": {},
     "output_type": "display_data"
    },
    {
     "data": {
      "application/vnd.jupyter.widget-view+json": {
       "model_id": "44980b49c25d4d2894ced9d6c3f16aaa",
       "version_major": 2,
       "version_minor": 0
      },
      "text/plain": [
       "HBox(children=(IntProgress(value=0, max=10), HTML(value='')))"
      ]
     },
     "metadata": {},
     "output_type": "display_data"
    },
    {
     "data": {
      "application/vnd.jupyter.widget-view+json": {
       "model_id": "a16ac06f3c954b90a930fd44bf8e0ba4",
       "version_major": 2,
       "version_minor": 0
      },
      "text/plain": [
       "HBox(children=(IntProgress(value=0, max=10), HTML(value='')))"
      ]
     },
     "metadata": {},
     "output_type": "display_data"
    },
    {
     "data": {
      "application/vnd.jupyter.widget-view+json": {
       "model_id": "e26077770fb34537b93a961f5597ac57",
       "version_major": 2,
       "version_minor": 0
      },
      "text/plain": [
       "HBox(children=(IntProgress(value=0, max=10), HTML(value='')))"
      ]
     },
     "metadata": {},
     "output_type": "display_data"
    },
    {
     "data": {
      "application/vnd.jupyter.widget-view+json": {
       "model_id": "5d2185e5dc3049c8ba5d00270938b0e6",
       "version_major": 2,
       "version_minor": 0
      },
      "text/plain": [
       "HBox(children=(IntProgress(value=0, max=10), HTML(value='')))"
      ]
     },
     "metadata": {},
     "output_type": "display_data"
    },
    {
     "data": {
      "application/vnd.jupyter.widget-view+json": {
       "model_id": "1f8151d0d8f9417eb90ad72d66e0ea0b",
       "version_major": 2,
       "version_minor": 0
      },
      "text/plain": [
       "HBox(children=(IntProgress(value=0, max=10), HTML(value='')))"
      ]
     },
     "metadata": {},
     "output_type": "display_data"
    },
    {
     "name": "stdout",
     "output_type": "stream",
     "text": [
      "[[       nan        nan        nan        nan        nan        nan\n",
      "         nan        nan        nan        nan        nan        nan\n",
      "         nan        nan        nan        nan        nan        nan\n",
      "         nan        nan]\n",
      " [       nan 0.94310262        nan 0.92823464        nan 0.9395782\n",
      "         nan 1.00047805        nan 0.94024377        nan 0.95578057\n",
      "         nan 0.97340755        nan 1.00072759        nan 1.01881433\n",
      "         nan 1.00478601]\n",
      " [       nan        nan        nan        nan        nan        nan\n",
      "         nan        nan        nan        nan        nan        nan\n",
      "         nan        nan        nan        nan        nan        nan\n",
      "         nan        nan]\n",
      " [       nan 0.93050288        nan 0.90722993        nan 0.93064523\n",
      "         nan 0.91398341        nan 0.95038142        nan 1.00652135\n",
      "         nan 0.97359826        nan 0.95976702        nan 0.986616\n",
      "         nan 0.98575223]\n",
      " [       nan        nan        nan        nan        nan        nan\n",
      "         nan        nan        nan        nan        nan        nan\n",
      "         nan        nan        nan        nan        nan        nan\n",
      "         nan        nan]\n",
      " [       nan 0.88853554        nan 0.89964064        nan 0.90867144\n",
      "         nan 0.97492502        nan 0.91230322        nan 0.97019925\n",
      "         nan 0.96896991        nan 0.90322126        nan 0.95796863\n",
      "         nan 0.96559698]\n",
      " [       nan        nan        nan        nan        nan        nan\n",
      "         nan        nan        nan        nan        nan        nan\n",
      "         nan        nan        nan        nan        nan        nan\n",
      "         nan        nan]\n",
      " [       nan 0.90478514        nan 0.92226853        nan 0.9331987\n",
      "         nan 0.91312363        nan 0.94361492        nan 0.94943972\n",
      "         nan 0.9736746         nan 0.99881996        nan 0.98397261\n",
      "         nan 1.00512768]\n",
      " [       nan        nan        nan        nan        nan        nan\n",
      "         nan        nan        nan        nan        nan        nan\n",
      "         nan        nan        nan        nan        nan        nan\n",
      "         nan        nan]\n",
      " [       nan 0.92415144        nan 0.89601138        nan 0.92363999\n",
      "         nan 0.94259618        nan 0.93785562        nan 0.94777339\n",
      "         nan 0.91630848        nan 0.95390676        nan 0.93633179\n",
      "         nan 1.26890302]\n",
      " [       nan        nan        nan        nan        nan        nan\n",
      "         nan        nan        nan        nan        nan        nan\n",
      "         nan        nan        nan        nan        nan        nan\n",
      "         nan        nan]\n",
      " [       nan 0.87335803        nan 0.90894375        nan 0.88367661\n",
      "         nan 0.90435265        nan 0.91691669        nan 0.9365443\n",
      "         nan 0.98071516        nan 0.94059066        nan 0.95261817\n",
      "         nan 0.99618332]\n",
      " [       nan        nan        nan        nan        nan        nan\n",
      "         nan        nan        nan        nan        nan        nan\n",
      "         nan        nan        nan        nan        nan        nan\n",
      "         nan        nan]\n",
      " [       nan 0.87341303        nan 0.90329512        nan 0.95736961\n",
      "         nan 0.91798591        nan 0.95556775        nan 0.93035708\n",
      "         nan 0.95022801        nan 0.94461122        nan 0.98523612\n",
      "         nan 0.99790754]\n",
      " [       nan        nan        nan        nan        nan        nan\n",
      "         nan        nan        nan        nan        nan        nan\n",
      "         nan        nan        nan        nan        nan        nan\n",
      "         nan        nan]\n",
      " [       nan 0.86674495        nan 0.87715063        nan 0.9157458\n",
      "         nan 0.93740449        nan 0.96780174        nan 0.90662808\n",
      "         nan 0.95453012        nan 0.96613456        nan 0.94557894\n",
      "         nan 0.93344424]\n",
      " [       nan        nan        nan        nan        nan        nan\n",
      "         nan        nan        nan        nan        nan        nan\n",
      "         nan        nan        nan        nan        nan        nan\n",
      "         nan        nan]\n",
      " [       nan 0.88391058        nan 0.90820955        nan 0.90553692\n",
      "         nan 0.90816912        nan 0.89406626        nan 0.93628479\n",
      "         nan 0.92263656        nan 0.97171384        nan 0.97157927\n",
      "         nan 0.97240647]\n",
      " [       nan        nan        nan        nan        nan        nan\n",
      "         nan        nan        nan        nan        nan        nan\n",
      "         nan        nan        nan        nan        nan        nan\n",
      "         nan        nan]\n",
      " [       nan 0.89570245        nan 0.90363466        nan 0.90219573\n",
      "         nan 0.91869857        nan 0.90732013        nan 0.92892186\n",
      "         nan 0.93448104        nan 0.94253953        nan 0.96589903\n",
      "         nan 0.9638708 ]]\n",
      "0.9429449789684299\n"
     ]
    },
    {
     "data": {
      "application/vnd.jupyter.widget-view+json": {
       "model_id": "199663effd624161acc5d14c9eb5acdf",
       "version_major": 2,
       "version_minor": 0
      },
      "text/plain": [
       "HBox(children=(IntProgress(value=0, max=300), HTML(value='')))"
      ]
     },
     "metadata": {},
     "output_type": "display_data"
    },
    {
     "name": "stdout",
     "output_type": "stream",
     "text": [
      "Model will be stored in file...\n",
      "Stored models in file:\n",
      "├── Gaussian_mpfit_ls\n",
      "│   ├── components\n",
      "│   │   ├── First_Plasmon_Peak\n",
      "│   │   ├── Second_Plasmon_Peak\n",
      "│   │   └── Zero_Loss_Peak\n",
      "│   ├── date = 2019-07-11 08:52:58\n",
      "│   └── dimensions = (20, 20|2040)\n",
      "├── Lorentzian_leastsq_ls\n",
      "│   ├── components\n",
      "│   │   ├── First_Plasmon_Peak\n",
      "│   │   ├── Second_Plasmon_Peak\n",
      "│   │   └── Zero_Loss_Peak\n",
      "│   ├── date = 2019-07-11 09:26:22\n",
      "│   └── dimensions = (20, 20|2040)\n",
      "├── Lorentzian_mpfit_ls\n",
      "│   ├── components\n",
      "│   │   ├── First_Plasmon_Peak\n",
      "│   │   ├── Second_Plasmon_Peak\n",
      "│   │   └── Zero_Loss_Peak\n",
      "│   ├── date = 2019-07-11 08:54:51\n",
      "│   └── dimensions = (20, 20|2040)\n",
      "├── Voigt_leastsq_ls\n",
      "│   ├── components\n",
      "│   │   ├── First_Plasmon_Peak\n",
      "│   │   ├── Second_Plasmon_Peak\n",
      "│   │   └── Zero_Loss_Peak\n",
      "│   ├── date = 2019-07-11 09:29:35\n",
      "│   └── dimensions = (20, 20|2040)\n",
      "└── VolumePlasmonDrude_leastsq_ls\n",
      "    ├── components\n",
      "    │   ├── First_Plasmon_Peak\n",
      "    │   ├── Second_Plasmon_Peak\n",
      "    │   └── Zero_Loss_Peak\n",
      "    ├── date = 2019-07-11 09:27:41\n",
      "    └── dimensions = (20, 20|2040)\n",
      "\n"
     ]
    }
   ],
   "source": [
    "a.eels_fit_routine(function_set='Voigt', fitter='leastsq', method='ls', samfire=True)"
   ]
  },
  {
   "cell_type": "code",
   "execution_count": 66,
   "metadata": {},
   "outputs": [
    {
     "name": "stdout",
     "output_type": "stream",
     "text": [
      "Reinitialising poissonian noise estimation...\n",
      "Estimate function parameters...\n"
     ]
    },
    {
     "data": {
      "application/vnd.jupyter.widget-view+json": {
       "model_id": "c40413265be84ef993d4a89c9afc4872",
       "version_major": 2,
       "version_minor": 0
      },
      "text/plain": [
       "HBox(children=(IntProgress(value=0, max=1), HTML(value='')))"
      ]
     },
     "metadata": {},
     "output_type": "display_data"
    },
    {
     "data": {
      "application/vnd.jupyter.widget-view+json": {
       "model_id": "678233055e0d4b5b9712bb33b9967569",
       "version_major": 2,
       "version_minor": 0
      },
      "text/plain": [
       "HBox(children=(IntProgress(value=0, max=1), HTML(value='')))"
      ]
     },
     "metadata": {},
     "output_type": "display_data"
    },
    {
     "name": "stdout",
     "output_type": "stream",
     "text": [
      "Estimate function parameters...\n"
     ]
    },
    {
     "data": {
      "application/vnd.jupyter.widget-view+json": {
       "model_id": "1e9aaad171204c0e9d3b51503a97e621",
       "version_major": 2,
       "version_minor": 0
      },
      "text/plain": [
       "HBox(children=(IntProgress(value=0, max=1), HTML(value='')))"
      ]
     },
     "metadata": {},
     "output_type": "display_data"
    },
    {
     "data": {
      "application/vnd.jupyter.widget-view+json": {
       "model_id": "29cc516b7bde4323b8a03fed67a317d1",
       "version_major": 2,
       "version_minor": 0
      },
      "text/plain": [
       "HBox(children=(IntProgress(value=0, max=1), HTML(value='')))"
      ]
     },
     "metadata": {},
     "output_type": "display_data"
    },
    {
     "name": "stdout",
     "output_type": "stream",
     "text": [
      "Estimate function parameters...\n"
     ]
    },
    {
     "data": {
      "application/vnd.jupyter.widget-view+json": {
       "model_id": "9a1a0701b451452390c2b133aa657f2f",
       "version_major": 2,
       "version_minor": 0
      },
      "text/plain": [
       "HBox(children=(IntProgress(value=0, max=1), HTML(value='')))"
      ]
     },
     "metadata": {},
     "output_type": "display_data"
    },
    {
     "data": {
      "application/vnd.jupyter.widget-view+json": {
       "model_id": "fcb9ebb89d274d0187089ad7df52b9e6",
       "version_major": 2,
       "version_minor": 0
      },
      "text/plain": [
       "HBox(children=(IntProgress(value=0, max=1), HTML(value='')))"
      ]
     },
     "metadata": {},
     "output_type": "display_data"
    },
    {
     "name": "stdout",
     "output_type": "stream",
     "text": [
      "Estimate function parameters...\n"
     ]
    },
    {
     "data": {
      "application/vnd.jupyter.widget-view+json": {
       "model_id": "676be28624e343b783615bca1e344ad3",
       "version_major": 2,
       "version_minor": 0
      },
      "text/plain": [
       "HBox(children=(IntProgress(value=0, max=1), HTML(value='')))"
      ]
     },
     "metadata": {},
     "output_type": "display_data"
    },
    {
     "data": {
      "application/vnd.jupyter.widget-view+json": {
       "model_id": "6b9506b80a6343988ee37b53cd9a0d84",
       "version_major": 2,
       "version_minor": 0
      },
      "text/plain": [
       "HBox(children=(IntProgress(value=0, max=1), HTML(value='')))"
      ]
     },
     "metadata": {},
     "output_type": "display_data"
    },
    {
     "name": "stdout",
     "output_type": "stream",
     "text": [
      "Estimate function parameters...\n"
     ]
    },
    {
     "data": {
      "application/vnd.jupyter.widget-view+json": {
       "model_id": "bd908a94e372441b842fc76d9470f200",
       "version_major": 2,
       "version_minor": 0
      },
      "text/plain": [
       "HBox(children=(IntProgress(value=0, max=1), HTML(value='')))"
      ]
     },
     "metadata": {},
     "output_type": "display_data"
    },
    {
     "data": {
      "application/vnd.jupyter.widget-view+json": {
       "model_id": "1247d4e0cadc46e58dfdc226bcf9da63",
       "version_major": 2,
       "version_minor": 0
      },
      "text/plain": [
       "HBox(children=(IntProgress(value=0, max=1), HTML(value='')))"
      ]
     },
     "metadata": {},
     "output_type": "display_data"
    },
    {
     "name": "stdout",
     "output_type": "stream",
     "text": [
      "Estimate function parameters...\n"
     ]
    },
    {
     "data": {
      "application/vnd.jupyter.widget-view+json": {
       "model_id": "9872997016284b7fa6df8e6c61ad891b",
       "version_major": 2,
       "version_minor": 0
      },
      "text/plain": [
       "HBox(children=(IntProgress(value=0, max=1), HTML(value='')))"
      ]
     },
     "metadata": {},
     "output_type": "display_data"
    },
    {
     "data": {
      "application/vnd.jupyter.widget-view+json": {
       "model_id": "3cfb2f2bba65447f89ddc4457bb060e1",
       "version_major": 2,
       "version_minor": 0
      },
      "text/plain": [
       "HBox(children=(IntProgress(value=0, max=1), HTML(value='')))"
      ]
     },
     "metadata": {},
     "output_type": "display_data"
    },
    {
     "name": "stdout",
     "output_type": "stream",
     "text": [
      "Do you want to adjust the starting parameters? (y/n): n\n",
      "Generating seeds...\n"
     ]
    },
    {
     "data": {
      "application/vnd.jupyter.widget-view+json": {
       "model_id": "b2d22092ba13417fb4667aed1aca71f5",
       "version_major": 2,
       "version_minor": 0
      },
      "text/plain": [
       "HBox(children=(IntProgress(value=0, max=10), HTML(value='')))"
      ]
     },
     "metadata": {},
     "output_type": "display_data"
    },
    {
     "data": {
      "application/vnd.jupyter.widget-view+json": {
       "model_id": "ef0493fe3c7c44d98a95d95049fa752b",
       "version_major": 2,
       "version_minor": 0
      },
      "text/plain": [
       "HBox(children=(IntProgress(value=0, max=10), HTML(value='')))"
      ]
     },
     "metadata": {},
     "output_type": "display_data"
    },
    {
     "data": {
      "application/vnd.jupyter.widget-view+json": {
       "model_id": "df8e843a34764f0c8e8ebc0b0a0e21fe",
       "version_major": 2,
       "version_minor": 0
      },
      "text/plain": [
       "HBox(children=(IntProgress(value=0, max=10), HTML(value='')))"
      ]
     },
     "metadata": {},
     "output_type": "display_data"
    },
    {
     "data": {
      "application/vnd.jupyter.widget-view+json": {
       "model_id": "140b805cece04e879e67ccaf120d199f",
       "version_major": 2,
       "version_minor": 0
      },
      "text/plain": [
       "HBox(children=(IntProgress(value=0, max=10), HTML(value='')))"
      ]
     },
     "metadata": {},
     "output_type": "display_data"
    },
    {
     "data": {
      "application/vnd.jupyter.widget-view+json": {
       "model_id": "03dbc00820974544bc50ab62c6c9f572",
       "version_major": 2,
       "version_minor": 0
      },
      "text/plain": [
       "HBox(children=(IntProgress(value=0, max=10), HTML(value='')))"
      ]
     },
     "metadata": {},
     "output_type": "display_data"
    },
    {
     "data": {
      "application/vnd.jupyter.widget-view+json": {
       "model_id": "324347310e6c4a02a09f6bed22f84d80",
       "version_major": 2,
       "version_minor": 0
      },
      "text/plain": [
       "HBox(children=(IntProgress(value=0, max=10), HTML(value='')))"
      ]
     },
     "metadata": {},
     "output_type": "display_data"
    },
    {
     "data": {
      "application/vnd.jupyter.widget-view+json": {
       "model_id": "177fa02fbb3c4385a58285e362c86d6c",
       "version_major": 2,
       "version_minor": 0
      },
      "text/plain": [
       "HBox(children=(IntProgress(value=0, max=10), HTML(value='')))"
      ]
     },
     "metadata": {},
     "output_type": "display_data"
    },
    {
     "data": {
      "application/vnd.jupyter.widget-view+json": {
       "model_id": "52b258f96d414de983e6c82a346e8230",
       "version_major": 2,
       "version_minor": 0
      },
      "text/plain": [
       "HBox(children=(IntProgress(value=0, max=10), HTML(value='')))"
      ]
     },
     "metadata": {},
     "output_type": "display_data"
    },
    {
     "data": {
      "application/vnd.jupyter.widget-view+json": {
       "model_id": "0a5ef21625e24a5da0b6fea3a732166e",
       "version_major": 2,
       "version_minor": 0
      },
      "text/plain": [
       "HBox(children=(IntProgress(value=0, max=10), HTML(value='')))"
      ]
     },
     "metadata": {},
     "output_type": "display_data"
    },
    {
     "data": {
      "application/vnd.jupyter.widget-view+json": {
       "model_id": "d0b34157ee6442b68dc3de91978224ec",
       "version_major": 2,
       "version_minor": 0
      },
      "text/plain": [
       "HBox(children=(IntProgress(value=0, max=10), HTML(value='')))"
      ]
     },
     "metadata": {},
     "output_type": "display_data"
    },
    {
     "data": {
      "application/vnd.jupyter.widget-view+json": {
       "model_id": "49b5467582084e689136777a6a0ec9a2",
       "version_major": 2,
       "version_minor": 0
      },
      "text/plain": [
       "HBox(children=(IntProgress(value=0, max=10), HTML(value='')))"
      ]
     },
     "metadata": {},
     "output_type": "display_data"
    },
    {
     "name": "stdout",
     "output_type": "stream",
     "text": [
      "Including gain factor of detector in poissonian noise. Rescaling...\n",
      "Generating seeds...\n"
     ]
    },
    {
     "data": {
      "application/vnd.jupyter.widget-view+json": {
       "model_id": "9a3ba21e2ee54c608115aedde58e5617",
       "version_major": 2,
       "version_minor": 0
      },
      "text/plain": [
       "HBox(children=(IntProgress(value=0, max=10), HTML(value='')))"
      ]
     },
     "metadata": {},
     "output_type": "display_data"
    },
    {
     "data": {
      "application/vnd.jupyter.widget-view+json": {
       "model_id": "9a983e450a634e7db8b3af2e88e42f4b",
       "version_major": 2,
       "version_minor": 0
      },
      "text/plain": [
       "HBox(children=(IntProgress(value=0, max=10), HTML(value='')))"
      ]
     },
     "metadata": {},
     "output_type": "display_data"
    },
    {
     "data": {
      "application/vnd.jupyter.widget-view+json": {
       "model_id": "53e29906051245be99f655d06d68fd6d",
       "version_major": 2,
       "version_minor": 0
      },
      "text/plain": [
       "HBox(children=(IntProgress(value=0, max=10), HTML(value='')))"
      ]
     },
     "metadata": {},
     "output_type": "display_data"
    },
    {
     "data": {
      "application/vnd.jupyter.widget-view+json": {
       "model_id": "9ee8b667ad31455f884ad959a40fdf65",
       "version_major": 2,
       "version_minor": 0
      },
      "text/plain": [
       "HBox(children=(IntProgress(value=0, max=10), HTML(value='')))"
      ]
     },
     "metadata": {},
     "output_type": "display_data"
    },
    {
     "data": {
      "application/vnd.jupyter.widget-view+json": {
       "model_id": "e73c38f30dc54443a5b10467687f03ec",
       "version_major": 2,
       "version_minor": 0
      },
      "text/plain": [
       "HBox(children=(IntProgress(value=0, max=10), HTML(value='')))"
      ]
     },
     "metadata": {},
     "output_type": "display_data"
    },
    {
     "data": {
      "application/vnd.jupyter.widget-view+json": {
       "model_id": "bada8d16f83244758d1c18ab9a8bfcdf",
       "version_major": 2,
       "version_minor": 0
      },
      "text/plain": [
       "HBox(children=(IntProgress(value=0, max=10), HTML(value='')))"
      ]
     },
     "metadata": {},
     "output_type": "display_data"
    },
    {
     "data": {
      "application/vnd.jupyter.widget-view+json": {
       "model_id": "83433ce116ef48ed848f870795b23427",
       "version_major": 2,
       "version_minor": 0
      },
      "text/plain": [
       "HBox(children=(IntProgress(value=0, max=10), HTML(value='')))"
      ]
     },
     "metadata": {},
     "output_type": "display_data"
    },
    {
     "data": {
      "application/vnd.jupyter.widget-view+json": {
       "model_id": "59e67292fcc44ca4b7b6e8c5edaf0248",
       "version_major": 2,
       "version_minor": 0
      },
      "text/plain": [
       "HBox(children=(IntProgress(value=0, max=10), HTML(value='')))"
      ]
     },
     "metadata": {},
     "output_type": "display_data"
    },
    {
     "data": {
      "application/vnd.jupyter.widget-view+json": {
       "model_id": "a08f5f01f01e4c12a856cd5f7fa2c2e2",
       "version_major": 2,
       "version_minor": 0
      },
      "text/plain": [
       "HBox(children=(IntProgress(value=0, max=10), HTML(value='')))"
      ]
     },
     "metadata": {},
     "output_type": "display_data"
    },
    {
     "data": {
      "application/vnd.jupyter.widget-view+json": {
       "model_id": "53145129bc71499ea8f8c913a8242665",
       "version_major": 2,
       "version_minor": 0
      },
      "text/plain": [
       "HBox(children=(IntProgress(value=0, max=10), HTML(value='')))"
      ]
     },
     "metadata": {},
     "output_type": "display_data"
    },
    {
     "data": {
      "application/vnd.jupyter.widget-view+json": {
       "model_id": "ae324b6b41cf4e2b86a429b0aad000d3",
       "version_major": 2,
       "version_minor": 0
      },
      "text/plain": [
       "HBox(children=(IntProgress(value=0, max=10), HTML(value='')))"
      ]
     },
     "metadata": {},
     "output_type": "display_data"
    },
    {
     "name": "stdout",
     "output_type": "stream",
     "text": [
      "[[       nan        nan        nan        nan        nan        nan\n",
      "         nan        nan        nan        nan        nan        nan\n",
      "         nan        nan        nan        nan        nan        nan\n",
      "         nan        nan]\n",
      " [       nan 1.0051496         nan 0.99181156        nan 0.99756515\n",
      "         nan 1.0332889         nan 1.00745364        nan 0.99160393\n",
      "         nan 1.00806421        nan 1.03623511        nan 1.04992222\n",
      "         nan 1.01636599]\n",
      " [       nan        nan        nan        nan        nan        nan\n",
      "         nan        nan        nan        nan        nan        nan\n",
      "         nan        nan        nan        nan        nan        nan\n",
      "         nan        nan]\n",
      " [       nan 1.00907479        nan 0.97000498        nan 0.99739093\n",
      "         nan 0.96765862        nan 0.99187144        nan 1.03139336\n",
      "         nan 1.01691235        nan 1.00679021        nan 1.01091673\n",
      "         nan 1.01209577]\n",
      " [       nan        nan        nan        nan        nan        nan\n",
      "         nan        nan        nan        nan        nan        nan\n",
      "         nan        nan        nan        nan        nan        nan\n",
      "         nan        nan]\n",
      " [       nan 0.96624109        nan 0.97977218        nan 0.97918863\n",
      "         nan 1.01784973        nan 0.97863387        nan 1.01447319\n",
      "         nan 1.0089651         nan 0.9665244         nan 0.99983127\n",
      "         nan 0.99719002]\n",
      " [       nan        nan        nan        nan        nan        nan\n",
      "         nan        nan        nan        nan        nan        nan\n",
      "         nan        nan        nan        nan        nan        nan\n",
      "         nan        nan]\n",
      " [       nan 0.99027363        nan 0.99666879        nan 0.99282774\n",
      "         nan 0.98192289        nan 0.99690352        nan 1.0038102\n",
      "         nan 1.02115701        nan 1.03103271        nan 1.01001668\n",
      "         nan 1.0274971 ]\n",
      " [       nan        nan        nan        nan        nan        nan\n",
      "         nan        nan        nan        nan        nan        nan\n",
      "         nan        nan        nan        nan        nan        nan\n",
      "         nan        nan]\n",
      " [       nan 0.99829862        nan 0.96677461        nan 0.99666651\n",
      "         nan 1.00941337        nan 0.99183789        nan 1.01151576\n",
      "         nan 0.96918908        nan 1.00553225        nan 0.98039916\n",
      "         nan 1.02792685]\n",
      " [       nan        nan        nan        nan        nan        nan\n",
      "         nan        nan        nan        nan        nan        nan\n",
      "         nan        nan        nan        nan        nan        nan\n",
      "         nan        nan]\n",
      " [       nan 0.97054086        nan 0.98795904        nan 0.95254407\n",
      "         nan 0.98009925        nan 0.98489341        nan 0.99954583\n",
      "         nan 1.02298281        nan 0.99545757        nan 1.00057654\n",
      "         nan 1.03148392]\n",
      " [       nan        nan        nan        nan        nan        nan\n",
      "         nan        nan        nan        nan        nan        nan\n",
      "         nan        nan        nan        nan        nan        nan\n",
      "         nan        nan]\n",
      " [       nan 0.98086404        nan 0.97874174        nan 1.02009112\n",
      "         nan 0.99701436        nan 1.02356006        nan 0.98100041\n",
      "         nan 1.0162604         nan 1.00404505        nan 1.02503711\n",
      "         nan 1.02897082]\n",
      " [       nan        nan        nan        nan        nan        nan\n",
      "         nan        nan        nan        nan        nan        nan\n",
      "         nan        nan        nan        nan        nan        nan\n",
      "         nan        nan]\n",
      " [       nan 0.9677649         nan 0.96908525        nan 0.98676246\n",
      "         nan 1.00713547        nan 1.0321069         nan 0.97548045\n",
      "         nan 1.01963689        nan 1.02549326        nan 1.00551258\n",
      "         nan 0.96656669]\n",
      " [       nan        nan        nan        nan        nan        nan\n",
      "         nan        nan        nan        nan        nan        nan\n",
      "         nan        nan        nan        nan        nan        nan\n",
      "         nan        nan]\n",
      " [       nan 0.97093643        nan 0.99945225        nan 0.98527712\n",
      "         nan 0.97593392        nan 0.97982657        nan 1.00405153\n",
      "         nan 1.00114369        nan 1.01404856        nan 1.02325943\n",
      "         nan 1.01208063]\n",
      " [       nan        nan        nan        nan        nan        nan\n",
      "         nan        nan        nan        nan        nan        nan\n",
      "         nan        nan        nan        nan        nan        nan\n",
      "         nan        nan]\n",
      " [       nan 1.00181147        nan 0.9936419         nan 0.98520084\n",
      "         nan 0.99835057        nan 0.99434658        nan 1.01211572\n",
      "         nan 1.00663834        nan 1.00602854        nan 1.01095508\n",
      "         nan 1.0177842 ]]\n",
      "0.9999999990260817\n"
     ]
    },
    {
     "data": {
      "application/vnd.jupyter.widget-view+json": {
       "model_id": "4a811d65e9494855b997159167d648e7",
       "version_major": 2,
       "version_minor": 0
      },
      "text/plain": [
       "HBox(children=(IntProgress(value=0, max=300), HTML(value='')))"
      ]
     },
     "metadata": {},
     "output_type": "display_data"
    },
    {
     "name": "stdout",
     "output_type": "stream",
     "text": [
      "Model will be stored in file...\n",
      "Stored models in file:\n",
      "├── Gaussian_NelderMead_ml\n",
      "│   ├── components\n",
      "│   │   ├── First_Plasmon_Peak\n",
      "│   │   ├── Second_Plasmon_Peak\n",
      "│   │   └── Zero_Loss_Peak\n",
      "│   ├── date = 2019-07-11 10:03:23\n",
      "│   └── dimensions = (20, 20|2040)\n",
      "├── Gaussian_leastsq_ls\n",
      "│   ├── components\n",
      "│   │   ├── First_Plasmon_Peak\n",
      "│   │   ├── Second_Plasmon_Peak\n",
      "│   │   └── Zero_Loss_Peak\n",
      "│   ├── date = 2019-07-11 10:09:51\n",
      "│   └── dimensions = (20, 20|2040)\n",
      "├── Gaussian_mpfit_ls\n",
      "│   ├── components\n",
      "│   │   ├── First_Plasmon_Peak\n",
      "│   │   ├── Second_Plasmon_Peak\n",
      "│   │   └── Zero_Loss_Peak\n",
      "│   ├── date = 2019-07-11 08:52:58\n",
      "│   └── dimensions = (20, 20|2040)\n",
      "├── Lorentzian_NelderMead_ml\n",
      "│   ├── components\n",
      "│   │   ├── First_Plasmon_Peak\n",
      "│   │   ├── Second_Plasmon_Peak\n",
      "│   │   └── Zero_Loss_Peak\n",
      "│   ├── date = 2019-07-11 10:08:34\n",
      "│   └── dimensions = (20, 20|2040)\n",
      "├── Lorentzian_leastsq_ls\n",
      "│   ├── components\n",
      "│   │   ├── First_Plasmon_Peak\n",
      "│   │   ├── Second_Plasmon_Peak\n",
      "│   │   └── Zero_Loss_Peak\n",
      "│   ├── date = 2019-07-11 09:26:22\n",
      "│   └── dimensions = (20, 20|2040)\n",
      "├── Lorentzian_mpfit_ls\n",
      "│   ├── components\n",
      "│   │   ├── First_Plasmon_Peak\n",
      "│   │   ├── Second_Plasmon_Peak\n",
      "│   │   └── Zero_Loss_Peak\n",
      "│   ├── date = 2019-07-11 08:54:51\n",
      "│   └── dimensions = (20, 20|2040)\n",
      "├── Voigt_NelderMead_ml\n",
      "│   ├── components\n",
      "│   │   ├── First_Plasmon_Peak\n",
      "│   │   ├── Second_Plasmon_Peak\n",
      "│   │   └── Zero_Loss_Peak\n",
      "│   ├── date = 2019-07-11 09:49:15\n",
      "│   └── dimensions = (20, 20|2040)\n",
      "├── Voigt_leastsq_ls\n",
      "│   ├── components\n",
      "│   │   ├── First_Plasmon_Peak\n",
      "│   │   ├── Second_Plasmon_Peak\n",
      "│   │   └── Zero_Loss_Peak\n",
      "│   ├── date = 2019-07-11 09:29:35\n",
      "│   └── dimensions = (20, 20|2040)\n",
      "├── VolumePlasmonDrude_NelderMead_ml\n",
      "│   ├── components\n",
      "│   │   ├── First_Plasmon_Peak\n",
      "│   │   ├── Second_Plasmon_Peak\n",
      "│   │   └── Zero_Loss_Peak\n",
      "│   ├── date = 2019-07-11 09:44:22\n",
      "│   └── dimensions = (20, 20|2040)\n",
      "└── VolumePlasmonDrude_leastsq_ls\n",
      "    ├── components\n",
      "    │   ├── First_Plasmon_Peak\n",
      "    │   ├── Second_Plasmon_Peak\n",
      "    │   └── Zero_Loss_Peak\n",
      "    ├── date = 2019-07-11 09:27:41\n",
      "    └── dimensions = (20, 20|2040)\n",
      "\n"
     ]
    }
   ],
   "source": [
    "a.eels_fit_routine(function_set='Gaussian', fitter='leastsq', method='ls', samfire=True)"
   ]
  },
  {
   "cell_type": "code",
   "execution_count": 58,
   "metadata": {},
   "outputs": [
    {
     "name": "stdout",
     "output_type": "stream",
     "text": [
      "Reinitialising poissonian noise estimation...\n",
      "Estimate function parameters...\n"
     ]
    },
    {
     "data": {
      "application/vnd.jupyter.widget-view+json": {
       "model_id": "4942a81c60ec4ed69397e4041d0e9659",
       "version_major": 2,
       "version_minor": 0
      },
      "text/plain": [
       "HBox(children=(IntProgress(value=0, max=1), HTML(value='')))"
      ]
     },
     "metadata": {},
     "output_type": "display_data"
    },
    {
     "data": {
      "application/vnd.jupyter.widget-view+json": {
       "model_id": "954546d72dcb4aa39ce0f26be8bbdbe1",
       "version_major": 2,
       "version_minor": 0
      },
      "text/plain": [
       "HBox(children=(IntProgress(value=0, max=1), HTML(value='')))"
      ]
     },
     "metadata": {},
     "output_type": "display_data"
    },
    {
     "name": "stdout",
     "output_type": "stream",
     "text": [
      "Estimate function parameters...\n"
     ]
    },
    {
     "data": {
      "application/vnd.jupyter.widget-view+json": {
       "model_id": "005525ecca044ec4bf7584fdf3e4d625",
       "version_major": 2,
       "version_minor": 0
      },
      "text/plain": [
       "HBox(children=(IntProgress(value=0, max=1), HTML(value='')))"
      ]
     },
     "metadata": {},
     "output_type": "display_data"
    },
    {
     "data": {
      "application/vnd.jupyter.widget-view+json": {
       "model_id": "18e29ff38df943ed939f3dfba4013255",
       "version_major": 2,
       "version_minor": 0
      },
      "text/plain": [
       "HBox(children=(IntProgress(value=0, max=1), HTML(value='')))"
      ]
     },
     "metadata": {},
     "output_type": "display_data"
    },
    {
     "name": "stdout",
     "output_type": "stream",
     "text": [
      "Estimate function parameters...\n"
     ]
    },
    {
     "data": {
      "application/vnd.jupyter.widget-view+json": {
       "model_id": "66c3ee83d2b44382ae1d50a310e5bf9c",
       "version_major": 2,
       "version_minor": 0
      },
      "text/plain": [
       "HBox(children=(IntProgress(value=0, max=1), HTML(value='')))"
      ]
     },
     "metadata": {},
     "output_type": "display_data"
    },
    {
     "data": {
      "application/vnd.jupyter.widget-view+json": {
       "model_id": "5e5758a3004e43e78c6824baee938d79",
       "version_major": 2,
       "version_minor": 0
      },
      "text/plain": [
       "HBox(children=(IntProgress(value=0, max=1), HTML(value='')))"
      ]
     },
     "metadata": {},
     "output_type": "display_data"
    },
    {
     "name": "stdout",
     "output_type": "stream",
     "text": [
      "Estimate function parameters...\n"
     ]
    },
    {
     "data": {
      "application/vnd.jupyter.widget-view+json": {
       "model_id": "6c5fe324ab864ca1b82c51a9ec238a7b",
       "version_major": 2,
       "version_minor": 0
      },
      "text/plain": [
       "HBox(children=(IntProgress(value=0, max=1), HTML(value='')))"
      ]
     },
     "metadata": {},
     "output_type": "display_data"
    },
    {
     "data": {
      "application/vnd.jupyter.widget-view+json": {
       "model_id": "07b6308048f84af3a55f60f432974897",
       "version_major": 2,
       "version_minor": 0
      },
      "text/plain": [
       "HBox(children=(IntProgress(value=0, max=1), HTML(value='')))"
      ]
     },
     "metadata": {},
     "output_type": "display_data"
    },
    {
     "name": "stdout",
     "output_type": "stream",
     "text": [
      "Estimate function parameters...\n"
     ]
    },
    {
     "data": {
      "application/vnd.jupyter.widget-view+json": {
       "model_id": "1cc5300331b74158b63dc06c64f338fe",
       "version_major": 2,
       "version_minor": 0
      },
      "text/plain": [
       "HBox(children=(IntProgress(value=0, max=1), HTML(value='')))"
      ]
     },
     "metadata": {},
     "output_type": "display_data"
    },
    {
     "data": {
      "application/vnd.jupyter.widget-view+json": {
       "model_id": "9e1391f9279d47bb9418527cf21c9ff2",
       "version_major": 2,
       "version_minor": 0
      },
      "text/plain": [
       "HBox(children=(IntProgress(value=0, max=1), HTML(value='')))"
      ]
     },
     "metadata": {},
     "output_type": "display_data"
    },
    {
     "name": "stdout",
     "output_type": "stream",
     "text": [
      "Estimate function parameters...\n"
     ]
    },
    {
     "data": {
      "application/vnd.jupyter.widget-view+json": {
       "model_id": "66e7d793350a4e78b8c76a113676a3d7",
       "version_major": 2,
       "version_minor": 0
      },
      "text/plain": [
       "HBox(children=(IntProgress(value=0, max=1), HTML(value='')))"
      ]
     },
     "metadata": {},
     "output_type": "display_data"
    },
    {
     "data": {
      "application/vnd.jupyter.widget-view+json": {
       "model_id": "0207942afd3c46b48f77237d34bb2719",
       "version_major": 2,
       "version_minor": 0
      },
      "text/plain": [
       "HBox(children=(IntProgress(value=0, max=1), HTML(value='')))"
      ]
     },
     "metadata": {},
     "output_type": "display_data"
    },
    {
     "name": "stdout",
     "output_type": "stream",
     "text": [
      "Do you want to adjust the starting parameters? (y/n): n\n",
      "Generating seeds for gain correction...\n"
     ]
    },
    {
     "data": {
      "application/vnd.jupyter.widget-view+json": {
       "model_id": "72f396facf054cd8a68064d8025a71f2",
       "version_major": 2,
       "version_minor": 0
      },
      "text/plain": [
       "HBox(children=(IntProgress(value=0, max=10), HTML(value='')))"
      ]
     },
     "metadata": {},
     "output_type": "display_data"
    },
    {
     "data": {
      "application/vnd.jupyter.widget-view+json": {
       "model_id": "87bb47a3963d4b0faae447f0fa1cd699",
       "version_major": 2,
       "version_minor": 0
      },
      "text/plain": [
       "HBox(children=(IntProgress(value=0, max=10), HTML(value='')))"
      ]
     },
     "metadata": {},
     "output_type": "display_data"
    },
    {
     "data": {
      "application/vnd.jupyter.widget-view+json": {
       "model_id": "908bc560ffd54b019b7734e79d90d47e",
       "version_major": 2,
       "version_minor": 0
      },
      "text/plain": [
       "HBox(children=(IntProgress(value=0, max=10), HTML(value='')))"
      ]
     },
     "metadata": {},
     "output_type": "display_data"
    },
    {
     "data": {
      "application/vnd.jupyter.widget-view+json": {
       "model_id": "e0699f68a051438fa50c80f304987100",
       "version_major": 2,
       "version_minor": 0
      },
      "text/plain": [
       "HBox(children=(IntProgress(value=0, max=10), HTML(value='')))"
      ]
     },
     "metadata": {},
     "output_type": "display_data"
    },
    {
     "data": {
      "application/vnd.jupyter.widget-view+json": {
       "model_id": "84773d32f0e743d3969ccfe137885905",
       "version_major": 2,
       "version_minor": 0
      },
      "text/plain": [
       "HBox(children=(IntProgress(value=0, max=10), HTML(value='')))"
      ]
     },
     "metadata": {},
     "output_type": "display_data"
    },
    {
     "data": {
      "application/vnd.jupyter.widget-view+json": {
       "model_id": "8b9710bb2e904d2baf0acecfcff7049b",
       "version_major": 2,
       "version_minor": 0
      },
      "text/plain": [
       "HBox(children=(IntProgress(value=0, max=10), HTML(value='')))"
      ]
     },
     "metadata": {},
     "output_type": "display_data"
    },
    {
     "data": {
      "application/vnd.jupyter.widget-view+json": {
       "model_id": "0ca1a96478d4498e8a185f54c4a3dd63",
       "version_major": 2,
       "version_minor": 0
      },
      "text/plain": [
       "HBox(children=(IntProgress(value=0, max=10), HTML(value='')))"
      ]
     },
     "metadata": {},
     "output_type": "display_data"
    },
    {
     "data": {
      "application/vnd.jupyter.widget-view+json": {
       "model_id": "5d5a17b204684194bd8659a80ca6d943",
       "version_major": 2,
       "version_minor": 0
      },
      "text/plain": [
       "HBox(children=(IntProgress(value=0, max=10), HTML(value='')))"
      ]
     },
     "metadata": {},
     "output_type": "display_data"
    },
    {
     "data": {
      "application/vnd.jupyter.widget-view+json": {
       "model_id": "509a40545103427d88e40c0bdafb02c2",
       "version_major": 2,
       "version_minor": 0
      },
      "text/plain": [
       "HBox(children=(IntProgress(value=0, max=10), HTML(value='')))"
      ]
     },
     "metadata": {},
     "output_type": "display_data"
    },
    {
     "data": {
      "application/vnd.jupyter.widget-view+json": {
       "model_id": "c973f172d4ac414298be7cb696dfaf27",
       "version_major": 2,
       "version_minor": 0
      },
      "text/plain": [
       "HBox(children=(IntProgress(value=0, max=10), HTML(value='')))"
      ]
     },
     "metadata": {},
     "output_type": "display_data"
    },
    {
     "data": {
      "application/vnd.jupyter.widget-view+json": {
       "model_id": "d7f45cf6773142c6a5d9f6e792c1805e",
       "version_major": 2,
       "version_minor": 0
      },
      "text/plain": [
       "HBox(children=(IntProgress(value=0, max=10), HTML(value='')))"
      ]
     },
     "metadata": {},
     "output_type": "display_data"
    },
    {
     "name": "stdout",
     "output_type": "stream",
     "text": [
      "Including gain factor of detector in poissonian noise. Rescaling...\n"
     ]
    },
    {
     "data": {
      "application/vnd.jupyter.widget-view+json": {
       "model_id": "ae3fd82a51a94811bf867559b66f5a22",
       "version_major": 2,
       "version_minor": 0
      },
      "text/plain": [
       "HBox(children=(IntProgress(value=0, max=300), HTML(value='')))"
      ]
     },
     "metadata": {},
     "output_type": "display_data"
    },
    {
     "name": "stdout",
     "output_type": "stream",
     "text": [
      "Adj. fit goodness (reduced Chi squared):  67.79318020832261\n",
      "Standard deviation of adj. fit goodness:  114.63404532292836\n",
      "Model will be stored in file...\n"
     ]
    },
    {
     "ename": "AttributeError",
     "evalue": "'Plasmon_mapper' object has no attribute 'Fit_model'",
     "output_type": "error",
     "traceback": [
      "\u001b[0;31m--------------------------------------------------------------------------\u001b[0m",
      "\u001b[0;31mAttributeError\u001b[0m                           Traceback (most recent call last)",
      "\u001b[0;32m<ipython-input-58-3397c2285efa>\u001b[0m in \u001b[0;36m<module>\u001b[0;34m\u001b[0m\n\u001b[0;32m----> 1\u001b[0;31m \u001b[0ma\u001b[0m\u001b[0;34m.\u001b[0m\u001b[0meels_fit_routine\u001b[0m\u001b[0;34m(\u001b[0m\u001b[0mfunction_set\u001b[0m\u001b[0;34m=\u001b[0m\u001b[0;34m'Lorentzian'\u001b[0m\u001b[0;34m,\u001b[0m \u001b[0mfitter\u001b[0m\u001b[0;34m=\u001b[0m\u001b[0;34m'leastsq'\u001b[0m\u001b[0;34m,\u001b[0m \u001b[0mmethod\u001b[0m\u001b[0;34m=\u001b[0m\u001b[0;34m'ls'\u001b[0m\u001b[0;34m,\u001b[0m \u001b[0msamfire\u001b[0m\u001b[0;34m=\u001b[0m\u001b[0;32mTrue\u001b[0m\u001b[0;34m)\u001b[0m\u001b[0;34m\u001b[0m\u001b[0;34m\u001b[0m\u001b[0m\n\u001b[0m",
      "\u001b[0;32m<ipython-input-54-74d6fe21132e>\u001b[0m in \u001b[0;36meels_fit_routine\u001b[0;34m(self, function_set, fitter, method, samfire, multithreading, workers)\u001b[0m\n\u001b[1;32m    469\u001b[0m \u001b[0;34m\u001b[0m\u001b[0m\n\u001b[1;32m    470\u001b[0m         \u001b[0mprint\u001b[0m\u001b[0;34m(\u001b[0m\u001b[0;34m'Model will be stored in file...'\u001b[0m\u001b[0;34m)\u001b[0m\u001b[0;34m\u001b[0m\u001b[0;34m\u001b[0m\u001b[0m\n\u001b[0;32m--> 471\u001b[0;31m         \u001b[0mself\u001b[0m\u001b[0;34m.\u001b[0m\u001b[0mModels_all\u001b[0m\u001b[0;34m[\u001b[0m\u001b[0mstr\u001b[0m\u001b[0;34m(\u001b[0m\u001b[0mself\u001b[0m\u001b[0;34m.\u001b[0m\u001b[0mmodel_name\u001b[0m\u001b[0;34m)\u001b[0m\u001b[0;34m]\u001b[0m \u001b[0;34m=\u001b[0m \u001b[0mself\u001b[0m\u001b[0;34m.\u001b[0m\u001b[0mFit_model\u001b[0m\u001b[0;34m\u001b[0m\u001b[0;34m\u001b[0m\u001b[0m\n\u001b[0m\u001b[1;32m    472\u001b[0m         \u001b[0mself\u001b[0m\u001b[0;34m.\u001b[0m\u001b[0mFit_Model\u001b[0m\u001b[0;34m.\u001b[0m\u001b[0mstore\u001b[0m\u001b[0;34m(\u001b[0m\u001b[0mname\u001b[0m \u001b[0;34m=\u001b[0m \u001b[0mself\u001b[0m\u001b[0;34m.\u001b[0m\u001b[0mmodel_name\u001b[0m\u001b[0;34m)\u001b[0m\u001b[0;34m\u001b[0m\u001b[0;34m\u001b[0m\u001b[0m\n\u001b[1;32m    473\u001b[0m \u001b[0;34m\u001b[0m\u001b[0m\n",
      "\u001b[0;31mAttributeError\u001b[0m: 'Plasmon_mapper' object has no attribute 'Fit_model'"
     ]
    }
   ],
   "source": [
    "a.eels_fit_routine(function_set='Lorentzian', fitter='leastsq', method='ls', samfire=True)"
   ]
  },
  {
   "cell_type": "code",
   "execution_count": 36,
   "metadata": {},
   "outputs": [
    {
     "name": "stdout",
     "output_type": "stream",
     "text": [
      "Reinitialising poissonian noise estimation...\n",
      "Estimate function parameters...\n"
     ]
    },
    {
     "data": {
      "application/vnd.jupyter.widget-view+json": {
       "model_id": "ec876bf5939442f2bd6ee8dfd84978d6",
       "version_major": 2,
       "version_minor": 0
      },
      "text/plain": [
       "HBox(children=(IntProgress(value=0, max=1), HTML(value='')))"
      ]
     },
     "metadata": {},
     "output_type": "display_data"
    },
    {
     "data": {
      "application/vnd.jupyter.widget-view+json": {
       "model_id": "246e2c5207e747faa84c8de0f436855d",
       "version_major": 2,
       "version_minor": 0
      },
      "text/plain": [
       "HBox(children=(IntProgress(value=0, max=1), HTML(value='')))"
      ]
     },
     "metadata": {},
     "output_type": "display_data"
    },
    {
     "name": "stdout",
     "output_type": "stream",
     "text": [
      "Estimate function parameters...\n"
     ]
    },
    {
     "data": {
      "application/vnd.jupyter.widget-view+json": {
       "model_id": "b4a1d1e95f2240c1bb970329f5c81e47",
       "version_major": 2,
       "version_minor": 0
      },
      "text/plain": [
       "HBox(children=(IntProgress(value=0, max=1), HTML(value='')))"
      ]
     },
     "metadata": {},
     "output_type": "display_data"
    },
    {
     "data": {
      "application/vnd.jupyter.widget-view+json": {
       "model_id": "31b2ceeeb9bf4d6faa4e4a9026859edd",
       "version_major": 2,
       "version_minor": 0
      },
      "text/plain": [
       "HBox(children=(IntProgress(value=0, max=1), HTML(value='')))"
      ]
     },
     "metadata": {},
     "output_type": "display_data"
    },
    {
     "name": "stdout",
     "output_type": "stream",
     "text": [
      "52339.63976985681\n",
      "15701.891930957043\n",
      "Estimate function parameters...\n"
     ]
    },
    {
     "data": {
      "application/vnd.jupyter.widget-view+json": {
       "model_id": "0dbf65f81d9e40cc94138b37d72f2605",
       "version_major": 2,
       "version_minor": 0
      },
      "text/plain": [
       "HBox(children=(IntProgress(value=0, max=1), HTML(value='')))"
      ]
     },
     "metadata": {},
     "output_type": "display_data"
    },
    {
     "data": {
      "application/vnd.jupyter.widget-view+json": {
       "model_id": "9dd1cfbed4ea47bb8144f0f1edbbc209",
       "version_major": 2,
       "version_minor": 0
      },
      "text/plain": [
       "HBox(children=(IntProgress(value=0, max=1), HTML(value='')))"
      ]
     },
     "metadata": {},
     "output_type": "display_data"
    },
    {
     "name": "stdout",
     "output_type": "stream",
     "text": [
      "Estimate function parameters...\n"
     ]
    },
    {
     "data": {
      "application/vnd.jupyter.widget-view+json": {
       "model_id": "ee1699cfb40a4dea9e8a5897addfae78",
       "version_major": 2,
       "version_minor": 0
      },
      "text/plain": [
       "HBox(children=(IntProgress(value=0, max=1), HTML(value='')))"
      ]
     },
     "metadata": {},
     "output_type": "display_data"
    },
    {
     "data": {
      "application/vnd.jupyter.widget-view+json": {
       "model_id": "72e04cead83f45dbb5cb2088f67ac4a6",
       "version_major": 2,
       "version_minor": 0
      },
      "text/plain": [
       "HBox(children=(IntProgress(value=0, max=1), HTML(value='')))"
      ]
     },
     "metadata": {},
     "output_type": "display_data"
    },
    {
     "name": "stdout",
     "output_type": "stream",
     "text": [
      "52339.63976985681\n",
      "15701.891930957043\n",
      "Estimate function parameters...\n"
     ]
    },
    {
     "data": {
      "application/vnd.jupyter.widget-view+json": {
       "model_id": "6e281005126d4f9084c8b494be3eaf7b",
       "version_major": 2,
       "version_minor": 0
      },
      "text/plain": [
       "HBox(children=(IntProgress(value=0, max=1), HTML(value='')))"
      ]
     },
     "metadata": {},
     "output_type": "display_data"
    },
    {
     "data": {
      "application/vnd.jupyter.widget-view+json": {
       "model_id": "71dd14f26f494543893dd4a0c41de49c",
       "version_major": 2,
       "version_minor": 0
      },
      "text/plain": [
       "HBox(children=(IntProgress(value=0, max=1), HTML(value='')))"
      ]
     },
     "metadata": {},
     "output_type": "display_data"
    },
    {
     "name": "stdout",
     "output_type": "stream",
     "text": [
      "Estimate function parameters...\n"
     ]
    },
    {
     "data": {
      "application/vnd.jupyter.widget-view+json": {
       "model_id": "4642d1f77ee149d4852e03f69ead541f",
       "version_major": 2,
       "version_minor": 0
      },
      "text/plain": [
       "HBox(children=(IntProgress(value=0, max=1), HTML(value='')))"
      ]
     },
     "metadata": {},
     "output_type": "display_data"
    },
    {
     "data": {
      "application/vnd.jupyter.widget-view+json": {
       "model_id": "3e99fdd5159b4d0a9dd1fd1ff8c21b82",
       "version_major": 2,
       "version_minor": 0
      },
      "text/plain": [
       "HBox(children=(IntProgress(value=0, max=1), HTML(value='')))"
      ]
     },
     "metadata": {},
     "output_type": "display_data"
    },
    {
     "name": "stdout",
     "output_type": "stream",
     "text": [
      "52339.63976985681\n",
      "15701.891930957043\n",
      "52339.63976985681\n",
      "15701.891930957043\n",
      "Do you want to adjust the starting parameters? (y/n): n\n",
      "Correcting poissonian noise for the gain factor of\n",
      "the EELS - detector by generating statistics on the\n",
      ":reduced Chi-squared.\n",
      "Including gain factor of detector in poissonian noise. Rescaling...\n",
      "Generating_seeds for SAMFire...\n"
     ]
    },
    {
     "data": {
      "application/vnd.jupyter.widget-view+json": {
       "model_id": "d80817f08f784bcbbe1c9cf819b3ecc6",
       "version_major": 2,
       "version_minor": 0
      },
      "text/plain": [
       "HBox(children=(IntProgress(value=0, max=300), HTML(value='')))"
      ]
     },
     "metadata": {},
     "output_type": "display_data"
    },
    {
     "name": "stdout",
     "output_type": "stream",
     "text": [
      "Adj. fit goodness (reduced Chi squared):  0.9975623355217919\n",
      "Standard deviation of adj. fit goodness:  0.034756548623404764\n",
      "Model will be stored in file...\n",
      "Stored models in file:\n",
      "{'VolumePlasmonDrude_leastsq_ls': <EELSModel, title: AlYFe SB3>}\n"
     ]
    }
   ],
   "source": [
    "a.eels_fit_routine(function_set='VolumePlasmonDrude', fitter='leastsq', method='ls', samfire=True)"
   ]
  },
  {
   "cell_type": "code",
   "execution_count": 8,
   "metadata": {},
   "outputs": [
    {
     "name": "stdout",
     "output_type": "stream",
     "text": [
      "1.0029401861058853\n",
      "0.03464272060852398\n"
     ]
    }
   ],
   "source": [
    "a.Fit_Model.plot(plot_components=True)\n",
    "a.Fit_Model.red_chisq.plot()\n",
    "print(np.mean(a.Fit_Model.red_chisq.data))\n",
    "print(np.std(a.Fit_Model.red_chisq.data))\n",
    "#a.plot_parameter_maps(False)"
   ]
  },
  {
   "cell_type": "code",
   "execution_count": 65,
   "metadata": {},
   "outputs": [
    {
     "name": "stdout",
     "output_type": "stream",
     "text": [
      "Reinitialising poissonian noise estimation...\n",
      "Estimate function parameters...\n"
     ]
    },
    {
     "data": {
      "application/vnd.jupyter.widget-view+json": {
       "model_id": "d7c1d9bc009d4085829f7065c45b8229",
       "version_major": 2,
       "version_minor": 0
      },
      "text/plain": [
       "HBox(children=(IntProgress(value=0, max=1), HTML(value='')))"
      ]
     },
     "metadata": {},
     "output_type": "display_data"
    },
    {
     "data": {
      "application/vnd.jupyter.widget-view+json": {
       "model_id": "a41aa097dec74ad781bb0db1f04933dd",
       "version_major": 2,
       "version_minor": 0
      },
      "text/plain": [
       "HBox(children=(IntProgress(value=0, max=1), HTML(value='')))"
      ]
     },
     "metadata": {},
     "output_type": "display_data"
    },
    {
     "name": "stdout",
     "output_type": "stream",
     "text": [
      "Estimate function parameters...\n"
     ]
    },
    {
     "data": {
      "application/vnd.jupyter.widget-view+json": {
       "model_id": "9940f70c826d4036a45d57666948f376",
       "version_major": 2,
       "version_minor": 0
      },
      "text/plain": [
       "HBox(children=(IntProgress(value=0, max=1), HTML(value='')))"
      ]
     },
     "metadata": {},
     "output_type": "display_data"
    },
    {
     "data": {
      "application/vnd.jupyter.widget-view+json": {
       "model_id": "5ea97cebf6b641c48026d80c38855714",
       "version_major": 2,
       "version_minor": 0
      },
      "text/plain": [
       "HBox(children=(IntProgress(value=0, max=1), HTML(value='')))"
      ]
     },
     "metadata": {},
     "output_type": "display_data"
    },
    {
     "name": "stdout",
     "output_type": "stream",
     "text": [
      "Estimate function parameters...\n"
     ]
    },
    {
     "data": {
      "application/vnd.jupyter.widget-view+json": {
       "model_id": "198fa0aa04d4490eaabe06e97804abf9",
       "version_major": 2,
       "version_minor": 0
      },
      "text/plain": [
       "HBox(children=(IntProgress(value=0, max=1), HTML(value='')))"
      ]
     },
     "metadata": {},
     "output_type": "display_data"
    },
    {
     "data": {
      "application/vnd.jupyter.widget-view+json": {
       "model_id": "fe08edc6c3f14ea794629d7e3d51223d",
       "version_major": 2,
       "version_minor": 0
      },
      "text/plain": [
       "HBox(children=(IntProgress(value=0, max=1), HTML(value='')))"
      ]
     },
     "metadata": {},
     "output_type": "display_data"
    },
    {
     "name": "stdout",
     "output_type": "stream",
     "text": [
      "Estimate function parameters...\n"
     ]
    },
    {
     "data": {
      "application/vnd.jupyter.widget-view+json": {
       "model_id": "82b669b3127d4363b3e6b2946ef0a4da",
       "version_major": 2,
       "version_minor": 0
      },
      "text/plain": [
       "HBox(children=(IntProgress(value=0, max=1), HTML(value='')))"
      ]
     },
     "metadata": {},
     "output_type": "display_data"
    },
    {
     "data": {
      "application/vnd.jupyter.widget-view+json": {
       "model_id": "8e397df4ec3f4396baeeade9e4121a5e",
       "version_major": 2,
       "version_minor": 0
      },
      "text/plain": [
       "HBox(children=(IntProgress(value=0, max=1), HTML(value='')))"
      ]
     },
     "metadata": {},
     "output_type": "display_data"
    },
    {
     "name": "stdout",
     "output_type": "stream",
     "text": [
      "Estimate function parameters...\n"
     ]
    },
    {
     "data": {
      "application/vnd.jupyter.widget-view+json": {
       "model_id": "170845c52976447897eef5c6d614196d",
       "version_major": 2,
       "version_minor": 0
      },
      "text/plain": [
       "HBox(children=(IntProgress(value=0, max=1), HTML(value='')))"
      ]
     },
     "metadata": {},
     "output_type": "display_data"
    },
    {
     "data": {
      "application/vnd.jupyter.widget-view+json": {
       "model_id": "06b272d1951f4b7faf6f91e6c00e9d87",
       "version_major": 2,
       "version_minor": 0
      },
      "text/plain": [
       "HBox(children=(IntProgress(value=0, max=1), HTML(value='')))"
      ]
     },
     "metadata": {},
     "output_type": "display_data"
    },
    {
     "name": "stdout",
     "output_type": "stream",
     "text": [
      "Estimate function parameters...\n"
     ]
    },
    {
     "data": {
      "application/vnd.jupyter.widget-view+json": {
       "model_id": "6b39fca98e2248eba8c3a5e7d6a7ed9a",
       "version_major": 2,
       "version_minor": 0
      },
      "text/plain": [
       "HBox(children=(IntProgress(value=0, max=1), HTML(value='')))"
      ]
     },
     "metadata": {},
     "output_type": "display_data"
    },
    {
     "data": {
      "application/vnd.jupyter.widget-view+json": {
       "model_id": "e4691d13d3a643169ac6f67786fa4eeb",
       "version_major": 2,
       "version_minor": 0
      },
      "text/plain": [
       "HBox(children=(IntProgress(value=0, max=1), HTML(value='')))"
      ]
     },
     "metadata": {},
     "output_type": "display_data"
    },
    {
     "name": "stdout",
     "output_type": "stream",
     "text": [
      "Do you want to adjust the starting parameters? (y/n): n\n",
      "Generating seeds...\n"
     ]
    },
    {
     "data": {
      "application/vnd.jupyter.widget-view+json": {
       "model_id": "b737d48fa7ed4e7b85f0908e38ad0dee",
       "version_major": 2,
       "version_minor": 0
      },
      "text/plain": [
       "HBox(children=(IntProgress(value=0, max=10), HTML(value='')))"
      ]
     },
     "metadata": {},
     "output_type": "display_data"
    },
    {
     "data": {
      "application/vnd.jupyter.widget-view+json": {
       "model_id": "2f7518ea4fc74d53a285bf5e266dcb10",
       "version_major": 2,
       "version_minor": 0
      },
      "text/plain": [
       "HBox(children=(IntProgress(value=0, max=10), HTML(value='')))"
      ]
     },
     "metadata": {},
     "output_type": "display_data"
    },
    {
     "data": {
      "application/vnd.jupyter.widget-view+json": {
       "model_id": "b8b5d88a5be14fecbc4579ef2668670f",
       "version_major": 2,
       "version_minor": 0
      },
      "text/plain": [
       "HBox(children=(IntProgress(value=0, max=10), HTML(value='')))"
      ]
     },
     "metadata": {},
     "output_type": "display_data"
    },
    {
     "data": {
      "application/vnd.jupyter.widget-view+json": {
       "model_id": "581c8ecc90304f6690b8157f5d4578f3",
       "version_major": 2,
       "version_minor": 0
      },
      "text/plain": [
       "HBox(children=(IntProgress(value=0, max=10), HTML(value='')))"
      ]
     },
     "metadata": {},
     "output_type": "display_data"
    },
    {
     "data": {
      "application/vnd.jupyter.widget-view+json": {
       "model_id": "538bd3fe88ec495a862b9ef1cdc8b3df",
       "version_major": 2,
       "version_minor": 0
      },
      "text/plain": [
       "HBox(children=(IntProgress(value=0, max=10), HTML(value='')))"
      ]
     },
     "metadata": {},
     "output_type": "display_data"
    },
    {
     "data": {
      "application/vnd.jupyter.widget-view+json": {
       "model_id": "9be5d304b2154019a92dce0cfb65ab17",
       "version_major": 2,
       "version_minor": 0
      },
      "text/plain": [
       "HBox(children=(IntProgress(value=0, max=10), HTML(value='')))"
      ]
     },
     "metadata": {},
     "output_type": "display_data"
    },
    {
     "data": {
      "application/vnd.jupyter.widget-view+json": {
       "model_id": "cb16a2d15e444d5996ab45d144860ca4",
       "version_major": 2,
       "version_minor": 0
      },
      "text/plain": [
       "HBox(children=(IntProgress(value=0, max=10), HTML(value='')))"
      ]
     },
     "metadata": {},
     "output_type": "display_data"
    },
    {
     "data": {
      "application/vnd.jupyter.widget-view+json": {
       "model_id": "d1671016ea644d9ba247cf2759735348",
       "version_major": 2,
       "version_minor": 0
      },
      "text/plain": [
       "HBox(children=(IntProgress(value=0, max=10), HTML(value='')))"
      ]
     },
     "metadata": {},
     "output_type": "display_data"
    },
    {
     "data": {
      "application/vnd.jupyter.widget-view+json": {
       "model_id": "516730575aab449dae4add56170f2cb9",
       "version_major": 2,
       "version_minor": 0
      },
      "text/plain": [
       "HBox(children=(IntProgress(value=0, max=10), HTML(value='')))"
      ]
     },
     "metadata": {},
     "output_type": "display_data"
    },
    {
     "data": {
      "application/vnd.jupyter.widget-view+json": {
       "model_id": "b43b4ee6507948b5888812312c34970f",
       "version_major": 2,
       "version_minor": 0
      },
      "text/plain": [
       "HBox(children=(IntProgress(value=0, max=10), HTML(value='')))"
      ]
     },
     "metadata": {},
     "output_type": "display_data"
    },
    {
     "data": {
      "application/vnd.jupyter.widget-view+json": {
       "model_id": "152a725fffd64a2582a24ae1a4629e3e",
       "version_major": 2,
       "version_minor": 0
      },
      "text/plain": [
       "HBox(children=(IntProgress(value=0, max=10), HTML(value='')))"
      ]
     },
     "metadata": {},
     "output_type": "display_data"
    },
    {
     "name": "stdout",
     "output_type": "stream",
     "text": [
      "Including gain factor of detector in poissonian noise. Rescaling...\n",
      "Generating seeds...\n"
     ]
    },
    {
     "data": {
      "application/vnd.jupyter.widget-view+json": {
       "model_id": "22aea8aa432544929904d906f6ce0a50",
       "version_major": 2,
       "version_minor": 0
      },
      "text/plain": [
       "HBox(children=(IntProgress(value=0, max=10), HTML(value='')))"
      ]
     },
     "metadata": {},
     "output_type": "display_data"
    },
    {
     "data": {
      "application/vnd.jupyter.widget-view+json": {
       "model_id": "3082612c5a0c40e69629209c8a63669f",
       "version_major": 2,
       "version_minor": 0
      },
      "text/plain": [
       "HBox(children=(IntProgress(value=0, max=10), HTML(value='')))"
      ]
     },
     "metadata": {},
     "output_type": "display_data"
    },
    {
     "data": {
      "application/vnd.jupyter.widget-view+json": {
       "model_id": "81ee385d50304bc9adb2f65a2c73d484",
       "version_major": 2,
       "version_minor": 0
      },
      "text/plain": [
       "HBox(children=(IntProgress(value=0, max=10), HTML(value='')))"
      ]
     },
     "metadata": {},
     "output_type": "display_data"
    },
    {
     "data": {
      "application/vnd.jupyter.widget-view+json": {
       "model_id": "f334ff6c81e542c7b909505906c36c74",
       "version_major": 2,
       "version_minor": 0
      },
      "text/plain": [
       "HBox(children=(IntProgress(value=0, max=10), HTML(value='')))"
      ]
     },
     "metadata": {},
     "output_type": "display_data"
    },
    {
     "data": {
      "application/vnd.jupyter.widget-view+json": {
       "model_id": "bbcc0c6556264442b117ea14f2480313",
       "version_major": 2,
       "version_minor": 0
      },
      "text/plain": [
       "HBox(children=(IntProgress(value=0, max=10), HTML(value='')))"
      ]
     },
     "metadata": {},
     "output_type": "display_data"
    },
    {
     "data": {
      "application/vnd.jupyter.widget-view+json": {
       "model_id": "385320f8d92b4d67bf4d569a33d94aa5",
       "version_major": 2,
       "version_minor": 0
      },
      "text/plain": [
       "HBox(children=(IntProgress(value=0, max=10), HTML(value='')))"
      ]
     },
     "metadata": {},
     "output_type": "display_data"
    },
    {
     "data": {
      "application/vnd.jupyter.widget-view+json": {
       "model_id": "a996dd8facea401bbf8626915211421b",
       "version_major": 2,
       "version_minor": 0
      },
      "text/plain": [
       "HBox(children=(IntProgress(value=0, max=10), HTML(value='')))"
      ]
     },
     "metadata": {},
     "output_type": "display_data"
    },
    {
     "data": {
      "application/vnd.jupyter.widget-view+json": {
       "model_id": "d75cf2c67b294feea00c9bfd5e32389e",
       "version_major": 2,
       "version_minor": 0
      },
      "text/plain": [
       "HBox(children=(IntProgress(value=0, max=10), HTML(value='')))"
      ]
     },
     "metadata": {},
     "output_type": "display_data"
    },
    {
     "data": {
      "application/vnd.jupyter.widget-view+json": {
       "model_id": "9927b387e97b465dae86ebb9e175f166",
       "version_major": 2,
       "version_minor": 0
      },
      "text/plain": [
       "HBox(children=(IntProgress(value=0, max=10), HTML(value='')))"
      ]
     },
     "metadata": {},
     "output_type": "display_data"
    },
    {
     "data": {
      "application/vnd.jupyter.widget-view+json": {
       "model_id": "ff7bd3a132214df59076bbbb281c5d64",
       "version_major": 2,
       "version_minor": 0
      },
      "text/plain": [
       "HBox(children=(IntProgress(value=0, max=10), HTML(value='')))"
      ]
     },
     "metadata": {},
     "output_type": "display_data"
    },
    {
     "data": {
      "application/vnd.jupyter.widget-view+json": {
       "model_id": "298e495300a247ceb57fa0c4859205c5",
       "version_major": 2,
       "version_minor": 0
      },
      "text/plain": [
       "HBox(children=(IntProgress(value=0, max=10), HTML(value='')))"
      ]
     },
     "metadata": {},
     "output_type": "display_data"
    },
    {
     "name": "stdout",
     "output_type": "stream",
     "text": [
      "[[       nan        nan        nan        nan        nan        nan\n",
      "         nan        nan        nan        nan        nan        nan\n",
      "         nan        nan        nan        nan        nan        nan\n",
      "         nan        nan]\n",
      " [       nan 1.0046401         nan 0.98668006        nan 1.00196479\n",
      "         nan 1.06822166        nan 0.99958108        nan 1.01904849\n",
      "         nan 1.03772977        nan 1.06780356        nan 1.08527075\n",
      "         nan 1.07192915]\n",
      " [       nan        nan        nan        nan        nan        nan\n",
      "         nan        nan        nan        nan        nan        nan\n",
      "         nan        nan        nan        nan        nan        nan\n",
      "         nan        nan]\n",
      " [       nan 0.99123841        nan 0.96193939        nan 0.98945703\n",
      "         nan 0.97142527        nan 1.0122186         nan 1.07379041\n",
      "         nan 1.03708316        nan 1.02092727        nan 1.05162456\n",
      "         nan 1.04914275]\n",
      " [       nan        nan        nan        nan        nan        nan\n",
      "         nan        nan        nan        nan        nan        nan\n",
      "         nan        nan        nan        nan        nan        nan\n",
      "         nan        nan]\n",
      " [       nan 0.94264112        nan 0.95467637        nan 0.96411743\n",
      "         nan 1.03982554        nan 0.96890136        nan 1.03325067\n",
      "         nan 1.0327906         nan 0.95582176        nan 1.02054961\n",
      "         nan 1.0271442 ]\n",
      " [       nan        nan        nan        nan        nan        nan\n",
      "         nan        nan        nan        nan        nan        nan\n",
      "         nan        nan        nan        nan        nan        nan\n",
      "         nan        nan]\n",
      " [       nan 0.9591827         nan 0.98073484        nan 0.9942944\n",
      "         nan 0.97113717        nan 1.00332634        nan 1.01123513\n",
      "         nan 1.03834305        nan 1.06459189        nan 1.04902885\n",
      "         nan 1.07184515]\n",
      " [       nan        nan        nan        nan        nan        nan\n",
      "         nan        nan        nan        nan        nan        nan\n",
      "         nan        nan        nan        nan        nan        nan\n",
      "         nan        nan]\n",
      " [       nan 0.98107723        nan 0.95133213        nan 0.98292323\n",
      "         nan 1.00436105        nan 0.99897968        nan 1.00969346\n",
      "         nan 0.97099096        nan 1.01457047        nan 0.99387376\n",
      "         nan 1.05372119]\n",
      " [       nan        nan        nan        nan        nan        nan\n",
      "         nan        nan        nan        nan        nan        nan\n",
      "         nan        nan        nan        nan        nan        nan\n",
      "         nan        nan]\n",
      " [       nan 0.92572175        nan 0.96587169        nan 0.93805118\n",
      "         nan 0.96013354        nan 0.97474679        nan 0.99659872\n",
      "         nan 1.04332897        nan 0.99885444        nan 1.01472981\n",
      "         nan 1.06074908]\n",
      " [       nan        nan        nan        nan        nan        nan\n",
      "         nan        nan        nan        nan        nan        nan\n",
      "         nan        nan        nan        nan        nan        nan\n",
      "         nan        nan]\n",
      " [       nan 0.9248286         nan 0.9577496         nan 1.02008458\n",
      "         nan 0.9761893         nan 1.01634419        nan 0.9885339\n",
      "         nan 1.01249304        nan 1.00566438        nan 1.04927745\n",
      "         nan 1.06351348]\n",
      " [       nan        nan        nan        nan        nan        nan\n",
      "         nan        nan        nan        nan        nan        nan\n",
      "         nan        nan        nan        nan        nan        nan\n",
      "         nan        nan]\n",
      " [       nan 0.91816375        nan 0.92946528        nan 0.97355301\n",
      "         nan 0.99832793        nan 1.03088854        nan 0.96526718\n",
      "         nan 1.01417393        nan 1.03005407        nan 1.00643979\n",
      "         nan 0.99041522]\n",
      " [       nan        nan        nan        nan        nan        nan\n",
      "         nan        nan        nan        nan        nan        nan\n",
      "         nan        nan        nan        nan        nan        nan\n",
      "         nan        nan]\n",
      " [       nan 0.93877688        nan 0.9654365         nan 0.96309756\n",
      "         nan 0.96524886        nan 0.94687644        nan 0.99522769\n",
      "         nan 0.98064571        nan 1.03509715        nan 1.03497031\n",
      "         nan 1.03504005]\n",
      " [       nan        nan        nan        nan        nan        nan\n",
      "         nan        nan        nan        nan        nan        nan\n",
      "         nan        nan        nan        nan        nan        nan\n",
      "         nan        nan]\n",
      " [       nan 0.95052764        nan 0.96055111        nan 0.95775783\n",
      "         nan 0.97458604        nan 0.96422117        nan 0.98793393\n",
      "         nan 0.99161588        nan 1.00179745        nan 1.02749757\n",
      "         nan 1.02620161]]\n",
      "0.9999999815067093\n"
     ]
    },
    {
     "data": {
      "application/vnd.jupyter.widget-view+json": {
       "model_id": "d2836d99f6ad4e229c26e6857661485e",
       "version_major": 2,
       "version_minor": 0
      },
      "text/plain": [
       "HBox(children=(IntProgress(value=0, max=300), HTML(value='')))"
      ]
     },
     "metadata": {},
     "output_type": "display_data"
    },
    {
     "name": "stdout",
     "output_type": "stream",
     "text": [
      "Model will be stored in file...\n",
      "Stored models in file:\n",
      "├── Gaussian_NelderMead_ml\n",
      "│   ├── components\n",
      "│   │   ├── First_Plasmon_Peak\n",
      "│   │   ├── Second_Plasmon_Peak\n",
      "│   │   └── Zero_Loss_Peak\n",
      "│   ├── date = 2019-07-11 10:03:23\n",
      "│   └── dimensions = (20, 20|2040)\n",
      "├── Gaussian_mpfit_ls\n",
      "│   ├── components\n",
      "│   │   ├── First_Plasmon_Peak\n",
      "│   │   ├── Second_Plasmon_Peak\n",
      "│   │   └── Zero_Loss_Peak\n",
      "│   ├── date = 2019-07-11 08:52:58\n",
      "│   └── dimensions = (20, 20|2040)\n",
      "├── Lorentzian_NelderMead_ml\n",
      "│   ├── components\n",
      "│   │   ├── First_Plasmon_Peak\n",
      "│   │   ├── Second_Plasmon_Peak\n",
      "│   │   └── Zero_Loss_Peak\n",
      "│   ├── date = 2019-07-11 10:08:34\n",
      "│   └── dimensions = (20, 20|2040)\n",
      "├── Lorentzian_leastsq_ls\n",
      "│   ├── components\n",
      "│   │   ├── First_Plasmon_Peak\n",
      "│   │   ├── Second_Plasmon_Peak\n",
      "│   │   └── Zero_Loss_Peak\n",
      "│   ├── date = 2019-07-11 09:26:22\n",
      "│   └── dimensions = (20, 20|2040)\n",
      "├── Lorentzian_mpfit_ls\n",
      "│   ├── components\n",
      "│   │   ├── First_Plasmon_Peak\n",
      "│   │   ├── Second_Plasmon_Peak\n",
      "│   │   └── Zero_Loss_Peak\n",
      "│   ├── date = 2019-07-11 08:54:51\n",
      "│   └── dimensions = (20, 20|2040)\n",
      "├── Voigt_NelderMead_ml\n",
      "│   ├── components\n",
      "│   │   ├── First_Plasmon_Peak\n",
      "│   │   ├── Second_Plasmon_Peak\n",
      "│   │   └── Zero_Loss_Peak\n",
      "│   ├── date = 2019-07-11 09:49:15\n",
      "│   └── dimensions = (20, 20|2040)\n",
      "├── Voigt_leastsq_ls\n",
      "│   ├── components\n",
      "│   │   ├── First_Plasmon_Peak\n",
      "│   │   ├── Second_Plasmon_Peak\n",
      "│   │   └── Zero_Loss_Peak\n",
      "│   ├── date = 2019-07-11 09:29:35\n",
      "│   └── dimensions = (20, 20|2040)\n",
      "├── VolumePlasmonDrude_NelderMead_ml\n",
      "│   ├── components\n",
      "│   │   ├── First_Plasmon_Peak\n",
      "│   │   ├── Second_Plasmon_Peak\n",
      "│   │   └── Zero_Loss_Peak\n",
      "│   ├── date = 2019-07-11 09:44:22\n",
      "│   └── dimensions = (20, 20|2040)\n",
      "└── VolumePlasmonDrude_leastsq_ls\n",
      "    ├── components\n",
      "    │   ├── First_Plasmon_Peak\n",
      "    │   ├── Second_Plasmon_Peak\n",
      "    │   └── Zero_Loss_Peak\n",
      "    ├── date = 2019-07-11 09:27:41\n",
      "    └── dimensions = (20, 20|2040)\n",
      "\n"
     ]
    }
   ],
   "source": [
    "a.eels_fit_routine(function_set='Lorentzian', fitter='Nelder-Mead', method='ml', samfire=True)"
   ]
  },
  {
   "cell_type": "code",
   "execution_count": 64,
   "metadata": {},
   "outputs": [
    {
     "name": "stdout",
     "output_type": "stream",
     "text": [
      "Reinitialising poissonian noise estimation...\n",
      "Estimate function parameters...\n"
     ]
    },
    {
     "data": {
      "application/vnd.jupyter.widget-view+json": {
       "model_id": "c47e7c77f2904419b685b1544dcee35e",
       "version_major": 2,
       "version_minor": 0
      },
      "text/plain": [
       "HBox(children=(IntProgress(value=0, max=1), HTML(value='')))"
      ]
     },
     "metadata": {},
     "output_type": "display_data"
    },
    {
     "data": {
      "application/vnd.jupyter.widget-view+json": {
       "model_id": "14dee18e000b4fc6a23b890d545a9040",
       "version_major": 2,
       "version_minor": 0
      },
      "text/plain": [
       "HBox(children=(IntProgress(value=0, max=1), HTML(value='')))"
      ]
     },
     "metadata": {},
     "output_type": "display_data"
    },
    {
     "name": "stdout",
     "output_type": "stream",
     "text": [
      "Estimate function parameters...\n"
     ]
    },
    {
     "data": {
      "application/vnd.jupyter.widget-view+json": {
       "model_id": "66d49c66b1d645c9999e725fc2db0090",
       "version_major": 2,
       "version_minor": 0
      },
      "text/plain": [
       "HBox(children=(IntProgress(value=0, max=1), HTML(value='')))"
      ]
     },
     "metadata": {},
     "output_type": "display_data"
    },
    {
     "data": {
      "application/vnd.jupyter.widget-view+json": {
       "model_id": "3b169802e35e4d2086cd1ffb37307f1e",
       "version_major": 2,
       "version_minor": 0
      },
      "text/plain": [
       "HBox(children=(IntProgress(value=0, max=1), HTML(value='')))"
      ]
     },
     "metadata": {},
     "output_type": "display_data"
    },
    {
     "name": "stdout",
     "output_type": "stream",
     "text": [
      "Estimate function parameters...\n"
     ]
    },
    {
     "data": {
      "application/vnd.jupyter.widget-view+json": {
       "model_id": "a0144e475d9e46388552891263688a6f",
       "version_major": 2,
       "version_minor": 0
      },
      "text/plain": [
       "HBox(children=(IntProgress(value=0, max=1), HTML(value='')))"
      ]
     },
     "metadata": {},
     "output_type": "display_data"
    },
    {
     "data": {
      "application/vnd.jupyter.widget-view+json": {
       "model_id": "38fafdfccdf44b74864ef8d32ad95590",
       "version_major": 2,
       "version_minor": 0
      },
      "text/plain": [
       "HBox(children=(IntProgress(value=0, max=1), HTML(value='')))"
      ]
     },
     "metadata": {},
     "output_type": "display_data"
    },
    {
     "name": "stdout",
     "output_type": "stream",
     "text": [
      "Estimate function parameters...\n"
     ]
    },
    {
     "data": {
      "application/vnd.jupyter.widget-view+json": {
       "model_id": "bf5ea32693cf4a96b2e2ef4160325d29",
       "version_major": 2,
       "version_minor": 0
      },
      "text/plain": [
       "HBox(children=(IntProgress(value=0, max=1), HTML(value='')))"
      ]
     },
     "metadata": {},
     "output_type": "display_data"
    },
    {
     "data": {
      "application/vnd.jupyter.widget-view+json": {
       "model_id": "0e790c738f2a4f5c9f49334dc276c0a1",
       "version_major": 2,
       "version_minor": 0
      },
      "text/plain": [
       "HBox(children=(IntProgress(value=0, max=1), HTML(value='')))"
      ]
     },
     "metadata": {},
     "output_type": "display_data"
    },
    {
     "name": "stdout",
     "output_type": "stream",
     "text": [
      "Estimate function parameters...\n"
     ]
    },
    {
     "data": {
      "application/vnd.jupyter.widget-view+json": {
       "model_id": "d09ebd367b914970825adc8fdf062f99",
       "version_major": 2,
       "version_minor": 0
      },
      "text/plain": [
       "HBox(children=(IntProgress(value=0, max=1), HTML(value='')))"
      ]
     },
     "metadata": {},
     "output_type": "display_data"
    },
    {
     "data": {
      "application/vnd.jupyter.widget-view+json": {
       "model_id": "81543329917f469da484d74f258d931f",
       "version_major": 2,
       "version_minor": 0
      },
      "text/plain": [
       "HBox(children=(IntProgress(value=0, max=1), HTML(value='')))"
      ]
     },
     "metadata": {},
     "output_type": "display_data"
    },
    {
     "name": "stdout",
     "output_type": "stream",
     "text": [
      "Estimate function parameters...\n"
     ]
    },
    {
     "data": {
      "application/vnd.jupyter.widget-view+json": {
       "model_id": "843151246d7c4ba1b78a2c380c2aeb69",
       "version_major": 2,
       "version_minor": 0
      },
      "text/plain": [
       "HBox(children=(IntProgress(value=0, max=1), HTML(value='')))"
      ]
     },
     "metadata": {},
     "output_type": "display_data"
    },
    {
     "data": {
      "application/vnd.jupyter.widget-view+json": {
       "model_id": "cf713f1460254e15a744951d07a4a2d8",
       "version_major": 2,
       "version_minor": 0
      },
      "text/plain": [
       "HBox(children=(IntProgress(value=0, max=1), HTML(value='')))"
      ]
     },
     "metadata": {},
     "output_type": "display_data"
    },
    {
     "name": "stdout",
     "output_type": "stream",
     "text": [
      "Do you want to adjust the starting parameters? (y/n): n\n",
      "Generating seeds...\n"
     ]
    },
    {
     "data": {
      "application/vnd.jupyter.widget-view+json": {
       "model_id": "de6950ef9c3b4135b401b198b6a9da29",
       "version_major": 2,
       "version_minor": 0
      },
      "text/plain": [
       "HBox(children=(IntProgress(value=0, max=10), HTML(value='')))"
      ]
     },
     "metadata": {},
     "output_type": "display_data"
    },
    {
     "data": {
      "application/vnd.jupyter.widget-view+json": {
       "model_id": "6d50fcc5b8a6455fbd0353c0a8c631a5",
       "version_major": 2,
       "version_minor": 0
      },
      "text/plain": [
       "HBox(children=(IntProgress(value=0, max=10), HTML(value='')))"
      ]
     },
     "metadata": {},
     "output_type": "display_data"
    },
    {
     "data": {
      "application/vnd.jupyter.widget-view+json": {
       "model_id": "2334e5f8dc934e7a857c4027d727811b",
       "version_major": 2,
       "version_minor": 0
      },
      "text/plain": [
       "HBox(children=(IntProgress(value=0, max=10), HTML(value='')))"
      ]
     },
     "metadata": {},
     "output_type": "display_data"
    },
    {
     "data": {
      "application/vnd.jupyter.widget-view+json": {
       "model_id": "b695d28dce9c4f2e83a60db8f984c2de",
       "version_major": 2,
       "version_minor": 0
      },
      "text/plain": [
       "HBox(children=(IntProgress(value=0, max=10), HTML(value='')))"
      ]
     },
     "metadata": {},
     "output_type": "display_data"
    },
    {
     "data": {
      "application/vnd.jupyter.widget-view+json": {
       "model_id": "03062239e15841bdaa887c39b6da9983",
       "version_major": 2,
       "version_minor": 0
      },
      "text/plain": [
       "HBox(children=(IntProgress(value=0, max=10), HTML(value='')))"
      ]
     },
     "metadata": {},
     "output_type": "display_data"
    },
    {
     "data": {
      "application/vnd.jupyter.widget-view+json": {
       "model_id": "f2b50fc7a0314b9993aaf8f82a1e8e20",
       "version_major": 2,
       "version_minor": 0
      },
      "text/plain": [
       "HBox(children=(IntProgress(value=0, max=10), HTML(value='')))"
      ]
     },
     "metadata": {},
     "output_type": "display_data"
    },
    {
     "data": {
      "application/vnd.jupyter.widget-view+json": {
       "model_id": "5a9205fbced0492fb0b6dd2658ccbc76",
       "version_major": 2,
       "version_minor": 0
      },
      "text/plain": [
       "HBox(children=(IntProgress(value=0, max=10), HTML(value='')))"
      ]
     },
     "metadata": {},
     "output_type": "display_data"
    },
    {
     "data": {
      "application/vnd.jupyter.widget-view+json": {
       "model_id": "3aaa63694536431ea92f9969b0f5d280",
       "version_major": 2,
       "version_minor": 0
      },
      "text/plain": [
       "HBox(children=(IntProgress(value=0, max=10), HTML(value='')))"
      ]
     },
     "metadata": {},
     "output_type": "display_data"
    },
    {
     "data": {
      "application/vnd.jupyter.widget-view+json": {
       "model_id": "33810813ae264920930bc122a686fcaf",
       "version_major": 2,
       "version_minor": 0
      },
      "text/plain": [
       "HBox(children=(IntProgress(value=0, max=10), HTML(value='')))"
      ]
     },
     "metadata": {},
     "output_type": "display_data"
    },
    {
     "data": {
      "application/vnd.jupyter.widget-view+json": {
       "model_id": "2795e189baaf45f28d405a7f5a2376b2",
       "version_major": 2,
       "version_minor": 0
      },
      "text/plain": [
       "HBox(children=(IntProgress(value=0, max=10), HTML(value='')))"
      ]
     },
     "metadata": {},
     "output_type": "display_data"
    },
    {
     "data": {
      "application/vnd.jupyter.widget-view+json": {
       "model_id": "93fd16529d4c4b52b5294a266516e40a",
       "version_major": 2,
       "version_minor": 0
      },
      "text/plain": [
       "HBox(children=(IntProgress(value=0, max=10), HTML(value='')))"
      ]
     },
     "metadata": {},
     "output_type": "display_data"
    },
    {
     "name": "stdout",
     "output_type": "stream",
     "text": [
      "Including gain factor of detector in poissonian noise. Rescaling...\n",
      "Generating seeds...\n"
     ]
    },
    {
     "data": {
      "application/vnd.jupyter.widget-view+json": {
       "model_id": "251e7c005f3b4f0a8cf005063baca32f",
       "version_major": 2,
       "version_minor": 0
      },
      "text/plain": [
       "HBox(children=(IntProgress(value=0, max=10), HTML(value='')))"
      ]
     },
     "metadata": {},
     "output_type": "display_data"
    },
    {
     "data": {
      "application/vnd.jupyter.widget-view+json": {
       "model_id": "ee8fad9c6d2c4f83ac4bc1edc7761ba4",
       "version_major": 2,
       "version_minor": 0
      },
      "text/plain": [
       "HBox(children=(IntProgress(value=0, max=10), HTML(value='')))"
      ]
     },
     "metadata": {},
     "output_type": "display_data"
    },
    {
     "data": {
      "application/vnd.jupyter.widget-view+json": {
       "model_id": "71d955a01b6a4dcba65d57486148cede",
       "version_major": 2,
       "version_minor": 0
      },
      "text/plain": [
       "HBox(children=(IntProgress(value=0, max=10), HTML(value='')))"
      ]
     },
     "metadata": {},
     "output_type": "display_data"
    },
    {
     "data": {
      "application/vnd.jupyter.widget-view+json": {
       "model_id": "620f6e2d435b497d9bd083b53878df17",
       "version_major": 2,
       "version_minor": 0
      },
      "text/plain": [
       "HBox(children=(IntProgress(value=0, max=10), HTML(value='')))"
      ]
     },
     "metadata": {},
     "output_type": "display_data"
    },
    {
     "data": {
      "application/vnd.jupyter.widget-view+json": {
       "model_id": "d7dc7384f4b940e99d0b7243bc2b474c",
       "version_major": 2,
       "version_minor": 0
      },
      "text/plain": [
       "HBox(children=(IntProgress(value=0, max=10), HTML(value='')))"
      ]
     },
     "metadata": {},
     "output_type": "display_data"
    },
    {
     "data": {
      "application/vnd.jupyter.widget-view+json": {
       "model_id": "fcc44ebbba204209b9b2b7d6e2c2499e",
       "version_major": 2,
       "version_minor": 0
      },
      "text/plain": [
       "HBox(children=(IntProgress(value=0, max=10), HTML(value='')))"
      ]
     },
     "metadata": {},
     "output_type": "display_data"
    },
    {
     "data": {
      "application/vnd.jupyter.widget-view+json": {
       "model_id": "a6daedfefdac4bdfb90fde015bdcbe0d",
       "version_major": 2,
       "version_minor": 0
      },
      "text/plain": [
       "HBox(children=(IntProgress(value=0, max=10), HTML(value='')))"
      ]
     },
     "metadata": {},
     "output_type": "display_data"
    },
    {
     "data": {
      "application/vnd.jupyter.widget-view+json": {
       "model_id": "e96a19812ff14cca865d3ed158f99e6c",
       "version_major": 2,
       "version_minor": 0
      },
      "text/plain": [
       "HBox(children=(IntProgress(value=0, max=10), HTML(value='')))"
      ]
     },
     "metadata": {},
     "output_type": "display_data"
    },
    {
     "data": {
      "application/vnd.jupyter.widget-view+json": {
       "model_id": "2faf4710897d42a792b8df45da42c80a",
       "version_major": 2,
       "version_minor": 0
      },
      "text/plain": [
       "HBox(children=(IntProgress(value=0, max=10), HTML(value='')))"
      ]
     },
     "metadata": {},
     "output_type": "display_data"
    },
    {
     "data": {
      "application/vnd.jupyter.widget-view+json": {
       "model_id": "a16d8c1fc429498faf263f9be406d5c6",
       "version_major": 2,
       "version_minor": 0
      },
      "text/plain": [
       "HBox(children=(IntProgress(value=0, max=10), HTML(value='')))"
      ]
     },
     "metadata": {},
     "output_type": "display_data"
    },
    {
     "data": {
      "application/vnd.jupyter.widget-view+json": {
       "model_id": "46590c1625e14c89a22b3a33dda6c7e2",
       "version_major": 2,
       "version_minor": 0
      },
      "text/plain": [
       "HBox(children=(IntProgress(value=0, max=10), HTML(value='')))"
      ]
     },
     "metadata": {},
     "output_type": "display_data"
    },
    {
     "name": "stdout",
     "output_type": "stream",
     "text": [
      "[[       nan        nan        nan        nan        nan        nan\n",
      "         nan        nan        nan        nan        nan        nan\n",
      "         nan        nan        nan        nan        nan        nan\n",
      "         nan        nan]\n",
      " [       nan 1.03995683        nan 1.02797271        nan 1.01626699\n",
      "         nan 1.04051374        nan 0.9957306         nan 0.96919001\n",
      "         nan 0.97720302        nan 0.97947715        nan 0.96608335\n",
      "         nan 0.94128106]\n",
      " [       nan        nan        nan        nan        nan        nan\n",
      "         nan        nan        nan        nan        nan        nan\n",
      "         nan        nan        nan        nan        nan        nan\n",
      "         nan        nan]\n",
      " [       nan 1.0290088         nan 0.98151252        nan 1.01421247\n",
      "         nan 0.97907638        nan 0.97197584        nan 1.00037852\n",
      "         nan 0.97181268        nan 0.96203742        nan 0.94379208\n",
      "         nan 0.94492771]\n",
      " [       nan        nan        nan        nan        nan        nan\n",
      "         nan        nan        nan        nan        nan        nan\n",
      "         nan        nan        nan        nan        nan        nan\n",
      "         nan        nan]\n",
      " [       nan 0.99636245        nan 1.01230461        nan 1.00049762\n",
      "         nan 1.01904581        nan 0.98748072        nan 0.96924979\n",
      "         nan 0.98567152        nan 0.94334766        nan 0.95364556\n",
      "         nan 0.9292957 ]\n",
      " [       nan        nan        nan        nan        nan        nan\n",
      "         nan        nan        nan        nan        nan        nan\n",
      "         nan        nan        nan        nan        nan        nan\n",
      "         nan        nan]\n",
      " [       nan 1.02639976        nan 1.02828641        nan 1.01927275\n",
      "         nan 0.99880499        nan 0.98961175        nan 0.99309903\n",
      "         nan 0.98253899        nan 0.96630339        nan 0.95998904\n",
      "         nan 0.95637093]\n",
      " [       nan        nan        nan        nan        nan        nan\n",
      "         nan        nan        nan        nan        nan        nan\n",
      "         nan        nan        nan        nan        nan        nan\n",
      "         nan        nan]\n",
      " [       nan 1.03097716        nan 1.01422543        nan 1.02306355\n",
      "         nan 1.03059188        nan 1.00165199        nan 1.00136733\n",
      "         nan 0.95037097        nan 0.98016991        nan 0.94783385\n",
      "         nan 0.95061709]\n",
      " [       nan        nan        nan        nan        nan        nan\n",
      "         nan        nan        nan        nan        nan        nan\n",
      "         nan        nan        nan        nan        nan        nan\n",
      "         nan        nan]\n",
      " [       nan 1.01727987        nan 1.03090117        nan 1.00188503\n",
      "         nan 1.0046869         nan 1.00912122        nan 0.9959481\n",
      "         nan 1.00088765        nan 0.97335827        nan 0.96919947\n",
      "         nan 0.95832111]\n",
      " [       nan        nan        nan        nan        nan        nan\n",
      "         nan        nan        nan        nan        nan        nan\n",
      "         nan        nan        nan        nan        nan        nan\n",
      "         nan        nan]\n",
      " [       nan 1.03767969        nan 1.03222759        nan 1.05806713\n",
      "         nan 1.03263593        nan 1.02900389        nan 0.9925974\n",
      "         nan 1.00385939        nan 0.97887365        nan 0.98290461\n",
      "         nan 0.98383613]\n",
      " [       nan        nan        nan        nan        nan        nan\n",
      "         nan        nan        nan        nan        nan        nan\n",
      "         nan        nan        nan        nan        nan        nan\n",
      "         nan        nan]\n",
      " [       nan 1.02170298        nan 1.03891618        nan 1.03650221\n",
      "         nan 1.0481474         nan 1.04402674        nan 1.00195068\n",
      "         nan 1.00686764        nan 1.00735946        nan 0.97537177\n",
      "         nan 0.92689235]\n",
      " [       nan        nan        nan        nan        nan        nan\n",
      "         nan        nan        nan        nan        nan        nan\n",
      "         nan        nan        nan        nan        nan        nan\n",
      "         nan        nan]\n",
      " [       nan 1.03217405        nan 1.05102915        nan 1.04473263\n",
      "         nan 1.01757596        nan 1.02422958        nan 1.01231805\n",
      "         nan 1.00493552        nan 1.00011683        nan 0.99689648\n",
      "         nan 0.96569929]\n",
      " [       nan        nan        nan        nan        nan        nan\n",
      "         nan        nan        nan        nan        nan        nan\n",
      "         nan        nan        nan        nan        nan        nan\n",
      "         nan        nan]\n",
      " [       nan 1.0586897         nan 1.05498235        nan 1.04910838\n",
      "         nan 1.03289525        nan 1.02993418        nan 1.03128458\n",
      "         nan 1.02181964        nan 1.00418416        nan 0.98301409\n",
      "         nan 0.98251034]]\n",
      "0.9999999934346278\n"
     ]
    },
    {
     "data": {
      "application/vnd.jupyter.widget-view+json": {
       "model_id": "d89dacd288db48b59bb25992045e315c",
       "version_major": 2,
       "version_minor": 0
      },
      "text/plain": [
       "HBox(children=(IntProgress(value=0, max=300), HTML(value='')))"
      ]
     },
     "metadata": {},
     "output_type": "display_data"
    },
    {
     "name": "stdout",
     "output_type": "stream",
     "text": [
      "Model will be stored in file...\n",
      "Stored models in file:\n",
      "├── Gaussian_NelderMead_ml\n",
      "│   ├── components\n",
      "│   │   ├── First_Plasmon_Peak\n",
      "│   │   ├── Second_Plasmon_Peak\n",
      "│   │   └── Zero_Loss_Peak\n",
      "│   ├── date = 2019-07-11 10:03:23\n",
      "│   └── dimensions = (20, 20|2040)\n",
      "├── Gaussian_mpfit_ls\n",
      "│   ├── components\n",
      "│   │   ├── First_Plasmon_Peak\n",
      "│   │   ├── Second_Plasmon_Peak\n",
      "│   │   └── Zero_Loss_Peak\n",
      "│   ├── date = 2019-07-11 08:52:58\n",
      "│   └── dimensions = (20, 20|2040)\n",
      "├── Lorentzian_NelderMead_ml\n",
      "│   ├── components\n",
      "│   │   ├── First_Plasmon_Peak\n",
      "│   │   ├── Second_Plasmon_Peak\n",
      "│   │   └── Zero_Loss_Peak\n",
      "│   ├── date = 2019-07-11 09:39:21\n",
      "│   └── dimensions = (20, 20|2040)\n",
      "├── Lorentzian_leastsq_ls\n",
      "│   ├── components\n",
      "│   │   ├── First_Plasmon_Peak\n",
      "│   │   ├── Second_Plasmon_Peak\n",
      "│   │   └── Zero_Loss_Peak\n",
      "│   ├── date = 2019-07-11 09:26:22\n",
      "│   └── dimensions = (20, 20|2040)\n",
      "├── Lorentzian_mpfit_ls\n",
      "│   ├── components\n",
      "│   │   ├── First_Plasmon_Peak\n",
      "│   │   ├── Second_Plasmon_Peak\n",
      "│   │   └── Zero_Loss_Peak\n",
      "│   ├── date = 2019-07-11 08:54:51\n",
      "│   └── dimensions = (20, 20|2040)\n",
      "├── Voigt_NelderMead_ml\n",
      "│   ├── components\n",
      "│   │   ├── First_Plasmon_Peak\n",
      "│   │   ├── Second_Plasmon_Peak\n",
      "│   │   └── Zero_Loss_Peak\n",
      "│   ├── date = 2019-07-11 09:49:15\n",
      "│   └── dimensions = (20, 20|2040)\n",
      "├── Voigt_leastsq_ls\n",
      "│   ├── components\n",
      "│   │   ├── First_Plasmon_Peak\n",
      "│   │   ├── Second_Plasmon_Peak\n",
      "│   │   └── Zero_Loss_Peak\n",
      "│   ├── date = 2019-07-11 09:29:35\n",
      "│   └── dimensions = (20, 20|2040)\n",
      "├── VolumePlasmonDrude_NelderMead_ml\n",
      "│   ├── components\n",
      "│   │   ├── First_Plasmon_Peak\n",
      "│   │   ├── Second_Plasmon_Peak\n",
      "│   │   └── Zero_Loss_Peak\n",
      "│   ├── date = 2019-07-11 09:44:22\n",
      "│   └── dimensions = (20, 20|2040)\n",
      "└── VolumePlasmonDrude_leastsq_ls\n",
      "    ├── components\n",
      "    │   ├── First_Plasmon_Peak\n",
      "    │   ├── Second_Plasmon_Peak\n",
      "    │   └── Zero_Loss_Peak\n",
      "    ├── date = 2019-07-11 09:27:41\n",
      "    └── dimensions = (20, 20|2040)\n",
      "\n"
     ]
    }
   ],
   "source": [
    "a.eels_fit_routine(function_set='Gaussian', fitter='Nelder-Mead', method='ml', samfire=True)"
   ]
  },
  {
   "cell_type": "code",
   "execution_count": 61,
   "metadata": {},
   "outputs": [
    {
     "name": "stdout",
     "output_type": "stream",
     "text": [
      "Reinitialising poissonian noise estimation...\n",
      "Estimate function parameters...\n"
     ]
    },
    {
     "data": {
      "application/vnd.jupyter.widget-view+json": {
       "model_id": "3bd3aa72a49c4877a89dd45cf4f7d411",
       "version_major": 2,
       "version_minor": 0
      },
      "text/plain": [
       "HBox(children=(IntProgress(value=0, max=1), HTML(value='')))"
      ]
     },
     "metadata": {},
     "output_type": "display_data"
    },
    {
     "data": {
      "application/vnd.jupyter.widget-view+json": {
       "model_id": "10e78580687c4e8d939ecf816f5baabe",
       "version_major": 2,
       "version_minor": 0
      },
      "text/plain": [
       "HBox(children=(IntProgress(value=0, max=1), HTML(value='')))"
      ]
     },
     "metadata": {},
     "output_type": "display_data"
    },
    {
     "name": "stdout",
     "output_type": "stream",
     "text": [
      "Estimate function parameters...\n"
     ]
    },
    {
     "data": {
      "application/vnd.jupyter.widget-view+json": {
       "model_id": "1796eb210aa74d3093bb850cb0a46439",
       "version_major": 2,
       "version_minor": 0
      },
      "text/plain": [
       "HBox(children=(IntProgress(value=0, max=1), HTML(value='')))"
      ]
     },
     "metadata": {},
     "output_type": "display_data"
    },
    {
     "data": {
      "application/vnd.jupyter.widget-view+json": {
       "model_id": "95939a4215714847a12465881c72ea30",
       "version_major": 2,
       "version_minor": 0
      },
      "text/plain": [
       "HBox(children=(IntProgress(value=0, max=1), HTML(value='')))"
      ]
     },
     "metadata": {},
     "output_type": "display_data"
    },
    {
     "name": "stdout",
     "output_type": "stream",
     "text": [
      "Estimate function parameters...\n"
     ]
    },
    {
     "data": {
      "application/vnd.jupyter.widget-view+json": {
       "model_id": "54041f0b8c104fd3b10b8aee9a022110",
       "version_major": 2,
       "version_minor": 0
      },
      "text/plain": [
       "HBox(children=(IntProgress(value=0, max=1), HTML(value='')))"
      ]
     },
     "metadata": {},
     "output_type": "display_data"
    },
    {
     "data": {
      "application/vnd.jupyter.widget-view+json": {
       "model_id": "d4ad5e9d11ee44e5ab3ed0575ad0652f",
       "version_major": 2,
       "version_minor": 0
      },
      "text/plain": [
       "HBox(children=(IntProgress(value=0, max=1), HTML(value='')))"
      ]
     },
     "metadata": {},
     "output_type": "display_data"
    },
    {
     "name": "stdout",
     "output_type": "stream",
     "text": [
      "Estimate function parameters...\n"
     ]
    },
    {
     "data": {
      "application/vnd.jupyter.widget-view+json": {
       "model_id": "edbc2b9f3e784b50a7c2c7776af1949c",
       "version_major": 2,
       "version_minor": 0
      },
      "text/plain": [
       "HBox(children=(IntProgress(value=0, max=1), HTML(value='')))"
      ]
     },
     "metadata": {},
     "output_type": "display_data"
    },
    {
     "data": {
      "application/vnd.jupyter.widget-view+json": {
       "model_id": "0227854b9d834aa2ad5dd287d49b3ace",
       "version_major": 2,
       "version_minor": 0
      },
      "text/plain": [
       "HBox(children=(IntProgress(value=0, max=1), HTML(value='')))"
      ]
     },
     "metadata": {},
     "output_type": "display_data"
    },
    {
     "name": "stdout",
     "output_type": "stream",
     "text": [
      "Estimate function parameters...\n"
     ]
    },
    {
     "data": {
      "application/vnd.jupyter.widget-view+json": {
       "model_id": "07bf969cb0c14221aa35be33fde82557",
       "version_major": 2,
       "version_minor": 0
      },
      "text/plain": [
       "HBox(children=(IntProgress(value=0, max=1), HTML(value='')))"
      ]
     },
     "metadata": {},
     "output_type": "display_data"
    },
    {
     "data": {
      "application/vnd.jupyter.widget-view+json": {
       "model_id": "09554160c9904d418c82aebd1febaedc",
       "version_major": 2,
       "version_minor": 0
      },
      "text/plain": [
       "HBox(children=(IntProgress(value=0, max=1), HTML(value='')))"
      ]
     },
     "metadata": {},
     "output_type": "display_data"
    },
    {
     "name": "stdout",
     "output_type": "stream",
     "text": [
      "Estimate function parameters...\n"
     ]
    },
    {
     "data": {
      "application/vnd.jupyter.widget-view+json": {
       "model_id": "7d3d444b793143f492db6862e02ede1d",
       "version_major": 2,
       "version_minor": 0
      },
      "text/plain": [
       "HBox(children=(IntProgress(value=0, max=1), HTML(value='')))"
      ]
     },
     "metadata": {},
     "output_type": "display_data"
    },
    {
     "data": {
      "application/vnd.jupyter.widget-view+json": {
       "model_id": "3856402d7cf2452aa7fa87ef0e27aae2",
       "version_major": 2,
       "version_minor": 0
      },
      "text/plain": [
       "HBox(children=(IntProgress(value=0, max=1), HTML(value='')))"
      ]
     },
     "metadata": {},
     "output_type": "display_data"
    },
    {
     "name": "stderr",
     "output_type": "stream",
     "text": [
      "/home/max/Apps/anaconda3/envs/Hyperspy/lib/python3.6/site-packages/hyperspy/_components/voigt.py:61: RuntimeWarning: invalid value encountered in true_divide\n",
      "  V = wofz(z) / (math.sqrt(2 * np.pi) * sigma)\n",
      "/home/max/Apps/anaconda3/envs/Hyperspy/lib/python3.6/site-packages/hyperspy/_components/voigt.py:62: RuntimeWarning: overflow encountered in multiply\n",
      "  return scale * V.real\n"
     ]
    },
    {
     "name": "stdout",
     "output_type": "stream",
     "text": [
      "Do you want to adjust the starting parameters? (y/n): n\n",
      "Generating seeds...\n"
     ]
    },
    {
     "data": {
      "application/vnd.jupyter.widget-view+json": {
       "model_id": "33fbf49e611f4ef382b1fd8103540814",
       "version_major": 2,
       "version_minor": 0
      },
      "text/plain": [
       "HBox(children=(IntProgress(value=0, max=10), HTML(value='')))"
      ]
     },
     "metadata": {},
     "output_type": "display_data"
    },
    {
     "data": {
      "application/vnd.jupyter.widget-view+json": {
       "model_id": "ac9edfb74a5b41e98c7eb6e74b60be2d",
       "version_major": 2,
       "version_minor": 0
      },
      "text/plain": [
       "HBox(children=(IntProgress(value=0, max=10), HTML(value='')))"
      ]
     },
     "metadata": {},
     "output_type": "display_data"
    },
    {
     "data": {
      "application/vnd.jupyter.widget-view+json": {
       "model_id": "8b2a332ca9e047faaf186d0c14ad8107",
       "version_major": 2,
       "version_minor": 0
      },
      "text/plain": [
       "HBox(children=(IntProgress(value=0, max=10), HTML(value='')))"
      ]
     },
     "metadata": {},
     "output_type": "display_data"
    },
    {
     "data": {
      "application/vnd.jupyter.widget-view+json": {
       "model_id": "7e66803d9d8c4ba880287755df1e7e87",
       "version_major": 2,
       "version_minor": 0
      },
      "text/plain": [
       "HBox(children=(IntProgress(value=0, max=10), HTML(value='')))"
      ]
     },
     "metadata": {},
     "output_type": "display_data"
    },
    {
     "data": {
      "application/vnd.jupyter.widget-view+json": {
       "model_id": "937f2ae0a75446b0b178af533d70ccc4",
       "version_major": 2,
       "version_minor": 0
      },
      "text/plain": [
       "HBox(children=(IntProgress(value=0, max=10), HTML(value='')))"
      ]
     },
     "metadata": {},
     "output_type": "display_data"
    },
    {
     "data": {
      "application/vnd.jupyter.widget-view+json": {
       "model_id": "15fa08f50ca043b7aeea1620ab10ccd1",
       "version_major": 2,
       "version_minor": 0
      },
      "text/plain": [
       "HBox(children=(IntProgress(value=0, max=10), HTML(value='')))"
      ]
     },
     "metadata": {},
     "output_type": "display_data"
    },
    {
     "data": {
      "application/vnd.jupyter.widget-view+json": {
       "model_id": "3677e9acb4c44500a813788e360b3063",
       "version_major": 2,
       "version_minor": 0
      },
      "text/plain": [
       "HBox(children=(IntProgress(value=0, max=10), HTML(value='')))"
      ]
     },
     "metadata": {},
     "output_type": "display_data"
    },
    {
     "data": {
      "application/vnd.jupyter.widget-view+json": {
       "model_id": "47b16941e0ab4534b68547d5bd1834de",
       "version_major": 2,
       "version_minor": 0
      },
      "text/plain": [
       "HBox(children=(IntProgress(value=0, max=10), HTML(value='')))"
      ]
     },
     "metadata": {},
     "output_type": "display_data"
    },
    {
     "data": {
      "application/vnd.jupyter.widget-view+json": {
       "model_id": "0c2dbdfb70f249ad98e3d7d4d7a2c1a9",
       "version_major": 2,
       "version_minor": 0
      },
      "text/plain": [
       "HBox(children=(IntProgress(value=0, max=10), HTML(value='')))"
      ]
     },
     "metadata": {},
     "output_type": "display_data"
    },
    {
     "data": {
      "application/vnd.jupyter.widget-view+json": {
       "model_id": "6bb7de3057244dbd9fde9d6b3954ac30",
       "version_major": 2,
       "version_minor": 0
      },
      "text/plain": [
       "HBox(children=(IntProgress(value=0, max=10), HTML(value='')))"
      ]
     },
     "metadata": {},
     "output_type": "display_data"
    },
    {
     "data": {
      "application/vnd.jupyter.widget-view+json": {
       "model_id": "bb1d6f7016e74be2b7dd9374bed79935",
       "version_major": 2,
       "version_minor": 0
      },
      "text/plain": [
       "HBox(children=(IntProgress(value=0, max=10), HTML(value='')))"
      ]
     },
     "metadata": {},
     "output_type": "display_data"
    },
    {
     "name": "stdout",
     "output_type": "stream",
     "text": [
      "Including gain factor of detector in poissonian noise. Rescaling...\n",
      "Generating seeds...\n"
     ]
    },
    {
     "data": {
      "application/vnd.jupyter.widget-view+json": {
       "model_id": "641509515fe84cc3afcace37ed4d2b1b",
       "version_major": 2,
       "version_minor": 0
      },
      "text/plain": [
       "HBox(children=(IntProgress(value=0, max=10), HTML(value='')))"
      ]
     },
     "metadata": {},
     "output_type": "display_data"
    },
    {
     "data": {
      "application/vnd.jupyter.widget-view+json": {
       "model_id": "55982e86186242cf87536ac759e14fcf",
       "version_major": 2,
       "version_minor": 0
      },
      "text/plain": [
       "HBox(children=(IntProgress(value=0, max=10), HTML(value='')))"
      ]
     },
     "metadata": {},
     "output_type": "display_data"
    },
    {
     "data": {
      "application/vnd.jupyter.widget-view+json": {
       "model_id": "404a5416ab6849148a5eb62787fd424f",
       "version_major": 2,
       "version_minor": 0
      },
      "text/plain": [
       "HBox(children=(IntProgress(value=0, max=10), HTML(value='')))"
      ]
     },
     "metadata": {},
     "output_type": "display_data"
    },
    {
     "data": {
      "application/vnd.jupyter.widget-view+json": {
       "model_id": "27becdac756e4b2587611c8d53d03ec0",
       "version_major": 2,
       "version_minor": 0
      },
      "text/plain": [
       "HBox(children=(IntProgress(value=0, max=10), HTML(value='')))"
      ]
     },
     "metadata": {},
     "output_type": "display_data"
    },
    {
     "data": {
      "application/vnd.jupyter.widget-view+json": {
       "model_id": "056bf941c7e04ef797653ecba24ea699",
       "version_major": 2,
       "version_minor": 0
      },
      "text/plain": [
       "HBox(children=(IntProgress(value=0, max=10), HTML(value='')))"
      ]
     },
     "metadata": {},
     "output_type": "display_data"
    },
    {
     "data": {
      "application/vnd.jupyter.widget-view+json": {
       "model_id": "c7622e3152424c23bed68f89bd758360",
       "version_major": 2,
       "version_minor": 0
      },
      "text/plain": [
       "HBox(children=(IntProgress(value=0, max=10), HTML(value='')))"
      ]
     },
     "metadata": {},
     "output_type": "display_data"
    },
    {
     "data": {
      "application/vnd.jupyter.widget-view+json": {
       "model_id": "a91bd6f60d1d4ba7a472c3c6759af2dc",
       "version_major": 2,
       "version_minor": 0
      },
      "text/plain": [
       "HBox(children=(IntProgress(value=0, max=10), HTML(value='')))"
      ]
     },
     "metadata": {},
     "output_type": "display_data"
    },
    {
     "data": {
      "application/vnd.jupyter.widget-view+json": {
       "model_id": "90d92bc8efcf42b2bee4b65acd205889",
       "version_major": 2,
       "version_minor": 0
      },
      "text/plain": [
       "HBox(children=(IntProgress(value=0, max=10), HTML(value='')))"
      ]
     },
     "metadata": {},
     "output_type": "display_data"
    },
    {
     "data": {
      "application/vnd.jupyter.widget-view+json": {
       "model_id": "a2d78b71342642dcb1cd9d127f6f511b",
       "version_major": 2,
       "version_minor": 0
      },
      "text/plain": [
       "HBox(children=(IntProgress(value=0, max=10), HTML(value='')))"
      ]
     },
     "metadata": {},
     "output_type": "display_data"
    },
    {
     "data": {
      "application/vnd.jupyter.widget-view+json": {
       "model_id": "cd5e311be0844ce0aa7f6bf736592e7b",
       "version_major": 2,
       "version_minor": 0
      },
      "text/plain": [
       "HBox(children=(IntProgress(value=0, max=10), HTML(value='')))"
      ]
     },
     "metadata": {},
     "output_type": "display_data"
    },
    {
     "data": {
      "application/vnd.jupyter.widget-view+json": {
       "model_id": "b7ead6781bea480fa3c42100827429ea",
       "version_major": 2,
       "version_minor": 0
      },
      "text/plain": [
       "HBox(children=(IntProgress(value=0, max=10), HTML(value='')))"
      ]
     },
     "metadata": {},
     "output_type": "display_data"
    },
    {
     "name": "stdout",
     "output_type": "stream",
     "text": [
      "[[       nan        nan        nan        nan        nan        nan\n",
      "         nan        nan        nan        nan        nan        nan\n",
      "         nan        nan        nan        nan        nan        nan\n",
      "         nan        nan]\n",
      " [       nan 1.00482932        nan 0.98678107        nan 1.00210161\n",
      "         nan 1.06821698        nan 0.99961333        nan 1.01902027\n",
      "         nan 1.03772087        nan 1.06776703        nan 1.08520629\n",
      "         nan 1.07188776]\n",
      " [       nan        nan        nan        nan        nan        nan\n",
      "         nan        nan        nan        nan        nan        nan\n",
      "         nan        nan        nan        nan        nan        nan\n",
      "         nan        nan]\n",
      " [       nan 0.99151447        nan 0.96203887        nan 0.9894643\n",
      "         nan 0.9714545         nan 1.0122833         nan 1.07380427\n",
      "         nan 1.03710587        nan 1.02088659        nan 1.05162097\n",
      "         nan 1.04908019]\n",
      " [       nan        nan        nan        nan        nan        nan\n",
      "         nan        nan        nan        nan        nan        nan\n",
      "         nan        nan        nan        nan        nan        nan\n",
      "         nan        nan]\n",
      " [       nan 0.94277515        nan 0.95493096        nan 0.96421849\n",
      "         nan 1.03989073        nan 0.96886564        nan 1.03333312\n",
      "         nan 1.03280802        nan 0.95577111        nan 1.02056653\n",
      "         nan 1.02711015]\n",
      " [       nan        nan        nan        nan        nan        nan\n",
      "         nan        nan        nan        nan        nan        nan\n",
      "         nan        nan        nan        nan        nan        nan\n",
      "         nan        nan]\n",
      " [       nan 0.95934202        nan 0.98091695        nan 0.99436594\n",
      "         nan 0.97112131        nan 1.00334067        nan 1.01128003\n",
      "         nan 1.03832451        nan 1.0645334         nan 1.04899408\n",
      "         nan 1.07178393]\n",
      " [       nan        nan        nan        nan        nan        nan\n",
      "         nan        nan        nan        nan        nan        nan\n",
      "         nan        nan        nan        nan        nan        nan\n",
      "         nan        nan]\n",
      " [       nan 0.98116038        nan 0.95146633        nan 0.98307267\n",
      "         nan 1.00450495        nan 0.99904928        nan 1.00977382\n",
      "         nan 0.97096021        nan 1.01457598        nan 0.99382893\n",
      "         nan 1.05365992]\n",
      " [       nan        nan        nan        nan        nan        nan\n",
      "         nan        nan        nan        nan        nan        nan\n",
      "         nan        nan        nan        nan        nan        nan\n",
      "         nan        nan]\n",
      " [       nan 0.92585802        nan 0.96606269        nan 0.93821533\n",
      "         nan 0.9601198         nan 0.9748719         nan 0.99662824\n",
      "         nan 1.04333089        nan 0.99881271        nan 1.01476404\n",
      "         nan 1.06071236]\n",
      " [       nan        nan        nan        nan        nan        nan\n",
      "         nan        nan        nan        nan        nan        nan\n",
      "         nan        nan        nan        nan        nan        nan\n",
      "         nan        nan]\n",
      " [       nan 0.92502369        nan 0.95784356        nan 1.020108\n",
      "         nan 0.97621545        nan 1.01639212        nan 0.98858736\n",
      "         nan 1.01255829        nan 1.00580026        nan 1.04931691\n",
      "         nan 1.06348092]\n",
      " [       nan        nan        nan        nan        nan        nan\n",
      "         nan        nan        nan        nan        nan        nan\n",
      "         nan        nan        nan        nan        nan        nan\n",
      "         nan        nan]\n",
      " [       nan 0.91828094        nan 0.92959161        nan 0.97371175\n",
      "         nan 0.99856225        nan 1.03091375        nan 0.96530416\n",
      "         nan 1.01420408        nan 1.0301879         nan 1.00644755\n",
      "         nan 0.99036277]\n",
      " [       nan        nan        nan        nan        nan        nan\n",
      "         nan        nan        nan        nan        nan        nan\n",
      "         nan        nan        nan        nan        nan        nan\n",
      "         nan        nan]\n",
      " [       nan 0.93891272        nan 0.96561574        nan 0.96316756\n",
      "         nan 0.96537801        nan 0.94689321        nan 0.99530348\n",
      "         nan 0.98067581        nan 1.03511591        nan 1.0349736\n",
      "         nan 1.03499089]\n",
      " [       nan        nan        nan        nan        nan        nan\n",
      "         nan        nan        nan        nan        nan        nan\n",
      "         nan        nan        nan        nan        nan        nan\n",
      "         nan        nan]\n",
      " [       nan 0.95077883        nan 0.96067611        nan 0.9578154\n",
      "         nan 0.97468398        nan 0.96438006        nan 0.98810063\n",
      "         nan 0.99168503        nan 1.00187811        nan 1.02745484\n",
      "         nan 1.02618772]]\n",
      "1.0000566000839124\n"
     ]
    },
    {
     "data": {
      "application/vnd.jupyter.widget-view+json": {
       "model_id": "48f4b8f279a34df592f9deedbe8a3717",
       "version_major": 2,
       "version_minor": 0
      },
      "text/plain": [
       "HBox(children=(IntProgress(value=0, max=300), HTML(value='')))"
      ]
     },
     "metadata": {},
     "output_type": "display_data"
    },
    {
     "name": "stdout",
     "output_type": "stream",
     "text": [
      "Model will be stored in file...\n",
      "Stored models in file:\n",
      "├── Gaussian_mpfit_ls\n",
      "│   ├── components\n",
      "│   │   ├── First_Plasmon_Peak\n",
      "│   │   ├── Second_Plasmon_Peak\n",
      "│   │   └── Zero_Loss_Peak\n",
      "│   ├── date = 2019-07-11 08:52:58\n",
      "│   └── dimensions = (20, 20|2040)\n",
      "├── Lorentzian_NelderMead_ml\n",
      "│   ├── components\n",
      "│   │   ├── First_Plasmon_Peak\n",
      "│   │   ├── Second_Plasmon_Peak\n",
      "│   │   └── Zero_Loss_Peak\n",
      "│   ├── date = 2019-07-11 09:39:21\n",
      "│   └── dimensions = (20, 20|2040)\n",
      "├── Lorentzian_leastsq_ls\n",
      "│   ├── components\n",
      "│   │   ├── First_Plasmon_Peak\n",
      "│   │   ├── Second_Plasmon_Peak\n",
      "│   │   └── Zero_Loss_Peak\n",
      "│   ├── date = 2019-07-11 09:26:22\n",
      "│   └── dimensions = (20, 20|2040)\n",
      "├── Lorentzian_mpfit_ls\n",
      "│   ├── components\n",
      "│   │   ├── First_Plasmon_Peak\n",
      "│   │   ├── Second_Plasmon_Peak\n",
      "│   │   └── Zero_Loss_Peak\n",
      "│   ├── date = 2019-07-11 08:54:51\n",
      "│   └── dimensions = (20, 20|2040)\n",
      "├── Voigt_NelderMead_ml\n",
      "│   ├── components\n",
      "│   │   ├── First_Plasmon_Peak\n",
      "│   │   ├── Second_Plasmon_Peak\n",
      "│   │   └── Zero_Loss_Peak\n",
      "│   ├── date = 2019-07-11 09:49:15\n",
      "│   └── dimensions = (20, 20|2040)\n",
      "├── Voigt_leastsq_ls\n",
      "│   ├── components\n",
      "│   │   ├── First_Plasmon_Peak\n",
      "│   │   ├── Second_Plasmon_Peak\n",
      "│   │   └── Zero_Loss_Peak\n",
      "│   ├── date = 2019-07-11 09:29:35\n",
      "│   └── dimensions = (20, 20|2040)\n",
      "├── VolumePlasmonDrude_NelderMead_ml\n",
      "│   ├── components\n",
      "│   │   ├── First_Plasmon_Peak\n",
      "│   │   ├── Second_Plasmon_Peak\n",
      "│   │   └── Zero_Loss_Peak\n",
      "│   ├── date = 2019-07-11 09:44:22\n",
      "│   └── dimensions = (20, 20|2040)\n",
      "└── VolumePlasmonDrude_leastsq_ls\n",
      "    ├── components\n",
      "    │   ├── First_Plasmon_Peak\n",
      "    │   ├── Second_Plasmon_Peak\n",
      "    │   └── Zero_Loss_Peak\n",
      "    ├── date = 2019-07-11 09:27:41\n",
      "    └── dimensions = (20, 20|2040)\n",
      "\n"
     ]
    },
    {
     "name": "stderr",
     "output_type": "stream",
     "text": [
      "Process ForkPoolWorker-51:\n",
      "Process ForkPoolWorker-50:\n",
      "Process ForkPoolWorker-49:\n",
      "Traceback (most recent call last):\n",
      "Traceback (most recent call last):\n",
      "Traceback (most recent call last):\n",
      "  File \"/home/max/Apps/anaconda3/envs/Hyperspy/lib/python3.6/multiprocessing/process.py\", line 258, in _bootstrap\n",
      "    self.run()\n",
      "  File \"/home/max/Apps/anaconda3/envs/Hyperspy/lib/python3.6/multiprocessing/process.py\", line 93, in run\n",
      "    self._target(*self._args, **self._kwargs)\n",
      "  File \"/home/max/Apps/anaconda3/envs/Hyperspy/lib/python3.6/multiprocessing/process.py\", line 258, in _bootstrap\n",
      "    self.run()\n",
      "  File \"/home/max/Apps/anaconda3/envs/Hyperspy/lib/python3.6/multiprocessing/process.py\", line 258, in _bootstrap\n",
      "    self.run()\n",
      "  File \"/home/max/Apps/anaconda3/envs/Hyperspy/lib/python3.6/multiprocessing/process.py\", line 93, in run\n",
      "    self._target(*self._args, **self._kwargs)\n",
      "  File \"/home/max/Apps/anaconda3/envs/Hyperspy/lib/python3.6/multiprocessing/pool.py\", line 119, in worker\n",
      "    result = (True, func(*args, **kwds))\n",
      "  File \"/home/max/Apps/anaconda3/envs/Hyperspy/lib/python3.6/multiprocessing/pool.py\", line 119, in worker\n",
      "    result = (True, func(*args, **kwds))\n",
      "  File \"/home/max/Apps/anaconda3/envs/Hyperspy/lib/python3.6/site-packages/hyperspy/samfire_utils/samfire_worker.py\", line 302, in create_worker\n",
      "    w.start_listening()\n",
      "  File \"/home/max/Apps/anaconda3/envs/Hyperspy/lib/python3.6/site-packages/hyperspy/samfire_utils/samfire_worker.py\", line 302, in create_worker\n",
      "    w.start_listening()\n",
      "  File \"/home/max/Apps/anaconda3/envs/Hyperspy/lib/python3.6/multiprocessing/process.py\", line 93, in run\n",
      "    self._target(*self._args, **self._kwargs)\n",
      "  File \"/home/max/Apps/anaconda3/envs/Hyperspy/lib/python3.6/site-packages/hyperspy/samfire_utils/samfire_worker.py\", line 245, in start_listening\n",
      "    self.listen()\n",
      "  File \"/home/max/Apps/anaconda3/envs/Hyperspy/lib/python3.6/site-packages/hyperspy/samfire_utils/samfire_worker.py\", line 281, in listen\n",
      "    self.shared_queue.empty()):\n",
      "  File \"/home/max/Apps/anaconda3/envs/Hyperspy/lib/python3.6/site-packages/hyperspy/samfire_utils/samfire_worker.py\", line 245, in start_listening\n",
      "    self.listen()\n",
      "  File \"<string>\", line 2, in empty\n",
      "  File \"/home/max/Apps/anaconda3/envs/Hyperspy/lib/python3.6/multiprocessing/managers.py\", line 756, in _callmethod\n",
      "    conn.send((self._id, methodname, args, kwds))\n",
      "  File \"/home/max/Apps/anaconda3/envs/Hyperspy/lib/python3.6/site-packages/hyperspy/samfire_utils/samfire_worker.py\", line 292, in listen\n",
      "    self.sleep()\n",
      "  File \"/home/max/Apps/anaconda3/envs/Hyperspy/lib/python3.6/site-packages/hyperspy/samfire_utils/samfire_worker.py\", line 267, in sleep\n",
      "    time.sleep(howlong)\n",
      "  File \"/home/max/Apps/anaconda3/envs/Hyperspy/lib/python3.6/multiprocessing/connection.py\", line 206, in send\n",
      "    self._send_bytes(_ForkingPickler.dumps(obj))\n",
      "  File \"/home/max/Apps/anaconda3/envs/Hyperspy/lib/python3.6/multiprocessing/connection.py\", line 404, in _send_bytes\n",
      "    self._send(header + buf)\n",
      "KeyboardInterrupt\n",
      "  File \"/home/max/Apps/anaconda3/envs/Hyperspy/lib/python3.6/multiprocessing/pool.py\", line 119, in worker\n",
      "    result = (True, func(*args, **kwds))\n",
      "  File \"/home/max/Apps/anaconda3/envs/Hyperspy/lib/python3.6/multiprocessing/connection.py\", line 368, in _send\n",
      "    n = write(self._handle, buf)\n",
      "KeyboardInterrupt\n",
      "  File \"/home/max/Apps/anaconda3/envs/Hyperspy/lib/python3.6/site-packages/hyperspy/samfire_utils/samfire_worker.py\", line 302, in create_worker\n",
      "    w.start_listening()\n",
      "  File \"/home/max/Apps/anaconda3/envs/Hyperspy/lib/python3.6/site-packages/hyperspy/samfire_utils/samfire_worker.py\", line 245, in start_listening\n",
      "    self.listen()\n",
      "  File \"/home/max/Apps/anaconda3/envs/Hyperspy/lib/python3.6/site-packages/hyperspy/samfire_utils/samfire_worker.py\", line 292, in listen\n",
      "    self.sleep()\n",
      "  File \"/home/max/Apps/anaconda3/envs/Hyperspy/lib/python3.6/site-packages/hyperspy/samfire_utils/samfire_worker.py\", line 267, in sleep\n",
      "    time.sleep(howlong)\n",
      "KeyboardInterrupt\n"
     ]
    }
   ],
   "source": [
    "a.eels_fit_routine(function_set='Voigt', fitter='Nelder-Mead', method='ml', samfire=True)"
   ]
  },
  {
   "cell_type": "code",
   "execution_count": 37,
   "metadata": {},
   "outputs": [
    {
     "name": "stdout",
     "output_type": "stream",
     "text": [
      "Reinitialising poissonian noise estimation...\n",
      "Estimate function parameters...\n"
     ]
    },
    {
     "data": {
      "application/vnd.jupyter.widget-view+json": {
       "model_id": "fc289738df4d4c4aa75c438b16828003",
       "version_major": 2,
       "version_minor": 0
      },
      "text/plain": [
       "HBox(children=(IntProgress(value=0, max=1), HTML(value='')))"
      ]
     },
     "metadata": {},
     "output_type": "display_data"
    },
    {
     "data": {
      "application/vnd.jupyter.widget-view+json": {
       "model_id": "db2b62d8cc774a48818dda0138bc747a",
       "version_major": 2,
       "version_minor": 0
      },
      "text/plain": [
       "HBox(children=(IntProgress(value=0, max=1), HTML(value='')))"
      ]
     },
     "metadata": {},
     "output_type": "display_data"
    },
    {
     "name": "stdout",
     "output_type": "stream",
     "text": [
      "Estimate function parameters...\n"
     ]
    },
    {
     "data": {
      "application/vnd.jupyter.widget-view+json": {
       "model_id": "09bcf11d13c6450590a63f2838ab160e",
       "version_major": 2,
       "version_minor": 0
      },
      "text/plain": [
       "HBox(children=(IntProgress(value=0, max=1), HTML(value='')))"
      ]
     },
     "metadata": {},
     "output_type": "display_data"
    },
    {
     "data": {
      "application/vnd.jupyter.widget-view+json": {
       "model_id": "02ce7f4c9bf346e68471eac8d183d66a",
       "version_major": 2,
       "version_minor": 0
      },
      "text/plain": [
       "HBox(children=(IntProgress(value=0, max=1), HTML(value='')))"
      ]
     },
     "metadata": {},
     "output_type": "display_data"
    },
    {
     "name": "stdout",
     "output_type": "stream",
     "text": [
      "52339.63976985681\n",
      "15701.891930957043\n",
      "Estimate function parameters...\n"
     ]
    },
    {
     "data": {
      "application/vnd.jupyter.widget-view+json": {
       "model_id": "9f06a3553ea746ed82ec3f5ac581b152",
       "version_major": 2,
       "version_minor": 0
      },
      "text/plain": [
       "HBox(children=(IntProgress(value=0, max=1), HTML(value='')))"
      ]
     },
     "metadata": {},
     "output_type": "display_data"
    },
    {
     "data": {
      "application/vnd.jupyter.widget-view+json": {
       "model_id": "fb9a9b89a97d47c29479891f8f1e6aff",
       "version_major": 2,
       "version_minor": 0
      },
      "text/plain": [
       "HBox(children=(IntProgress(value=0, max=1), HTML(value='')))"
      ]
     },
     "metadata": {},
     "output_type": "display_data"
    },
    {
     "name": "stdout",
     "output_type": "stream",
     "text": [
      "Estimate function parameters...\n"
     ]
    },
    {
     "data": {
      "application/vnd.jupyter.widget-view+json": {
       "model_id": "c933e38d2da14b8398c1aeb14fe1f81d",
       "version_major": 2,
       "version_minor": 0
      },
      "text/plain": [
       "HBox(children=(IntProgress(value=0, max=1), HTML(value='')))"
      ]
     },
     "metadata": {},
     "output_type": "display_data"
    },
    {
     "data": {
      "application/vnd.jupyter.widget-view+json": {
       "model_id": "7b55880b8e584e2eb89a5dfe89f5ac49",
       "version_major": 2,
       "version_minor": 0
      },
      "text/plain": [
       "HBox(children=(IntProgress(value=0, max=1), HTML(value='')))"
      ]
     },
     "metadata": {},
     "output_type": "display_data"
    },
    {
     "name": "stdout",
     "output_type": "stream",
     "text": [
      "52339.63976985681\n",
      "15701.891930957043\n",
      "Estimate function parameters...\n"
     ]
    },
    {
     "data": {
      "application/vnd.jupyter.widget-view+json": {
       "model_id": "a9fbfcf016bb484eacd74358008ecff9",
       "version_major": 2,
       "version_minor": 0
      },
      "text/plain": [
       "HBox(children=(IntProgress(value=0, max=1), HTML(value='')))"
      ]
     },
     "metadata": {},
     "output_type": "display_data"
    },
    {
     "data": {
      "application/vnd.jupyter.widget-view+json": {
       "model_id": "14650f35e7ef4768800db0b8f3345671",
       "version_major": 2,
       "version_minor": 0
      },
      "text/plain": [
       "HBox(children=(IntProgress(value=0, max=1), HTML(value='')))"
      ]
     },
     "metadata": {},
     "output_type": "display_data"
    },
    {
     "name": "stdout",
     "output_type": "stream",
     "text": [
      "Estimate function parameters...\n"
     ]
    },
    {
     "data": {
      "application/vnd.jupyter.widget-view+json": {
       "model_id": "b274df209ba94d80acebd330033c57c8",
       "version_major": 2,
       "version_minor": 0
      },
      "text/plain": [
       "HBox(children=(IntProgress(value=0, max=1), HTML(value='')))"
      ]
     },
     "metadata": {},
     "output_type": "display_data"
    },
    {
     "data": {
      "application/vnd.jupyter.widget-view+json": {
       "model_id": "416d50d016e34efc82bf5996118aa958",
       "version_major": 2,
       "version_minor": 0
      },
      "text/plain": [
       "HBox(children=(IntProgress(value=0, max=1), HTML(value='')))"
      ]
     },
     "metadata": {},
     "output_type": "display_data"
    },
    {
     "name": "stdout",
     "output_type": "stream",
     "text": [
      "52339.63976985681\n",
      "15701.891930957043\n",
      "52339.63976985681\n",
      "15701.891930957043\n",
      "Do you want to adjust the starting parameters? (y/n): n\n",
      "Correcting poissonian noise for the gain factor of\n",
      "the EELS - detector by generating statistics on the\n",
      ":reduced Chi-squared.\n",
      "Including gain factor of detector in poissonian noise. Rescaling...\n",
      "Generating_seeds for SAMFire...\n"
     ]
    },
    {
     "data": {
      "application/vnd.jupyter.widget-view+json": {
       "model_id": "36a6ddeedcd347d8879462ac110858a1",
       "version_major": 2,
       "version_minor": 0
      },
      "text/plain": [
       "HBox(children=(IntProgress(value=0, max=300), HTML(value='')))"
      ]
     },
     "metadata": {},
     "output_type": "display_data"
    },
    {
     "name": "stdout",
     "output_type": "stream",
     "text": [
      "Adj. fit goodness (reduced Chi squared):  0.9976874274182446\n",
      "Standard deviation of adj. fit goodness:  0.03589496022426341\n",
      "Model will be stored in file...\n",
      "Stored models in file:\n",
      "{'VolumePlasmonDrude_leastsq_ls': <EELSModel, title: AlYFe SB3>, 'VolumePlasmonDrude_Nelder-Mead_ml': <EELSModel, title: AlYFe SB3>}\n"
     ]
    }
   ],
   "source": [
    "a.eels_fit_routine(function_set='VolumePlasmonDrude', fitter='Nelder-Mead', method='ml', samfire=True)"
   ]
  },
  {
   "cell_type": "code",
   "execution_count": 40,
   "metadata": {},
   "outputs": [
    {
     "name": "stdout",
     "output_type": "stream",
     "text": [
      "Modelinformation of loaded file: \n",
      "├── Gaussian_NelderMead_ml\n",
      "│   ├── components\n",
      "│   │   ├── First_Plasmon_Peak\n",
      "│   │   ├── Second_Plasmon_Peak\n",
      "│   │   └── Zero_Loss_Peak\n",
      "│   ├── date = 2019-07-11 10:03:23\n",
      "│   └── dimensions = (20, 20|2040)\n",
      "├── Gaussian_leastsq_ls\n",
      "│   ├── components\n",
      "│   │   ├── First_Plasmon_Peak\n",
      "│   │   ├── Second_Plasmon_Peak\n",
      "│   │   └── Zero_Loss_Peak\n",
      "│   ├── date = 2019-07-11 10:09:51\n",
      "│   └── dimensions = (20, 20|2040)\n",
      "├── Gaussian_mpfit_ls\n",
      "│   ├── components\n",
      "│   │   ├── First_Plasmon_Peak\n",
      "│   │   ├── Second_Plasmon_Peak\n",
      "│   │   └── Zero_Loss_Peak\n",
      "│   ├── date = 2019-07-11 08:52:58\n",
      "│   └── dimensions = (20, 20|2040)\n",
      "├── Lorentzian_NelderMead_ml\n",
      "│   ├── components\n",
      "│   │   ├── First_Plasmon_Peak\n",
      "│   │   ├── Second_Plasmon_Peak\n",
      "│   │   └── Zero_Loss_Peak\n",
      "│   ├── date = 2019-07-11 10:08:34\n",
      "│   └── dimensions = (20, 20|2040)\n",
      "├── Lorentzian_leastsq_ls\n",
      "│   ├── components\n",
      "│   │   ├── First_Plasmon_Peak\n",
      "│   │   ├── Second_Plasmon_Peak\n",
      "│   │   └── Zero_Loss_Peak\n",
      "│   ├── date = 2019-07-11 09:26:22\n",
      "│   └── dimensions = (20, 20|2040)\n",
      "├── Lorentzian_mpfit_ls\n",
      "│   ├── components\n",
      "│   │   ├── First_Plasmon_Peak\n",
      "│   │   ├── Second_Plasmon_Peak\n",
      "│   │   └── Zero_Loss_Peak\n",
      "│   ├── date = 2019-07-11 08:54:51\n",
      "│   └── dimensions = (20, 20|2040)\n",
      "├── Voigt_NelderMead_ml\n",
      "│   ├── components\n",
      "│   │   ├── First_Plasmon_Peak\n",
      "│   │   ├── Second_Plasmon_Peak\n",
      "│   │   └── Zero_Loss_Peak\n",
      "│   ├── date = 2019-07-11 09:49:15\n",
      "│   └── dimensions = (20, 20|2040)\n",
      "├── Voigt_leastsq_ls\n",
      "│   ├── components\n",
      "│   │   ├── First_Plasmon_Peak\n",
      "│   │   ├── Second_Plasmon_Peak\n",
      "│   │   └── Zero_Loss_Peak\n",
      "│   ├── date = 2019-07-11 09:29:35\n",
      "│   └── dimensions = (20, 20|2040)\n",
      "├── Voigt_mpfit_ls\n",
      "│   ├── components\n",
      "│   │   ├── First_Plasmon_Peak\n",
      "│   │   ├── Second_Plasmon_Peak\n",
      "│   │   └── Zero_Loss_Peak\n",
      "│   ├── date = 2019-07-11 10:28:54\n",
      "│   └── dimensions = (20, 20|2040)\n",
      "├── VolumePlasmonDrude_NelderMead_ml\n",
      "│   ├── components\n",
      "│   │   ├── First_Plasmon_Peak\n",
      "│   │   ├── Second_Plasmon_Peak\n",
      "│   │   └── Zero_Loss_Peak\n",
      "│   ├── date = 2019-07-11 19:27:05\n",
      "│   └── dimensions = (20, 20|2040)\n",
      "├── VolumePlasmonDrude_leastsq_ls\n",
      "│   ├── components\n",
      "│   │   ├── First_Plasmon_Peak\n",
      "│   │   ├── Second_Plasmon_Peak\n",
      "│   │   └── Zero_Loss_Peak\n",
      "│   ├── date = 2019-07-11 19:24:09\n",
      "│   └── dimensions = (20, 20|2040)\n",
      "└── VolumePlasmonDrude_mpfit_ls\n",
      "    ├── components\n",
      "    │   ├── First_Plasmon_Peak\n",
      "    │   ├── Second_Plasmon_Peak\n",
      "    │   └── Zero_Loss_Peak\n",
      "    ├── date = 2019-07-11 19:28:34\n",
      "    └── dimensions = (20, 20|2040)\n",
      "\n",
      "Available models: \n",
      "\n",
      "For VolumePlasmonDrude_leastsq_ls type: \"0\" or the full model name.\n",
      "\n",
      "For VolumePlasmonDrude_mpfit_ls type: \"1\" or the full model name.\n",
      "\n",
      "For VolumePlasmonDrude_NelderMead_ml type: \"2\" or the full model name.\n",
      "\n",
      "For Lorentzian_leastsq_ls type: \"3\" or the full model name.\n",
      "\n",
      "For Lorentzian_mpfit_ls type: \"4\" or the full model name.\n",
      "\n",
      "For Lorentzian_NelderMead_ml type: \"5\" or the full model name.\n",
      "\n",
      "For Gaussian_leastsq_ls type: \"6\" or the full model name.\n",
      "\n",
      "For Gaussian_mpfit_ls type: \"7\" or the full model name.\n",
      "\n",
      "For Gaussian_NelderMead_ml type: \"8\" or the full model name.\n",
      "\n",
      "For Voigt_leastsq_ls type: \"9\" or the full model name.\n",
      "\n",
      "For Voigt_mpfit_ls type: \"10\" or the full model name.\n",
      "\n",
      "For Voigt_NelderMead_ml type: \"11\" or the full model name.\n",
      "\n",
      "\n",
      "If you want to exit the model loading process,please type: (\"exit\"/\"cancel\")\n",
      "Which model should be loaded? 2\n",
      "Loading parameter maps for: VolumePlasmonDrude_NelderMead_ml\n"
     ]
    }
   ],
   "source": [
    "a.load_model()"
   ]
  },
  {
   "cell_type": "code",
   "execution_count": 41,
   "metadata": {},
   "outputs": [
    {
     "name": "stdout",
     "output_type": "stream",
     "text": [
      "0.9976874274182446\n",
      "0.03589496022426341\n"
     ]
    }
   ],
   "source": [
    "a.Fit_Model.plot(plot_components=True)\n",
    "a.Fit_Model.red_chisq.plot()\n",
    "print(np.mean(a.Fit_Model.red_chisq.data))\n",
    "print(np.std(a.Fit_Model.red_chisq.data))\n",
    "#a.plot_parameter_maps(False)"
   ]
  },
  {
   "cell_type": "code",
   "execution_count": 42,
   "metadata": {},
   "outputs": [
    {
     "name": "stdout",
     "output_type": "stream",
     "text": [
      "Overwrite 'AlYFe-SB3_cropped_all_models.hspy' (y/n)?\n",
      "y\n"
     ]
    }
   ],
   "source": [
    "a.save_models_to_file('AlYFe-SB3_cropped_all_models.hspy')"
   ]
  },
  {
   "cell_type": "code",
   "execution_count": 15,
   "metadata": {},
   "outputs": [
    {
     "ename": "TypeError",
     "evalue": "__getitem__() got an unexpected keyword argument 'out'",
     "output_type": "error",
     "traceback": [
      "\u001b[0;31m--------------------------------------------------------------------------\u001b[0m",
      "\u001b[0;31mTypeError\u001b[0m                                Traceback (most recent call last)",
      "\u001b[0;32m<ipython-input-15-cdddee39e946>\u001b[0m in \u001b[0;36m<module>\u001b[0;34m\u001b[0m\n\u001b[1;32m      2\u001b[0m \u001b[0mim\u001b[0m\u001b[0;34m.\u001b[0m\u001b[0mplot\u001b[0m\u001b[0;34m(\u001b[0m\u001b[0;34m)\u001b[0m\u001b[0;34m\u001b[0m\u001b[0;34m\u001b[0m\u001b[0m\n\u001b[1;32m      3\u001b[0m \u001b[0mroi\u001b[0m\u001b[0;34m=\u001b[0m\u001b[0mhs\u001b[0m\u001b[0;34m.\u001b[0m\u001b[0mroi\u001b[0m\u001b[0;34m.\u001b[0m\u001b[0mRectangularROI\u001b[0m\u001b[0;34m(\u001b[0m\u001b[0mleft\u001b[0m\u001b[0;34m=\u001b[0m\u001b[0;36m0\u001b[0m\u001b[0;34m,\u001b[0m \u001b[0mright\u001b[0m\u001b[0;34m=\u001b[0m\u001b[0;36m5.\u001b[0m\u001b[0;34m,\u001b[0m \u001b[0mtop\u001b[0m\u001b[0;34m=\u001b[0m\u001b[0;36m0\u001b[0m\u001b[0;34m,\u001b[0m \u001b[0mbottom\u001b[0m\u001b[0;34m=\u001b[0m\u001b[0;36m5\u001b[0m\u001b[0;34m)\u001b[0m\u001b[0;34m\u001b[0m\u001b[0;34m\u001b[0m\u001b[0m\n\u001b[0;32m----> 4\u001b[0;31m \u001b[0mimr\u001b[0m\u001b[0;34m=\u001b[0m\u001b[0mroi\u001b[0m\u001b[0;34m.\u001b[0m\u001b[0minteractive\u001b[0m\u001b[0;34m(\u001b[0m\u001b[0mim\u001b[0m\u001b[0;34m)\u001b[0m\u001b[0;34m\u001b[0m\u001b[0;34m\u001b[0m\u001b[0m\n\u001b[0m\u001b[1;32m      5\u001b[0m \u001b[0mimr\u001b[0m\u001b[0;34m.\u001b[0m\u001b[0mplot\u001b[0m\u001b[0;34m(\u001b[0m\u001b[0;34m)\u001b[0m\u001b[0;34m\u001b[0m\u001b[0;34m\u001b[0m\u001b[0m\n",
      "\u001b[0;32m~/Apps/anaconda3/envs/Hyperspy/lib/python3.6/site-packages/hyperspy/roi.py\u001b[0m in \u001b[0;36minteractive\u001b[0;34m(self, signal, navigation_signal, out, color, **kwargs)\u001b[0m\n\u001b[1;32m    381\u001b[0m                                \u001b[0mevent\u001b[0m\u001b[0;34m=\u001b[0m\u001b[0mself\u001b[0m\u001b[0;34m.\u001b[0m\u001b[0mevents\u001b[0m\u001b[0;34m.\u001b[0m\u001b[0mchanged\u001b[0m\u001b[0;34m,\u001b[0m\u001b[0;34m\u001b[0m\u001b[0;34m\u001b[0m\u001b[0m\n\u001b[1;32m    382\u001b[0m                                \u001b[0msignal\u001b[0m\u001b[0;34m=\u001b[0m\u001b[0msignal\u001b[0m\u001b[0;34m,\u001b[0m\u001b[0;34m\u001b[0m\u001b[0;34m\u001b[0m\u001b[0m\n\u001b[0;32m--> 383\u001b[0;31m                                **kwargs)\n\u001b[0m\u001b[1;32m    384\u001b[0m         \u001b[0;32melse\u001b[0m\u001b[0;34m:\u001b[0m\u001b[0;34m\u001b[0m\u001b[0;34m\u001b[0m\u001b[0m\n\u001b[1;32m    385\u001b[0m             return interactive(self.__call__,\n",
      "\u001b[0;32m~/Apps/anaconda3/envs/Hyperspy/lib/python3.6/site-packages/hyperspy/interactive.py\u001b[0m in \u001b[0;36minteractive\u001b[0;34m(f, event, recompute_out_event, *args, **kwargs)\u001b[0m\n\u001b[1;32m    129\u001b[0m \u001b[0;34m\u001b[0m\u001b[0m\n\u001b[1;32m    130\u001b[0m \u001b[0;32mdef\u001b[0m \u001b[0minteractive\u001b[0m\u001b[0;34m(\u001b[0m\u001b[0mf\u001b[0m\u001b[0;34m,\u001b[0m \u001b[0mevent\u001b[0m\u001b[0;34m=\u001b[0m\u001b[0;34m\"auto\"\u001b[0m\u001b[0;34m,\u001b[0m \u001b[0mrecompute_out_event\u001b[0m\u001b[0;34m=\u001b[0m\u001b[0;34m\"auto\"\u001b[0m\u001b[0;34m,\u001b[0m \u001b[0;34m*\u001b[0m\u001b[0margs\u001b[0m\u001b[0;34m,\u001b[0m \u001b[0;34m**\u001b[0m\u001b[0mkwargs\u001b[0m\u001b[0;34m)\u001b[0m\u001b[0;34m:\u001b[0m\u001b[0;34m\u001b[0m\u001b[0;34m\u001b[0m\u001b[0m\n\u001b[0;32m--> 131\u001b[0;31m     \u001b[0mcls\u001b[0m \u001b[0;34m=\u001b[0m \u001b[0mInteractive\u001b[0m\u001b[0;34m(\u001b[0m\u001b[0mf\u001b[0m\u001b[0;34m,\u001b[0m \u001b[0mevent\u001b[0m\u001b[0;34m,\u001b[0m \u001b[0mrecompute_out_event\u001b[0m\u001b[0;34m,\u001b[0m \u001b[0;34m*\u001b[0m\u001b[0margs\u001b[0m\u001b[0;34m,\u001b[0m \u001b[0;34m**\u001b[0m\u001b[0mkwargs\u001b[0m\u001b[0;34m)\u001b[0m\u001b[0;34m\u001b[0m\u001b[0;34m\u001b[0m\u001b[0m\n\u001b[0m\u001b[1;32m    132\u001b[0m     \u001b[0;32mreturn\u001b[0m \u001b[0mcls\u001b[0m\u001b[0;34m.\u001b[0m\u001b[0mout\u001b[0m\u001b[0;34m\u001b[0m\u001b[0;34m\u001b[0m\u001b[0m\n\u001b[1;32m    133\u001b[0m \u001b[0;34m\u001b[0m\u001b[0m\n",
      "\u001b[0;32m~/Apps/anaconda3/envs/Hyperspy/lib/python3.6/site-packages/hyperspy/interactive.py\u001b[0m in \u001b[0;36m__init__\u001b[0;34m(self, f, event, recompute_out_event, *args, **kwargs)\u001b[0m\n\u001b[1;32m     80\u001b[0m             \u001b[0mself\u001b[0m\u001b[0;34m.\u001b[0m\u001b[0mout\u001b[0m \u001b[0;34m=\u001b[0m \u001b[0mself\u001b[0m\u001b[0;34m.\u001b[0m\u001b[0mkwargs\u001b[0m\u001b[0;34m.\u001b[0m\u001b[0mpop\u001b[0m\u001b[0;34m(\u001b[0m\u001b[0;34m'out'\u001b[0m\u001b[0;34m)\u001b[0m\u001b[0;34m\u001b[0m\u001b[0;34m\u001b[0m\u001b[0m\n\u001b[1;32m     81\u001b[0m         \u001b[0;32melse\u001b[0m\u001b[0;34m:\u001b[0m\u001b[0;34m\u001b[0m\u001b[0;34m\u001b[0m\u001b[0m\n\u001b[0;32m---> 82\u001b[0;31m             \u001b[0mself\u001b[0m\u001b[0;34m.\u001b[0m\u001b[0mout\u001b[0m \u001b[0;34m=\u001b[0m \u001b[0mself\u001b[0m\u001b[0;34m.\u001b[0m\u001b[0mf\u001b[0m\u001b[0;34m(\u001b[0m\u001b[0;34m*\u001b[0m\u001b[0mself\u001b[0m\u001b[0;34m.\u001b[0m\u001b[0margs\u001b[0m\u001b[0;34m,\u001b[0m \u001b[0;34m**\u001b[0m\u001b[0mself\u001b[0m\u001b[0;34m.\u001b[0m\u001b[0mkwargs\u001b[0m\u001b[0;34m)\u001b[0m\u001b[0;34m\u001b[0m\u001b[0;34m\u001b[0m\u001b[0m\n\u001b[0m\u001b[1;32m     83\u001b[0m         \u001b[0;31m# Reuse the `_plot_kwargs` for the roi if available\u001b[0m\u001b[0;34m\u001b[0m\u001b[0;34m\u001b[0m\u001b[0;34m\u001b[0m\u001b[0m\n\u001b[1;32m     84\u001b[0m         \u001b[0;32mif\u001b[0m \u001b[0m_plot_kwargs\u001b[0m \u001b[0;32mand\u001b[0m \u001b[0;34m'signal'\u001b[0m \u001b[0;32min\u001b[0m \u001b[0mself\u001b[0m\u001b[0;34m.\u001b[0m\u001b[0mkwargs\u001b[0m\u001b[0;34m:\u001b[0m\u001b[0;34m\u001b[0m\u001b[0;34m\u001b[0m\u001b[0m\n",
      "\u001b[0;32m~/Apps/anaconda3/envs/Hyperspy/lib/python3.6/site-packages/hyperspy/roi.py\u001b[0m in \u001b[0;36m__call__\u001b[0;34m(self, signal, out, axes)\u001b[0m\n\u001b[1;32m    193\u001b[0m             \u001b[0mslices\u001b[0m \u001b[0;34m=\u001b[0m \u001b[0mslices\u001b[0m\u001b[0;34m[\u001b[0m\u001b[0mnav_dim\u001b[0m\u001b[0;34m:\u001b[0m\u001b[0;34m]\u001b[0m\u001b[0;34m\u001b[0m\u001b[0;34m\u001b[0m\u001b[0m\n\u001b[1;32m    194\u001b[0m \u001b[0;34m\u001b[0m\u001b[0m\n\u001b[0;32m--> 195\u001b[0;31m         \u001b[0mroi\u001b[0m \u001b[0;34m=\u001b[0m \u001b[0mslicer\u001b[0m\u001b[0;34m(\u001b[0m\u001b[0mslices\u001b[0m\u001b[0;34m,\u001b[0m \u001b[0mout\u001b[0m\u001b[0;34m=\u001b[0m\u001b[0mout\u001b[0m\u001b[0;34m)\u001b[0m\u001b[0;34m\u001b[0m\u001b[0;34m\u001b[0m\u001b[0m\n\u001b[0m\u001b[1;32m    196\u001b[0m         \u001b[0;32mreturn\u001b[0m \u001b[0mroi\u001b[0m\u001b[0;34m\u001b[0m\u001b[0;34m\u001b[0m\u001b[0m\n\u001b[1;32m    197\u001b[0m \u001b[0;34m\u001b[0m\u001b[0m\n",
      "\u001b[0;31mTypeError\u001b[0m: __getitem__() got an unexpected keyword argument 'out'"
     ]
    }
   ],
   "source": [
    "im=a.Fit_Model\n",
    "im.plot()\n",
    "roi=hs.roi.RectangularROI(left=0, right=5., top=0, bottom=5)\n",
    "imr=roi.interactive(im)\n",
    "imr.plot()"
   ]
  },
  {
   "cell_type": "code",
   "execution_count": 57,
   "metadata": {},
   "outputs": [],
   "source": [
    "imr.plot()"
   ]
  },
  {
   "cell_type": "code",
   "execution_count": 14,
   "metadata": {},
   "outputs": [],
   "source": [
    "roi = hs.roi.RectangularROI(0,0,10,10)\n",
    "im_roi = roi(a.File)\n",
    "im_roi.plot()"
   ]
  },
  {
   "cell_type": "code",
   "execution_count": 97,
   "metadata": {},
   "outputs": [
    {
     "data": {
      "application/vnd.jupyter.widget-view+json": {
       "model_id": "34a0cdbe9fdd45dca58e687fac0655d7",
       "version_major": 2,
       "version_minor": 0
      },
      "text/plain": [
       "HBox(children=(IntProgress(value=0), HTML(value='')))"
      ]
     },
     "metadata": {},
     "output_type": "display_data"
    },
    {
     "name": "stdout",
     "output_type": "stream",
     "text": [
      "No information on used beam energy found in metadata! Using default (300 keV).\n",
      "No information on detector collection angle found in metadata! Using default (10 mrad).\n"
     ]
    }
   ],
   "source": [
    "a.thickness(['Al','Y','Fe'], [0.88,0.07,0.05])\n",
    "a.thickness_map.plot()\n",
    "#a.thickness_map.save(filename='thickness map', extension='pgf')\n",
    "plt.savefig(fname='thickness map', dpi=300, format='pgf')\n",
    "plt.close()"
   ]
  },
  {
   "cell_type": "code",
   "execution_count": 19,
   "metadata": {},
   "outputs": [],
   "source": [
    "sympy.init_printing()\n",
    "x, t = sympy.symbols('x t', real=True)\n",
    "\n",
    "mu = sympy.symbols('mu', real=True)\n",
    "sigma, a, b, lamb, nu = sympy.symbols('sigma a b lambda nu', positive=True)\n",
    "\n",
    "def area(dist):\n",
    "    return sympy.simplify(sympy.integrate(dist, (x, -sympy.oo, sympy.oo)))\n",
    "def mean(dist):\n",
    "    return area(dist*x)\n",
    "def EX2(dist):\n",
    "    return area(dist*x**2)\n",
    "def variance(dist):\n",
    "    return sympy.simplify(EX2(dist) - mean(dist)**2)\n",
    "def mgf(dist):\n",
    "    return sympy.simplify(area(dist*sympy.exp(x*t)))\n",
    "def latex(result):\n",
    "    return \"$\" + sympy.latex(result) + \"$\\n\" \n",
    "def summarize(dist):\n",
    "    print(\"Distribution: \" + latex(dist))\n",
    "    print(\"Area: \" + latex(area(dist)))\n",
    "    print(\"Mean: \" + latex(mean(dist)))\n",
    "    print(\"Variance: \" + latex(variance(dist)))\n",
    "    print(\"MGF: \" + latex(mgf(dist)))\n",
    "summarise = summarize  # alias\n",
    "gamma = sympy.Piecewise(\n",
    "    (0, x < 0),\n",
    "    (b**a / sympy.gamma(a) * x**(a-1) * sympy.exp(-x*b), True)\n",
    ")\n",
    "summarize(gamma)"
   ]
  }
 ],
 "metadata": {
  "_draft": {
   "nbviewer_url": "https://gist.github.com/bca836641b9329485504061850cb8679"
  },
  "gist": {
   "data": {
    "description": "STZ_Heatmapv02.ipynb",
    "public": false
   },
   "id": "bca836641b9329485504061850cb8679"
  },
  "kernelspec": {
   "display_name": "Python 3",
   "language": "python",
   "name": "python3"
  },
  "language_info": {
   "codemirror_mode": {
    "name": "ipython",
    "version": 3
   },
   "file_extension": ".py",
   "mimetype": "text/x-python",
   "name": "python",
   "nbconvert_exporter": "python",
   "pygments_lexer": "ipython3",
   "version": "3.6.7"
  },
  "latex_envs": {
   "LaTeX_envs_menu_present": true,
   "autoclose": false,
   "autocomplete": true,
   "bibliofile": "biblio.bib",
   "cite_by": "apalike",
   "current_citInitial": 1,
   "eqLabelWithNumbers": true,
   "eqNumInitial": 1,
   "hotkeys": {
    "equation": "Ctrl-E",
    "itemize": "Ctrl-I"
   },
   "labels_anchors": false,
   "latex_user_defs": false,
   "report_style_numbering": false,
   "user_envs_cfg": false
  },
  "toc": {
   "base_numbering": 1,
   "nav_menu": {},
   "number_sections": true,
   "sideBar": true,
   "skip_h1_title": false,
   "title_cell": "Table of Contents",
   "title_sidebar": "Contents",
   "toc_cell": false,
   "toc_position": {},
   "toc_section_display": true,
   "toc_window_display": false
  }
 },
 "nbformat": 4,
 "nbformat_minor": 2
}
