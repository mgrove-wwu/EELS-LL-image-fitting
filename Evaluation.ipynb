{
 "cells": [
  {
   "cell_type": "markdown",
   "metadata": {},
   "source": [
    "# Preamble"
   ]
  },
  {
   "cell_type": "code",
   "execution_count": null,
   "metadata": {},
   "outputs": [],
   "source": [
    "# Plotting the line scans requires (inline only chosen for github presentation):\n",
    "%matplotlib qt5\n",
    "#%matplotlib inline\n",
    "from pl_analysis import EELS_image_fit as eif_class"
   ]
  },
  {
   "cell_type": "code",
   "execution_count": null,
   "metadata": {},
   "outputs": [],
   "source": [
    "######## Loading an EEL spectrum image\n",
    "######## For more information, see docstring.\n",
    "eif = eif_class(is_lazy=True)"
   ]
  },
  {
   "cell_type": "code",
   "execution_count": null,
   "metadata": {},
   "outputs": [],
   "source": [
    "eif.load_model()"
   ]
  },
  {
   "cell_type": "code",
   "execution_count": null,
   "metadata": {},
   "outputs": [],
   "source": [
    "#eif.File.metadata.General.title = ('$\\mathrm{Al}_{88}\\mathrm{Y}_8\\mathrm{Fe}_5$'\n",
    "#                                  )\n",
    "#eif.File.plot()\n",
    "\n",
    "eif.Fit_Model.signal.metadata.General.title = ('Vitreloy 105'\n",
    "                                               + ' - ' + eif.function_set + ' ' + eif.optimizer + ' -'\n",
    "                                              )\n",
    "\n",
    "eif.Fit_Model.plot(plot_components=True)"
   ]
  },
  {
   "cell_type": "code",
   "execution_count": null,
   "metadata": {},
   "outputs": [],
   "source": [
    "#AlYFe1 Linescan1: x1=23.4343, y1=2.45814, x2=27.2907, y2=44.7392, linewidth=41.5702\n",
    "#AlYFe1 Linescan2: x1=124.456, y1=4.75241, x2=126.787, y2=45.481, linewidth=47.092\n",
    "#AlYFe1 Linescan3: x1=180.1, y1=3.60528, x2=181.793, y2=47.9391, linewidth=35.4463\n",
    "\n",
    "#AlYFe_2 Linescan1: x1=120.22, y1=3.85437, x2=116.264, y2=30., linewidth=32.9363\n",
    "\n",
    "#AlYFe_3 Linescan1: x1=0.0399926, y1=0.0955755, x2=0.143949, y2=0.0883665, linewidth=0.0464481\n",
    "#AlYFe_3 Linescan2: x1=0.0471099, y1=0.205386, x2=0.149372, y2=0.202922, linewidth=0.0481503\n",
    "\n",
    "#CuZr Linescan1: x1=0.273769, y1=0.62632, x2=0.38481, y2=0.595552, linewidth=0.0454989\n",
    "#CuZr Linescan2: x1=0.489435, y1=0.364368, x2=0.597522, y2=0.396627, linewidth=0.0625465\n",
    "\n",
    "#PdNiP Linescan1: x1=0.0117218, y1=0.117218, x2=0.134565, y2=0.112587, linewidth=0.15053\n",
    "#PdNiP Linescan2: x1=0.028572, y1=0.373633, x2=0.137496, y2=0.369735, linewidth=0.152936\n",
    "\n",
    "#Vitreloy Compression Linescan1: x1=0.00815447, y1=0.0828949, x2=0.121439, y2=0.0818016, linewidth=0.152995\n",
    "#Vitreloy Compression Linescan2: x1=0.00560853, y1=0.255188, x2=0.120358, y2=0.256365, linewidth=0.113053\n",
    "#Vitreloy Compression Linescan3: x1=0.00516142, y1=0.459246, x2=0.123072, y2=0.458017, linewidth=0.134493\n",
    "\n",
    "#Vitreloy Tension Linescan1: x1=0.0928041, y1=0.563484, x2=0.318622, y2=0.564782, linewidth=0.212625\n",
    "#Vitreloy Tension Linescan2: x1=0.101366, y1=0.78515, x2=0.300547, y2=0.786448, linewidth=0.132079\n",
    "#Vitreloy Tension Linescan3: x1=0.0889986, y1=0.909777, x2=0.302449, y2=0.904416, linewidth=0.11746"
   ]
  },
  {
   "cell_type": "markdown",
   "metadata": {},
   "source": [
    "# Full evaluation of a fitted model"
   ]
  },
  {
   "cell_type": "code",
   "execution_count": null,
   "metadata": {},
   "outputs": [],
   "source": [
    "# printing goodness of fit:\n",
    "print('adj. reduced Chi squared: %.3f +- %.3f', \n",
    "      round(eif.red_Chisq.std(axis=(0,1)).data,2)\n",
    "      round(eif.red_Chisq.std(axis=(0,1)).data,2)\n",
    "     )"
   ]
  },
  {
   "cell_type": "code",
   "execution_count": null,
   "metadata": {},
   "outputs": [],
   "source": [
    "import scipy\n",
    "import mayavi.mlab as mlab\n",
    "param_map = eif.Ep_q0\n",
    "sigma = 5\n",
    "\n",
    "gaus_filt = scipy.ndimage.filters.gaussian_filter(param_map.data, sigma= (sigma, sigma))\n",
    "        \n",
    "surf=mlab.surf(gaus_filt, color=(1.,1.,1.), warp_scale='auto')\n",
    "mlab.title(r'plasmon energy')\n",
    "mlab.outline(surf)\n",
    "#mlab.axes()\n",
    "#mlab.colorbar(colormap='grey',title='plasmon energy', orientation='vertical', label_fmt='%.3f')"
   ]
  },
  {
   "cell_type": "code",
   "execution_count": null,
   "metadata": {},
   "outputs": [],
   "source": [
    "# three dimensional plot of Plasmon resonance energy Ep(q=0)\n",
    "eif.plot_3D(eif.Ep_q0, 'plasmon energy')"
   ]
  },
  {
   "cell_type": "code",
   "execution_count": null,
   "metadata": {
    "scrolled": true
   },
   "outputs": [],
   "source": [
    "######### Loading a new model and correspond parameters\n",
    "######### into class attribute for analysis.\n",
    "######### Plotting a signal or linescan as follows:\n",
    "######### Attributes can be found directly in eif.\n",
    "######### See hyperspy documentation of plot() function\n",
    "######### for more information on arguments.\n",
    "eif.load_model(mkey='3')\n",
    "#eif.Fit_Model.signal.metadata.General.title = ('$\\mathrm{Al}_{88}\\mathrm{Y}_8\\mathrm{Fe}_5$' \n",
    "#                                               + ' - ' + eif.function_set + ' ' + eif.optimizer + ' -'\n",
    "#                                              )\n",
    "\n",
    "#eif.Fit_Model.plot(plot_components=True)\n",
    "\n",
    "#### The line to specify the spatial location of\n",
    "#### the line scan can be read out by:\n",
    "#eif.line\n",
    "#will be None if not initiated.\n",
    "\n",
    "import hyperspy.api as hs\n",
    "#### A line can be set manually with source and \n",
    "#### destination coordinates as follows_\n",
    "#### Manually setting the line to none to enable\n",
    "#### interactive mode.\n",
    "#### The else clause is actually not needed if \n",
    "#### a previous line scan was run with the \n",
    "#### line in demand. Just added to make sure\n",
    "#### it is set correctly every time. Until now\n",
    "#### no issue was experienced with not adding\n",
    "#### the else-clause.\n",
    "new_line=False\n",
    "if new_line:\n",
    "    eif.line=None\n",
    "else:\n",
    "    eif.line = hs.roi.Line2DROI(x1=0.0928041, y1=0.563484, x2=0.318622, y2=0.564782, linewidth=0.212625\n",
    "                               )\n",
    "\n",
    "#### If no line is specified an interactive widget\n",
    "#### is supported to be adjusted on the Ep_q0 signal\n",
    "\n",
    "#### Setting the time to wait for adjustments \n",
    "#### (default = 30):\n",
    "#eif.time=15\n",
    "\n",
    "#### Clearing the previously generated linescans\n",
    "#### Has to be done previous to any linescans following\n",
    "#### the first linescan generation:\n",
    "eif.linescans = {}\n",
    "\n",
    "#### If thickness signal is calculated it will be \n",
    "#### considered for the linescan generation and\n",
    "#### fitted by a polynom if specified.\n",
    "#### Elements and composition have to be specified as\n",
    "#### follows:\n",
    "thickness = True\n",
    "if thickness == True:\n",
    "    eif.calc_thickness(['Zr','Ti','Cu', 'Ni', 'Al'], \n",
    "                       [0.525,0.05,0.179, 0.146, 0.10]\n",
    "                      )\n",
    "else:\n",
    "    eif.thickness_map = None\n",
    "\n",
    "#### Generating all parameter linescans and\n",
    "#### if specified fitting the linescans by\n",
    "#### polynomial approach and in addition\n",
    "#### if a peak is found trying to fit a \n",
    "#### parameter shift by a gauß approach\n",
    "#### (attribute enabling fitting: parameter_shifts).\n",
    "eif.generate_linescans(order=0,\n",
    "                       polygradn=2,\n",
    "                       parameter_shifts=True, \n",
    "                       show=False, \n",
    "                       medfilt_radius=5,\n",
    "                       position=0.085,\n",
    "                       maxpeakn=10,\n",
    "                       peakgroup=5,\n",
    "                       sensitivity=3,\n",
    "                       disable_nan=True\n",
    "                      )\n",
    "save=False\n",
    "if (save==True):\n",
    "    ## ATTENTION: Does not work with %matplotlib inline\n",
    "    eif.save_evaluation()"
   ]
  },
  {
   "cell_type": "markdown",
   "metadata": {},
   "source": [
    "# Reading out lines"
   ]
  },
  {
   "cell_type": "code",
   "execution_count": null,
   "metadata": {},
   "outputs": [],
   "source": [
    "eif.line"
   ]
  },
  {
   "cell_type": "code",
   "execution_count": null,
   "metadata": {},
   "outputs": [],
   "source": [
    "eif.plot_parameter_maps(overview=True)"
   ]
  },
  {
   "cell_type": "code",
   "execution_count": null,
   "metadata": {},
   "outputs": [],
   "source": [
    "eif.haadf.plot()"
   ]
  },
  {
   "cell_type": "markdown",
   "metadata": {},
   "source": [
    "# Linescans manually:"
   ]
  },
  {
   "cell_type": "code",
   "execution_count": null,
   "metadata": {},
   "outputs": [],
   "source": [
    "eif.linescan_plots['Plasmon energy - $E_{p}(q=0)$ - line scan'].show()"
   ]
  },
  {
   "cell_type": "code",
   "execution_count": null,
   "metadata": {},
   "outputs": [],
   "source": [
    "eif.linescans#['Plasmon peak - $E_{\\\\max}$'].plot()"
   ]
  },
  {
   "cell_type": "code",
   "execution_count": null,
   "metadata": {
    "scrolled": false
   },
   "outputs": [],
   "source": [
    "eif.estimate_parametershift(eif.linescans['Plasmon peak - intensity'],\n",
    "                            True,\n",
    "                            force_negative=True,\n",
    "                            poly_gradn=2,\n",
    "                            position=0.07,\n",
    "                            maxpeakn=10,\n",
    "                            peakgroup=3,\n",
    "                            sensitivity=3,\n",
    "                            medfilt=3,\n",
    "                            disable_nan=False\n",
    "                           )"
   ]
  },
  {
   "cell_type": "code",
   "execution_count": null,
   "metadata": {},
   "outputs": [],
   "source": [
    "save=True\n",
    "if (save==True):\n",
    "    ## ATTENTION: Does not work with %matplotlib inline\n",
    "    eif.save_evaluation(marker_width=3.)"
   ]
  },
  {
   "cell_type": "markdown",
   "metadata": {},
   "source": [
    "# HAADF correlation with parameter maps"
   ]
  },
  {
   "cell_type": "code",
   "execution_count": null,
   "metadata": {},
   "outputs": [],
   "source": [
    "######### Cross correlation between parameter maps and\n",
    "######### a corresponding HAADF image which has to be \n",
    "######### loaded during main loading routine or by\n",
    "######### calling the dfimage() function\n",
    "eif.load_dfimage(rotate=False)\n",
    "# example attribute self.Ep_q0\n",
    "# Following line takes a lot of \n",
    "# computation time for larger \n",
    "# images.\n",
    "eif.cross_correlation(eif.Ep_q0)"
   ]
  },
  {
   "cell_type": "code",
   "execution_count": null,
   "metadata": {},
   "outputs": [],
   "source": [
    "import hyperspy.api as hs\n",
    "\n",
    "eif.line = hs.roi.Line2DROI(x1=0.0117218, y1=0.117218, x2=0.134565, y2=0.112587, linewidth=0.15053)\n",
    "eif.generate_linescan(eif.haadf,0,None,eif.line.linewidth)"
   ]
  },
  {
   "cell_type": "code",
   "execution_count": null,
   "metadata": {},
   "outputs": [],
   "source": [
    "import matplotlib.pyplot as plt\n",
    "import numpy as np\n",
    "\n",
    "scale = eif.linescans['HAADF Image-gain corrected'].axes_manager.signal_axes[0].scale\n",
    "size  = eif.linescans['HAADF Image-gain corrected'].axes_manager.signal_axes[0].size\n",
    "units = eif.linescans['HAADF Image-gain corrected'].axes_manager.signal_axes[0].units\n",
    "\n",
    "position = np.linspace(0., scale*size, size)\n",
    "\n",
    "plt.ylabel('HAADF intensity in counts')\n",
    "plt.xlabel('Position in '+units)\n",
    "plt.plot(position,eif.linescans['HAADF Image-gain corrected'].data, 'rx')\n",
    "plt.show()"
   ]
  },
  {
   "cell_type": "code",
   "execution_count": null,
   "metadata": {},
   "outputs": [],
   "source": [
    "eif.haadf.plot()"
   ]
  }
 ],
 "metadata": {
  "celltoolbar": "Raw Cell Format",
  "kernelspec": {
   "display_name": "Python 3",
   "language": "python",
   "name": "python3"
  },
  "language_info": {
   "codemirror_mode": {
    "name": "ipython",
    "version": 3
   },
   "file_extension": ".py",
   "mimetype": "text/x-python",
   "name": "python",
   "nbconvert_exporter": "python",
   "pygments_lexer": "ipython3",
   "version": "3.7.4"
  }
 },
 "nbformat": 4,
 "nbformat_minor": 2
}
