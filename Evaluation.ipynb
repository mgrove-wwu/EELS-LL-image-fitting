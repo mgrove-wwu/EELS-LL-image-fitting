{
 "cells": [
  {
   "cell_type": "code",
   "execution_count": 36,
   "metadata": {},
   "outputs": [],
   "source": [
    "# Plotting the line scans requires (inline only chosen for github presentation):\n",
    "#%matplotlib qt5\n",
    "%matplotlib qt5\n",
    "from pl_analysis import EELS_image_fit as eif_class"
   ]
  },
  {
   "cell_type": "code",
   "execution_count": 37,
   "metadata": {},
   "outputs": [
    {
     "name": "stdout",
     "output_type": "stream",
     "text": [
      "Does the file include stored models from previous fitting? (y/n): y\n",
      "[########################################] | 100% Completed |  0.8s\n",
      "Available models: \n",
      "\n",
      "\"0\" :  VolumePlasmonDrude_leastsq_ls \n",
      "\n",
      "\"1\" :  VolumePlasmonDrude_mpfit_ls \n",
      "\n",
      "\"2\" :  VolumePlasmonDrude_NelderMead_ml \n",
      "\n",
      "\"3\" :  Lorentzian_leastsq_ls \n",
      "\n",
      "\"4\" :  Lorentzian_mpfit_ls \n",
      "\n",
      "\"5\" :  Lorentzian_NelderMead_ml \n",
      "\n",
      "\"6\" :  Gaussian_leastsq_ls \n",
      "\n",
      "\"7\" :  Gaussian_mpfit_ls \n",
      "\n",
      "\"8\" :  Gaussian_NelderMead_ml \n",
      "\n",
      "\"9\" :  Voigt_leastsq_ls \n",
      "\n",
      "\"10\" :  Voigt_mpfit_ls \n",
      "\n",
      "\"11\" :  Voigt_NelderMead_ml \n",
      "\n",
      "\n",
      "If you want to exit the model loading process,please type: (\"exit\"/\"cancel\")\n",
      "Which model should be loaded? 0\n",
      "Loading parameter maps for: VolumePlasmonDrude_leastsq_ls\n",
      "Parameter images loaded. Setting properties...\n",
      "Finished loading parameter images.\n",
      "Parameter images loaded. Setting properties...\n",
      "Finished loading parameter images.\n",
      "Finished loading process.\n",
      "[########################################] | 100% Completed |  0.1s\n",
      "Aligning datastructure successful. Estimate poissonian noise...\n",
      "Do you want to load the corresponding darkfield image?\n",
      "(Warning: The dimensions should match exactly for correct functionality.) (y/n): n\n",
      "Please check microscope and detector parameters,\n",
      "as the metadata from gatan might be incorrectly loaded\n",
      "Hyperspy.\n"
     ]
    },
    {
     "data": {
      "application/vnd.jupyter.widget-view+json": {
       "model_id": "5800b6b578094399867eaef09b0de1d5",
       "version_major": 2,
       "version_minor": 0
      },
      "text/plain": [
       "VBox(children=(VBox(children=(HBox(children=(Label(value='Beam energy (keV)', layout=Layout(width='auto')), Fl…"
      ]
     },
     "metadata": {},
     "output_type": "display_data"
    }
   ],
   "source": [
    "######## Loading an EEL spectrum image\n",
    "######## For more information, see docstring.\n",
    "eif = eif_class(is_lazy=True)"
   ]
  },
  {
   "cell_type": "code",
   "execution_count": 38,
   "metadata": {},
   "outputs": [],
   "source": [
    "import numpy as np\n",
    "test=[]\n",
    "test_line = []"
   ]
  },
  {
   "cell_type": "code",
   "execution_count": 10,
   "metadata": {},
   "outputs": [],
   "source": [
    "#AlYFe1 Linescan1: x1=23.4343, y1=2.45814, x2=27.2907, y2=44.7392, linewidth=41.5702\n",
    "#AlYFe1 Linescan2:\n",
    "#AlYFe1 Linescan3:\n",
    "#AlYFe_2-1: x1=120.22, y1=3.85437, x2=116.264, y2=30., linewidth=32.9363\n",
    "#AlYFe_2-2:\n",
    "#Vitreloy Compression : x1=0.00815447, y1=0.0828949, x2=0.121439, y2=0.0818016, linewidth=0.152995\n",
    "eif.Fit_Model.plot()"
   ]
  },
  {
   "cell_type": "code",
   "execution_count": 39,
   "metadata": {},
   "outputs": [
    {
     "name": "stdout",
     "output_type": "stream",
     "text": [
      "[########################################] | 100% Completed |  0.1s\n",
      "Available models: \n",
      "\n",
      "\"0\" :  VolumePlasmonDrude_leastsq_ls \n",
      "\n",
      "\"1\" :  VolumePlasmonDrude_mpfit_ls \n",
      "\n",
      "\"2\" :  VolumePlasmonDrude_NelderMead_ml \n",
      "\n",
      "\"3\" :  Lorentzian_leastsq_ls \n",
      "\n",
      "\"4\" :  Lorentzian_mpfit_ls \n",
      "\n",
      "\"5\" :  Lorentzian_NelderMead_ml \n",
      "\n",
      "\"6\" :  Gaussian_leastsq_ls \n",
      "\n",
      "\"7\" :  Gaussian_mpfit_ls \n",
      "\n",
      "\"8\" :  Gaussian_NelderMead_ml \n",
      "\n",
      "\"9\" :  Voigt_leastsq_ls \n",
      "\n",
      "\"10\" :  Voigt_mpfit_ls \n",
      "\n",
      "\"11\" :  Voigt_NelderMead_ml \n",
      "\n",
      "Loading parameter maps for: VolumePlasmonDrude_leastsq_ls\n",
      "Parameter images loaded. Setting properties...\n",
      "Finished loading parameter images.\n",
      "Finished loading process.\n",
      "[########################################] | 100% Completed |  0.1s\n",
      "Estimated mean free path: 6.13E+01 nm\n",
      "Variance estimation for: Plasmon energy - $E_{p}(q=0)$\n",
      "mean variance:  0.00039314734998543895\n",
      "mean variance of fitted parameters:  4.6503697173674514e-07\n",
      "\n",
      "Estimation for: Plasmon energy - $E_{p}(q=0)$ - line scan\n",
      "\n",
      "weight factors:  [0.99544631 0.99543365 0.99542155 0.99541    0.99539902 0.99538861\n",
      " 0.99537878 0.99536952 0.99536084 0.99535275 0.99534524 0.99533832\n",
      " 0.995332   0.99532627 0.99532113 0.9953166  0.99531267 0.99530934\n",
      " 0.99530661 0.99530449 0.99530297 0.99530206 0.99530176 0.99530206\n",
      " 0.99530297 0.99530449 0.99530661 0.99530934 0.99531267 0.9953166\n",
      " 0.99532113 0.99532627 0.995332   0.99533832 0.99534524 0.99535275\n",
      " 0.99536084 0.99536952 0.99537878 0.99538861 0.99539902 0.99541\n",
      " 0.99542155 0.99543365]\n",
      "\n",
      "fitted initial polynomial parameter:  [1.52060931e+01 3.20413054e-04]\n",
      "\n",
      "polynomial weighted least squared fit:  [1.52060935e+01 3.20381376e-04] [[ 7.73111109e-06 -2.70002308e-07]\n",
      " [-2.70002308e-07  1.27189890e-08]]\n"
     ]
    },
    {
     "data": {
      "application/vnd.jupyter.widget-view+json": {
       "model_id": "eb40bb19dc1b43f38da810f52dea0313",
       "version_major": 2,
       "version_minor": 0
      },
      "text/plain": [
       "HBox(children=(IntProgress(value=0, max=1), HTML(value='')))"
      ]
     },
     "metadata": {},
     "output_type": "display_data"
    },
    {
     "name": "stdout",
     "output_type": "stream",
     "text": [
      "\n",
      "OHaver estimates:  [array([(29.91257942, 0.02668298, 8.91443748)],\n",
      "      dtype=[('position', '<f8'), ('height', '<f8'), ('width', '<f8')])]\n"
     ]
    },
    {
     "data": {
      "application/vnd.jupyter.widget-view+json": {
       "model_id": "63a15b0ca9ff45f5bcaefc556e5dfb78",
       "version_major": 2,
       "version_minor": 0
      },
      "text/plain": [
       "HBox(children=(IntProgress(value=0, max=1), HTML(value='')))"
      ]
     },
     "metadata": {},
     "output_type": "display_data"
    },
    {
     "name": "stdout",
     "output_type": "stream",
     "text": [
      "\n",
      "OHaver estimates:  [array([(15.43875067, 0.00560933, nan), (18.33351642, 0.00989588, nan)],\n",
      "      dtype=[('position', '<f8'), ('height', '<f8'), ('width', '<f8')])]\n",
      "peak accepted: (29.91257942, 0.02668298, 8.91443748)\n",
      "\n",
      "Used estimate for most dominant gaussian peak in bounds:  [2.99125794e+01 2.66829785e-02 8.91443748e+00]\n",
      "\n",
      "Position estimation of sheared region with lower standard deviation:\n",
      "$2.964 \\pm 0.062\n",
      "\n",
      "Fit summarization - resulting parameters:  [3.03473868e+01 3.09236803e-02 2.96420571e+00 1.52073172e+01\n",
      " 1.35954545e-05]\n",
      "\n",
      "Fit summarization - resulting covariance matrix:  [[ 4.49680901e-02  2.18916294e-05  4.19263138e-03  3.46986641e-05\n",
      "  -2.16307602e-06]\n",
      " [ 2.18916294e-05  4.02776134e-06 -1.29855287e-04  1.21428336e-07\n",
      "  -2.72588411e-08]\n",
      " [ 4.19263138e-03 -1.29855287e-04  6.15490153e-02  2.32386490e-05\n",
      "  -5.22060068e-06]\n",
      " [ 3.46986641e-05  1.21428336e-07  2.32386490e-05  1.13916621e-06\n",
      "  -4.31922646e-08]\n",
      " [-2.16307602e-06 -2.72588411e-08 -5.22060068e-06 -4.31922646e-08\n",
      "   2.69296663e-09]]\n",
      "Variance estimation for: thickness by log-ratio\n",
      "mean variance:  0.814004769495018\n",
      "thickness by log-ratio: \n",
      "\n",
      "'NoneType' object has no attribute 'sqrt'\n",
      "\n",
      "Falling back using spatial error estimation.\n",
      "\n",
      "Estimation for: thickness by log-ratio - line scan\n",
      "\n",
      "weight factors:  [0.99544631 0.99543365 0.99542155 0.99541    0.99539902 0.99538861\n",
      " 0.99537878 0.99536952 0.99536084 0.99535275 0.99534524 0.99533832\n",
      " 0.995332   0.99532627 0.99532113 0.9953166  0.99531267 0.99530934\n",
      " 0.99530661 0.99530449 0.99530297 0.99530206 0.99530176 0.99530206\n",
      " 0.99530297 0.99530449 0.99530661 0.99530934 0.99531267 0.9953166\n",
      " 0.99532113 0.99532627 0.995332   0.99533832 0.99534524 0.99535275\n",
      " 0.99536084 0.99536952 0.99537878 0.99538861 0.99539902 0.99541\n",
      " 0.99542155 0.99543365]\n",
      "\n",
      "fitted initial polynomial parameter:  [41.24136809  0.12049256]\n",
      "\n",
      "polynomial weighted least squared fit:  [41.24138264  0.12049217] [[ 4.23110626e-03 -1.47767709e-04]\n",
      " [-1.47767709e-04  6.96088872e-06]]\n",
      "\n",
      "Fit summarization - resulting parameters:  [ 0.          0.          0.         41.24138264  0.12049217]\n",
      "\n",
      "Fit summarization - resulting covariance matrix:  [[inf inf inf nan nan]\n",
      " [inf inf inf nan nan]\n",
      " [inf inf inf nan nan]\n",
      " [nan nan nan nan nan]\n",
      " [nan nan nan nan nan]]\n"
     ]
    },
    {
     "name": "stderr",
     "output_type": "stream",
     "text": [
      "/home/ag-wilde/Desktop/EELS_SI-Fitting (max)/pl_analysis.py:4371: RuntimeWarning: divide by zero encountered in double_scalars\n",
      "  return height * np.exp(- 1/(2 * sigma**2) * (x - x0)**2)\n",
      "/home/ag-wilde/Desktop/EELS_SI-Fitting (max)/pl_analysis.py:4371: RuntimeWarning: invalid value encountered in multiply\n",
      "  return height * np.exp(- 1/(2 * sigma**2) * (x - x0)**2)\n"
     ]
    },
    {
     "name": "stdout",
     "output_type": "stream",
     "text": [
      "Variance estimation for: Plasmon peak - $E_{\\max}$\n",
      "mean variance:  0.0004565238950174074\n",
      "mean variance of fitted parameters:  4.6012326070537853e-07\n",
      "\n",
      "Estimation for: Plasmon peak - $E_{\\max}$ - line scan\n",
      "\n",
      "weight factors:  [0.99544631 0.99543365 0.99542155 0.99541    0.99539902 0.99538861\n",
      " 0.99537878 0.99536952 0.99536084 0.99535275 0.99534524 0.99533832\n",
      " 0.995332   0.99532627 0.99532113 0.9953166  0.99531267 0.99530934\n",
      " 0.99530661 0.99530449 0.99530297 0.99530206 0.99530176 0.99530206\n",
      " 0.99530297 0.99530449 0.99530661 0.99530934 0.99531267 0.9953166\n",
      " 0.99532113 0.99532627 0.995332   0.99533832 0.99534524 0.99535275\n",
      " 0.99536084 0.99536952 0.99537878 0.99538861 0.99539902 0.99541\n",
      " 0.99542155 0.99543365]\n",
      "\n",
      "fitted initial polynomial parameter:  [1.52704091e+01 3.62277763e-04]\n",
      "\n",
      "polynomial weighted least squared fit:  [1.52704095e+01 3.62242617e-04] [[ 9.85029093e-06 -3.44013045e-07]\n",
      " [-3.44013045e-07  1.62054212e-08]]\n"
     ]
    },
    {
     "data": {
      "application/vnd.jupyter.widget-view+json": {
       "model_id": "eab7348253b34a28a663f420072b5409",
       "version_major": 2,
       "version_minor": 0
      },
      "text/plain": [
       "HBox(children=(IntProgress(value=0, max=1), HTML(value='')))"
      ]
     },
     "metadata": {},
     "output_type": "display_data"
    },
    {
     "name": "stdout",
     "output_type": "stream",
     "text": [
      "\n",
      "OHaver estimates:  [array([(29.91257942, 0.03025112, 9.35450152)],\n",
      "      dtype=[('position', '<f8'), ('height', '<f8'), ('width', '<f8')])]\n"
     ]
    },
    {
     "data": {
      "application/vnd.jupyter.widget-view+json": {
       "model_id": "d42ec6cc1aa6417cba0179c84cbbe00e",
       "version_major": 2,
       "version_minor": 0
      },
      "text/plain": [
       "HBox(children=(IntProgress(value=0, max=1), HTML(value='')))"
      ]
     },
     "metadata": {},
     "output_type": "display_data"
    },
    {
     "name": "stdout",
     "output_type": "stream",
     "text": [
      "\n",
      "OHaver estimates:  [array([(11.579063  , 0.00405079, 4.05623636),\n",
      "       (15.43875067, 0.00634446,        nan),\n",
      "       (18.33351642, 0.01155181,        nan)],\n",
      "      dtype=[('position', '<f8'), ('height', '<f8'), ('width', '<f8')])]\n",
      "peak accepted: (29.91257942, 0.03025112, 9.35450152)\n",
      "\n",
      "Used estimate for most dominant gaussian peak in bounds:  [29.91257942  0.03025112  9.35450152]\n",
      "\n",
      "Position estimation of sheared region with lower standard deviation:\n",
      "$3.009 \\pm 0.059\n",
      "\n",
      "Fit summarization - resulting parameters:  [3.03145701e+01 3.49208984e-02 3.00947507e+00 1.52717859e+01\n",
      " 1.17644241e-05]\n",
      "\n",
      "Fit summarization - resulting covariance matrix:  [[ 4.31452367e-02  2.43750695e-05  4.19447752e-03  3.81781424e-05\n",
      "  -2.39564239e-06]\n",
      " [ 2.43750695e-05  4.78890569e-06 -1.35207259e-04  1.46912188e-07\n",
      "  -3.32628943e-08]\n",
      " [ 4.19447752e-03 -1.35207259e-04  5.94495736e-02  2.52320533e-05\n",
      "  -5.72383220e-06]\n",
      " [ 3.81781424e-05  1.46912188e-07  2.52320533e-05  1.37128585e-06\n",
      "  -5.20773932e-08]\n",
      " [-2.39564239e-06 -3.32628943e-08 -5.72383220e-06 -5.20773932e-08\n",
      "   3.26843310e-09]]\n",
      "Variance estimation for: Plasmon peak - $\\Gamma$\n",
      "mean variance:  0.003271520343054827\n",
      "mean variance of fitted parameters:  3.7232512121420504e-06\n",
      "\n",
      "Estimation for: Plasmon peak - $\\Gamma$ - line scan\n",
      "\n",
      "weight factors:  [0.99544631 0.99543365 0.99542155 0.99541    0.99539902 0.99538861\n",
      " 0.99537878 0.99536952 0.99536084 0.99535275 0.99534524 0.99533832\n",
      " 0.995332   0.99532627 0.99532113 0.9953166  0.99531267 0.99530934\n",
      " 0.99530661 0.99530449 0.99530297 0.99530206 0.99530176 0.99530206\n",
      " 0.99530297 0.99530449 0.99530661 0.99530934 0.99531267 0.9953166\n",
      " 0.99532113 0.99532627 0.995332   0.99533832 0.99534524 0.99535275\n",
      " 0.99536084 0.99536952 0.99537878 0.99538861 0.99539902 0.99541\n",
      " 0.99542155 0.99543365]\n",
      "\n",
      "fitted initial polynomial parameter:  [2.79954782e+00 9.34147550e-04]\n",
      "\n",
      "polynomial weighted least squared fit:  [2.7995487e+00 9.3405985e-04] [[ 6.85265384e-05 -2.39322967e-06]\n",
      " [-2.39322967e-06  1.12737794e-07]]\n"
     ]
    },
    {
     "data": {
      "application/vnd.jupyter.widget-view+json": {
       "model_id": "3d81eb154fc24cd7a6df41f7d6bf5267",
       "version_major": 2,
       "version_minor": 0
      },
      "text/plain": [
       "HBox(children=(IntProgress(value=0, max=1), HTML(value='')))"
      ]
     },
     "metadata": {},
     "output_type": "display_data"
    },
    {
     "name": "stdout",
     "output_type": "stream",
     "text": [
      "\n",
      "OHaver estimates:  [array([(29.91257942, 0.07875723, 15.15151529)],\n",
      "      dtype=[('position', '<f8'), ('height', '<f8'), ('width', '<f8')])]\n"
     ]
    },
    {
     "data": {
      "application/vnd.jupyter.widget-view+json": {
       "model_id": "6205a0c6842a417a8cec3b2c1a52b45a",
       "version_major": 2,
       "version_minor": 0
      },
      "text/plain": [
       "HBox(children=(IntProgress(value=0, max=1), HTML(value='')))"
      ]
     },
     "metadata": {},
     "output_type": "display_data"
    },
    {
     "name": "stdout",
     "output_type": "stream",
     "text": [
      "\n",
      "OHaver estimates:  [array([(18.33351642, 0.03714303, nan)],\n",
      "      dtype=[('position', '<f8'), ('height', '<f8'), ('width', '<f8')])]\n",
      "peak accepted after ignoring bad sigma: (29.91257942, 0.07875723, 4.82460958)\n",
      "\n",
      "Used estimate for most dominant gaussian peak in bounds:  [29.91257942  0.07875723  4.82460958]\n",
      "\n",
      "Fit summarization - resulting parameters:  [ 3.00705706e+01  8.93790872e-02  3.36158750e+00  2.80291084e+00\n",
      " -4.09031002e-05]\n",
      "\n",
      "Fit summarization - resulting covariance matrix:  [[ 5.54987407e-02  9.93411447e-05  7.41838916e-03  1.40856255e-04\n",
      "  -9.33989020e-06]\n",
      " [ 9.93411447e-05  3.27812884e-05 -3.10635131e-04  1.15776264e-06\n",
      "  -2.78630597e-07]\n",
      " [ 7.41838916e-03 -3.10635131e-04  8.08014858e-02  8.56605732e-05\n",
      "  -2.08062406e-05]\n",
      " [ 1.40856255e-04  1.15776264e-06  8.56605732e-05  1.02365603e-05\n",
      "  -3.94436365e-07]\n",
      " [-9.33989020e-06 -2.78630597e-07 -2.08062406e-05 -3.94436365e-07\n",
      "   2.61750417e-08]]\n",
      "Variance estimation for: Plasmon peak - intensity\n",
      "mean variance:  2075578.9633701416\n",
      "mean variance of fitted parameters:  332.96796407168426\n",
      "\n",
      "Estimation for: Plasmon peak - intensity - line scan\n",
      "\n",
      "weight factors:  [0.99544631 0.99543365 0.99542155 0.99541    0.99539902 0.99538861\n",
      " 0.99537878 0.99536952 0.99536084 0.99535275 0.99534524 0.99533832\n",
      " 0.995332   0.99532627 0.99532113 0.9953166  0.99531267 0.99530934\n",
      " 0.99530661 0.99530449 0.99530297 0.99530206 0.99530176 0.99530206\n",
      " 0.99530297 0.99530449 0.99530661 0.99530934 0.99531267 0.9953166\n",
      " 0.99532113 0.99532627 0.995332   0.99533832 0.99534524 0.99535275\n",
      " 0.99536084 0.99536952 0.99537878 0.99538861 0.99539902 0.99541\n",
      " 0.99542155 0.99543365]\n",
      "\n",
      "fitted initial polynomial parameter:  [22125.87256412   -24.56798302]\n",
      "\n",
      "polynomial weighted least squared fit:  [22125.85399582   -24.56719786] [[6080.69920296 -212.36313534]\n",
      " [-212.36313534   10.00378341]]\n"
     ]
    },
    {
     "data": {
      "application/vnd.jupyter.widget-view+json": {
       "model_id": "043149ec1d704a63a52dd698a582180c",
       "version_major": 2,
       "version_minor": 0
      },
      "text/plain": [
       "HBox(children=(IntProgress(value=0, max=1), HTML(value='')))"
      ]
     },
     "metadata": {},
     "output_type": "display_data"
    },
    {
     "name": "stdout",
     "output_type": "stream",
     "text": [
      "\n",
      "OHaver estimates:  [array([(11.579063  , 221.51972217, 8.33013903),\n",
      "       (16.40367259, 632.37568819, 5.32432215),\n",
      "       (16.40367259, 632.37568819,        nan)],\n",
      "      dtype=[('position', '<f8'), ('height', '<f8'), ('width', '<f8')])]\n"
     ]
    },
    {
     "data": {
      "application/vnd.jupyter.widget-view+json": {
       "model_id": "d2cd32f75fc74a16bf4afa8bd6968267",
       "version_major": 2,
       "version_minor": 0
      },
      "text/plain": [
       "HBox(children=(IntProgress(value=0, max=1), HTML(value='')))"
      ]
     },
     "metadata": {},
     "output_type": "display_data"
    },
    {
     "name": "stdout",
     "output_type": "stream",
     "text": [
      "\n",
      "OHaver estimates:  [array([( 2.89476575, 306.2181914 ,  2.1650114 ),\n",
      "       (26.05289176, 311.90938145,  6.00025688),\n",
      "       (27.98273559, 383.41310419,  7.88606986),\n",
      "       (37.63195476, 149.40290524, 24.7085032 )],\n",
      "      dtype=[('position', '<f8'), ('height', '<f8'), ('width', '<f8')])]\n",
      "peak accepted: (11.579063, 221.51972217, 8.33013903)\n",
      "\n",
      "Used estimate for most dominant gaussian peak in bounds:  [ 11.579063   221.51972217   8.33013903]\n",
      "\n",
      "Fit summarization - resulting parameters:  [ 1.61075478e+01  4.04039450e+02  4.38631138e+00  2.19529206e+04\n",
      " -2.12373886e+01]\n",
      "\n",
      "Fit summarization - resulting covariance matrix:  [[ 1.85581188e+00 -1.16551096e+01 -2.50028016e-01  4.03890911e+01\n",
      "  -1.49004885e+00]\n",
      " [-1.16551096e+01  1.25807468e+04 -3.22703984e+01 -4.27582477e+03\n",
      "   8.68694559e+01]\n",
      " [-2.50028016e-01 -3.22703984e+01  2.60406237e+00 -9.20262102e+01\n",
      "   1.86344799e+00]\n",
      " [ 4.03890911e+01 -4.27582477e+03 -9.20262102e+01  1.08661930e+04\n",
      "  -3.00755802e+02]\n",
      " [-1.49004885e+00  8.68694559e+01  1.86344799e+00 -3.00755802e+02\n",
      "   1.10887904e+01]]\n",
      "Variance estimation for: Zero Loss peak - $E_{\\max}$\n",
      "mean variance:  2.825339491861208e-05\n",
      "mean variance of fitted parameters:  2.246479410069192e-08\n",
      "Variance estimation for: Zero Loss peak - $\\Gamma$\n",
      "mean variance:  0.00037210317507448387\n",
      "mean variance of fitted parameters:  3.9996844901785184e-07\n",
      "Variance estimation for: Zero Loss peak - intensity\n",
      "mean variance:  6040483277.767951\n",
      "mean variance of fitted parameters:  328899.06336715276\n",
      "\n",
      "Estimation for: Zero Loss peak - intensity - line scan\n",
      "\n",
      "weight factors:  [0.99544631 0.99543365 0.99542155 0.99541    0.99539902 0.99538861\n",
      " 0.99537878 0.99536952 0.99536084 0.99535275 0.99534524 0.99533832\n",
      " 0.995332   0.99532627 0.99532113 0.9953166  0.99531267 0.99530934\n",
      " 0.99530661 0.99530449 0.99530297 0.99530206 0.99530176 0.99530206\n",
      " 0.99530297 0.99530449 0.99530661 0.99530934 0.99531267 0.9953166\n",
      " 0.99532113 0.99532627 0.995332   0.99533832 0.99534524 0.99535275\n",
      " 0.99536084 0.99536952 0.99537878 0.99538861 0.99539902 0.99541\n",
      " 0.99542155 0.99543365]\n",
      "\n",
      "fitted initial polynomial parameter:  [1086292.83526846   -4285.43990435]\n",
      "\n",
      "polynomial weighted least squared fit:  [1086292.11085169   -4285.40726571] [[15064871.6385154   -526127.54472104]\n",
      " [ -526127.54472104    24784.2731577 ]]\n"
     ]
    },
    {
     "data": {
      "application/vnd.jupyter.widget-view+json": {
       "model_id": "50d05f94dee746f49cfef021055ad358",
       "version_major": 2,
       "version_minor": 0
      },
      "text/plain": [
       "HBox(children=(IntProgress(value=0, max=1), HTML(value='')))"
      ]
     },
     "metadata": {},
     "output_type": "display_data"
    },
    {
     "name": "stdout",
     "output_type": "stream",
     "text": [
      "\n",
      "OHaver estimates:  [array([(16.40367259, 31600.62590703, 12.87716675),\n",
      "       (16.40367259, 31600.62590703,         nan)],\n",
      "      dtype=[('position', '<f8'), ('height', '<f8'), ('width', '<f8')])]\n"
     ]
    },
    {
     "data": {
      "application/vnd.jupyter.widget-view+json": {
       "model_id": "bf81516b0d8c49a9b44d4f492c07e118",
       "version_major": 2,
       "version_minor": 0
      },
      "text/plain": [
       "HBox(children=(IntProgress(value=0, max=1), HTML(value='')))"
      ]
     },
     "metadata": {},
     "output_type": "display_data"
    },
    {
     "name": "stdout",
     "output_type": "stream",
     "text": [
      "\n",
      "OHaver estimates:  [array([(26.05289176, 12963.72904197,  5.87969873),\n",
      "       (26.05289176, 12963.72904197, 10.34734035)],\n",
      "      dtype=[('position', '<f8'), ('height', '<f8'), ('width', '<f8')])]\n",
      "peak accepted: (16.40367259, 31600.62590703, 12.87716675)\n",
      "\n",
      "Used estimate for most dominant gaussian peak in bounds:  [1.64036726e+01 3.16006259e+04 1.28771667e+01]\n",
      "\n",
      "Fit summarization - resulting parameters:  [ 1.63090320e+01  1.67163905e+05  2.64616974e-01  1.08406879e+06\n",
      " -4.24382486e+03]\n",
      "\n",
      "Fit summarization - resulting covariance matrix:  [[ 1.17601457e+05 -1.91455509e+12 -8.84175039e+05 -2.14594744e+05\n",
      "   3.79528114e+03]\n",
      " [-1.91455509e+12  3.11690121e+19  1.43943951e+13  3.49364947e+12\n",
      "  -6.17885375e+10]\n",
      " [-8.84175039e+05  1.43943951e+13  6.64758352e+06  1.61344337e+06\n",
      "  -2.85353103e+04]\n",
      " [-2.14594744e+05  3.49364947e+12  1.61344337e+06  1.32706322e+07\n",
      "  -4.49823029e+05]\n",
      " [ 3.79528114e+03 -6.17885375e+10 -2.85353104e+04 -4.49823029e+05\n",
      "   2.07575171e+04]]\n",
      "Variance estimation for: second Plasmon peak - $E_{\\max}$\n",
      "mean variance:  0.0018260955800696295\n"
     ]
    },
    {
     "name": "stderr",
     "output_type": "stream",
     "text": [
      "/home/ag-wilde/anaconda3/envs/Hyperspy/lib/python3.7/site-packages/numpy/lib/nanfunctions.py:1628: RuntimeWarning: Degrees of freedom <= 0 for slice.\n",
      "  keepdims=keepdims)\n",
      "/home/ag-wilde/Desktop/EELS_SI-Fitting (max)/pl_analysis.py:3952: RuntimeWarning: Mean of empty slice\n",
      "  mean_line_fstd = np.nanmean(line_fstd.data)\n",
      "/home/ag-wilde/Desktop/EELS_SI-Fitting (max)/pl_analysis.py:3959: RuntimeWarning: Mean of empty slice\n",
      "  print('mean variance of fitted parameters: ',np.nanmean(line_var_fstd.data))\n"
     ]
    },
    {
     "name": "stdout",
     "output_type": "stream",
     "text": [
      "mean variance of fitted parameters:  nan\n",
      "Variance estimation for: second Plasmon peak - $\\Gamma$\n",
      "mean variance:  0.42265924521972914\n",
      "mean variance of fitted parameters:  0.0018777061944173742\n",
      "Variance estimation for: second Plasmon peak - intensity\n",
      "mean variance:  120204.56108811173\n",
      "mean variance of fitted parameters:  219.4306534577672\n",
      "Variance estimation for: intensity ratio - $I_{pp}/I_{zlp}$\n",
      "mean variance:  1.9938724377737605e-07\n",
      "intensity ratio - $I_{pp}/I_{zlp}$: \n",
      "\n",
      "'DictionaryTreeBrowser' object has no attribute 'Noise_properties'\n",
      "\n",
      "Falling back using spatial error estimation.\n",
      "\n",
      "Estimation for: intensity ratio - $I_{pp}/I_{zlp}$ - line scan\n",
      "\n",
      "weight factors:  [0.99544631 0.99543365 0.99542155 0.99541    0.99539902 0.99538861\n",
      " 0.99537878 0.99536952 0.99536084 0.99535275 0.99534524 0.99533832\n",
      " 0.995332   0.99532627 0.99532113 0.9953166  0.99531267 0.99530934\n",
      " 0.99530661 0.99530449 0.99530297 0.99530206 0.99530176 0.99530206\n",
      " 0.99530297 0.99530449 0.99530661 0.99530934 0.99531267 0.9953166\n",
      " 0.99532113 0.99532627 0.995332   0.99533832 0.99534524 0.99535275\n",
      " 0.99536084 0.99536952 0.99537878 0.99538861 0.99539902 0.99541\n",
      " 0.99542155 0.99543365]\n",
      "\n",
      "fitted initial polynomial parameter:  [2.03128145e-02 6.88971007e-05]\n",
      "\n",
      "polynomial weighted least squared fit:  [2.03128164e-02 6.88971284e-05] [[ 1.37666907e-09 -4.80789712e-11]\n",
      " [-4.80789712e-11  2.26485456e-12]]\n"
     ]
    },
    {
     "data": {
      "application/vnd.jupyter.widget-view+json": {
       "model_id": "e8e67eb1e6f146da86a44777ded05703",
       "version_major": 2,
       "version_minor": 0
      },
      "text/plain": [
       "HBox(children=(IntProgress(value=0, max=1), HTML(value='')))"
      ]
     },
     "metadata": {},
     "output_type": "display_data"
    },
    {
     "name": "stdout",
     "output_type": "stream",
     "text": [
      "\n",
      "OHaver estimates:  [array([], dtype=[('position', '<f8'), ('height', '<f8'), ('width', '<f8')])]\n"
     ]
    },
    {
     "data": {
      "application/vnd.jupyter.widget-view+json": {
       "model_id": "6b56f4ea49f64d1b99576cbf60352f92",
       "version_major": 2,
       "version_minor": 0
      },
      "text/plain": [
       "HBox(children=(IntProgress(value=0, max=1), HTML(value='')))"
      ]
     },
     "metadata": {},
     "output_type": "display_data"
    },
    {
     "name": "stdout",
     "output_type": "stream",
     "text": [
      "\n",
      "OHaver estimates:  [array([], dtype=[('position', '<f8'), ('height', '<f8'), ('width', '<f8')])]\n",
      "The parameter shifts found do not match expected ranges for gaussian estimation.\n",
      "Maybe sensitivity (scaling of lower bound of sigma), medfilt_radius (smoothing) or \n",
      "polygradn (higher DOF for thickness dependence) can lead improved peak estimation \n",
      "using Ohaver.\n",
      "\n",
      "\n",
      "Fit summarization - resulting parameters:  [0.00000000e+00 0.00000000e+00 0.00000000e+00 2.03128164e-02\n",
      " 6.88971284e-05]\n",
      "\n",
      "Fit summarization - resulting covariance matrix:  [[inf inf inf nan nan]\n",
      " [inf inf inf nan nan]\n",
      " [inf inf inf nan nan]\n",
      " [nan nan nan nan nan]\n",
      " [nan nan nan nan nan]]\n",
      "Creating: /home/ag-wilde/Desktop/EELS_SI-Fitting (max)/AlYFe_1/SAMF/Linescan 1/VPD/LS//home/ag-wilde/Desktop/EELS_SI-Fitting (max)/AlYFe_1/SAMF/Linescan 1/VPD/LS/Plasmon characteristics\n",
      "Creating: /home/ag-wilde/Desktop/EELS_SI-Fitting (max)/AlYFe_1/SAMF/Linescan 1/VPD/LS//home/ag-wilde/Desktop/EELS_SI-Fitting (max)/AlYFe_1/SAMF/Linescan 1/VPD/LS/Thickness Evaluation\n",
      "Writing parameter maps to disk...\n",
      "Writing line scans to disk...\n",
      "Writing goodness to disk...\n",
      "Trying to access thickness signal...\n",
      "Writing thickness estimation to disk...\n",
      "Finished!\n"
     ]
    }
   ],
   "source": [
    "######### Loading a new model and correspond parameters\n",
    "######### into class attribute for analysis.\n",
    "######### Plotting a signal or linescan as follows:\n",
    "######### Attributes can be found directly in eif.\n",
    "######### See hyperspy documentation of plot() function\n",
    "######### for more information on arguments.\n",
    "eif.load_model(mkey='0')\n",
    "eif.Fit_Model.signal.metadata.General.title = ('$\\mathrm{Al}_{88}\\mathrm{Y}_8\\mathrm{Fe}_5$' \n",
    "                                               + ' - ' + eif.function_set + ' ' + eif.optimizer + ' -'\n",
    "                                              )\n",
    "\n",
    "eif.Fit_Model.plot()\n",
    "test.append(np.nanmean(eif.Ep_q0.data))\n",
    "\n",
    "#### The line to specify the spatial location of\n",
    "#### the line scan can be read out by:\n",
    "#eif.line\n",
    "#will be None if not initiated.\n",
    "\n",
    "#### A line can be set manually with source and \n",
    "#### destination coordinates as follows_\n",
    "import hyperspy.api as hs\n",
    "eif.line = hs.roi.Line2DROI(x1=23.4343, \n",
    "                            y1=2.45814, \n",
    "                            x2=27.2907, \n",
    "                            y2=44.7392, \n",
    "                            linewidth=41.5702\n",
    "                           )\n",
    "\n",
    "#### If no line is specified an interactive widget\n",
    "#### is supported to be adjusted on the Ep_q0 signal\n",
    "\n",
    "#### Setting the time to wait for adjustments \n",
    "#### (default = 30):\n",
    "#eif.time=15\n",
    "\n",
    "#### Manually setting the line to none to enable\n",
    "#### interactive mode:\n",
    "#eif.line=None\n",
    "\n",
    "#### Clearing the previously generated linescans\n",
    "#### Has to be done previous to any linescans following\n",
    "#### the first linescan generation:\n",
    "eif.linescans = {}\n",
    "\n",
    "#### If thickness signal is calculated it will be \n",
    "#### considered for the linescan generation and\n",
    "#### fitted by a polynom if specified.\n",
    "#### Elements and composition have to be specified as\n",
    "#### follows:\n",
    "eif.calc_thickness(['Al','Y','Fe'], \n",
    "                   [0.88,0.07,0.05]\n",
    "                  )\n",
    "\n",
    "#### Generating all parameter linescans and\n",
    "#### if specified fitting the linescans by\n",
    "#### polynomial approach and in addition\n",
    "#### if a peak is found trying to fit a \n",
    "#### parameter shift by a gauß approach\n",
    "#### (attribute enabling fitting: parameter_shifts).\n",
    "eif.generate_linescans(parameter_shifts=True, \n",
    "                       show=False, \n",
    "                       sensitivity=5, \n",
    "                       medfilt_radius=3,\n",
    "                       polygradn=1\n",
    "                      )\n",
    "\n",
    "\n",
    "test_line.append(np.nanmean(eif.linescans['Plasmon energy - $E_{p}(q=0)$'].data))\n",
    "\n",
    "#### Saving all results generated by:\n",
    "eif.save_evaluation()"
   ]
  },
  {
   "cell_type": "code",
   "execution_count": null,
   "metadata": {},
   "outputs": [],
   "source": [
    "######### Cross correlation between parameter maps and\n",
    "######### a corresponding HAADF image which has to be \n",
    "######### loaded during main loading routine or by\n",
    "######### calling the dfimage() function\n",
    "eif.load_dfimage(rotate=True)\n",
    "eif.cross_correlation(eif.Ep_q0)"
   ]
  }
 ],
 "metadata": {
  "kernelspec": {
   "display_name": "Python 3",
   "language": "python",
   "name": "python3"
  },
  "language_info": {
   "codemirror_mode": {
    "name": "ipython",
    "version": 3
   },
   "file_extension": ".py",
   "mimetype": "text/x-python",
   "name": "python",
   "nbconvert_exporter": "python",
   "pygments_lexer": "ipython3",
   "version": "3.7.4"
  }
 },
 "nbformat": 4,
 "nbformat_minor": 2
}
