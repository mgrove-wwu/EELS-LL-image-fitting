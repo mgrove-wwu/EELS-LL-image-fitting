{
 "cells": [
  {
   "cell_type": "code",
   "execution_count": 1,
   "metadata": {},
   "outputs": [
    {
     "data": {
      "application/vnd.jupyter.widget-view+json": {
       "model_id": "95d3c587118142fd9865264b5f4efb4c",
       "version_major": 2,
       "version_minor": 0
      },
      "text/plain": [
       "VBox(children=(Tab(children=(VBox(children=(HBox(children=(Label(value='Expand structures in DictionaryTreeBro…"
      ]
     },
     "metadata": {},
     "output_type": "display_data"
    },
    {
     "name": "stderr",
     "output_type": "stream",
     "text": [
      "/home/ag-wilde/Desktop/EELS_SI-Fitting (max)/pl_analysis.py:58: MatplotlibDeprecationWarning: \n",
      "The text.latex.unicode rcparam was deprecated in Matplotlib 3.0 and will be removed in 3.2.\n",
      "  mpl.rcParams['text.latex.unicode'] = True\n"
     ]
    }
   ],
   "source": [
    "from pl_analysis import EELS_image_fit as eif"
   ]
  },
  {
   "cell_type": "code",
   "execution_count": 2,
   "metadata": {},
   "outputs": [
    {
     "name": "stdout",
     "output_type": "stream",
     "text": [
      "Does the file include stored models from previous fitting? (y/n): y\n",
      "[########################################] | 100% Completed |  0.6s\n",
      "Available models: \n",
      "\n",
      "\"0\" :  VolumePlasmonDrude_leastsq_ls \n",
      "\n",
      "\"1\" :  VolumePlasmonDrude_mpfit_ls \n",
      "\n",
      "\"2\" :  VolumePlasmonDrude_NelderMead_ml \n",
      "\n",
      "\"3\" :  Lorentzian_leastsq_ls \n",
      "\n",
      "\"4\" :  Lorentzian_mpfit_ls \n",
      "\n",
      "\"5\" :  Lorentzian_NelderMead_ml \n",
      "\n",
      "\"6\" :  Gaussian_leastsq_ls \n",
      "\n",
      "\"7\" :  Gaussian_mpfit_ls \n",
      "\n",
      "\"8\" :  Gaussian_NelderMead_ml \n",
      "\n",
      "\"9\" :  Voigt_leastsq_ls \n",
      "\n",
      "\"10\" :  Voigt_mpfit_ls \n",
      "\n",
      "\"11\" :  Voigt_NelderMead_ml \n",
      "\n",
      "\n",
      "If you want to exit the model loading process,please type: (\"exit\"/\"cancel\")\n",
      "Which model should be loaded? 0\n",
      "Loading parameter maps for: VolumePlasmonDrude_leastsq_ls\n",
      "Finished loading process.\n",
      "[########################################] | 100% Completed |  0.1s\n",
      "Aligning datastructure successful. Estimate poissonian noise...\n",
      "Do you want to load the corresponding darkfield image?\n",
      "(Warning: The dimensions have to match exactly for some functions!) (y/n): n\n",
      "Please check microscope and detector parameters,\n",
      "as the metadata from gatan might be incorrectly loaded\n",
      "Hyperspy.\n"
     ]
    },
    {
     "data": {
      "application/vnd.jupyter.widget-view+json": {
       "model_id": "65186e014af2495bb18521131eabb595",
       "version_major": 2,
       "version_minor": 0
      },
      "text/plain": [
       "VBox(children=(VBox(children=(HBox(children=(Label(value='Beam energy (keV)', layout=Layout(width='auto')), Fl…"
      ]
     },
     "metadata": {},
     "output_type": "display_data"
    }
   ],
   "source": [
    "######## Loading an EEL spectrum image\n",
    "######## For more information, see docstring.\n",
    "if = eif(is_lazy=True)"
   ]
  },
  {
   "cell_type": "code",
   "execution_count": null,
   "metadata": {},
   "outputs": [],
   "source": [
    "######### Loading a new model and correspond parameters\n",
    "######### into class attribute for analysis by:\n",
    "if.load_model(mkey='Lorentzian_leastsq_ls')"
   ]
  },
  {
   "cell_type": "code",
   "execution_count": 4,
   "metadata": {},
   "outputs": [],
   "source": [
    "######### Plotting a signal or linescan as follows:\n",
    "######### Attributes can be found directly in eif.\n",
    "######### See hyperspy documentation of plot() function\n",
    "######### for more information on arguments.\n",
    "if.File.plot()\n",
    "\n",
    "#if.File_deconv.plot()\n",
    "#if.Fit_model.plot()\n",
    "\n",
    "######### Parameter maps are also accessable\n",
    "#if.Ep_q0.plot()\n",
    "\n",
    "######### Further information on each signal is stored \n",
    "######### the corresponding metadata attribute, e.g.:\n",
    "#if.Ep_q0.metadata"
   ]
  },
  {
   "cell_type": "code",
   "execution_count": null,
   "metadata": {},
   "outputs": [],
   "source": [
    "######### Cross correlation between parameter maps and\n",
    "######### a corresponding HAADF image which has to be \n",
    "######### loaded during main loading routine or by\n",
    "######### calling the dfimage() function\n",
    "if.cross_correlation(a.Ep_q0)"
   ]
  },
  {
   "cell_type": "code",
   "execution_count": null,
   "metadata": {},
   "outputs": [],
   "source": [
    "######### Example on how to start a fitting routine for\n",
    "######### model parameter investigation.\n",
    "######### This will generate all parameter signals as\n",
    "######### well as storing them in the class attributes.\n",
    "######### See hyperspy documentation of fit() function\n",
    "######### for more information on arguments.\n",
    "if.eels_fit_routine(function_set='VolumePlasmonDrude', \n",
    "                     fitter='Nelder-Mead', \n",
    "                     method='ml', \n",
    "                     samfire=True, \n",
    "                     workers=8\n",
    "                    )"
   ]
  },
  {
   "cell_type": "code",
   "execution_count": null,
   "metadata": {},
   "outputs": [],
   "source": [
    "######### After attributes are stored, line scans \n",
    "######### can be used for further investigation:\n",
    "\n",
    "#### The line to specify the spatial location of\n",
    "#### the line scan can be read out by:\n",
    "#if.line\n",
    "#will be None if not initiated.\n",
    "\n",
    "#### A line can be set manually with source and \n",
    "#### destination coordinates as follows_\n",
    "if.line = hs.roi.Line2DROI(x1=23.4343, \n",
    "                            y1=2.45814, \n",
    "                            x2=27.2907, \n",
    "                            y2=44.7392, \n",
    "                            linewidth=41.5702\n",
    "                           )\n",
    "\n",
    "#### If no line is specified an interactive widget\n",
    "#### is supported to be adjusted on the Ep_q0 signal\n",
    "\n",
    "#### Setting the time to wait for adjustments \n",
    "#### (default = 30):\n",
    "#if.time=15\n",
    "\n",
    "#### Manually setting the line to none to enable\n",
    "#### interactive mode:\n",
    "#if.line=None\n",
    "\n",
    "#### Clearing the previously generated linescans\n",
    "#### Has to be done previous to any linescans following\n",
    "#### the first linescan generation:\n",
    "if.linescans = {}\n",
    "\n",
    "#### If thickness signal is calculated it will be \n",
    "#### considered for the linescan generation and\n",
    "#### fitted by a polynom if specified.\n",
    "#### Elements and composition have to be specified as\n",
    "#### follows:\n",
    "if.calc_thickness(['Al','Y','Fe'], \n",
    "                   [0.88,0.07,0.05]\n",
    "                  )\n",
    "\n",
    "#### Generating all parameter linescans and\n",
    "#### if specified fitting the linescans by\n",
    "#### polynomial approach and in addition\n",
    "#### if a peak is found trying to fit a \n",
    "#### parameter shift by a gauß approach\n",
    "#### (attribute enabling fitting: parameter_shifts).\n",
    "if.generate_linescans(parameter_shifts=True, \n",
    "                       show=False, \n",
    "                       sensitivity=5, \n",
    "                       medfilt_radius=3,\n",
    "                       polygradn=1\n",
    "                      )"
   ]
  },
  {
   "cell_type": "code",
   "execution_count": null,
   "metadata": {},
   "outputs": [],
   "source": [
    "#### After analysis plotting all possible\n",
    "#### results as follows:\n",
    "if.plot_parameter_maps(overview=False,\n",
    "                        first_plasmon_only=True\n",
    "                       )"
   ]
  },
  {
   "cell_type": "code",
   "execution_count": null,
   "metadata": {},
   "outputs": [],
   "source": [
    "#### Saving all results generated by:\n",
    "if.save_evaluation()"
   ]
  }
 ],
 "metadata": {
  "kernelspec": {
   "display_name": "Python 3",
   "language": "python",
   "name": "python3"
  },
  "language_info": {
   "codemirror_mode": {
    "name": "ipython",
    "version": 3
   },
   "file_extension": ".py",
   "mimetype": "text/x-python",
   "name": "python",
   "nbconvert_exporter": "python",
   "pygments_lexer": "ipython3",
   "version": "3.7.4"
  }
 },
 "nbformat": 4,
 "nbformat_minor": 2
}
