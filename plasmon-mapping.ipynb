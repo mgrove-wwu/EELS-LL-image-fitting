{
 "cells": [
  {
   "cell_type": "markdown",
   "metadata": {
    "ExecuteTime": {
     "end_time": "2018-06-04T07:24:10.994380Z",
     "start_time": "2018-06-04T07:24:06.480159Z"
    }
   },
   "source": [
    "# Header"
   ]
  },
  {
   "cell_type": "code",
   "execution_count": 1,
   "metadata": {
    "ExecuteTime": {
     "end_time": "2018-12-05T08:34:02.214858Z",
     "start_time": "2018-12-05T08:33:33.444858Z"
    }
   },
   "outputs": [
    {
     "name": "stderr",
     "output_type": "stream",
     "text": [
      "/home/max/Apps/anaconda3/envs/Hyperspy/lib/python3.6/site-packages/matplotlib/__init__.py:846: MatplotlibDeprecationWarning: \n",
      "The text.latex.unicode rcparam was deprecated in Matplotlib 2.2 and will be removed in 3.1.\n",
      "  \"2.2\", name=key, obj_type=\"rcparam\", addendum=addendum)\n",
      "/home/max/Apps/anaconda3/envs/Hyperspy/lib/python3.6/site-packages/dask/config.py:168: YAMLLoadWarning: calling yaml.load() without Loader=... is deprecated, as the default Loader is unsafe. Please read https://msg.pyyaml.org/load for full details.\n",
      "  data = yaml.load(f.read()) or {}\n"
     ]
    },
    {
     "data": {
      "application/vnd.jupyter.widget-view+json": {
       "model_id": "17b00f38c0274c8bb9f12628bf39bbaa",
       "version_major": 2,
       "version_minor": 0
      },
      "text/plain": [
       "VBox(children=(Tab(children=(VBox(children=(HBox(children=(Label(value='Expand structures in DictionaryTreeBro…"
      ]
     },
     "metadata": {},
     "output_type": "display_data"
    }
   ],
   "source": [
    "#Loading Hyperspy Utilities and additional libraries\n",
    "%matplotlib qt5\n",
    "import numpy as np\n",
    "import hyperspy\n",
    "import hyperspy.api as hs\n",
    "import matplotlib.pyplot as plt\n",
    "import matplotlib.patches as mpatches\n",
    "import cv2\n",
    "import sys\n",
    "import os\n",
    "from sympy import Symbol\n",
    "from joblib import Parallel, delayed\n",
    "import multiprocessing\n",
    "hs.preferences.gui(toolkit='ipywidgets')"
   ]
  },
  {
   "cell_type": "code",
   "execution_count": 2,
   "metadata": {
    "ExecuteTime": {
     "end_time": "2018-10-29T10:10:48.810106Z",
     "start_time": "2018-10-29T10:10:48.803468Z"
    }
   },
   "outputs": [],
   "source": [
    "#Loading libraries for watershed-analysis\n",
    "import matplotlib as mpl\n",
    "import matplotlib.image as mpimg\n",
    "\n",
    "import mendeleev as mend\n",
    "import sympy\n",
    "import scipy\n",
    "from scipy import ndimage as ndi\n",
    "from skimage.filters import rank\n",
    "from skimage.morphology import (\n",
    "    watershed, disk, diamond, binary_erosion, binary_dilation)\n",
    "from skimage.util import img_as_ubyte"
   ]
  },
  {
   "cell_type": "code",
   "execution_count": 19,
   "metadata": {},
   "outputs": [],
   "source": [
    "sympy.init_printing()\n",
    "x, t = sympy.symbols('x t', real=True)\n",
    "\n",
    "mu = sympy.symbols('mu', real=True)\n",
    "sigma, a, b, lamb, nu = sympy.symbols('sigma a b lambda nu', positive=True)\n",
    "\n",
    "def area(dist):\n",
    "    return sympy.simplify(sympy.integrate(dist, (x, -sympy.oo, sympy.oo)))\n",
    "def mean(dist):\n",
    "    return area(dist*x)\n",
    "def EX2(dist):\n",
    "    return area(dist*x**2)\n",
    "def variance(dist):\n",
    "    return sympy.simplify(EX2(dist) - mean(dist)**2)\n",
    "def mgf(dist):\n",
    "    return sympy.simplify(area(dist*sympy.exp(x*t)))\n",
    "def latex(result):\n",
    "    return \"$\" + sympy.latex(result) + \"$\\n\" \n",
    "def summarize(dist):\n",
    "    print(\"Distribution: \" + latex(dist))\n",
    "    print(\"Area: \" + latex(area(dist)))\n",
    "    print(\"Mean: \" + latex(mean(dist)))\n",
    "    print(\"Variance: \" + latex(variance(dist)))\n",
    "    print(\"MGF: \" + latex(mgf(dist)))\n",
    "summarise = summarize  # alias"
   ]
  },
  {
   "cell_type": "code",
   "execution_count": 22,
   "metadata": {},
   "outputs": [
    {
     "name": "stdout",
     "output_type": "stream",
     "text": [
      "Distribution: $\\begin{cases} 0 & \\text{for}\\: x < 0 \\\\\\frac{b^{a} x^{a - 1} e^{- b x}}{\\Gamma\\left(a\\right)} & \\text{otherwise} \\end{cases}$\n",
      "\n",
      "Area: $\\int_{-\\infty}^{\\infty} \\begin{cases} 0 & \\text{for}\\: x < 0 \\\\\\frac{b^{a} x^{a - 1} e^{- b x}}{\\Gamma\\left(a\\right)} & \\text{otherwise} \\end{cases}\\, dx$\n",
      "\n",
      "Mean: $\\int_{-\\infty}^{\\infty} \\begin{cases} 0 & \\text{for}\\: x < 0 \\\\\\frac{\\left(b x\\right)^{a} e^{- b x}}{\\Gamma\\left(a\\right)} & \\text{otherwise} \\end{cases}\\, dx$\n",
      "\n",
      "Variance: $\\begin{cases} - \\left(\\int_{-\\infty}^{\\infty} 0\\, dx\\right)^{2} + \\int_{-\\infty}^{\\infty} 0\\, dx & \\text{for}\\: x < 0 \\\\- \\left(\\int_{-\\infty}^{\\infty} \\frac{a b^{a} x^{a} e^{- b x}}{\\Gamma\\left(a + 1\\right)}\\, dx\\right)^{2} + \\int_{-\\infty}^{\\infty} \\frac{a b^{a} x^{a + 1} e^{- b x}}{\\Gamma\\left(a + 1\\right)}\\, dx & \\text{otherwise} \\end{cases}$\n",
      "\n",
      "MGF: $\\frac{t^{- a} \\left(\\frac{b}{\\operatorname{polar\\_lift}{\\left (- \\frac{b}{t} + 1 \\right )}}\\right)^{a} e^{- i \\pi a} \\gamma\\left(a, - \\infty \\operatorname{sign}{\\left (t \\operatorname{polar\\_lift}{\\left (- \\frac{b}{t} + 1 \\right )} \\right )}\\right)}{\\Gamma\\left(a\\right)}$\n",
      "\n"
     ]
    }
   ],
   "source": [
    "gamma = sympy.Piecewise(\n",
    "    (0, x < 0),\n",
    "    (b**a / sympy.gamma(a) * x**(a-1) * sympy.exp(-x*b), True)\n",
    ")\n",
    "summarize(gamma)"
   ]
  },
  {
   "cell_type": "markdown",
   "metadata": {},
   "source": [
    "# Mapping automation _Plasmon-characteristics_ "
   ]
  },
  {
   "cell_type": "markdown",
   "metadata": {},
   "source": [
    "## Class _Plasmon feature Mapping_"
   ]
  },
  {
   "cell_type": "code",
   "execution_count": 55,
   "metadata": {
    "ExecuteTime": {
     "end_time": "2018-12-05T11:24:20.015097Z",
     "start_time": "2018-12-05T11:24:19.905730Z"
    }
   },
   "outputs": [],
   "source": [
    "# Class shall be used to map shear-transformation-zones for an image to visualize \n",
    "# shear-bands by considering energy-shifts of the plasmon-peaks aligned with the ZLP\n",
    "class Plasmon_mapper(object): \n",
    "\n",
    "    # Initialize the class for STZ-mapping \n",
    "    def __init__(self, \n",
    "                 filename      = '', \n",
    "                 file          = None,\n",
    "                 is_stack      = False, \n",
    "                 is_lazy       = False, \n",
    "                 binning       = True,\n",
    "                 includes_fits = False,\n",
    "                 normalize     = False\n",
    "                ):\n",
    "        \"\"\"\n",
    "        Plasmon_mapper: \n",
    "                    With careful analysis of an EELS-image the change of the spatial electron density\n",
    "                    and additional thickness analysis, the MSER algorithm generates segments of the \n",
    "                    sheared regions and evaluates orientation of sheared regions, as the strain\n",
    "                    impacts on the Plasmon resonance energy.\n",
    "                    Different outputs are possible to analyze the parameter shifts of the plasmon \n",
    "                    signature in the specimen.\n",
    "        ----------------------------------------------------------------------------------------------\n",
    "        Initialization parameters:\n",
    "                    filename: STRING      - specify filename and directory to load the EELS-image generated \n",
    "                                            (e.g. in GATAN)\n",
    "                    file: Hyperspy-Signal - only use this when not using filename. Previously initia-\n",
    "                                            lized Hyperspy Signals object. Read more on the Signals \n",
    "                                            objects http://hyperspy.org/hyperspy-doc/\n",
    "                    is_stack: BOOLEAN     - loading multiple files by a wildcard \"*\"\n",
    "                    \n",
    "                    is_lazy: BOOLEAN      - to analyze big data (e.g. .dm4 - files) can be a problematic\n",
    "                                            thing to due high memory requirements, therefore instead of\n",
    "                                            using a numpy nd.array one can fall back to dask.dask_array\n",
    "                                            resulting in an object which consists of multiple numpy arrays.\n",
    "                                            This makes it possible to only work on parts of the datafile\n",
    "                                            and therefore requiring only a small part of the memory require-\n",
    "                                            ments.\n",
    "                    binning: BOOLEAN      - operate on binned datasets. Due to caution set to FALSE as \n",
    "                                            default! Preferably, the datasets should only be binned using\n",
    "                                            hyperspy to verify correct results.\n",
    "        \"\"\"\n",
    "        self.Filename          = ''\n",
    "        self.File              = None\n",
    "        self.File_deconv       = None\n",
    "        self.samf              = None\n",
    "        \n",
    "        self.Fit_Model         = None\n",
    "        self.Chisq             = None\n",
    "        self.red_Chisq         = None\n",
    "        \n",
    "        self.eels_axis         = None\n",
    "        self.function_set      = None\n",
    "        self.model_name        = None\n",
    "        \n",
    "        self.ZLP_Emax          = None\n",
    "        self.ZLP_FWHM          = None\n",
    "        self.ZLP_Int           = None\n",
    "        \n",
    "        self.FPP_Emax          = None\n",
    "        self.FPP_FWHM          = None\n",
    "        self.FPP_Int           = None\n",
    "        self.SPP_Emax          = None\n",
    "        self.SPP_FWHM          = None\n",
    "        self.SPP_Int           = None\n",
    "        \n",
    "        self.Ep_q0             = None\n",
    "        \n",
    "        self.parameter_dict    = {}\n",
    "\n",
    "        self.Elements          = None\n",
    "        self.Concentrations    = None\n",
    "        self.thickness_map     = None\n",
    "        \n",
    "        self.dir_list          = ['Parameter Maps', \n",
    "                                  'Thickness Evaluation', \n",
    "                                  'Density Analysis', \n",
    "                                  'Plasmon characteristics'\n",
    "                                 ]\n",
    "        \n",
    "        self.ROI               = None\n",
    "        self.Line              = None\n",
    "        self.Line_Scan         = None\n",
    "        \n",
    "        self.elastic_threshold = None # arithmetic mean of the elastic threshold over the navigation space\n",
    "        self.elastic_intensity = None\n",
    "        \n",
    "        self.load_data(filename, file, is_stack, is_lazy, binning)\n",
    "        \n",
    "    \n",
    "    def print_file_information(self):\n",
    "        \"\"\"\n",
    "        Printing standard metadata of file for beam and detector information as well as dataset information\n",
    "        and the currently stored models of the file\n",
    "        \"\"\"\n",
    "        print(self.File.metadata)\n",
    "        \n",
    "        print(self.File.axes_manager)\n",
    "        \n",
    "        print(self.File.models)\n",
    "        \n",
    "        \n",
    "    def yes_or_no(self, question):\n",
    "        \"\"\"\n",
    "        Function for yes-no user input. Returns BOOLEAN value (y = True | n = False)\n",
    "        \"\"\"\n",
    "        reply = str(input(question+' (y/n): ')).lower().strip()\n",
    "        \n",
    "        if reply[0] == 'y':\n",
    "            return True\n",
    "        \n",
    "        elif reply[0] == 'n':\n",
    "            return False\n",
    "        \n",
    "        else:\n",
    "            return self.yes_or_no(\"Please Enter\")\n",
    "      \n",
    "    \n",
    "    def model_gui(self, model):\n",
    "        \"\"\"\n",
    "        Function to call the model attribute gui and await parameter adjustments until user is finished\n",
    "        \"\"\"\n",
    "        model.gui()\n",
    "        while True:\n",
    "            finished = self.yes_or_no('When finished type (y) :')\n",
    "            if (finished == True):\n",
    "                break\n",
    "        \n",
    "    \n",
    "    def split(self, txt, seps):\n",
    "        \"\"\"\n",
    "        Splitting a string by specified seperators seps taking a tuple as input.\n",
    "        \"\"\"\n",
    "        default_sep = seps[0]\n",
    "\n",
    "        # we skip seps[0] because that's the default seperator\n",
    "        for sep in seps[1:]:\n",
    "            txt = txt.replace(sep, default_sep)\n",
    "        return [i.strip() for i in txt.split(default_sep)]\n",
    "\n",
    "        \n",
    "    # Routine to load the data\n",
    "    def load_data(self, \n",
    "                  filename, \n",
    "                  file, \n",
    "                  is_stack, \n",
    "                  is_lazy,\n",
    "                  binning\n",
    "                 ):\n",
    "        \"\"\"\n",
    "        load_data: This routine specifies the order of dimensional alignment and\n",
    "                   the zero-loss alignment as well as the usage of a ROI for specific\n",
    "                   analysis while conserving the metadata of the the file. The last work \n",
    "                   step introducing the ROI will be dismissed in this routine in the next update. \n",
    "                   The parameters will be submitted from the __init__ routine of the STZ-Mapper class.\n",
    "        ----------------------------------------------------------------------------------------------\n",
    "        Initialization parameters:\n",
    "                    filename: STRING - specify filename and directory to load the EELS-image generated \n",
    "                                       (e.g. in GATAN)\n",
    "                    file: Hyperspy-Signal - only use this when not using filename. Previously initia-\n",
    "                                            lized Hyperspy Signals object. Read more on the Signals \n",
    "                                            objects http://hyperspy.org/hyperspy-doc/\n",
    "                    is_stack: BOOLEAN - loading multiple files by a wildcard \"*\"\n",
    "                    \n",
    "                    is_lazy: BOOLEAN - to analyze big data (e.g. .dm4 - files) can be a problematic\n",
    "                                       thing to due high memory requirements, therefore instead of\n",
    "                                       using a numpy nd.array one can fall back to dask.dask_array\n",
    "                                       resulting in an object which consists of multiple numpy arrays.\n",
    "                                       This makes it possible to only work on parts of the datafile\n",
    "                                       and therefore requiring only a small part of the memory require-\n",
    "                                       ments.\n",
    "                    use_roi: BOOLEAN - depreciated! will be rewritten\n",
    "        \"\"\"\n",
    "        if (filename  != ''):\n",
    "            self.File  = hs.load(filename, stack = is_stack, lazy = is_lazy)\n",
    "\n",
    "        elif (file    != None):\n",
    "            self.File  = file\n",
    "\n",
    "        self.Filename          = self.File.metadata.General.title\n",
    "        \n",
    "        try:\n",
    "            self.eels_axis     = self.File.axes_manager['Energy loss']\n",
    "        \n",
    "        except:\n",
    "            axes               = self.File.axes_manager.as_dictionary()\n",
    "            for i in range(len(axes) - 1):\n",
    "                axis = axes['axis-' + str(i)]\n",
    "                if (axis['units'] == 'eV'):\n",
    "                    self.eels_axis = self.File.axes_manager[i]\n",
    "\n",
    "        including_fits = self.yes_or_no('Does the file include stored models from previous fitting?'\n",
    "                                       )\n",
    "        if (including_fits   == True):\n",
    "            self.load_model()\n",
    "        \n",
    "        elif (including_fits == False):\n",
    "            channels_before                     = self.File.axes_manager.signal_size\n",
    "            self.File.data[self.File.data <= 0] = 1\n",
    "            \n",
    "            print('Setting up proper navigation space...')\n",
    "            self.align_dataset()\n",
    "            \n",
    "            print('Aligning Zero-Loss Peak...')\n",
    "            self.File.align_zero_loss_peak(subpixel = True)\n",
    "            \n",
    "            print('Aligning datastructure successful. Estimate poissonian noise...')\n",
    "            self.File.estimate_poissonian_noise_variance()\n",
    "            \n",
    "            deconv     = self.yes_or_no('Do you want to continue with the deconvoluted spectrum using' +  '\\n'\n",
    "                                        'the Fourier-Log-Deconvolution method?' + '\\n' +\n",
    "                                        '[Less calculation effort in the fitting routine as only the' + '\\n' \n",
    "                                        ' plasmon peak is fitted. Precision might decrease.' + '\\n'\n",
    "                                       )\n",
    "            if (deconv == True):\n",
    "                print('Calculating deconvoluted spectrum...')\n",
    "                self.zlp_deconvolution()\n",
    "            \n",
    "            #norm           = self.yes_or_no('Shall the data be normalized?' + '\\n' +\n",
    "            #                                '[Normalization by integration over spectrum axis]' + '\\n'\n",
    "            #                               )\n",
    "            #if (norm   == True):\n",
    "            #    self.normalize(deconv)\n",
    "            \n",
    "            channels_after   = self.File.axes_manager.signal_size\n",
    "            cropped_channels = channels_before - channels_after\n",
    "            print('Loading process completed. Energy channels cropped by ZLP-Alignment: ' + \n",
    "                  str(cropped_channels) + '[' + str(cropped_channels/channels_before*100) + '%]' +\n",
    "                  '\\n' + 'Channels before: ' + str(channels_before) + '\\n' +\n",
    "                  'Channels after: ' + str(channels_after)\n",
    "                 )\n",
    "\n",
    "        \n",
    "        self.elastic_threshold = np.mean(\n",
    "            self.File.estimate_elastic_scattering_threshold().data\n",
    "        )\n",
    "        self.elastic_intensity = np.mean(\n",
    "            self.File.estimate_elastic_scattering_intensity(self.elastic_threshold).data\n",
    "        )\n",
    "        self.File.metadata.Signal.binned = binning\n",
    "        \n",
    "    \n",
    "    def align_dataset(self):\n",
    "        \"\"\"\n",
    "        align_dataset: By dimension the dataset will be devided into different objects as follows:\n",
    "                           EELS: 1D array specifying Counts/Intensity along the energy loss axis\n",
    "                                 given by offset and gain as defined in the metadata\n",
    "                           EELS-stack: 2D array specifying Counts/Intensity as above (see Object EELS)\n",
    "                                       and 1 navigation axis\n",
    "                           EELS-image: 3D array specifying Counts/Intensity as above (see Object EELS)\n",
    "                                       and 2 navigation axis - therefore the name... :)\n",
    "        ----------------------------------------------------------------------------------------------\n",
    "        Initialization parameters:\n",
    "                    None, all parameters should have been included in the metadata by GATAN or by\n",
    "                    defining the meta information in hyperspy yourself.\n",
    "        \"\"\"\n",
    "        #tmp = self.File.metadata.Signal.Noise_properties\n",
    "        #variance = self.File.copy()\n",
    "        print(self.eels_axis)\n",
    "        self.File = self.File.as_signal1D(spectral_axis=self.eels_axis)#, out=self.File)\n",
    "        #self.File.metadata.Signal.Noise_properties =tmp\n",
    "        self.File.set_signal_type(\"EELS\")\n",
    "        \n",
    "        for axis in self.File.axes_manager.navigation_axes:\n",
    "            axis.offset = 0\n",
    "            axis.scale  = abs(axis.scale)\n",
    "\n",
    "    \n",
    "    def zlp_deconvolution(self):\n",
    "        \"\"\"\n",
    "        Uses Fourier-Log method for deconvolution and elastic scattering threshold to estimate ZLP.\n",
    "        \"\"\"\n",
    "        zlp              = self.File.isig[:self.elastic_threshold]\n",
    "        self.File_deconv = self.File.fourier_log_deconvolution(zlp)\n",
    "        \n",
    "    \n",
    "    def normalize(self, \n",
    "                  deconv\n",
    "                 ):\n",
    "        \"\"\"\n",
    "        Normalize an EELS-spectrum / spectrum-image setting the maximum height of the zero-loss-peak to 1.\n",
    "        Currently not needed!\n",
    "        \"\"\"\n",
    "        #possibility for axis to be read automatically\n",
    "        #axis=len(np.array(im).shape)-1\n",
    "        if (deconv == False):\n",
    "            poissonian_noise = self.File.metadata.Signal.get_item(\"Noise_properties.variance\")\n",
    "            integrated = self.File.integrate1D(self.File.axes_manager.signal_axes)\n",
    "            self.File_norm = self.File / integrated\n",
    "            self.File_norm.metadata.Signal.set_item(\"Noise_properties.variance\", poissonian_noise/integrated)\n",
    "        \n",
    "        elif (deconv == True):\n",
    "            poissonian_noise = self.File_deconv.metadata.Signal.get_item(\"Noise_properties.variance\")\n",
    "            integrated = self.File_deconv.integrate1D(self.File_deconv.axes_manager.signal_axes)\n",
    "            self.File_norm = self.File_deconv / integrated\n",
    "            self.File_norm.metadata.Signal.set_item(\"Noise_properties.variance\", poissonian_noise/integrated)\n",
    "\n",
    "        \n",
    "    def normalize_parameter_maps(self):\n",
    "        \"\"\"\n",
    "        Comments missing\n",
    "        \"\"\"\n",
    "        #MISSING\n",
    "        return 0\n",
    "\n",
    "\n",
    "    def init_model_params(self, \n",
    "                          functions,\n",
    "                          deconv,\n",
    "                          normalized\n",
    "                         ):\n",
    "        \"\"\"\n",
    "        Comments missing\n",
    "        \"\"\"\n",
    "        if (self.function_set != 'VolumePlasmonDrude' and self.function_set != 'Lorentzian'):\n",
    "            print('Estimate function parameters...')\n",
    "            \n",
    "            if (normalized == True):\n",
    "                \n",
    "                if (deconv == False):\n",
    "                    functions[0].estimate_parameters(self.File_norm, -10., 10.)\n",
    "                    functions[1].estimate_parameters(self.File_norm, 10., 50.)\n",
    "                    functions[2].estimate_parameters(self.File_norm, 25., 75.)\n",
    "\n",
    "                elif (deconv == True):\n",
    "                    functions[0].estimate_parameters(self.File_norm, 10., 50.)\n",
    "                \n",
    "            elif (normalized == False):\n",
    "                \n",
    "                if (deconv == False):\n",
    "                    functions[0].estimate_parameters(self.File, -10., 10.)\n",
    "                    functions[1].estimate_parameters(self.File, 10., 50.)\n",
    "                    functions[2].estimate_parameters(self.File, 25., 75.)\n",
    "\n",
    "                elif (deconv == True):\n",
    "                    functions[0].estimate_parameters(self.File_deconv, 10., 50.)\n",
    "                    \n",
    "            else:\n",
    "                print('The attributes normalized and deconv has to be BOOLEAN. Please set to \"True\" or \"False\".')\n",
    "                return 0\n",
    "    \n",
    "    \n",
    "    def init_func(self):\n",
    "        \"\"\"\n",
    "        Initialize distribution type for ZLP, FPP, SPP. Three types are currently supported:\n",
    "        func: {'VolumePlasmonDrude', 'Lorentzian', 'Gaussian', 'Voigt'}\n",
    "        \"\"\"\n",
    "        Int  = self.elastic_intensity\n",
    "        E0 = 0.  # in eV\n",
    "        Ep = 15. # in eV\n",
    "        \n",
    "        try:\n",
    "        \n",
    "            if (self.function_set == 'VolumePlasmonDrude'):\n",
    "\n",
    "                func_1 = hs.model.components1D.Voigt()\n",
    "                func_1.area.value                = Int\n",
    "                func_1.centre.value              = E0\n",
    "                func_1.FWHM.value                = 0.1\n",
    "                func_1.gamma.value               = 0.1\n",
    "                func_1.name = 'Zero_Loss_Peak'\n",
    "\n",
    "                func_2 = hs.model.components1D.VolumePlasmonDrude(intensity=Int*0.05,\n",
    "                                                                  plasmon_energy=Ep,\n",
    "                                                                  fwhm=0.1\n",
    "                                                                 )\n",
    "                func_2.name = 'First_Plasmon_Peak'\n",
    "\n",
    "                func_3 = hs.model.components1D.VolumePlasmonDrude(intensity=Int*0.005,\n",
    "                                                                  plasmon_energy=Ep*2,\n",
    "                                                                  fwhm=0.1\n",
    "                                                                 )\n",
    "                func_3.name = 'Second_Plasmon_Peak'\n",
    "                \n",
    "            elif (self.function_set == 'Lorentzian'):\n",
    "\n",
    "                func_1 = hs.model.components1D.Voigt()\n",
    "                func_1.area.value                = Int\n",
    "                func_1.centre.value              = E0\n",
    "                func_1.FWHM.value                = 0.1\n",
    "                func_1.gamma.value               = 0.1\n",
    "                func_1.name = 'Zero_Loss_Peak'\n",
    "                \n",
    "                func_2 = hs.model.components1D.Lorentzian(A=Int*0.05, \n",
    "                                                          centre=Ep,\n",
    "                                                          gamma=0.1\n",
    "                                                         )\n",
    "                func_2.name = 'First_Plasmon_Peak'\n",
    "\n",
    "                func_3 = hs.model.components1D.Lorentzian(A=Int*0.005, \n",
    "                                                          centre=Ep*2,\n",
    "                                                          gamma=0.1\n",
    "                                                         )\n",
    "                func_3.name = 'Second_Plasmon_Peak'\n",
    "                \n",
    "            elif (self.function_set == 'Gaussian'):\n",
    "\n",
    "                func_1 = hs.model.components1D.Voigt()\n",
    "                func_1.area.value                = Int\n",
    "                func_1.centre.value              = E0\n",
    "                func_1.FWHM.value                = 0.1\n",
    "                func_1.gamma.value               = 0.1\n",
    "                func_1.name = 'Zero_Loss_Peak'\n",
    "\n",
    "                func_2 = hs.model.components1D.Gaussian(A=Int*0.05,\n",
    "                                                        centre=Ep,\n",
    "                                                        sigma=0.1\n",
    "                                                       )\n",
    "                func_2.name = 'First_Plasmon_Peak'\n",
    "\n",
    "                func_3 = hs.model.components1D.Gaussian(A=Int*0.005,\n",
    "                                                        centre=Ep*2,\n",
    "                                                        sigma=0.1\n",
    "                                                       )\n",
    "                func_3.name = 'Second_Plasmon_Peak'\n",
    "\n",
    "            elif (self.function_set == 'Voigt'):\n",
    "\n",
    "                func_1 = hs.model.components1D.Voigt()\n",
    "                func_1.area.value                = Int\n",
    "                func_1.centre.value              = E0\n",
    "                func_1.FWHM.value                = 0.1\n",
    "                func_1.gamma.value               = 0.1\n",
    "                func_1.name = 'Zero_Loss_Peak'\n",
    "                \n",
    "                func_2 = hs.model.components1D.Voigt()\n",
    "                func_2.area.value   = Int*0.05\n",
    "                func_2.centre.value = Ep\n",
    "                func_2.FWHM.value   = 0.1\n",
    "                func_2.gamma.value  = 0.1\n",
    "                func_2.name = 'First_Plasmon_Peak'\n",
    "                \n",
    "                func_3 = hs.model.components1D.Voigt()\n",
    "                func_2.area.value   = Int*0.005\n",
    "                func_2.centre.value = Ep*2\n",
    "                func_2.FWHM.value   = 0.1\n",
    "                func_2.gamma.value  = 0.1\n",
    "                func_3.name = 'Second_Plasmon_Peak'\n",
    "                \n",
    "            return func_1, func_2, func_3\n",
    "            \n",
    "        except:\n",
    "            \n",
    "            print('No distributions initialized. Please try again. For more information, see docstring.')\n",
    "        \n",
    "\n",
    "    \n",
    "    # Function to fit EELS-Spectra with three gaussian\n",
    "    # Another option is to use code in 2nd cell to use extra class\n",
    "    def eels_fit_routine(self, \n",
    "                         function_set='VolumePlasmonDrude', \n",
    "                         fitter='leastsq', \n",
    "                         method='ls', \n",
    "                         samfire=False, \n",
    "                         multithreading=False, \n",
    "                         workers=4,\n",
    "                         deconv=False,\n",
    "                         normalized=False\n",
    "                        ):         \n",
    "        \"\"\"\n",
    "        Routine to initialize fit routine. Storing the calculated model in the loaded file.\n",
    "        \n",
    "        Initialize distribution model for ZLP, FPP, SPP. Three types are currently supported:\n",
    "        function_Set: {'VolumePlasmonDrude', 'Lorentzian', 'Gaussian', 'Voigt'}\n",
    "        \"\"\"\n",
    "        # Initialize serial fitting routine\n",
    "        self.function_set = function_set\n",
    "        self.model_name = function_set + str('_') + method\n",
    "        \n",
    "        if (samfire == False):\n",
    "\n",
    "            self.Fit_Model = self.fit_eels(fitter, \n",
    "                                           method,\n",
    "                                           deconv,\n",
    "                                           normalized\n",
    "                                          )\n",
    "\n",
    "        # Initialize SAMFire (parallel) fitting routine\n",
    "        else:\n",
    "\n",
    "            self.Fit_Model = self.fit_eels_SAMF(fitter, \n",
    "                                                method, \n",
    "                                                multithreading, \n",
    "                                                workers,\n",
    "                                                deconv,\n",
    "                                                normalized\n",
    "                                               )\n",
    "        \n",
    "        print('Model will be stored in file...')        \n",
    "        self.Fit_Model.store(name = self.model_name)\n",
    "        print('Stored models in file:')\n",
    "        \n",
    "        if (normalized == True):\n",
    "            print(self.File_norm.models)\n",
    "            \n",
    "        else:\n",
    "            if (deconv == False):\n",
    "                print(self.File.models)\n",
    "\n",
    "            elif (deconv == True):\n",
    "                print(self.File_deconv.models)\n",
    "            \n",
    "        self.generate_param_maps()\n",
    "        \n",
    "        \n",
    "    def init_model(self, \n",
    "                   deconv, \n",
    "                   normalized,\n",
    "                   mean = False\n",
    "                  ):\n",
    "        \"\"\"\n",
    "        Comments missing\n",
    "        \"\"\"\n",
    "        if (mean == True):\n",
    "            \n",
    "            if (deconv == True):\n",
    "                mean                = self.File_deconv.mean(),create_model(auto_background=False)\n",
    "                \n",
    "            elif (deconv == False):\n",
    "                mean                = self.File.mean().create_model(auto_background=False)\n",
    "                \n",
    "            func1, func2, func3 = self.init_func()\n",
    "\n",
    "            mean.set_signal_range(-self.elastic_threshold, 100.) # in eV\n",
    "            mean.extend([func1, func2, func3])\n",
    "\n",
    "            self.set_second_plasmonenergy(mean)\n",
    "            \n",
    "            return mean\n",
    "        \n",
    "        elif (mean == False):\n",
    "            \n",
    "            if (deconv == True):\n",
    "                model               = self.File_deconv.create_model(auto_background=False)\n",
    "            \n",
    "            elif (deconv == False):\n",
    "                model               = self.File.create_model(auto_background=False)\n",
    "                \n",
    "            func1, func2, func3 = self.init_func()\n",
    "\n",
    "            model.set_signal_range(-self.elastic_threshold, 100.) # in eV\n",
    "            model.extend([func1, func2, func3])\n",
    "\n",
    "            gui = self.yes_or_no('Do you want to use the gui to manually set the starting parameters?')\n",
    "            if (gui == True):\n",
    "                self.model_gui(model)\n",
    "\n",
    "            else:\n",
    "                self.init_model_params([func1, func2, func3], deconv, normalized)\n",
    "\n",
    "            self.set_second_plasmonenergy(model)\n",
    "            \n",
    "            return model\n",
    "    \n",
    "    \n",
    "    def set_second_plasmonenergy(self, model):\n",
    "        \"\"\"\n",
    "        Comments missing\n",
    "        \"\"\"\n",
    "        if (self.function_set != 'VolumePlasmonDrude'):\n",
    "            model.components.Second_Plasmon_Peak.centre.twin_function_expr         = '2*x'\n",
    "            model.components.Second_Plasmon_Peak.centre.inverse_twin_function_expr = 'x/2'\n",
    "            model.components.Second_Plasmon_Peak.centre.twin                       = model.components.First_Plasmon_Peak.centre\n",
    "            #model.components.Second_Plasmon_Peak.centre.free                       = False\n",
    "\n",
    "        else:\n",
    "            model.components.Second_Plasmon_Peak.plasmon_energy.twin_function_expr         = '2*x'\n",
    "            model.components.Second_Plasmon_Peak.plasmon_energy.inverse_twin_function_expr = 'x/2'\n",
    "            model.components.Second_Plasmon_Peak.plasmon_energy.twin                       = model.components.First_Plasmon_Peak.plasmon_energy\n",
    "            #model.components.Second_Plasmon_Peak.plasmon_energy.free                       = False\n",
    "    \n",
    "    \n",
    "    def fit_zlp_only(self, \n",
    "                     model, \n",
    "                     fitter, \n",
    "                     method,\n",
    "                     bounded\n",
    "                    ):\n",
    "        \"\"\"\n",
    "        Comments missing\n",
    "        \"\"\"\n",
    "        mean = self.init_model(False, False, mean = True)\n",
    "        \n",
    "        self.set_bounds(mean, bounded)\n",
    "        \n",
    "        mean.components.Zero_Loss_Peak.active      = True\n",
    "        mean.components.First_Plasmon_Peak.active  = False\n",
    "        mean.components.Second_Plasmon_Peak.active = False\n",
    "\n",
    "        mean.set_signal_range(-self.elastic_threshold, \n",
    "                              self.elastic_threshold\n",
    "                             )\n",
    "        \n",
    "        mean.fit(fitter=fitter, \n",
    "                 method=method,\n",
    "                 bounded=bounded\n",
    "                )\n",
    "        \n",
    "        self.set_model_params(model, \n",
    "                              mean, \n",
    "                              func='Zero_Loss_Peak'\n",
    "                             )\n",
    "        \n",
    "        \n",
    "    def fit_pp_only(self,\n",
    "                    upper_bound,\n",
    "                    model, \n",
    "                    fitter, \n",
    "                    method,\n",
    "                    bounded\n",
    "                   ):\n",
    "        \"\"\"\n",
    "        Comments missing\n",
    "        \"\"\"\n",
    "        mean = self.init_model(False, False, mean = True)\n",
    "        \n",
    "        self.set_bounds(mean, bounded)\n",
    "        \n",
    "        mean.components.Zero_Loss_Peak.active      = False\n",
    "        mean.components.First_Plasmon_Peak.active  = True\n",
    "        mean.components.Second_Plasmon_Peak.active = True\n",
    "\n",
    "        self.set_second_plasmonenergy(mean)\n",
    "        \n",
    "        mean.set_signal_range(self.elastic_threshold, #starting range with inflexion point of ZLP\n",
    "                              upper_bound #eV\n",
    "                             )\n",
    "\n",
    "        mean.fit(fitter=fitter, \n",
    "                 method=method,\n",
    "                 bounded=bounded\n",
    "                )\n",
    "        \n",
    "        if (self.function_set == 'VolumePlasmonDrude'):\n",
    "            energy_fpp = mean.components.First_Plasmon_Peak.plasmon_energy.as_signal(field='values').data\n",
    "\n",
    "            tmp = energy_fpp[energy_fpp > self.elastic_threshold]\n",
    "            plasmonenergy = np.mean(tmp[tmp < 2 * np.mean(tmp)])\n",
    "            #mean.components.Second_Plasmon_Peak.plasmon_energy.free = False\n",
    "\n",
    "\n",
    "        else:\n",
    "            energy_fpp = mean.components.First_Plasmon_Peak.centre.as_signal(field='values').data\n",
    "            #mean.components.Second_Plasmon_Peak.centre.free = False\n",
    "\n",
    "            tmp = energy_fpp[energy_fpp > self.elastic_threshold]\n",
    "            plasmonenergy = np.mean(tmp[tmp < 2 * np.mean(tmp)])\n",
    "            \n",
    "        mean.set_signal_range(self.elastic_threshold, #see above\n",
    "                              3 * plasmonenergy #using better estimate of plasmon energy range to increase accuracy \n",
    "                             )\n",
    "\n",
    "        mean.fit(fitter=fitter, \n",
    "                 method=method,\n",
    "                 bounded=bounded\n",
    "                )\n",
    "        \n",
    "        self.set_model_params(model, \n",
    "                              mean, \n",
    "                              func='First_Plasmon_Peak'\n",
    "                             )\n",
    "        \n",
    "        self.set_model_params(model, \n",
    "                              mean, \n",
    "                              func='Second_Plasmon_Peak'\n",
    "                             )\n",
    "        \n",
    "        return plasmonenergy\n",
    "        \n",
    "    \n",
    "    def fit_fpp_only(self, \n",
    "                     upper_bound,\n",
    "                     model, \n",
    "                     fitter, \n",
    "                     method,\n",
    "                     bounded\n",
    "                    ):\n",
    "        \"\"\"\n",
    "        Comments missing\n",
    "        \"\"\"\n",
    "        mean = self.init_model(False, False, mean = True)\n",
    "        \n",
    "        self.set_bounds(mean, bounded)\n",
    "        \n",
    "        mean.components.Zero_Loss_Peak.active      = False\n",
    "        mean.components.First_Plasmon_Peak.active  = True\n",
    "        mean.components.Second_Plasmon_Peak.active = False\n",
    "\n",
    "        mean.set_signal_range(self.elastic_threshold, #see above\n",
    "                              upper_bound #eV\n",
    "                             )\n",
    "        \n",
    "        mean.fit(fitter=fitter, \n",
    "                 method=method,\n",
    "                 bounded=bounded\n",
    "                )\n",
    "        \n",
    "        if (self.function_set == 'VolumePlasmonDrude'):\n",
    "            energy_fpp = mean.components.First_Plasmon_Peak.plasmon_energy.as_signal(field='values').data\n",
    "            tmp = energy_fpp[energy_fpp > self.elastic_threshold]\n",
    "            plasmonenergy = np.mean(tmp[tmp < 2 * np.mean(tmp)])\n",
    "\n",
    "\n",
    "        else:\n",
    "            energy_fpp = mean.components.First_Plasmon_Peak.centre.as_signal(field='values').data\n",
    "            tmp = energy_fpp[energy_fpp > self.elastic_threshold]\n",
    "            plasmonenergy = np.mean(tmp[tmp < 2 * np.mean(tmp)])\n",
    "            \n",
    "        \n",
    "        mean.set_signal_range(self.elastic_threshold, #see above\n",
    "                              2 * plasmonenergy #using better estimate of plasmon energy range to increase accuracy \n",
    "                             )\n",
    "\n",
    "        mean.fit(fitter=fitter, \n",
    "                 method=method,\n",
    "                 bounded=bounded\n",
    "                )\n",
    "        \n",
    "        self.set_model_params(model, \n",
    "                              mean, \n",
    "                              func='First_Plasmon_Peak'\n",
    "                             )\n",
    "        \n",
    "        return plasmonenergy\n",
    "        \n",
    "        \n",
    "    def set_bounds(self, model, bounded):\n",
    "        \"\"\"\n",
    "        Comments missing\n",
    "        \"\"\"\n",
    "        if (self.function_set == 'Voigt'):\n",
    "            \n",
    "            if (bounded):\n",
    "                model.components.Zero_Loss_Peak.area.bmin   = (self.elastic_intensity \n",
    "                                                               - self.elastic_intensity / 2\n",
    "                                                              )\n",
    "                model.components.Zero_Loss_Peak.area.bmax   = (self.elastic_intensity \n",
    "                                                               + self.elastic_intensity / 2\n",
    "                                                              )\n",
    "                model.components.Zero_Loss_Peak.centre.bmin = -self.elastic_threshold\n",
    "                model.components.Zero_Loss_Peak.centre.bmax = self.elastic_threshold\n",
    "                model.components.Zero_Loss_Peak.FWHM.bmin   = 0.\n",
    "                model.components.Zero_Loss_Peak.FWHM.bmax   = 2 * self.elastic_threshold\n",
    "                model.components.Zero_Loss_Peak.gamma.bmin  = 0.\n",
    "                model.components.Zero_Loss_Peak.gamma.bmax  = 2 * self.elastic_threshold\n",
    "\n",
    "\n",
    "                model.components.First_Plasmon_Peak.area.bmin   = 0.\n",
    "                model.components.First_Plasmon_Peak.area.bmax   = (self.elastic_intensity \n",
    "                                                                   + self.elastic_intensity / 2\n",
    "                                                                  )\n",
    "                model.components.First_Plasmon_Peak.centre.bmin = self.elastic_threshold\n",
    "                model.components.First_Plasmon_Peak.centre.bmax = 50.\n",
    "                model.components.First_Plasmon_Peak.FWHM.bmin   = 0.\n",
    "                model.components.First_Plasmon_Peak.FWHM.bmax   = 50.\n",
    "                model.components.First_Plasmon_Peak.gamma.bmin  = 0.\n",
    "                model.components.First_Plasmon_Peak.gamma.bmax  = 50.\n",
    "\n",
    "\n",
    "                model.components.Second_Plasmon_Peak.area.bmin   = 0.\n",
    "                model.components.Second_Plasmon_Peak.area.bmax   = (self.elastic_intensity \n",
    "                                                                    + self.elastic_intensity / 2\n",
    "                                                                   )\n",
    "                model.components.Second_Plasmon_Peak.centre.bmin = self.elastic_threshold\n",
    "                model.components.Second_Plasmon_Peak.centre.bmax = 100.\n",
    "                model.components.Second_Plasmon_Peak.FWHM.bmin   = 0.\n",
    "                model.components.Second_Plasmon_Peak.FWHM.bmax   = 100.\n",
    "                model.components.Second_Plasmon_Peak.gamma.bmin  = 0.\n",
    "                model.components.Second_Plasmon_Peak.gamma.bmax  = 100.\n",
    "                \n",
    "            \n",
    "            else:\n",
    "                model.components.Zero_Loss_Peak.area.ext_force_positive        = True\n",
    "                model.components.Zero_Loss_Peak.centre.ext_force_positive      = False\n",
    "                model.components.Zero_Loss_Peak.FWHM.ext_force_positive        = True\n",
    "                model.components.Zero_Loss_Peak.gamma.ext_force_positive       = True\n",
    "                model.components.First_Plasmon_Peak.area.ext_force_positive    = True\n",
    "                model.components.First_Plasmon_Peak.centre.ext_force_positive  = True\n",
    "                model.components.First_Plasmon_Peak.FWHM.ext_force_positive    = True\n",
    "                model.components.First_Plasmon_Peak.gamma.ext_force_positive   = True\n",
    "                model.components.Second_Plasmon_Peak.area.ext_force_positive   = True\n",
    "                model.components.Second_Plasmon_Peak.centre.ext_force_positive = True\n",
    "                model.components.Second_Plasmon_Peak.FWHM.ext_force_positive   = True\n",
    "                model.components.Second_Plasmon_Peak.gamma.ext_force_positive  = True\n",
    "        \n",
    "        \n",
    "        elif (self.function_set == 'Lorentzian'):\n",
    "            \n",
    "            if (bounded):\n",
    "                model.components.Zero_Loss_Peak.area.bmin   = (self.elastic_intensity \n",
    "                                                               - self.elastic_intensity / 2\n",
    "                                                              )\n",
    "                model.components.Zero_Loss_Peak.area.bmax   = (self.elastic_intensity \n",
    "                                                               + self.elastic_intensity / 2\n",
    "                                                              )\n",
    "                model.components.Zero_Loss_Peak.centre.bmin = -self.elastic_threshold\n",
    "                model.components.Zero_Loss_Peak.centre.bmax = self.elastic_threshold\n",
    "                model.components.Zero_Loss_Peak.FWHM.bmin   = 0.\n",
    "                model.components.Zero_Loss_Peak.FWHM.bmax   = 2 * self.elastic_threshold\n",
    "                model.components.Zero_Loss_Peak.gamma.bmin  = 0.\n",
    "                model.components.Zero_Loss_Peak.gamma.bmax  = 2 * self.elastic_threshold\n",
    "\n",
    "\n",
    "                model.components.First_Plasmon_Peak.A.bmin      = 0.\n",
    "                model.components.First_Plasmon_Peak.A.bmax      = (self.elastic_intensity \n",
    "                                                                   + self.elastic_intensity / 2\n",
    "                                                                  )\n",
    "                model.components.First_Plasmon_Peak.centre.bmin = self.elastic_threshold\n",
    "                model.components.First_Plasmon_Peak.centre.bmax = 50.\n",
    "                model.components.First_Plasmon_Peak.gamma.bmin  = 0.\n",
    "                model.components.First_Plasmon_Peak.gamma.bmax  = 50.\n",
    "\n",
    "\n",
    "                model.components.Second_Plasmon_Peak.A.bmin      = 0.\n",
    "                model.components.Second_Plasmon_Peak.A.bmax      = (self.elastic_intensity \n",
    "                                                                    + self.elastic_intensity / 2\n",
    "                                                                   )\n",
    "                model.components.Second_Plasmon_Peak.centre.bmin = self.elastic_threshold\n",
    "                model.components.Second_Plasmon_Peak.centre.bmax = 100.\n",
    "                model.components.Second_Plasmon_Peak.gamma.bmin  = 0.\n",
    "                model.components.Second_Plasmon_Peak.gamma.bmax  = 100.\n",
    "\n",
    "            \n",
    "            else:\n",
    "                model.components.Zero_Loss_Peak.area.ext_force_positive        = True\n",
    "                model.components.Zero_Loss_Peak.centre.ext_force_positive      = False\n",
    "                model.components.Zero_Loss_Peak.FWHM.ext_force_positive        = True\n",
    "                model.components.Zero_Loss_Peak.gamma.ext_force_positive       = True\n",
    "                model.components.First_Plasmon_Peak.A.ext_force_positive       = True\n",
    "                model.components.First_Plasmon_Peak.centre.ext_force_positive  = True\n",
    "                model.components.First_Plasmon_Peak.gamma.ext_force_positive   = True\n",
    "                model.components.Second_Plasmon_Peak.A.ext_force_positive      = True\n",
    "                model.components.Second_Plasmon_Peak.centre.ext_force_positive = True\n",
    "                model.components.Second_Plasmon_Peak.gamma.ext_force_positive  = True\n",
    "                \n",
    "                \n",
    "        elif (self.function_set == 'Gaussian'):\n",
    "            \n",
    "            if (bounded):\n",
    "                model.components.Zero_Loss_Peak.area.bmin   = (self.elastic_intensity \n",
    "                                                               - self.elastic_intensity / 2\n",
    "                                                              )\n",
    "                model.components.Zero_Loss_Peak.area.bmax   = (self.elastic_intensity \n",
    "                                                               + self.elastic_intensity / 2\n",
    "                                                              )\n",
    "                model.components.Zero_Loss_Peak.centre.bmin = -self.elastic_threshold\n",
    "                model.components.Zero_Loss_Peak.centre.bmax = self.elastic_threshold\n",
    "                model.components.Zero_Loss_Peak.FWHM.bmin   = 0.\n",
    "                model.components.Zero_Loss_Peak.FWHM.bmax   = 2 * self.elastic_threshold\n",
    "                model.components.Zero_Loss_Peak.gamma.bmin  = 0.\n",
    "                model.components.Zero_Loss_Peak.gamma.bmax  = 2 * self.elastic_threshold\n",
    "\n",
    "\n",
    "                model.components.First_Plasmon_Peak.A.bmin      = 0.\n",
    "                model.components.First_Plasmon_Peak.A.bmax      = (self.elastic_intensity \n",
    "                                                                   + self.elastic_intensity / 2\n",
    "                                                                  )\n",
    "                model.components.First_Plasmon_Peak.centre.bmin = self.elastic_threshold\n",
    "                model.components.First_Plasmon_Peak.centre.bmax = 50.\n",
    "                model.components.First_Plasmon_Peak.sigma.bmin  = 0.\n",
    "                model.components.First_Plasmon_Peak.sigma.bmax  = 50.\n",
    "\n",
    "\n",
    "                model.components.Second_Plasmon_Peak.A.bmin      = 0.\n",
    "                model.components.Second_Plasmon_Peak.A.bmax      = (self.elastic_intensity \n",
    "                                                                    + self.elastic_intensity / 2\n",
    "                                                                   )\n",
    "                model.components.Second_Plasmon_Peak.centre.bmin = self.elastic_threshold\n",
    "                model.components.Second_Plasmon_Peak.centre.bmax = 100.\n",
    "                model.components.Second_Plasmon_Peak.sigma.bmin  = 0.\n",
    "                model.components.Second_Plasmon_Peak.sigma.bmax  = 100.\n",
    "            \n",
    "\n",
    "            else:\n",
    "                model.components.Zero_Loss_Peak.area.ext_force_positive        = True\n",
    "                model.components.Zero_Loss_Peak.centre.ext_force_positive      = False\n",
    "                model.components.Zero_Loss_Peak.FWHM.ext_force_positive        = True\n",
    "                model.components.Zero_Loss_Peak.gamma.ext_force_positive       = True\n",
    "                model.components.First_Plasmon_Peak.A.ext_force_positive       = True\n",
    "                model.components.First_Plasmon_Peak.centre.ext_force_positive  = True\n",
    "                model.components.First_Plasmon_Peak.sigma.ext_force_positive   = True\n",
    "                model.components.Second_Plasmon_Peak.A.ext_force_positive      = True\n",
    "                model.components.Second_Plasmon_Peak.centre.ext_force_positive = True\n",
    "                model.components.Second_Plasmon_Peak.sigma.ext_force_positive  = True\n",
    "                \n",
    "            \n",
    "        elif (self.function_set == 'VolumePlasmonDrude'):\n",
    "            \n",
    "            if (bounded):\n",
    "                model.components.Zero_Loss_Peak.area.bmin   = (self.elastic_intensity \n",
    "                                                               - self.elastic_intensity / 2\n",
    "                                                              )\n",
    "                model.components.Zero_Loss_Peak.area.bmax   = (self.elastic_intensity \n",
    "                                                               + self.elastic_intensity / 2\n",
    "                                                              )\n",
    "                model.components.Zero_Loss_Peak.centre.bmin = -self.elastic_threshold\n",
    "                model.components.Zero_Loss_Peak.centre.bmax = self.elastic_threshold\n",
    "                model.components.Zero_Loss_Peak.FWHM.bmin   = 0.\n",
    "                model.components.Zero_Loss_Peak.FWHM.bmax   = 2 * self.elastic_threshold\n",
    "                model.components.Zero_Loss_Peak.gamma.bmin  = 0.\n",
    "                model.components.Zero_Loss_Peak.gamma.bmax  = 2 * self.elastic_threshold\n",
    "\n",
    "\n",
    "                model.components.First_Plasmon_Peak.intensity.bmin      = 0.\n",
    "                model.components.First_Plasmon_Peak.intensity.bmax      = (self.elastic_intensity \n",
    "                                                                   + self.elastic_intensity / 2\n",
    "                                                                  )\n",
    "                model.components.First_Plasmon_Peak.plasmon_energy.bmin = self.elastic_threshold\n",
    "                model.components.First_Plasmon_Peak.plasmon_energy.bmax = 50.\n",
    "                model.components.First_Plasmon_Peak.fwhm.bmin  = 0.\n",
    "                model.components.First_Plasmon_Peak.fwhm.bmax  = 50.\n",
    "\n",
    "\n",
    "                model.components.Second_Plasmon_Peak.intensity.bmin      = 0.\n",
    "                model.components.Second_Plasmon_Peak.intensity.bmax      = (self.elastic_intensity \n",
    "                                                                    + self.elastic_intensity / 2\n",
    "                                                                   )\n",
    "                model.components.Second_Plasmon_Peak.plasmon_energy.bmin = self.elastic_threshold\n",
    "                model.components.Second_Plasmon_Peak.plasmon_energy.bmax = 100.\n",
    "                model.components.Second_Plasmon_Peak.fwhm.bmin  = 0.\n",
    "                model.components.Second_Plasmon_Peak.fwhm.bmax  = 100.\n",
    "\n",
    "\n",
    "            else:\n",
    "                model.components.Zero_Loss_Peak.area.ext_force_positive                = True\n",
    "                model.components.Zero_Loss_Peak.centre.ext_force_positive              = False\n",
    "                model.components.Zero_Loss_Peak.FWHM.ext_force_positive                = True\n",
    "                model.components.Zero_Loss_Peak.gamma.ext_force_positive               = True\n",
    "                model.components.First_Plasmon_Peak.intensity.ext_force_positive       = True\n",
    "                model.components.First_Plasmon_Peak.plasmon_energy.ext_force_positive  = True\n",
    "                model.components.First_Plasmon_Peak.fwhm.ext_force_positive            = True\n",
    "                model.components.Second_Plasmon_Peak.intensity.ext_force_positive      = True\n",
    "                model.components.Second_Plasmon_Peak.plasmon_energy.ext_force_positive = True\n",
    "                model.components.Second_Plasmon_Peak.fwhm.ext_force_positive           = True\n",
    "                \n",
    "    \n",
    "    def set_model_params(self, \n",
    "                         model, \n",
    "                         mean, \n",
    "                         func='Zero_Loss_Peak'\n",
    "                        ):\n",
    "        \n",
    "        func_dict = {'Zero_Loss_Peak'      : mean.components.Zero_Loss_Peak,\n",
    "                     'First_Plasmon_Peak'  : mean.components.First_Plasmon_Peak,\n",
    "                     'Second_Plasmon_Peak' : mean.components.Second_Plasmon_Peak\n",
    "                    }\n",
    "        \n",
    "        if (self.function_set == 'Voigt' or func == 'Zero_Loss_Peak'):\n",
    "            model.set_parameters_value('area',\n",
    "                                       func_dict[func].area.value,\n",
    "                                       component_list=[func]\n",
    "                                      )\n",
    "\n",
    "            model.set_parameters_value('gamma',\n",
    "                                       func_dict[func].gamma.value,\n",
    "                                       component_list=[func]\n",
    "                                      )\n",
    "\n",
    "            model.set_parameters_value('FWHM',\n",
    "                                       func_dict[func].FWHM.value,\n",
    "                                       component_list=[func]\n",
    "                                      )\n",
    "            \n",
    "            if (func != 'Second_Plasmon_Peak'):\n",
    "                model.set_parameters_value('centre',\n",
    "                                           func_dict[func].centre.value,\n",
    "                                           component_list=[func]\n",
    "                                          )\n",
    "        \n",
    "        if (self.function_set == 'Lorentzian' and func != 'Zero_Loss_Peak'):\n",
    "            model.set_parameters_value('A',\n",
    "                                       func_dict[func].A.value,\n",
    "                                       component_list=[func]\n",
    "                                      )\n",
    "\n",
    "            model.set_parameters_value('gamma',\n",
    "                                       func_dict[func].gamma.value,\n",
    "                                       component_list=[func]\n",
    "                                      )\n",
    "\n",
    "            if (func != 'Second_Plasmon_Peak'):\n",
    "                model.set_parameters_value('centre',\n",
    "                                           func_dict[func].centre.value,\n",
    "                                           component_list=[func]\n",
    "                                          )\n",
    "            \n",
    "        if (self.function_set == 'Gaussian' and func != 'Zero_Loss_Peak'):\n",
    "            model.set_parameters_value('A',\n",
    "                                       func_dict[func].area.value,\n",
    "                                       component_list=[func]\n",
    "                                      )\n",
    "\n",
    "            model.set_parameters_value('sigma',\n",
    "                                       func_dict[func].gamma.value,\n",
    "                                       component_list=[func]\n",
    "                                      )\n",
    "\n",
    "            if (func != 'Second_Plasmon_Peak'):\n",
    "                model.set_parameters_value('centre',\n",
    "                                           func_dict[func].centre.value,\n",
    "                                           component_list=[func]\n",
    "                                          )\n",
    "            \n",
    "        if (self.function_set == 'VolumePlasmonDrude' and func != 'Zero_Loss_Peak'):\n",
    "            model.set_parameters_value('intensity',\n",
    "                                       func_dict[func].intensity.value,\n",
    "                                       component_list=[func]\n",
    "                                      )\n",
    "\n",
    "            model.set_parameters_value('fwhm',\n",
    "                                       func_dict[func].fwhm.value,\n",
    "                                       component_list=[func]\n",
    "                                      )\n",
    "\n",
    "            if (func != 'Second_Plasmon_Peak'):\n",
    "                model.set_parameters_value('plasmon_energy',\n",
    "                                           func_dict[func].plasmon_energy.value,\n",
    "                                           component_list=[func]\n",
    "                                          )\n",
    "    \n",
    "    \n",
    "    def fit_eels(self, \n",
    "                 fitter, \n",
    "                 method,\n",
    "                 deconv,\n",
    "                 normalized\n",
    "                ):\n",
    "        \"\"\"\n",
    "        Comments missing\n",
    "        \"\"\"\n",
    "        model = self.init_model(deconv, \n",
    "                                normalized\n",
    "                               )\n",
    "        \n",
    "        if (method == 'ls'):\n",
    "            bounded = True\n",
    "        \n",
    "        else:\n",
    "            bounded = False\n",
    "            \n",
    "        self.set_bounds(model, bounded)\n",
    "            \n",
    "        upper_bound = 100. #eV\n",
    "        \n",
    "        if (deconv == False):\n",
    "            self.set_second_plasmonenergy(model)\n",
    "            \n",
    "            model.print_current_values()\n",
    "            self.fit_zlp_only(model, \n",
    "                              fitter, \n",
    "                              method,\n",
    "                              bounded\n",
    "                             )\n",
    "            \n",
    "            plasmonenergy = self.fit_pp_only(upper_bound,\n",
    "                                             model, \n",
    "                                             fitter, \n",
    "                                             method,\n",
    "                                             bounded\n",
    "                                            )\n",
    "            model.print_current_values()\n",
    "\n",
    "            model.components.Zero_Loss_Peak.active      = True\n",
    "            model.components.First_Plasmon_Peak.active  = True\n",
    "            model.components.Second_Plasmon_Peak.active = True\n",
    "            \n",
    "            model.set_signal_range(-self.elastic_threshold, \n",
    "                                   3 * plasmonenergy\n",
    "                                  )\n",
    "            \n",
    "            model.fit(fitter=fitter,\n",
    "                      method=method,\n",
    "                      bounded=bounded\n",
    "                     )\n",
    "            \n",
    "            red_chisq = model.red_chisq.data\n",
    "            red_chisq = np.mean(red_chisq[np.invert(np.isnan(red_chisq))])\n",
    "            \n",
    "            self.File.estimate_poissonian_noise_variance(gain_factor=red_chisq)\n",
    "            \n",
    "            \n",
    "            model.multifit(fitter=fitter, \n",
    "                           method=method,\n",
    "                           bounded=bounded\n",
    "                          )\n",
    "            model.print_current_values()\n",
    "        \n",
    "        elif (deconv == True):\n",
    "            model.components.Zero_Loss_Peak.active      = False\n",
    "            model.components.First_Plasmon_Peak.active  = True\n",
    "            model.components.Second_Plasmon_Peak.active = False\n",
    "            \n",
    "            plasmonenergy = self.fit_fpp_only(upper_bound,\n",
    "                                              model, \n",
    "                                              fitter, \n",
    "                                              method\n",
    "                                             )\n",
    "            \n",
    "            model.set_signal_range(self.elastic_threshold, \n",
    "                                   2 * plasmonenergy\n",
    "                                  )\n",
    "            \n",
    "            model.fit(fitter=fitter,\n",
    "                      method=method,\n",
    "                      bounded=bounded\n",
    "                     )\n",
    "            \n",
    "            red_chisq = model.red_chisq.data\n",
    "            red_chisq = np.mean(red_chisq[np.invert(np.isnan(red_chisq))])\n",
    "            \n",
    "            self.File.estimate_poissonian_noise_variance(gain_factor=red_chisq)\n",
    "            \n",
    "            model.multifit(fitter=fitter, \n",
    "                           method=method,\n",
    "                           bounded=bounded\n",
    "                          )\n",
    "        \n",
    "        return model\n",
    "    \n",
    "    \n",
    "    def fit_eels_SAMF(self, \n",
    "                      fitter, \n",
    "                      method, \n",
    "                      multithreading, \n",
    "                      workers,\n",
    "                      deconv,\n",
    "                      normalized\n",
    "                     ):\n",
    "        \"\"\"\n",
    "        Comments missing\n",
    "        \"\"\"\n",
    "        model = self.init_model(deconv, \n",
    "                                normalized\n",
    "                               )\n",
    "        \n",
    "        if (method == 'ml'):\n",
    "            bounded = False\n",
    "        \n",
    "        else:\n",
    "            bounded = True\n",
    "        \n",
    "        self.set_bounds(model, bounded)\n",
    "            \n",
    "        upper_bound = 100. #eV\n",
    "        \n",
    "        if (deconv == False):\n",
    "            self.set_second_plasmonenergy(model)\n",
    "            \n",
    "            self.fit_zlp_only(model, \n",
    "                              fitter, \n",
    "                              method,\n",
    "                              bounded\n",
    "                             )\n",
    "            \n",
    "            self.fit_pp_only(upper_bound,\n",
    "                             model, \n",
    "                             fitter, \n",
    "                             method,\n",
    "                             bounded\n",
    "                            )\n",
    "            \n",
    "            if (self.function_set == 'VolumePlasmonDrude'):\n",
    "                plasmonenergy = np.mean(model.components.First_Plasmon_Peak.plasmon_energy.as_signal(field='values').data)\n",
    "                \n",
    "            \n",
    "            else:\n",
    "                plasmonenergy = np.mean(model.components.First_Plasmon_Peak.centre.as_signal(field='values').data)\n",
    "            \n",
    "            model.components.Zero_Loss_Peak.active      = True\n",
    "            model.components.First_Plasmon_Peak.active  = True\n",
    "            model.components.Second_Plasmon_Peak.active = True\n",
    "            \n",
    "            model.set_signal_range(-self.elastic_threshold, \n",
    "                                   3 * plasmonenergy\n",
    "                                  )\n",
    "            \n",
    "            model.fit(fitter=fitter, \n",
    "                      method=method,\n",
    "                      bounded=bounded\n",
    "                     )\n",
    "            \n",
    "            red_chisq = model.red_chisq.data\n",
    "            red_chisq = np.mean(red_chisq[np.invert(np.isnan(red_chisq))])\n",
    "            \n",
    "            self.File.estimate_poissonian_noise_variance(gain_factor=red_chisq)\n",
    "            \n",
    "            if (model.axes_manager.navigation_dimension == 1):\n",
    "            \n",
    "                for i in range(10):\n",
    "                    step_x = int(self.File.axes_manager.navigation_shape[0]/10)\n",
    "\n",
    "                    model.axes_manager.indices = (int(step_x/2+i*step_x),)\n",
    "\n",
    "                    model.fit(fitter=fitter, \n",
    "                              method=method,\n",
    "                              bounded=bounded\n",
    "                             )\n",
    "                \n",
    "        \n",
    "            elif (model.axes_manager.navigation_dimension == 2):\n",
    "\n",
    "                for i in range(10):\n",
    "                    for j in range(10):\n",
    "                        step_x = int(self.File.axes_manager.navigation_shape[0]/10)\n",
    "                        step_y = int(self.File.axes_manager.navigation_shape[1]/10)\n",
    "\n",
    "                        model.axes_manager.indices = (int(step_x/2 + i*step_x), int(step_y/2 + j*step_y))\n",
    "\n",
    "                        model.fit(fitter=fitter, \n",
    "                                  method=method,\n",
    "                                  bounded=bounded\n",
    "                                 )\n",
    "                        \n",
    "            \n",
    "            red_chisq = model.red_chisq.data\n",
    "            mean_rchisq = np.mean(red_chisq[np.invert(np.isnan(red_chisq))])\n",
    "            \n",
    "            samf = model.create_samfire(workers=workers, \n",
    "                                        ipyparallel=multithreading, \n",
    "                                        setup=True\n",
    "                                       )\n",
    "\n",
    "            samf.metadata.goodness_test.tolerance = mean_rchisq * 1.5\n",
    "            samf.remove(1)\n",
    "            samf.refresh_database()\n",
    "\n",
    "            samf.start(fitter=fitter, \n",
    "                       method=method,\n",
    "                       bounded=bounded\n",
    "                      )\n",
    "\n",
    "            plt.close()\n",
    "            \n",
    "        \n",
    "        elif (deconv == True):\n",
    "            model.components.Zero_Loss_Peak.active      = False\n",
    "            model.components.First_Plasmon_Peak.active  = True\n",
    "            model.components.Second_Plasmon_Peak.active = False\n",
    "            \n",
    "            plasmonenergy = self.fit_fpp_only(upper_bound,\n",
    "                                              model, \n",
    "                                              fitter,\n",
    "                                              method,\n",
    "                                              bounded\n",
    "                                             )\n",
    "            \n",
    "            model.set_signal_range(self.elastic_threshold, \n",
    "                                   2 * plasmonenergy\n",
    "                                  )\n",
    "            \n",
    "            model.fit(fitter=fitter, \n",
    "                      method=method,\n",
    "                      bounded=bounded\n",
    "                     )\n",
    "            \n",
    "            red_chisq = model.red_chisq.data\n",
    "            red_chisq = np.mean(red_chisq[np.invert(np.isnan(red_chisq))])\n",
    "            \n",
    "            self.File.estimate_poissonian_noise_variance(gain_factor=red_chisq)\n",
    "            \n",
    "            if (model.axes_manager.navigation_dimension == 1):\n",
    "            \n",
    "                for i in range(10):\n",
    "                    step_x = int(self.File.axes_manager.navigation_shape[0]/10)\n",
    "\n",
    "                    model.axes_manager.indices = (int(step_x/2+i*step_x),)\n",
    "\n",
    "                    model.fit(fitter=fitter, \n",
    "                              method=method,\n",
    "                              bounded=bounded\n",
    "                             )\n",
    "                \n",
    "        \n",
    "            elif (model.axes_manager.navigation_dimension == 2):\n",
    "\n",
    "                for i in range(10):\n",
    "                    for j in range(10):\n",
    "                        step_x = int(self.File.axes_manager.navigation_shape[0]/10)\n",
    "                        step_y = int(self.File.axes_manager.navigation_shape[1]/10)\n",
    "\n",
    "                        model.axes_manager.indices = (int(step_x/2 + i*step_x), int(step_y/2 + j*step_y))\n",
    "\n",
    "                        model.fit(fitter=fitter, \n",
    "                                  method=method,\n",
    "                                  bounded=bounded\n",
    "                                 )\n",
    "                        \n",
    "            \n",
    "            red_chisq = model.red_chisq.data\n",
    "            mean_rchisq = np.mean(red_chisq[np.invert(np.isnan(red_chisq))])\n",
    "            \n",
    "            samf = model.create_samfire(workers=workers, \n",
    "                                        ipyparallel=multithreading, \n",
    "                                        setup=True\n",
    "                                       )\n",
    "\n",
    "            samf.metadata.goodness_test.tolerance = mean_rchisq * 1.5\n",
    "            samf.remove(1)\n",
    "            samf.refresh_database()\n",
    "\n",
    "            samf.start(fitter=fitter, \n",
    "                       method=method,\n",
    "                       bounded=bounded\n",
    "                      )\n",
    "            \n",
    "        return model\n",
    "    \n",
    "    \n",
    "    def save_models_to_file(self, \n",
    "                            filename\n",
    "                           ):\n",
    "        \"\"\"\n",
    "        Comments missing\n",
    "        \"\"\"\n",
    "        self.File.save(filename)\n",
    "\n",
    "    \n",
    "    def load_model(self):\n",
    "        \"\"\"\n",
    "        Comments missing\n",
    "        \"\"\"\n",
    "        models_dict = { '1' : 'VolumePlasmonDrude_ls',\n",
    "                        '2' : 'VolumePlasmonDrude_ml',\n",
    "                        '3' : 'Lorentzian_ls',\n",
    "                        '4' : 'Lorentzian_ml',\n",
    "                        '5' : 'Gaussian_ls',\n",
    "                        '6' : 'Gaussian_ml',\n",
    "                        '7' : 'Voigt_ls',\n",
    "                        '8' : 'Voigt_ml'\n",
    "                      }\n",
    "        print('Available models: \\n' + str(self.File.models))\n",
    "        print('Model names: \\n' + str(models_dict))\n",
    "\n",
    "        mname = input(\"Which model should be loaded? \")\n",
    "        \n",
    "        try:\n",
    "            if (mname in models_dict):\n",
    "                print('Loading parameter maps for: ' + str(models_dict[mname]))\n",
    "                self.model_name = models_dict[mname]\n",
    "            \n",
    "                self.restore_model()\n",
    "                self.function_set = self.split(models_dict[mname], ('_'))[0]\n",
    "                self.Chisq        = self.Fit_Model.chisq\n",
    "                self.red_Chisq    = self.Fit_Model.red_chisq\n",
    "                \n",
    "            else:\n",
    "                print('Loading parameter maps for: ' + str(mname))\n",
    "                self.model_name = mname\n",
    "\n",
    "                self.restore_model()\n",
    "                self.function_set = self.split(models_dict[mname], ('_'))[0]\n",
    "                self.Chisq        = self.Fit_Model.chisq\n",
    "                self.red_Chisq    = self.Fit_Model.red_chisq\n",
    "                \n",
    "            self.generate_param_maps()\n",
    "                \n",
    "        except:\n",
    "            print('Model not found in files models-attribute. No model was loaded, please try again.')\n",
    "                    \n",
    "        \n",
    "    def restore_model(self):\n",
    "        \"\"\"\n",
    "        Comments missing\n",
    "        \"\"\"\n",
    "        self.Fit_Model  = self.File.models.restore(self.model_name)\n",
    "            \n",
    "        \n",
    "    def generate_param_maps(self):\n",
    "        \"\"\"\n",
    "        Comments missing\n",
    "        \"\"\"\n",
    "        if (self.function_set == 'VolumePlasmonDrude'):\n",
    "        \n",
    "            ZLP_L_fwhm      = self.Fit_Model.components.Zero_Loss_Peak.gamma.as_signal(field = 'values')\n",
    "            ZLP_G_fwhm      = self.Fit_Model.components.Zero_Loss_Peak.FWHM.as_signal(field = 'values')\n",
    "            self.ZLP_FWHM   = (ZLP_L_fwhm*0.5346 + \n",
    "                               np.sqrt(ZLP_G_fwhm**2 + ZLP_L_fwhm**2*0.2166)\n",
    "                              )\n",
    "            self.ZLP_Emax   = self.Fit_Model.components.Zero_Loss_Peak.centre.as_signal(field = 'values')\n",
    "            self.ZLP_Int    = self.Fit_Model.components.Zero_Loss_Peak.area.as_signal(field = 'values')\n",
    "\n",
    "            self.FPP_FWHM   = self.Fit_Model.components.First_Plasmon_Peak.fwhm.as_signal(field = 'values')\n",
    "            self.FPP_Emax   = self.Fit_Model.components.First_Plasmon_Peak.plasmon_energy.as_signal(field = 'values')\n",
    "            self.FPP_Int    = self.Fit_Model.components.First_Plasmon_Peak.intensity.as_signal(field = 'values')\n",
    "\n",
    "            self.SPP_FWHM   = self.Fit_Model.components.Second_Plasmon_Peak.fwhm.as_signal(field = 'values')\n",
    "            self.SPP_Emax   = self.Fit_Model.components.Second_Plasmon_Peak.plasmon_energy.as_signal(field = 'values')\n",
    "            self.SPP_Int    = self.Fit_Model.components.Second_Plasmon_Peak.intensity.as_signal(field = 'values')\n",
    "\n",
    "            self.Ep_q0      = ( self.FPP_Emax**2 - (self.FPP_FWHM / 2)**2 )**0.5\n",
    "            \n",
    "        elif (self.function_set == 'Lorentzian'):\n",
    "        \n",
    "            ZLP_L_fwhm      = self.Fit_Model.components.Zero_Loss_Peak.gamma.as_signal(field = 'values')\n",
    "            ZLP_G_fwhm      = self.Fit_Model.components.Zero_Loss_Peak.FWHM.as_signal(field = 'values')\n",
    "            self.ZLP_FWHM   = (ZLP_L_fwhm*0.5346 + \n",
    "                               np.sqrt(ZLP_G_fwhm**2 + ZLP_L_fwhm**2*0.2166)\n",
    "                              )\n",
    "            self.ZLP_Emax   = self.Fit_Model.components.Zero_Loss_Peak.centre.as_signal(field = 'values')\n",
    "            self.ZLP_Int    = self.Fit_Model.components.Zero_Loss_Peak.area.as_signal(field = 'values')\n",
    "\n",
    "            self.FPP_FWHM   = self.Fit_Model.components.First_Plasmon_Peak.gamma.as_signal(field = 'values')\n",
    "            self.FPP_Emax   = self.Fit_Model.components.First_Plasmon_Peak.centre.as_signal(field = 'values')\n",
    "            self.FPP_Int    = self.Fit_Model.components.First_Plasmon_Peak.A.as_signal(field = 'values')\n",
    "\n",
    "            self.SPP_FWHM   = self.Fit_Model.components.Second_Plasmon_Peak.gamma.as_signal(field = 'values')\n",
    "            self.SPP_Emax   = self.Fit_Model.components.Second_Plasmon_Peak.centre.as_signal(field = 'values')\n",
    "            self.SPP_Int    = self.Fit_Model.components.Second_Plasmon_Peak.A.as_signal(field = 'values')\n",
    "\n",
    "            self.Ep_q0      = ( self.FPP_Emax**2 - (self.FPP_FWHM / 2)**2 )**0.5\n",
    "        \n",
    "        elif (self.function_set == 'Gaussian'):\n",
    "        \n",
    "            ZLP_L_fwhm      = self.Fit_Model.components.Zero_Loss_Peak.gamma.as_signal(field = 'values')\n",
    "            ZLP_G_fwhm      = self.Fit_Model.components.Zero_Loss_Peak.FWHM.as_signal(field = 'values')\n",
    "            self.ZLP_FWHM   = (ZLP_L_fwhm*0.5346 + \n",
    "                               np.sqrt(ZLP_G_fwhm**2 + ZLP_L_fwhm**2*0.2166)\n",
    "                              )\n",
    "            self.ZLP_Emax   = self.Fit_Model.components.Zero_Loss_Peak.centre.as_signal(field = 'values')\n",
    "            self.ZLP_Int    = self.Fit_Model.components.Zero_Loss_Peak.area.as_signal(field = 'values')\n",
    "\n",
    "            self.FPP_FWHM   = 2*np.sqrt(np.log(2))*self.Fit_Model.components.First_Plasmon_Peak.sigma.as_signal(field = 'values')\n",
    "            self.FPP_Emax   = self.Fit_Model.components.First_Plasmon_Peak.centre.as_signal(field = 'values')\n",
    "            self.FPP_Int    = self.Fit_Model.components.First_Plasmon_Peak.A.as_signal(field = 'values')\n",
    "\n",
    "            self.SPP_FWHM   = 2*np.sqrt(np.log(2))*self.Fit_Model.components.Second_Plasmon_Peak.sigma.as_signal(field = 'values')\n",
    "            self.SPP_Emax   = self.Fit_Model.components.Second_Plasmon_Peak.centre.as_signal(field = 'values')\n",
    "            self.SPP_Int    = self.Fit_Model.components.Second_Plasmon_Peak.A.as_signal(field = 'values')\n",
    "\n",
    "            self.Ep_q0      = ( self.FPP_Emax**2 - (self.FPP_FWHM / 2)**2 )**0.5\n",
    "            \n",
    "        elif (self.function_set == 'Voigt'):\n",
    "        \n",
    "            ZLP_L_fwhm      = self.Fit_Model.components.Zero_Loss_Peak.gamma.as_signal(field = 'values')\n",
    "            ZLP_G_fwhm      = self.Fit_Model.components.Zero_Loss_Peak.FWHM.as_signal(field = 'values')\n",
    "            self.ZLP_FWHM   = (ZLP_L_fwhm*0.5346 + \n",
    "                               np.sqrt(ZLP_G_fwhm**2 + ZLP_L_fwhm**2*0.2166)\n",
    "                              )\n",
    "            self.ZLP_Emax   = self.Fit_Model.components.Zero_Loss_Peak.centre.as_signal(field = 'values')\n",
    "            self.ZLP_Int    = self.Fit_Model.components.Zero_Loss_Peak.area.as_signal(field = 'values')\n",
    "\n",
    "            FPP_L_fwhm      = self.Fit_Model.components.First_Plasmon_Peak.gamma.as_signal(field = 'values')\n",
    "            FPP_G_fwhm      = self.Fit_Model.components.First_Plasmon_Peak.FWHM.as_signal(field = 'values')\n",
    "            self.FPP_FWHM   = (FPP_L_fwhm*0.5346 + \n",
    "                               np.sqrt(FPP_G_fwhm**2 + FPP_L_fwhm**2*0.2166)\n",
    "                              )\n",
    "            self.FPP_Emax   = self.Fit_Model.components.First_Plasmon_Peak.centre.as_signal(field = 'values')\n",
    "            self.FPP_Int    = self.Fit_Model.components.First_Plasmon_Peak.area.as_signal(field = 'values')\n",
    "\n",
    "            SPP_L_fwhm      = self.Fit_Model.components.Second_Plasmon_Peak.gamma.as_signal(field = 'values')\n",
    "            SPP_G_fwhm      = self.Fit_Model.components.Second_Plasmon_Peak.FWHM.as_signal(field = 'values')\n",
    "            self.SPP_FWHM   = (SPP_L_fwhm*0.5346 + \n",
    "                               np.sqrt(SPP_G_fwhm**2 + SPP_L_fwhm**2*0.2166)\n",
    "                              )\n",
    "            self.SPP_Emax   = self.Fit_Model.components.Second_Plasmon_Peak.centre.as_signal(field = 'values')\n",
    "            self.SPP_Int    = self.Fit_Model.components.Second_Plasmon_Peak.area.as_signal(field = 'values')\n",
    "\n",
    "            self.Ep_q0      = ( self.FPP_Emax**2 - (self.FPP_FWHM / 2)**2 )**0.5\n",
    "        \n",
    "        else:\n",
    "            \n",
    "            print('No valid function set specified. Please look into docstring for further information.')\n",
    "        \n",
    "        self.parameter_dict = {'$E_{max}$ - Zero Loss Peak'            : self.ZLP_Emax,\n",
    "                               '$\\Gamma$ - Zero Loss Peak'             : self.ZLP_FWHM,\n",
    "                               'Intensity - Zero Loss Peak'            : self.ZLP_Int,\n",
    "\n",
    "                               '$E_{max}$ - Plasmon Peak'              : self.FPP_Emax,\n",
    "                               '$\\Gamma$ - Plasmon Peak'               : self.FPP_FWHM,\n",
    "                               'Intensity - Plasmon Peak'              : self.FPP_Int,\n",
    "\n",
    "                               '$E_{max}$ - Second Order Plasmon Peak' : self.SPP_Emax,\n",
    "                               '$\\Gamma$ - Second Order Plasmon Peak'  : self.SPP_FWHM,\n",
    "                               'Intensity - Second Order Plasmon Peak' : self.SPP_Int,\n",
    "\n",
    "                               '$E_p(q=0)$ - Plasmon Energy'           : self.Ep_q0\n",
    "                              }\n",
    "        \n",
    "        for title in self.parameter_dict:\n",
    "            self.parameter_dict[title].metadata.General.title = title\n",
    "    \n",
    "\n",
    "    def plot_parameter_maps(self):\n",
    "        \"\"\"\n",
    "        Visualize all parameter maps that were previously generated.\n",
    "        \"\"\"\n",
    "        \n",
    "        for title in self.parameter_dict:\n",
    "            mean = self.parameter_dict[title].mean(axis=(0,1)).data[0]\n",
    "            std  = self.parameter_dict[title].std(axis=(0,1)).data[0]\n",
    "              \n",
    "            self.parameter_dict[title].plot(vmin = mean - std, vmax = mean + std, scalebar_color='black')\n",
    "    \n",
    "    \n",
    "    def print_stats(self):\n",
    "        \"\"\"\n",
    "        Printing standard file information.\n",
    "        \"\"\"\n",
    "        print('Statistics of loaded spectrum image:')\n",
    "        self.File.print_summary_statistics()\n",
    "        print('Statistics of normalized spectrum image:')\n",
    "        self.File_norm.print_summary_statistics()\n",
    "        print('Statistics of deconvolved spectrum image:')\n",
    "        self.File_deconv.print_summary_statistics()\n",
    "    \n",
    "    def print_param_stats(self):\n",
    "        \"\"\"\n",
    "        Printing standard parameter information\n",
    "        \"\"\"\n",
    "        for title in self.parameter_dict:\n",
    "            print(title)\n",
    "            self.parameter_dict[title].print_summary_statistics()\n",
    "    \n",
    "    \n",
    "    def create_dirs(self):\n",
    "        \"\"\"\n",
    "        Creating directories and sub-directories for evaluation storage.\n",
    "        \"\"\"\n",
    "        for directory in self.dir_list:\n",
    "            if not os.path.exists(os.getcwd() + os.sep + directory):\n",
    "                os.makedirs(os.getcwd() + os.sep + directory)\n",
    "    \n",
    "    \n",
    "    def save_parameter_maps(self, dpi=300, fileformat='png'):\n",
    "        \"\"\"\n",
    "        Saving function to save all generated parameter maps that were previously generated.\n",
    "        \"\"\"\n",
    "        self.create_dirs()\n",
    "        \n",
    "        dir_fname = {'$E_{max}$ - Zero Loss Peak      [eV]'  : 'ZLP_Emax',\n",
    "                     '$\\Gamma$ - Zero Loss Peak       [eV]'  : 'ZLP_FWHM',\n",
    "                     'Intensity - Zero Loss Peak'            : 'ZLP_Int' ,\n",
    "                     \n",
    "                     '$E_{max}$ - Plasmon Peak        [eV]'  : 'FPP_Emax',\n",
    "                     '$\\Gamma$ - Plasmon Peak         [eV]'  : 'FPP_FWHM',\n",
    "                     'Intensity - Plasmon Peak'              : 'FPP_Int' ,\n",
    "                     \n",
    "                     '$E_{max}$ - Second Plasmon Peak [eV]'  : 'SPP_Emax',\n",
    "                     '$\\Gamma$ -  Second Plasmon Peak [eV]'  : 'SPP_FWHM',\n",
    "                     'Intensity - Second Plasmon Peak'       : 'SPP_Int' ,\n",
    "                     \n",
    "                     '$E_p(q=0)$ - Plasmon Energy     [eV]'  : 'Ep_q0'\n",
    "                    }\n",
    "        \n",
    "        for title in self.parameter_dict:\n",
    "\n",
    "            fname = os.getcwd() + os.sep + self.dir_list[0] + os.sep + dir_fname[title]\n",
    "            self.parameter_dict[title].metadata.General.title = title\n",
    "            self.parameter_dict[title].plot(scalebar_color='black')\n",
    "            plt.savefig(fname, dpi=dpi, extension=fileformat)\n",
    "            plt.close()\n",
    "\n",
    "        fname = os.getcwd() + os.sep + 'Model_Chisq'\n",
    "        self.Chisq.metadata.General.title = 'Goodness of Fit: $\\Chi ^2$'\n",
    "        self.Chisq.plot(scalebar_color='black')\n",
    "        plt.savefig(fname, dpi=dpi, extension=fileformat)\n",
    "        plt.close()\n",
    "        \n",
    "        fname = os.getcwd() + os.sep + self.dir_list[0] + os.sep + 'Model_red_Chisq'\n",
    "        self.red_Chisq.metadata.General.title = 'Goodness of Fit: $\\Chi_{\\nu} ^2$'\n",
    "        self.red_Chisq.plot(scalebar_color='black')\n",
    "        plt.savefig(fname, dpi=dpi, extension=fileformat)\n",
    "        plt.close()\n",
    "        \n",
    "        fname = os.getcwd() + os.sep + self.dir_list[1] + os.sep + 'Foil_thickness'\n",
    "        self.thickness_map.plot(scalebar_color='black')\n",
    "        plt.savefig(fname, dpi=dpi, extension=fileformat)\n",
    "        plt.close()\n",
    "        \n",
    "        \n",
    "    # ROI setup for averaging multiple pixels to reduce calculation effort\n",
    "    # due to reducing calculation of minimal chi-squared. \n",
    "    # This accounts for each pixel though only an average spectrum will be fitted\n",
    "    # _width and _height will therefore specify the shape of the ROI for averaging\n",
    "    def line_roi(self, param_map, x1=0, y1=0, x2=15, y2=15, width=0):\n",
    "        \"\"\"\n",
    "        Comments missing\n",
    "        \"\"\"\n",
    "        self.Line = hs.roi.Line2DROI(x1 * param_map.axes_manager[0].scale + \n",
    "                                     param_map.axes_manager[0].offset,\n",
    "                                     y1 * param_map.axes_manager[1].scale + \n",
    "                                     param_map.axes_manager[1].offset,\n",
    "                                     x2 * param_map.axes_manager[0].scale + \n",
    "                                     param_map.axes_manager[0].offset,\n",
    "                                     y2 * param_map.axes_manager[1].scale + \n",
    "                                     param_map.axes_manager[1].offset,\n",
    "                                     linewidth = width * param_map.axes_manager[0].scale\n",
    "                                    )\n",
    "        \n",
    "        interactive = self.yes_or_no('Do you want to use the interactive gui?' + '\\n' +\n",
    "                                     'Adjusting position is possible using the interactive gui.'\n",
    "                                    )\n",
    "        \n",
    "        if (interactive == True):\n",
    "            param_map.plot(scalebar_color='black')\n",
    "            self.Line_Scan = self.Line.interactive(param_map)\n",
    "            \n",
    "        else:\n",
    "            self.Line_Scan = self.Line(param_map)\n",
    "\n",
    "            \n",
    "    def Line_Scan_std(self, param_map):\n",
    "        angle = self.Line.angle()\n",
    "        width = self.Line.linewidth\n",
    "        \n",
    "        line_std = self.Line_Scan.deepcopy()\n",
    "        \n",
    "        for i in range(len(self.Line_Scan.data)):\n",
    "            print('next:')\n",
    "            coord_x = self.Line.x1 + i * param_map.axes_manager[0].scale * np.cos(angle)\n",
    "            coord_y = self.Line.y1 + i * param_map.axes_manager[0].scale * np.sin(angle)\n",
    "            print(coord_x, coord_y)\n",
    "            x1_std = coord_x + width/2 * np.sin(angle)\n",
    "            y1_std = coord_y + width/2 * np.cos(angle)\n",
    "            x2_std = coord_x - width/2 * np.sin(angle)\n",
    "            y2_std = coord_y - width/2 * np.cos(angle)\n",
    "            \n",
    "            tmp_line = hs.roi.Line2DROI(x1_std,\n",
    "                                        y1_std,\n",
    "                                        x2_std,\n",
    "                                        y2_std,\n",
    "                                        linewidth = self.Line_Scan.axes_manager[0].scale\n",
    "                                       )\n",
    "            print(tmp_line)\n",
    "            std_coords  = tmp_line(param_map).std(axis=0).data[0]\n",
    "            print(std_coords)\n",
    "            line_std.data[i] = std_coords\n",
    "        \n",
    "        #self.Line_Scan.std = line_std\n",
    "        return line_std\n",
    "            \n",
    "    \n",
    "    def rect_roi(self, param_map, left=0, top=0, right=15, bottom=15):\n",
    "        \"\"\"\n",
    "        Comments missing\n",
    "        \"\"\"\n",
    "        roi = hs.roi.RectangularROI(param_map.axes_manager.signal_axes[0].offset +\n",
    "                                    left   * param_map.axes_manager.signal_axes[0].scale,\n",
    "                                    param_map.axes_manager.signal_axes[1].offset +\n",
    "                                    top    * param_map.axes_manager.signal_axes[1].scale,\n",
    "                                    param_map.axes_manager.signal_axes[0].offset +\n",
    "                                    right  * param_map.axes_manager.signal_axes[0].scale,\n",
    "                                    param_map.axes_manager.signal_axes[1].offset +\n",
    "                                    bottom * param_map.axes_manager.signal_axes[1].scale)\n",
    "        interactive = self.yes_or_no('Do you want to use the interactive gui?' + '\\n' +\n",
    "                                     'Adjusting position is possible using the interactive gui.'\n",
    "                                    )\n",
    "        \n",
    "        if (interactive == True):\n",
    "            param_map.plot(scalebar_color='black')\n",
    "            self.ROI = roi.interactive(param_map)\n",
    "            \n",
    "        else:\n",
    "            self.ROI = roi(param_map)\n",
    "\n",
    "    \n",
    "    # Calculate thickness by log ratio of ZLP-Area to Total Area of EELS-data\n",
    "    def calc_thickness(self, elements, concentrations):\n",
    "        \"\"\"\n",
    "        Estimation of the sample thickness by the Log-Ratio method\n",
    "                \n",
    "            LATEX Formula:\n",
    "                t = \\lambda \\ln{ \\frac{I_t}{I_0} }\n",
    "                \n",
    "                with:\n",
    "                         I_t = total intensity\n",
    "                    and  I_0 = elastically scattered intensity\n",
    "        \n",
    "        For more information see:\n",
    "            EELS Log-Ratio Technique for Specimen-Thickness\n",
    "            Measurement in the TEM                    \n",
    "\n",
    "            MALIS, S.C. CHENG, AND R.F. EGERTON\n",
    "            JOURNAL OF ELECTRON MICROSCOPY TECHNIQUE 8:193-200 11988)\n",
    "        \n",
    "        Mean Free Path (\\lambda) estimation is automated for a given elemental \n",
    "        composition.\n",
    "        \n",
    "        IMPORTANT:\n",
    "            MFP-Automation takes metadata of file as input. Please verify that \n",
    "            values for beam energy and collection angle specified in .dm3/.dm4 \n",
    "            files are correct before using this function.\n",
    "        \n",
    "        Currently supported elements: \n",
    "        (\n",
    "         Ag, Al, Au, Be, Ca, Ce, Cu, Dy, Er, Eu, Fe, Gd, Ho, La, Lu, Mg, Nb, \n",
    "         Nd, Ni, P, Pd, Pm, Pr, Sm, Sn, Tb, Ti, Y, Yb, Zn, Zr\n",
    "        )\n",
    "        \"\"\"\n",
    "        t_lambda           = self.File.estimate_thickness(threshold=self.elastic_threshold).T\n",
    "        mfp                = self.estimate_MFP(elements, concentrations)\n",
    "        self.thickness_map = t_lambda * mfp\n",
    "        \n",
    "        self.thickness_map.metadata.General.title = r'thickness map $t = \\lambda \\cdot \\ln{\\frac{I_t}{I_0}}$' \n",
    "    \n",
    "    \n",
    "    def estimate_MFP(self, elements, concentrations):#, elements, concentration):\n",
    "        \"\"\"\n",
    "        Estimation of the Mean Free Path for a given elemental composition.\n",
    "        \n",
    "        IMPORTANT:\n",
    "            MFP-Automation takes metadata of file as input. Please verify that \n",
    "            values for beam energy and collection angle specified in .dm3/.dm4 \n",
    "            files are correct before using this function.\n",
    "            Default values (if not specified in metadata):\n",
    "                E0   = 300 keV\n",
    "                beta =  10 mrad\n",
    "        \n",
    "        Currently supported elements: \n",
    "        (\n",
    "         Ag, Al, Au, Be, Ca, Ce, Cu, Dy, Er, Eu, Fe, Gd, Ho, La, Lu, Mg, Nb, \n",
    "         Nd, Ni, P, Pd, Pm, Pr, Sm, Sn, Tb, Ti, Y, Yb, Zn, Zr\n",
    "        )\n",
    "        \"\"\"\n",
    "        \n",
    "        element_dict = {'Ag' : mend.Ag,\n",
    "                        'Al' : mend.Au,\n",
    "                        'Au' : mend.Au,\n",
    "                        'Be' : mend.Be,\n",
    "                        'Ca' : mend.Ca,\n",
    "                        'Ce' : mend.Ce,\n",
    "                        'Cu' : mend.Cu,\n",
    "                        'Dy' : mend.Dy,\n",
    "                        'Er' : mend.Er,\n",
    "                        'Eu' : mend.Eu,\n",
    "                        'Fe' : mend.Fe,\n",
    "                        'Gd' : mend.Gd,\n",
    "                        'Ho' : mend.Ho,\n",
    "                        'La' : mend.La,\n",
    "                        'Lu' : mend.Lu,\n",
    "                        'Mg' : mend.Mg,\n",
    "                        'Nb' : mend.Nb,\n",
    "                        'Nd' : mend.Nd,\n",
    "                        'Ni' : mend.Ni,\n",
    "                        'P'  : mend.P,\n",
    "                        'Pd' : mend.Pd,\n",
    "                        'Pm' : mend.Pm,\n",
    "                        'Pr' : mend.Pr,\n",
    "                        'Pt' : mend.Pt,\n",
    "                        'Sm' : mend.Sm,\n",
    "                        'Sn' : mend.Sn,\n",
    "                        'Tb' : mend.Tb,\n",
    "                        'Ti' : mend.Ti,\n",
    "                        'Tm' : mend.Tm,\n",
    "                        'Y'  : mend.Y,\n",
    "                        'Yb' : mend.Yb,\n",
    "                        'Zn' : mend.Zn,\n",
    "                        'Zr' : mend.Zr\n",
    "                       }\n",
    "        \n",
    "        const              = 0.3 # Malis EELS paper - konstante r nach eq.(4)\n",
    "        number_of_elements = len(elements)\n",
    "        fi_Zi_numerator    = 0\n",
    "        fi_Zi_denominator  = 0\n",
    "\n",
    "        for i in range(number_of_elements):\n",
    "            \n",
    "            Z                  = element_dict[elements[i]].atomic_number\n",
    "            fi_Zi_numerator   += concentrations[i] * Z**(1+const)\n",
    "        \n",
    "        \n",
    "        for i in range(number_of_elements):\n",
    "            \n",
    "            Z                  = element_dict[elements[i]].atomic_number\n",
    "            fi_Zi_denominator += concentrations[i] * Z**(const)\n",
    "\n",
    "        Z_eff = fi_Zi_numerator/fi_Zi_denominator\n",
    "\n",
    "        m    = 0.36 # Malis EELS paper - exponent m nach eq.(8)\n",
    "        E_m  = 7.6*Z_eff**m # eq.(8): 7.6 eV\n",
    "\n",
    "        try:\n",
    "            E_0  = self.File.metadata.Acquisition_instrument.TEM.beam_energy\n",
    "            \n",
    "        except:\n",
    "            print('No information on used beam energy found in metadata! Using default (300 keV).')\n",
    "            E_0  = 300 # in keV\n",
    "        \n",
    "        try:\n",
    "            beta = self.File.metadata.Acquisition_instrument.TEM.Detector.EELS.collection_angle\n",
    "        \n",
    "        except:\n",
    "            print('No information on detector collection angle found in metadata! Using default (10 mrad).')\n",
    "            beta = 10 # in mrad\n",
    "\n",
    "        F = (1 + E_0/1022)/(1 + E_0/511)**2 # Malis EELS paper - E_0 in keV nach eq.(6) \n",
    "\n",
    "        mean_free_path = 106 * F * E_0 / (E_m * np.log(2 * beta * E_0 / E_m))\n",
    "        \n",
    "        return mean_free_path\n",
    "    \n",
    "    \n",
    "    # Calculate the parametershifts between the gausfits of neighbouring pixels\n",
    "    def plasmon_pshift(self):\n",
    "        \"\"\"\n",
    "        Comments missing\n",
    "        \"\"\"\n",
    "        return 0 #TO DO\n",
    "   \n",
    "\n",
    "    def watershed_algorithm(self):\n",
    "        \"\"\"\n",
    "        Comments missing\n",
    "        \"\"\"\n",
    "        return 0 # TO DO\n",
    " \n",
    "\n",
    "    def filter_isolated_cells(array, struct):\n",
    "        \"\"\"\n",
    "        Return array with completely isolated single cells removed\n",
    "\n",
    "        :param array: Array with completely isolated single cells\n",
    "        :param struct: Structure array for generating unique regions\n",
    "        :return: Array with minimum region size > 1\n",
    "        \"\"\"\n",
    "        filtered_array = np.copy(array)\n",
    "        id_regions, num_ids = ndi.label(filtered_array, structure=struct)\n",
    "        id_sizes = np.array(ndi.sum(array, id_regions, range(num_ids + 1)))\n",
    "        area_mask = (id_sizes < 4)\n",
    "        filtered_array[area_mask[id_regions]] = 0\n",
    "        \n",
    "        return filtered_array\n",
    "\n",
    "\n",
    "    def process_image(data):\n",
    "        \"\"\"\n",
    "        Comments missing\n",
    "        \"\"\"\n",
    "        img_stack = mpimg.imread(data['input_file'], 0)\n",
    "        image = img_stack[:, :, 0]\n",
    "\n",
    "        # denoise image\n",
    "        denoised_mark = rank.median(image, disk(data['denoised_mark_disk']))\n",
    "        denoised_grad = rank.median(image, disk(data['denoised_grad_disk']))\n",
    "\n",
    "        # find continuous region (low gradient -\n",
    "        # where less than 8 for this image) --> markers\n",
    "        # disk(10) is used here to get a more smooth image\n",
    "        markers_binary = rank.gradient(\n",
    "            denoised_mark, disk(data['markers_binary_disk'])) \\\n",
    "            < data['markers_binary_min_gradient']\n",
    "\n",
    "        # Extra Filter for dilation and erosion\n",
    "        # Dilations to increase big particles\n",
    "        markers_dilated = binary_dilation(\n",
    "            markers_binary, diamond(data['markers_dilated_diamond'])\n",
    "        ).astype(np.uint8)\n",
    "        markers_erosion = binary_erosion(\n",
    "            markers_dilated, diamond(data['markers_erosion_diamond'])\n",
    "        ).astype(np.uint8)\n",
    "\n",
    "        # Median to get rid of small markers after erosion\n",
    "        markers_denoised = rank.median(\n",
    "            markers_erosion, disk(data['markers_denoised_disk']))\n",
    "\n",
    "        # Run function on sample array to filter last\n",
    "        # isolated cells\n",
    "        markers_filtered = filter_isolated_cells(\n",
    "            markers_denoised, struct=np.ones((3, 3)))\n",
    "        # Run another dilated function call to try to\n",
    "        # connect small cells\n",
    "        markers_last = binary_dilation(\n",
    "            markers_filtered, diamond(data['markers_last_diamond'])\n",
    "        ).astype(np.uint8)\n",
    "\n",
    "        # Label markers\n",
    "        markers_labeled, _ = ndi.label(markers_last)\n",
    "        markers = markers_labeled\n",
    "\n",
    "        # local gradient (disk(2) is used to keep edges thin)\n",
    "        gradient_binary = rank.gradient(\n",
    "            denoised_grad, disk(data['gradient_binary_disk'])\n",
    "        ) > data['gradient_binary_min_gradient']\n",
    "        gradient_dilated = binary_dilation(\n",
    "            gradient_binary, diamond(data['gradient_dilated_diamond'])\n",
    "        ).astype(np.uint8)\n",
    "        gradient = gradient_dilated\n",
    "\n",
    "        # process the watershed\n",
    "        labels = watershed(gradient, markers)\n",
    "\n",
    "        # save number of grains\n",
    "        markers_array, num_features = ndi.label(markers_labeled)\n",
    "        Grainsize = np.empty(num_features)\n",
    "        for label in range(0, num_features):\n",
    "            size_pixel = np.sum(np.where(markers_array == label + 1, 1, 0))\n",
    "            size_mm2 = size_pixel * data['mm_per_pixel']**2\n",
    "            Grainsize[label] = size_mm2\n",
    "\n",
    "        avg_gs = np.mean(Grainsize)\n",
    "        avg_gr = 2 * (avg_gs / np.pi)**0.5\n"
   ]
  },
  {
   "cell_type": "code",
   "execution_count": 3,
   "metadata": {},
   "outputs": [
    {
     "ename": "NameError",
     "evalue": "name 'l' is not defined",
     "output_type": "error",
     "traceback": [
      "\u001b[0;31m--------------------------------------------------------------------------\u001b[0m",
      "\u001b[0;31mNameError\u001b[0m                                Traceback (most recent call last)",
      "\u001b[0;32m<ipython-input-3-851de84fa98d>\u001b[0m in \u001b[0;36m<module>\u001b[0;34m\u001b[0m\n\u001b[0;32m----> 1\u001b[0;31m \u001b[0ml\u001b[0m\u001b[0;34m.\u001b[0m\u001b[0msplit\u001b[0m\u001b[0;34m(\u001b[0m\u001b[0;34m'asdf_asdfg'\u001b[0m\u001b[0;34m,\u001b[0m \u001b[0;34m(\u001b[0m\u001b[0;34m'_'\u001b[0m\u001b[0;34m)\u001b[0m\u001b[0;34m)\u001b[0m\u001b[0;34m[\u001b[0m\u001b[0;36m0\u001b[0m\u001b[0;34m]\u001b[0m\u001b[0;34m\u001b[0m\u001b[0;34m\u001b[0m\u001b[0m\n\u001b[0m",
      "\u001b[0;31mNameError\u001b[0m: name 'l' is not defined"
     ]
    }
   ],
   "source": [
    "l.split('asdf_asdfg', ('_'))[0]"
   ]
  },
  {
   "cell_type": "code",
   "execution_count": 32,
   "metadata": {},
   "outputs": [
    {
     "data": {
      "text/plain": [
       "200"
      ]
     },
     "execution_count": 32,
     "metadata": {},
     "output_type": "execute_result"
    }
   ],
   "source": [
    "im.axes_manager.navigation_shape[0]"
   ]
  },
  {
   "cell_type": "code",
   "execution_count": 5,
   "metadata": {},
   "outputs": [
    {
     "data": {
      "text/plain": [
       "├── General\n",
       "│   ├── original_filename = 18.01.26 Spectrum image EELS.dm3\n",
       "│   └── title = 18.01.26 Spectrum image EELS\n",
       "└── Signal\n",
       "    ├── Noise_properties\n",
       "    │   └── Variance_linear_model\n",
       "    │       ├── gain_factor = 1.0\n",
       "    │       └── gain_offset = 0.0\n",
       "    ├── binned = True\n",
       "    ├── quantity = Intensity\n",
       "    └── signal_type = EELS"
      ]
     },
     "execution_count": 5,
     "metadata": {},
     "output_type": "execute_result"
    }
   ],
   "source": [
    "im = hs.load(filenames='18.01.26 Spectrum image EELS.dm3')\n",
    "im.metadata#.axes_manager"
   ]
  },
  {
   "cell_type": "code",
   "execution_count": 6,
   "metadata": {},
   "outputs": [
    {
     "data": {
      "application/vnd.jupyter.widget-view+json": {
       "model_id": "d01e69b04b5b4f4d90e426c438764b88",
       "version_major": 2,
       "version_minor": 0
      },
      "text/plain": [
       "HBox(children=(IntProgress(value=0, max=10000), HTML(value='')))"
      ]
     },
     "metadata": {},
     "output_type": "display_data"
    },
    {
     "name": "stdout",
     "output_type": "stream",
     "text": [
      "\n"
     ]
    }
   ],
   "source": [
    "m=im.create_model(auto_background=False)\n",
    "g=hyperspy.components1d.Lorentzian(A=10000,centre=15)\n",
    "m.append(g)\n",
    "m.set_signal_range(10.,30.)\n",
    "m.multifit()\n",
    "m.plot()"
   ]
  },
  {
   "cell_type": "code",
   "execution_count": 7,
   "metadata": {},
   "outputs": [],
   "source": [
    "area = m.components.Lorentzian.gamma.as_signal(field='values')"
   ]
  },
  {
   "cell_type": "code",
   "execution_count": 8,
   "metadata": {},
   "outputs": [],
   "source": [
    "area.axes_manager.signal_axes[1].scale = 1.0"
   ]
  },
  {
   "cell_type": "code",
   "execution_count": 9,
   "metadata": {},
   "outputs": [],
   "source": [
    "area.axes_manager.signal_axes[0].offset = 0\n",
    "area.axes_manager.signal_axes[0].offset = 0"
   ]
  },
  {
   "cell_type": "code",
   "execution_count": 115,
   "metadata": {},
   "outputs": [],
   "source": [
    "left=0\n",
    "top=0\n",
    "right=100\n",
    "bottom=50\n",
    "\n",
    "roi = hs.roi.RectangularROI(area.axes_manager.signal_axes[0].offset+left*area.axes_manager.signal_axes[0].scale,\n",
    "                            area.axes_manager.signal_axes[1].offset+top*area.axes_manager.signal_axes[1].scale,\n",
    "                            area.axes_manager.signal_axes[0].offset+right*area.axes_manager.signal_axes[0].scale,\n",
    "                            area.axes_manager.signal_axes[1].offset+bottom*area.axes_manager.signal_axes[1].scale)\n",
    "#roi.linewidth = 3\n",
    "area.plot()\n",
    "roi_area = roi.interactive(area)"
   ]
  },
  {
   "cell_type": "code",
   "execution_count": 11,
   "metadata": {},
   "outputs": [
    {
     "data": {
      "text/plain": [
       "<Signal2D, title: gamma parameter of Lorentzian component, dimensions: (|100, 50)>"
      ]
     },
     "execution_count": 11,
     "metadata": {},
     "output_type": "execute_result"
    }
   ],
   "source": [
    "roi_area"
   ]
  },
  {
   "cell_type": "code",
   "execution_count": 11,
   "metadata": {},
   "outputs": [],
   "source": [
    "roi_area.plot()"
   ]
  },
  {
   "cell_type": "code",
   "execution_count": 122,
   "metadata": {},
   "outputs": [],
   "source": [
    "import cv2\n",
    "\n",
    "img=roi_area.data\n",
    "#img=cv2.imread('Figure_intensity_parameter_of_First_Plasmon_Peak_component_Signal.png') \n",
    "\n",
    "img=255*(1-(img-np.min(img))/(np.max(img)-np.min(img)))\n",
    "#img=255*(img-np.min(img))/(np.max(img)-np.min(img))\n",
    "\n",
    "img_gauss = cv2.GaussianBlur(img, (5,5), cv2.BORDER_DEFAULT)\n",
    "img_gauss=img_gauss.astype('uint8')\n",
    "vis = img_gauss.copy()\n",
    "mser = cv2.MSER_create()\n",
    "coordinates, bboxes = mser.detectRegions(img_gauss)\n",
    "\n",
    "hulls = [cv2.convexHull(p.reshape(-1, 1, 2)) for p in regions]\n",
    "cv2.polylines(img_gauss, hulls, 1, (0, 0, 255), 2)\n",
    "\n",
    "FD = cv2.Feature2D('MSER')\n",
    "kpoints = mser.detect(img_gauss)\n",
    "\n",
    "mask = np.zeros((img.shape[0], img.shape[1], 1), dtype=np.uint8)\n",
    "\n",
    "for contour in hulls:\n",
    "\n",
    "    cv2.drawContours(mask, [contour], -1, (255, 255, 255), -1)\n",
    "    \n",
    "sb_only = cv2.bitwise_and(img_gauss, img_gauss, mask=mask)\n",
    "\n",
    "\n",
    "coords = []\n",
    "for coord in coordinates:\n",
    "    bbox = cv2.boundingRect(coord)\n",
    "    x,y,w,h = bbox\n",
    "    if w< 10 or h < 10 or w/h > 5 or h/w > 5:\n",
    "        continue\n",
    "    coords.append(coord)"
   ]
  },
  {
   "cell_type": "code",
   "execution_count": 110,
   "metadata": {},
   "outputs": [
    {
     "data": {
      "text/plain": [
       "<matplotlib.image.AxesImage at 0x7f8707777908>"
      ]
     },
     "execution_count": 110,
     "metadata": {},
     "output_type": "execute_result"
    }
   ],
   "source": [
    "\n",
    "\"\"\"\n",
    "colors = [[43, 43, 200], \n",
    "          [43, 75, 200], \n",
    "          [43, 106, 200], \n",
    "          [43, 137, 200], \n",
    "          [43, 169, 200], \n",
    "          [43, 200, 195], \n",
    "          [43, 200, 163], \n",
    "          [43, 200, 132], \n",
    "          [43, 200, 101], \n",
    "          [43, 200, 69], \n",
    "          [54, 200, 43], \n",
    "          [85, 200, 43], \n",
    "          [116, 200, 43], \n",
    "          [148, 200, 43], \n",
    "          [179, 200, 43], \n",
    "          [200, 184, 43], \n",
    "          [200, 153, 43], \n",
    "          [200, 122, 43], \n",
    "          [200, 90, 43], \n",
    "          [200, 59, 43], \n",
    "          [200, 43, 64], \n",
    "          [200, 43, 95], \n",
    "          [200, 43, 127], \n",
    "          [200, 43, 158], \n",
    "          [200, 43, 190], \n",
    "          [174, 43, 200], \n",
    "          [142, 43, 200], \n",
    "          [111, 43, 200], \n",
    "          [80, 43, 200], \n",
    "          [43, 43, 200]\n",
    "         ]\n",
    "\"\"\"\n",
    "\n",
    "## Fill with random colors\n",
    "np.random.seed(0)\n",
    "canvas1 = img_gauss.copy()\n",
    "canvas2 = cv2.cvtColor(img_gauss, cv2.COLOR_GRAY2BGR)\n",
    "canvas3 = np.zeros_like(canvas2)\n",
    "\n",
    "for cnt in coords:\n",
    "    xx = cnt[:,0]\n",
    "    yy = cnt[:,1]\n",
    "    color = colors[np.random.choice(len(colors))]\n",
    "    #canvas1[yy, xx] = color\n",
    "    canvas2[yy, xx] = color\n",
    "    canvas3[yy, xx] = color\n",
    "\n",
    "plt.imshow(canvas3)"
   ]
  },
  {
   "cell_type": "code",
   "execution_count": 98,
   "metadata": {},
   "outputs": [
    {
     "name": "stdout",
     "output_type": "stream",
     "text": [
      "157\n",
      "1\n"
     ]
    }
   ],
   "source": [
    "print(np.max(np.transpose(coords[0])[0]))\n",
    "print(np.min(np.transpose(coords[0])[0]))"
   ]
  },
  {
   "cell_type": "code",
   "execution_count": 99,
   "metadata": {},
   "outputs": [
    {
     "name": "stdout",
     "output_type": "stream",
     "text": [
      "40\n",
      "1\n"
     ]
    }
   ],
   "source": [
    "print(np.max(np.transpose(coords[0])[1]))\n",
    "print(np.min(np.transpose(coords[0])[1]))"
   ]
  },
  {
   "cell_type": "code",
   "execution_count": 145,
   "metadata": {},
   "outputs": [
    {
     "name": "stdout",
     "output_type": "stream",
     "text": [
      "Coordinates: 45.000000, 20.000000\n",
      "Coordinates: 45.000000, 20.000000\n",
      "Coordinates: 45.000000, 20.000000\n",
      "Coordinates: 45.000000, 20.000000\n",
      "Coordinates: 45.000000, 20.000000\n",
      "Coordinates: 45.000000, 20.000000\n",
      "Coordinates: 46.000000, 20.000000\n",
      "Coordinates: 47.000000, 20.000000\n",
      "Coordinates: 46.000000, 20.000000\n",
      "Coordinates: 46.000000, 20.000000\n",
      "Coordinates: 38.000000, 19.000000\n",
      "Coordinates: 40.000000, 24.000000\n",
      "Coordinates: 60.000000, 44.000000\n",
      "Coordinates: 40.000000, 44.000000\n",
      "Coordinates: 42.000000, 20.000000\n",
      "Coordinates: 42.000000, 20.000000\n",
      "Coordinates: 42.000000, 20.000000\n",
      "Coordinates: 42.000000, 20.000000\n",
      "Coordinates: 42.000000, 20.000000\n",
      "Coordinates: 41.000000, 20.000000\n",
      "Coordinates: 40.000000, 24.000000\n"
     ]
    }
   ],
   "source": [
    "for i in range(len(kpoints)):\n",
    "    print('Coordinates: %f, %f' %(int(kpoints[i].pt[0]), int(kpoints[i].pt[1])))"
   ]
  },
  {
   "cell_type": "code",
   "execution_count": 146,
   "metadata": {},
   "outputs": [],
   "source": [
    "#plt.imshow(vis)\n",
    "cv2.imshow('img', vis)\n",
    "\n",
    "#cv2.waitKey(0)\n",
    "\n",
    "#cv2.destroyAllWindows()"
   ]
  },
  {
   "cell_type": "code",
   "execution_count": 43,
   "metadata": {},
   "outputs": [
    {
     "data": {
      "text/plain": [
       "[array([[  3,   3],\n",
       "        [  4,   5],\n",
       "        [  5,   5],\n",
       "        ...,\n",
       "        [130,  23],\n",
       "        [155,  15],\n",
       "        [111,  17]], dtype=int32), array([[  3,   3],\n",
       "        [  4,   5],\n",
       "        [  5,   5],\n",
       "        ...,\n",
       "        [131,  17],\n",
       "        [141,  22],\n",
       "        [112,  23]], dtype=int32), array([[  3,   3],\n",
       "        [  4,   5],\n",
       "        [  5,   5],\n",
       "        ...,\n",
       "        [102,  19],\n",
       "        [117,  17],\n",
       "        [140,  22]], dtype=int32), array([[  3,   3],\n",
       "        [  4,   5],\n",
       "        [  5,   5],\n",
       "        ...,\n",
       "        [ 94,  24],\n",
       "        [134,  17],\n",
       "        [133,  23]], dtype=int32), array([[  3,   3],\n",
       "        [  4,   5],\n",
       "        [  5,   5],\n",
       "        ...,\n",
       "        [136,  22],\n",
       "        [122,  22],\n",
       "        [ 96,  20]], dtype=int32), array([[  3,   3],\n",
       "        [  4,   5],\n",
       "        [  5,   5],\n",
       "        ...,\n",
       "        [127,  18],\n",
       "        [112,  22],\n",
       "        [115,  21]], dtype=int32), array([[  3,   3],\n",
       "        [  4,   5],\n",
       "        [  5,   5],\n",
       "        ...,\n",
       "        [114,  21],\n",
       "        [100,  23],\n",
       "        [ 92,  21]], dtype=int32), array([[  3,   3],\n",
       "        [  4,   5],\n",
       "        [  5,   5],\n",
       "        ...,\n",
       "        [121,  20],\n",
       "        [123,  20],\n",
       "        [122,  19]], dtype=int32), array([[ 1,  1],\n",
       "        [ 2,  1],\n",
       "        [ 2,  2],\n",
       "        ...,\n",
       "        [60, 21],\n",
       "        [38, 21],\n",
       "        [52, 21]], dtype=int32), array([[ 1,  1],\n",
       "        [ 2,  1],\n",
       "        [ 2,  2],\n",
       "        ...,\n",
       "        [ 6, 23],\n",
       "        [33, 21],\n",
       "        [18, 28]], dtype=int32), array([[ 1,  1],\n",
       "        [ 2,  1],\n",
       "        [ 2,  2],\n",
       "        ...,\n",
       "        [ 5, 27],\n",
       "        [ 5, 28],\n",
       "        [ 4, 28]], dtype=int32)]"
      ]
     },
     "execution_count": 43,
     "metadata": {},
     "output_type": "execute_result"
    }
   ],
   "source": [
    "regions[]"
   ]
  },
  {
   "cell_type": "code",
   "execution_count": 41,
   "metadata": {},
   "outputs": [
    {
     "data": {
      "text/plain": [
       "<matplotlib.image.AxesImage at 0x7f870a3e0d68>"
      ]
     },
     "execution_count": 41,
     "metadata": {},
     "output_type": "execute_result"
    }
   ],
   "source": [
    "plt.imshow(img_gauss)"
   ]
  },
  {
   "cell_type": "code",
   "execution_count": 7,
   "metadata": {},
   "outputs": [],
   "source": [
    "file=hs.load('../Master/EELS AlYFe2/Energy Drift Corr from AlyFe sb3 EELS SI_1.dm3')"
   ]
  },
  {
   "cell_type": "code",
   "execution_count": 34,
   "metadata": {},
   "outputs": [],
   "source": [
    "test = file.axes_manager.as_dictionary()['axis-0']"
   ]
  },
  {
   "cell_type": "code",
   "execution_count": 36,
   "metadata": {},
   "outputs": [
    {
     "data": {
      "text/plain": [
       "'eV'"
      ]
     },
     "execution_count": 36,
     "metadata": {},
     "output_type": "execute_result"
    }
   ],
   "source": [
    "test['units']"
   ]
  },
  {
   "cell_type": "markdown",
   "metadata": {
    "ExecuteTime": {
     "end_time": "2018-06-04T07:24:37.479443Z",
     "start_time": "2018-06-04T07:24:37.472020Z"
    }
   },
   "source": [
    "# Testing _STZ-Mapping_ Routine"
   ]
  },
  {
   "cell_type": "code",
   "execution_count": 64,
   "metadata": {
    "ExecuteTime": {
     "end_time": "2018-10-29T10:11:06.179276Z",
     "start_time": "2018-10-29T10:10:53.967330Z"
    },
    "scrolled": true
   },
   "outputs": [
    {
     "name": "stdout",
     "output_type": "stream",
     "text": [
      "Does the file include stored models from previous fitting? (y/n): n\n",
      "Setting up proper navigation space...\n",
      "Energy loss axis\n",
      "Aligning Zero-Loss Peak...\n",
      "\n",
      "Initial ZLP position statistics\n",
      "-------------------------------\n",
      "Summary statistics\n",
      "------------------\n",
      "mean:\t-1.61\n",
      "std:\t0.0593\n",
      "\n",
      "min:\t-1.7\n",
      "Q1:\t-1.6\n",
      "median:\t-1.6\n",
      "Q3:\t-1.6\n",
      "max:\t-1.1\n"
     ]
    },
    {
     "data": {
      "application/vnd.jupyter.widget-view+json": {
       "model_id": "d02ce298ccbe4871bf3e42be8bdffb0e",
       "version_major": 2,
       "version_minor": 0
      },
      "text/plain": [
       "HBox(children=(IntProgress(value=0, max=31186), HTML(value='')))"
      ]
     },
     "metadata": {},
     "output_type": "display_data"
    },
    {
     "data": {
      "application/vnd.jupyter.widget-view+json": {
       "model_id": "041a9c23ea9c4455af8c3dbb6f81b54d",
       "version_major": 2,
       "version_minor": 0
      },
      "text/plain": [
       "HBox(children=(IntProgress(value=0, max=31186), HTML(value='')))"
      ]
     },
     "metadata": {},
     "output_type": "display_data"
    },
    {
     "data": {
      "application/vnd.jupyter.widget-view+json": {
       "model_id": "875cf280dde64294a6657ce1449c362f",
       "version_major": 2,
       "version_minor": 0
      },
      "text/plain": [
       "HBox(children=(IntProgress(value=0, max=31186), HTML(value='')))"
      ]
     },
     "metadata": {},
     "output_type": "display_data"
    },
    {
     "name": "stdout",
     "output_type": "stream",
     "text": [
      "Aligning datastructure successful. Estimate poissonian noise...\n",
      "Do you want to continue with the deconvoluted spectrum using\n",
      "the Fourier-Log-Deconvolution method?\n",
      "[Less calculation effort in the fitting routine as only the\n",
      " plasmon peak is fitted. Precision might decrease.\n",
      " (y/n): n\n",
      "Loading process completed. Energy channels cropped by ZLP-Alignment: 9[0.439453125%]\n",
      "Channels before: 2048\n",
      "Channels after: 2039\n"
     ]
    }
   ],
   "source": [
    "a=None\n",
    "a=Plasmon_mapper(file=hs.load('../Master/EELS-SB1-Paper/EELS Spectrum Image (Energy shift (Gaussian) corrected).dm3'), is_lazy=True)\n",
    "a.File.metadata.General.title = 'Vitreloy SB3'\n",
    "#a = STZ_mapper(filename = '18_01_26_Spectrum_image_14Plasmon_FWHM.dm3', use_roi=False)\n",
    "\n",
    "#m = a.eels_fit_routine()\n",
    "#m.plot()\n",
    "#m = im[0].create_model()\n",
    "#m.print_current_values(only_free=False)\n",
    "#print(m.red_chisq.data)\n",
    "#print(m.components)\n",
    "#m.components.Zero_Loss_Peak.function(x=-0.270658)"
   ]
  },
  {
   "cell_type": "code",
   "execution_count": null,
   "metadata": {},
   "outputs": [],
   "source": [
    "a=None\n",
    "a=Plasmon_mapper(file=hs.load('EELS Low_Loss_Models.hspy'), is_lazy=True)"
   ]
  },
  {
   "cell_type": "code",
   "execution_count": 59,
   "metadata": {},
   "outputs": [],
   "source": [
    "a.File.plot()"
   ]
  },
  {
   "cell_type": "code",
   "execution_count": 12,
   "metadata": {},
   "outputs": [],
   "source": [
    "a.calc_thickness(['Cu','Zr'], [0.64,0.36])"
   ]
  },
  {
   "cell_type": "code",
   "execution_count": 13,
   "metadata": {},
   "outputs": [],
   "source": [
    "a.thickness_map.plot()"
   ]
  },
  {
   "cell_type": "code",
   "execution_count": 7,
   "metadata": {},
   "outputs": [],
   "source": [
    "a.File.plot()"
   ]
  },
  {
   "cell_type": "code",
   "execution_count": 5,
   "metadata": {},
   "outputs": [],
   "source": [
    "a.File.metadata.General.title = 'EELS Spectrum Image 1 4nm-probe doubleSBarea'\n",
    "a.File.plot()"
   ]
  },
  {
   "cell_type": "code",
   "execution_count": 122,
   "metadata": {},
   "outputs": [
    {
     "name": "stdout",
     "output_type": "stream",
     "text": [
      "Do you want to use the gui to manually set the starting parameters? (y/n): n\n"
     ]
    },
    {
     "data": {
      "text/plain": [
       "12.840158282976358"
      ]
     },
     "execution_count": 122,
     "metadata": {},
     "output_type": "execute_result"
    }
   ],
   "source": [
    "a.function_set = 'VolumePlasmonDrude'\n",
    "m = a.init_model(False, False)\n",
    "a.fit_zlp_only(m, 'leastsq', 'ls', True)\n",
    "a.fit_pp_only(100., m, 'leastsq', 'ls', True)"
   ]
  },
  {
   "cell_type": "code",
   "execution_count": 129,
   "metadata": {},
   "outputs": [
    {
     "name": "stderr",
     "output_type": "stream",
     "text": [
      "/home/max/Apps/anaconda3/envs/Hyperspy/lib/python3.6/site-packages/matplotlib/tight_layout.py:176: UserWarning: Tight layout not applied. The left and right margins cannot be made large enough to accommodate all axes decorations. \n",
      "  warnings.warn('Tight layout not applied. The left and right margins '\n"
     ]
    }
   ],
   "source": [
    "m.plot(plot_components=True)"
   ]
  },
  {
   "cell_type": "code",
   "execution_count": 117,
   "metadata": {},
   "outputs": [],
   "source": [
    "test=a.Fit_Model"
   ]
  },
  {
   "cell_type": "code",
   "execution_count": 124,
   "metadata": {},
   "outputs": [],
   "source": [
    "a.set_model_params(test, m, func='First_Plasmon_Peak')"
   ]
  },
  {
   "cell_type": "code",
   "execution_count": 127,
   "metadata": {},
   "outputs": [],
   "source": [
    "test.set_parameters_value('plasmon_energy',\n",
    "                          m.components.First_Plasmon_Peak.plasmon_energy.value,\n",
    "                          component_list=['First_Plasmon_Peak']\n",
    "                         )"
   ]
  },
  {
   "cell_type": "code",
   "execution_count": 128,
   "metadata": {},
   "outputs": [
    {
     "data": {
      "text/plain": [
       "array([[104.09730699],\n",
       "       [104.09730699],\n",
       "       [104.09730699],\n",
       "       [104.09730699],\n",
       "       [104.09730699]])"
      ]
     },
     "execution_count": 128,
     "metadata": {},
     "output_type": "execute_result"
    }
   ],
   "source": [
    "test.components.First_Plasmon_Peak.plasmon_energy.map['values']"
   ]
  },
  {
   "cell_type": "code",
   "execution_count": 115,
   "metadata": {},
   "outputs": [
    {
     "ename": "AttributeError",
     "evalue": "'NoneType' object has no attribute 'components'",
     "output_type": "error",
     "traceback": [
      "\u001b[0;31m--------------------------------------------------------------------------\u001b[0m",
      "\u001b[0;31mAttributeError\u001b[0m                           Traceback (most recent call last)",
      "\u001b[0;32m<ipython-input-115-bf3d961a2d5a>\u001b[0m in \u001b[0;36m<module>\u001b[0;34m\u001b[0m\n\u001b[0;32m----> 1\u001b[0;31m \u001b[0ma\u001b[0m\u001b[0;34m.\u001b[0m\u001b[0mFit_Model\u001b[0m\u001b[0;34m.\u001b[0m\u001b[0mcomponents\u001b[0m\u001b[0;34m\u001b[0m\u001b[0;34m\u001b[0m\u001b[0m\n\u001b[0m",
      "\u001b[0;31mAttributeError\u001b[0m: 'NoneType' object has no attribute 'components'"
     ]
    }
   ],
   "source": [
    "a.Fit_Model.components"
   ]
  },
  {
   "cell_type": "code",
   "execution_count": 63,
   "metadata": {},
   "outputs": [
    {
     "name": "stdout",
     "output_type": "stream",
     "text": [
      "Components\tParameter\tValue\n",
      "Zero_Loss_Peak\n",
      "\t\tFWHM\t1.58797\n",
      "\t\tarea\t395135\n",
      "\t\tcentre\t-0.303945\n",
      "\t\tgamma\t0.689704\n",
      "First_Plasmon_Peak\n",
      "\t\tA\t64999.5\n",
      "\t\tcentre\t16.0222\n",
      "\t\tgamma\t2.92928\n",
      "Second_Plasmon_Peak\n",
      "\t\tA\t764383\n",
      "\t\tgamma\t38.1443\n"
     ]
    }
   ],
   "source": [
    "m.print_current_values()"
   ]
  },
  {
   "cell_type": "code",
   "execution_count": 47,
   "metadata": {},
   "outputs": [
    {
     "name": "stdout",
     "output_type": "stream",
     "text": [
      "Components\tParameter\tValue\n",
      "Zero_Loss_Peak\n",
      "\t\tFWHM\t2.31046\n",
      "\t\tarea\t370134\n",
      "\t\tcentre\t-0.46832\n",
      "\t\tgamma\t0.358628\n",
      "First_Plasmon_Peak\n",
      "\t\tfwhm\t-7.03859e+06\n",
      "\t\tintensity\t7.65043e+06\n",
      "\t\tplasmon_energy\t6548.99\n",
      "Second_Plasmon_Peak\n",
      "\t\tfwhm\t2.80828e+07\n",
      "\t\tintensity\t7.65802e+06\n"
     ]
    }
   ],
   "source": [
    "a.Fit_Model.print_current_values()"
   ]
  },
  {
   "cell_type": "code",
   "execution_count": 162,
   "metadata": {},
   "outputs": [
    {
     "data": {
      "text/plain": [
       "   # |      Attribute Name |      Component Name |      Component Type\n",
       "---- | ------------------- | ------------------- | -------------------\n",
       "   0 |      Zero_Loss_Peak |      Zero_Loss_Peak |               Voigt\n",
       "   1 |  First_Plasmon_Peak |  First_Plasmon_Peak |  VolumePlasmonDrude\n",
       "   2 | Second_Plasmon_Peak | Second_Plasmon_Peak |  VolumePlasmonDrude"
      ]
     },
     "execution_count": 162,
     "metadata": {},
     "output_type": "execute_result"
    }
   ],
   "source": [
    "a.Fit_Model.plot_results(only_active=False)"
   ]
  },
  {
   "cell_type": "code",
   "execution_count": 40,
   "metadata": {},
   "outputs": [
    {
     "name": "stdout",
     "output_type": "stream",
     "text": [
      "Available models: \n",
      "└── VolumePlasmonDrude_ls\n",
      "    ├── components\n",
      "    │   ├── First_Plasmon_Peak\n",
      "    │   ├── Second_Plasmon_Peak\n",
      "    │   └── Zero_Loss_Peak\n",
      "    ├── date = 2019-06-25 16:02:29\n",
      "    └── dimensions = (1, 5|2043)\n",
      "\n",
      "Model names: \n",
      "{'1': 'VolumePlasmonDrude_ls', '2': 'VolumePlasmonDrude_ml', '3': 'Lorentzian_ls', '4': 'Lorentzian_ml', '5': 'Gaussian_ls', '6': 'Gaussian_ml', '7': 'Voigt_ls', '8': 'Voigt_ml'}\n",
      "Which model should be loaded? 1\n",
      "Loading parameter maps for: VolumePlasmonDrude_ls\n"
     ]
    },
    {
     "name": "stderr",
     "output_type": "stream",
     "text": [
      "/home/max/Apps/anaconda3/envs/Hyperspy/lib/python3.6/site-packages/hyperspy/signal.py:1696: RuntimeWarning: invalid value encountered in sqrt\n",
      "  getattr(self.data, op_name)(other))\n"
     ]
    }
   ],
   "source": [
    "a.load_model()"
   ]
  },
  {
   "cell_type": "code",
   "execution_count": 76,
   "metadata": {},
   "outputs": [],
   "source": [
    "a.FPP_Emax.plot(vmin=ep-std, vmax=ep+std)"
   ]
  },
  {
   "cell_type": "code",
   "execution_count": 74,
   "metadata": {},
   "outputs": [],
   "source": [
    "ep=a.FPP_Emax.mean(axis=(0,1)).data[0]"
   ]
  },
  {
   "cell_type": "code",
   "execution_count": 75,
   "metadata": {},
   "outputs": [],
   "source": [
    "std=a.FPP_Emax.std(axis=(0,1)).data[0]"
   ]
  },
  {
   "cell_type": "code",
   "execution_count": 11,
   "metadata": {},
   "outputs": [
    {
     "name": "stdout",
     "output_type": "stream",
     "text": [
      "No valid function set specified. Please look into docstring for further information.\n"
     ]
    },
    {
     "ename": "AttributeError",
     "evalue": "'NoneType' object has no attribute 'metadata'",
     "output_type": "error",
     "traceback": [
      "\u001b[0;31m--------------------------------------------------------------------------\u001b[0m",
      "\u001b[0;31mAttributeError\u001b[0m                           Traceback (most recent call last)",
      "\u001b[0;32m<ipython-input-11-94d4ab89b8e2>\u001b[0m in \u001b[0;36m<module>\u001b[0;34m\u001b[0m\n\u001b[0;32m----> 1\u001b[0;31m \u001b[0ma\u001b[0m\u001b[0;34m.\u001b[0m\u001b[0mgenerate_param_maps\u001b[0m\u001b[0;34m(\u001b[0m\u001b[0;34m)\u001b[0m\u001b[0;34m\u001b[0m\u001b[0;34m\u001b[0m\u001b[0m\n\u001b[0m",
      "\u001b[0;32m<ipython-input-3-db31cc302ec1>\u001b[0m in \u001b[0;36mgenerate_param_maps\u001b[0;34m(self)\u001b[0m\n\u001b[1;32m   1179\u001b[0m \u001b[0;34m\u001b[0m\u001b[0m\n\u001b[1;32m   1180\u001b[0m         \u001b[0;32mfor\u001b[0m \u001b[0mtitle\u001b[0m \u001b[0;32min\u001b[0m \u001b[0mself\u001b[0m\u001b[0;34m.\u001b[0m\u001b[0mparameter_dict\u001b[0m\u001b[0;34m:\u001b[0m\u001b[0;34m\u001b[0m\u001b[0;34m\u001b[0m\u001b[0m\n\u001b[0;32m-> 1181\u001b[0;31m             \u001b[0mself\u001b[0m\u001b[0;34m.\u001b[0m\u001b[0mparameter_dict\u001b[0m\u001b[0;34m[\u001b[0m\u001b[0mtitle\u001b[0m\u001b[0;34m]\u001b[0m\u001b[0;34m.\u001b[0m\u001b[0mmetadata\u001b[0m\u001b[0;34m.\u001b[0m\u001b[0mGeneral\u001b[0m\u001b[0;34m.\u001b[0m\u001b[0mtitle\u001b[0m \u001b[0;34m=\u001b[0m \u001b[0mtitle\u001b[0m\u001b[0;34m\u001b[0m\u001b[0;34m\u001b[0m\u001b[0m\n\u001b[0m\u001b[1;32m   1182\u001b[0m \u001b[0;34m\u001b[0m\u001b[0m\n\u001b[1;32m   1183\u001b[0m \u001b[0;34m\u001b[0m\u001b[0m\n",
      "\u001b[0;31mAttributeError\u001b[0m: 'NoneType' object has no attribute 'metadata'"
     ]
    }
   ],
   "source": [
    "a.generate_param_maps()"
   ]
  },
  {
   "cell_type": "code",
   "execution_count": 26,
   "metadata": {},
   "outputs": [],
   "source": [
    "a.FPP_Int.plot()"
   ]
  },
  {
   "cell_type": "code",
   "execution_count": 32,
   "metadata": {},
   "outputs": [],
   "source": [
    "a.plot_parameter_maps()"
   ]
  },
  {
   "cell_type": "code",
   "execution_count": 62,
   "metadata": {},
   "outputs": [
    {
     "data": {
      "application/vnd.jupyter.widget-view+json": {
       "model_id": "0966711777cb4bd6834610eae028f92b",
       "version_major": 2,
       "version_minor": 0
      },
      "text/plain": [
       "HBox(children=(IntProgress(value=0, max=182), HTML(value='')))"
      ]
     },
     "metadata": {},
     "output_type": "display_data"
    },
    {
     "data": {
      "application/vnd.jupyter.widget-view+json": {
       "model_id": "f2ae5304878449c9bed103130deb15fc",
       "version_major": 2,
       "version_minor": 0
      },
      "text/plain": [
       "HBox(children=(IntProgress(value=0, max=156), HTML(value='')))"
      ]
     },
     "metadata": {},
     "output_type": "display_data"
    },
    {
     "data": {
      "application/vnd.jupyter.widget-view+json": {
       "model_id": "7d3e270c78ac43c49ca1a79714d2ce18",
       "version_major": 2,
       "version_minor": 0
      },
      "text/plain": [
       "HBox(children=(IntProgress(value=0, max=182), HTML(value='')))"
      ]
     },
     "metadata": {},
     "output_type": "display_data"
    },
    {
     "data": {
      "application/vnd.jupyter.widget-view+json": {
       "model_id": "e703ac79c9d34fb9802cc31afb53ec37",
       "version_major": 2,
       "version_minor": 0
      },
      "text/plain": [
       "HBox(children=(IntProgress(value=0, max=156), HTML(value='')))"
      ]
     },
     "metadata": {},
     "output_type": "display_data"
    }
   ],
   "source": [
    "a.Fit_Model.as_signal().plot()"
   ]
  },
  {
   "cell_type": "code",
   "execution_count": 140,
   "metadata": {},
   "outputs": [
    {
     "name": "stderr",
     "output_type": "stream",
     "text": [
      "/home/max/Apps/anaconda3/envs/Hyperspy/lib/python3.6/site-packages/matplotlib/tight_layout.py:176: UserWarning: Tight layout not applied. The left and right margins cannot be made large enough to accommodate all axes decorations. \n",
      "  warnings.warn('Tight layout not applied. The left and right margins '\n"
     ]
    }
   ],
   "source": [
    "a.Fit_Model.plot(plot_components=True)"
   ]
  },
  {
   "cell_type": "code",
   "execution_count": 48,
   "metadata": {},
   "outputs": [
    {
     "name": "stdout",
     "output_type": "stream",
     "text": [
      "Components\tParameter\tValue\n",
      "Zero_Loss_Peak\n",
      "\t\tFWHM\t1.11969\n",
      "\t\tarea\t418014\n",
      "\t\tcentre\t-0.234404\n",
      "\t\tgamma\t0.809662\n",
      "First_Plasmon_Peak\n",
      "\t\tfwhm\t60.7358\n",
      "\t\tintensity\t2273.24\n",
      "\t\tplasmon_energy\t28.4308\n",
      "Second_Plasmon_Peak\n",
      "\t\tfwhm\t1.60603e+29\n",
      "\t\tintensity\t2.61015e+28\n"
     ]
    }
   ],
   "source": [
    "a.Fit_Model.print_current_values()"
   ]
  },
  {
   "cell_type": "code",
   "execution_count": 26,
   "metadata": {},
   "outputs": [],
   "source": [
    "a.File.mean().plot()"
   ]
  },
  {
   "cell_type": "code",
   "execution_count": 125,
   "metadata": {},
   "outputs": [
    {
     "data": {
      "application/vnd.jupyter.widget-view+json": {
       "model_id": "7874883917af4a25a1bb46392630a95f",
       "version_major": 2,
       "version_minor": 0
      },
      "text/plain": [
       "HBox(children=(IntProgress(value=0, max=400), HTML(value='')))"
      ]
     },
     "metadata": {},
     "output_type": "display_data"
    }
   ],
   "source": [
    "a.fit_fpp_only(a.Fit_Model, 'leastsq', 'ls')"
   ]
  },
  {
   "cell_type": "code",
   "execution_count": 50,
   "metadata": {},
   "outputs": [
    {
     "data": {
      "application/vnd.jupyter.widget-view+json": {
       "model_id": "1581fa9387d04427a94017b33f1a4d87",
       "version_major": 2,
       "version_minor": 0
      },
      "text/plain": [
       "HBox(children=(IntProgress(value=0, max=390), HTML(value='')))"
      ]
     },
     "metadata": {},
     "output_type": "display_data"
    },
    {
     "data": {
      "application/vnd.jupyter.widget-view+json": {
       "model_id": "c07b6a2365ba426986ec6a2cd3a2c693",
       "version_major": 2,
       "version_minor": 0
      },
      "text/plain": [
       "HBox(children=(IntProgress(value=0, max=390), HTML(value='')))"
      ]
     },
     "metadata": {},
     "output_type": "display_data"
    },
    {
     "data": {
      "application/vnd.jupyter.widget-view+json": {
       "model_id": "027a239eb70247a8b3fe567fd35029d4",
       "version_major": 2,
       "version_minor": 0
      },
      "text/plain": [
       "HBox(children=(IntProgress(value=0, max=360), HTML(value='')))"
      ]
     },
     "metadata": {},
     "output_type": "display_data"
    },
    {
     "data": {
      "application/vnd.jupyter.widget-view+json": {
       "model_id": "93707cfc91a24d1583080c4ce01161ae",
       "version_major": 2,
       "version_minor": 0
      },
      "text/plain": [
       "HBox(children=(IntProgress(value=0, max=360), HTML(value='')))"
      ]
     },
     "metadata": {},
     "output_type": "display_data"
    },
    {
     "ename": "IndexError",
     "evalue": "tuple index out of range",
     "output_type": "error",
     "traceback": [
      "\u001b[0;31m--------------------------------------------------------------------------\u001b[0m",
      "\u001b[0;31mIndexError\u001b[0m                               Traceback (most recent call last)",
      "\u001b[0;32m<ipython-input-50-c575ef57cfb3>\u001b[0m in \u001b[0;36m<module>\u001b[0;34m\u001b[0m\n\u001b[0;32m----> 1\u001b[0;31m \u001b[0mtest\u001b[0m \u001b[0;34m=\u001b[0m \u001b[0ma\u001b[0m\u001b[0;34m.\u001b[0m\u001b[0mrect_roi\u001b[0m\u001b[0;34m(\u001b[0m\u001b[0ma\u001b[0m\u001b[0;34m.\u001b[0m\u001b[0mFit_Model\u001b[0m\u001b[0;34m.\u001b[0m\u001b[0mas_signal\u001b[0m\u001b[0;34m(\u001b[0m\u001b[0;34m)\u001b[0m\u001b[0;34m,\u001b[0m \u001b[0;36m100\u001b[0m\u001b[0;34m,\u001b[0m\u001b[0;36m100\u001b[0m\u001b[0;34m,\u001b[0m\u001b[0;36m150\u001b[0m\u001b[0;34m,\u001b[0m\u001b[0;36m150\u001b[0m\u001b[0;34m)\u001b[0m\u001b[0;34m\u001b[0m\u001b[0;34m\u001b[0m\u001b[0m\n\u001b[0m",
      "\u001b[0;32m<ipython-input-44-9d6e03fb75fe>\u001b[0m in \u001b[0;36mrect_roi\u001b[0;34m(self, param_map, left, top, right, bottom)\u001b[0m\n\u001b[1;32m   1295\u001b[0m         roi = hs.roi.RectangularROI(param_map.axes_manager.signal_axes[0].offset +\n\u001b[1;32m   1296\u001b[0m                                     \u001b[0mleft\u001b[0m   \u001b[0;34m*\u001b[0m \u001b[0mparam_map\u001b[0m\u001b[0;34m.\u001b[0m\u001b[0maxes_manager\u001b[0m\u001b[0;34m.\u001b[0m\u001b[0msignal_axes\u001b[0m\u001b[0;34m[\u001b[0m\u001b[0;36m0\u001b[0m\u001b[0;34m]\u001b[0m\u001b[0;34m.\u001b[0m\u001b[0mscale\u001b[0m\u001b[0;34m,\u001b[0m\u001b[0;34m\u001b[0m\u001b[0;34m\u001b[0m\u001b[0m\n\u001b[0;32m-> 1297\u001b[0;31m                                     \u001b[0mparam_map\u001b[0m\u001b[0;34m.\u001b[0m\u001b[0maxes_manager\u001b[0m\u001b[0;34m.\u001b[0m\u001b[0msignal_axes\u001b[0m\u001b[0;34m[\u001b[0m\u001b[0;36m1\u001b[0m\u001b[0;34m]\u001b[0m\u001b[0;34m.\u001b[0m\u001b[0moffset\u001b[0m \u001b[0;34m+\u001b[0m\u001b[0;34m\u001b[0m\u001b[0;34m\u001b[0m\u001b[0m\n\u001b[0m\u001b[1;32m   1298\u001b[0m                                     \u001b[0mtop\u001b[0m    \u001b[0;34m*\u001b[0m \u001b[0mparam_map\u001b[0m\u001b[0;34m.\u001b[0m\u001b[0maxes_manager\u001b[0m\u001b[0;34m.\u001b[0m\u001b[0msignal_axes\u001b[0m\u001b[0;34m[\u001b[0m\u001b[0;36m1\u001b[0m\u001b[0;34m]\u001b[0m\u001b[0;34m.\u001b[0m\u001b[0mscale\u001b[0m\u001b[0;34m,\u001b[0m\u001b[0;34m\u001b[0m\u001b[0;34m\u001b[0m\u001b[0m\n\u001b[1;32m   1299\u001b[0m                                     \u001b[0mparam_map\u001b[0m\u001b[0;34m.\u001b[0m\u001b[0maxes_manager\u001b[0m\u001b[0;34m.\u001b[0m\u001b[0msignal_axes\u001b[0m\u001b[0;34m[\u001b[0m\u001b[0;36m0\u001b[0m\u001b[0;34m]\u001b[0m\u001b[0;34m.\u001b[0m\u001b[0moffset\u001b[0m \u001b[0;34m+\u001b[0m\u001b[0;34m\u001b[0m\u001b[0;34m\u001b[0m\u001b[0m\n",
      "\u001b[0;31mIndexError\u001b[0m: tuple index out of range"
     ]
    }
   ],
   "source": [
    "test = a.rect_roi(a.Fit_Model.as_signal(), 100,100,150,150)"
   ]
  },
  {
   "cell_type": "code",
   "execution_count": 19,
   "metadata": {},
   "outputs": [
    {
     "name": "stderr",
     "output_type": "stream",
     "text": [
      "/home/max/Apps/anaconda3/envs/Hyperspy/lib/python3.6/site-packages/matplotlib/tight_layout.py:176: UserWarning: Tight layout not applied. The left and right margins cannot be made large enough to accommodate all axes decorations. \n",
      "  warnings.warn('Tight layout not applied. The left and right margins '\n"
     ]
    }
   ],
   "source": [
    "a.Fit_Model.plot(plot_components=True)"
   ]
  },
  {
   "cell_type": "code",
   "execution_count": 16,
   "metadata": {},
   "outputs": [
    {
     "ename": "TraitError",
     "evalue": "The 'index' trait of a DataAxis instance must be 0 <= a number <= 0, but a value of 1 <class 'int'> was specified.",
     "output_type": "error",
     "traceback": [
      "\u001b[0;31m--------------------------------------------------------------------------\u001b[0m",
      "\u001b[0;31mTraitError\u001b[0m                               Traceback (most recent call last)",
      "\u001b[0;32m<ipython-input-16-2c62dc2a2441>\u001b[0m in \u001b[0;36m<module>\u001b[0;34m\u001b[0m\n\u001b[0;32m----> 1\u001b[0;31m \u001b[0ma\u001b[0m\u001b[0;34m.\u001b[0m\u001b[0mFit_Model\u001b[0m\u001b[0;34m.\u001b[0m\u001b[0maxes_manager\u001b[0m\u001b[0;34m.\u001b[0m\u001b[0mindices\u001b[0m \u001b[0;34m=\u001b[0m \u001b[0;34m(\u001b[0m\u001b[0;36m1\u001b[0m\u001b[0;34m,\u001b[0m\u001b[0;36m1\u001b[0m\u001b[0;34m)\u001b[0m\u001b[0;34m\u001b[0m\u001b[0;34m\u001b[0m\u001b[0m\n\u001b[0m\u001b[1;32m      2\u001b[0m \u001b[0ma\u001b[0m\u001b[0;34m.\u001b[0m\u001b[0mFit_Model\u001b[0m\u001b[0;34m.\u001b[0m\u001b[0mplot\u001b[0m\u001b[0;34m(\u001b[0m\u001b[0mplot_components\u001b[0m\u001b[0;34m=\u001b[0m\u001b[0;32mTrue\u001b[0m\u001b[0;34m)\u001b[0m\u001b[0;34m\u001b[0m\u001b[0;34m\u001b[0m\u001b[0m\n",
      "\u001b[0;32m~/Apps/anaconda3/envs/Hyperspy/lib/python3.6/site-packages/hyperspy/axes.py\u001b[0m in \u001b[0;36mindices\u001b[0;34m(self, indices)\u001b[0m\n\u001b[1;32m   1427\u001b[0m             \u001b[0;32mfor\u001b[0m \u001b[0mindex\u001b[0m\u001b[0;34m,\u001b[0m \u001b[0maxis\u001b[0m \u001b[0;32min\u001b[0m \u001b[0mzip\u001b[0m\u001b[0;34m(\u001b[0m\u001b[0mindices\u001b[0m\u001b[0;34m,\u001b[0m \u001b[0mself\u001b[0m\u001b[0;34m.\u001b[0m\u001b[0mnavigation_axes\u001b[0m\u001b[0;34m)\u001b[0m\u001b[0;34m:\u001b[0m\u001b[0;34m\u001b[0m\u001b[0;34m\u001b[0m\u001b[0m\n\u001b[1;32m   1428\u001b[0m                 \u001b[0mchanges\u001b[0m \u001b[0;34m=\u001b[0m \u001b[0mchanges\u001b[0m \u001b[0;32mor\u001b[0m \u001b[0;34m(\u001b[0m\u001b[0maxis\u001b[0m\u001b[0;34m.\u001b[0m\u001b[0mindex\u001b[0m \u001b[0;34m!=\u001b[0m \u001b[0mindex\u001b[0m\u001b[0;34m)\u001b[0m\u001b[0;34m\u001b[0m\u001b[0;34m\u001b[0m\u001b[0m\n\u001b[0;32m-> 1429\u001b[0;31m                 \u001b[0maxis\u001b[0m\u001b[0;34m.\u001b[0m\u001b[0mindex\u001b[0m \u001b[0;34m=\u001b[0m \u001b[0mindex\u001b[0m\u001b[0;34m\u001b[0m\u001b[0;34m\u001b[0m\u001b[0m\n\u001b[0m\u001b[1;32m   1430\u001b[0m         \u001b[0;31m# Trigger only if the indices are changed\u001b[0m\u001b[0;34m\u001b[0m\u001b[0;34m\u001b[0m\u001b[0;34m\u001b[0m\u001b[0m\n\u001b[1;32m   1431\u001b[0m         \u001b[0;32mif\u001b[0m \u001b[0mchanges\u001b[0m\u001b[0;34m:\u001b[0m\u001b[0;34m\u001b[0m\u001b[0;34m\u001b[0m\u001b[0m\n",
      "\u001b[0;32m~/Apps/anaconda3/envs/Hyperspy/lib/python3.6/site-packages/traits/trait_types.py\u001b[0m in \u001b[0;36m_set\u001b[0;34m(self, object, name, value)\u001b[0m\n\u001b[1;32m   2059\u001b[0m                 \u001b[0;32mpass\u001b[0m\u001b[0;34m\u001b[0m\u001b[0;34m\u001b[0m\u001b[0m\n\u001b[1;32m   2060\u001b[0m \u001b[0;34m\u001b[0m\u001b[0m\n\u001b[0;32m-> 2061\u001b[0;31m         \u001b[0mself\u001b[0m\u001b[0;34m.\u001b[0m\u001b[0merror\u001b[0m\u001b[0;34m(\u001b[0m\u001b[0mobject\u001b[0m\u001b[0;34m,\u001b[0m \u001b[0mname\u001b[0m\u001b[0;34m,\u001b[0m \u001b[0mvalue\u001b[0m\u001b[0;34m)\u001b[0m\u001b[0;34m\u001b[0m\u001b[0;34m\u001b[0m\u001b[0m\n\u001b[0m\u001b[1;32m   2062\u001b[0m \u001b[0;34m\u001b[0m\u001b[0m\n\u001b[1;32m   2063\u001b[0m     \u001b[0;32mdef\u001b[0m \u001b[0m_typed_value\u001b[0m\u001b[0;34m(\u001b[0m\u001b[0mself\u001b[0m\u001b[0;34m,\u001b[0m \u001b[0mvalue\u001b[0m\u001b[0;34m,\u001b[0m \u001b[0mlow\u001b[0m\u001b[0;34m,\u001b[0m \u001b[0mhigh\u001b[0m\u001b[0;34m)\u001b[0m\u001b[0;34m:\u001b[0m\u001b[0;34m\u001b[0m\u001b[0;34m\u001b[0m\u001b[0m\n",
      "\u001b[0;32m~/Apps/anaconda3/envs/Hyperspy/lib/python3.6/site-packages/traits/trait_handlers.py\u001b[0m in \u001b[0;36merror\u001b[0;34m(self, object, name, value)\u001b[0m\n\u001b[1;32m    234\u001b[0m         \"\"\"\n\u001b[1;32m    235\u001b[0m         raise TraitError(\n\u001b[0;32m--> 236\u001b[0;31m             \u001b[0mobject\u001b[0m\u001b[0;34m,\u001b[0m \u001b[0mname\u001b[0m\u001b[0;34m,\u001b[0m \u001b[0mself\u001b[0m\u001b[0;34m.\u001b[0m\u001b[0mfull_info\u001b[0m\u001b[0;34m(\u001b[0m\u001b[0mobject\u001b[0m\u001b[0;34m,\u001b[0m \u001b[0mname\u001b[0m\u001b[0;34m,\u001b[0m \u001b[0mvalue\u001b[0m\u001b[0;34m)\u001b[0m\u001b[0;34m,\u001b[0m \u001b[0mvalue\u001b[0m\u001b[0;34m\u001b[0m\u001b[0;34m\u001b[0m\u001b[0m\n\u001b[0m\u001b[1;32m    237\u001b[0m         )\n\u001b[1;32m    238\u001b[0m \u001b[0;34m\u001b[0m\u001b[0m\n",
      "\u001b[0;31mTraitError\u001b[0m: The 'index' trait of a DataAxis instance must be 0 <= a number <= 0, but a value of 1 <class 'int'> was specified."
     ]
    }
   ],
   "source": [
    "a.Fit_Model.axes_manager.indices = (1,1)\n",
    "a.Fit_Model.plot(plot_components=True)"
   ]
  },
  {
   "cell_type": "code",
   "execution_count": 40,
   "metadata": {},
   "outputs": [],
   "source": [
    "a.Fit_Model.red_chisq.plot()"
   ]
  },
  {
   "cell_type": "code",
   "execution_count": 60,
   "metadata": {},
   "outputs": [
    {
     "name": "stdout",
     "output_type": "stream",
     "text": [
      "Components\tParameter\tValue\n",
      "Zero_Loss_Peak\n",
      "\t\tFWHM\t2.32304\n",
      "\t\tarea\t363077\n",
      "\t\tcentre\t-0.493488\n",
      "\t\tgamma\t0.327345\n",
      "First_Plasmon_Peak\n",
      "\t\tfwhm\t-2339.81\n",
      "\t\tintensity\t1.69324e+07\n",
      "\t\tplasmon_energy\t137.583\n",
      "Second_Plasmon_Peak\n",
      "\t\tfwhm\t9326.58\n",
      "\t\tintensity\t1.69872e+07\n"
     ]
    }
   ],
   "source": [
    "#a.Fit_Model.axes_manager.indices = (5,5)\n",
    "a.Fit_Model.print_current_values()"
   ]
  },
  {
   "cell_type": "code",
   "execution_count": 171,
   "metadata": {},
   "outputs": [
    {
     "data": {
      "text/plain": [
       "   # |      Attribute Name |      Component Name |      Component Type\n",
       "---- | ------------------- | ------------------- | -------------------\n",
       "   0 |            PowerLaw |            PowerLaw |            PowerLaw\n",
       "   1 |            Gaussian |            Gaussian |            Gaussian"
      ]
     },
     "execution_count": 171,
     "metadata": {},
     "output_type": "execute_result"
    }
   ],
   "source": [
    "m=a.File.create_model()\n",
    "g=hyperspy.components1d.Gaussian()\n",
    "m.extend([g])\n",
    "m.components"
   ]
  },
  {
   "cell_type": "code",
   "execution_count": 69,
   "metadata": {},
   "outputs": [],
   "source": [
    "a.Fit_Model.plot(plot_components=True)"
   ]
  },
  {
   "cell_type": "code",
   "execution_count": 70,
   "metadata": {},
   "outputs": [],
   "source": [
    "a.Fit_Model.red_chisq.plot()"
   ]
  },
  {
   "cell_type": "code",
   "execution_count": 71,
   "metadata": {},
   "outputs": [],
   "source": [
    "a.plot_parameter_maps()"
   ]
  },
  {
   "cell_type": "code",
   "execution_count": 65,
   "metadata": {},
   "outputs": [
    {
     "name": "stdout",
     "output_type": "stream",
     "text": [
      "Do you want to use the gui to manually set the starting parameters? (y/n): n\n"
     ]
    },
    {
     "data": {
      "application/vnd.jupyter.widget-view+json": {
       "model_id": "5eca8e735e0046b9a35a161abaaf613a",
       "version_major": 2,
       "version_minor": 0
      },
      "text/plain": [
       "HBox(children=(IntProgress(value=0, max=31086), HTML(value='')))"
      ]
     },
     "metadata": {},
     "output_type": "display_data"
    },
    {
     "name": "stdout",
     "output_type": "stream",
     "text": [
      "Model will be stored in file...\n",
      "Stored models in file:\n",
      "└── VolumePlasmonDrude_ls\n",
      "    ├── components\n",
      "    │   ├── First_Plasmon_Peak\n",
      "    │   ├── Second_Plasmon_Peak\n",
      "    │   └── Zero_Loss_Peak\n",
      "    ├── date = 2019-07-07 11:17:57\n",
      "    └── dimensions = (62, 503|2039)\n",
      "\n"
     ]
    }
   ],
   "source": [
    "a.eels_fit_routine(function_set='VolumePlasmonDrude', samfire=True, multithreading=False, workers=8)"
   ]
  },
  {
   "cell_type": "code",
   "execution_count": 139,
   "metadata": {},
   "outputs": [
    {
     "name": "stdout",
     "output_type": "stream",
     "text": [
      "Do you want to use the gui to manually set the starting parameters? (y/n): n\n",
      "Components\tParameter\tValue\n",
      "Zero_Loss_Peak\n",
      "\t\tFWHM\t0.1\n",
      "\t\tarea\t372139\n",
      "\t\tcentre\t0\n",
      "\t\tgamma\t0.1\n",
      "First_Plasmon_Peak\n",
      "\t\tfwhm\t0.1\n",
      "\t\tintensity\t18606.9\n",
      "\t\tplasmon_energy\t15\n",
      "Second_Plasmon_Peak\n",
      "\t\tfwhm\t0.1\n",
      "\t\tintensity\t1860.69\n",
      "Components\tParameter\tValue\n",
      "Zero_Loss_Peak\n",
      "\t\tFWHM\t1.588\n",
      "\t\tarea\t395134\n",
      "\t\tcentre\t-0.303949\n",
      "\t\tgamma\t0.689692\n",
      "First_Plasmon_Peak\n",
      "\t\tfwhm\t19.2584\n",
      "\t\tintensity\t354.342\n",
      "\t\tplasmon_energy\t20.2953\n",
      "Second_Plasmon_Peak\n",
      "\t\tfwhm\t100\n",
      "\t\tintensity\t14164.3\n"
     ]
    },
    {
     "data": {
      "application/vnd.jupyter.widget-view+json": {
       "model_id": "3c377ea8173b4dfd83687825d17d7c98",
       "version_major": 2,
       "version_minor": 0
      },
      "text/plain": [
       "HBox(children=(IntProgress(value=0, max=5), HTML(value='')))"
      ]
     },
     "metadata": {},
     "output_type": "display_data"
    },
    {
     "name": "stdout",
     "output_type": "stream",
     "text": [
      "Components\tParameter\tValue\n",
      "Zero_Loss_Peak\n",
      "\t\tFWHM\t2.46857\n",
      "\t\tarea\t350948\n",
      "\t\tcentre\t-0.538735\n",
      "\t\tgamma\t0.230404\n",
      "First_Plasmon_Peak\n",
      "\t\tfwhm\t33.2841\n",
      "\t\tintensity\t9501.19\n",
      "\t\tplasmon_energy\t22.4703\n",
      "Second_Plasmon_Peak\n",
      "\t\tfwhm\t26.4352\n",
      "\t\tintensity\t2969.12\n",
      "Model will be stored in file...\n",
      "Stored models in file:\n",
      "└── VolumePlasmonDrude_ls\n",
      "    ├── components\n",
      "    │   ├── First_Plasmon_Peak\n",
      "    │   ├── Second_Plasmon_Peak\n",
      "    │   └── Zero_Loss_Peak\n",
      "    ├── date = 2019-06-25 18:31:43\n",
      "    └── dimensions = (1, 5|2043)\n",
      "\n"
     ]
    }
   ],
   "source": [
    "a.eels_fit_routine(function_set='VolumePlasmonDrude')"
   ]
  },
  {
   "cell_type": "code",
   "execution_count": 18,
   "metadata": {},
   "outputs": [
    {
     "name": "stdout",
     "output_type": "stream",
     "text": [
      "Do you want to use the gui to manually set the starting parameters? (y/n): n\n"
     ]
    },
    {
     "data": {
      "application/vnd.jupyter.widget-view+json": {
       "model_id": "2f4f5dd7ef664099bb607ff4521d119f",
       "version_major": 2,
       "version_minor": 0
      },
      "text/plain": [
       "HBox(children=(IntProgress(value=0, max=4), HTML(value='')))"
      ]
     },
     "metadata": {},
     "output_type": "display_data"
    },
    {
     "name": "stdout",
     "output_type": "stream",
     "text": [
      "Model will be stored in file...\n",
      "Stored models in file:\n",
      "├── Lorentzian_ls\n",
      "│   ├── components\n",
      "│   │   ├── First_Plasmon_Peak\n",
      "│   │   ├── Second_Plasmon_Peak\n",
      "│   │   └── Zero_Loss_Peak\n",
      "│   ├── date = 2019-06-26 12:24:15\n",
      "│   └── dimensions = (1, 5|2043)\n",
      "└── VolumePlasmonDrude_ls\n",
      "    ├── components\n",
      "    │   ├── First_Plasmon_Peak\n",
      "    │   ├── Second_Plasmon_Peak\n",
      "    │   └── Zero_Loss_Peak\n",
      "    ├── date = 2019-06-26 12:23:24\n",
      "    └── dimensions = (1, 5|2043)\n",
      "\n"
     ]
    }
   ],
   "source": [
    "a.eels_fit_routine(function_set='Lorentzian', samfire=True, multithreading=False)"
   ]
  },
  {
   "cell_type": "code",
   "execution_count": 58,
   "metadata": {},
   "outputs": [
    {
     "name": "stdout",
     "output_type": "stream",
     "text": [
      "Do you want to use the gui to manually set the starting parameters? (y/n): n\n",
      "Estimate function parameters...\n"
     ]
    },
    {
     "name": "stderr",
     "output_type": "stream",
     "text": [
      "/home/max/Apps/anaconda3/envs/Hyperspy/lib/python3.6/site-packages/hyperspy/_components/voigt.py:202: FutureWarning: Using a non-tuple sequence for multidimensional indexing is deprecated; use `arr[tuple(seq)]` instead of `arr[seq]`. In the future this will be interpreted as an array index, `arr[np.array(seq)]`, which will result either in an error or a different result.\n",
      "  data = signal.data[data_gi]\n",
      "/home/max/Apps/anaconda3/envs/Hyperspy/lib/python3.6/site-packages/hyperspy/_components/voigt.py:61: RuntimeWarning: invalid value encountered in true_divide\n",
      "  V = wofz(z) / (math.sqrt(2 * np.pi) * sigma)\n"
     ]
    },
    {
     "data": {
      "application/vnd.jupyter.widget-view+json": {
       "model_id": "1bde4139aa36416c8aa940b940d31496",
       "version_major": 2,
       "version_minor": 0
      },
      "text/plain": [
       "HBox(children=(IntProgress(value=0, max=676), HTML(value='')))"
      ]
     },
     "metadata": {},
     "output_type": "display_data"
    },
    {
     "data": {
      "application/vnd.jupyter.widget-view+json": {
       "model_id": "2aeda019fdcf4a47b136f6deb3139f5d",
       "version_major": 2,
       "version_minor": 0
      },
      "text/plain": [
       "HBox(children=(IntProgress(value=0, max=576), HTML(value='')))"
      ]
     },
     "metadata": {},
     "output_type": "display_data"
    },
    {
     "data": {
      "application/vnd.jupyter.widget-view+json": {
       "model_id": "6953458cecd14cf5a4cd905302a78519",
       "version_major": 2,
       "version_minor": 0
      },
      "text/plain": [
       "HBox(children=(IntProgress(value=0, max=122), HTML(value='')))"
      ]
     },
     "metadata": {},
     "output_type": "display_data"
    },
    {
     "name": "stderr",
     "output_type": "stream",
     "text": [
      "/home/max/Apps/anaconda3/envs/Hyperspy/lib/python3.6/site-packages/hyperspy/model.py:1131: RuntimeWarning: invalid value encountered in sqrt\n",
      "  self.p_std = np.sqrt(np.diag(pcov))\n",
      "/home/max/Apps/anaconda3/envs/Hyperspy/lib/python3.6/site-packages/hyperspy/model.py:1131: RuntimeWarning: invalid value encountered in sqrt\n",
      "  self.p_std = np.sqrt(np.diag(pcov))\n",
      "/home/max/Apps/anaconda3/envs/Hyperspy/lib/python3.6/site-packages/hyperspy/model.py:1131: RuntimeWarning: invalid value encountered in sqrt\n",
      "  self.p_std = np.sqrt(np.diag(pcov))\n"
     ]
    },
    {
     "data": {
      "application/vnd.jupyter.widget-view+json": {
       "model_id": "c6246a6b9fbb40c3bbb61f9a9c9690dc",
       "version_major": 2,
       "version_minor": 0
      },
      "text/plain": [
       "HBox(children=(IntProgress(value=0, max=2), HTML(value='')))"
      ]
     },
     "metadata": {},
     "output_type": "display_data"
    },
    {
     "name": "stdout",
     "output_type": "stream",
     "text": [
      "Model will be stored in file...\n",
      "Stored models in file:\n",
      "├── Gaussian_ls\n",
      "│   ├── components\n",
      "│   │   ├── First_Plasmon_Peak\n",
      "│   │   ├── Second_Plasmon_Peak\n",
      "│   │   └── Zero_Loss_Peak\n",
      "│   ├── date = 2019-06-11 12:11:08\n",
      "│   └── dimensions = (26, 26|2044)\n",
      "├── Lorentzian_ls\n",
      "│   ├── components\n",
      "│   │   ├── First_Plasmon_Peak\n",
      "│   │   ├── Second_Plasmon_Peak\n",
      "│   │   └── Zero_Loss_Peak\n",
      "│   ├── date = 2019-06-11 12:06:18\n",
      "│   └── dimensions = (26, 26|2044)\n",
      "└── VolumePlasmonDrude_ls\n",
      "    ├── components\n",
      "    │   ├── First_Plasmon_Peak\n",
      "    │   ├── Second_Plasmon_Peak\n",
      "    │   └── Zero_Loss_Peak\n",
      "    ├── date = 2019-06-11 12:03:47\n",
      "    └── dimensions = (26, 26|2044)\n",
      "\n"
     ]
    }
   ],
   "source": [
    "a.eels_fit_routine(function_set='Gaussian', samfire=True)"
   ]
  },
  {
   "cell_type": "code",
   "execution_count": null,
   "metadata": {},
   "outputs": [],
   "source": [
    "a.eels_fit_routine(function_set='Voigt', samfire=True)"
   ]
  },
  {
   "cell_type": "code",
   "execution_count": null,
   "metadata": {},
   "outputs": [],
   "source": [
    "a.eels_fit_routine(function_set='Gaussian', fitter='Nelder-Mead', method='ml', samfire=True)"
   ]
  },
  {
   "cell_type": "code",
   "execution_count": 87,
   "metadata": {},
   "outputs": [
    {
     "name": "stderr",
     "output_type": "stream",
     "text": [
      "/home/max/Apps/anaconda3/envs/Hyperspy/lib/python3.6/site-packages/hyperspy/_components/voigt.py:61: RuntimeWarning: overflow encountered in true_divide\n",
      "  V = wofz(z) / (math.sqrt(2 * np.pi) * sigma)\n",
      "/home/max/Apps/anaconda3/envs/Hyperspy/lib/python3.6/site-packages/hyperspy/_components/voigt.py:62: RuntimeWarning: overflow encountered in multiply\n",
      "  return scale * V.real\n"
     ]
    },
    {
     "data": {
      "application/vnd.jupyter.widget-view+json": {
       "model_id": "cd85d33f00834bf88b1774f96a627540",
       "version_major": 2,
       "version_minor": 0
      },
      "text/plain": [
       "HBox(children=(IntProgress(value=0, max=10000), HTML(value='')))"
      ]
     },
     "metadata": {},
     "output_type": "display_data"
    },
    {
     "name": "stdout",
     "output_type": "stream",
     "text": [
      "<Axes manager, axes: (200, 50|2042)>\n",
      "            Name |   size |  index |  offset |   scale |  units \n",
      "================ | ====== | ====== | ======= | ======= | ====== \n",
      "               x |    200 |      9 |       0 |       1 |     nm \n",
      "               y |     50 |      9 |       0 |       1 |     nm \n",
      "---------------- | ------ | ------ | ------- | ------- | ------ \n",
      "     Energy loss |   2042 |        |     -20 |     0.1 |     eV \n",
      "<Axes manager, axes: (200, 50|2042)>\n",
      "            Name |   size |  index |  offset |   scale |  units \n",
      "================ | ====== | ====== | ======= | ======= | ====== \n",
      "               x |    200 |      9 |       0 |       1 |     nm \n",
      "               y |     50 |      9 |       0 |       1 |     nm \n",
      "---------------- | ------ | ------ | ------- | ------- | ------ \n",
      "     Energy loss |   2042 |        |     -20 |     0.1 |     eV \n",
      "Model will be stored in file...\n",
      "Stored models in file:\n",
      "├── Lorentzian_NelderMead\n",
      "│   ├── components\n",
      "│   │   ├── First_Plasmon_Peak\n",
      "│   │   ├── Second_Plasmon_Peak\n",
      "│   │   └── Zero_Loss_Peak\n",
      "│   ├── date = 2019-05-28 19:40:24\n",
      "│   └── dimensions = (200, 50|2042)\n",
      "├── Lorentzian_leastsq\n",
      "│   ├── components\n",
      "│   │   ├── First_Plasmon_Peak\n",
      "│   │   ├── Second_Plasmon_Peak\n",
      "│   │   └── Zero_Loss_Peak\n",
      "│   ├── date = 2019-05-28 19:39:22\n",
      "│   └── dimensions = (200, 50|2042)\n",
      "├── VolumePlasmonDrude_NelderMead\n",
      "│   ├── components\n",
      "│   │   ├── First_Plasmon_Peak\n",
      "│   │   ├── Second_Plasmon_Peak\n",
      "│   │   └── Zero_Loss_Peak\n",
      "│   ├── date = 2019-05-28 19:39:04\n",
      "│   └── dimensions = (200, 50|2042)\n",
      "└── VolumePlasmonDrude_leastsq\n",
      "    ├── components\n",
      "    │   ├── First_Plasmon_Peak\n",
      "    │   ├── Second_Plasmon_Peak\n",
      "    │   └── Zero_Loss_Peak\n",
      "    ├── date = 2019-05-28 19:37:37\n",
      "    └── dimensions = (200, 50|2042)\n",
      "\n"
     ]
    },
    {
     "name": "stderr",
     "output_type": "stream",
     "text": [
      "Traceback (most recent call last):\n",
      "  File \"/home/max/Apps/anaconda3/envs/Hyperspy/lib/python3.6/site-packages/matplotlib/cbook/__init__.py\", line 215, in process\n",
      "    func(*args, **kwargs)\n",
      "  File \"/home/max/Apps/anaconda3/envs/Hyperspy/lib/python3.6/site-packages/hyperspy/drawing/utils.py\", line 171, in function_wrapper\n",
      "    function()\n",
      "  File \"/home/max/Apps/anaconda3/envs/Hyperspy/lib/python3.6/site-packages/hyperspy/drawing/figure.py\", line 101, in _on_close\n",
      "    for marker in self.ax_markers:\n",
      "AttributeError: 'HistogramTilePlot' object has no attribute 'ax_markers'\n"
     ]
    }
   ],
   "source": [
    "a.eels_fit_routine(function_set='Lorentzian', fitter='Nelder-Mead', method='ml', samfire=True)\n",
    "#a.store_model('LORENTZIAN_nm', 'lorentzian_nm')"
   ]
  },
  {
   "cell_type": "code",
   "execution_count": 90,
   "metadata": {},
   "outputs": [
    {
     "name": "stdout",
     "output_type": "stream",
     "text": [
      "Estimate function parameters...\n"
     ]
    },
    {
     "data": {
      "application/vnd.jupyter.widget-view+json": {
       "model_id": "925ae6021f3745a9ad2e6749e8649412",
       "version_major": 2,
       "version_minor": 0
      },
      "text/plain": [
       "HBox(children=(IntProgress(value=0, max=10000), HTML(value='')))"
      ]
     },
     "metadata": {},
     "output_type": "display_data"
    },
    {
     "name": "stderr",
     "output_type": "stream",
     "text": [
      "Traceback (most recent call last):\n",
      "  File \"/home/max/Apps/anaconda3/envs/Hyperspy/lib/python3.6/site-packages/matplotlib/cbook/__init__.py\", line 215, in process\n",
      "    func(*args, **kwargs)\n",
      "  File \"/home/max/Apps/anaconda3/envs/Hyperspy/lib/python3.6/site-packages/hyperspy/drawing/utils.py\", line 171, in function_wrapper\n",
      "    function()\n",
      "  File \"/home/max/Apps/anaconda3/envs/Hyperspy/lib/python3.6/site-packages/hyperspy/drawing/figure.py\", line 101, in _on_close\n",
      "    for marker in self.ax_markers:\n",
      "AttributeError: 'HistogramTilePlot' object has no attribute 'ax_markers'\n"
     ]
    },
    {
     "name": "stdout",
     "output_type": "stream",
     "text": [
      "<Axes manager, axes: (200, 50|2042)>\n",
      "            Name |   size |  index |  offset |   scale |  units \n",
      "================ | ====== | ====== | ======= | ======= | ====== \n",
      "               x |    200 |      9 |       0 |       1 |     nm \n",
      "               y |     50 |      9 |       0 |       1 |     nm \n",
      "---------------- | ------ | ------ | ------- | ------- | ------ \n",
      "     Energy loss |   2042 |        |     -20 |     0.1 |     eV \n",
      "<Axes manager, axes: (200, 50|2042)>\n",
      "            Name |   size |  index |  offset |   scale |  units \n",
      "================ | ====== | ====== | ======= | ======= | ====== \n",
      "               x |    200 |      9 |       0 |       1 |     nm \n",
      "               y |     50 |      9 |       0 |       1 |     nm \n",
      "---------------- | ------ | ------ | ------- | ------- | ------ \n",
      "     Energy loss |   2042 |        |     -20 |     0.1 |     eV \n",
      "Model will be stored in file...\n",
      "Stored models in file:\n",
      "├── Gaussian_NelderMead\n",
      "│   ├── components\n",
      "│   │   ├── First_Plasmon_Peak\n",
      "│   │   ├── Second_Plasmon_Peak\n",
      "│   │   └── Zero_Loss_Peak\n",
      "│   ├── date = 2019-05-28 19:44:52\n",
      "│   └── dimensions = (200, 50|2042)\n",
      "├── Gaussian_leastsq\n",
      "│   ├── components\n",
      "│   │   ├── First_Plasmon_Peak\n",
      "│   │   ├── Second_Plasmon_Peak\n",
      "│   │   └── Zero_Loss_Peak\n",
      "│   ├── date = 2019-05-28 19:41:24\n",
      "│   └── dimensions = (200, 50|2042)\n",
      "├── Lorentzian_NelderMead\n",
      "│   ├── components\n",
      "│   │   ├── First_Plasmon_Peak\n",
      "│   │   ├── Second_Plasmon_Peak\n",
      "│   │   └── Zero_Loss_Peak\n",
      "│   ├── date = 2019-05-28 19:40:24\n",
      "│   └── dimensions = (200, 50|2042)\n",
      "├── Lorentzian_leastsq\n",
      "│   ├── components\n",
      "│   │   ├── First_Plasmon_Peak\n",
      "│   │   ├── Second_Plasmon_Peak\n",
      "│   │   └── Zero_Loss_Peak\n",
      "│   ├── date = 2019-05-28 19:39:22\n",
      "│   └── dimensions = (200, 50|2042)\n",
      "├── Voigt_leastsq\n",
      "│   ├── components\n",
      "│   │   ├── First_Plasmon_Peak\n",
      "│   │   ├── Second_Plasmon_Peak\n",
      "│   │   └── Zero_Loss_Peak\n",
      "│   ├── date = 2019-05-28 19:51:59\n",
      "│   └── dimensions = (200, 50|2042)\n",
      "├── VolumePlasmonDrude_NelderMead\n",
      "│   ├── components\n",
      "│   │   ├── First_Plasmon_Peak\n",
      "│   │   ├── Second_Plasmon_Peak\n",
      "│   │   └── Zero_Loss_Peak\n",
      "│   ├── date = 2019-05-28 19:39:04\n",
      "│   └── dimensions = (200, 50|2042)\n",
      "└── VolumePlasmonDrude_leastsq\n",
      "    ├── components\n",
      "    │   ├── First_Plasmon_Peak\n",
      "    │   ├── Second_Plasmon_Peak\n",
      "    │   └── Zero_Loss_Peak\n",
      "    ├── date = 2019-05-28 19:37:37\n",
      "    └── dimensions = (200, 50|2042)\n",
      "\n"
     ]
    }
   ],
   "source": [
    "a.eels_fit_routine(function_set='Voigt', samfire=True, fitter='Nelder-Mead', method='ml')\n",
    "#a.store_model('VOIGT_ls', 'voigt_ls')"
   ]
  },
  {
   "cell_type": "code",
   "execution_count": 16,
   "metadata": {},
   "outputs": [],
   "source": [
    "a.Fit_Model.plot(plot_components=True)"
   ]
  },
  {
   "cell_type": "code",
   "execution_count": 17,
   "metadata": {},
   "outputs": [
    {
     "name": "stdout",
     "output_type": "stream",
     "text": [
      "Do you want to use the interactive gui?\n",
      "Adjusting position is possible using the interactive gui. (y/n): y\n"
     ]
    },
    {
     "ename": "NameError",
     "evalue": "name 'area' is not defined",
     "output_type": "error",
     "traceback": [
      "\u001b[0;31m--------------------------------------------------------------------------\u001b[0m",
      "\u001b[0;31mNameError\u001b[0m                                Traceback (most recent call last)",
      "\u001b[0;32m<ipython-input-17-8e502ce023cc>\u001b[0m in \u001b[0;36m<module>\u001b[0;34m\u001b[0m\n\u001b[0;32m----> 1\u001b[0;31m \u001b[0ma\u001b[0m\u001b[0;34m.\u001b[0m\u001b[0mrect_roi\u001b[0m\u001b[0;34m(\u001b[0m\u001b[0ma\u001b[0m\u001b[0;34m.\u001b[0m\u001b[0mFPP_Emax\u001b[0m\u001b[0;34m,\u001b[0m \u001b[0;36m100\u001b[0m\u001b[0;34m,\u001b[0m \u001b[0;36m100\u001b[0m\u001b[0;34m,\u001b[0m \u001b[0;36m150\u001b[0m\u001b[0;34m,\u001b[0m \u001b[0;36m150\u001b[0m\u001b[0;34m)\u001b[0m\u001b[0;34m\u001b[0m\u001b[0;34m\u001b[0m\u001b[0m\n\u001b[0m",
      "\u001b[0;32m<ipython-input-3-a35413cbefda>\u001b[0m in \u001b[0;36mrect_roi\u001b[0;34m(self, param_map, left, top, right, bottom)\u001b[0m\n\u001b[1;32m   1293\u001b[0m         \u001b[0;32mif\u001b[0m \u001b[0;34m(\u001b[0m\u001b[0minteractive\u001b[0m \u001b[0;34m==\u001b[0m \u001b[0;32mTrue\u001b[0m\u001b[0;34m)\u001b[0m\u001b[0;34m:\u001b[0m\u001b[0;34m\u001b[0m\u001b[0;34m\u001b[0m\u001b[0m\n\u001b[1;32m   1294\u001b[0m             \u001b[0mparam_map\u001b[0m\u001b[0;34m.\u001b[0m\u001b[0mplot\u001b[0m\u001b[0;34m(\u001b[0m\u001b[0;34m)\u001b[0m\u001b[0;34m\u001b[0m\u001b[0;34m\u001b[0m\u001b[0m\n\u001b[0;32m-> 1295\u001b[0;31m             \u001b[0mself\u001b[0m\u001b[0;34m.\u001b[0m\u001b[0mROI\u001b[0m \u001b[0;34m=\u001b[0m \u001b[0mroi\u001b[0m\u001b[0;34m.\u001b[0m\u001b[0minteractive\u001b[0m\u001b[0;34m(\u001b[0m\u001b[0marea\u001b[0m\u001b[0;34m)\u001b[0m\u001b[0;34m\u001b[0m\u001b[0;34m\u001b[0m\u001b[0m\n\u001b[0m\u001b[1;32m   1296\u001b[0m \u001b[0;34m\u001b[0m\u001b[0m\n\u001b[1;32m   1297\u001b[0m         \u001b[0;32melse\u001b[0m\u001b[0;34m:\u001b[0m\u001b[0;34m\u001b[0m\u001b[0;34m\u001b[0m\u001b[0m\n",
      "\u001b[0;31mNameError\u001b[0m: name 'area' is not defined"
     ]
    }
   ],
   "source": [
    "a.rect_roi(a.FPP_Emax, 100, 100, 150, 150)"
   ]
  },
  {
   "cell_type": "code",
   "execution_count": 22,
   "metadata": {},
   "outputs": [],
   "source": [
    "a.generate_param_maps()"
   ]
  },
  {
   "cell_type": "code",
   "execution_count": 23,
   "metadata": {},
   "outputs": [],
   "source": [
    "a.plot_parameter_maps()"
   ]
  },
  {
   "cell_type": "code",
   "execution_count": 14,
   "metadata": {},
   "outputs": [],
   "source": [
    "a.File.save('18.01.26 Spectrum image EELS Low_Loss_Models.hspy')"
   ]
  },
  {
   "cell_type": "code",
   "execution_count": 15,
   "metadata": {},
   "outputs": [
    {
     "name": "stdout",
     "output_type": "stream",
     "text": [
      "Available models: \n",
      "└── VolumePlasmonDrude_ls\n",
      "    ├── components\n",
      "    │   ├── First_Plasmon_Peak\n",
      "    │   ├── Second_Plasmon_Peak\n",
      "    │   └── Zero_Loss_Peak\n",
      "    ├── date = 2019-06-14 11:27:54\n",
      "    └── dimensions = (136, 274|2027)\n",
      "\n",
      "Model names: \n",
      "{'1': 'VolumePlasmonDrude_ls', '2': 'VolumePlasmonDrude_ml', '3': 'Lorentzian_ls', '4': 'Lorentzian_ml', '5': 'Gaussian_ls', '6': 'Gaussian_ml', '7': 'Voigt_ls', '8': 'Voigt_ml'}\n",
      "Which model should be loaded? 1\n"
     ]
    }
   ],
   "source": [
    "a.load_model()"
   ]
  },
  {
   "cell_type": "code",
   "execution_count": 8,
   "metadata": {},
   "outputs": [],
   "source": [
    "a.Fit_Model.plot(plot_components=True)"
   ]
  },
  {
   "cell_type": "code",
   "execution_count": 24,
   "metadata": {},
   "outputs": [
    {
     "name": "stdout",
     "output_type": "stream",
     "text": [
      "Does the file include stored models from previous fitting? (y/n): y\n",
      "Available models: \n",
      "└── VolumePlasmonDrude_ls\n",
      "    ├── components\n",
      "    │   ├── First_Plasmon_Peak\n",
      "    │   ├── Second_Plasmon_Peak\n",
      "    │   └── Zero_Loss_Peak\n",
      "    ├── date = 2019-06-06 08:33:27\n",
      "    └── dimensions = (200, 50|2042)\n",
      "\n",
      "Model names: \n",
      "{'1': 'VolumePlasmonDrude_ls', '2': 'VolumePlasmonDrude_ml', '3': 'Lorentzian_ls', '4': 'Lorentzian_ml', '5': 'Gaussian_ls', '6': 'Gaussian_ml', '7': 'Voigt_ls', '8': 'Voigt_ml'}\n",
      "Which model should be loaded? 1\n"
     ]
    }
   ],
   "source": [
    "l=None\n",
    "l=Plasmon_mapper(file=hs.load('18.01.26 Spectrum image EELS Low_Loss_Models.hspy'))"
   ]
  },
  {
   "cell_type": "code",
   "execution_count": 36,
   "metadata": {},
   "outputs": [
    {
     "name": "stdout",
     "output_type": "stream",
     "text": [
      "Do you want to use the gui to manually set the starting parameters? (y/n): n\n"
     ]
    },
    {
     "name": "stderr",
     "output_type": "stream",
     "text": [
      "/home/max/Apps/anaconda3/envs/Hyperspy/lib/python3.6/site-packages/hyperspy/_components/voigt.py:61: RuntimeWarning: invalid value encountered in true_divide\n",
      "  V = wofz(z) / (math.sqrt(2 * np.pi) * sigma)\n"
     ]
    },
    {
     "data": {
      "application/vnd.jupyter.widget-view+json": {
       "model_id": "0fd08e421f3947d6b8582541163f3412",
       "version_major": 2,
       "version_minor": 0
      },
      "text/plain": [
       "HBox(children=(IntProgress(value=0, max=9900), HTML(value='')))"
      ]
     },
     "metadata": {},
     "output_type": "display_data"
    },
    {
     "name": "stdout",
     "output_type": "stream",
     "text": [
      "Model will be stored in file...\n",
      "Stored models in file:\n",
      "├── Lorentzian_ls\n",
      "│   ├── components\n",
      "│   │   ├── First_Plasmon_Peak\n",
      "│   │   ├── Second_Plasmon_Peak\n",
      "│   │   └── Zero_Loss_Peak\n",
      "│   ├── date = 2019-06-06 13:11:43\n",
      "│   └── dimensions = (200, 50|2042)\n",
      "├── Lorentzian_ml\n",
      "│   ├── components\n",
      "│   │   ├── First_Plasmon_Peak\n",
      "│   │   ├── Second_Plasmon_Peak\n",
      "│   │   └── Zero_Loss_Peak\n",
      "│   ├── date = 2019-06-06 14:08:22\n",
      "│   └── dimensions = (200, 50|2042)\n",
      "├── VolumePlasmonDrude_ls\n",
      "│   ├── components\n",
      "│   │   ├── First_Plasmon_Peak\n",
      "│   │   ├── Second_Plasmon_Peak\n",
      "│   │   └── Zero_Loss_Peak\n",
      "│   ├── date = 2019-06-06 08:33:27\n",
      "│   └── dimensions = (200, 50|2042)\n",
      "└── VolumePlasmonDrude_ml\n",
      "    ├── components\n",
      "    │   ├── First_Plasmon_Peak\n",
      "    │   ├── Second_Plasmon_Peak\n",
      "    │   └── Zero_Loss_Peak\n",
      "    ├── date = 2019-06-06 13:00:23\n",
      "    └── dimensions = (200, 50|2042)\n",
      "\n"
     ]
    },
    {
     "name": "stderr",
     "output_type": "stream",
     "text": [
      "/home/max/Apps/anaconda3/envs/Hyperspy/lib/python3.6/site-packages/hyperspy/signal.py:1696: RuntimeWarning: invalid value encountered in sqrt\n",
      "  getattr(self.data, op_name)(other))\n"
     ]
    }
   ],
   "source": [
    "l.eels_fit_routine(function_set='Lorentzian', fitter='Nelder-Mead', method='ml', samfire=True)"
   ]
  },
  {
   "cell_type": "code",
   "execution_count": 31,
   "metadata": {},
   "outputs": [
    {
     "name": "stdout",
     "output_type": "stream",
     "text": [
      "Available models: \n",
      "├── VolumePlasmonDrude_ls\n",
      "│   ├── components\n",
      "│   │   ├── First_Plasmon_Peak\n",
      "│   │   ├── Second_Plasmon_Peak\n",
      "│   │   └── Zero_Loss_Peak\n",
      "│   ├── date = 2019-06-06 08:33:27\n",
      "│   └── dimensions = (200, 50|2042)\n",
      "└── VolumePlasmonDrude_ml\n",
      "    ├── components\n",
      "    │   ├── First_Plasmon_Peak\n",
      "    │   ├── Second_Plasmon_Peak\n",
      "    │   └── Zero_Loss_Peak\n",
      "    ├── date = 2019-06-06 13:00:23\n",
      "    └── dimensions = (200, 50|2042)\n",
      "\n",
      "Model names: \n",
      "{'1': 'VolumePlasmonDrude_ls', '2': 'VolumePlasmonDrude_ml', '3': 'Lorentzian_ls', '4': 'Lorentzian_ml', '5': 'Gaussian_ls', '6': 'Gaussian_ml', '7': 'Voigt_ls', '8': 'Voigt_ml'}\n",
      "Which model should be loaded? 1\n"
     ]
    }
   ],
   "source": [
    "l.load_model()"
   ]
  },
  {
   "cell_type": "code",
   "execution_count": 39,
   "metadata": {},
   "outputs": [],
   "source": [
    "l.Fit_Model.plot(plot_components=True)"
   ]
  },
  {
   "cell_type": "code",
   "execution_count": 38,
   "metadata": {},
   "outputs": [],
   "source": [
    "l.Fit_Model.red_chisq.plot()"
   ]
  },
  {
   "cell_type": "code",
   "execution_count": 34,
   "metadata": {},
   "outputs": [
    {
     "name": "stdout",
     "output_type": "stream",
     "text": [
      "Overwrite '18.01.26 Spectrum image EELS Low_Loss_Models.hspy' (y/n)?\n",
      "y\n"
     ]
    }
   ],
   "source": [
    "l.save_models_to_file('18.01.26 Spectrum image EELS Low_Loss_Models.hspy')"
   ]
  },
  {
   "cell_type": "code",
   "execution_count": 37,
   "metadata": {},
   "outputs": [
    {
     "name": "stdout",
     "output_type": "stream",
     "text": [
      "Summary statistics\n",
      "------------------\n",
      "mean:\t55.4\n",
      "std:\t57.9\n",
      "\n",
      "min:\t30.1\n",
      "Q1:\t39.4\n",
      "median:\t41.8\n",
      "Q3:\t44.6\n",
      "max:\t2e+03\n"
     ]
    }
   ],
   "source": [
    "l.Fit_Model.red_chisq.print_summary_statistics()"
   ]
  },
  {
   "cell_type": "code",
   "execution_count": 30,
   "metadata": {},
   "outputs": [
    {
     "name": "stdout",
     "output_type": "stream",
     "text": [
      "Summary statistics\n",
      "------------------\n",
      "mean:\t146\n",
      "std:\t98.7\n",
      "\n",
      "min:\t96.8\n",
      "Q1:\t131\n",
      "median:\t140\n",
      "Q3:\t149\n",
      "max:\t5.86e+03\n"
     ]
    }
   ],
   "source": [
    "l.Fit_Model.red_chisq.print_summary_statistics()"
   ]
  },
  {
   "cell_type": "code",
   "execution_count": 9,
   "metadata": {},
   "outputs": [],
   "source": [
    "l.generate_param_maps()"
   ]
  },
  {
   "cell_type": "code",
   "execution_count": 10,
   "metadata": {},
   "outputs": [],
   "source": [
    "l.plot_parameter_maps()"
   ]
  },
  {
   "cell_type": "code",
   "execution_count": 27,
   "metadata": {},
   "outputs": [],
   "source": [
    "l.Fit_Model.plot(plot_components=True)"
   ]
  },
  {
   "cell_type": "code",
   "execution_count": 17,
   "metadata": {},
   "outputs": [
    {
     "name": "stderr",
     "output_type": "stream",
     "text": [
      "/home/max/Apps/anaconda3/envs/Hyperspy/lib/python3.6/site-packages/hyperspy/_components/voigt.py:61: RuntimeWarning: invalid value encountered in true_divide\n",
      "  V = wofz(z) / (math.sqrt(2 * np.pi) * sigma)\n"
     ]
    }
   ],
   "source": [
    "l.Fit_Model.fit(fitter='Nelder-Mead', method='ml')"
   ]
  },
  {
   "cell_type": "code",
   "execution_count": 10,
   "metadata": {},
   "outputs": [],
   "source": [
    "l.Fit_Model.plot(plot_components=True)"
   ]
  },
  {
   "cell_type": "code",
   "execution_count": 216,
   "metadata": {},
   "outputs": [],
   "source": [
    "l.Fit_Model.red_chisq.plot()"
   ]
  },
  {
   "cell_type": "code",
   "execution_count": 222,
   "metadata": {},
   "outputs": [
    {
     "data": {
      "text/html": [
       "<style>\n",
       "table, th, td {\n",
       "\tborder: 1px solid black;\n",
       "\tborder-collapse: collapse;\n",
       "}\n",
       "th, td {\n",
       "\tpadding: 5px;\n",
       "}\n",
       "</style>\n",
       "<p><b>< Axes manager, axes: (10, 10|2044) ></b></p>\n",
       "<table style='width:100%'>\n",
       "\n",
       "<tr> \n",
       "<th>Navigation axis name</th> \n",
       "<th>size</th> \n",
       "<th>index</th> \n",
       "<th>offset</th> \n",
       "<th>scale</th> \n",
       "<th>units</th> </tr>\n",
       "<tr> \n",
       "<td>x</td> \n",
       "<td>10</td> \n",
       "<td>0</td> \n",
       "<td>0.0</td> \n",
       "<td>1.0</td> \n",
       "<td>nm</td> </tr>\n",
       "<tr> \n",
       "<td>y</td> \n",
       "<td>10</td> \n",
       "<td>0</td> \n",
       "<td>0.0</td> \n",
       "<td>1.0</td> \n",
       "<td>nm</td> </tr></table>\n",
       "<table style='width:100%'>\n",
       "\n",
       "<tr> \n",
       "<th>Signal axis name</th> \n",
       "<th>size</th> \n",
       "<th>offset</th> \n",
       "<th>scale</th> \n",
       "<th>units</th> </tr>\n",
       "<tr> \n",
       "<td>Energy loss</td> \n",
       "<td>2044</td> \n",
       "<td>-20.157000300362707</td> \n",
       "<td>0.10000000149011612</td> \n",
       "<td>eV</td> </tr></table>\n"
      ],
      "text/plain": [
       "<Axes manager, axes: (10, 10|2044)>\n",
       "            Name |   size |  index |  offset |   scale |  units \n",
       "================ | ====== | ====== | ======= | ======= | ====== \n",
       "               x |     10 |      0 |       0 |       1 |     nm \n",
       "               y |     10 |      0 |       0 |       1 |     nm \n",
       "---------------- | ------ | ------ | ------- | ------- | ------ \n",
       "     Energy loss |   2044 |        |     -20 |     0.1 |     eV "
      ]
     },
     "execution_count": 222,
     "metadata": {},
     "output_type": "execute_result"
    }
   ],
   "source": [
    "l.File.axes_manager"
   ]
  },
  {
   "cell_type": "code",
   "execution_count": 204,
   "metadata": {},
   "outputs": [
    {
     "name": "stdout",
     "output_type": "stream",
     "text": [
      "├── General\n",
      "│   ├── original_filename = 18.01.26 Spectrum image EELS.dm3\n",
      "│   └── title = 18.01.26 Spectrum image EELS\n",
      "└── Signal\n",
      "    ├── Noise_properties\n",
      "    │   ├── Variance_linear_model\n",
      "    │   │   ├── correlation_factor = 1\n",
      "    │   │   ├── gain_factor = 1.0\n",
      "    │   │   └── gain_offset = 0.0\n",
      "    │   └── variance = <Signal1D, title: Variance of 18.01.26 Spectrum image EELS, dimensions: (5, 5|2044)>\n",
      "    ├── binned = False\n",
      "    ├── quantity = Intensity\n",
      "    └── signal_type = EELS\n",
      "\n",
      "<Axes manager, axes: (5, 5|2044)>\n",
      "            Name |   size |  index |  offset |   scale |  units \n",
      "================ | ====== | ====== | ======= | ======= | ====== \n",
      "               x |      5 |      0 |       0 |       1 |     nm \n",
      "               y |      5 |      0 |       0 |       1 |     nm \n",
      "---------------- | ------ | ------ | ------- | ------- | ------ \n",
      "     Energy loss |   2044 |        |     -20 |     0.1 |     eV \n",
      "├── Gaussian_ls\n",
      "│   ├── components\n",
      "│   │   ├── First_Plasmon_Peak\n",
      "│   │   ├── Second_Plasmon_Peak\n",
      "│   │   └── Zero_Loss_Peak\n",
      "│   ├── date = 2019-06-05 14:55:31\n",
      "│   └── dimensions = (5, 5|2044)\n",
      "├── Lorentzian_ls\n",
      "│   ├── components\n",
      "│   │   ├── First_Plasmon_Peak\n",
      "│   │   ├── Second_Plasmon_Peak\n",
      "│   │   └── Zero_Loss_Peak\n",
      "│   ├── date = 2019-06-05 14:44:03\n",
      "│   └── dimensions = (5, 5|2044)\n",
      "├── VolumePlasmonDrude_ls\n",
      "│   ├── components\n",
      "│   │   ├── First_Plasmon_Peak\n",
      "│   │   ├── Second_Plasmon_Peak\n",
      "│   │   └── Zero_Loss_Peak\n",
      "│   ├── date = 2019-06-05 14:54:26\n",
      "│   └── dimensions = (5, 5|2044)\n",
      "└── VolumePlasmonDrude_ml\n",
      "    ├── components\n",
      "    │   ├── First_Plasmon_Peak\n",
      "    │   ├── Second_Plasmon_Peak\n",
      "    │   └── Zero_Loss_Peak\n",
      "    ├── date = 2019-06-05 14:55:00\n",
      "    └── dimensions = (5, 5|2044)\n",
      "\n"
     ]
    }
   ],
   "source": [
    "l.print_file_information()"
   ]
  },
  {
   "cell_type": "code",
   "execution_count": 11,
   "metadata": {},
   "outputs": [],
   "source": [
    "l.generate_param_maps()"
   ]
  },
  {
   "cell_type": "code",
   "execution_count": 12,
   "metadata": {},
   "outputs": [],
   "source": [
    "l.plot_parameter_maps()"
   ]
  },
  {
   "cell_type": "code",
   "execution_count": 9,
   "metadata": {},
   "outputs": [],
   "source": [
    "l.Fit_Model.plot(plot_components=True)"
   ]
  },
  {
   "cell_type": "code",
   "execution_count": 82,
   "metadata": {},
   "outputs": [],
   "source": [
    "l.Fit_Model.red_chisq.plot()"
   ]
  },
  {
   "cell_type": "code",
   "execution_count": 58,
   "metadata": {},
   "outputs": [
    {
     "ename": "TypeError",
     "evalue": "__getitem__() got an unexpected keyword argument 'out'",
     "output_type": "error",
     "traceback": [
      "\u001b[0;31m--------------------------------------------------------------------------\u001b[0m",
      "\u001b[0;31mTypeError\u001b[0m                                Traceback (most recent call last)",
      "\u001b[0;32m<ipython-input-58-4e47f5be1e3a>\u001b[0m in \u001b[0;36m<module>\u001b[0;34m\u001b[0m\n\u001b[1;32m      2\u001b[0m \u001b[0mim\u001b[0m\u001b[0;34m.\u001b[0m\u001b[0mplot\u001b[0m\u001b[0;34m(\u001b[0m\u001b[0;34m)\u001b[0m\u001b[0;34m\u001b[0m\u001b[0;34m\u001b[0m\u001b[0m\n\u001b[1;32m      3\u001b[0m \u001b[0mroi\u001b[0m\u001b[0;34m=\u001b[0m\u001b[0mhs\u001b[0m\u001b[0;34m.\u001b[0m\u001b[0mroi\u001b[0m\u001b[0;34m.\u001b[0m\u001b[0mRectangularROI\u001b[0m\u001b[0;34m(\u001b[0m\u001b[0mleft\u001b[0m\u001b[0;34m=\u001b[0m\u001b[0;36m0\u001b[0m\u001b[0;34m,\u001b[0m \u001b[0mright\u001b[0m\u001b[0;34m=\u001b[0m\u001b[0;36m5.\u001b[0m\u001b[0;34m,\u001b[0m \u001b[0mtop\u001b[0m\u001b[0;34m=\u001b[0m\u001b[0;36m0\u001b[0m\u001b[0;34m,\u001b[0m \u001b[0mbottom\u001b[0m\u001b[0;34m=\u001b[0m\u001b[0;36m5\u001b[0m\u001b[0;34m)\u001b[0m\u001b[0;34m\u001b[0m\u001b[0;34m\u001b[0m\u001b[0m\n\u001b[0;32m----> 4\u001b[0;31m \u001b[0mimr\u001b[0m\u001b[0;34m=\u001b[0m\u001b[0mroi\u001b[0m\u001b[0;34m.\u001b[0m\u001b[0minteractive\u001b[0m\u001b[0;34m(\u001b[0m\u001b[0mim\u001b[0m\u001b[0;34m)\u001b[0m\u001b[0;34m\u001b[0m\u001b[0;34m\u001b[0m\u001b[0m\n\u001b[0m\u001b[1;32m      5\u001b[0m \u001b[0mimr\u001b[0m\u001b[0;34m.\u001b[0m\u001b[0mplot\u001b[0m\u001b[0;34m(\u001b[0m\u001b[0;34m)\u001b[0m\u001b[0;34m\u001b[0m\u001b[0;34m\u001b[0m\u001b[0m\n",
      "\u001b[0;32m~/Apps/anaconda3/envs/Hyperspy/lib/python3.6/site-packages/hyperspy/roi.py\u001b[0m in \u001b[0;36minteractive\u001b[0;34m(self, signal, navigation_signal, out, color, **kwargs)\u001b[0m\n\u001b[1;32m    381\u001b[0m                                \u001b[0mevent\u001b[0m\u001b[0;34m=\u001b[0m\u001b[0mself\u001b[0m\u001b[0;34m.\u001b[0m\u001b[0mevents\u001b[0m\u001b[0;34m.\u001b[0m\u001b[0mchanged\u001b[0m\u001b[0;34m,\u001b[0m\u001b[0;34m\u001b[0m\u001b[0;34m\u001b[0m\u001b[0m\n\u001b[1;32m    382\u001b[0m                                \u001b[0msignal\u001b[0m\u001b[0;34m=\u001b[0m\u001b[0msignal\u001b[0m\u001b[0;34m,\u001b[0m\u001b[0;34m\u001b[0m\u001b[0;34m\u001b[0m\u001b[0m\n\u001b[0;32m--> 383\u001b[0;31m                                **kwargs)\n\u001b[0m\u001b[1;32m    384\u001b[0m         \u001b[0;32melse\u001b[0m\u001b[0;34m:\u001b[0m\u001b[0;34m\u001b[0m\u001b[0;34m\u001b[0m\u001b[0m\n\u001b[1;32m    385\u001b[0m             return interactive(self.__call__,\n",
      "\u001b[0;32m~/Apps/anaconda3/envs/Hyperspy/lib/python3.6/site-packages/hyperspy/interactive.py\u001b[0m in \u001b[0;36minteractive\u001b[0;34m(f, event, recompute_out_event, *args, **kwargs)\u001b[0m\n\u001b[1;32m    129\u001b[0m \u001b[0;34m\u001b[0m\u001b[0m\n\u001b[1;32m    130\u001b[0m \u001b[0;32mdef\u001b[0m \u001b[0minteractive\u001b[0m\u001b[0;34m(\u001b[0m\u001b[0mf\u001b[0m\u001b[0;34m,\u001b[0m \u001b[0mevent\u001b[0m\u001b[0;34m=\u001b[0m\u001b[0;34m\"auto\"\u001b[0m\u001b[0;34m,\u001b[0m \u001b[0mrecompute_out_event\u001b[0m\u001b[0;34m=\u001b[0m\u001b[0;34m\"auto\"\u001b[0m\u001b[0;34m,\u001b[0m \u001b[0;34m*\u001b[0m\u001b[0margs\u001b[0m\u001b[0;34m,\u001b[0m \u001b[0;34m**\u001b[0m\u001b[0mkwargs\u001b[0m\u001b[0;34m)\u001b[0m\u001b[0;34m:\u001b[0m\u001b[0;34m\u001b[0m\u001b[0;34m\u001b[0m\u001b[0m\n\u001b[0;32m--> 131\u001b[0;31m     \u001b[0mcls\u001b[0m \u001b[0;34m=\u001b[0m \u001b[0mInteractive\u001b[0m\u001b[0;34m(\u001b[0m\u001b[0mf\u001b[0m\u001b[0;34m,\u001b[0m \u001b[0mevent\u001b[0m\u001b[0;34m,\u001b[0m \u001b[0mrecompute_out_event\u001b[0m\u001b[0;34m,\u001b[0m \u001b[0;34m*\u001b[0m\u001b[0margs\u001b[0m\u001b[0;34m,\u001b[0m \u001b[0;34m**\u001b[0m\u001b[0mkwargs\u001b[0m\u001b[0;34m)\u001b[0m\u001b[0;34m\u001b[0m\u001b[0;34m\u001b[0m\u001b[0m\n\u001b[0m\u001b[1;32m    132\u001b[0m     \u001b[0;32mreturn\u001b[0m \u001b[0mcls\u001b[0m\u001b[0;34m.\u001b[0m\u001b[0mout\u001b[0m\u001b[0;34m\u001b[0m\u001b[0;34m\u001b[0m\u001b[0m\n\u001b[1;32m    133\u001b[0m \u001b[0;34m\u001b[0m\u001b[0m\n",
      "\u001b[0;32m~/Apps/anaconda3/envs/Hyperspy/lib/python3.6/site-packages/hyperspy/interactive.py\u001b[0m in \u001b[0;36m__init__\u001b[0;34m(self, f, event, recompute_out_event, *args, **kwargs)\u001b[0m\n\u001b[1;32m     80\u001b[0m             \u001b[0mself\u001b[0m\u001b[0;34m.\u001b[0m\u001b[0mout\u001b[0m \u001b[0;34m=\u001b[0m \u001b[0mself\u001b[0m\u001b[0;34m.\u001b[0m\u001b[0mkwargs\u001b[0m\u001b[0;34m.\u001b[0m\u001b[0mpop\u001b[0m\u001b[0;34m(\u001b[0m\u001b[0;34m'out'\u001b[0m\u001b[0;34m)\u001b[0m\u001b[0;34m\u001b[0m\u001b[0;34m\u001b[0m\u001b[0m\n\u001b[1;32m     81\u001b[0m         \u001b[0;32melse\u001b[0m\u001b[0;34m:\u001b[0m\u001b[0;34m\u001b[0m\u001b[0;34m\u001b[0m\u001b[0m\n\u001b[0;32m---> 82\u001b[0;31m             \u001b[0mself\u001b[0m\u001b[0;34m.\u001b[0m\u001b[0mout\u001b[0m \u001b[0;34m=\u001b[0m \u001b[0mself\u001b[0m\u001b[0;34m.\u001b[0m\u001b[0mf\u001b[0m\u001b[0;34m(\u001b[0m\u001b[0;34m*\u001b[0m\u001b[0mself\u001b[0m\u001b[0;34m.\u001b[0m\u001b[0margs\u001b[0m\u001b[0;34m,\u001b[0m \u001b[0;34m**\u001b[0m\u001b[0mself\u001b[0m\u001b[0;34m.\u001b[0m\u001b[0mkwargs\u001b[0m\u001b[0;34m)\u001b[0m\u001b[0;34m\u001b[0m\u001b[0;34m\u001b[0m\u001b[0m\n\u001b[0m\u001b[1;32m     83\u001b[0m         \u001b[0;31m# Reuse the `_plot_kwargs` for the roi if available\u001b[0m\u001b[0;34m\u001b[0m\u001b[0;34m\u001b[0m\u001b[0;34m\u001b[0m\u001b[0m\n\u001b[1;32m     84\u001b[0m         \u001b[0;32mif\u001b[0m \u001b[0m_plot_kwargs\u001b[0m \u001b[0;32mand\u001b[0m \u001b[0;34m'signal'\u001b[0m \u001b[0;32min\u001b[0m \u001b[0mself\u001b[0m\u001b[0;34m.\u001b[0m\u001b[0mkwargs\u001b[0m\u001b[0;34m:\u001b[0m\u001b[0;34m\u001b[0m\u001b[0;34m\u001b[0m\u001b[0m\n",
      "\u001b[0;32m~/Apps/anaconda3/envs/Hyperspy/lib/python3.6/site-packages/hyperspy/roi.py\u001b[0m in \u001b[0;36m__call__\u001b[0;34m(self, signal, out, axes)\u001b[0m\n\u001b[1;32m    193\u001b[0m             \u001b[0mslices\u001b[0m \u001b[0;34m=\u001b[0m \u001b[0mslices\u001b[0m\u001b[0;34m[\u001b[0m\u001b[0mnav_dim\u001b[0m\u001b[0;34m:\u001b[0m\u001b[0;34m]\u001b[0m\u001b[0;34m\u001b[0m\u001b[0;34m\u001b[0m\u001b[0m\n\u001b[1;32m    194\u001b[0m \u001b[0;34m\u001b[0m\u001b[0m\n\u001b[0;32m--> 195\u001b[0;31m         \u001b[0mroi\u001b[0m \u001b[0;34m=\u001b[0m \u001b[0mslicer\u001b[0m\u001b[0;34m(\u001b[0m\u001b[0mslices\u001b[0m\u001b[0;34m,\u001b[0m \u001b[0mout\u001b[0m\u001b[0;34m=\u001b[0m\u001b[0mout\u001b[0m\u001b[0;34m)\u001b[0m\u001b[0;34m\u001b[0m\u001b[0;34m\u001b[0m\u001b[0m\n\u001b[0m\u001b[1;32m    196\u001b[0m         \u001b[0;32mreturn\u001b[0m \u001b[0mroi\u001b[0m\u001b[0;34m\u001b[0m\u001b[0;34m\u001b[0m\u001b[0m\n\u001b[1;32m    197\u001b[0m \u001b[0;34m\u001b[0m\u001b[0m\n",
      "\u001b[0;31mTypeError\u001b[0m: __getitem__() got an unexpected keyword argument 'out'"
     ]
    }
   ],
   "source": [
    "im=l.Fit_Model.\n",
    "im.plot()\n",
    "roi=hs.roi.RectangularROI(left=0, right=5., top=0, bottom=5)\n",
    "imr=roi.interactive(im)\n",
    "imr.plot()"
   ]
  },
  {
   "cell_type": "code",
   "execution_count": 57,
   "metadata": {},
   "outputs": [],
   "source": [
    "imr.plot()"
   ]
  },
  {
   "cell_type": "code",
   "execution_count": 36,
   "metadata": {},
   "outputs": [],
   "source": [
    "roi = hs.roi.RectangularROI(0,0,10,10)\n",
    "im_roi = roi(a.File)\n",
    "im_roi.plot()"
   ]
  },
  {
   "cell_type": "code",
   "execution_count": 97,
   "metadata": {},
   "outputs": [
    {
     "data": {
      "application/vnd.jupyter.widget-view+json": {
       "model_id": "34a0cdbe9fdd45dca58e687fac0655d7",
       "version_major": 2,
       "version_minor": 0
      },
      "text/plain": [
       "HBox(children=(IntProgress(value=0), HTML(value='')))"
      ]
     },
     "metadata": {},
     "output_type": "display_data"
    },
    {
     "name": "stdout",
     "output_type": "stream",
     "text": [
      "No information on used beam energy found in metadata! Using default (300 keV).\n",
      "No information on detector collection angle found in metadata! Using default (10 mrad).\n"
     ]
    }
   ],
   "source": [
    "a.thickness(['Al','Y','Fe'], [0.88,0.07,0.05])\n",
    "a.thickness_map.plot()\n",
    "#a.thickness_map.save(filename='thickness map', extension='pgf')\n",
    "plt.savefig(fname='thickness map', dpi=300, format='pgf')\n",
    "plt.close()"
   ]
  },
  {
   "cell_type": "code",
   "execution_count": 64,
   "metadata": {},
   "outputs": [
    {
     "data": {
      "text/plain": [
       "├── General\n",
       "│   ├── original_filename = 18.01.26 Spectrum image EELS.dm3\n",
       "│   └── title = 18.01.26 Spectrum image EELS\n",
       "└── Signal\n",
       "    ├── Noise_properties\n",
       "    │   └── Variance_linear_model\n",
       "    │       ├── gain_factor = 1.0\n",
       "    │       └── gain_offset = 0.0\n",
       "    ├── binned = False\n",
       "    ├── quantity = Intensity\n",
       "    └── signal_type = EELS"
      ]
     },
     "execution_count": 64,
     "metadata": {},
     "output_type": "execute_result"
    }
   ],
   "source": [
    "a.File.metadata"
   ]
  },
  {
   "cell_type": "code",
   "execution_count": 111,
   "metadata": {},
   "outputs": [
    {
     "ename": "AttributeError",
     "evalue": "'NoneType' object has no attribute 'create_samfire'",
     "output_type": "error",
     "traceback": [
      "\u001b[0;31m--------------------------------------------------------------------------\u001b[0m",
      "\u001b[0;31mAttributeError\u001b[0m                           Traceback (most recent call last)",
      "\u001b[0;32m<ipython-input-111-39e6f0350661>\u001b[0m in \u001b[0;36m<module>\u001b[0;34m\u001b[0m\n\u001b[1;32m      3\u001b[0m \u001b[0;34m\u001b[0m\u001b[0m\n\u001b[1;32m      4\u001b[0m \u001b[0;31m#model.store(name='test1')\u001b[0m\u001b[0;34m\u001b[0m\u001b[0;34m\u001b[0m\u001b[0;34m\u001b[0m\u001b[0m\n\u001b[0;32m----> 5\u001b[0;31m \u001b[0mSmodel\u001b[0m \u001b[0;34m=\u001b[0m \u001b[0ma\u001b[0m\u001b[0;34m.\u001b[0m\u001b[0mFit_Model\u001b[0m\u001b[0;34m.\u001b[0m\u001b[0mcreate_samfire\u001b[0m\u001b[0;34m(\u001b[0m\u001b[0mworkers\u001b[0m\u001b[0;34m=\u001b[0m\u001b[0;36m4\u001b[0m\u001b[0;34m,\u001b[0m \u001b[0mipyparallel\u001b[0m\u001b[0;34m=\u001b[0m\u001b[0;32mTrue\u001b[0m\u001b[0;34m)\u001b[0m\u001b[0;34m\u001b[0m\u001b[0;34m\u001b[0m\u001b[0m\n\u001b[0m\u001b[1;32m      6\u001b[0m \u001b[0mSmodel\u001b[0m\u001b[0;34m.\u001b[0m\u001b[0mstrategies\u001b[0m\u001b[0;34m\u001b[0m\u001b[0;34m\u001b[0m\u001b[0m\n",
      "\u001b[0;31mAttributeError\u001b[0m: 'NoneType' object has no attribute 'create_samfire'"
     ]
    }
   ],
   "source": [
    "import hyperspy.samfire as samf\n",
    "#model.multifit(fitter='mpfit', method='ls')\n",
    "\n",
    "#model.store(name='test1')\n",
    "Smodel = a.Fit_Model.create_samfire(workers=4, ipyparallel=True)\n",
    "Smodel.strategies"
   ]
  },
  {
   "cell_type": "code",
   "execution_count": 91,
   "metadata": {},
   "outputs": [],
   "source": [
    "tolerance = a.Fit_Model.red_chisq.mean(axis=['x','y']).data[0]"
   ]
  },
  {
   "cell_type": "code",
   "execution_count": 94,
   "metadata": {},
   "outputs": [
    {
     "data": {
      "application/vnd.jupyter.widget-view+json": {
       "model_id": "9fca035b00e5486f84d35331f368721e",
       "version_major": 2,
       "version_minor": 0
      },
      "text/plain": [
       "HBox(children=(IntProgress(value=1, bar_style='info', max=1), HTML(value='')))"
      ]
     },
     "metadata": {},
     "output_type": "display_data"
    }
   ],
   "source": [
    "Smodel.metadata.goodness_test.tolerance = tolerance*10 # use a sensible value\n",
    "Smodel.start(fitter='leastsq', method='ls')"
   ]
  },
  {
   "cell_type": "code",
   "execution_count": 95,
   "metadata": {},
   "outputs": [
    {
     "name": "stdout",
     "output_type": "stream",
     "text": [
      "100\n",
      "0\n"
     ]
    }
   ],
   "source": [
    "print(Smodel.pixels_done)\n",
    "print(Smodel.pixels_left)"
   ]
  },
  {
   "cell_type": "code",
   "execution_count": 46,
   "metadata": {},
   "outputs": [
    {
     "name": "stdout",
     "output_type": "stream",
     "text": [
      "Summary statistics\n",
      "------------------\n",
      "mean:\t-0.00483\n",
      "std:\t0.005\n",
      "\n",
      "min:\t-0.0131\n",
      "Q1:\t-0.00917\n",
      "median:\t-0.00487\n",
      "Q3:\t-0.00103\n",
      "max:\t0.00343\n"
     ]
    }
   ],
   "source": [
    "a.ZLP_Emax.print_summary_statistics()"
   ]
  },
  {
   "cell_type": "code",
   "execution_count": 99,
   "metadata": {},
   "outputs": [],
   "source": [
    "Smodel.plot()"
   ]
  },
  {
   "cell_type": "code",
   "execution_count": 94,
   "metadata": {},
   "outputs": [],
   "source": [
    "a.plot_parameter_maps()"
   ]
  },
  {
   "cell_type": "code",
   "execution_count": 60,
   "metadata": {},
   "outputs": [
    {
     "data": {
      "text/plain": [
       "<BaseSignal, title: 18.01.26 Spectrum image EELS, dimensions: (10, 10|)>"
      ]
     },
     "execution_count": 60,
     "metadata": {},
     "output_type": "execute_result"
    }
   ],
   "source": [
    "np.max(a.File, axis=a.eels_axis.index_in_axes_manager)"
   ]
  },
  {
   "cell_type": "code",
   "execution_count": 61,
   "metadata": {},
   "outputs": [
    {
     "data": {
      "text/plain": [
       "<EELSSpectrum, title: 18.01.26 Spectrum image EELS, dimensions: (10, 10|2048)>"
      ]
     },
     "execution_count": 61,
     "metadata": {},
     "output_type": "execute_result"
    }
   ],
   "source": [
    "a.File/np.max(a.File, axis=a.eels_axis.index_in_axes_manager)"
   ]
  },
  {
   "cell_type": "code",
   "execution_count": 96,
   "metadata": {},
   "outputs": [
    {
     "ename": "TypeError",
     "evalue": "'<=' not supported between instances of '_Undefined' and 'float'",
     "output_type": "error",
     "traceback": [
      "\u001b[0;31m--------------------------------------------------------------------------\u001b[0m",
      "\u001b[0;31mTypeError\u001b[0m                                Traceback (most recent call last)",
      "\u001b[0;32m<ipython-input-96-95cad2eec003>\u001b[0m in \u001b[0;36m<module>\u001b[0;34m\u001b[0m\n\u001b[0;32m----> 1\u001b[0;31m \u001b[0mroi\u001b[0m \u001b[0;34m=\u001b[0m \u001b[0mhs\u001b[0m\u001b[0;34m.\u001b[0m\u001b[0mroi\u001b[0m\u001b[0;34m.\u001b[0m\u001b[0mRectangularROI\u001b[0m\u001b[0;34m(\u001b[0m\u001b[0mleft\u001b[0m\u001b[0;34m=\u001b[0m\u001b[0;34m-\u001b[0m\u001b[0;36m20.\u001b[0m\u001b[0;34m,\u001b[0m \u001b[0mright\u001b[0m\u001b[0;34m=\u001b[0m\u001b[0;34m-\u001b[0m\u001b[0;36m15.\u001b[0m\u001b[0;34m,\u001b[0m \u001b[0mtop\u001b[0m\u001b[0;34m=\u001b[0m\u001b[0;34m-\u001b[0m\u001b[0;36m165.\u001b[0m\u001b[0;34m,\u001b[0m \u001b[0mbottom\u001b[0m\u001b[0;34m=\u001b[0m\u001b[0;34m-\u001b[0m\u001b[0;36m175.\u001b[0m\u001b[0;34m)\u001b[0m\u001b[0;34m\u001b[0m\u001b[0;34m\u001b[0m\u001b[0m\n\u001b[0m\u001b[1;32m      2\u001b[0m \u001b[0ma\u001b[0m\u001b[0;34m.\u001b[0m\u001b[0mFPP_Emax\u001b[0m\u001b[0;34m.\u001b[0m\u001b[0mmetadata\u001b[0m\u001b[0;34m.\u001b[0m\u001b[0mGeneral\u001b[0m\u001b[0;34m.\u001b[0m\u001b[0mtitle\u001b[0m \u001b[0;34m=\u001b[0m \u001b[0;34m'Emax'\u001b[0m\u001b[0;34m\u001b[0m\u001b[0;34m\u001b[0m\u001b[0m\n\u001b[1;32m      3\u001b[0m \u001b[0ma\u001b[0m\u001b[0;34m.\u001b[0m\u001b[0mFPP_Emax\u001b[0m\u001b[0;34m.\u001b[0m\u001b[0mplot\u001b[0m\u001b[0;34m(\u001b[0m\u001b[0;34m)\u001b[0m\u001b[0;34m\u001b[0m\u001b[0;34m\u001b[0m\u001b[0m\n\u001b[1;32m      4\u001b[0m \u001b[0mac\u001b[0m \u001b[0;34m=\u001b[0m \u001b[0mroi\u001b[0m\u001b[0;34m.\u001b[0m\u001b[0minteractive\u001b[0m\u001b[0;34m(\u001b[0m\u001b[0ma\u001b[0m\u001b[0;34m.\u001b[0m\u001b[0mFPP_Emax\u001b[0m\u001b[0;34m)\u001b[0m\u001b[0;34m\u001b[0m\u001b[0;34m\u001b[0m\u001b[0m\n\u001b[1;32m      5\u001b[0m \u001b[0;31m#ac.plot()\u001b[0m\u001b[0;34m\u001b[0m\u001b[0;34m\u001b[0m\u001b[0;34m\u001b[0m\u001b[0m\n",
      "\u001b[0;32m~/Apps/anaconda3/envs/Hyperspy/lib/python3.6/site-packages/hyperspy/roi.py\u001b[0m in \u001b[0;36m__init__\u001b[0;34m(self, left, top, right, bottom)\u001b[0m\n\u001b[1;32m    683\u001b[0m         \u001b[0msuper\u001b[0m\u001b[0;34m(\u001b[0m\u001b[0mRectangularROI\u001b[0m\u001b[0;34m,\u001b[0m \u001b[0mself\u001b[0m\u001b[0;34m)\u001b[0m\u001b[0;34m.\u001b[0m\u001b[0m__init__\u001b[0m\u001b[0;34m(\u001b[0m\u001b[0;34m)\u001b[0m\u001b[0;34m\u001b[0m\u001b[0;34m\u001b[0m\u001b[0m\n\u001b[1;32m    684\u001b[0m         \u001b[0mself\u001b[0m\u001b[0;34m.\u001b[0m\u001b[0m_bounds_check\u001b[0m \u001b[0;34m=\u001b[0m \u001b[0;32mTrue\u001b[0m   \u001b[0;31m# Use reponsibly!\u001b[0m\u001b[0;34m\u001b[0m\u001b[0;34m\u001b[0m\u001b[0m\n\u001b[0;32m--> 685\u001b[0;31m         \u001b[0mself\u001b[0m\u001b[0;34m.\u001b[0m\u001b[0mtop\u001b[0m\u001b[0;34m,\u001b[0m \u001b[0mself\u001b[0m\u001b[0;34m.\u001b[0m\u001b[0mbottom\u001b[0m\u001b[0;34m,\u001b[0m \u001b[0mself\u001b[0m\u001b[0;34m.\u001b[0m\u001b[0mleft\u001b[0m\u001b[0;34m,\u001b[0m \u001b[0mself\u001b[0m\u001b[0;34m.\u001b[0m\u001b[0mright\u001b[0m \u001b[0;34m=\u001b[0m \u001b[0mtop\u001b[0m\u001b[0;34m,\u001b[0m \u001b[0mbottom\u001b[0m\u001b[0;34m,\u001b[0m \u001b[0mleft\u001b[0m\u001b[0;34m,\u001b[0m \u001b[0mright\u001b[0m\u001b[0;34m\u001b[0m\u001b[0;34m\u001b[0m\u001b[0m\n\u001b[0m\u001b[1;32m    686\u001b[0m \u001b[0;34m\u001b[0m\u001b[0m\n\u001b[1;32m    687\u001b[0m     \u001b[0;32mdef\u001b[0m \u001b[0mis_valid\u001b[0m\u001b[0;34m(\u001b[0m\u001b[0mself\u001b[0m\u001b[0;34m)\u001b[0m\u001b[0;34m:\u001b[0m\u001b[0;34m\u001b[0m\u001b[0;34m\u001b[0m\u001b[0m\n",
      "\u001b[0;32m~/Apps/anaconda3/envs/Hyperspy/lib/python3.6/site-packages/traits/trait_notifiers.py\u001b[0m in \u001b[0;36m__call__\u001b[0;34m(self, object, trait_name, old, new)\u001b[0m\n\u001b[1;32m    398\u001b[0m                         \u001b[0mobject\u001b[0m\u001b[0;34m,\u001b[0m \u001b[0mtrait_name\u001b[0m\u001b[0;34m,\u001b[0m \u001b[0mold\u001b[0m\u001b[0;34m,\u001b[0m \u001b[0mnew\u001b[0m\u001b[0;34m,\u001b[0m \u001b[0mself\u001b[0m\u001b[0;34m.\u001b[0m\u001b[0mhandler\u001b[0m\u001b[0;34m,\u001b[0m \u001b[0mexception\u001b[0m\u001b[0;34m=\u001b[0m\u001b[0me\u001b[0m\u001b[0;34m\u001b[0m\u001b[0;34m\u001b[0m\u001b[0m\n\u001b[1;32m    399\u001b[0m                     )\n\u001b[0;32m--> 400\u001b[0;31m                 \u001b[0mhandle_exception\u001b[0m\u001b[0;34m(\u001b[0m\u001b[0mobject\u001b[0m\u001b[0;34m,\u001b[0m \u001b[0mtrait_name\u001b[0m\u001b[0;34m,\u001b[0m \u001b[0mold\u001b[0m\u001b[0;34m,\u001b[0m \u001b[0mnew\u001b[0m\u001b[0;34m)\u001b[0m\u001b[0;34m\u001b[0m\u001b[0;34m\u001b[0m\u001b[0m\n\u001b[0m\u001b[1;32m    401\u001b[0m             \u001b[0;32melse\u001b[0m\u001b[0;34m:\u001b[0m\u001b[0;34m\u001b[0m\u001b[0;34m\u001b[0m\u001b[0m\n\u001b[1;32m    402\u001b[0m                 \u001b[0;32mif\u001b[0m \u001b[0m_post_change_event_tracer\u001b[0m \u001b[0;32mis\u001b[0m \u001b[0;32mnot\u001b[0m \u001b[0;32mNone\u001b[0m\u001b[0;34m:\u001b[0m\u001b[0;34m\u001b[0m\u001b[0;34m\u001b[0m\u001b[0m\n",
      "\u001b[0;32m~/Apps/anaconda3/envs/Hyperspy/lib/python3.6/site-packages/traits/trait_notifiers.py\u001b[0m in \u001b[0;36m_handle_exception\u001b[0;34m(self, object, trait_name, old, new)\u001b[0m\n\u001b[1;32m    178\u001b[0m             \u001b[0mexcp\u001b[0m\u001b[0;34m,\u001b[0m \u001b[0mTraitNotificationError\u001b[0m\u001b[0;34m\u001b[0m\u001b[0;34m\u001b[0m\u001b[0m\n\u001b[1;32m    179\u001b[0m         ):\n\u001b[0;32m--> 180\u001b[0;31m             \u001b[0;32mraise\u001b[0m \u001b[0mexcp\u001b[0m\u001b[0;34m\u001b[0m\u001b[0;34m\u001b[0m\u001b[0m\n\u001b[0m\u001b[1;32m    181\u001b[0m \u001b[0;34m\u001b[0m\u001b[0m\n\u001b[1;32m    182\u001b[0m     \u001b[0;32mdef\u001b[0m \u001b[0m_get_handlers\u001b[0m\u001b[0;34m(\u001b[0m\u001b[0mself\u001b[0m\u001b[0;34m)\u001b[0m\u001b[0;34m:\u001b[0m\u001b[0;34m\u001b[0m\u001b[0;34m\u001b[0m\u001b[0m\n",
      "\u001b[0;32m~/Apps/anaconda3/envs/Hyperspy/lib/python3.6/site-packages/traits/trait_notifiers.py\u001b[0m in \u001b[0;36m__call__\u001b[0;34m(self, object, trait_name, old, new)\u001b[0m\n\u001b[1;32m    392\u001b[0m             \u001b[0;32mtry\u001b[0m\u001b[0;34m:\u001b[0m\u001b[0;34m\u001b[0m\u001b[0;34m\u001b[0m\u001b[0m\n\u001b[1;32m    393\u001b[0m                 \u001b[0;31m# Call the handler.\u001b[0m\u001b[0;34m\u001b[0m\u001b[0;34m\u001b[0m\u001b[0;34m\u001b[0m\u001b[0m\n\u001b[0;32m--> 394\u001b[0;31m                 \u001b[0mself\u001b[0m\u001b[0;34m.\u001b[0m\u001b[0mhandler\u001b[0m\u001b[0;34m(\u001b[0m\u001b[0;34m*\u001b[0m\u001b[0margs\u001b[0m\u001b[0;34m)\u001b[0m\u001b[0;34m\u001b[0m\u001b[0;34m\u001b[0m\u001b[0m\n\u001b[0m\u001b[1;32m    395\u001b[0m             \u001b[0;32mexcept\u001b[0m \u001b[0mException\u001b[0m \u001b[0;32mas\u001b[0m \u001b[0me\u001b[0m\u001b[0;34m:\u001b[0m\u001b[0;34m\u001b[0m\u001b[0;34m\u001b[0m\u001b[0m\n\u001b[1;32m    396\u001b[0m                 \u001b[0;32mif\u001b[0m \u001b[0m_post_change_event_tracer\u001b[0m \u001b[0;32mis\u001b[0m \u001b[0;32mnot\u001b[0m \u001b[0;32mNone\u001b[0m\u001b[0;34m:\u001b[0m\u001b[0;34m\u001b[0m\u001b[0;34m\u001b[0m\u001b[0m\n",
      "\u001b[0;32m~/Apps/anaconda3/envs/Hyperspy/lib/python3.6/site-packages/hyperspy/roi.py\u001b[0m in \u001b[0;36m_bottom_changed\u001b[0;34m(self, old, new)\u001b[0m\n\u001b[1;32m    764\u001b[0m         \u001b[0;32mif\u001b[0m \u001b[0mself\u001b[0m\u001b[0;34m.\u001b[0m\u001b[0m_bounds_check\u001b[0m \u001b[0;32mand\u001b[0m\u001b[0;31m \u001b[0m\u001b[0;31m\\\u001b[0m\u001b[0;34m\u001b[0m\u001b[0;34m\u001b[0m\u001b[0m\n\u001b[1;32m    765\u001b[0m                 \u001b[0mself\u001b[0m\u001b[0;34m.\u001b[0m\u001b[0mtop\u001b[0m \u001b[0;32mis\u001b[0m \u001b[0;32mnot\u001b[0m \u001b[0mt\u001b[0m\u001b[0;34m.\u001b[0m\u001b[0mUndefined\u001b[0m \u001b[0;32mand\u001b[0m \u001b[0mnew\u001b[0m \u001b[0;34m<=\u001b[0m \u001b[0mself\u001b[0m\u001b[0;34m.\u001b[0m\u001b[0mtop\u001b[0m\u001b[0;34m:\u001b[0m\u001b[0;34m\u001b[0m\u001b[0;34m\u001b[0m\u001b[0m\n\u001b[0;32m--> 766\u001b[0;31m             \u001b[0mself\u001b[0m\u001b[0;34m.\u001b[0m\u001b[0mbottom\u001b[0m \u001b[0;34m=\u001b[0m \u001b[0mold\u001b[0m\u001b[0;34m\u001b[0m\u001b[0;34m\u001b[0m\u001b[0m\n\u001b[0m\u001b[1;32m    767\u001b[0m         \u001b[0;32melse\u001b[0m\u001b[0;34m:\u001b[0m\u001b[0;34m\u001b[0m\u001b[0;34m\u001b[0m\u001b[0m\n\u001b[1;32m    768\u001b[0m             \u001b[0mself\u001b[0m\u001b[0;34m.\u001b[0m\u001b[0mupdate\u001b[0m\u001b[0;34m(\u001b[0m\u001b[0;34m)\u001b[0m\u001b[0;34m\u001b[0m\u001b[0;34m\u001b[0m\u001b[0m\n",
      "\u001b[0;32m~/Apps/anaconda3/envs/Hyperspy/lib/python3.6/site-packages/traits/trait_notifiers.py\u001b[0m in \u001b[0;36m__call__\u001b[0;34m(self, object, trait_name, old, new)\u001b[0m\n\u001b[1;32m    398\u001b[0m                         \u001b[0mobject\u001b[0m\u001b[0;34m,\u001b[0m \u001b[0mtrait_name\u001b[0m\u001b[0;34m,\u001b[0m \u001b[0mold\u001b[0m\u001b[0;34m,\u001b[0m \u001b[0mnew\u001b[0m\u001b[0;34m,\u001b[0m \u001b[0mself\u001b[0m\u001b[0;34m.\u001b[0m\u001b[0mhandler\u001b[0m\u001b[0;34m,\u001b[0m \u001b[0mexception\u001b[0m\u001b[0;34m=\u001b[0m\u001b[0me\u001b[0m\u001b[0;34m\u001b[0m\u001b[0;34m\u001b[0m\u001b[0m\n\u001b[1;32m    399\u001b[0m                     )\n\u001b[0;32m--> 400\u001b[0;31m                 \u001b[0mhandle_exception\u001b[0m\u001b[0;34m(\u001b[0m\u001b[0mobject\u001b[0m\u001b[0;34m,\u001b[0m \u001b[0mtrait_name\u001b[0m\u001b[0;34m,\u001b[0m \u001b[0mold\u001b[0m\u001b[0;34m,\u001b[0m \u001b[0mnew\u001b[0m\u001b[0;34m)\u001b[0m\u001b[0;34m\u001b[0m\u001b[0;34m\u001b[0m\u001b[0m\n\u001b[0m\u001b[1;32m    401\u001b[0m             \u001b[0;32melse\u001b[0m\u001b[0;34m:\u001b[0m\u001b[0;34m\u001b[0m\u001b[0;34m\u001b[0m\u001b[0m\n\u001b[1;32m    402\u001b[0m                 \u001b[0;32mif\u001b[0m \u001b[0m_post_change_event_tracer\u001b[0m \u001b[0;32mis\u001b[0m \u001b[0;32mnot\u001b[0m \u001b[0;32mNone\u001b[0m\u001b[0;34m:\u001b[0m\u001b[0;34m\u001b[0m\u001b[0;34m\u001b[0m\u001b[0m\n",
      "\u001b[0;32m~/Apps/anaconda3/envs/Hyperspy/lib/python3.6/site-packages/traits/trait_notifiers.py\u001b[0m in \u001b[0;36m_handle_exception\u001b[0;34m(self, object, trait_name, old, new)\u001b[0m\n\u001b[1;32m    178\u001b[0m             \u001b[0mexcp\u001b[0m\u001b[0;34m,\u001b[0m \u001b[0mTraitNotificationError\u001b[0m\u001b[0;34m\u001b[0m\u001b[0;34m\u001b[0m\u001b[0m\n\u001b[1;32m    179\u001b[0m         ):\n\u001b[0;32m--> 180\u001b[0;31m             \u001b[0;32mraise\u001b[0m \u001b[0mexcp\u001b[0m\u001b[0;34m\u001b[0m\u001b[0;34m\u001b[0m\u001b[0m\n\u001b[0m\u001b[1;32m    181\u001b[0m \u001b[0;34m\u001b[0m\u001b[0m\n\u001b[1;32m    182\u001b[0m     \u001b[0;32mdef\u001b[0m \u001b[0m_get_handlers\u001b[0m\u001b[0;34m(\u001b[0m\u001b[0mself\u001b[0m\u001b[0;34m)\u001b[0m\u001b[0;34m:\u001b[0m\u001b[0;34m\u001b[0m\u001b[0;34m\u001b[0m\u001b[0m\n",
      "\u001b[0;32m~/Apps/anaconda3/envs/Hyperspy/lib/python3.6/site-packages/traits/trait_notifiers.py\u001b[0m in \u001b[0;36m__call__\u001b[0;34m(self, object, trait_name, old, new)\u001b[0m\n\u001b[1;32m    392\u001b[0m             \u001b[0;32mtry\u001b[0m\u001b[0;34m:\u001b[0m\u001b[0;34m\u001b[0m\u001b[0;34m\u001b[0m\u001b[0m\n\u001b[1;32m    393\u001b[0m                 \u001b[0;31m# Call the handler.\u001b[0m\u001b[0;34m\u001b[0m\u001b[0;34m\u001b[0m\u001b[0;34m\u001b[0m\u001b[0m\n\u001b[0;32m--> 394\u001b[0;31m                 \u001b[0mself\u001b[0m\u001b[0;34m.\u001b[0m\u001b[0mhandler\u001b[0m\u001b[0;34m(\u001b[0m\u001b[0;34m*\u001b[0m\u001b[0margs\u001b[0m\u001b[0;34m)\u001b[0m\u001b[0;34m\u001b[0m\u001b[0;34m\u001b[0m\u001b[0m\n\u001b[0m\u001b[1;32m    395\u001b[0m             \u001b[0;32mexcept\u001b[0m \u001b[0mException\u001b[0m \u001b[0;32mas\u001b[0m \u001b[0me\u001b[0m\u001b[0;34m:\u001b[0m\u001b[0;34m\u001b[0m\u001b[0;34m\u001b[0m\u001b[0m\n\u001b[1;32m    396\u001b[0m                 \u001b[0;32mif\u001b[0m \u001b[0m_post_change_event_tracer\u001b[0m \u001b[0;32mis\u001b[0m \u001b[0;32mnot\u001b[0m \u001b[0;32mNone\u001b[0m\u001b[0;34m:\u001b[0m\u001b[0;34m\u001b[0m\u001b[0;34m\u001b[0m\u001b[0m\n",
      "\u001b[0;32m~/Apps/anaconda3/envs/Hyperspy/lib/python3.6/site-packages/hyperspy/roi.py\u001b[0m in \u001b[0;36m_bottom_changed\u001b[0;34m(self, old, new)\u001b[0m\n\u001b[1;32m    763\u001b[0m     \u001b[0;32mdef\u001b[0m \u001b[0m_bottom_changed\u001b[0m\u001b[0;34m(\u001b[0m\u001b[0mself\u001b[0m\u001b[0;34m,\u001b[0m \u001b[0mold\u001b[0m\u001b[0;34m,\u001b[0m \u001b[0mnew\u001b[0m\u001b[0;34m)\u001b[0m\u001b[0;34m:\u001b[0m\u001b[0;34m\u001b[0m\u001b[0;34m\u001b[0m\u001b[0m\n\u001b[1;32m    764\u001b[0m         \u001b[0;32mif\u001b[0m \u001b[0mself\u001b[0m\u001b[0;34m.\u001b[0m\u001b[0m_bounds_check\u001b[0m \u001b[0;32mand\u001b[0m\u001b[0;31m \u001b[0m\u001b[0;31m\\\u001b[0m\u001b[0;34m\u001b[0m\u001b[0;34m\u001b[0m\u001b[0m\n\u001b[0;32m--> 765\u001b[0;31m                 \u001b[0mself\u001b[0m\u001b[0;34m.\u001b[0m\u001b[0mtop\u001b[0m \u001b[0;32mis\u001b[0m \u001b[0;32mnot\u001b[0m \u001b[0mt\u001b[0m\u001b[0;34m.\u001b[0m\u001b[0mUndefined\u001b[0m \u001b[0;32mand\u001b[0m \u001b[0mnew\u001b[0m \u001b[0;34m<=\u001b[0m \u001b[0mself\u001b[0m\u001b[0;34m.\u001b[0m\u001b[0mtop\u001b[0m\u001b[0;34m:\u001b[0m\u001b[0;34m\u001b[0m\u001b[0;34m\u001b[0m\u001b[0m\n\u001b[0m\u001b[1;32m    766\u001b[0m             \u001b[0mself\u001b[0m\u001b[0;34m.\u001b[0m\u001b[0mbottom\u001b[0m \u001b[0;34m=\u001b[0m \u001b[0mold\u001b[0m\u001b[0;34m\u001b[0m\u001b[0;34m\u001b[0m\u001b[0m\n\u001b[1;32m    767\u001b[0m         \u001b[0;32melse\u001b[0m\u001b[0;34m:\u001b[0m\u001b[0;34m\u001b[0m\u001b[0;34m\u001b[0m\u001b[0m\n",
      "\u001b[0;31mTypeError\u001b[0m: '<=' not supported between instances of '_Undefined' and 'float'"
     ]
    }
   ],
   "source": [
    "roi = hs.roi.RectangularROI(left=-20., right=-15., top=-165., bottom=-175.)\n",
    "a.FPP_Emax.metadata.General.title = 'Emax'\n",
    "a.FPP_Emax.plot()\n",
    "ac = roi.interactive(a.FPP_Emax)\n",
    "#ac.plot()"
   ]
  },
  {
   "cell_type": "code",
   "execution_count": 72,
   "metadata": {},
   "outputs": [
    {
     "data": {
      "text/plain": [
       "[<Signal2D, title: $E_{\textbf{max}}$ - Zero Loss Peak, dimensions: (|20, 20)>,\n",
       " <Signal2D, title: $\\Gamma$ - Zero Loss Peak, dimensions: (|20, 20)>,\n",
       " <Signal2D, title: Emax - Zero Loss Peak, dimensions: (|20, 20)>,\n",
       " <Signal2D, title: $\\Gamma$ - Zero Loss Peak, dimensions: (|20, 20)>,\n",
       " <Signal2D, title: $\\Gamma$ - Zero Loss Peak, dimensions: (|20, 20)>,\n",
       " <Signal2D, title: $\\Gamma$ - Zero Loss Peak, dimensions: (|20, 20)>,\n",
       " <Signal2D, title: Intensity - Zero Loss Peak, dimensions: (|20, 20)>,\n",
       " <Signal2D, title: $\\Gamma$ - Zero Loss Peak, dimensions: (|20, 20)>,\n",
       " <Signal2D, title: $Intensity$ - Zero Loss Peak, dimensions: (|20, 20)>,\n",
       " None]"
      ]
     },
     "execution_count": 72,
     "metadata": {},
     "output_type": "execute_result"
    }
   ],
   "source": [
    "signals"
   ]
  },
  {
   "cell_type": "code",
   "execution_count": 17,
   "metadata": {
    "ExecuteTime": {
     "end_time": "2018-10-29T12:11:53.614506Z",
     "start_time": "2018-10-29T11:56:26.716674Z"
    }
   },
   "outputs": [
    {
     "data": {
      "application/vnd.jupyter.widget-view+json": {
       "model_id": "274384ec04f241de8cf57e837d313dd7",
       "version_major": 2,
       "version_minor": 0
      },
      "text/plain": [
       "HBox(children=(IntProgress(value=0, max=10000), HTML(value='')))"
      ]
     },
     "metadata": {},
     "output_type": "display_data"
    },
    {
     "name": "stdout",
     "output_type": "stream",
     "text": [
      "\n"
     ]
    }
   ],
   "source": [
    "a.eels_fit_routine()\n",
    "a.Fit_Model.plot(plot_components=True)\n",
    "\n",
    "#a.Fit_Model.enable_background()\n",
    "#a.Fit_Model.ensure_parameters_in_bounds()"
   ]
  },
  {
   "cell_type": "code",
   "execution_count": 8,
   "metadata": {
    "ExecuteTime": {
     "end_time": "2018-10-29T11:07:40.506892Z",
     "start_time": "2018-10-29T11:07:39.224042Z"
    }
   },
   "outputs": [],
   "source": [
    "a.Fit_Model.red_chisq.plot()"
   ]
  },
  {
   "cell_type": "code",
   "execution_count": 15,
   "metadata": {
    "ExecuteTime": {
     "end_time": "2018-10-29T11:38:41.699339Z",
     "start_time": "2018-10-29T11:38:41.479506Z"
    }
   },
   "outputs": [],
   "source": [
    "a.generate_param_maps()"
   ]
  },
  {
   "cell_type": "code",
   "execution_count": 16,
   "metadata": {
    "ExecuteTime": {
     "end_time": "2018-10-29T11:38:42.297069Z",
     "start_time": "2018-10-29T11:38:41.701040Z"
    }
   },
   "outputs": [
    {
     "ename": "RuntimeError",
     "evalue": "latex was not able to process the following string:\nb'fwhm parameter of First_Plasmon_Peak component Signal'\n\nHere is the full report generated by latex:\nThis is pdfTeX, Version 3.14159265-2.6-1.40.18 (TeX Live 2017) (preloaded format=latex)\n restricted \\write18 enabled.\nentering extended mode\n(/home/max/.cache/matplotlib/tex.cache/37df7ff511d07db1b9c75f88652206cd.tex\nLaTeX2e <2017-04-15>\nBabel <3.9r> and hyphenation patterns for 77 language(s) loaded.\n(/usr/share/texlive/texmf-dist/tex/latex/base/article.cls\nDocument Class: article 2014/09/29 v1.4h Standard LaTeX document class\n(/usr/share/texlive/texmf-dist/tex/latex/base/size10.clo))\n(/usr/share/texlive/texmf-dist/tex/latex/type1cm/type1cm.sty)\n(/usr/share/texlive/texmf-dist/tex/latex/base/textcomp.sty\n(/usr/share/texlive/texmf-dist/tex/latex/base/ts1enc.def))\n(/usr/share/texlive/texmf-dist/tex/latex/base/inputenc.sty\n(/usr/share/texlive/texmf-dist/tex/latex/base/utf8.def\n(/usr/share/texlive/texmf-dist/tex/latex/base/t1enc.dfu)\n(/usr/share/texlive/texmf-dist/tex/latex/base/ot1enc.dfu)\n(/usr/share/texlive/texmf-dist/tex/latex/base/omsenc.dfu)\n(/usr/share/texlive/texmf-dist/tex/latex/base/ts1enc.dfu)))\n(/usr/share/texlive/texmf-dist/tex/latex/siunitx/siunitx.sty\n(/usr/share/texlive/texmf-dist/tex/latex/l3kernel/expl3.sty\n(/usr/share/texlive/texmf-dist/tex/latex/l3kernel/expl3-code.tex)\n(/usr/share/texlive/texmf-dist/tex/latex/l3kernel/l3dvips.def))\n(/usr/share/texlive/texmf-dist/tex/latex/l3packages/xparse/xparse.sty)\n(/usr/share/texlive/texmf-dist/tex/latex/amsmath/amstext.sty\n(/usr/share/texlive/texmf-dist/tex/latex/amsmath/amsgen.sty))\n(/usr/share/texlive/texmf-dist/tex/latex/tools/array.sty)\n(/usr/share/texlive/texmf-dist/tex/latex/l3packages/l3keys2e/l3keys2e.sty)\n(/usr/share/texlive/texmf-dist/tex/latex/beamer/translator/translator.sty\n(/usr/share/texlive/texmf-dist/tex/latex/graphics/keyval.sty)\n(/usr/share/texlive/texmf-dist/tex/latex/beamer/translator/translator-language-\nmappings.tex))) (/usr/share/texlive/texmf-dist/tex/latex/tools/bm.sty)\n(/usr/share/texlive/texmf-dist/tex/latex/geometry/geometry.sty\n(/usr/share/texlive/texmf-dist/tex/generic/oberdiek/ifpdf.sty)\n(/usr/share/texlive/texmf-dist/tex/generic/oberdiek/ifvtex.sty)\n(/usr/share/texlive/texmf-dist/tex/generic/ifxetex/ifxetex.sty)\n\nPackage geometry Warning: Over-specification in `h'-direction.\n    `width' (5058.9pt) is ignored.\n\n\nPackage geometry Warning: Over-specification in `v'-direction.\n    `height' (5058.9pt) is ignored.\n\n) (./37df7ff511d07db1b9c75f88652206cd.aux)\n(/usr/share/texlive/texmf-dist/tex/latex/base/ts1cmr.fd)\n(/usr/share/texlive/texmf-dist/tex/latex/beamer/translator/dicts/translator-bas\nic-dictionary/translator-basic-dictionary-English.dict)\n(/usr/share/texlive/texmf-dist/tex/latex/siunitx/siunitx-abbreviations.cfg)\n*geometry* driver: auto-detecting\n*geometry* detected driver: dvips\n! Missing $ inserted.\n<inserted text> \n                $\nl.15 ...000000}{\\sffamily fwhm parameter of First_\n                                                  Plasmon_Peak component Sig...\nNo pages of output.\nTranscript written on 37df7ff511d07db1b9c75f88652206cd.log.\n\n\n",
     "output_type": "error",
     "traceback": [
      "\u001b[0;31m--------------------------------------------------------------------------\u001b[0m",
      "\u001b[0;31mCalledProcessError\u001b[0m                       Traceback (most recent call last)",
      "\u001b[0;32m~/Apps/anaconda3/envs/HS/lib/python3.6/site-packages/matplotlib/texmanager.py\u001b[0m in \u001b[0;36m_run_checked_subprocess\u001b[0;34m(self, command, tex)\u001b[0m\n\u001b[1;32m    297\u001b[0m                                              \u001b[0mcwd\u001b[0m\u001b[0;34m=\u001b[0m\u001b[0mself\u001b[0m\u001b[0;34m.\u001b[0m\u001b[0mtexcache\u001b[0m\u001b[0;34m,\u001b[0m\u001b[0;34m\u001b[0m\u001b[0m\n\u001b[0;32m--> 298\u001b[0;31m                                              stderr=subprocess.STDOUT)\n\u001b[0m\u001b[1;32m    299\u001b[0m         \u001b[0;32mexcept\u001b[0m \u001b[0msubprocess\u001b[0m\u001b[0;34m.\u001b[0m\u001b[0mCalledProcessError\u001b[0m \u001b[0;32mas\u001b[0m \u001b[0mexc\u001b[0m\u001b[0;34m:\u001b[0m\u001b[0;34m\u001b[0m\u001b[0m\n",
      "\u001b[0;32m~/Apps/anaconda3/envs/HS/lib/python3.6/subprocess.py\u001b[0m in \u001b[0;36mcheck_output\u001b[0;34m(timeout, *popenargs, **kwargs)\u001b[0m\n\u001b[1;32m    335\u001b[0m     return run(*popenargs, stdout=PIPE, timeout=timeout, check=True,\n\u001b[0;32m--> 336\u001b[0;31m                **kwargs).stdout\n\u001b[0m\u001b[1;32m    337\u001b[0m \u001b[0;34m\u001b[0m\u001b[0m\n",
      "\u001b[0;32m~/Apps/anaconda3/envs/HS/lib/python3.6/subprocess.py\u001b[0m in \u001b[0;36mrun\u001b[0;34m(input, timeout, check, *popenargs, **kwargs)\u001b[0m\n\u001b[1;32m    417\u001b[0m             raise CalledProcessError(retcode, process.args,\n\u001b[0;32m--> 418\u001b[0;31m                                      output=stdout, stderr=stderr)\n\u001b[0m\u001b[1;32m    419\u001b[0m     \u001b[0;32mreturn\u001b[0m \u001b[0mCompletedProcess\u001b[0m\u001b[0;34m(\u001b[0m\u001b[0mprocess\u001b[0m\u001b[0;34m.\u001b[0m\u001b[0margs\u001b[0m\u001b[0;34m,\u001b[0m \u001b[0mretcode\u001b[0m\u001b[0;34m,\u001b[0m \u001b[0mstdout\u001b[0m\u001b[0;34m,\u001b[0m \u001b[0mstderr\u001b[0m\u001b[0;34m)\u001b[0m\u001b[0;34m\u001b[0m\u001b[0m\n",
      "\u001b[0;31mCalledProcessError\u001b[0m: Command '['latex', '-interaction=nonstopmode', '--halt-on-error', '/home/max/.cache/matplotlib/tex.cache/37df7ff511d07db1b9c75f88652206cd.tex']' returned non-zero exit status 1.",
      "\nDuring handling of the above exception, another exception occurred:\n",
      "\u001b[0;31mRuntimeError\u001b[0m                             Traceback (most recent call last)",
      "\u001b[0;32m<ipython-input-16-28232e9c8f3b>\u001b[0m in \u001b[0;36m<module>\u001b[0;34m\u001b[0m\n\u001b[0;32m----> 1\u001b[0;31m \u001b[0ma\u001b[0m\u001b[0;34m.\u001b[0m\u001b[0mParam_Maps\u001b[0m\u001b[0;34m[\u001b[0m\u001b[0;36m3\u001b[0m\u001b[0;34m]\u001b[0m\u001b[0;34m.\u001b[0m\u001b[0mplot\u001b[0m\u001b[0;34m(\u001b[0m\u001b[0;34m)\u001b[0m\u001b[0;34m\u001b[0m\u001b[0m\n\u001b[0m",
      "\u001b[0;32m~/Apps/anaconda3/envs/HS/lib/python3.6/site-packages/hyperspy/_signals/signal2d.py\u001b[0m in \u001b[0;36mplot\u001b[0;34m(self, colorbar, scalebar, scalebar_color, axes_ticks, axes_off, saturated_pixels, vmin, vmax, no_nans, centre_colormap, **kwargs)\u001b[0m\n\u001b[1;32m    319\u001b[0m             \u001b[0mno_nans\u001b[0m\u001b[0;34m=\u001b[0m\u001b[0mno_nans\u001b[0m\u001b[0;34m,\u001b[0m\u001b[0;34m\u001b[0m\u001b[0m\n\u001b[1;32m    320\u001b[0m             \u001b[0mcentre_colormap\u001b[0m\u001b[0;34m=\u001b[0m\u001b[0mcentre_colormap\u001b[0m\u001b[0;34m,\u001b[0m\u001b[0;34m\u001b[0m\u001b[0m\n\u001b[0;32m--> 321\u001b[0;31m             \u001b[0;34m**\u001b[0m\u001b[0mkwargs\u001b[0m\u001b[0;34m\u001b[0m\u001b[0m\n\u001b[0m\u001b[1;32m    322\u001b[0m         )\n\u001b[1;32m    323\u001b[0m     \u001b[0mplot\u001b[0m\u001b[0;34m.\u001b[0m\u001b[0m__doc__\u001b[0m \u001b[0;34m%=\u001b[0m \u001b[0mBASE_PLOT_DOCSTRING\u001b[0m\u001b[0;34m,\u001b[0m \u001b[0mPLOT2D_DOCSTRING\u001b[0m\u001b[0;34m,\u001b[0m \u001b[0mKWARGS_DOCSTRING\u001b[0m\u001b[0;34m\u001b[0m\u001b[0m\n",
      "\u001b[0;32m~/Apps/anaconda3/envs/HS/lib/python3.6/site-packages/hyperspy/signal.py\u001b[0m in \u001b[0;36mplot\u001b[0;34m(self, navigator, axes_manager, plot_markers, **kwargs)\u001b[0m\n\u001b[1;32m   2072\u001b[0m                     \" \\\"slider\\\", None, a Signal instance\")\n\u001b[1;32m   2073\u001b[0m \u001b[0;34m\u001b[0m\u001b[0m\n\u001b[0;32m-> 2074\u001b[0;31m         \u001b[0mself\u001b[0m\u001b[0;34m.\u001b[0m\u001b[0m_plot\u001b[0m\u001b[0;34m.\u001b[0m\u001b[0mplot\u001b[0m\u001b[0;34m(\u001b[0m\u001b[0;34m**\u001b[0m\u001b[0mkwargs\u001b[0m\u001b[0;34m)\u001b[0m\u001b[0;34m\u001b[0m\u001b[0m\n\u001b[0m\u001b[1;32m   2075\u001b[0m         \u001b[0mself\u001b[0m\u001b[0;34m.\u001b[0m\u001b[0mevents\u001b[0m\u001b[0;34m.\u001b[0m\u001b[0mdata_changed\u001b[0m\u001b[0;34m.\u001b[0m\u001b[0mconnect\u001b[0m\u001b[0;34m(\u001b[0m\u001b[0mself\u001b[0m\u001b[0;34m.\u001b[0m\u001b[0mupdate_plot\u001b[0m\u001b[0;34m,\u001b[0m \u001b[0;34m[\u001b[0m\u001b[0;34m]\u001b[0m\u001b[0;34m)\u001b[0m\u001b[0;34m\u001b[0m\u001b[0m\n\u001b[1;32m   2076\u001b[0m         \u001b[0;32mif\u001b[0m \u001b[0mself\u001b[0m\u001b[0;34m.\u001b[0m\u001b[0m_plot\u001b[0m\u001b[0;34m.\u001b[0m\u001b[0msignal_plot\u001b[0m\u001b[0;34m:\u001b[0m\u001b[0;34m\u001b[0m\u001b[0m\n",
      "\u001b[0;32m~/Apps/anaconda3/envs/HS/lib/python3.6/site-packages/hyperspy/drawing/mpl_he.py\u001b[0m in \u001b[0;36mplot\u001b[0;34m(self, **kwargs)\u001b[0m\n\u001b[1;32m    173\u001b[0m                 \u001b[0mself\u001b[0m\u001b[0;34m.\u001b[0m\u001b[0mpointer\u001b[0m\u001b[0;34m.\u001b[0m\u001b[0mconnect_navigate\u001b[0m\u001b[0;34m(\u001b[0m\u001b[0;34m)\u001b[0m\u001b[0;34m\u001b[0m\u001b[0m\n\u001b[1;32m    174\u001b[0m             \u001b[0mself\u001b[0m\u001b[0;34m.\u001b[0m\u001b[0mplot_navigator\u001b[0m\u001b[0;34m(\u001b[0m\u001b[0;34m**\u001b[0m\u001b[0mkwargs\u001b[0m\u001b[0;34m.\u001b[0m\u001b[0mpop\u001b[0m\u001b[0;34m(\u001b[0m\u001b[0;34m'navigator_kwds'\u001b[0m\u001b[0;34m,\u001b[0m \u001b[0;34m{\u001b[0m\u001b[0;34m}\u001b[0m\u001b[0;34m)\u001b[0m\u001b[0;34m)\u001b[0m\u001b[0;34m\u001b[0m\u001b[0m\n\u001b[0;32m--> 175\u001b[0;31m         \u001b[0mself\u001b[0m\u001b[0;34m.\u001b[0m\u001b[0mplot_signal\u001b[0m\u001b[0;34m(\u001b[0m\u001b[0;34m**\u001b[0m\u001b[0mkwargs\u001b[0m\u001b[0;34m)\u001b[0m\u001b[0;34m\u001b[0m\u001b[0m\n\u001b[0m\u001b[1;32m    176\u001b[0m \u001b[0;34m\u001b[0m\u001b[0m\n\u001b[1;32m    177\u001b[0m     \u001b[0;32mdef\u001b[0m \u001b[0massign_pointer\u001b[0m\u001b[0;34m(\u001b[0m\u001b[0mself\u001b[0m\u001b[0;34m)\u001b[0m\u001b[0;34m:\u001b[0m\u001b[0;34m\u001b[0m\u001b[0m\n",
      "\u001b[0;32m~/Apps/anaconda3/envs/HS/lib/python3.6/site-packages/hyperspy/drawing/mpl_hie.py\u001b[0m in \u001b[0;36mplot_signal\u001b[0;34m(self, colorbar, scalebar, scalebar_color, axes_ticks, axes_off, saturated_pixels, vmin, vmax, no_nans, centre_colormap, norm, **kwargs)\u001b[0m\n\u001b[1;32m     87\u001b[0m         \u001b[0mimf\u001b[0m\u001b[0;34m.\u001b[0m\u001b[0mnorm\u001b[0m \u001b[0;34m=\u001b[0m \u001b[0mnorm\u001b[0m\u001b[0;34m\u001b[0m\u001b[0m\n\u001b[1;32m     88\u001b[0m         \u001b[0mkwargs\u001b[0m\u001b[0;34m[\u001b[0m\u001b[0;34m'data_function_kwargs'\u001b[0m\u001b[0;34m]\u001b[0m \u001b[0;34m=\u001b[0m \u001b[0mself\u001b[0m\u001b[0;34m.\u001b[0m\u001b[0msignal_data_function_kwargs\u001b[0m\u001b[0;34m\u001b[0m\u001b[0m\n\u001b[0;32m---> 89\u001b[0;31m         \u001b[0mimf\u001b[0m\u001b[0;34m.\u001b[0m\u001b[0mplot\u001b[0m\u001b[0;34m(\u001b[0m\u001b[0;34m**\u001b[0m\u001b[0mkwargs\u001b[0m\u001b[0;34m)\u001b[0m\u001b[0;34m\u001b[0m\u001b[0m\n\u001b[0m\u001b[1;32m     90\u001b[0m         \u001b[0mself\u001b[0m\u001b[0;34m.\u001b[0m\u001b[0msignal_plot\u001b[0m \u001b[0;34m=\u001b[0m \u001b[0mimf\u001b[0m\u001b[0;34m\u001b[0m\u001b[0m\n\u001b[1;32m     91\u001b[0m \u001b[0;34m\u001b[0m\u001b[0m\n",
      "\u001b[0;32m~/Apps/anaconda3/envs/HS/lib/python3.6/site-packages/hyperspy/drawing/image.py\u001b[0m in \u001b[0;36mplot\u001b[0;34m(self, data_function_kwargs, **kwargs)\u001b[0m\n\u001b[1;32m    297\u001b[0m \u001b[0;34m\u001b[0m\u001b[0m\n\u001b[1;32m    298\u001b[0m         \u001b[0mself\u001b[0m\u001b[0;34m.\u001b[0m\u001b[0mconnect\u001b[0m\u001b[0;34m(\u001b[0m\u001b[0;34m)\u001b[0m\u001b[0;34m\u001b[0m\u001b[0m\n\u001b[0;32m--> 299\u001b[0;31m         \u001b[0mself\u001b[0m\u001b[0;34m.\u001b[0m\u001b[0mfigure\u001b[0m\u001b[0;34m.\u001b[0m\u001b[0mcanvas\u001b[0m\u001b[0;34m.\u001b[0m\u001b[0mdraw\u001b[0m\u001b[0;34m(\u001b[0m\u001b[0;34m)\u001b[0m\u001b[0;34m\u001b[0m\u001b[0m\n\u001b[0m\u001b[1;32m    300\u001b[0m \u001b[0;34m\u001b[0m\u001b[0m\n\u001b[1;32m    301\u001b[0m     \u001b[0;32mdef\u001b[0m \u001b[0m_add_colorbar\u001b[0m\u001b[0;34m(\u001b[0m\u001b[0mself\u001b[0m\u001b[0;34m)\u001b[0m\u001b[0;34m:\u001b[0m\u001b[0;34m\u001b[0m\u001b[0m\n",
      "\u001b[0;32m~/Apps/anaconda3/envs/HS/lib/python3.6/site-packages/matplotlib/backends/backend_agg.py\u001b[0m in \u001b[0;36mdraw\u001b[0;34m(self)\u001b[0m\n\u001b[1;32m    400\u001b[0m         \u001b[0mtoolbar\u001b[0m \u001b[0;34m=\u001b[0m \u001b[0mself\u001b[0m\u001b[0;34m.\u001b[0m\u001b[0mtoolbar\u001b[0m\u001b[0;34m\u001b[0m\u001b[0m\n\u001b[1;32m    401\u001b[0m         \u001b[0;32mtry\u001b[0m\u001b[0;34m:\u001b[0m\u001b[0;34m\u001b[0m\u001b[0m\n\u001b[0;32m--> 402\u001b[0;31m             \u001b[0mself\u001b[0m\u001b[0;34m.\u001b[0m\u001b[0mfigure\u001b[0m\u001b[0;34m.\u001b[0m\u001b[0mdraw\u001b[0m\u001b[0;34m(\u001b[0m\u001b[0mself\u001b[0m\u001b[0;34m.\u001b[0m\u001b[0mrenderer\u001b[0m\u001b[0;34m)\u001b[0m\u001b[0;34m\u001b[0m\u001b[0m\n\u001b[0m\u001b[1;32m    403\u001b[0m             \u001b[0;31m# A GUI class may be need to update a window using this draw, so\u001b[0m\u001b[0;34m\u001b[0m\u001b[0;34m\u001b[0m\u001b[0m\n\u001b[1;32m    404\u001b[0m             \u001b[0;31m# don't forget to call the superclass.\u001b[0m\u001b[0;34m\u001b[0m\u001b[0;34m\u001b[0m\u001b[0m\n",
      "\u001b[0;32m~/Apps/anaconda3/envs/HS/lib/python3.6/site-packages/matplotlib/artist.py\u001b[0m in \u001b[0;36mdraw_wrapper\u001b[0;34m(artist, renderer, *args, **kwargs)\u001b[0m\n\u001b[1;32m     48\u001b[0m                 \u001b[0mrenderer\u001b[0m\u001b[0;34m.\u001b[0m\u001b[0mstart_filter\u001b[0m\u001b[0;34m(\u001b[0m\u001b[0;34m)\u001b[0m\u001b[0;34m\u001b[0m\u001b[0m\n\u001b[1;32m     49\u001b[0m \u001b[0;34m\u001b[0m\u001b[0m\n\u001b[0;32m---> 50\u001b[0;31m             \u001b[0;32mreturn\u001b[0m \u001b[0mdraw\u001b[0m\u001b[0;34m(\u001b[0m\u001b[0martist\u001b[0m\u001b[0;34m,\u001b[0m \u001b[0mrenderer\u001b[0m\u001b[0;34m,\u001b[0m \u001b[0;34m*\u001b[0m\u001b[0margs\u001b[0m\u001b[0;34m,\u001b[0m \u001b[0;34m**\u001b[0m\u001b[0mkwargs\u001b[0m\u001b[0;34m)\u001b[0m\u001b[0;34m\u001b[0m\u001b[0m\n\u001b[0m\u001b[1;32m     51\u001b[0m         \u001b[0;32mfinally\u001b[0m\u001b[0;34m:\u001b[0m\u001b[0;34m\u001b[0m\u001b[0m\n\u001b[1;32m     52\u001b[0m             \u001b[0;32mif\u001b[0m \u001b[0martist\u001b[0m\u001b[0;34m.\u001b[0m\u001b[0mget_agg_filter\u001b[0m\u001b[0;34m(\u001b[0m\u001b[0;34m)\u001b[0m \u001b[0;32mis\u001b[0m \u001b[0;32mnot\u001b[0m \u001b[0;32mNone\u001b[0m\u001b[0;34m:\u001b[0m\u001b[0;34m\u001b[0m\u001b[0m\n",
      "\u001b[0;32m~/Apps/anaconda3/envs/HS/lib/python3.6/site-packages/matplotlib/figure.py\u001b[0m in \u001b[0;36mdraw\u001b[0;34m(self, renderer)\u001b[0m\n\u001b[1;32m   1650\u001b[0m \u001b[0;34m\u001b[0m\u001b[0m\n\u001b[1;32m   1651\u001b[0m             mimage._draw_list_compositing_images(\n\u001b[0;32m-> 1652\u001b[0;31m                 renderer, self, artists, self.suppressComposite)\n\u001b[0m\u001b[1;32m   1653\u001b[0m \u001b[0;34m\u001b[0m\u001b[0m\n\u001b[1;32m   1654\u001b[0m             \u001b[0mrenderer\u001b[0m\u001b[0;34m.\u001b[0m\u001b[0mclose_group\u001b[0m\u001b[0;34m(\u001b[0m\u001b[0;34m'figure'\u001b[0m\u001b[0;34m)\u001b[0m\u001b[0;34m\u001b[0m\u001b[0m\n",
      "\u001b[0;32m~/Apps/anaconda3/envs/HS/lib/python3.6/site-packages/matplotlib/image.py\u001b[0m in \u001b[0;36m_draw_list_compositing_images\u001b[0;34m(renderer, parent, artists, suppress_composite)\u001b[0m\n\u001b[1;32m    136\u001b[0m     \u001b[0;32mif\u001b[0m \u001b[0mnot_composite\u001b[0m \u001b[0;32mor\u001b[0m \u001b[0;32mnot\u001b[0m \u001b[0mhas_images\u001b[0m\u001b[0;34m:\u001b[0m\u001b[0;34m\u001b[0m\u001b[0m\n\u001b[1;32m    137\u001b[0m         \u001b[0;32mfor\u001b[0m \u001b[0ma\u001b[0m \u001b[0;32min\u001b[0m \u001b[0martists\u001b[0m\u001b[0;34m:\u001b[0m\u001b[0;34m\u001b[0m\u001b[0m\n\u001b[0;32m--> 138\u001b[0;31m             \u001b[0ma\u001b[0m\u001b[0;34m.\u001b[0m\u001b[0mdraw\u001b[0m\u001b[0;34m(\u001b[0m\u001b[0mrenderer\u001b[0m\u001b[0;34m)\u001b[0m\u001b[0;34m\u001b[0m\u001b[0m\n\u001b[0m\u001b[1;32m    139\u001b[0m     \u001b[0;32melse\u001b[0m\u001b[0;34m:\u001b[0m\u001b[0;34m\u001b[0m\u001b[0m\n\u001b[1;32m    140\u001b[0m         \u001b[0;31m# Composite any adjacent images together\u001b[0m\u001b[0;34m\u001b[0m\u001b[0;34m\u001b[0m\u001b[0m\n",
      "\u001b[0;32m~/Apps/anaconda3/envs/HS/lib/python3.6/site-packages/matplotlib/artist.py\u001b[0m in \u001b[0;36mdraw_wrapper\u001b[0;34m(artist, renderer, *args, **kwargs)\u001b[0m\n\u001b[1;32m     48\u001b[0m                 \u001b[0mrenderer\u001b[0m\u001b[0;34m.\u001b[0m\u001b[0mstart_filter\u001b[0m\u001b[0;34m(\u001b[0m\u001b[0;34m)\u001b[0m\u001b[0;34m\u001b[0m\u001b[0m\n\u001b[1;32m     49\u001b[0m \u001b[0;34m\u001b[0m\u001b[0m\n\u001b[0;32m---> 50\u001b[0;31m             \u001b[0;32mreturn\u001b[0m \u001b[0mdraw\u001b[0m\u001b[0;34m(\u001b[0m\u001b[0martist\u001b[0m\u001b[0;34m,\u001b[0m \u001b[0mrenderer\u001b[0m\u001b[0;34m,\u001b[0m \u001b[0;34m*\u001b[0m\u001b[0margs\u001b[0m\u001b[0;34m,\u001b[0m \u001b[0;34m**\u001b[0m\u001b[0mkwargs\u001b[0m\u001b[0;34m)\u001b[0m\u001b[0;34m\u001b[0m\u001b[0m\n\u001b[0m\u001b[1;32m     51\u001b[0m         \u001b[0;32mfinally\u001b[0m\u001b[0;34m:\u001b[0m\u001b[0;34m\u001b[0m\u001b[0m\n\u001b[1;32m     52\u001b[0m             \u001b[0;32mif\u001b[0m \u001b[0martist\u001b[0m\u001b[0;34m.\u001b[0m\u001b[0mget_agg_filter\u001b[0m\u001b[0;34m(\u001b[0m\u001b[0;34m)\u001b[0m \u001b[0;32mis\u001b[0m \u001b[0;32mnot\u001b[0m \u001b[0;32mNone\u001b[0m\u001b[0;34m:\u001b[0m\u001b[0;34m\u001b[0m\u001b[0m\n",
      "\u001b[0;32m~/Apps/anaconda3/envs/HS/lib/python3.6/site-packages/matplotlib/axes/_base.py\u001b[0m in \u001b[0;36mdraw\u001b[0;34m(self, renderer, inframe)\u001b[0m\n\u001b[1;32m   2602\u001b[0m             \u001b[0mrenderer\u001b[0m\u001b[0;34m.\u001b[0m\u001b[0mstop_rasterizing\u001b[0m\u001b[0;34m(\u001b[0m\u001b[0;34m)\u001b[0m\u001b[0;34m\u001b[0m\u001b[0m\n\u001b[1;32m   2603\u001b[0m \u001b[0;34m\u001b[0m\u001b[0m\n\u001b[0;32m-> 2604\u001b[0;31m         \u001b[0mmimage\u001b[0m\u001b[0;34m.\u001b[0m\u001b[0m_draw_list_compositing_images\u001b[0m\u001b[0;34m(\u001b[0m\u001b[0mrenderer\u001b[0m\u001b[0;34m,\u001b[0m \u001b[0mself\u001b[0m\u001b[0;34m,\u001b[0m \u001b[0martists\u001b[0m\u001b[0;34m)\u001b[0m\u001b[0;34m\u001b[0m\u001b[0m\n\u001b[0m\u001b[1;32m   2605\u001b[0m \u001b[0;34m\u001b[0m\u001b[0m\n\u001b[1;32m   2606\u001b[0m         \u001b[0mrenderer\u001b[0m\u001b[0;34m.\u001b[0m\u001b[0mclose_group\u001b[0m\u001b[0;34m(\u001b[0m\u001b[0;34m'axes'\u001b[0m\u001b[0;34m)\u001b[0m\u001b[0;34m\u001b[0m\u001b[0m\n",
      "\u001b[0;32m~/Apps/anaconda3/envs/HS/lib/python3.6/site-packages/matplotlib/image.py\u001b[0m in \u001b[0;36m_draw_list_compositing_images\u001b[0;34m(renderer, parent, artists, suppress_composite)\u001b[0m\n\u001b[1;32m    136\u001b[0m     \u001b[0;32mif\u001b[0m \u001b[0mnot_composite\u001b[0m \u001b[0;32mor\u001b[0m \u001b[0;32mnot\u001b[0m \u001b[0mhas_images\u001b[0m\u001b[0;34m:\u001b[0m\u001b[0;34m\u001b[0m\u001b[0m\n\u001b[1;32m    137\u001b[0m         \u001b[0;32mfor\u001b[0m \u001b[0ma\u001b[0m \u001b[0;32min\u001b[0m \u001b[0martists\u001b[0m\u001b[0;34m:\u001b[0m\u001b[0;34m\u001b[0m\u001b[0m\n\u001b[0;32m--> 138\u001b[0;31m             \u001b[0ma\u001b[0m\u001b[0;34m.\u001b[0m\u001b[0mdraw\u001b[0m\u001b[0;34m(\u001b[0m\u001b[0mrenderer\u001b[0m\u001b[0;34m)\u001b[0m\u001b[0;34m\u001b[0m\u001b[0m\n\u001b[0m\u001b[1;32m    139\u001b[0m     \u001b[0;32melse\u001b[0m\u001b[0;34m:\u001b[0m\u001b[0;34m\u001b[0m\u001b[0m\n\u001b[1;32m    140\u001b[0m         \u001b[0;31m# Composite any adjacent images together\u001b[0m\u001b[0;34m\u001b[0m\u001b[0;34m\u001b[0m\u001b[0m\n",
      "\u001b[0;32m~/Apps/anaconda3/envs/HS/lib/python3.6/site-packages/matplotlib/artist.py\u001b[0m in \u001b[0;36mdraw_wrapper\u001b[0;34m(artist, renderer, *args, **kwargs)\u001b[0m\n\u001b[1;32m     48\u001b[0m                 \u001b[0mrenderer\u001b[0m\u001b[0;34m.\u001b[0m\u001b[0mstart_filter\u001b[0m\u001b[0;34m(\u001b[0m\u001b[0;34m)\u001b[0m\u001b[0;34m\u001b[0m\u001b[0m\n\u001b[1;32m     49\u001b[0m \u001b[0;34m\u001b[0m\u001b[0m\n\u001b[0;32m---> 50\u001b[0;31m             \u001b[0;32mreturn\u001b[0m \u001b[0mdraw\u001b[0m\u001b[0;34m(\u001b[0m\u001b[0martist\u001b[0m\u001b[0;34m,\u001b[0m \u001b[0mrenderer\u001b[0m\u001b[0;34m,\u001b[0m \u001b[0;34m*\u001b[0m\u001b[0margs\u001b[0m\u001b[0;34m,\u001b[0m \u001b[0;34m**\u001b[0m\u001b[0mkwargs\u001b[0m\u001b[0;34m)\u001b[0m\u001b[0;34m\u001b[0m\u001b[0m\n\u001b[0m\u001b[1;32m     51\u001b[0m         \u001b[0;32mfinally\u001b[0m\u001b[0;34m:\u001b[0m\u001b[0;34m\u001b[0m\u001b[0m\n\u001b[1;32m     52\u001b[0m             \u001b[0;32mif\u001b[0m \u001b[0martist\u001b[0m\u001b[0;34m.\u001b[0m\u001b[0mget_agg_filter\u001b[0m\u001b[0;34m(\u001b[0m\u001b[0;34m)\u001b[0m \u001b[0;32mis\u001b[0m \u001b[0;32mnot\u001b[0m \u001b[0;32mNone\u001b[0m\u001b[0;34m:\u001b[0m\u001b[0;34m\u001b[0m\u001b[0m\n",
      "\u001b[0;32m~/Apps/anaconda3/envs/HS/lib/python3.6/site-packages/matplotlib/text.py\u001b[0m in \u001b[0;36mdraw\u001b[0;34m(self, renderer)\u001b[0m\n\u001b[1;32m    707\u001b[0m \u001b[0;34m\u001b[0m\u001b[0m\n\u001b[1;32m    708\u001b[0m         \u001b[0;32mwith\u001b[0m \u001b[0m_wrap_text\u001b[0m\u001b[0;34m(\u001b[0m\u001b[0mself\u001b[0m\u001b[0;34m)\u001b[0m \u001b[0;32mas\u001b[0m \u001b[0mtextobj\u001b[0m\u001b[0;34m:\u001b[0m\u001b[0;34m\u001b[0m\u001b[0m\n\u001b[0;32m--> 709\u001b[0;31m             \u001b[0mbbox\u001b[0m\u001b[0;34m,\u001b[0m \u001b[0minfo\u001b[0m\u001b[0;34m,\u001b[0m \u001b[0mdescent\u001b[0m \u001b[0;34m=\u001b[0m \u001b[0mtextobj\u001b[0m\u001b[0;34m.\u001b[0m\u001b[0m_get_layout\u001b[0m\u001b[0;34m(\u001b[0m\u001b[0mrenderer\u001b[0m\u001b[0;34m)\u001b[0m\u001b[0;34m\u001b[0m\u001b[0m\n\u001b[0m\u001b[1;32m    710\u001b[0m             \u001b[0mtrans\u001b[0m \u001b[0;34m=\u001b[0m \u001b[0mtextobj\u001b[0m\u001b[0;34m.\u001b[0m\u001b[0mget_transform\u001b[0m\u001b[0;34m(\u001b[0m\u001b[0;34m)\u001b[0m\u001b[0;34m\u001b[0m\u001b[0m\n\u001b[1;32m    711\u001b[0m \u001b[0;34m\u001b[0m\u001b[0m\n",
      "\u001b[0;32m~/Apps/anaconda3/envs/HS/lib/python3.6/site-packages/matplotlib/text.py\u001b[0m in \u001b[0;36m_get_layout\u001b[0;34m(self, renderer)\u001b[0m\n\u001b[1;32m    311\u001b[0m                 w, h, d = renderer.get_text_width_height_descent(clean_line,\n\u001b[1;32m    312\u001b[0m                                                         \u001b[0mself\u001b[0m\u001b[0;34m.\u001b[0m\u001b[0m_fontproperties\u001b[0m\u001b[0;34m,\u001b[0m\u001b[0;34m\u001b[0m\u001b[0m\n\u001b[0;32m--> 313\u001b[0;31m                                                         ismath=ismath)\n\u001b[0m\u001b[1;32m    314\u001b[0m             \u001b[0;32melse\u001b[0m\u001b[0;34m:\u001b[0m\u001b[0;34m\u001b[0m\u001b[0m\n\u001b[1;32m    315\u001b[0m                 \u001b[0mw\u001b[0m\u001b[0;34m,\u001b[0m \u001b[0mh\u001b[0m\u001b[0;34m,\u001b[0m \u001b[0md\u001b[0m \u001b[0;34m=\u001b[0m \u001b[0;36m0\u001b[0m\u001b[0;34m,\u001b[0m \u001b[0;36m0\u001b[0m\u001b[0;34m,\u001b[0m \u001b[0;36m0\u001b[0m\u001b[0;34m\u001b[0m\u001b[0m\n",
      "\u001b[0;32m~/Apps/anaconda3/envs/HS/lib/python3.6/site-packages/matplotlib/backends/backend_agg.py\u001b[0m in \u001b[0;36mget_text_width_height_descent\u001b[0;34m(self, s, prop, ismath)\u001b[0m\n\u001b[1;32m    207\u001b[0m             \u001b[0mfontsize\u001b[0m \u001b[0;34m=\u001b[0m \u001b[0mprop\u001b[0m\u001b[0;34m.\u001b[0m\u001b[0mget_size_in_points\u001b[0m\u001b[0;34m(\u001b[0m\u001b[0;34m)\u001b[0m\u001b[0;34m\u001b[0m\u001b[0m\n\u001b[1;32m    208\u001b[0m             w, h, d = texmanager.get_text_width_height_descent(\n\u001b[0;32m--> 209\u001b[0;31m                 s, fontsize, renderer=self)\n\u001b[0m\u001b[1;32m    210\u001b[0m             \u001b[0;32mreturn\u001b[0m \u001b[0mw\u001b[0m\u001b[0;34m,\u001b[0m \u001b[0mh\u001b[0m\u001b[0;34m,\u001b[0m \u001b[0md\u001b[0m\u001b[0;34m\u001b[0m\u001b[0m\n\u001b[1;32m    211\u001b[0m \u001b[0;34m\u001b[0m\u001b[0m\n",
      "\u001b[0;32m~/Apps/anaconda3/envs/HS/lib/python3.6/site-packages/matplotlib/texmanager.py\u001b[0m in \u001b[0;36mget_text_width_height_descent\u001b[0;34m(self, tex, fontsize, renderer)\u001b[0m\n\u001b[1;32m    462\u001b[0m         \u001b[0;32melse\u001b[0m\u001b[0;34m:\u001b[0m\u001b[0;34m\u001b[0m\u001b[0m\n\u001b[1;32m    463\u001b[0m             \u001b[0;31m# use dviread. It sometimes returns a wrong descent.\u001b[0m\u001b[0;34m\u001b[0m\u001b[0;34m\u001b[0m\u001b[0m\n\u001b[0;32m--> 464\u001b[0;31m             \u001b[0mdvifile\u001b[0m \u001b[0;34m=\u001b[0m \u001b[0mself\u001b[0m\u001b[0;34m.\u001b[0m\u001b[0mmake_dvi\u001b[0m\u001b[0;34m(\u001b[0m\u001b[0mtex\u001b[0m\u001b[0;34m,\u001b[0m \u001b[0mfontsize\u001b[0m\u001b[0;34m)\u001b[0m\u001b[0;34m\u001b[0m\u001b[0m\n\u001b[0m\u001b[1;32m    465\u001b[0m             \u001b[0;32mwith\u001b[0m \u001b[0mdviread\u001b[0m\u001b[0;34m.\u001b[0m\u001b[0mDvi\u001b[0m\u001b[0;34m(\u001b[0m\u001b[0mdvifile\u001b[0m\u001b[0;34m,\u001b[0m \u001b[0;36m72\u001b[0m \u001b[0;34m*\u001b[0m \u001b[0mdpi_fraction\u001b[0m\u001b[0;34m)\u001b[0m \u001b[0;32mas\u001b[0m \u001b[0mdvi\u001b[0m\u001b[0;34m:\u001b[0m\u001b[0;34m\u001b[0m\u001b[0m\n\u001b[1;32m    466\u001b[0m                 \u001b[0mpage\u001b[0m \u001b[0;34m=\u001b[0m \u001b[0mnext\u001b[0m\u001b[0;34m(\u001b[0m\u001b[0miter\u001b[0m\u001b[0;34m(\u001b[0m\u001b[0mdvi\u001b[0m\u001b[0;34m)\u001b[0m\u001b[0;34m)\u001b[0m\u001b[0;34m\u001b[0m\u001b[0m\n",
      "\u001b[0;32m~/Apps/anaconda3/envs/HS/lib/python3.6/site-packages/matplotlib/texmanager.py\u001b[0m in \u001b[0;36mmake_dvi\u001b[0;34m(self, tex, fontsize)\u001b[0m\n\u001b[1;32m    326\u001b[0m                 self._run_checked_subprocess(\n\u001b[1;32m    327\u001b[0m                     [\"latex\", \"-interaction=nonstopmode\", \"--halt-on-error\",\n\u001b[0;32m--> 328\u001b[0;31m                      texfile], tex)\n\u001b[0m\u001b[1;32m    329\u001b[0m             \u001b[0;32mfor\u001b[0m \u001b[0mfname\u001b[0m \u001b[0;32min\u001b[0m \u001b[0mglob\u001b[0m\u001b[0;34m.\u001b[0m\u001b[0mglob\u001b[0m\u001b[0;34m(\u001b[0m\u001b[0mbasefile\u001b[0m \u001b[0;34m+\u001b[0m \u001b[0;34m'*'\u001b[0m\u001b[0;34m)\u001b[0m\u001b[0;34m:\u001b[0m\u001b[0;34m\u001b[0m\u001b[0m\n\u001b[1;32m    330\u001b[0m                 \u001b[0;32mif\u001b[0m \u001b[0;32mnot\u001b[0m \u001b[0mfname\u001b[0m\u001b[0;34m.\u001b[0m\u001b[0mendswith\u001b[0m\u001b[0;34m(\u001b[0m\u001b[0;34m(\u001b[0m\u001b[0;34m'dvi'\u001b[0m\u001b[0;34m,\u001b[0m \u001b[0;34m'tex'\u001b[0m\u001b[0;34m)\u001b[0m\u001b[0;34m)\u001b[0m\u001b[0;34m:\u001b[0m\u001b[0;34m\u001b[0m\u001b[0m\n",
      "\u001b[0;32m~/Apps/anaconda3/envs/HS/lib/python3.6/site-packages/matplotlib/texmanager.py\u001b[0m in \u001b[0;36m_run_checked_subprocess\u001b[0;34m(self, command, tex)\u001b[0m\n\u001b[1;32m    305\u001b[0m                     \u001b[0mprog\u001b[0m\u001b[0;34m=\u001b[0m\u001b[0mcommand\u001b[0m\u001b[0;34m[\u001b[0m\u001b[0;36m0\u001b[0m\u001b[0;34m]\u001b[0m\u001b[0;34m,\u001b[0m\u001b[0;34m\u001b[0m\u001b[0m\n\u001b[1;32m    306\u001b[0m                     \u001b[0mtex\u001b[0m\u001b[0;34m=\u001b[0m\u001b[0mtex\u001b[0m\u001b[0;34m.\u001b[0m\u001b[0mencode\u001b[0m\u001b[0;34m(\u001b[0m\u001b[0;34m'unicode_escape'\u001b[0m\u001b[0;34m)\u001b[0m\u001b[0;34m,\u001b[0m\u001b[0;34m\u001b[0m\u001b[0m\n\u001b[0;32m--> 307\u001b[0;31m                     exc=exc.output.decode('utf-8')))\n\u001b[0m\u001b[1;32m    308\u001b[0m         \u001b[0m_log\u001b[0m\u001b[0;34m.\u001b[0m\u001b[0mdebug\u001b[0m\u001b[0;34m(\u001b[0m\u001b[0mreport\u001b[0m\u001b[0;34m)\u001b[0m\u001b[0;34m\u001b[0m\u001b[0m\n\u001b[1;32m    309\u001b[0m         \u001b[0;32mreturn\u001b[0m \u001b[0mreport\u001b[0m\u001b[0;34m\u001b[0m\u001b[0m\n",
      "\u001b[0;31mRuntimeError\u001b[0m: latex was not able to process the following string:\nb'fwhm parameter of First_Plasmon_Peak component Signal'\n\nHere is the full report generated by latex:\nThis is pdfTeX, Version 3.14159265-2.6-1.40.18 (TeX Live 2017) (preloaded format=latex)\n restricted \\write18 enabled.\nentering extended mode\n(/home/max/.cache/matplotlib/tex.cache/37df7ff511d07db1b9c75f88652206cd.tex\nLaTeX2e <2017-04-15>\nBabel <3.9r> and hyphenation patterns for 77 language(s) loaded.\n(/usr/share/texlive/texmf-dist/tex/latex/base/article.cls\nDocument Class: article 2014/09/29 v1.4h Standard LaTeX document class\n(/usr/share/texlive/texmf-dist/tex/latex/base/size10.clo))\n(/usr/share/texlive/texmf-dist/tex/latex/type1cm/type1cm.sty)\n(/usr/share/texlive/texmf-dist/tex/latex/base/textcomp.sty\n(/usr/share/texlive/texmf-dist/tex/latex/base/ts1enc.def))\n(/usr/share/texlive/texmf-dist/tex/latex/base/inputenc.sty\n(/usr/share/texlive/texmf-dist/tex/latex/base/utf8.def\n(/usr/share/texlive/texmf-dist/tex/latex/base/t1enc.dfu)\n(/usr/share/texlive/texmf-dist/tex/latex/base/ot1enc.dfu)\n(/usr/share/texlive/texmf-dist/tex/latex/base/omsenc.dfu)\n(/usr/share/texlive/texmf-dist/tex/latex/base/ts1enc.dfu)))\n(/usr/share/texlive/texmf-dist/tex/latex/siunitx/siunitx.sty\n(/usr/share/texlive/texmf-dist/tex/latex/l3kernel/expl3.sty\n(/usr/share/texlive/texmf-dist/tex/latex/l3kernel/expl3-code.tex)\n(/usr/share/texlive/texmf-dist/tex/latex/l3kernel/l3dvips.def))\n(/usr/share/texlive/texmf-dist/tex/latex/l3packages/xparse/xparse.sty)\n(/usr/share/texlive/texmf-dist/tex/latex/amsmath/amstext.sty\n(/usr/share/texlive/texmf-dist/tex/latex/amsmath/amsgen.sty))\n(/usr/share/texlive/texmf-dist/tex/latex/tools/array.sty)\n(/usr/share/texlive/texmf-dist/tex/latex/l3packages/l3keys2e/l3keys2e.sty)\n(/usr/share/texlive/texmf-dist/tex/latex/beamer/translator/translator.sty\n(/usr/share/texlive/texmf-dist/tex/latex/graphics/keyval.sty)\n(/usr/share/texlive/texmf-dist/tex/latex/beamer/translator/translator-language-\nmappings.tex))) (/usr/share/texlive/texmf-dist/tex/latex/tools/bm.sty)\n(/usr/share/texlive/texmf-dist/tex/latex/geometry/geometry.sty\n(/usr/share/texlive/texmf-dist/tex/generic/oberdiek/ifpdf.sty)\n(/usr/share/texlive/texmf-dist/tex/generic/oberdiek/ifvtex.sty)\n(/usr/share/texlive/texmf-dist/tex/generic/ifxetex/ifxetex.sty)\n\nPackage geometry Warning: Over-specification in `h'-direction.\n    `width' (5058.9pt) is ignored.\n\n\nPackage geometry Warning: Over-specification in `v'-direction.\n    `height' (5058.9pt) is ignored.\n\n) (./37df7ff511d07db1b9c75f88652206cd.aux)\n(/usr/share/texlive/texmf-dist/tex/latex/base/ts1cmr.fd)\n(/usr/share/texlive/texmf-dist/tex/latex/beamer/translator/dicts/translator-bas\nic-dictionary/translator-basic-dictionary-English.dict)\n(/usr/share/texlive/texmf-dist/tex/latex/siunitx/siunitx-abbreviations.cfg)\n*geometry* driver: auto-detecting\n*geometry* detected driver: dvips\n! Missing $ inserted.\n<inserted text> \n                $\nl.15 ...000000}{\\sffamily fwhm parameter of First_\n                                                  Plasmon_Peak component Sig...\nNo pages of output.\nTranscript written on 37df7ff511d07db1b9c75f88652206cd.log.\n\n\n"
     ]
    },
    {
     "name": "stderr",
     "output_type": "stream",
     "text": [
      "Traceback (most recent call last):\n",
      "  File \"/home/max/Apps/anaconda3/envs/HS/lib/python3.6/site-packages/matplotlib/texmanager.py\", line 298, in _run_checked_subprocess\n",
      "    stderr=subprocess.STDOUT)\n",
      "  File \"/home/max/Apps/anaconda3/envs/HS/lib/python3.6/subprocess.py\", line 336, in check_output\n",
      "    **kwargs).stdout\n",
      "  File \"/home/max/Apps/anaconda3/envs/HS/lib/python3.6/subprocess.py\", line 418, in run\n",
      "    output=stdout, stderr=stderr)\n",
      "subprocess.CalledProcessError: Command '['latex', '-interaction=nonstopmode', '--halt-on-error', '/home/max/.cache/matplotlib/tex.cache/37df7ff511d07db1b9c75f88652206cd.tex']' returned non-zero exit status 1.\n",
      "\n",
      "During handling of the above exception, another exception occurred:\n",
      "\n",
      "Traceback (most recent call last):\n",
      "  File \"/home/max/Apps/anaconda3/envs/HS/lib/python3.6/site-packages/matplotlib/backends/backend_qt5.py\", line 519, in _draw_idle\n",
      "    self.draw()\n",
      "  File \"/home/max/Apps/anaconda3/envs/HS/lib/python3.6/site-packages/matplotlib/backends/backend_agg.py\", line 402, in draw\n",
      "    self.figure.draw(self.renderer)\n",
      "  File \"/home/max/Apps/anaconda3/envs/HS/lib/python3.6/site-packages/matplotlib/artist.py\", line 50, in draw_wrapper\n",
      "    return draw(artist, renderer, *args, **kwargs)\n",
      "  File \"/home/max/Apps/anaconda3/envs/HS/lib/python3.6/site-packages/matplotlib/figure.py\", line 1652, in draw\n",
      "    renderer, self, artists, self.suppressComposite)\n",
      "  File \"/home/max/Apps/anaconda3/envs/HS/lib/python3.6/site-packages/matplotlib/image.py\", line 138, in _draw_list_compositing_images\n",
      "    a.draw(renderer)\n",
      "  File \"/home/max/Apps/anaconda3/envs/HS/lib/python3.6/site-packages/matplotlib/artist.py\", line 50, in draw_wrapper\n",
      "    return draw(artist, renderer, *args, **kwargs)\n",
      "  File \"/home/max/Apps/anaconda3/envs/HS/lib/python3.6/site-packages/matplotlib/axes/_base.py\", line 2604, in draw\n",
      "    mimage._draw_list_compositing_images(renderer, self, artists)\n",
      "  File \"/home/max/Apps/anaconda3/envs/HS/lib/python3.6/site-packages/matplotlib/image.py\", line 138, in _draw_list_compositing_images\n",
      "    a.draw(renderer)\n",
      "  File \"/home/max/Apps/anaconda3/envs/HS/lib/python3.6/site-packages/matplotlib/artist.py\", line 50, in draw_wrapper\n",
      "    return draw(artist, renderer, *args, **kwargs)\n",
      "  File \"/home/max/Apps/anaconda3/envs/HS/lib/python3.6/site-packages/matplotlib/text.py\", line 709, in draw\n",
      "    bbox, info, descent = textobj._get_layout(renderer)\n",
      "  File \"/home/max/Apps/anaconda3/envs/HS/lib/python3.6/site-packages/matplotlib/text.py\", line 313, in _get_layout\n",
      "    ismath=ismath)\n",
      "  File \"/home/max/Apps/anaconda3/envs/HS/lib/python3.6/site-packages/matplotlib/backends/backend_agg.py\", line 209, in get_text_width_height_descent\n",
      "    s, fontsize, renderer=self)\n",
      "  File \"/home/max/Apps/anaconda3/envs/HS/lib/python3.6/site-packages/matplotlib/texmanager.py\", line 464, in get_text_width_height_descent\n",
      "    dvifile = self.make_dvi(tex, fontsize)\n",
      "  File \"/home/max/Apps/anaconda3/envs/HS/lib/python3.6/site-packages/matplotlib/texmanager.py\", line 328, in make_dvi\n",
      "    texfile], tex)\n",
      "  File \"/home/max/Apps/anaconda3/envs/HS/lib/python3.6/site-packages/matplotlib/texmanager.py\", line 307, in _run_checked_subprocess\n",
      "    exc=exc.output.decode('utf-8')))\n",
      "RuntimeError: latex was not able to process the following string:\n",
      "b'fwhm parameter of First_Plasmon_Peak component Signal'\n",
      "\n",
      "Here is the full report generated by latex:\n",
      "This is pdfTeX, Version 3.14159265-2.6-1.40.18 (TeX Live 2017) (preloaded format=latex)\n",
      " restricted \\write18 enabled.\n",
      "entering extended mode\n",
      "(/home/max/.cache/matplotlib/tex.cache/37df7ff511d07db1b9c75f88652206cd.tex\n",
      "LaTeX2e <2017-04-15>\n",
      "Babel <3.9r> and hyphenation patterns for 77 language(s) loaded.\n",
      "(/usr/share/texlive/texmf-dist/tex/latex/base/article.cls\n",
      "Document Class: article 2014/09/29 v1.4h Standard LaTeX document class\n",
      "(/usr/share/texlive/texmf-dist/tex/latex/base/size10.clo))\n",
      "(/usr/share/texlive/texmf-dist/tex/latex/type1cm/type1cm.sty)\n",
      "(/usr/share/texlive/texmf-dist/tex/latex/base/textcomp.sty\n",
      "(/usr/share/texlive/texmf-dist/tex/latex/base/ts1enc.def))\n",
      "(/usr/share/texlive/texmf-dist/tex/latex/base/inputenc.sty\n",
      "(/usr/share/texlive/texmf-dist/tex/latex/base/utf8.def\n",
      "(/usr/share/texlive/texmf-dist/tex/latex/base/t1enc.dfu)\n",
      "(/usr/share/texlive/texmf-dist/tex/latex/base/ot1enc.dfu)\n",
      "(/usr/share/texlive/texmf-dist/tex/latex/base/omsenc.dfu)\n",
      "(/usr/share/texlive/texmf-dist/tex/latex/base/ts1enc.dfu)))\n",
      "(/usr/share/texlive/texmf-dist/tex/latex/siunitx/siunitx.sty\n",
      "(/usr/share/texlive/texmf-dist/tex/latex/l3kernel/expl3.sty\n",
      "(/usr/share/texlive/texmf-dist/tex/latex/l3kernel/expl3-code.tex)\n",
      "(/usr/share/texlive/texmf-dist/tex/latex/l3kernel/l3dvips.def))\n",
      "(/usr/share/texlive/texmf-dist/tex/latex/l3packages/xparse/xparse.sty)\n",
      "(/usr/share/texlive/texmf-dist/tex/latex/amsmath/amstext.sty\n",
      "(/usr/share/texlive/texmf-dist/tex/latex/amsmath/amsgen.sty))\n",
      "(/usr/share/texlive/texmf-dist/tex/latex/tools/array.sty)\n",
      "(/usr/share/texlive/texmf-dist/tex/latex/l3packages/l3keys2e/l3keys2e.sty)\n",
      "(/usr/share/texlive/texmf-dist/tex/latex/beamer/translator/translator.sty\n",
      "(/usr/share/texlive/texmf-dist/tex/latex/graphics/keyval.sty)\n",
      "(/usr/share/texlive/texmf-dist/tex/latex/beamer/translator/translator-language-\n",
      "mappings.tex))) (/usr/share/texlive/texmf-dist/tex/latex/tools/bm.sty)\n",
      "(/usr/share/texlive/texmf-dist/tex/latex/geometry/geometry.sty\n",
      "(/usr/share/texlive/texmf-dist/tex/generic/oberdiek/ifpdf.sty)\n",
      "(/usr/share/texlive/texmf-dist/tex/generic/oberdiek/ifvtex.sty)\n",
      "(/usr/share/texlive/texmf-dist/tex/generic/ifxetex/ifxetex.sty)\n",
      "\n",
      "Package geometry Warning: Over-specification in `h'-direction.\n",
      "    `width' (5058.9pt) is ignored.\n",
      "\n",
      "\n",
      "Package geometry Warning: Over-specification in `v'-direction.\n",
      "    `height' (5058.9pt) is ignored.\n",
      "\n",
      ") (./37df7ff511d07db1b9c75f88652206cd.aux)\n",
      "(/usr/share/texlive/texmf-dist/tex/latex/base/ts1cmr.fd)\n",
      "(/usr/share/texlive/texmf-dist/tex/latex/beamer/translator/dicts/translator-bas\n",
      "ic-dictionary/translator-basic-dictionary-English.dict)\n",
      "(/usr/share/texlive/texmf-dist/tex/latex/siunitx/siunitx-abbreviations.cfg)\n",
      "*geometry* driver: auto-detecting\n",
      "*geometry* detected driver: dvips\n",
      "! Missing $ inserted.\n",
      "<inserted text> \n",
      "                $\n",
      "l.15 ...000000}{\\sffamily fwhm parameter of First_\n",
      "                                                  Plasmon_Peak component Sig...\n",
      "No pages of output.\n",
      "Transcript written on 37df7ff511d07db1b9c75f88652206cd.log.\n",
      "\n",
      "\n",
      "\n",
      "Traceback (most recent call last):\n",
      "  File \"/home/max/Apps/anaconda3/envs/HS/lib/python3.6/site-packages/matplotlib/texmanager.py\", line 298, in _run_checked_subprocess\n",
      "    stderr=subprocess.STDOUT)\n",
      "  File \"/home/max/Apps/anaconda3/envs/HS/lib/python3.6/subprocess.py\", line 336, in check_output\n",
      "    **kwargs).stdout\n",
      "  File \"/home/max/Apps/anaconda3/envs/HS/lib/python3.6/subprocess.py\", line 418, in run\n",
      "    output=stdout, stderr=stderr)\n",
      "subprocess.CalledProcessError: Command '['latex', '-interaction=nonstopmode', '--halt-on-error', '/home/max/.cache/matplotlib/tex.cache/37df7ff511d07db1b9c75f88652206cd.tex']' returned non-zero exit status 1.\n",
      "\n",
      "During handling of the above exception, another exception occurred:\n",
      "\n",
      "Traceback (most recent call last):\n",
      "  File \"/home/max/Apps/anaconda3/envs/HS/lib/python3.6/site-packages/matplotlib/backends/backend_qt5.py\", line 519, in _draw_idle\n",
      "    self.draw()\n",
      "  File \"/home/max/Apps/anaconda3/envs/HS/lib/python3.6/site-packages/matplotlib/backends/backend_agg.py\", line 402, in draw\n",
      "    self.figure.draw(self.renderer)\n",
      "  File \"/home/max/Apps/anaconda3/envs/HS/lib/python3.6/site-packages/matplotlib/artist.py\", line 50, in draw_wrapper\n",
      "    return draw(artist, renderer, *args, **kwargs)\n",
      "  File \"/home/max/Apps/anaconda3/envs/HS/lib/python3.6/site-packages/matplotlib/figure.py\", line 1652, in draw\n",
      "    renderer, self, artists, self.suppressComposite)\n",
      "  File \"/home/max/Apps/anaconda3/envs/HS/lib/python3.6/site-packages/matplotlib/image.py\", line 138, in _draw_list_compositing_images\n",
      "    a.draw(renderer)\n",
      "  File \"/home/max/Apps/anaconda3/envs/HS/lib/python3.6/site-packages/matplotlib/artist.py\", line 50, in draw_wrapper\n",
      "    return draw(artist, renderer, *args, **kwargs)\n",
      "  File \"/home/max/Apps/anaconda3/envs/HS/lib/python3.6/site-packages/matplotlib/axes/_base.py\", line 2604, in draw\n",
      "    mimage._draw_list_compositing_images(renderer, self, artists)\n",
      "  File \"/home/max/Apps/anaconda3/envs/HS/lib/python3.6/site-packages/matplotlib/image.py\", line 138, in _draw_list_compositing_images\n",
      "    a.draw(renderer)\n",
      "  File \"/home/max/Apps/anaconda3/envs/HS/lib/python3.6/site-packages/matplotlib/artist.py\", line 50, in draw_wrapper\n",
      "    return draw(artist, renderer, *args, **kwargs)\n",
      "  File \"/home/max/Apps/anaconda3/envs/HS/lib/python3.6/site-packages/matplotlib/text.py\", line 709, in draw\n",
      "    bbox, info, descent = textobj._get_layout(renderer)\n",
      "  File \"/home/max/Apps/anaconda3/envs/HS/lib/python3.6/site-packages/matplotlib/text.py\", line 313, in _get_layout\n",
      "    ismath=ismath)\n",
      "  File \"/home/max/Apps/anaconda3/envs/HS/lib/python3.6/site-packages/matplotlib/backends/backend_agg.py\", line 209, in get_text_width_height_descent\n",
      "    s, fontsize, renderer=self)\n",
      "  File \"/home/max/Apps/anaconda3/envs/HS/lib/python3.6/site-packages/matplotlib/texmanager.py\", line 464, in get_text_width_height_descent\n",
      "    dvifile = self.make_dvi(tex, fontsize)\n",
      "  File \"/home/max/Apps/anaconda3/envs/HS/lib/python3.6/site-packages/matplotlib/texmanager.py\", line 328, in make_dvi\n",
      "    texfile], tex)\n",
      "  File \"/home/max/Apps/anaconda3/envs/HS/lib/python3.6/site-packages/matplotlib/texmanager.py\", line 307, in _run_checked_subprocess\n",
      "    exc=exc.output.decode('utf-8')))\n",
      "RuntimeError: latex was not able to process the following string:\n",
      "b'fwhm parameter of First_Plasmon_Peak component Signal'\n",
      "\n",
      "Here is the full report generated by latex:\n",
      "This is pdfTeX, Version 3.14159265-2.6-1.40.18 (TeX Live 2017) (preloaded format=latex)\n",
      " restricted \\write18 enabled.\n",
      "entering extended mode\n",
      "(/home/max/.cache/matplotlib/tex.cache/37df7ff511d07db1b9c75f88652206cd.tex\n",
      "LaTeX2e <2017-04-15>\n",
      "Babel <3.9r> and hyphenation patterns for 77 language(s) loaded.\n",
      "(/usr/share/texlive/texmf-dist/tex/latex/base/article.cls\n",
      "Document Class: article 2014/09/29 v1.4h Standard LaTeX document class\n",
      "(/usr/share/texlive/texmf-dist/tex/latex/base/size10.clo))\n",
      "(/usr/share/texlive/texmf-dist/tex/latex/type1cm/type1cm.sty)\n",
      "(/usr/share/texlive/texmf-dist/tex/latex/base/textcomp.sty\n",
      "(/usr/share/texlive/texmf-dist/tex/latex/base/ts1enc.def))\n",
      "(/usr/share/texlive/texmf-dist/tex/latex/base/inputenc.sty\n",
      "(/usr/share/texlive/texmf-dist/tex/latex/base/utf8.def\n",
      "(/usr/share/texlive/texmf-dist/tex/latex/base/t1enc.dfu)\n",
      "(/usr/share/texlive/texmf-dist/tex/latex/base/ot1enc.dfu)\n",
      "(/usr/share/texlive/texmf-dist/tex/latex/base/omsenc.dfu)\n",
      "(/usr/share/texlive/texmf-dist/tex/latex/base/ts1enc.dfu)))\n",
      "(/usr/share/texlive/texmf-dist/tex/latex/siunitx/siunitx.sty\n",
      "(/usr/share/texlive/texmf-dist/tex/latex/l3kernel/expl3.sty\n",
      "(/usr/share/texlive/texmf-dist/tex/latex/l3kernel/expl3-code.tex)\n",
      "(/usr/share/texlive/texmf-dist/tex/latex/l3kernel/l3dvips.def))\n",
      "(/usr/share/texlive/texmf-dist/tex/latex/l3packages/xparse/xparse.sty)\n",
      "(/usr/share/texlive/texmf-dist/tex/latex/amsmath/amstext.sty\n",
      "(/usr/share/texlive/texmf-dist/tex/latex/amsmath/amsgen.sty))\n",
      "(/usr/share/texlive/texmf-dist/tex/latex/tools/array.sty)\n",
      "(/usr/share/texlive/texmf-dist/tex/latex/l3packages/l3keys2e/l3keys2e.sty)\n",
      "(/usr/share/texlive/texmf-dist/tex/latex/beamer/translator/translator.sty\n",
      "(/usr/share/texlive/texmf-dist/tex/latex/graphics/keyval.sty)\n",
      "(/usr/share/texlive/texmf-dist/tex/latex/beamer/translator/translator-language-\n",
      "mappings.tex))) (/usr/share/texlive/texmf-dist/tex/latex/tools/bm.sty)\n",
      "(/usr/share/texlive/texmf-dist/tex/latex/geometry/geometry.sty\n",
      "(/usr/share/texlive/texmf-dist/tex/generic/oberdiek/ifpdf.sty)\n",
      "(/usr/share/texlive/texmf-dist/tex/generic/oberdiek/ifvtex.sty)\n",
      "(/usr/share/texlive/texmf-dist/tex/generic/ifxetex/ifxetex.sty)\n",
      "\n",
      "Package geometry Warning: Over-specification in `h'-direction.\n",
      "    `width' (5058.9pt) is ignored.\n",
      "\n",
      "\n",
      "Package geometry Warning: Over-specification in `v'-direction.\n",
      "    `height' (5058.9pt) is ignored.\n",
      "\n",
      ") (./37df7ff511d07db1b9c75f88652206cd.aux)\n",
      "(/usr/share/texlive/texmf-dist/tex/latex/base/ts1cmr.fd)\n",
      "(/usr/share/texlive/texmf-dist/tex/latex/beamer/translator/dicts/translator-bas\n",
      "ic-dictionary/translator-basic-dictionary-English.dict)\n",
      "(/usr/share/texlive/texmf-dist/tex/latex/siunitx/siunitx-abbreviations.cfg)\n",
      "*geometry* driver: auto-detecting\n",
      "*geometry* detected driver: dvips\n",
      "! Missing $ inserted.\n",
      "<inserted text> \n",
      "                $\n",
      "l.15 ...000000}{\\sffamily fwhm parameter of First_\n",
      "                                                  Plasmon_Peak component Sig...\n",
      "No pages of output.\n",
      "Transcript written on 37df7ff511d07db1b9c75f88652206cd.log.\n",
      "\n",
      "\n",
      "\n"
     ]
    }
   ],
   "source": [
    "a.Param_Maps[3].plot()"
   ]
  },
  {
   "cell_type": "code",
   "execution_count": 13,
   "metadata": {
    "ExecuteTime": {
     "end_time": "2018-10-29T11:11:37.388680Z",
     "start_time": "2018-10-29T11:11:36.912548Z"
    }
   },
   "outputs": [],
   "source": [
    "a.Fit_Model.plot()"
   ]
  },
  {
   "cell_type": "code",
   "execution_count": 51,
   "metadata": {
    "ExecuteTime": {
     "end_time": "2018-10-12T11:21:14.391120Z",
     "start_time": "2018-10-12T11:21:14.281749Z"
    }
   },
   "outputs": [],
   "source": [
    "np.savetxt('fwhm_first_plasmon',a.Param_Maps[3])"
   ]
  },
  {
   "cell_type": "code",
   "execution_count": 116,
   "metadata": {
    "ExecuteTime": {
     "end_time": "2018-10-12T13:42:22.990765Z",
     "start_time": "2018-10-12T13:42:22.975140Z"
    }
   },
   "outputs": [],
   "source": [
    "Plasmon=a.Fit_Model.components.First_Plasmon_Peak."
   ]
  },
  {
   "cell_type": "code",
   "execution_count": 119,
   "metadata": {
    "ExecuteTime": {
     "end_time": "2018-10-12T13:43:54.445188Z",
     "start_time": "2018-10-12T13:43:54.429564Z"
    }
   },
   "outputs": [
    {
     "ename": "AttributeError",
     "evalue": "'Cauchy_Lorentz_Distribution' object has no attribute 'integrate1D'",
     "output_type": "error",
     "traceback": [
      "\u001b[1;31m---------------------------------------------------------------------------\u001b[0m",
      "\u001b[1;31mAttributeError\u001b[0m                            Traceback (most recent call last)",
      "\u001b[1;32m<ipython-input-119-903c2e69c627>\u001b[0m in \u001b[0;36m<module>\u001b[1;34m()\u001b[0m\n\u001b[1;32m----> 1\u001b[1;33m \u001b[0mPlasmon_int\u001b[0m\u001b[1;33m=\u001b[0m\u001b[0mPlasmon\u001b[0m\u001b[1;33m.\u001b[0m\u001b[0mintegrate1D\u001b[0m\u001b[1;33m(\u001b[0m\u001b[1;34m'Energy loss'\u001b[0m\u001b[1;33m)\u001b[0m\u001b[1;33m\u001b[0m\u001b[0m\n\u001b[0m",
      "\u001b[1;31mAttributeError\u001b[0m: 'Cauchy_Lorentz_Distribution' object has no attribute 'integrate1D'"
     ]
    }
   ],
   "source": [
    "Plasmon_int=Plasmon.integrate1D('Energy loss')"
   ]
  },
  {
   "cell_type": "code",
   "execution_count": 66,
   "metadata": {
    "ExecuteTime": {
     "end_time": "2018-10-12T12:55:20.098427Z",
     "start_time": "2018-10-12T12:55:19.957812Z"
    }
   },
   "outputs": [],
   "source": [
    "Plasmon_int.plot()"
   ]
  },
  {
   "cell_type": "code",
   "execution_count": 60,
   "metadata": {
    "ExecuteTime": {
     "end_time": "2018-10-12T12:03:30.614443Z",
     "start_time": "2018-10-12T12:03:30.505073Z"
    }
   },
   "outputs": [],
   "source": [
    "np.savetxt('Integral_of_First_Plasmon',Plasmon_int)"
   ]
  },
  {
   "cell_type": "markdown",
   "metadata": {},
   "source": [
    "## Test for Prof. Zaccone/Dr. Rösner --- Mean Dark_STZ"
   ]
  },
  {
   "cell_type": "code",
   "execution_count": 162,
   "metadata": {
    "ExecuteTime": {
     "end_time": "2018-10-12T14:20:19.699313Z",
     "start_time": "2018-10-12T14:20:19.449323Z"
    }
   },
   "outputs": [],
   "source": [
    "a.Fit_Model.inav[90:97,28:32].components.First_Plasmon_Peak.fwhm.plot()\n",
    "SB_dark_fwhm=a.Fit_Model.inav[90:97,28:32].components.First_Plasmon_Peak.fwhm.as_signal()"
   ]
  },
  {
   "cell_type": "code",
   "execution_count": 163,
   "metadata": {
    "ExecuteTime": {
     "end_time": "2018-10-12T15:03:12.650113Z",
     "start_time": "2018-10-12T15:03:12.400121Z"
    }
   },
   "outputs": [],
   "source": [
    "a.Fit_Model.inav[90:97,28:32].components.First_Plasmon_Peak.centre.plot()\n",
    "SB_dark_centre=a.Fit_Model.inav[90:97,28:32].components.First_Plasmon_Peak.centre.as_signal()"
   ]
  },
  {
   "cell_type": "code",
   "execution_count": 164,
   "metadata": {
    "ExecuteTime": {
     "end_time": "2018-10-12T15:04:17.702159Z",
     "start_time": "2018-10-12T15:04:17.452172Z"
    }
   },
   "outputs": [],
   "source": [
    "a.Fit_Model.inav[90:97,28:32].components.First_Plasmon_Peak.height.plot()\n",
    "SB_dark_height=a.Fit_Model.inav[90:97,28:32].components.First_Plasmon_Peak.height.as_signal()"
   ]
  },
  {
   "cell_type": "code",
   "execution_count": 165,
   "metadata": {
    "ExecuteTime": {
     "end_time": "2018-10-12T15:04:55.869703Z",
     "start_time": "2018-10-12T15:04:55.807205Z"
    }
   },
   "outputs": [],
   "source": [
    "np.savetxt('FürProfZaccone/MeanParameters&Maps/Parameters/dark_fwhm_mean', SB_dark_fwhm.mean((0,1)).data)\n",
    "np.savetxt('FürProfZaccone/MeanParameters&Maps/Parameters/dark_centre_mean', SB_dark_centre.mean((0,1)).data)\n",
    "np.savetxt('FürProfZaccone/MeanParameters&Maps/Parameters/dark_height_mean', SB_dark_height.mean((0,1)).data)"
   ]
  },
  {
   "cell_type": "code",
   "execution_count": 73,
   "metadata": {
    "ExecuteTime": {
     "end_time": "2018-10-13T15:02:37.500145Z",
     "start_time": "2018-10-13T15:02:36.896418Z"
    }
   },
   "outputs": [
    {
     "name": "stdout",
     "output_type": "stream",
     "text": [
      "Components\tParameter\tValue\n",
      "Zero_Loss_Peak\n",
      "\t\tcentre\t0.0209587\n",
      "\t\tfwhm\t0.477705\n",
      "\t\theight\t513614\n",
      "First_Plasmon_Peak\n",
      "\t\tcentre\t15.134\n",
      "\t\tfwhm\t1.16522\n",
      "\t\theight\t93803.9\n",
      "Second_Plasmon_Peak\n",
      "\t\tcentre\t30.7834\n",
      "\t\tfwhm\t6.19866\n",
      "\t\theight\t12561.3\n"
     ]
    }
   ],
   "source": [
    "im = hs.load('18.01.26 Spectrum image EELS.dm3')\n",
    "Mean_dark=im.inav[90:97,28:32].sum()/40\n",
    "model=Mean_dark.create_model(auto_background=False)\n",
    "function_1 = Cauchy_Lorentz_Distribution(height=60000.,centre=0.,fwhm=0.1)\n",
    "function_1.name = 'Zero_Loss_Peak'\n",
    "        \n",
    "function_2 = Cauchy_Lorentz_Distribution(centre=20.,height=1000.,fwhm=2.5)\n",
    "function_2.name = 'First_Plasmon_Peak'\n",
    "        \n",
    "function_3 = Cauchy_Lorentz_Distribution(centre=30.,height=100.,fwhm=2.)\n",
    "function_3.name = 'Second_Plasmon_Peak'\n",
    "\n",
    "model.extend([function_1, function_2, function_3])\n",
    "model.fit(fitter='leastsq',method='ls')\n",
    "model.plot(plot_components=True)\n",
    "model.print_current_values()\n",
    "model.red_chisq()\n",
    "np.savetxt('Mean_dark_EELS.txt',Mean_dark)"
   ]
  },
  {
   "cell_type": "markdown",
   "metadata": {},
   "source": [
    "## Test for Prof. Zaccone/Dr. Rösner --- Mean Bright_STZ"
   ]
  },
  {
   "cell_type": "code",
   "execution_count": 166,
   "metadata": {
    "ExecuteTime": {
     "end_time": "2018-10-12T15:06:04.766514Z",
     "start_time": "2018-10-12T15:06:04.516516Z"
    }
   },
   "outputs": [],
   "source": [
    "a.Fit_Model.inav[0:10,30:39].components.First_Plasmon_Peak.fwhm.plot()\n",
    "SB_bright_fwhm=a.Fit_Model.inav[0:10,30:39].components.First_Plasmon_Peak.fwhm.as_signal()"
   ]
  },
  {
   "cell_type": "code",
   "execution_count": 167,
   "metadata": {
    "ExecuteTime": {
     "end_time": "2018-10-12T15:06:30.789278Z",
     "start_time": "2018-10-12T15:06:30.523663Z"
    }
   },
   "outputs": [],
   "source": [
    "a.Fit_Model.inav[0:10,30:39].components.First_Plasmon_Peak.centre.plot()\n",
    "SB_bright_centre=a.Fit_Model.inav[0:10,30:39].components.First_Plasmon_Peak.centre.as_signal()"
   ]
  },
  {
   "cell_type": "code",
   "execution_count": 168,
   "metadata": {
    "ExecuteTime": {
     "end_time": "2018-10-12T15:06:45.048400Z",
     "start_time": "2018-10-12T15:06:44.798411Z"
    }
   },
   "outputs": [],
   "source": [
    "a.Fit_Model.inav[0:10,30:39].components.First_Plasmon_Peak.height.plot()\n",
    "SB_bright_height=a.Fit_Model.inav[0:10,30:39].components.First_Plasmon_Peak.height.as_signal()"
   ]
  },
  {
   "cell_type": "code",
   "execution_count": 169,
   "metadata": {
    "ExecuteTime": {
     "end_time": "2018-10-12T15:06:57.737626Z",
     "start_time": "2018-10-12T15:06:57.675129Z"
    }
   },
   "outputs": [],
   "source": [
    "np.savetxt('FürProfZaccone/MeanParameters&Maps/Parameters/bright_fwhm_mean', SB_bright_fwhm.mean((0,1)).data)\n",
    "np.savetxt('FürProfZaccone/MeanParameters&Maps/Parameters/bright_centre_mean', SB_bright_centre.mean((0,1)).data)\n",
    "np.savetxt('FürProfZaccone/MeanParameters&Maps/Parameters/bright_height_mean', SB_bright_height.mean((0,1)).data)"
   ]
  },
  {
   "cell_type": "code",
   "execution_count": 72,
   "metadata": {
    "ExecuteTime": {
     "end_time": "2018-10-13T15:02:30.623866Z",
     "start_time": "2018-10-13T15:02:30.142320Z"
    }
   },
   "outputs": [
    {
     "name": "stdout",
     "output_type": "stream",
     "text": [
      "Components\tParameter\tValue\n",
      "Zero_Loss_Peak\n",
      "\t\tcentre\t-0.0198949\n",
      "\t\tfwhm\t-0.480718\n",
      "\t\theight\t597978\n",
      "First_Plasmon_Peak\n",
      "\t\tcentre\t15.1314\n",
      "\t\tfwhm\t-1.25924\n",
      "\t\theight\t96029\n",
      "Second_Plasmon_Peak\n",
      "\t\tcentre\t30.965\n",
      "\t\tfwhm\t6.85571\n",
      "\t\theight\t13207.2\n"
     ]
    }
   ],
   "source": [
    "im = hs.load('18.01.26 Spectrum image EELS.dm3')\n",
    "Mean_bright=im.inav[0:10,30:39].sum()/110\n",
    "model=Mean_bright.create_model(auto_background=False)\n",
    "function_1 = Cauchy_Lorentz_Distribution(height=6000000.,centre=0.,fwhm=0.1)\n",
    "function_1.name = 'Zero_Loss_Peak'\n",
    "        \n",
    "function_2 = Cauchy_Lorentz_Distribution(centre=20.,height=100000.,fwhm=2.5)\n",
    "function_2.name = 'First_Plasmon_Peak'\n",
    "        \n",
    "function_3 = Cauchy_Lorentz_Distribution(centre=30.,height=10000.,fwhm=2.)\n",
    "function_3.name = 'Second_Plasmon_Peak'\n",
    "\n",
    "model.extend([function_1, function_2, function_3])\n",
    "model.fit(fitter='leastsq',method='ls')\n",
    "model.plot(plot_components=True)\n",
    "model.print_current_values()\n",
    "model.red_chisq()\n",
    "np.savetxt('Mean_bright_EELS.txt',Mean_bright)"
   ]
  },
  {
   "cell_type": "markdown",
   "metadata": {},
   "source": [
    "## Test for Prof. Zaccone/Dr. Rösner --- Mean Matrix_near_STZ"
   ]
  },
  {
   "cell_type": "code",
   "execution_count": 174,
   "metadata": {
    "ExecuteTime": {
     "end_time": "2018-10-12T15:07:56.596705Z",
     "start_time": "2018-10-12T15:07:56.377964Z"
    }
   },
   "outputs": [],
   "source": [
    "a.Fit_Model.inav[80:120,0:20].components.First_Plasmon_Peak.fwhm.plot()\n",
    "SB_matrix_fwhm=a.Fit_Model.inav[80:120,0:20].components.First_Plasmon_Peak.fwhm.as_signal()"
   ]
  },
  {
   "cell_type": "code",
   "execution_count": 175,
   "metadata": {
    "ExecuteTime": {
     "end_time": "2018-10-12T15:08:02.581858Z",
     "start_time": "2018-10-12T15:08:02.363118Z"
    }
   },
   "outputs": [],
   "source": [
    "a.Fit_Model.inav[80:120,0:20].components.First_Plasmon_Peak.centre.plot()\n",
    "SB_matrix_centre=a.Fit_Model.inav[80:120,0:20].components.First_Plasmon_Peak.centre.as_signal()"
   ]
  },
  {
   "cell_type": "code",
   "execution_count": 176,
   "metadata": {
    "ExecuteTime": {
     "end_time": "2018-10-12T15:08:09.193175Z",
     "start_time": "2018-10-12T15:08:08.958806Z"
    }
   },
   "outputs": [],
   "source": [
    "a.Fit_Model.inav[80:120,0:20].components.First_Plasmon_Peak.height.plot()\n",
    "SB_matrix_height=a.Fit_Model.inav[80:120,0:20].components.First_Plasmon_Peak.height.as_signal()"
   ]
  },
  {
   "cell_type": "code",
   "execution_count": 177,
   "metadata": {
    "ExecuteTime": {
     "end_time": "2018-10-12T15:08:11.362694Z",
     "start_time": "2018-10-12T15:08:11.300198Z"
    }
   },
   "outputs": [],
   "source": [
    "np.savetxt('FürProfZaccone/MeanParameters&Maps/Parameters/matrix_fwhm_mean', SB_matrix_fwhm.mean((0,1)).data)\n",
    "np.savetxt('FürProfZaccone/MeanParameters&Maps/Parameters/matrix_centre_mean', SB_matrix_centre.mean((0,1)).data)\n",
    "np.savetxt('FürProfZaccone/MeanParameters&Maps/Parameters/matrix_height_mean', SB_matrix_height.mean((0,1)).data)"
   ]
  },
  {
   "cell_type": "code",
   "execution_count": 79,
   "metadata": {
    "ExecuteTime": {
     "end_time": "2018-10-13T15:06:16.314689Z",
     "start_time": "2018-10-13T15:06:15.976472Z"
    }
   },
   "outputs": [
    {
     "data": {
      "text/plain": [
       "array([292144.66689305])"
      ]
     },
     "execution_count": 79,
     "metadata": {},
     "output_type": "execute_result"
    }
   ],
   "source": [
    "im = hs.load('18.01.26 Spectrum image EELS.dm3')\n",
    "Mean_matrix=im.inav[80:120,0:20].sum()/861\n",
    "model=Mean_matrix.create_model(auto_background=False)\n",
    "function_1 = Cauchy_Lorentz_Distribution(height=600000.,centre=0.,fwhm=0.1)\n",
    "function_1.name = 'Zero_Loss_Peak'\n",
    "        \n",
    "function_2 = Cauchy_Lorentz_Distribution(centre=20.,height=10000.,fwhm=2.5)\n",
    "function_2.name = 'First_Plasmon_Peak'\n",
    "        \n",
    "function_3 = Cauchy_Lorentz_Distribution(centre=30.,height=1000.,fwhm=2.)\n",
    "function_3.name = 'Second_Plasmon_Peak'\n",
    "\n",
    "model.extend([function_1, function_2, function_3])\n",
    "model.fit(fitter='leastsq',method='ls')\n",
    "#model.plot(plot_components=True)\n",
    "#model.print_current_values()\n",
    "model.red_chisq()\n",
    "#np.savetxt('Mean_matrix_EELS.txt',Mean_matrix)"
   ]
  },
  {
   "cell_type": "markdown",
   "metadata": {
    "ExecuteTime": {
     "end_time": "2018-09-07T11:50:43.994497Z",
     "start_time": "2018-09-07T11:50:43.814097Z"
    }
   },
   "source": [
    "# Testing _Logarithmic-Rescaling_ Script"
   ]
  },
  {
   "cell_type": "code",
   "execution_count": 143,
   "metadata": {
    "ExecuteTime": {
     "end_time": "2018-09-07T13:48:12.335497Z",
     "start_time": "2018-09-07T13:48:12.166497Z"
    }
   },
   "outputs": [
    {
     "name": "stdout",
     "output_type": "stream",
     "text": [
      "├── Acquisition_instrument\n",
      "│   └── TEM\n",
      "│       ├── Detector\n",
      "│       │   └── EELS\n",
      "│       │       ├── collection_angle = 5.800000190734863\n",
      "│       │       ├── exposure = 0.004\n",
      "│       │       └── frame_number = 20\n",
      "│       ├── acquisition_mode = TEM\n",
      "│       ├── beam_current = 0.0\n",
      "│       ├── beam_energy = 200.0\n",
      "│       ├── convergence_angle = 0.10000000149011612\n",
      "│       ├── magnification = 80000.0\n",
      "│       └── microscope = Zeiss\n",
      "├── General\n",
      "│   ├── date = 2018-02-16\n",
      "│   ├── original_filename = cBN_S2_eels_zeroloss_001.dm3\n",
      "│   ├── time = 14:14:14\n",
      "│   └── title = cBN_S2_eels_zeroloss_001\n",
      "└── Signal\n",
      "    ├── Noise_properties\n",
      "    │   └── Variance_linear_model\n",
      "    │       ├── gain_factor = 0.1344086080789566\n",
      "    │       └── gain_offset = 0.0\n",
      "    ├── binned = True\n",
      "    ├── quantity = Electrons (Counts)\n",
      "    └── signal_type = EELS\n",
      "\n",
      "<EELSSpectrum, title: cBN_S2_eels_zeroloss_001, dimensions: (|1024)>\n"
     ]
    },
    {
     "name": "stderr",
     "output_type": "stream",
     "text": [
      "C:\\Users\\m_grov01\\AppData\\Local\\conda\\conda\\envs\\Hyperspy\\lib\\site-packages\\ipykernel_launcher.py:21: RuntimeWarning: invalid value encountered in log\n"
     ]
    },
    {
     "ename": "ValueError",
     "evalue": "arange: cannot compute length",
     "output_type": "error",
     "traceback": [
      "\u001b[1;31m---------------------------------------------------------------------------\u001b[0m",
      "\u001b[1;31mValueError\u001b[0m                                Traceback (most recent call last)",
      "\u001b[1;32m<ipython-input-143-27ce4133aea4>\u001b[0m in \u001b[0;36m<module>\u001b[1;34m()\u001b[0m\n\u001b[0;32m     24\u001b[0m     \u001b[1;32mreturn\u001b[0m \u001b[0mx_axes\u001b[0m \u001b[1;31m#,y_axes\u001b[0m\u001b[1;33m\u001b[0m\u001b[0m\n\u001b[0;32m     25\u001b[0m \u001b[1;33m\u001b[0m\u001b[0m\n\u001b[1;32m---> 26\u001b[1;33m \u001b[0mresample_log\u001b[0m\u001b[1;33m(\u001b[0m\u001b[0mcreate_energy_axes\u001b[0m\u001b[1;33m(\u001b[0m\u001b[0mim\u001b[0m\u001b[1;33m)\u001b[0m\u001b[1;33m)\u001b[0m\u001b[1;33m\u001b[0m\u001b[0m\n\u001b[0m\u001b[0;32m     27\u001b[0m \u001b[1;31m#xnew = np.exp(np.arange(np.log(x[0]), np.log(x[-1]), np.log(x[-1]/x[0])/x.size))\u001b[0m\u001b[1;33m\u001b[0m\u001b[1;33m\u001b[0m\u001b[0m\n",
      "\u001b[1;32m<ipython-input-143-27ce4133aea4>\u001b[0m in \u001b[0;36mresample_log\u001b[1;34m(energy)\u001b[0m\n\u001b[0;32m     19\u001b[0m     \u001b[1;31m#xnew = np.arange(x[0], x[-1], (x[-1]-x[0])/x.size)\u001b[0m\u001b[1;33m\u001b[0m\u001b[1;33m\u001b[0m\u001b[0m\n\u001b[0;32m     20\u001b[0m     \u001b[1;31m#ynew = interpolate.splev(xnew, tck, der = n)\u001b[0m\u001b[1;33m\u001b[0m\u001b[1;33m\u001b[0m\u001b[0m\n\u001b[1;32m---> 21\u001b[1;33m     \u001b[0mx_axes\u001b[0m\u001b[1;33m=\u001b[0m\u001b[0mnp\u001b[0m\u001b[1;33m.\u001b[0m\u001b[0mexp\u001b[0m\u001b[1;33m(\u001b[0m\u001b[0mnp\u001b[0m\u001b[1;33m.\u001b[0m\u001b[0marange\u001b[0m\u001b[1;33m(\u001b[0m\u001b[0mnp\u001b[0m\u001b[1;33m.\u001b[0m\u001b[0mlog\u001b[0m\u001b[1;33m(\u001b[0m\u001b[0menergy\u001b[0m\u001b[1;33m[\u001b[0m\u001b[1;36m0\u001b[0m\u001b[1;33m]\u001b[0m\u001b[1;33m)\u001b[0m\u001b[1;33m,\u001b[0m \u001b[0mnp\u001b[0m\u001b[1;33m.\u001b[0m\u001b[0mlog\u001b[0m\u001b[1;33m(\u001b[0m\u001b[0menergy\u001b[0m\u001b[1;33m[\u001b[0m\u001b[1;33m-\u001b[0m\u001b[1;36m1\u001b[0m\u001b[1;33m]\u001b[0m\u001b[1;33m)\u001b[0m\u001b[1;33m,\u001b[0m \u001b[0mnp\u001b[0m\u001b[1;33m.\u001b[0m\u001b[0mlog\u001b[0m\u001b[1;33m(\u001b[0m\u001b[0menergy\u001b[0m\u001b[1;33m[\u001b[0m\u001b[1;33m-\u001b[0m\u001b[1;36m1\u001b[0m\u001b[1;33m]\u001b[0m\u001b[1;33m/\u001b[0m\u001b[0menergy\u001b[0m\u001b[1;33m[\u001b[0m\u001b[1;36m0\u001b[0m\u001b[1;33m]\u001b[0m\u001b[1;33m)\u001b[0m\u001b[1;33m/\u001b[0m\u001b[0menergy\u001b[0m\u001b[1;33m.\u001b[0m\u001b[0msize\u001b[0m\u001b[1;33m)\u001b[0m\u001b[1;33m)\u001b[0m\u001b[1;33m\u001b[0m\u001b[0m\n\u001b[0m\u001b[0;32m     22\u001b[0m     \u001b[1;31m#y_axes=\u001b[0m\u001b[1;33m\u001b[0m\u001b[1;33m\u001b[0m\u001b[0m\n\u001b[0;32m     23\u001b[0m     \u001b[0mprint\u001b[0m\u001b[1;33m(\u001b[0m\u001b[0mx_axes\u001b[0m\u001b[1;33m)\u001b[0m\u001b[1;33m\u001b[0m\u001b[0m\n",
      "\u001b[1;31mValueError\u001b[0m: arange: cannot compute length"
     ]
    }
   ],
   "source": [
    "im = hs.load('Testing/PraktikumTem/cBN_S2_eels_zeroloss_001.dm3')#Postion2 wahrscheinlich mit Carbon+cBN\n",
    "print(im.metadata)\n",
    "print(im)\n",
    "\n",
    "def create_energy_axes(im):\n",
    "    scale=im.axes_manager[-1].scale\n",
    "    offset=im.axes_manager[-1].offset\n",
    "    return np.linspace(0,len(im.data))*scale+offset\n",
    "\n",
    "def energy_axes_cut(energy):\n",
    "    calc_index=np.where(energy>=0)+1\n",
    "    np.copy(energy[calc_ind:-1])\n",
    "\n",
    "energy=create_energy_axes(im)\n",
    "im.plot()\n",
    "\n",
    "def resample_log(energy):\n",
    "    #tck = interpolate.splrep(x, y, s = sigma)\n",
    "    #xnew = np.arange(x[0], x[-1], (x[-1]-x[0])/x.size)\n",
    "    #ynew = interpolate.splev(xnew, tck, der = n)\n",
    "    x_axes=np.exp(np.arange(np.log(energy[0]), np.log(energy[-1]), np.log(energy[-1]/energy[0])/energy.size))\n",
    "    #y_axes=\n",
    "    print(x_axes)\n",
    "    return x_axes #,y_axes\n",
    "\n",
    "resample_log(create_energy_axes(im))\n",
    "#xnew = np.exp(np.arange(np.log(x[0]), np.log(x[-1]), np.log(x[-1]/x[0])/x.size))"
   ]
  }
 ],
 "metadata": {
  "_draft": {
   "nbviewer_url": "https://gist.github.com/bca836641b9329485504061850cb8679"
  },
  "gist": {
   "data": {
    "description": "STZ_Heatmapv02.ipynb",
    "public": false
   },
   "id": "bca836641b9329485504061850cb8679"
  },
  "kernelspec": {
   "display_name": "Python 3",
   "language": "python",
   "name": "python3"
  },
  "language_info": {
   "codemirror_mode": {
    "name": "ipython",
    "version": 3
   },
   "file_extension": ".py",
   "mimetype": "text/x-python",
   "name": "python",
   "nbconvert_exporter": "python",
   "pygments_lexer": "ipython3",
   "version": "3.6.7"
  },
  "latex_envs": {
   "LaTeX_envs_menu_present": true,
   "autoclose": false,
   "autocomplete": true,
   "bibliofile": "biblio.bib",
   "cite_by": "apalike",
   "current_citInitial": 1,
   "eqLabelWithNumbers": true,
   "eqNumInitial": 1,
   "hotkeys": {
    "equation": "Ctrl-E",
    "itemize": "Ctrl-I"
   },
   "labels_anchors": false,
   "latex_user_defs": false,
   "report_style_numbering": false,
   "user_envs_cfg": false
  },
  "toc": {
   "base_numbering": 1,
   "nav_menu": {},
   "number_sections": true,
   "sideBar": true,
   "skip_h1_title": false,
   "title_cell": "Table of Contents",
   "title_sidebar": "Contents",
   "toc_cell": false,
   "toc_position": {},
   "toc_section_display": true,
   "toc_window_display": false
  }
 },
 "nbformat": 4,
 "nbformat_minor": 2
}
